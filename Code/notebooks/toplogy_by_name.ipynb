{
 "cells": [
  {
   "metadata": {
    "ExecuteTime": {
     "end_time": "2024-12-12T06:36:35.205539Z",
     "start_time": "2024-12-12T06:36:25.030967Z"
    }
   },
   "cell_type": "code",
   "source": [
    "## Run when initialise the code\n",
    "from Code.general_functions import *\n",
    "import geopandas as gpd\n",
    "import osmnx as ox\n",
    "from geopandas import GeoDataFrame, GeoSeries\n",
    "from osmnx import io\n",
    "\n",
    "from pandas import DataFrame\n",
    "\n",
    "project_crs = 'epsg:3857'\n",
    "from sklearn.cluster import DBSCAN\n",
    "from shapely.geometry import Point, LineString, MultiPolygon\n",
    "import math\n",
    "import warnings\n",
    "import pandas as pd\n",
    "\n",
    "from tqdm import tqdm\n",
    "import ast\n",
    "warnings.filterwarnings(action='ignore')\n",
    "from momepy import extend_lines\n",
    "import os\n",
    "pjr_loc = os.path.dirname(os.getcwd())\n",
    "from itertools import combinations\n",
    "import numpy as np\n",
    "from math import log2"
   ],
   "id": "ed9548b22fa6bd9",
   "execution_count": 1,
   "outputs": []
  },
  {
   "metadata": {
    "ExecuteTime": {
     "end_time": "2024-12-12T06:36:39.291034Z",
     "start_time": "2024-12-12T06:36:35.208606Z"
    }
   },
   "cell_type": "code",
   "source": [
    "# Preprocessing code\n",
    "# Define the data folder path\n",
    "# Construct the folder path for the data using the current working directory\n",
    "data_folder = os.path.join(os.path.dirname(os.getcwd()), 'places', 'run_SB', 'Santa_barbara_California')\n",
    "\n",
    "# Load the OSM data into a GeoDataFrame, specifying the 'edges' layer\n",
    "my_gdf = gpd.read_file(os.path.join(data_folder, 'osm_data.gpkg'), layer='edges')\n",
    "\n",
    "# Filter out unwanted road types (e.g., motorway, trunk, and their links)\n",
    "to_remove = my_gdf[~my_gdf['highway'].isin(['motorway', 'trunk', 'motorway_link', 'trunk_link'])]\n",
    "\n",
    "# Exclude rows where 'name' is NaN or an empty string, then convert CRS to project_crs\n",
    "df_pro = to_remove[~(to_remove['name'].isna() | (to_remove['name'] == ''))].to_crs(project_crs)\n",
    "\n",
    "# Function to safely convert valid string representations of lists to actual lists\n",
    "def convert_to_list(s):\n",
    "    \"\"\"\n",
    "    Converts a string representation of a list into a Python list.\n",
    "    \n",
    "    Parameters:\n",
    "    - s (str): The string to convert.\n",
    "    \n",
    "    Returns:\n",
    "    - The first element of the list if the string is a valid list representation.\n",
    "    - The original value if conversion fails.\n",
    "    \"\"\"\n",
    "    try:\n",
    "        return ast.literal_eval(s)[0]  # Extract the first element if the string is a valid list\n",
    "    except (ValueError, SyntaxError, TypeError):\n",
    "        return s  # Return the original value if the conversion fails\n",
    "\n",
    "# Apply the conversion function to 'name' and 'highway' columns\n",
    "df_pro['name'] = df_pro['name'].apply(convert_to_list)\n",
    "df_pro['highway'] = df_pro['highway'].apply(convert_to_list)\n"
   ],
   "id": "fc324e9ae2a8116f",
   "execution_count": 2,
   "outputs": []
  },
  {
   "metadata": {},
   "cell_type": "code",
   "execution_count": null,
   "source": [
    "## Spatial Join for Streets\n",
    "\n",
    "# Variables for street name fields\n",
    "str_name = 'name_left'  # Field representing the name of the current street\n",
    "con_str_name = 'name_right'  # Field representing the name of the connected street\n",
    "\n",
    "# Step 1: Copy the original network dataframe\n",
    "# This ensures the original data remains unchanged during processing\n",
    "df_analysis = df_pro.copy()\n",
    "\n",
    "# Step 2: Perform a spatial join\n",
    "# This operation joins the street data with itself to find connections\n",
    "gpd.sjoin(df_analysis, df_pro)\n",
    "s_join_analysis = gpd.sjoin(df_analysis, df_pro)\n",
    "\n",
    "# Step 3: Filter streets to find only those with different names\n",
    "# Filtering ensures we focus only on streets that are not self-connected\n",
    "s_join_analysis2 = s_join_analysis[s_join_analysis[str_name] != s_join_analysis[con_str_name]]\n",
    "\n",
    "# Step 4: Group the data by street name\n",
    "# This prepares the data for analyzing connections\n",
    "group_name = s_join_analysis2.groupby(str_name)\n",
    "\n",
    "# Initialize a dictionary to store connected streets\n",
    "dic_data = {}\n",
    "\n",
    "def connected_streets(str_lines):\n",
    "    \"\"\"\n",
    "    Populate the dictionary with the name of the current street and all its connected streets.\n",
    "\n",
    "    :param str_lines: DataFrame containing street line information for a specific group\n",
    "    :return: None\n",
    "    \"\"\"\n",
    "    dic_data[str_lines[str_name].iloc[0]] = list(str_lines[con_str_name].unique())\n",
    "\n",
    "# Step 5: Apply the function to group data to populate the dictionary\n",
    "group_name.apply(connected_streets)\n",
    "\n",
    "# Step 6: Save the data as a DataFrame\n",
    "# Convert the dictionary to a DataFrame for easier analysis and storage\n",
    "connections = pd.DataFrame(dic_data.items(), columns=['street_name', 'connections'])\n"
   ],
   "id": "d033bc5cf467c92f",
   "outputs": []
  },
  {
   "metadata": {
    "ExecuteTime": {
     "end_time": "2024-12-12T07:24:20.661617Z",
     "start_time": "2024-12-12T07:24:20.583801Z"
    }
   },
   "cell_type": "code",
   "source": [
    "# Spatial join for roundabout\n",
    "roundabout =to_remove[((to_remove['junction'] == 'roundabout') | (to_remove['junction'] == 'circular'))]\n",
    "# create polygon around each polygon and union\n",
    "roundabout_buffer = roundabout['geometry'].buffer(cap_style=2,distance=10).unary_union\n",
    "# Create a GeoDataFrame\n",
    "roundabout_geo = gpd.GeoDataFrame({'geometry': roundabout_buffer.geoms}, crs=\"EPSG:4326\")\n",
    "s_join_roundabout = gpd.sjoin(df_pro,roundabout_geo)\n",
    "streets_with_roundabout = s_join_roundabout.groupby('name')['index_right'].apply(lambda x: list(set(x)))\n",
    "\n",
    "connections2= connections.set_index('street_name')\n",
    "connections2['roundabout_id'] = streets_with_roundabout"
   ],
   "id": "68f71445fad74629",
   "execution_count": 16,
   "outputs": []
  },
  {
   "metadata": {
    "ExecuteTime": {
     "end_time": "2024-12-12T08:06:20.778301Z",
     "start_time": "2024-12-12T08:06:20.685412Z"
    }
   },
   "cell_type": "code",
   "source": [
    "\n",
    "connections2.to_csv(f'{pjr_loc}/test/connections.csv')"
   ],
   "id": "f283719a99d86b60",
   "execution_count": 34,
   "outputs": []
  },
  {
   "metadata": {
    "ExecuteTime": {
     "end_time": "2024-12-12T08:05:03.672217Z",
     "start_time": "2024-12-12T08:05:03.661449Z"
    }
   },
   "cell_type": "code",
   "source": "pjr_loc",
   "id": "5978d69a5a21e749",
   "execution_count": 33,
   "outputs": []
  },
  {
   "metadata": {},
   "cell_type": "code",
   "execution_count": null,
   "source": "",
   "id": "60e4c05bfcf3d28f",
   "outputs": []
  }
 ],
 "metadata": {
  "kernelspec": {
   "display_name": "Python 3",
   "language": "python",
   "name": "python3"
  },
  "language_info": {
   "codemirror_mode": {
    "name": "ipython",
    "version": 2
   },
   "file_extension": ".py",
   "mimetype": "text/x-python",
   "name": "python",
   "nbconvert_exporter": "python",
   "pygments_lexer": "ipython2",
   "version": "2.7.6"
  }
 },
 "nbformat": 4,
 "nbformat_minor": 5
}
