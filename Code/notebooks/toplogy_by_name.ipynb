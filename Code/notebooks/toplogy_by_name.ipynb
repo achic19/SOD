{
 "cells": [
  {
   "metadata": {
    "ExecuteTime": {
     "end_time": "2024-12-08T07:46:29.188365Z",
     "start_time": "2024-12-08T07:46:29.165446Z"
    }
   },
   "cell_type": "code",
   "source": [
    "## Run when initialise the code\n",
    "from Code.general_functions import *\n",
    "import geopandas as gpd\n",
    "import osmnx as ox\n",
    "from geopandas import GeoDataFrame, GeoSeries\n",
    "from osmnx import io\n",
    "\n",
    "from pandas import DataFrame\n",
    "\n",
    "project_crs = 'epsg:3857'\n",
    "from sklearn.cluster import DBSCAN\n",
    "from shapely.geometry import Point, LineString, MultiPolygon\n",
    "import math\n",
    "import warnings\n",
    "import pandas as pd\n",
    "\n",
    "from tqdm import tqdm\n",
    "import ast\n",
    "warnings.filterwarnings(action='ignore')\n",
    "from momepy import extend_lines\n",
    "import os\n",
    "pjr_loc = os.path.dirname(os.getcwd())\n",
    "from itertools import combinations\n",
    "import numpy as np\n",
    "from math import log2"
   ],
   "id": "ed9548b22fa6bd9",
   "outputs": [],
   "execution_count": 7
  },
  {
   "metadata": {
    "ExecuteTime": {
     "end_time": "2024-12-08T07:47:01.482345Z",
     "start_time": "2024-12-08T07:46:58.870336Z"
    }
   },
   "cell_type": "code",
   "source": [
    "\n",
    "# Define the data folder path\n",
    "# Construct the folder path for the data using the current working directory\n",
    "data_folder = os.path.join(os.path.dirname(os.getcwd()), 'places', 'run_SB', 'Santa_barbara_California')\n",
    "\n",
    "# Load the OSM data into a GeoDataFrame, specifying the 'edges' layer\n",
    "my_gdf = gpd.read_file(os.path.join(data_folder, 'osm_data.gpkg'), layer='edges')\n",
    "\n",
    "# Filter out unwanted road types (e.g., motorway, trunk, and their links)\n",
    "to_remove = my_gdf[~my_gdf['highway'].isin(['motorway', 'trunk', 'motorway_link', 'trunk_link'])]\n",
    "\n",
    "# Exclude rows where 'name' is NaN or an empty string, then convert CRS to project_crs\n",
    "df_pro = to_remove[~(to_remove['name'].isna() | (to_remove['name'] == ''))].to_crs(project_crs)\n",
    "\n",
    "# Function to safely convert valid string representations of lists to actual lists\n",
    "def convert_to_list(s):\n",
    "    \"\"\"\n",
    "    Converts a string representation of a list into a Python list.\n",
    "    \n",
    "    Parameters:\n",
    "    - s (str): The string to convert.\n",
    "    \n",
    "    Returns:\n",
    "    - The first element of the list if the string is a valid list representation.\n",
    "    - The original value if conversion fails.\n",
    "    \"\"\"\n",
    "    try:\n",
    "        return ast.literal_eval(s)[0]  # Extract the first element if the string is a valid list\n",
    "    except (ValueError, SyntaxError, TypeError):\n",
    "        return s  # Return the original value if the conversion fails\n",
    "\n",
    "# Apply the conversion function to 'name' and 'highway' columns\n",
    "df_pro['name'] = df_pro['name'].apply(convert_to_list)\n",
    "df_pro['highway'] = df_pro['highway'].apply(convert_to_list)\n"
   ],
   "id": "fc324e9ae2a8116f",
   "outputs": [],
   "execution_count": 8
  },
  {
   "metadata": {
    "ExecuteTime": {
     "end_time": "2024-12-08T07:50:38.913711Z",
     "start_time": "2024-12-08T07:50:38.902646Z"
    }
   },
   "cell_type": "code",
   "source": [
    "# vars\n",
    "str_name = 'name_left'\n",
    "con_str_name = 'name_right'\n",
    "# 1.\tCopy network\n",
    "df_analysis = df_pro.copy()"
   ],
   "id": "7a33e26a4bc059c9",
   "outputs": [],
   "execution_count": 10
  },
  {
   "metadata": {
    "ExecuteTime": {
     "end_time": "2024-12-08T07:53:46.727346Z",
     "start_time": "2024-12-08T07:53:46.475402Z"
    }
   },
   "cell_type": "code",
   "source": "s_join_analysis = gpd.sjoin(df_analysis,df_pro)",
   "id": "cf2b078922f0414e",
   "outputs": [],
   "execution_count": 11
  },
  {
   "metadata": {
    "ExecuteTime": {
     "end_time": "2024-12-08T07:54:06.011059Z",
     "start_time": "2024-12-08T07:54:05.988791Z"
    }
   },
   "cell_type": "code",
   "source": "s_join_analysis2 = s_join_analysis[s_join_analysis[str_name]!=s_join_analysis[con_str_name]]",
   "id": "32ecf291bc1999eb",
   "outputs": [],
   "execution_count": 12
  },
  {
   "metadata": {
    "ExecuteTime": {
     "end_time": "2024-12-08T07:54:36.883939Z",
     "start_time": "2024-12-08T07:54:36.864757Z"
    }
   },
   "cell_type": "code",
   "source": "group_name = s_join_analysis2.groupby(str_name)",
   "id": "1711b3b8efb1a739",
   "outputs": [],
   "execution_count": 13
  },
  {
   "metadata": {
    "ExecuteTime": {
     "end_time": "2024-12-08T07:54:58.696528Z",
     "start_time": "2024-12-08T07:54:58.690098Z"
    }
   },
   "cell_type": "code",
   "source": "dic_data={}",
   "id": "ce1c6db32b55ee81",
   "outputs": [],
   "execution_count": 14
  },
  {
   "metadata": {
    "ExecuteTime": {
     "end_time": "2024-12-08T07:58:38.353684Z",
     "start_time": "2024-12-08T07:58:34.152756Z"
    }
   },
   "cell_type": "code",
   "source": [
    "def connected_streets(str_lines):\n",
    "    \"\"\"\n",
    "    Populate the dictionary with the name of the current street and all its connected streets.\n",
    "    :param str_lines:\n",
    "    :return:\n",
    "    \"\"\"\n",
    "\n",
    "    dic_data[str_lines[str_name].iloc[0]] =list(str_lines[con_str_name].unique())\n",
    "\n",
    "group_name.apply(connected_streets)\n",
    "dic_data"
   ],
   "id": "d3e3606bbeb4a4c0",
   "outputs": [
    {
     "ename": "KeyError",
     "evalue": "'is_simplif_left'",
     "output_type": "error",
     "traceback": [
      "\u001B[1;31m---------------------------------------------------------------------------\u001B[0m",
      "\u001B[1;31mKeyError\u001B[0m                                  Traceback (most recent call last)",
      "File \u001B[1;32m~\\anaconda3\\Lib\\site-packages\\pandas\\core\\indexes\\base.py:3791\u001B[0m, in \u001B[0;36mIndex.get_loc\u001B[1;34m(self, key)\u001B[0m\n\u001B[0;32m   3790\u001B[0m \u001B[38;5;28;01mtry\u001B[39;00m:\n\u001B[1;32m-> 3791\u001B[0m     \u001B[38;5;28;01mreturn\u001B[39;00m \u001B[38;5;28mself\u001B[39m\u001B[38;5;241m.\u001B[39m_engine\u001B[38;5;241m.\u001B[39mget_loc(casted_key)\n\u001B[0;32m   3792\u001B[0m \u001B[38;5;28;01mexcept\u001B[39;00m \u001B[38;5;167;01mKeyError\u001B[39;00m \u001B[38;5;28;01mas\u001B[39;00m err:\n",
      "File \u001B[1;32mindex.pyx:152\u001B[0m, in \u001B[0;36mpandas._libs.index.IndexEngine.get_loc\u001B[1;34m()\u001B[0m\n",
      "File \u001B[1;32mindex.pyx:181\u001B[0m, in \u001B[0;36mpandas._libs.index.IndexEngine.get_loc\u001B[1;34m()\u001B[0m\n",
      "File \u001B[1;32mpandas\\_libs\\hashtable_class_helper.pxi:7080\u001B[0m, in \u001B[0;36mpandas._libs.hashtable.PyObjectHashTable.get_item\u001B[1;34m()\u001B[0m\n",
      "File \u001B[1;32mpandas\\_libs\\hashtable_class_helper.pxi:7088\u001B[0m, in \u001B[0;36mpandas._libs.hashtable.PyObjectHashTable.get_item\u001B[1;34m()\u001B[0m\n",
      "\u001B[1;31mKeyError\u001B[0m: 'is_simplif_left'",
      "\nThe above exception was the direct cause of the following exception:\n",
      "\u001B[1;31mKeyError\u001B[0m                                  Traceback (most recent call last)",
      "Cell \u001B[1;32mIn[15], line 10\u001B[0m\n\u001B[0;32m      2\u001B[0m \u001B[38;5;250m    \u001B[39m\u001B[38;5;124;03m\"\"\"\u001B[39;00m\n\u001B[0;32m      3\u001B[0m \u001B[38;5;124;03m    Populate the dictionary with the name of the current street and all its connected streets.\u001B[39;00m\n\u001B[0;32m      4\u001B[0m \u001B[38;5;124;03m    :param str_lines:\u001B[39;00m\n\u001B[0;32m      5\u001B[0m \u001B[38;5;124;03m    :return:\u001B[39;00m\n\u001B[0;32m      6\u001B[0m \u001B[38;5;124;03m    \"\"\"\u001B[39;00m\n\u001B[0;32m      8\u001B[0m     dic_data[str_lines[str_name]\u001B[38;5;241m.\u001B[39miloc[\u001B[38;5;241m0\u001B[39m]] \u001B[38;5;241m=\u001B[39m(\u001B[38;5;28mlist\u001B[39m(str_lines[con_str_name]\u001B[38;5;241m.\u001B[39munique()),\u001B[38;5;28;01mTrue\u001B[39;00m \u001B[38;5;28;01mif\u001B[39;00m (str_lines[\u001B[38;5;124m'\u001B[39m\u001B[38;5;124mis_simplif_left\u001B[39m\u001B[38;5;124m'\u001B[39m] \u001B[38;5;241m==\u001B[39m \u001B[38;5;241m1\u001B[39m)\u001B[38;5;241m.\u001B[39many() \u001B[38;5;28;01melse\u001B[39;00m \u001B[38;5;28;01mFalse\u001B[39;00m)\n\u001B[1;32m---> 10\u001B[0m group_name\u001B[38;5;241m.\u001B[39mapply(connected_streets)\n\u001B[0;32m     11\u001B[0m dic_data\n",
      "File \u001B[1;32m~\\anaconda3\\Lib\\site-packages\\pandas\\core\\groupby\\groupby.py:1770\u001B[0m, in \u001B[0;36mGroupBy.apply\u001B[1;34m(self, func, *args, **kwargs)\u001B[0m\n\u001B[0;32m   1768\u001B[0m \u001B[38;5;28;01mwith\u001B[39;00m option_context(\u001B[38;5;124m\"\u001B[39m\u001B[38;5;124mmode.chained_assignment\u001B[39m\u001B[38;5;124m\"\u001B[39m, \u001B[38;5;28;01mNone\u001B[39;00m):\n\u001B[0;32m   1769\u001B[0m     \u001B[38;5;28;01mtry\u001B[39;00m:\n\u001B[1;32m-> 1770\u001B[0m         result \u001B[38;5;241m=\u001B[39m \u001B[38;5;28mself\u001B[39m\u001B[38;5;241m.\u001B[39m_python_apply_general(f, \u001B[38;5;28mself\u001B[39m\u001B[38;5;241m.\u001B[39m_selected_obj)\n\u001B[0;32m   1771\u001B[0m     \u001B[38;5;28;01mexcept\u001B[39;00m \u001B[38;5;167;01mTypeError\u001B[39;00m:\n\u001B[0;32m   1772\u001B[0m         \u001B[38;5;66;03m# gh-20949\u001B[39;00m\n\u001B[0;32m   1773\u001B[0m         \u001B[38;5;66;03m# try again, with .apply acting as a filtering\u001B[39;00m\n\u001B[1;32m   (...)\u001B[0m\n\u001B[0;32m   1777\u001B[0m         \u001B[38;5;66;03m# fails on *some* columns, e.g. a numeric operation\u001B[39;00m\n\u001B[0;32m   1778\u001B[0m         \u001B[38;5;66;03m# on a string grouper column\u001B[39;00m\n\u001B[0;32m   1780\u001B[0m         \u001B[38;5;28;01mreturn\u001B[39;00m \u001B[38;5;28mself\u001B[39m\u001B[38;5;241m.\u001B[39m_python_apply_general(f, \u001B[38;5;28mself\u001B[39m\u001B[38;5;241m.\u001B[39m_obj_with_exclusions)\n",
      "File \u001B[1;32m~\\anaconda3\\Lib\\site-packages\\pandas\\core\\groupby\\groupby.py:1819\u001B[0m, in \u001B[0;36mGroupBy._python_apply_general\u001B[1;34m(self, f, data, not_indexed_same, is_transform, is_agg)\u001B[0m\n\u001B[0;32m   1784\u001B[0m \u001B[38;5;129m@final\u001B[39m\n\u001B[0;32m   1785\u001B[0m \u001B[38;5;28;01mdef\u001B[39;00m \u001B[38;5;21m_python_apply_general\u001B[39m(\n\u001B[0;32m   1786\u001B[0m     \u001B[38;5;28mself\u001B[39m,\n\u001B[1;32m   (...)\u001B[0m\n\u001B[0;32m   1791\u001B[0m     is_agg: \u001B[38;5;28mbool\u001B[39m \u001B[38;5;241m=\u001B[39m \u001B[38;5;28;01mFalse\u001B[39;00m,\n\u001B[0;32m   1792\u001B[0m ) \u001B[38;5;241m-\u001B[39m\u001B[38;5;241m>\u001B[39m NDFrameT:\n\u001B[0;32m   1793\u001B[0m \u001B[38;5;250m    \u001B[39m\u001B[38;5;124;03m\"\"\"\u001B[39;00m\n\u001B[0;32m   1794\u001B[0m \u001B[38;5;124;03m    Apply function f in python space\u001B[39;00m\n\u001B[0;32m   1795\u001B[0m \n\u001B[1;32m   (...)\u001B[0m\n\u001B[0;32m   1817\u001B[0m \u001B[38;5;124;03m        data after applying f\u001B[39;00m\n\u001B[0;32m   1818\u001B[0m \u001B[38;5;124;03m    \"\"\"\u001B[39;00m\n\u001B[1;32m-> 1819\u001B[0m     values, mutated \u001B[38;5;241m=\u001B[39m \u001B[38;5;28mself\u001B[39m\u001B[38;5;241m.\u001B[39mgrouper\u001B[38;5;241m.\u001B[39mapply_groupwise(f, data, \u001B[38;5;28mself\u001B[39m\u001B[38;5;241m.\u001B[39maxis)\n\u001B[0;32m   1820\u001B[0m     \u001B[38;5;28;01mif\u001B[39;00m not_indexed_same \u001B[38;5;129;01mis\u001B[39;00m \u001B[38;5;28;01mNone\u001B[39;00m:\n\u001B[0;32m   1821\u001B[0m         not_indexed_same \u001B[38;5;241m=\u001B[39m mutated\n",
      "File \u001B[1;32m~\\anaconda3\\Lib\\site-packages\\pandas\\core\\groupby\\ops.py:911\u001B[0m, in \u001B[0;36mBaseGrouper.apply_groupwise\u001B[1;34m(self, f, data, axis)\u001B[0m\n\u001B[0;32m    909\u001B[0m \u001B[38;5;66;03m# group might be modified\u001B[39;00m\n\u001B[0;32m    910\u001B[0m group_axes \u001B[38;5;241m=\u001B[39m group\u001B[38;5;241m.\u001B[39maxes\n\u001B[1;32m--> 911\u001B[0m res \u001B[38;5;241m=\u001B[39m f(group)\n\u001B[0;32m    912\u001B[0m \u001B[38;5;28;01mif\u001B[39;00m \u001B[38;5;129;01mnot\u001B[39;00m mutated \u001B[38;5;129;01mand\u001B[39;00m \u001B[38;5;129;01mnot\u001B[39;00m _is_indexed_like(res, group_axes, axis):\n\u001B[0;32m    913\u001B[0m     mutated \u001B[38;5;241m=\u001B[39m \u001B[38;5;28;01mTrue\u001B[39;00m\n",
      "Cell \u001B[1;32mIn[15], line 8\u001B[0m, in \u001B[0;36mconnected_streets\u001B[1;34m(str_lines)\u001B[0m\n\u001B[0;32m      1\u001B[0m \u001B[38;5;28;01mdef\u001B[39;00m \u001B[38;5;21mconnected_streets\u001B[39m(str_lines):\n\u001B[0;32m      2\u001B[0m \u001B[38;5;250m    \u001B[39m\u001B[38;5;124;03m\"\"\"\u001B[39;00m\n\u001B[0;32m      3\u001B[0m \u001B[38;5;124;03m    Populate the dictionary with the name of the current street and all its connected streets.\u001B[39;00m\n\u001B[0;32m      4\u001B[0m \u001B[38;5;124;03m    :param str_lines:\u001B[39;00m\n\u001B[0;32m      5\u001B[0m \u001B[38;5;124;03m    :return:\u001B[39;00m\n\u001B[0;32m      6\u001B[0m \u001B[38;5;124;03m    \"\"\"\u001B[39;00m\n\u001B[1;32m----> 8\u001B[0m     dic_data[str_lines[str_name]\u001B[38;5;241m.\u001B[39miloc[\u001B[38;5;241m0\u001B[39m]] \u001B[38;5;241m=\u001B[39m(\u001B[38;5;28mlist\u001B[39m(str_lines[con_str_name]\u001B[38;5;241m.\u001B[39munique()),\u001B[38;5;28;01mTrue\u001B[39;00m \u001B[38;5;28;01mif\u001B[39;00m (str_lines[\u001B[38;5;124m'\u001B[39m\u001B[38;5;124mis_simplif_left\u001B[39m\u001B[38;5;124m'\u001B[39m] \u001B[38;5;241m==\u001B[39m \u001B[38;5;241m1\u001B[39m)\u001B[38;5;241m.\u001B[39many() \u001B[38;5;28;01melse\u001B[39;00m \u001B[38;5;28;01mFalse\u001B[39;00m)\n",
      "File \u001B[1;32m~\\anaconda3\\Lib\\site-packages\\geopandas\\geodataframe.py:1459\u001B[0m, in \u001B[0;36mGeoDataFrame.__getitem__\u001B[1;34m(self, key)\u001B[0m\n\u001B[0;32m   1453\u001B[0m \u001B[38;5;28;01mdef\u001B[39;00m \u001B[38;5;21m__getitem__\u001B[39m(\u001B[38;5;28mself\u001B[39m, key):\n\u001B[0;32m   1454\u001B[0m \u001B[38;5;250m    \u001B[39m\u001B[38;5;124;03m\"\"\"\u001B[39;00m\n\u001B[0;32m   1455\u001B[0m \u001B[38;5;124;03m    If the result is a column containing only 'geometry', return a\u001B[39;00m\n\u001B[0;32m   1456\u001B[0m \u001B[38;5;124;03m    GeoSeries. If it's a DataFrame with any columns of GeometryDtype,\u001B[39;00m\n\u001B[0;32m   1457\u001B[0m \u001B[38;5;124;03m    return a GeoDataFrame.\u001B[39;00m\n\u001B[0;32m   1458\u001B[0m \u001B[38;5;124;03m    \"\"\"\u001B[39;00m\n\u001B[1;32m-> 1459\u001B[0m     result \u001B[38;5;241m=\u001B[39m \u001B[38;5;28msuper\u001B[39m()\u001B[38;5;241m.\u001B[39m\u001B[38;5;21m__getitem__\u001B[39m(key)\n\u001B[0;32m   1460\u001B[0m     \u001B[38;5;66;03m# Custom logic to avoid waiting for pandas GH51895\u001B[39;00m\n\u001B[0;32m   1461\u001B[0m     \u001B[38;5;66;03m# result is not geometry dtype for multi-indexes\u001B[39;00m\n\u001B[0;32m   1462\u001B[0m     \u001B[38;5;28;01mif\u001B[39;00m (\n\u001B[0;32m   1463\u001B[0m         pd\u001B[38;5;241m.\u001B[39mapi\u001B[38;5;241m.\u001B[39mtypes\u001B[38;5;241m.\u001B[39mis_scalar(key)\n\u001B[0;32m   1464\u001B[0m         \u001B[38;5;129;01mand\u001B[39;00m key \u001B[38;5;241m==\u001B[39m \u001B[38;5;124m\"\u001B[39m\u001B[38;5;124m\"\u001B[39m\n\u001B[1;32m   (...)\u001B[0m\n\u001B[0;32m   1467\u001B[0m         \u001B[38;5;129;01mand\u001B[39;00m \u001B[38;5;129;01mnot\u001B[39;00m is_geometry_type(result)\n\u001B[0;32m   1468\u001B[0m     ):\n",
      "File \u001B[1;32m~\\anaconda3\\Lib\\site-packages\\pandas\\core\\frame.py:3893\u001B[0m, in \u001B[0;36mDataFrame.__getitem__\u001B[1;34m(self, key)\u001B[0m\n\u001B[0;32m   3891\u001B[0m \u001B[38;5;28;01mif\u001B[39;00m \u001B[38;5;28mself\u001B[39m\u001B[38;5;241m.\u001B[39mcolumns\u001B[38;5;241m.\u001B[39mnlevels \u001B[38;5;241m>\u001B[39m \u001B[38;5;241m1\u001B[39m:\n\u001B[0;32m   3892\u001B[0m     \u001B[38;5;28;01mreturn\u001B[39;00m \u001B[38;5;28mself\u001B[39m\u001B[38;5;241m.\u001B[39m_getitem_multilevel(key)\n\u001B[1;32m-> 3893\u001B[0m indexer \u001B[38;5;241m=\u001B[39m \u001B[38;5;28mself\u001B[39m\u001B[38;5;241m.\u001B[39mcolumns\u001B[38;5;241m.\u001B[39mget_loc(key)\n\u001B[0;32m   3894\u001B[0m \u001B[38;5;28;01mif\u001B[39;00m is_integer(indexer):\n\u001B[0;32m   3895\u001B[0m     indexer \u001B[38;5;241m=\u001B[39m [indexer]\n",
      "File \u001B[1;32m~\\anaconda3\\Lib\\site-packages\\pandas\\core\\indexes\\base.py:3798\u001B[0m, in \u001B[0;36mIndex.get_loc\u001B[1;34m(self, key)\u001B[0m\n\u001B[0;32m   3793\u001B[0m     \u001B[38;5;28;01mif\u001B[39;00m \u001B[38;5;28misinstance\u001B[39m(casted_key, \u001B[38;5;28mslice\u001B[39m) \u001B[38;5;129;01mor\u001B[39;00m (\n\u001B[0;32m   3794\u001B[0m         \u001B[38;5;28misinstance\u001B[39m(casted_key, abc\u001B[38;5;241m.\u001B[39mIterable)\n\u001B[0;32m   3795\u001B[0m         \u001B[38;5;129;01mand\u001B[39;00m \u001B[38;5;28many\u001B[39m(\u001B[38;5;28misinstance\u001B[39m(x, \u001B[38;5;28mslice\u001B[39m) \u001B[38;5;28;01mfor\u001B[39;00m x \u001B[38;5;129;01min\u001B[39;00m casted_key)\n\u001B[0;32m   3796\u001B[0m     ):\n\u001B[0;32m   3797\u001B[0m         \u001B[38;5;28;01mraise\u001B[39;00m InvalidIndexError(key)\n\u001B[1;32m-> 3798\u001B[0m     \u001B[38;5;28;01mraise\u001B[39;00m \u001B[38;5;167;01mKeyError\u001B[39;00m(key) \u001B[38;5;28;01mfrom\u001B[39;00m \u001B[38;5;21;01merr\u001B[39;00m\n\u001B[0;32m   3799\u001B[0m \u001B[38;5;28;01mexcept\u001B[39;00m \u001B[38;5;167;01mTypeError\u001B[39;00m:\n\u001B[0;32m   3800\u001B[0m     \u001B[38;5;66;03m# If we have a listlike key, _check_indexing_error will raise\u001B[39;00m\n\u001B[0;32m   3801\u001B[0m     \u001B[38;5;66;03m#  InvalidIndexError. Otherwise we fall through and re-raise\u001B[39;00m\n\u001B[0;32m   3802\u001B[0m     \u001B[38;5;66;03m#  the TypeError.\u001B[39;00m\n\u001B[0;32m   3803\u001B[0m     \u001B[38;5;28mself\u001B[39m\u001B[38;5;241m.\u001B[39m_check_indexing_error(key)\n",
      "\u001B[1;31mKeyError\u001B[0m: 'is_simplif_left'"
     ]
    }
   ],
   "execution_count": 15
  },
  {
   "metadata": {},
   "cell_type": "code",
   "outputs": [],
   "execution_count": null,
   "source": "",
   "id": "23c5d7ee2288bf20"
  }
 ],
 "metadata": {
  "kernelspec": {
   "display_name": "Python 3",
   "language": "python",
   "name": "python3"
  },
  "language_info": {
   "codemirror_mode": {
    "name": "ipython",
    "version": 2
   },
   "file_extension": ".py",
   "mimetype": "text/x-python",
   "name": "python",
   "nbconvert_exporter": "python",
   "pygments_lexer": "ipython2",
   "version": "2.7.6"
  }
 },
 "nbformat": 4,
 "nbformat_minor": 5
}
