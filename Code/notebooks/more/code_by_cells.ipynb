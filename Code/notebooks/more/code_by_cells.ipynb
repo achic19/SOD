{
 "cells": [
  {
   "cell_type": "code",
   "metadata": {
    "collapsed": true,
    "pycharm": {
     "name": "#%%\n"
    },
    "ExecuteTime": {
     "end_time": "2024-12-26T09:48:03.871778Z",
     "start_time": "2024-12-26T09:47:56.182615Z"
    }
   },
   "source": [
    "## Run when initialise the code\n",
    "import os\n",
    "\n",
    "import geopandas as gpd\n",
    "import osmnx as ox\n",
    "from geopandas import GeoDataFrame, GeoSeries\n",
    "from osmnx import io\n",
    "\n",
    "from pandas import DataFrame\n",
    "project_crs = 'epsg:3857'\n",
    "from sklearn.cluster import DBSCAN\n",
    "from shapely.geometry import  Point, LineString, MultiPolygon, MultiPoint\n",
    "import math\n",
    "import warnings\n",
    "import pandas as pd\n",
    "\n",
    "from tqdm import tqdm\n",
    "import time\n",
    "import pickle\n",
    "warnings.filterwarnings(action='ignore')\n",
    "from momepy import remove_false_nodes,extend_lines\n",
    "pjr_loc = os.path.dirname(os.getcwd())\n",
    "import ast # to convert str with list to list of string\n",
    "from itertools import combinations\n",
    "import numpy as np\n",
    "from math import log2\n",
    "def get_five_largest_streets(simplified_network:GeoDataFrame,name_col:str,path:str):\n",
    "    \"\"\"\n",
    "    FOR TEST PURPOSES - get the five largest streets\n",
    "    :param simplified_network:\n",
    "    :param name_col: the column that stores the street name\n",
    "    :param path: the file name to store the longest street\n",
    "    :return:\n",
    "    \"\"\"\n",
    "    # Dissolve the GeoDataFrame based on 'street_id' to aggregate polylines of the same street\n",
    "    dissolved_gdf = simplified_network[simplified_network['is_simplified']==1].dissolve(by=name_col)\n",
    "    dissolved_gdf['street_length'] = dissolved_gdf['geometry'].length\n",
    "    dissolved_gdf.sort_values(by='street_length',ascending=False).head(5).to_file(f'{path}.shp')"
   ],
   "outputs": [],
   "execution_count": 1
  },
  {
   "cell_type": "code",
   "source": [
    "# Updated - 26.12.24\n",
    "# Importing necessary modules\n",
    "import os\n",
    "\n",
    "# Defining the name of the place. In this example, the place is \"Göteborg, Sweden\".\n",
    "# This string will be used to create directory names.\n",
    "place = 'Göteborg, Sweden'\n",
    "\n",
    "# Printing the name of the place for reference or logging purposes.\n",
    "print(place)\n",
    "\n",
    "# Constructing the path to the data folder based on the location of a variable `pjr_loc`.\n",
    "# - `os.path.dirname()` is used twice to get the grandparent directory of `pjr_loc`.\n",
    "# - The `place` string is sanitized to replace commas and spaces with underscores, ensuring\n",
    "#   it can be safely used in file or directory names.\n",
    "data_folder = f'{os.path.dirname(os.path.dirname(pjr_loc))}/places/{place.replace(\",\", \"_\").replace(\" \", \"_\")}/test'\n",
    "\n",
    "# Creating the main data folder if it doesn't already exist.\n",
    "# - `exist_ok=True` ensures no error is raised if the folder already exists.\n",
    "os.makedirs(f'{data_folder}', exist_ok=True)\n",
    "\n",
    "# Creating subfolders within the main data folder to organize specific tasks or data:\n",
    "# - `delete_2_nodes`: Presumably for files or operations related to deleting two nodes.\n",
    "# - `split_tp_intersection`: Likely for handling split intersection operations.\n",
    "# - `simplification`: For storing files related to data or map simplification.\n",
    "os.makedirs(f'{data_folder}/delete_2_nodes', exist_ok=True)\n",
    "os.makedirs(f'{data_folder}/split_tp_intersection', exist_ok=True)\n",
    "os.makedirs(f'{data_folder}/simplification', exist_ok=True)\n",
    "\n",
    "# Assigning the path of the `simplification` folder to a variable for future use.\n",
    "# This allows for easier reference and avoids hardcoding the path multiple times.\n",
    "smplfcton_fldr = f'{data_folder}/simplification'\n"
   ],
   "metadata": {
    "collapsed": false,
    "pycharm": {
     "name": "#%%\n"
    },
    "ExecuteTime": {
     "end_time": "2024-12-26T09:57:51.110731Z",
     "start_time": "2024-12-26T09:57:51.094713Z"
    }
   },
   "outputs": [
    {
     "name": "stdout",
     "output_type": "stream",
     "text": [
      "Göteborg, Sweden\n"
     ]
    },
    {
     "data": {
      "text/plain": [
       "'C:\\\\Users\\\\18059\\\\OneDrive - ariel.ac.il\\\\Current_research\\\\SOD/places/Göteborg__Sweden/test'"
      ]
     },
     "execution_count": 10,
     "metadata": {},
     "output_type": "execute_result"
    }
   ],
   "execution_count": 10
  },
  {
   "cell_type": "code",
   "execution_count": 3,
   "source": [
    "# Download data from OSM\n",
    "if place =='Tel Aviv':\n",
    "    useful_tags_path = ['name:en','highway','length','bearing','tunnel','junction']\n",
    "    ox.utils.config(useful_tags_way=useful_tags_path)\n",
    "graph = ox.graph_from_place(place, network_type='all')\n",
    "graph = ox.bearing.add_edge_bearings(graph, precision=1)\n",
    "graph_pro = ox.projection.project_graph(graph, to_crs=project_crs)\n",
    "io.save_graph_geopackage(graph_pro, filepath=f'{data_folder}/osm_data.gpkg', encoding='utf-8', directed=False)\n"
   ],
   "metadata": {
    "collapsed": false,
    "pycharm": {
     "name": "#%%\n"
    }
   },
   "outputs": []
  },
  {
   "cell_type": "code",
   "execution_count": 5,
   "source": [
    "## Run when initialise the code\n",
    "# find and store roundabout\n",
    "my_gdf = gpd.read_file(f'{data_folder}/osm_data.gpkg',layer = 'edges')# Identify roundabout elements, if any exist, and store them in a separate DataFrame.\n",
    "if place =='Tel Aviv':\n",
    "    my_gdf.rename(columns={'name:en':'name'}, inplace=True)\n",
    "is_junction= True if 'junction' in my_gdf.columns else False\n",
    "if is_junction:\n",
    "    round_about = my_gdf[my_gdf['junction'].isin(['roundabout', 'circular'])]\n",
    "    my_gdf= my_gdf[~((my_gdf['junction'] == 'roundabout') | (my_gdf['junction'] == 'circular'))]\n",
    "\n",
    "# Remove additional irrelevant line objects based on values of the OSM 'tunnel' and 'highway' keys.\n",
    "# if 'tunnel' in my_gdf.columns:\n",
    "#     my_gdf = my_gdf[~((my_gdf['tunnel'] == 'building_passage') | (my_gdf['tunnel'] == 'yes'))]\n",
    "to_remove = my_gdf[~((my_gdf['highway'] == 'motorway') | (my_gdf['highway'] == 'trunk')| (my_gdf['highway'] == 'motorway_link')| (my_gdf['highway'] == 'motorway_link')| (my_gdf['highway'] == 'trunk_link'))]\n",
    "\n",
    "\n",
    "# Eliminate polylines that lack a name and calculate angles ranging from 0 to 180 degrees based on the bearing field.\n",
    "df_pro = to_remove.to_crs(project_crs).dropna(subset=['name'])\n",
    "df_pro = df_pro[df_pro['name']!='']\n",
    "df_pro['angle'] = df_pro['bearing'].apply(lambda x: x if x < 180 else x - 180)\n",
    "df_pro['length'] = df_pro.length\n",
    "\n",
    "# Function to convert valid list strings to lists\n",
    "def convert_to_list(s):\n",
    "    try:\n",
    "        return ast.literal_eval(s)[0]\n",
    "    except (ValueError, SyntaxError,TypeError):\n",
    "        return s  # Return the original string if conversion fails\n",
    "\n",
    "# Apply the function to the DataFrame column so polylines with several street names will return the first name and highway type.\n",
    "df_pro['name'] = df_pro['name'].apply(convert_to_list)\n",
    "df_pro['highway'] = df_pro['highway'].apply(convert_to_list)\n"
   ],
   "metadata": {
    "collapsed": false,
    "pycharm": {
     "name": "#%%\n"
    }
   },
   "outputs": []
  },
  {
   "metadata": {
    "ExecuteTime": {
     "end_time": "2024-12-26T10:10:38.523679Z",
     "start_time": "2024-12-26T10:09:23.511258Z"
    }
   },
   "cell_type": "code",
   "source": [
    "# In case you are interested in running the code from this point \n",
    "df_pro = gpd.read_file(f'{os.path.dirname(data_folder)}/before_df.shp')\n",
    "df_pro"
   ],
   "outputs": [
    {
     "data": {
      "text/plain": [
       "                 u            v  key                     osmid  oneway lanes  \\\n",
       "0        241778823   6068387716    0     [38605507, 236557702]       1   NaN   \n",
       "1        241778823    241778310    0                  22553864       1   NaN   \n",
       "2         60911657     60911656    0  [1023578469, 1023578470]       1     3   \n",
       "3           162407     26193576    0      [4317098, 165480734]       1     4   \n",
       "4           162407     26194218    0                 286430820       1     2   \n",
       "...            ...          ...  ...                       ...     ...   ...   \n",
       "56731  12400284518  12400284526    0                  14037878       0   NaN   \n",
       "56732  12400284526  12400284519    0                  14037878       0   NaN   \n",
       "56733  12419938189  12419973004    0                 165585842       0   NaN   \n",
       "56734  12419973004  12419938199    0                 165585842       0   NaN   \n",
       "56735  12437066105  12437066118    0                  30996868       0   NaN   \n",
       "\n",
       "            highway maxspeed reversed      length  ...  bridge  tunnel  \\\n",
       "0         secondary       70    False  384.157222  ...     NaN     NaN   \n",
       "1         secondary       70    False  418.834220  ...     NaN     NaN   \n",
       "2         secondary       50    False   41.588507  ...     NaN     NaN   \n",
       "3         secondary       50    False  109.268259  ...     NaN     NaN   \n",
       "4         secondary       50    False   50.039805  ...     NaN     NaN   \n",
       "...             ...      ...      ...         ...  ...     ...     ...   \n",
       "56731  unclassified      NaN    False   21.187617  ...     NaN     NaN   \n",
       "56732  unclassified      NaN    False  194.195776  ...     NaN     NaN   \n",
       "56733   residential       50    False   63.970088  ...     NaN     NaN   \n",
       "56734   residential       50    False    9.453468  ...     NaN     NaN   \n",
       "56735  unclassified      NaN    False   43.395798  ...     NaN     NaN   \n",
       "\n",
       "       access junction service width est_width area  angle  \\\n",
       "0         NaN      NaN     NaN   NaN       NaN  NaN  122.5   \n",
       "1         NaN      NaN     NaN   NaN       NaN  NaN   91.8   \n",
       "2         NaN      NaN     NaN   NaN       NaN  NaN  121.3   \n",
       "3         NaN      NaN     NaN   NaN       NaN  NaN   84.2   \n",
       "4         NaN      NaN     NaN   NaN       NaN  NaN   80.5   \n",
       "...       ...      ...     ...   ...       ...  ...    ...   \n",
       "56731     NaN      NaN     NaN   NaN       NaN  NaN  158.4   \n",
       "56732     NaN      NaN     NaN   NaN       NaN  NaN  158.4   \n",
       "56733     NaN      NaN     NaN   NaN       NaN  NaN   73.2   \n",
       "56734     NaN      NaN     NaN   NaN       NaN  NaN   73.2   \n",
       "56735     NaN      NaN     NaN   NaN       NaN  NaN    2.9   \n",
       "\n",
       "                                                geometry  \n",
       "0      LINESTRING (1335986.163 7924652.386, 1335955.2...  \n",
       "1      LINESTRING (1336403.500 7924639.060, 1336364.6...  \n",
       "2      LINESTRING (1335127.211 7906000.232, 1335098.1...  \n",
       "3      LINESTRING (1335409.695 7904096.301, 1335393.0...  \n",
       "4      LINESTRING (1335459.043 7904104.592, 1335443.9...  \n",
       "...                                                  ...  \n",
       "56731  LINESTRING (1344552.632 7916933.896, 1344560.4...  \n",
       "56732  LINESTRING (1344481.154 7917114.459, 1344552.6...  \n",
       "56733  LINESTRING (1312186.056 7911010.697, 1312124.8...  \n",
       "56734  LINESTRING (1312195.107 7911013.428, 1312186.0...  \n",
       "56735  LINESTRING (1328208.404 7921374.094, 1328207.4...  \n",
       "\n",
       "[56736 rows x 25 columns]"
      ],
      "text/html": [
       "<div>\n",
       "<style scoped>\n",
       "    .dataframe tbody tr th:only-of-type {\n",
       "        vertical-align: middle;\n",
       "    }\n",
       "\n",
       "    .dataframe tbody tr th {\n",
       "        vertical-align: top;\n",
       "    }\n",
       "\n",
       "    .dataframe thead th {\n",
       "        text-align: right;\n",
       "    }\n",
       "</style>\n",
       "<table border=\"1\" class=\"dataframe\">\n",
       "  <thead>\n",
       "    <tr style=\"text-align: right;\">\n",
       "      <th></th>\n",
       "      <th>u</th>\n",
       "      <th>v</th>\n",
       "      <th>key</th>\n",
       "      <th>osmid</th>\n",
       "      <th>oneway</th>\n",
       "      <th>lanes</th>\n",
       "      <th>highway</th>\n",
       "      <th>maxspeed</th>\n",
       "      <th>reversed</th>\n",
       "      <th>length</th>\n",
       "      <th>...</th>\n",
       "      <th>bridge</th>\n",
       "      <th>tunnel</th>\n",
       "      <th>access</th>\n",
       "      <th>junction</th>\n",
       "      <th>service</th>\n",
       "      <th>width</th>\n",
       "      <th>est_width</th>\n",
       "      <th>area</th>\n",
       "      <th>angle</th>\n",
       "      <th>geometry</th>\n",
       "    </tr>\n",
       "  </thead>\n",
       "  <tbody>\n",
       "    <tr>\n",
       "      <th>0</th>\n",
       "      <td>241778823</td>\n",
       "      <td>6068387716</td>\n",
       "      <td>0</td>\n",
       "      <td>[38605507, 236557702]</td>\n",
       "      <td>1</td>\n",
       "      <td>NaN</td>\n",
       "      <td>secondary</td>\n",
       "      <td>70</td>\n",
       "      <td>False</td>\n",
       "      <td>384.157222</td>\n",
       "      <td>...</td>\n",
       "      <td>NaN</td>\n",
       "      <td>NaN</td>\n",
       "      <td>NaN</td>\n",
       "      <td>NaN</td>\n",
       "      <td>NaN</td>\n",
       "      <td>NaN</td>\n",
       "      <td>NaN</td>\n",
       "      <td>NaN</td>\n",
       "      <td>122.5</td>\n",
       "      <td>LINESTRING (1335986.163 7924652.386, 1335955.2...</td>\n",
       "    </tr>\n",
       "    <tr>\n",
       "      <th>1</th>\n",
       "      <td>241778823</td>\n",
       "      <td>241778310</td>\n",
       "      <td>0</td>\n",
       "      <td>22553864</td>\n",
       "      <td>1</td>\n",
       "      <td>NaN</td>\n",
       "      <td>secondary</td>\n",
       "      <td>70</td>\n",
       "      <td>False</td>\n",
       "      <td>418.834220</td>\n",
       "      <td>...</td>\n",
       "      <td>NaN</td>\n",
       "      <td>NaN</td>\n",
       "      <td>NaN</td>\n",
       "      <td>NaN</td>\n",
       "      <td>NaN</td>\n",
       "      <td>NaN</td>\n",
       "      <td>NaN</td>\n",
       "      <td>NaN</td>\n",
       "      <td>91.8</td>\n",
       "      <td>LINESTRING (1336403.500 7924639.060, 1336364.6...</td>\n",
       "    </tr>\n",
       "    <tr>\n",
       "      <th>2</th>\n",
       "      <td>60911657</td>\n",
       "      <td>60911656</td>\n",
       "      <td>0</td>\n",
       "      <td>[1023578469, 1023578470]</td>\n",
       "      <td>1</td>\n",
       "      <td>3</td>\n",
       "      <td>secondary</td>\n",
       "      <td>50</td>\n",
       "      <td>False</td>\n",
       "      <td>41.588507</td>\n",
       "      <td>...</td>\n",
       "      <td>NaN</td>\n",
       "      <td>NaN</td>\n",
       "      <td>NaN</td>\n",
       "      <td>NaN</td>\n",
       "      <td>NaN</td>\n",
       "      <td>NaN</td>\n",
       "      <td>NaN</td>\n",
       "      <td>NaN</td>\n",
       "      <td>121.3</td>\n",
       "      <td>LINESTRING (1335127.211 7906000.232, 1335098.1...</td>\n",
       "    </tr>\n",
       "    <tr>\n",
       "      <th>3</th>\n",
       "      <td>162407</td>\n",
       "      <td>26193576</td>\n",
       "      <td>0</td>\n",
       "      <td>[4317098, 165480734]</td>\n",
       "      <td>1</td>\n",
       "      <td>4</td>\n",
       "      <td>secondary</td>\n",
       "      <td>50</td>\n",
       "      <td>False</td>\n",
       "      <td>109.268259</td>\n",
       "      <td>...</td>\n",
       "      <td>NaN</td>\n",
       "      <td>NaN</td>\n",
       "      <td>NaN</td>\n",
       "      <td>NaN</td>\n",
       "      <td>NaN</td>\n",
       "      <td>NaN</td>\n",
       "      <td>NaN</td>\n",
       "      <td>NaN</td>\n",
       "      <td>84.2</td>\n",
       "      <td>LINESTRING (1335409.695 7904096.301, 1335393.0...</td>\n",
       "    </tr>\n",
       "    <tr>\n",
       "      <th>4</th>\n",
       "      <td>162407</td>\n",
       "      <td>26194218</td>\n",
       "      <td>0</td>\n",
       "      <td>286430820</td>\n",
       "      <td>1</td>\n",
       "      <td>2</td>\n",
       "      <td>secondary</td>\n",
       "      <td>50</td>\n",
       "      <td>False</td>\n",
       "      <td>50.039805</td>\n",
       "      <td>...</td>\n",
       "      <td>NaN</td>\n",
       "      <td>NaN</td>\n",
       "      <td>NaN</td>\n",
       "      <td>NaN</td>\n",
       "      <td>NaN</td>\n",
       "      <td>NaN</td>\n",
       "      <td>NaN</td>\n",
       "      <td>NaN</td>\n",
       "      <td>80.5</td>\n",
       "      <td>LINESTRING (1335459.043 7904104.592, 1335443.9...</td>\n",
       "    </tr>\n",
       "    <tr>\n",
       "      <th>...</th>\n",
       "      <td>...</td>\n",
       "      <td>...</td>\n",
       "      <td>...</td>\n",
       "      <td>...</td>\n",
       "      <td>...</td>\n",
       "      <td>...</td>\n",
       "      <td>...</td>\n",
       "      <td>...</td>\n",
       "      <td>...</td>\n",
       "      <td>...</td>\n",
       "      <td>...</td>\n",
       "      <td>...</td>\n",
       "      <td>...</td>\n",
       "      <td>...</td>\n",
       "      <td>...</td>\n",
       "      <td>...</td>\n",
       "      <td>...</td>\n",
       "      <td>...</td>\n",
       "      <td>...</td>\n",
       "      <td>...</td>\n",
       "      <td>...</td>\n",
       "    </tr>\n",
       "    <tr>\n",
       "      <th>56731</th>\n",
       "      <td>12400284518</td>\n",
       "      <td>12400284526</td>\n",
       "      <td>0</td>\n",
       "      <td>14037878</td>\n",
       "      <td>0</td>\n",
       "      <td>NaN</td>\n",
       "      <td>unclassified</td>\n",
       "      <td>NaN</td>\n",
       "      <td>False</td>\n",
       "      <td>21.187617</td>\n",
       "      <td>...</td>\n",
       "      <td>NaN</td>\n",
       "      <td>NaN</td>\n",
       "      <td>NaN</td>\n",
       "      <td>NaN</td>\n",
       "      <td>NaN</td>\n",
       "      <td>NaN</td>\n",
       "      <td>NaN</td>\n",
       "      <td>NaN</td>\n",
       "      <td>158.4</td>\n",
       "      <td>LINESTRING (1344552.632 7916933.896, 1344560.4...</td>\n",
       "    </tr>\n",
       "    <tr>\n",
       "      <th>56732</th>\n",
       "      <td>12400284526</td>\n",
       "      <td>12400284519</td>\n",
       "      <td>0</td>\n",
       "      <td>14037878</td>\n",
       "      <td>0</td>\n",
       "      <td>NaN</td>\n",
       "      <td>unclassified</td>\n",
       "      <td>NaN</td>\n",
       "      <td>False</td>\n",
       "      <td>194.195776</td>\n",
       "      <td>...</td>\n",
       "      <td>NaN</td>\n",
       "      <td>NaN</td>\n",
       "      <td>NaN</td>\n",
       "      <td>NaN</td>\n",
       "      <td>NaN</td>\n",
       "      <td>NaN</td>\n",
       "      <td>NaN</td>\n",
       "      <td>NaN</td>\n",
       "      <td>158.4</td>\n",
       "      <td>LINESTRING (1344481.154 7917114.459, 1344552.6...</td>\n",
       "    </tr>\n",
       "    <tr>\n",
       "      <th>56733</th>\n",
       "      <td>12419938189</td>\n",
       "      <td>12419973004</td>\n",
       "      <td>0</td>\n",
       "      <td>165585842</td>\n",
       "      <td>0</td>\n",
       "      <td>NaN</td>\n",
       "      <td>residential</td>\n",
       "      <td>50</td>\n",
       "      <td>False</td>\n",
       "      <td>63.970088</td>\n",
       "      <td>...</td>\n",
       "      <td>NaN</td>\n",
       "      <td>NaN</td>\n",
       "      <td>NaN</td>\n",
       "      <td>NaN</td>\n",
       "      <td>NaN</td>\n",
       "      <td>NaN</td>\n",
       "      <td>NaN</td>\n",
       "      <td>NaN</td>\n",
       "      <td>73.2</td>\n",
       "      <td>LINESTRING (1312186.056 7911010.697, 1312124.8...</td>\n",
       "    </tr>\n",
       "    <tr>\n",
       "      <th>56734</th>\n",
       "      <td>12419973004</td>\n",
       "      <td>12419938199</td>\n",
       "      <td>0</td>\n",
       "      <td>165585842</td>\n",
       "      <td>0</td>\n",
       "      <td>NaN</td>\n",
       "      <td>residential</td>\n",
       "      <td>50</td>\n",
       "      <td>False</td>\n",
       "      <td>9.453468</td>\n",
       "      <td>...</td>\n",
       "      <td>NaN</td>\n",
       "      <td>NaN</td>\n",
       "      <td>NaN</td>\n",
       "      <td>NaN</td>\n",
       "      <td>NaN</td>\n",
       "      <td>NaN</td>\n",
       "      <td>NaN</td>\n",
       "      <td>NaN</td>\n",
       "      <td>73.2</td>\n",
       "      <td>LINESTRING (1312195.107 7911013.428, 1312186.0...</td>\n",
       "    </tr>\n",
       "    <tr>\n",
       "      <th>56735</th>\n",
       "      <td>12437066105</td>\n",
       "      <td>12437066118</td>\n",
       "      <td>0</td>\n",
       "      <td>30996868</td>\n",
       "      <td>0</td>\n",
       "      <td>NaN</td>\n",
       "      <td>unclassified</td>\n",
       "      <td>NaN</td>\n",
       "      <td>False</td>\n",
       "      <td>43.395798</td>\n",
       "      <td>...</td>\n",
       "      <td>NaN</td>\n",
       "      <td>NaN</td>\n",
       "      <td>NaN</td>\n",
       "      <td>NaN</td>\n",
       "      <td>NaN</td>\n",
       "      <td>NaN</td>\n",
       "      <td>NaN</td>\n",
       "      <td>NaN</td>\n",
       "      <td>2.9</td>\n",
       "      <td>LINESTRING (1328208.404 7921374.094, 1328207.4...</td>\n",
       "    </tr>\n",
       "  </tbody>\n",
       "</table>\n",
       "<p>56736 rows × 25 columns</p>\n",
       "</div>"
      ]
     },
     "execution_count": 13,
     "metadata": {},
     "output_type": "execute_result"
    }
   ],
   "execution_count": 13
  },
  {
   "metadata": {
    "ExecuteTime": {
     "end_time": "2024-12-26T10:42:19.728630Z",
     "start_time": "2024-12-26T10:11:14.705976Z"
    }
   },
   "cell_type": "code",
   "source": [
    "\n",
    "\n",
    "# Functions and classes to be utilized - Module 2\n",
    "def check_parallelism(to_translate: GeoDataFrame) -> bool:\n",
    "    # See if there are parallel lines\n",
    "    my_buffer = to_translate['geometry'].buffer(cap_style=2, distance=30, join_style=3)\n",
    "    to_translate['geometry_right'] = to_translate['geometry'].apply(lambda x: x.parallel_offset(35, 'right'))\n",
    "    to_translate['geometry_left'] = to_translate['geometry'].apply(lambda x: x.parallel_offset(35,\n",
    "                                                                                               'left'))  # we need to offset by both sides since the parallel lines could be in opposite directions\n",
    "\n",
    "    def is_parallel(my_s_join: GeoDataFrame, the_buffer: GeoSeries, geo_field: str):\n",
    "        my_s_join['geometry'] = my_s_join[geo_field]\n",
    "        new_data_0 = my_s_join.sjoin(GeoDataFrame(geometry=the_buffer, crs=project_crs), how='inner').reset_index()\n",
    "        if not len(new_data_0):\n",
    "            return False\n",
    "        new_data_1 = new_data_0[\n",
    "            new_data_0['index'] != new_data_0['index_right']]  # Remove overlay of polylines with its buffer\n",
    "        for translated_line in new_data_1.iterrows():\n",
    "            translated_line = translated_line[1]\n",
    "            geo_tr_line = GeoDataFrame(data=pd.DataFrame([translated_line]), crs=project_crs)\n",
    "            overlay = gpd.overlay(geo_tr_line, GeoDataFrame(geometry=the_buffer.loc[geo_tr_line['index_right']],\n",
    "                                                            crs=project_crs), how='intersection')\n",
    "            if (overlay.length / translated_line.length).iloc[0] * 100 > 10:\n",
    "                return True\n",
    "        return False\n",
    "\n",
    "    if is_parallel(to_translate, my_buffer, 'geometry_right'):\n",
    "        return True\n",
    "    else:\n",
    "        if is_parallel(to_translate, my_buffer, 'geometry_left'):\n",
    "            return True\n",
    "        else:\n",
    "            return False\n",
    "\n",
    "\n",
    "def create_center_line(one_poly):\n",
    "    \"\"\"\n",
    "    This method calculate new line between the farthest points of the simplified polygon\n",
    "    :param one_poly:\n",
    "    :return:\n",
    "    \"\"\"\n",
    "    lines_in_buffer = data.sjoin(GeoDataFrame(geometry=[one_poly], crs=project_crs)).drop(columns='index_right')\n",
    "\n",
    "    list_pnts_of_line_group = []\n",
    "\n",
    "    def update_list(line_local):\n",
    "        \"\"\"\n",
    "        add the first start/end point into the list\n",
    "        :param line_local:\n",
    "        :return:\n",
    "        \"\"\"\n",
    "        list_pnts_of_line_group.extend([Point(line_local.coords[0]), Point(line_local.coords[-1])])\n",
    "\n",
    "    # Get the start/end points of these polylines\n",
    "    lines_in_buffer['geometry'].apply(update_list)\n",
    "\n",
    "    # Find all the unidirectional combinations between each two pair of points\n",
    "    point_combinations = list(combinations(list_pnts_of_line_group, 2))\n",
    "\n",
    "    # Save it into DataFrame frame and calculate distance\n",
    "    df_test = DataFrame()\n",
    "    df_test['point_1'] = [pair[0] for pair in point_combinations]\n",
    "    df_test['point_2'] = [pair[1] for pair in point_combinations]\n",
    "    df_test['dist'] = df_test.apply(lambda x: x['point_1'].distance(x['point_2']), axis=1)\n",
    "\n",
    "    # Calculate  angle (0 and 180)\n",
    "    # Calculate angle using vectorized operations\n",
    "    # Vectorized angle calculation using NumPy\n",
    "    dx = df_test['point_2'].apply(lambda p: p.x) - df_test['point_1'].apply(lambda p: p.x)\n",
    "    dy = df_test['point_2'].apply(lambda p: p.y) - df_test['point_1'].apply(lambda p: p.y)\n",
    "    df_test['angle'] = np.degrees(np.arctan2(dy, dx))\n",
    "    df_test['angle'] = np.where(df_test['angle'] > 0, df_test['angle'], df_test['angle'] + 180)\n",
    "\n",
    "    # Calculate the best two points by looking on their distance and angle. we compare the angle to the polylines angles. The angle has less important so the reason for 0.5\n",
    "    avg = lines_in_buffer['angle'].mean()\n",
    "    dis = abs(df_test['angle'] - avg)\n",
    "    df_test['ratio'] = df_test['dist'] / df_test['dist'].max() + 0.5 * dis / dis.max()\n",
    "    max_points = df_test.sort_values(by='ratio', ascending=False).iloc[0]\n",
    "\n",
    "    # These points will be served to be initial reference in order to find more points\n",
    "    pnt_f = max_points['point_1']\n",
    "    pnt_l = max_points['point_2']\n",
    "\n",
    "    angl_rng = lines_in_buffer['angle'].max() - lines_in_buffer['angle'].min()\n",
    "    if angl_rng < 1:  # If the angel range is less than 1 degree the line will be based on the first and last points\n",
    "        lines_pnt_geo = [pnt_f]\n",
    "    else:\n",
    "        if angl_rng > 100:  # Maximum of length to check is every 10 meters\n",
    "            length_to_check = 8.561438102\n",
    "        else:\n",
    "            length_to_check = 75 - log2(\n",
    "                angl_rng) * 10  # The range of  length_to_check (logarithm to create more changes at the beginning)\n",
    "        lines_pnt_geo = add_more_pnts_to_new_lines(pnt_f, pnt_l, [pnt_f], length_to_check, lines_in_buffer)\n",
    "    lines_pnt_geo.append(pnt_l)\n",
    "    # Update dic_final\n",
    "    return lines_pnt_geo\n",
    "\n",
    "\n",
    "def add_more_pnts_to_new_lines(pnt_f_loc: Point, pnt_l_loc: Point, line_pnts: list, lngth_chck: float,\n",
    "                               test_poly: GeoDataFrame) -> list:\n",
    "    \"\"\"\n",
    "    This method checks if more points should be added to the new lines by checking along the new line if the distance to the old network roads are more than 10 meters\n",
    "    :param test_poly: From these polylines find the closet one in each interation\n",
    "    :param lngth_chck: Used latter to find how many checks should be done\n",
    "    :return:\n",
    "    \"\"\"\n",
    "    # Calculate distance and azimuth between the first and last point\n",
    "    dist = pnt_f_loc.distance(pnt_l_loc)\n",
    "    x_0 = pnt_f_loc.coords[0][0]\n",
    "    y_0 = pnt_f_loc.coords[0][1]\n",
    "    bearing = math.atan2(pnt_l_loc.coords[0][0] - x_0, pnt_l_loc.coords[0][1] - y_0)\n",
    "    bearing = bearing + 2 * math.pi if bearing < 0 else bearing\n",
    "    # Calculate the number of  checks going to carry out\n",
    "    loops = int(dist / lngth_chck)\n",
    "    # Calculate  the first point over the line\n",
    "    for dis_on_line in range(1, loops):\n",
    "        x_new = x_0 + lngth_chck * dis_on_line * math.sin(bearing)\n",
    "        y_new = y_0 + lngth_chck * dis_on_line * math.cos(bearing)\n",
    "        # S_joins to all the network lines (same name and group)\n",
    "        # if the distance is less than 10 meters continue, else: find the projection point and add it to the correct location and run the function agein\n",
    "        one_pnt_df = GeoDataFrame(geometry=[Point(x_new, y_new)], crs=project_crs)\n",
    "        s_join_loc = one_pnt_df.sjoin_nearest(test_poly, distance_col='dis').iloc[0]\n",
    "\n",
    "        if s_join_loc['dis'] > 10:\n",
    "            line = data.loc[s_join_loc['index_right']]['geometry']\n",
    "            pnt_med = line.interpolate(line.project(s_join_loc['geometry']))\n",
    "            if pnt_med.distance(pnt_f_loc) < 10:  # Otherwise the code may stack in endless loops\n",
    "                continue\n",
    "            line_pnts.append(pnt_med)\n",
    "            line_pnts = add_more_pnts_to_new_lines(pnt_med, pnt_l_loc, line_pnts, lngth_chck, test_poly)\n",
    "            return line_pnts\n",
    "    return line_pnts\n",
    "\n",
    "\n",
    "def update_df_with_center_line(new_line, is_simplified=0, group_name=-1):\n",
    "    \"\"\"\n",
    "    update our dictionary with new lines\n",
    "    :param is_simplified:\n",
    "    :param new_line:\n",
    "    :param group_name: According to the DBSCAN algorithm, if no =-1\n",
    "    :return:\n",
    "    \"\"\"\n",
    "    dic_final['name'].append(name)\n",
    "    # dic_final['geometry'].append(LineString(coordinates=(pnt_list[max_dis[0]], pnt_list[max_dis[1]])))\n",
    "    dic_final['geometry'].append(new_line)\n",
    "    dic_final['highway'].append(data.iloc[0]['highway'])  # ToDo should be fixed to take the largest one\n",
    "    dic_final['bearing'].append(data['angle'].mean())\n",
    "    dic_final['group'].append(group_name)\n",
    "    dic_final['is_simplified'].append(is_simplified)\n",
    "\n",
    "\n",
    "# Function to calculate circular_distance\n",
    "def circular_distance(angle1, angle2):\n",
    "    diff = np.abs(angle1 - angle2) % 180\n",
    "    return np.minimum(diff, 180 - diff)\n",
    "\n",
    "\n",
    "# Initiate dic_final here for @def update_df_with_center_line\n",
    "dic_final = {'name': [], 'geometry': [], 'highway': [], 'bearing': [], 'group': [], 'is_simplified': []}\n",
    "\n",
    "# group the street segments by street name\n",
    "my_groupby = df_pro.groupby('name')\n",
    "for_time = len(my_groupby)\n",
    "number_of_parallel = 0  # count the number of polylines were refined\n",
    "with tqdm(total=for_time) as pbar:  # It is used in order to visualise the progress by progress bar\n",
    "    for i, street in enumerate(my_groupby):\n",
    "        res = street[1]  # it holds all the streets\n",
    "        name = street[0]  # It holds the streets name\n",
    "        print(name)\n",
    "        pbar.update(1)  # for the progress bar\n",
    "        # Remove segments without angle. If less than two segments being left move to the next group.\n",
    "        res = res.dropna(subset=['angle'], axis=0)\n",
    "        if len(res) < 2:\n",
    "            data = res\n",
    "            _ = res['geometry'].apply(lambda x: update_df_with_center_line(x))\n",
    "            continue\n",
    "        # Use DBSCAN to classify streets based on their angle, and group each class. Outliers could not consider parallel with any street, thus removed\n",
    "        angles = res['angle'].to_numpy()\n",
    "        # Compute pairwise distances between angles\n",
    "        pairwise_distances = np.zeros((len(angles), len(angles)))\n",
    "        for i in range(len(angles)):\n",
    "            for j in range(len(angles)):\n",
    "                pairwise_distances[i, j] = circular_distance(angles[i], angles[j])\n",
    "        # Use DBSCAN\n",
    "        epsilon = 10\n",
    "        min_samples = 2  # Adjust as needed\n",
    "        dbscan = DBSCAN(eps=epsilon, min_samples=min_samples, metric='precomputed')\n",
    "        res['group'] = dbscan.fit_predict(pairwise_distances)\n",
    "        # if all is -1, don't touch the element\n",
    "        if (res['group'] == -1).all():\n",
    "            data = res\n",
    "            _ = res['geometry'].apply(lambda x: update_df_with_center_line(x))\n",
    "            continue\n",
    "        # cur_group = res[(res['group'] > -1) | (res.length>20)].groupby('group') # Remove short segments with -1 classification values\n",
    "        # The parallel test is on street segments that  have the same name and belong to the same angle group.\n",
    "        for group in res.groupby('group'):\n",
    "            data = group[1]\n",
    "            if group[0] == -1:  # No need to check if is parallel\n",
    "                _ = data['geometry'].apply(lambda x: update_df_with_center_line(x))\n",
    "                continue\n",
    "            if check_parallelism(data.copy()):\n",
    "                # print(group[0])\n",
    "                # Remove unimportant streets which appear more than 10% in the group\n",
    "                min_num_of_polylines = len(data) / 15\n",
    "                # Use a single boolean condition for filtering\n",
    "                condition = (data['highway'].isin(['service', 'unclassified'])) & (\n",
    "                        data.groupby('highway')['highway'].transform('count') <= min_num_of_polylines)\n",
    "                data = data[~condition]\n",
    "\n",
    "                number_of_parallel += len(data)  # Update the number of parallel polylines\n",
    "\n",
    "                # unify lines to one polygon\n",
    "                buffers = data.buffer(cap_style=3, distance=30, join_style=3)\n",
    "                one_buffer = buffers.unary_union\n",
    "                # simplify polygon with simplify function. If one_buffer is multipolygon object simplify each one them separately\n",
    "                if isinstance(one_buffer, MultiPolygon):\n",
    "                    for polygon in one_buffer.geoms:\n",
    "                        lines_pnt_geo_final = create_center_line(polygon)\n",
    "                        update_df_with_center_line(LineString(lines_pnt_geo_final), 1, group[0])\n",
    "                else:\n",
    "                    lines_pnt_geo_final = create_center_line(one_buffer)\n",
    "                    # Update dic_final\n",
    "                    update_df_with_center_line(LineString(lines_pnt_geo_final), 1, group[0])\n",
    "\n",
    "            else:\n",
    "                _ = data['geometry'].apply(lambda x: update_df_with_center_line(x))\n",
    "\n",
    "print(f'number_of_parallel: {number_of_parallel}')\n",
    "print('create new files')\n",
    "# remove short lines\n",
    "final_cols = ['name', 'geometry', 'highway', 'bearing', 'length']\n",
    "new_network = GeoDataFrame(dic_final, crs=project_crs)\n",
    "new_network['length'] = new_network.length\n",
    "# create network\n",
    "new_network.to_file(f'{data_folder}/simp.shp')"
   ],
   "outputs": [
    {
     "name": "stderr",
     "output_type": "stream",
     "text": [
      "  0%|          | 0/5788 [00:00<?, ?it/s]"
     ]
    },
    {
     "name": "stdout",
     "output_type": "stream",
     "text": [
      "2\n"
     ]
    },
    {
     "name": "stderr",
     "output_type": "stream",
     "text": [
      "  0%|          | 2/5788 [00:02<1:38:07,  1.02s/it]"
     ]
    },
    {
     "name": "stdout",
     "output_type": "stream",
     "text": [
      "A C Lindblads gata\n",
      "A E Holmbergs gata\n",
      "A O Elliots väg\n"
     ]
    },
    {
     "name": "stderr",
     "output_type": "stream",
     "text": [
      "  0%|          | 5/5788 [00:02<43:15,  2.23it/s]  "
     ]
    },
    {
     "name": "stdout",
     "output_type": "stream",
     "text": [
      "A Odhners gata\n"
     ]
    },
    {
     "name": "stderr",
     "output_type": "stream",
     "text": [
      "  0%|          | 8/5788 [00:06<1:14:13,  1.30it/s]"
     ]
    },
    {
     "name": "stdout",
     "output_type": "stream",
     "text": [
      "A R Lorents gata\n",
      "Abborregatan\n",
      "Adler Salvius gata\n"
     ]
    },
    {
     "name": "stderr",
     "output_type": "stream",
     "text": [
      "  0%|          | 14/5788 [00:06<25:15,  3.81it/s] "
     ]
    },
    {
     "name": "stdout",
     "output_type": "stream",
     "text": [
      "Adolf Edelsvärds gata\n",
      "Adolf Landströms väg\n",
      "Adolfs Lycka\n",
      "Adolfsbergs Trappor\n",
      "Adrian Petersons Gångväg\n",
      "Adventsvägen\n"
     ]
    },
    {
     "name": "stderr",
     "output_type": "stream",
     "text": [
      "  0%|          | 16/5788 [00:06<21:56,  4.38it/s]"
     ]
    },
    {
     "name": "stdout",
     "output_type": "stream",
     "text": [
      "Aftongatan\n",
      "Agnesbergsvägen\n",
      "Agronomgatan\n"
     ]
    },
    {
     "name": "stderr",
     "output_type": "stream",
     "text": [
      "  0%|          | 18/5788 [00:07<18:45,  5.13it/s]"
     ]
    },
    {
     "name": "stdout",
     "output_type": "stream",
     "text": [
      "Ahrenbergsgatan\n",
      "Akaciagården\n"
     ]
    },
    {
     "name": "stderr",
     "output_type": "stream",
     "text": [
      "  0%|          | 22/5788 [00:07<17:22,  5.53it/s]"
     ]
    },
    {
     "name": "stdout",
     "output_type": "stream",
     "text": [
      "Akkas gata\n",
      "Aklejavägen\n",
      "Akustikvägen\n"
     ]
    },
    {
     "name": "stderr",
     "output_type": "stream",
     "text": [
      "  0%|          | 26/5788 [00:08<12:29,  7.69it/s]"
     ]
    },
    {
     "name": "stdout",
     "output_type": "stream",
     "text": [
      "Akvamaringatan\n",
      "Albanusbacken\n",
      "Albert Ehrensvärds Gångväg\n",
      "Albert Engströmsgatan\n"
     ]
    },
    {
     "name": "stderr",
     "output_type": "stream",
     "text": [
      "  1%|          | 29/5788 [00:08<09:13, 10.40it/s]"
     ]
    },
    {
     "name": "stdout",
     "output_type": "stream",
     "text": [
      "Albin Holms Backe\n",
      "Albotorget\n",
      "Alekärrsgatan\n",
      "Alelundsgatan\n"
     ]
    },
    {
     "name": "stderr",
     "output_type": "stream",
     "text": [
      "  1%|          | 33/5788 [00:08<08:19, 11.53it/s]"
     ]
    },
    {
     "name": "stdout",
     "output_type": "stream",
     "text": [
      "Alelyckegatan\n",
      "Alevägen\n",
      "Alfhemsgatan\n",
      "Alfred Gärdes väg\n"
     ]
    },
    {
     "name": "stderr",
     "output_type": "stream",
     "text": [
      "  1%|          | 35/5788 [00:12<1:01:18,  1.56it/s]"
     ]
    },
    {
     "name": "stdout",
     "output_type": "stream",
     "text": [
      "Alfred Wigelius väg\n"
     ]
    },
    {
     "name": "stderr",
     "output_type": "stream",
     "text": [
      "  1%|          | 37/5788 [00:13<49:36,  1.93it/s]  "
     ]
    },
    {
     "name": "stdout",
     "output_type": "stream",
     "text": [
      "Algatan\n",
      "Alhaga\n",
      "Alice Bonthronsgatan\n",
      "Alivallsgatan\n"
     ]
    },
    {
     "name": "stderr",
     "output_type": "stream",
     "text": [
      "  1%|          | 41/5788 [00:13<31:00,  3.09it/s]"
     ]
    },
    {
     "name": "stdout",
     "output_type": "stream",
     "text": [
      "Allebyvägen\n",
      "Allhelgonagatan\n"
     ]
    },
    {
     "name": "stderr",
     "output_type": "stream",
     "text": [
      "  1%|          | 42/5788 [00:13<27:28,  3.49it/s]"
     ]
    },
    {
     "name": "stdout",
     "output_type": "stream",
     "text": [
      "Allmänna Skedet\n",
      "Allmänna vägen\n"
     ]
    },
    {
     "name": "stderr",
     "output_type": "stream",
     "text": [
      "  1%|          | 45/5788 [00:14<22:05,  4.33it/s]"
     ]
    },
    {
     "name": "stdout",
     "output_type": "stream",
     "text": [
      "Allsångsgången\n",
      "Almanacksvägen\n"
     ]
    },
    {
     "name": "stderr",
     "output_type": "stream",
     "text": [
      "  1%|          | 50/5788 [00:15<17:29,  5.47it/s]"
     ]
    },
    {
     "name": "stdout",
     "output_type": "stream",
     "text": [
      "Almedalsvägen\n",
      "Almen\n",
      "Almgården\n",
      "Almhöjdsvägen\n",
      "Almquistgatan\n"
     ]
    },
    {
     "name": "stderr",
     "output_type": "stream",
     "text": [
      "  1%|          | 57/5788 [00:15<08:43, 10.94it/s]"
     ]
    },
    {
     "name": "stdout",
     "output_type": "stream",
     "text": [
      "Almqvists Bro\n",
      "Almstrandsgatan\n",
      "Alprosen\n",
      "Alstigen\n",
      "Alströmergatan\n",
      "Altarbacken\n",
      "Altfiolgatan\n"
     ]
    },
    {
     "name": "stderr",
     "output_type": "stream",
     "text": [
      "  1%|          | 62/5788 [00:15<06:59, 13.64it/s]"
     ]
    },
    {
     "name": "stdout",
     "output_type": "stream",
     "text": [
      "Amalia Jönssons gata\n",
      "Amandas Gård\n",
      "Amatörradiogatan\n",
      "Amazonvägen\n",
      "Ambjörnhagsvägen\n"
     ]
    },
    {
     "name": "stderr",
     "output_type": "stream",
     "text": [
      "  1%|          | 64/5788 [00:16<07:55, 12.03it/s]"
     ]
    },
    {
     "name": "stdout",
     "output_type": "stream",
     "text": [
      "Ambrosdalen\n",
      "Ambrosgården\n",
      "Ambrosiusgatan\n"
     ]
    },
    {
     "name": "stderr",
     "output_type": "stream",
     "text": [
      "  1%|          | 68/5788 [00:16<07:54, 12.05it/s]"
     ]
    },
    {
     "name": "stdout",
     "output_type": "stream",
     "text": [
      "Amerikagatan\n",
      "Ametistgatan\n",
      "Amhult Nedergård\n",
      "Amhults Byväg\n"
     ]
    },
    {
     "name": "stderr",
     "output_type": "stream",
     "text": [
      "  1%|          | 72/5788 [00:17<13:51,  6.88it/s]"
     ]
    },
    {
     "name": "stdout",
     "output_type": "stream",
     "text": [
      "Amhults Långelid\n",
      "Amhults Uppegård\n",
      "Amhults undergång\n",
      "Amhultsvägen\n",
      "Amiralitetsgatan\n",
      "Ampedalsvägen\n"
     ]
    },
    {
     "name": "stderr",
     "output_type": "stream",
     "text": [
      "  1%|▏         | 76/5788 [00:17<10:58,  8.68it/s]"
     ]
    },
    {
     "name": "stdout",
     "output_type": "stream",
     "text": [
      "Amund Grefwegatan\n",
      "Amundövik\n"
     ]
    },
    {
     "name": "stderr",
     "output_type": "stream",
     "text": [
      "  1%|▏         | 78/5788 [00:17<10:45,  8.85it/s]"
     ]
    },
    {
     "name": "stdout",
     "output_type": "stream",
     "text": [
      "Anaris Trappgata\n",
      "Andalen\n"
     ]
    },
    {
     "name": "stderr",
     "output_type": "stream",
     "text": [
      "  1%|▏         | 82/5788 [00:20<27:07,  3.51it/s]"
     ]
    },
    {
     "name": "stdout",
     "output_type": "stream",
     "text": [
      "Anders Carlssons gata\n",
      "Anders Mattssonsgatan\n",
      "Anders Personsgatan\n"
     ]
    },
    {
     "name": "stderr",
     "output_type": "stream",
     "text": [
      "  2%|▏         | 88/5788 [00:20<14:19,  6.63it/s]"
     ]
    },
    {
     "name": "stdout",
     "output_type": "stream",
     "text": [
      "Anders Zornsgatan\n",
      "Andningsbacken\n",
      "Andra Kvillängsvägen\n",
      "Andra Långgatan\n",
      "Andromedagatan\n",
      "Anekdotgatan\n"
     ]
    },
    {
     "name": "stderr",
     "output_type": "stream",
     "text": [
      "  2%|▏         | 90/5788 [00:20<13:12,  7.19it/s]"
     ]
    },
    {
     "name": "stdout",
     "output_type": "stream",
     "text": [
      "Anemongången\n",
      "Angereds Gård\n"
     ]
    },
    {
     "name": "stderr",
     "output_type": "stream",
     "text": [
      "  2%|▏         | 92/5788 [00:20<11:06,  8.55it/s]"
     ]
    },
    {
     "name": "stdout",
     "output_type": "stream",
     "text": [
      "Angereds Kyrkväg\n",
      "Angereds Lastgata\n",
      "Angereds Storåsväg\n"
     ]
    },
    {
     "name": "stderr",
     "output_type": "stream",
     "text": [
      "  2%|▏         | 97/5788 [00:25<41:25,  2.29it/s]  "
     ]
    },
    {
     "name": "stdout",
     "output_type": "stream",
     "text": [
      "Angereds Torg\n",
      "Angeredsvinkeln\n",
      "Aniaragatan\n",
      "Anisgatan\n",
      "Ankargatan\n",
      "Ankarhjelmsvägen\n"
     ]
    },
    {
     "name": "stderr",
     "output_type": "stream",
     "text": [
      "  2%|▏         | 100/5788 [00:25<29:03,  3.26it/s]"
     ]
    },
    {
     "name": "stdout",
     "output_type": "stream",
     "text": [
      "Ankarljusvägen\n",
      "Ann-Ida Broströms gata\n",
      "Anna Branzells gata\n"
     ]
    },
    {
     "name": "stderr",
     "output_type": "stream",
     "text": [
      "  2%|▏         | 108/5788 [00:25<14:00,  6.76it/s]"
     ]
    },
    {
     "name": "stdout",
     "output_type": "stream",
     "text": [
      "Anna Greta Wides Trappor\n",
      "Anna Lesselsgatan\n",
      "Anna Östvägen\n",
      "Annandagsgatan\n",
      "Annas Gård\n",
      "Annedals Trappor\n"
     ]
    },
    {
     "name": "stderr",
     "output_type": "stream",
     "text": [
      "  2%|▏         | 112/5788 [00:26<10:12,  9.26it/s]"
     ]
    },
    {
     "name": "stdout",
     "output_type": "stream",
     "text": [
      "Anneholmsgatan\n",
      "Anneredsvägen\n",
      "Annexgatan\n",
      "Annikas gata\n"
     ]
    },
    {
     "name": "stderr",
     "output_type": "stream",
     "text": [
      "  2%|▏         | 115/5788 [00:26<09:26, 10.02it/s]"
     ]
    },
    {
     "name": "stdout",
     "output_type": "stream",
     "text": [
      "Annorlundavägen\n",
      "Antenngatan\n",
      "Apelgatan\n",
      "Apelgrensgatan\n",
      "Apelgången\n"
     ]
    },
    {
     "name": "stderr",
     "output_type": "stream",
     "text": [
      "  2%|▏         | 121/5788 [00:26<07:26, 12.70it/s]"
     ]
    },
    {
     "name": "stdout",
     "output_type": "stream",
     "text": [
      "Apelsingatan\n",
      "Apelsingången\n",
      "Apotekaregatan\n",
      "Appelbergs väg\n",
      "Aprikosgatan\n",
      "Aprilgatan\n"
     ]
    },
    {
     "name": "stderr",
     "output_type": "stream",
     "text": [
      "  2%|▏         | 128/5788 [00:27<06:29, 14.53it/s]"
     ]
    },
    {
     "name": "stdout",
     "output_type": "stream",
     "text": [
      "Arbetaregatan\n",
      "Arbogagatan\n",
      "Ardalsberget\n",
      "Arendals Allé\n",
      "Arendals Skans\n"
     ]
    },
    {
     "name": "stderr",
     "output_type": "stream",
     "text": [
      "  2%|▏         | 130/5788 [00:27<06:37, 14.25it/s]"
     ]
    },
    {
     "name": "stdout",
     "output_type": "stream",
     "text": [
      "Arendals Strandpromenad\n",
      "Arendalsvägen\n"
     ]
    },
    {
     "name": "stderr",
     "output_type": "stream",
     "text": [
      "  2%|▏         | 136/5788 [00:28<14:35,  6.45it/s]"
     ]
    },
    {
     "name": "stdout",
     "output_type": "stream",
     "text": [
      "Arfvidssonsgatan\n",
      "Arkitektgatan\n",
      "Arkivgatan\n",
      "Arlagången\n",
      "Armlängdsgatan\n",
      "Arne Augustssons Plats\n",
      "Aron Jonasons Gångväg\n",
      "Arons väg\n"
     ]
    },
    {
     "name": "stderr",
     "output_type": "stream",
     "text": [
      "  3%|▎         | 146/5788 [00:29<06:52, 13.69it/s]"
     ]
    },
    {
     "name": "stdout",
     "output_type": "stream",
     "text": [
      "Aronsberg\n",
      "Aronsbergsvägen\n",
      "Aroseniusgatan\n",
      "Arosgatan\n",
      "Arrendatorsgatan\n",
      "Arsenalsgatan\n",
      "Arthur Lunds Gångväg\n",
      "Artillerigatan\n",
      "Arves Marias väg\n",
      "Arvesgärde\n"
     ]
    },
    {
     "name": "stderr",
     "output_type": "stream",
     "text": [
      "  3%|▎         | 153/5788 [00:31<13:09,  7.14it/s]"
     ]
    },
    {
     "name": "stdout",
     "output_type": "stream",
     "text": [
      "Arvid Bjerkesgatan\n",
      "Arvid Hedvalls Backe\n",
      "Arvid Lignells väg\n",
      "Arvid Lindmansgatan\n",
      "Arvid Palmgrens gata\n",
      "Arvid Wallgrens backe\n"
     ]
    },
    {
     "name": "stderr",
     "output_type": "stream",
     "text": [
      "  3%|▎         | 156/5788 [00:31<11:02,  8.50it/s]"
     ]
    },
    {
     "name": "stdout",
     "output_type": "stream",
     "text": [
      "Aröds Genväg\n",
      "Aröds Industriväg\n",
      "Aschebergsgatan\n"
     ]
    },
    {
     "name": "stderr",
     "output_type": "stream",
     "text": [
      "  3%|▎         | 159/5788 [00:33<27:46,  3.38it/s]"
     ]
    },
    {
     "name": "stdout",
     "output_type": "stream",
     "text": [
      "Askesby Högengårdar\n",
      "Askesby Norgård\n",
      "Askesby Sörgård\n",
      "Askesbyvägen\n",
      "Askgården\n"
     ]
    },
    {
     "name": "stderr",
     "output_type": "stream",
     "text": [
      "  3%|▎         | 165/5788 [00:34<17:41,  5.30it/s]"
     ]
    },
    {
     "name": "stdout",
     "output_type": "stream",
     "text": [
      "Askims Backaväg\n",
      "Askims Badväg\n",
      "Askims Domarringsväg\n"
     ]
    },
    {
     "name": "stderr",
     "output_type": "stream",
     "text": [
      "  3%|▎         | 171/5788 [00:34<10:42,  8.74it/s]"
     ]
    },
    {
     "name": "stdout",
     "output_type": "stream",
     "text": [
      "Askims Fornborgsväg\n",
      "Askims Furuväg\n",
      "Askims Granstig\n",
      "Askims Hovslagareväg\n",
      "Askims Högalid\n",
      "Askims Industriväg\n"
     ]
    },
    {
     "name": "stderr",
     "output_type": "stream",
     "text": [
      "  3%|▎         | 175/5788 [00:34<10:50,  8.62it/s]"
     ]
    },
    {
     "name": "stdout",
     "output_type": "stream",
     "text": [
      "Askims Jordhyttebacke\n",
      "Askims Jättegrytsväg\n",
      "Askims Krokegårdsväg\n",
      "Askims Kvarnfallsväg\n",
      "Askims Kyrkväg\n"
     ]
    },
    {
     "name": "stderr",
     "output_type": "stream",
     "text": [
      "  3%|▎         | 179/5788 [00:37<29:25,  3.18it/s]"
     ]
    },
    {
     "name": "stdout",
     "output_type": "stream",
     "text": [
      "Askims Kyrkåsväg\n",
      "Askims Lillbackaväg\n",
      "Askims Mabäcksväg\n",
      "Askims Myrstig\n",
      "Askims Nämndemansväg\n",
      "Askims Pilegårdsväg\n"
     ]
    },
    {
     "name": "stderr",
     "output_type": "stream",
     "text": [
      "  3%|▎         | 185/5788 [00:37<15:24,  6.06it/s]"
     ]
    },
    {
     "name": "stdout",
     "output_type": "stream",
     "text": [
      "Askims Pixboväg\n",
      "Askims Röseväg\n",
      "Askims Silverkälla\n"
     ]
    },
    {
     "name": "stderr",
     "output_type": "stream",
     "text": [
      "  3%|▎         | 188/5788 [00:37<11:41,  7.99it/s]"
     ]
    },
    {
     "name": "stdout",
     "output_type": "stream",
     "text": [
      "Askims Skogsväg\n",
      "Askims Skytteväg\n",
      "Askims Stationsväg\n"
     ]
    },
    {
     "name": "stderr",
     "output_type": "stream",
     "text": [
      "  3%|▎         | 194/5788 [00:38<12:02,  7.75it/s]"
     ]
    },
    {
     "name": "stdout",
     "output_type": "stream",
     "text": [
      "Askims Stenblocksväg\n",
      "Askims Stenlid\n",
      "Askims Strandväg\n",
      "Askims Svartmosseväg\n",
      "Askims Svedjeväg\n",
      "Askims Sävstig\n",
      "Askims Sörgårdsväg\n"
     ]
    },
    {
     "name": "stderr",
     "output_type": "stream",
     "text": [
      "  3%|▎         | 202/5788 [00:39<06:42, 13.87it/s]"
     ]
    },
    {
     "name": "stdout",
     "output_type": "stream",
     "text": [
      "Askims Timmermansväg\n",
      "Askims Trappstig\n",
      "Askims Uggleväg\n",
      "Askims Urbergsväg\n",
      "Askims Utsiktsväg\n",
      "Askims Verkstadsväg\n",
      "Askims Ängsväg\n",
      "Askims Ängåsstig\n",
      "Askims Övergårdsväg\n"
     ]
    },
    {
     "name": "stderr",
     "output_type": "stream",
     "text": [
      "  4%|▎         | 205/5788 [00:39<06:08, 15.16it/s]"
     ]
    },
    {
     "name": "stdout",
     "output_type": "stream",
     "text": [
      "Askimsgatan\n",
      "Askåkersplan\n"
     ]
    },
    {
     "name": "stderr",
     "output_type": "stream",
     "text": [
      "  4%|▎         | 210/5788 [00:39<06:46, 13.73it/s]"
     ]
    },
    {
     "name": "stdout",
     "output_type": "stream",
     "text": [
      "Asmunds Lycka\n",
      "Asmundtorp Nedergård\n",
      "Asmundtorpsvägen\n",
      "Aspedalsgläntan\n",
      "Aspedalsvägen\n"
     ]
    },
    {
     "name": "stderr",
     "output_type": "stream",
     "text": [
      "  4%|▍         | 219/5788 [00:40<03:54, 23.76it/s]"
     ]
    },
    {
     "name": "stdout",
     "output_type": "stream",
     "text": [
      "Aspegången\n",
      "Aspelundsgården\n",
      "Asperögatan\n",
      "Aspgatan\n",
      "Aspgården\n",
      "Aspirantgatan\n",
      "Asplyckevägen\n",
      "Assar Gabrielssons väg\n"
     ]
    },
    {
     "name": "stderr",
     "output_type": "stream",
     "text": [
      "  4%|▍         | 222/5788 [00:41<15:23,  6.03it/s]"
     ]
    },
    {
     "name": "stdout",
     "output_type": "stream",
     "text": [
      "Assessorsgatan\n",
      "Astervägen\n",
      "Astrakangatan\n",
      "Astris gata\n"
     ]
    },
    {
     "name": "stderr",
     "output_type": "stream",
     "text": [
      "  4%|▍         | 225/5788 [00:42<16:31,  5.61it/s]"
     ]
    },
    {
     "name": "stdout",
     "output_type": "stream",
     "text": [
      "Astronomgatan\n",
      "Atlandsgatan\n",
      "Atmosfärgatan\n"
     ]
    },
    {
     "name": "stderr",
     "output_type": "stream",
     "text": [
      "  4%|▍         | 227/5788 [00:42<14:59,  6.18it/s]"
     ]
    },
    {
     "name": "stdout",
     "output_type": "stream",
     "text": [
      "August Barks gata\n"
     ]
    },
    {
     "name": "stderr",
     "output_type": "stream",
     "text": [
      "  4%|▍         | 229/5788 [00:43<18:38,  4.97it/s]"
     ]
    },
    {
     "name": "stdout",
     "output_type": "stream",
     "text": [
      "August Kobbs stig\n",
      "August Kobbsgatan\n"
     ]
    },
    {
     "name": "stderr",
     "output_type": "stream",
     "text": [
      "  4%|▍         | 235/5788 [00:43<12:09,  7.61it/s]"
     ]
    },
    {
     "name": "stdout",
     "output_type": "stream",
     "text": [
      "August Strindbergs gångväg\n",
      "Augustas väg\n",
      "Augustigatan\n",
      "Austvägen\n",
      "Aveskärsgatan\n",
      "Axel Adlers gata\n"
     ]
    },
    {
     "name": "stderr",
     "output_type": "stream",
     "text": [
      "  4%|▍         | 240/5788 [00:44<09:07, 10.14it/s]"
     ]
    },
    {
     "name": "stdout",
     "output_type": "stream",
     "text": [
      "Axel Dahlströms torg\n",
      "Axel Krooks gångväg\n",
      "Axel Romdahls Trappor\n",
      "Axelinas väg\n",
      "Azaleagången\n",
      "Babordsgatan\n",
      "Backa Bergögata\n",
      "Backa Kyrkogata\n"
     ]
    },
    {
     "name": "stderr",
     "output_type": "stream",
     "text": [
      "  4%|▍         | 244/5788 [00:44<10:55,  8.46it/s]"
     ]
    },
    {
     "name": "stdout",
     "output_type": "stream",
     "text": [
      "Backa Strandgata\n",
      "Backadalen\n"
     ]
    },
    {
     "name": "stderr",
     "output_type": "stream",
     "text": [
      "  4%|▍         | 246/5788 [00:45<14:09,  6.53it/s]"
     ]
    },
    {
     "name": "stdout",
     "output_type": "stream",
     "text": [
      "Backadalsgatan\n",
      "Backavägen\n"
     ]
    },
    {
     "name": "stderr",
     "output_type": "stream",
     "text": [
      "  4%|▍         | 248/5788 [00:46<22:04,  4.18it/s]"
     ]
    },
    {
     "name": "stdout",
     "output_type": "stream",
     "text": [
      "Backebogatan\n",
      "Backegårdsgatan\n"
     ]
    },
    {
     "name": "stderr",
     "output_type": "stream",
     "text": [
      "  4%|▍         | 253/5788 [00:46<15:42,  5.88it/s]"
     ]
    },
    {
     "name": "stdout",
     "output_type": "stream",
     "text": [
      "Backeredsvägen\n",
      "Backergårdsvägen\n",
      "Backeskärsgatan\n",
      "Backsippegången\n",
      "Backstugevägen\n"
     ]
    },
    {
     "name": "stderr",
     "output_type": "stream",
     "text": [
      "  4%|▍         | 258/5788 [00:47<09:52,  9.34it/s]"
     ]
    },
    {
     "name": "stdout",
     "output_type": "stream",
     "text": [
      "Backsvalegatan\n",
      "Backängen\n",
      "Badvikshöjden\n",
      "Badviksvägen\n",
      "Badvädersgatan\n"
     ]
    },
    {
     "name": "stderr",
     "output_type": "stream",
     "text": [
      "  5%|▍         | 264/5788 [00:47<06:23, 14.40it/s]"
     ]
    },
    {
     "name": "stdout",
     "output_type": "stream",
     "text": [
      "Bagaregårdsgatan\n",
      "Bagaregårdsliden\n",
      "Baldersgatan\n",
      "Baldersplatsen\n",
      "Balladgatan\n"
     ]
    },
    {
     "name": "stderr",
     "output_type": "stream",
     "text": [
      "  5%|▍         | 269/5788 [00:47<06:07, 15.03it/s]"
     ]
    },
    {
     "name": "stdout",
     "output_type": "stream",
     "text": [
      "Balsamingatan\n",
      "Baltzersgatan\n",
      "Banaliden\n",
      "Bandfiltersgatan\n",
      "Bandsågsgatan\n"
     ]
    },
    {
     "name": "stderr",
     "output_type": "stream",
     "text": [
      "  5%|▍         | 271/5788 [00:47<06:04, 15.15it/s]"
     ]
    },
    {
     "name": "stdout",
     "output_type": "stream",
     "text": [
      "Bandtraktorgatan\n",
      "Banehagsgatan\n"
     ]
    },
    {
     "name": "stderr",
     "output_type": "stream",
     "text": [
      "  5%|▍         | 275/5788 [00:48<06:12, 14.81it/s]"
     ]
    },
    {
     "name": "stdout",
     "output_type": "stream",
     "text": [
      "Banehagsliden\n",
      "Bangatan\n",
      "Bangårdsgatan\n",
      "Banjogatan\n",
      "Bankebergsgatan\n"
     ]
    },
    {
     "name": "stderr",
     "output_type": "stream",
     "text": [
      "  5%|▍         | 278/5788 [00:48<05:29, 16.72it/s]"
     ]
    },
    {
     "name": "stdout",
     "output_type": "stream",
     "text": [
      "Bankogatan\n",
      "Banvaktsvägen\n",
      "Banérsgatan\n",
      "Barberaregatan\n",
      "Barbro Hörbergs gata\n",
      "Barefjällsgatan\n",
      "Barkassgatan\n",
      "Barken Beatrices gata\n",
      "Barken Storegrunds gata\n"
     ]
    },
    {
     "name": "stderr",
     "output_type": "stream",
     "text": [
      "  5%|▌         | 291/5788 [00:48<03:34, 25.62it/s]"
     ]
    },
    {
     "name": "stdout",
     "output_type": "stream",
     "text": [
      "Barkspadesgatan\n",
      "Barlastgatan\n",
      "Barnhusgatan\n",
      "Barnmorskan Almas väg\n",
      "Barometergatan\n",
      "Baron Rogers gata\n"
     ]
    },
    {
     "name": "stderr",
     "output_type": "stream",
     "text": [
      "  5%|▌         | 294/5788 [00:49<08:10, 11.21it/s]"
     ]
    },
    {
     "name": "stdout",
     "output_type": "stream",
     "text": [
      "Barriärvägen\n",
      "Barrskogsgatan\n",
      "Barrskogsgränd\n",
      "Barrstigen\n",
      "Barytongatan\n",
      "Basargatan\n",
      "Bassåsbacken\n",
      "Bassåsvägen\n"
     ]
    },
    {
     "name": "stderr",
     "output_type": "stream",
     "text": [
      "  5%|▌         | 304/5788 [00:49<04:43, 19.34it/s]"
     ]
    },
    {
     "name": "stdout",
     "output_type": "stream",
     "text": [
      "Bastebergsvägen\n",
      "Bastionsplatsen\n",
      "Basungatan\n",
      "Batterigatan\n",
      "Batterivägen\n",
      "Bauersgatan\n"
     ]
    },
    {
     "name": "stderr",
     "output_type": "stream",
     "text": [
      "  5%|▌         | 307/5788 [00:49<04:32, 20.15it/s]"
     ]
    },
    {
     "name": "stdout",
     "output_type": "stream",
     "text": [
      "Bautastensgatan\n",
      "Bazarbron\n",
      "Beatrice Lesslies gata\n",
      "Beckasinsvägen\n",
      "Beda Hallbergs Gångväg\n",
      "Befälsgatan\n",
      "Behandlingsvägen\n"
     ]
    },
    {
     "name": "stderr",
     "output_type": "stream",
     "text": [
      "  5%|▌         | 317/5788 [00:50<04:03, 22.47it/s]"
     ]
    },
    {
     "name": "stdout",
     "output_type": "stream",
     "text": [
      "Bele Nordins väg\n",
      "Belegatan\n",
      "Bellisgången\n",
      "Bellmansgatan\n",
      "Bengt Lidnersgatan\n",
      "Bengta Hanssons väg\n",
      "Bengtstorpsstigen\n",
      "Benjamins Lycka\n",
      "Bensinvägen\n",
      "Bentylgatan\n"
     ]
    },
    {
     "name": "stderr",
     "output_type": "stream",
     "text": [
      "  6%|▌         | 329/5788 [00:50<04:04, 22.35it/s]"
     ]
    },
    {
     "name": "stdout",
     "output_type": "stream",
     "text": [
      "Bergakungen\n",
      "Bergakärrsgatan\n",
      "Bergaredstrappan\n",
      "Bergaredsvägen\n",
      "Bergarns Backe\n",
      "Bergartsgatan\n",
      "Bergavägen\n",
      "Bergegårdsvägen\n",
      "Bergfinksvägen\n",
      "Berggrensgatan\n",
      "Berggrottevägen\n",
      "Berghagabacken\n"
     ]
    },
    {
     "name": "stderr",
     "output_type": "stream",
     "text": [
      "  6%|▌         | 340/5788 [00:50<02:58, 30.55it/s]"
     ]
    },
    {
     "name": "stdout",
     "output_type": "stream",
     "text": [
      "Berghagagången\n",
      "Berghagavägen\n",
      "Berghemsvägen\n",
      "Berghällsgatan\n",
      "Berghöjdsgatan\n",
      "Bergkantsvägen\n",
      "Bergklevet\n"
     ]
    },
    {
     "name": "stderr",
     "output_type": "stream",
     "text": [
      "  6%|▌         | 348/5788 [00:51<03:08, 28.84it/s]"
     ]
    },
    {
     "name": "stdout",
     "output_type": "stream",
     "text": [
      "Bergklinten\n",
      "Bergknallen\n",
      "Bergkristallparken\n",
      "Bergkristallsgatan\n",
      "Bergkullavägen\n",
      "Bergkullen\n",
      "Berglärkan\n"
     ]
    },
    {
     "name": "stderr",
     "output_type": "stream",
     "text": [
      "  6%|▌         | 352/5788 [00:52<09:22,  9.67it/s]"
     ]
    },
    {
     "name": "stdout",
     "output_type": "stream",
     "text": [
      "Bergsbogatan\n",
      "Bergsfoten\n",
      "Bergsgatan\n",
      "Bergsgårdsgärdet\n",
      "Bergsgårdsvägen\n"
     ]
    },
    {
     "name": "stderr",
     "output_type": "stream",
     "text": [
      "  6%|▌         | 355/5788 [00:52<08:13, 11.01it/s]"
     ]
    },
    {
     "name": "stdout",
     "output_type": "stream",
     "text": [
      "Bergsjöbadet\n",
      "Bergsjödalen\n",
      "Bergsjösvängen\n",
      "Bergsjövägen\n"
     ]
    },
    {
     "name": "stderr",
     "output_type": "stream",
     "text": [
      "  6%|▌         | 358/5788 [01:04<1:30:30,  1.00s/it]"
     ]
    },
    {
     "name": "stdout",
     "output_type": "stream",
     "text": [
      "Bergskogsgatan\n",
      "Bergskäddegatan\n",
      "Bergslagsgatan\n"
     ]
    },
    {
     "name": "stderr",
     "output_type": "stream",
     "text": [
      "  6%|▌         | 361/5788 [01:04<1:08:52,  1.31it/s]"
     ]
    },
    {
     "name": "stdout",
     "output_type": "stream",
     "text": [
      "Bergslänten\n",
      "Bergspromenaden\n"
     ]
    },
    {
     "name": "stderr",
     "output_type": "stream",
     "text": [
      "  6%|▋         | 371/5788 [01:05<32:08,  2.81it/s]  "
     ]
    },
    {
     "name": "stdout",
     "output_type": "stream",
     "text": [
      "Bergsprängaregatan\n",
      "Bergstigen\n",
      "Bergsträdgården\n",
      "Bergsvägen\n",
      "Bergsätersgatan\n",
      "Bergtallsvägen\n",
      "Bergtungegatan\n",
      "Bergums Furåsväg\n",
      "Bergums Hovgårdsväg\n",
      "Bergums Högenväg\n"
     ]
    },
    {
     "name": "stderr",
     "output_type": "stream",
     "text": [
      "  7%|▋         | 383/5788 [01:05<13:51,  6.50it/s]"
     ]
    },
    {
     "name": "stdout",
     "output_type": "stream",
     "text": [
      "Bergums Karlslund\n",
      "Bergums Kyrkväg\n",
      "Bergums Källebacke\n",
      "Bergums Källegårdsväg\n",
      "Bergums Lyckeväg\n",
      "Bergums Mellangårdsväg\n",
      "Bergums Nedregårdsväg\n",
      "Bergums Prästgårdsbacke\n",
      "Bergums Prästgårdsslinga\n",
      "Bergums Prästgårdsväg\n",
      "Bergums Skattegårdsväg\n",
      "Bergums Skårsväg\n",
      "Bergums Uppegårdsväg\n",
      "Bergums södergårdsväg\n",
      "Berguven\n",
      "Berguvsgatan\n"
     ]
    },
    {
     "name": "stderr",
     "output_type": "stream",
     "text": [
      "  7%|▋         | 389/5788 [01:05<09:52,  9.11it/s]"
     ]
    },
    {
     "name": "stdout",
     "output_type": "stream",
     "text": [
      "Bergwalls trappor\n",
      "Bernhard Karlgrens gångväg\n",
      "Bernhards gränd\n",
      "Bertil von Wachenfeldts väg\n"
     ]
    },
    {
     "name": "stderr",
     "output_type": "stream",
     "text": [
      "  7%|▋         | 394/5788 [01:06<08:32, 10.53it/s]"
     ]
    },
    {
     "name": "stdout",
     "output_type": "stream",
     "text": [
      "Beryllgatan\n",
      "Berzeliigatan\n",
      "Berättelsegatan\n"
     ]
    },
    {
     "name": "stderr",
     "output_type": "stream",
     "text": [
      "  7%|▋         | 398/5788 [01:06<10:30,  8.55it/s]"
     ]
    },
    {
     "name": "stdout",
     "output_type": "stream",
     "text": [
      "Bessemergatan\n",
      "Besvärsgatan\n",
      "Besvärsgången\n",
      "Betaniagatan\n",
      "Betesgatan\n",
      "Betongvägen\n",
      "Betselvägen\n",
      "Betzensgatan\n",
      "Beväringsgatan\n"
     ]
    },
    {
     "name": "stderr",
     "output_type": "stream",
     "text": [
      "  7%|▋         | 408/5788 [01:07<07:53, 11.36it/s]"
     ]
    },
    {
     "name": "stdout",
     "output_type": "stream",
     "text": [
      "Bielkegatan\n",
      "Bifyrsvägen\n",
      "Bigarrågången\n",
      "Bildradiogatan\n"
     ]
    },
    {
     "name": "stderr",
     "output_type": "stream",
     "text": [
      "  7%|▋         | 414/5788 [01:07<06:30, 13.75it/s]"
     ]
    },
    {
     "name": "stdout",
     "output_type": "stream",
     "text": [
      "Bildsnidaregatan\n",
      "Bildstensgatan\n",
      "Billdals Almväg\n",
      "Billdals Apelgång\n",
      "Billdals Aspväg\n",
      "Billdals Badväg\n",
      "Billdals Björkväg\n",
      "Billdals Bokväg\n"
     ]
    },
    {
     "name": "stderr",
     "output_type": "stream",
     "text": [
      "  7%|▋         | 417/5788 [01:07<06:02, 14.82it/s]"
     ]
    },
    {
     "name": "stdout",
     "output_type": "stream",
     "text": [
      "Billdals Hagenväg\n"
     ]
    },
    {
     "name": "stderr",
     "output_type": "stream",
     "text": [
      "  7%|▋         | 423/5788 [01:08<07:37, 11.74it/s]"
     ]
    },
    {
     "name": "stdout",
     "output_type": "stream",
     "text": [
      "Billdals Hasselväg\n",
      "Billdals Häggväg\n",
      "Billdals Kastanjegång\n",
      "Billdals Kläppeväg\n",
      "Billdals Kyrkogårdsväg\n",
      "Billdals Kyrkväg\n",
      "Billdals Lindgång\n",
      "Billdals Lärkträdsväg\n",
      "Billdals Lövskogsväg\n"
     ]
    },
    {
     "name": "stderr",
     "output_type": "stream",
     "text": [
      "  7%|▋         | 427/5788 [01:09<12:23,  7.21it/s]"
     ]
    },
    {
     "name": "stdout",
     "output_type": "stream",
     "text": [
      "Billdals Pilgång\n",
      "Billdals Rönnväg\n",
      "Billdals Sommarväg\n"
     ]
    },
    {
     "name": "stderr",
     "output_type": "stream",
     "text": [
      "  7%|▋         | 432/5788 [01:10<10:28,  8.52it/s]"
     ]
    },
    {
     "name": "stdout",
     "output_type": "stream",
     "text": [
      "Billdals Stationsväg\n",
      "Billdals Storegårdsväg\n",
      "Billdals Trädgårdsväg\n",
      "Billdals Vårväg\n",
      "Billdals allé\n",
      "Billdalsvägen\n"
     ]
    },
    {
     "name": "stderr",
     "output_type": "stream",
     "text": [
      "  8%|▊         | 440/5788 [01:12<19:13,  4.63it/s]"
     ]
    },
    {
     "name": "stdout",
     "output_type": "stream",
     "text": [
      "Billerudsgatan\n",
      "Billingegatan\n",
      "Bingaredsvägen\n",
      "Birger Jarlsgatan\n",
      "Birgers Lycka\n",
      "Birgittagatan\n",
      "Birkagatan\n",
      "Bisamgatan\n",
      "Bisittaregatan\n",
      "Biskopsgatan\n"
     ]
    },
    {
     "name": "stderr",
     "output_type": "stream",
     "text": [
      "  8%|▊         | 449/5788 [01:13<09:48,  9.08it/s]"
     ]
    },
    {
     "name": "stdout",
     "output_type": "stream",
     "text": [
      "Bittan Johanssons gångväg\n",
      "Bjurslätts Torg\n",
      "Bjurslättsliden\n",
      "Bjurstigen\n",
      "Bjölavägen\n"
     ]
    },
    {
     "name": "stderr",
     "output_type": "stream",
     "text": [
      "  8%|▊         | 452/5788 [01:13<10:04,  8.83it/s]"
     ]
    },
    {
     "name": "stdout",
     "output_type": "stream",
     "text": [
      "Björcksgatan\n",
      "Björkberget\n",
      "Björkdalen\n",
      "Björkdungen\n",
      "Björkebacksvägen\n",
      "Björkedalsgatan\n"
     ]
    },
    {
     "name": "stderr",
     "output_type": "stream",
     "text": [
      "  8%|▊         | 457/5788 [01:13<07:27, 11.91it/s]"
     ]
    },
    {
     "name": "stdout",
     "output_type": "stream",
     "text": [
      "Björkekärrsgatan\n",
      "Björkelundsvägen\n",
      "Björkfeldtsgatan\n",
      "Björkgläntan\n",
      "Björkhagen\n",
      "Björkhällan\n"
     ]
    },
    {
     "name": "stderr",
     "output_type": "stream",
     "text": [
      "  8%|▊         | 467/5788 [01:14<06:04, 14.58it/s]"
     ]
    },
    {
     "name": "stdout",
     "output_type": "stream",
     "text": [
      "Björkhöjdsgatan\n",
      "Björkhöjdsgången\n",
      "Björkhöjdsstigen\n",
      "Björkkullavägen\n",
      "Björkkullen\n",
      "Björkliden\n"
     ]
    },
    {
     "name": "stderr",
     "output_type": "stream",
     "text": [
      "  8%|▊         | 470/5788 [01:14<05:33, 15.95it/s]"
     ]
    },
    {
     "name": "stdout",
     "output_type": "stream",
     "text": [
      "Björklundabacken\n",
      "Björklundavägen\n",
      "Björkrisvägen\n"
     ]
    },
    {
     "name": "stderr",
     "output_type": "stream",
     "text": [
      "  8%|▊         | 475/5788 [01:14<06:08, 14.42it/s]"
     ]
    },
    {
     "name": "stdout",
     "output_type": "stream",
     "text": [
      "Björkstigen\n",
      "Björktickan\n",
      "Björkuddsgatan\n",
      "Björkåsvägen\n",
      "Björlanda Kile\n"
     ]
    },
    {
     "name": "stderr",
     "output_type": "stream",
     "text": [
      "  8%|▊         | 479/5788 [01:15<06:39, 13.28it/s]"
     ]
    },
    {
     "name": "stdout",
     "output_type": "stream",
     "text": [
      "Björlanda Kyrkväg\n",
      "Björlanda Lexbyväg\n",
      "Björlanda Prästgårdsväg\n",
      "Björlanda Storegård\n",
      "Björlanda Strand\n"
     ]
    },
    {
     "name": "stderr",
     "output_type": "stream",
     "text": [
      "  8%|▊         | 482/5788 [01:15<06:01, 14.68it/s]"
     ]
    },
    {
     "name": "stdout",
     "output_type": "stream",
     "text": [
      "Björlandavägen\n"
     ]
    },
    {
     "name": "stderr",
     "output_type": "stream",
     "text": [
      "  8%|▊         | 484/5788 [01:26<2:09:26,  1.46s/it]"
     ]
    },
    {
     "name": "stdout",
     "output_type": "stream",
     "text": [
      "Björn Hedvalls stig\n",
      "Björnbacken\n"
     ]
    },
    {
     "name": "stderr",
     "output_type": "stream",
     "text": [
      "  8%|▊         | 487/5788 [01:28<1:30:02,  1.02s/it]"
     ]
    },
    {
     "name": "stdout",
     "output_type": "stream",
     "text": [
      "Björnbärsgatan\n",
      "Björnekärrsgatan\n",
      "Björngårdsvägen\n",
      "Björngårdsängen\n",
      "Björnhällsliden\n",
      "Björningsåsen\n"
     ]
    },
    {
     "name": "stderr",
     "output_type": "stream",
     "text": [
      "  9%|▊         | 494/5788 [01:28<36:19,  2.43it/s]  "
     ]
    },
    {
     "name": "stdout",
     "output_type": "stream",
     "text": [
      "Björnmossevägen\n",
      "Björnsonsgatan\n",
      "Björnväktarens gata\n",
      "Björnåsgatan\n"
     ]
    },
    {
     "name": "stderr",
     "output_type": "stream",
     "text": [
      "  9%|▊         | 498/5788 [01:28<23:33,  3.74it/s]"
     ]
    },
    {
     "name": "stdout",
     "output_type": "stream",
     "text": [
      "Björreds Äng\n",
      "Björredsvägen\n",
      "Björsareds Genväg\n",
      "Björsaredshöjden\n",
      "Björsaredsleden\n",
      "Björsaredsvägen\n"
     ]
    },
    {
     "name": "stderr",
     "output_type": "stream",
     "text": [
      "  9%|▊         | 506/5788 [01:29<11:41,  7.53it/s]"
     ]
    },
    {
     "name": "stdout",
     "output_type": "stream",
     "text": [
      "Björsaråsvägen\n",
      "Björsbo Grenåsväg\n",
      "Björsbo Gård\n",
      "Björsbo stallväg\n",
      "Björsbovägen\n",
      "Björsjöbackavägen\n",
      "Björsjövägen\n"
     ]
    },
    {
     "name": "stderr",
     "output_type": "stream",
     "text": [
      "  9%|▉         | 509/5788 [01:29<09:35,  9.17it/s]"
     ]
    },
    {
     "name": "stdout",
     "output_type": "stream",
     "text": [
      "Björsjöås Gård\n",
      "Blackevägen\n",
      "Blacktjärnsgatan\n",
      "Blankversgatan\n"
     ]
    },
    {
     "name": "stderr",
     "output_type": "stream",
     "text": [
      "  9%|▉         | 516/5788 [01:29<07:16, 12.07it/s]"
     ]
    },
    {
     "name": "stdout",
     "output_type": "stream",
     "text": [
      "Bleckvarugatan\n",
      "Blekeallén\n",
      "Blekeslänten\n",
      "Blendas gata\n",
      "Blidbergs Trappor\n",
      "Blidvädersgatan\n",
      "Blixtbrickegatan\n"
     ]
    },
    {
     "name": "stderr",
     "output_type": "stream",
     "text": [
      "  9%|▉         | 524/5788 [01:32<14:58,  5.86it/s]"
     ]
    },
    {
     "name": "stdout",
     "output_type": "stream",
     "text": [
      "Blixtfyrsvägen\n",
      "Blixtgatan\n",
      "Blixtåsvägen\n",
      "Blockflöjtsgatan\n",
      "Blodboksgatan\n",
      "Blombacken\n",
      "Blomstergatan\n",
      "Blomsteråsgången\n",
      "Blomstigen\n"
     ]
    },
    {
     "name": "stderr",
     "output_type": "stream",
     "text": [
      "  9%|▉         | 528/5788 [01:32<11:14,  7.80it/s]"
     ]
    },
    {
     "name": "stdout",
     "output_type": "stream",
     "text": [
      "Blomstrandsvägen\n",
      "Blänkfyrsvägen\n",
      "Bläsebogärdet\n",
      "Bläsgatan\n",
      "Blå Hangarens Plats\n",
      "Blå Jungfruns väg\n",
      "Blå stråket\n"
     ]
    },
    {
     "name": "stderr",
     "output_type": "stream",
     "text": [
      "  9%|▉         | 538/5788 [01:32<08:14, 10.62it/s]"
     ]
    },
    {
     "name": "stdout",
     "output_type": "stream",
     "text": [
      "Blåbärsvägen\n",
      "Blåduvebacken\n",
      "Blåeldsgatan\n",
      "Blågatan\n",
      "Blågången\n"
     ]
    },
    {
     "name": "stderr",
     "output_type": "stream",
     "text": [
      "  9%|▉         | 546/5788 [01:33<05:24, 16.14it/s]"
     ]
    },
    {
     "name": "stdout",
     "output_type": "stream",
     "text": [
      "Blåhakegatan\n",
      "Blåhammarsgatan\n",
      "Blåklintsgången\n",
      "Blåklockegatan\n",
      "Blåmesvägen\n",
      "Blåmusslegatan\n",
      "Blåsippsgatan\n",
      "Blåsutgatan\n",
      "Blåsvädersgatan\n"
     ]
    },
    {
     "name": "stderr",
     "output_type": "stream",
     "text": [
      " 10%|▉         | 553/5788 [01:33<06:06, 14.29it/s]"
     ]
    },
    {
     "name": "stdout",
     "output_type": "stream",
     "text": [
      "Blåvalsgatan\n",
      "Blåvingevägen\n",
      "Bockhamnsvägen\n",
      "Bockhornsgatan\n",
      "Bodloftsvägen\n",
      "Bofinksgatan\n",
      "Bogserbåtsgatan\n",
      "Bogsprötsgatan\n",
      "Bogärdesgatan\n"
     ]
    },
    {
     "name": "stderr",
     "output_type": "stream",
     "text": [
      " 10%|▉         | 558/5788 [01:33<04:33, 19.11it/s]"
     ]
    },
    {
     "name": "stdout",
     "output_type": "stream",
     "text": [
      "Bohusgatan\n",
      "Bokbindaregatan\n",
      "Bokekullsgatan\n"
     ]
    },
    {
     "name": "stderr",
     "output_type": "stream",
     "text": [
      " 10%|▉         | 565/5788 [01:34<06:38, 13.09it/s]"
     ]
    },
    {
     "name": "stdout",
     "output_type": "stream",
     "text": [
      "Bokgatan\n",
      "Bokgården\n",
      "Bokskogsbacken\n",
      "Boktryckaregatan\n",
      "Bolerovägen\n"
     ]
    },
    {
     "name": "stderr",
     "output_type": "stream",
     "text": [
      " 10%|▉         | 573/5788 [01:35<04:31, 19.24it/s]"
     ]
    },
    {
     "name": "stdout",
     "output_type": "stream",
     "text": [
      "Bolleskärsgatan\n",
      "Bollplansgatan\n",
      "Bolmörtsgatan\n",
      "Bolstensvägen\n",
      "Bomgatan\n",
      "Bondegatan\n",
      "Bondegärdet\n",
      "Borgaregatan\n"
     ]
    },
    {
     "name": "stderr",
     "output_type": "stream",
     "text": [
      " 10%|▉         | 576/5788 [01:35<04:17, 20.27it/s]"
     ]
    },
    {
     "name": "stdout",
     "output_type": "stream",
     "text": [
      "Borghamnsgatan\n",
      "Borgmästaregatan\n",
      "Borraregatan\n",
      "Borrsvängsgatan\n",
      "Borstbindaregatan\n",
      "Bottne Broväg\n"
     ]
    },
    {
     "name": "stderr",
     "output_type": "stream",
     "text": [
      " 10%|█         | 588/5788 [01:35<03:12, 27.00it/s]"
     ]
    },
    {
     "name": "stdout",
     "output_type": "stream",
     "text": [
      "Bottnelyckan\n",
      "Bottnevägen\n",
      "Bovallstrandsgatan\n",
      "Bragestigen\n",
      "Brahegatan\n",
      "Branddammsbacken\n",
      "Brandenburg Torp\n",
      "Brandmansgatan\n",
      "Brantbacken\n",
      "Brantgatan\n",
      "Brantingsmotet\n"
     ]
    },
    {
     "name": "stderr",
     "output_type": "stream",
     "text": [
      " 10%|█         | 592/5788 [01:35<03:13, 26.91it/s]"
     ]
    },
    {
     "name": "stdout",
     "output_type": "stream",
     "text": [
      "Bratteliden\n",
      "Bratteråsbacken\n",
      "Bratteråsgatan\n"
     ]
    },
    {
     "name": "stderr",
     "output_type": "stream",
     "text": [
      " 10%|█         | 598/5788 [01:36<03:45, 23.05it/s]"
     ]
    },
    {
     "name": "stdout",
     "output_type": "stream",
     "text": [
      "Brattåskärrsvägen\n",
      "Bredfjällsgatan\n",
      "Bredmossegatan\n",
      "Bredängen\n",
      "Bremsegårdsvägen\n"
     ]
    },
    {
     "name": "stderr",
     "output_type": "stream",
     "text": [
      " 10%|█         | 601/5788 [01:36<03:43, 23.16it/s]"
     ]
    },
    {
     "name": "stdout",
     "output_type": "stream",
     "text": [
      "Brettegatan\n",
      "Brevduvegatan\n",
      "Breviks Ängar\n",
      "Briljantgatan\n"
     ]
    },
    {
     "name": "stderr",
     "output_type": "stream",
     "text": [
      " 11%|█         | 609/5788 [01:36<04:27, 19.38it/s]"
     ]
    },
    {
     "name": "stdout",
     "output_type": "stream",
     "text": [
      "Brinkvägen\n",
      "Britta Sahlgrens gata\n",
      "Britta-Lisas gata\n",
      "Britthagsvägen\n",
      "Brittsommargatan\n",
      "Brodalen\n",
      "Brogatan\n",
      "Bromeliusgatan\n"
     ]
    },
    {
     "name": "stderr",
     "output_type": "stream",
     "text": [
      " 11%|█         | 617/5788 [01:36<03:20, 25.80it/s]"
     ]
    },
    {
     "name": "stdout",
     "output_type": "stream",
     "text": [
      "Bronsfatsgatan\n",
      "Bronsfyndsgatan\n",
      "Bronsgatan\n",
      "Bronsgjutaregatan\n",
      "Bronslursgatan\n",
      "Bronsringsgatan\n",
      "Bronsurnegatan\n",
      "Bronsvägen\n",
      "Bronsyxegatan\n",
      "Bronsåldersgatan\n"
     ]
    },
    {
     "name": "stderr",
     "output_type": "stream",
     "text": [
      " 11%|█         | 621/5788 [01:38<11:18,  7.61it/s]"
     ]
    },
    {
     "name": "stdout",
     "output_type": "stream",
     "text": [
      "Bror Carlssons Trappor\n",
      "Bror Nilssons gata\n"
     ]
    },
    {
     "name": "stderr",
     "output_type": "stream",
     "text": [
      " 11%|█         | 626/5788 [01:38<10:01,  8.58it/s]"
     ]
    },
    {
     "name": "stdout",
     "output_type": "stream",
     "text": [
      "Brostallsvägen\n",
      "Brottarvägen\n",
      "Brottkärr Stenkulla\n",
      "Brottkärrs Bergegård\n",
      "Brottkärrs Byväg\n"
     ]
    },
    {
     "name": "stderr",
     "output_type": "stream",
     "text": [
      " 11%|█         | 628/5788 [01:39<13:31,  6.36it/s]"
     ]
    },
    {
     "name": "stdout",
     "output_type": "stream",
     "text": [
      "Brottkärrs Park\n",
      "Brottkärrs Röseväg\n"
     ]
    },
    {
     "name": "stderr",
     "output_type": "stream",
     "text": [
      " 11%|█         | 630/5788 [01:40<19:01,  4.52it/s]"
     ]
    },
    {
     "name": "stdout",
     "output_type": "stream",
     "text": [
      "Brottkärrs Tennisväg\n",
      "Brottkärrsvägen\n"
     ]
    },
    {
     "name": "stderr",
     "output_type": "stream",
     "text": [
      " 11%|█         | 635/5788 [01:41<17:31,  4.90it/s]"
     ]
    },
    {
     "name": "stdout",
     "output_type": "stream",
     "text": [
      "Brudaremossen\n",
      "Bruksgatan\n",
      "Brummarebacken\n",
      "Bruna stråket\n"
     ]
    },
    {
     "name": "stderr",
     "output_type": "stream",
     "text": [
      " 11%|█         | 637/5788 [01:41<17:28,  4.91it/s]"
     ]
    },
    {
     "name": "stdout",
     "output_type": "stream",
     "text": [
      "Brungatan\n",
      "Brunkebergsgatan\n",
      "Brunnehagen\n"
     ]
    },
    {
     "name": "stderr",
     "output_type": "stream",
     "text": [
      " 11%|█         | 639/5788 [01:42<15:52,  5.41it/s]"
     ]
    },
    {
     "name": "stdout",
     "output_type": "stream",
     "text": [
      "Brunnsbotorget\n",
      "Brunnsgatan\n"
     ]
    },
    {
     "name": "stderr",
     "output_type": "stream",
     "text": [
      " 11%|█         | 645/5788 [01:42<10:29,  8.17it/s]"
     ]
    },
    {
     "name": "stdout",
     "output_type": "stream",
     "text": [
      "Brunnsparken\n",
      "Brunnsparksbron\n",
      "Brunstorps By\n",
      "Brunstorps Byväg\n",
      "Brunstorps Gärde\n",
      "Brunstorps Hage\n"
     ]
    },
    {
     "name": "stderr",
     "output_type": "stream",
     "text": [
      " 11%|█         | 647/5788 [01:42<09:23,  9.13it/s]"
     ]
    },
    {
     "name": "stdout",
     "output_type": "stream",
     "text": [
      "Brunstorps Äng\n",
      "Brunstorpsdalen\n"
     ]
    },
    {
     "name": "stderr",
     "output_type": "stream",
     "text": [
      " 11%|█         | 651/5788 [01:43<10:29,  8.17it/s]"
     ]
    },
    {
     "name": "stdout",
     "output_type": "stream",
     "text": [
      "Brunstorpsnäsvägen\n",
      "Brunstorpsvägen\n",
      "Bruntebacken\n",
      "Brushanegatan\n",
      "Bryggaregatan\n",
      "Brygghusvägen\n"
     ]
    },
    {
     "name": "stderr",
     "output_type": "stream",
     "text": [
      " 11%|█▏        | 657/5788 [01:44<09:52,  8.65it/s]"
     ]
    },
    {
     "name": "stdout",
     "output_type": "stream",
     "text": [
      "Brynnkällevägen\n",
      "Brynolfsgatan\n",
      "Bräcke Västergårds väg\n",
      "Bräcke Östergårds väg\n",
      "Bräckevägen\n"
     ]
    },
    {
     "name": "stderr",
     "output_type": "stream",
     "text": [
      " 11%|█▏        | 662/5788 [01:44<07:23, 11.57it/s]"
     ]
    },
    {
     "name": "stdout",
     "output_type": "stream",
     "text": [
      "Brämaregatan\n",
      "Brända Berget\n",
      "Brändamosse\n",
      "Brännbollsvägen\n",
      "Brännekullabacken\n",
      "Brännekullavägen\n"
     ]
    },
    {
     "name": "stderr",
     "output_type": "stream",
     "text": [
      " 12%|█▏        | 668/5788 [01:44<06:09, 13.86it/s]"
     ]
    },
    {
     "name": "stdout",
     "output_type": "stream",
     "text": [
      "Brännemysten\n",
      "Brännoljegatan\n",
      "Brännåsvägen\n",
      "Brännögatan\n"
     ]
    },
    {
     "name": "stderr",
     "output_type": "stream",
     "text": [
      " 12%|█▏        | 671/5788 [01:44<06:39, 12.81it/s]"
     ]
    },
    {
     "name": "stdout",
     "output_type": "stream",
     "text": [
      "Brödragatan\n",
      "Bua Gård\n",
      "Bua Västergårdsvägen\n"
     ]
    },
    {
     "name": "stderr",
     "output_type": "stream",
     "text": [
      " 12%|█▏        | 678/5788 [01:45<03:53, 21.89it/s]"
     ]
    },
    {
     "name": "stdout",
     "output_type": "stream",
     "text": [
      "Bua-Skogen\n",
      "Bubergsvägen\n",
      "Bufjällsleden\n",
      "Bukärrsvägen\n",
      "Bullegummans gata\n",
      "Bulteklubbsgatan\n",
      "Bulycke Gård\n",
      "Bulyckevägen\n"
     ]
    },
    {
     "name": "stderr",
     "output_type": "stream",
     "text": [
      " 12%|█▏        | 681/5788 [01:45<08:37,  9.87it/s]"
     ]
    },
    {
     "name": "stdout",
     "output_type": "stream",
     "text": [
      "Bunkebergsgatan\n",
      "Buntmakaregatan\n",
      "Bureds Gärde\n",
      "Burggrevegatan\n"
     ]
    },
    {
     "name": "stderr",
     "output_type": "stream",
     "text": [
      " 12%|█▏        | 689/5788 [01:46<06:46, 12.54it/s]"
     ]
    },
    {
     "name": "stdout",
     "output_type": "stream",
     "text": [
      "Burggreveplatsen\n",
      "Burgårdens Gcm väg\n",
      "Burgårdsgatan\n",
      "Burgårdsplatsen\n",
      "Burgårdsstråket\n",
      "Burhällsvägen\n",
      "Burmans gata\n"
     ]
    },
    {
     "name": "stderr",
     "output_type": "stream",
     "text": [
      " 12%|█▏        | 698/5788 [01:46<04:19, 19.60it/s]"
     ]
    },
    {
     "name": "stdout",
     "output_type": "stream",
     "text": [
      "Burs Gård\n",
      "Burs Skogsväg\n",
      "Burskapsgatan\n",
      "Burås Kyrkbacke\n",
      "Buskärsgatan\n",
      "Byalagsgatan\n",
      "Byamannagatan\n",
      "Byfogdegatan\n",
      "Bygatan\n"
     ]
    },
    {
     "name": "stderr",
     "output_type": "stream",
     "text": [
      " 12%|█▏        | 703/5788 [01:46<03:48, 22.22it/s]"
     ]
    },
    {
     "name": "stdout",
     "output_type": "stream",
     "text": [
      "Bygdeborgsvägen\n",
      "Byggens väg\n",
      "Byggmästaregatan\n",
      "Bygårdsvägen\n",
      "Bymolnsgatan\n"
     ]
    },
    {
     "name": "stderr",
     "output_type": "stream",
     "text": [
      " 12%|█▏        | 709/5788 [01:47<04:12, 20.12it/s]"
     ]
    },
    {
     "name": "stdout",
     "output_type": "stream",
     "text": [
      "Byttmakaregatan\n",
      "Byvädersgatan\n",
      "Byvädersgången\n",
      "Bäckebols gård\n",
      "Bäckebolslyckan\n"
     ]
    },
    {
     "name": "stderr",
     "output_type": "stream",
     "text": [
      " 12%|█▏        | 712/5788 [01:47<07:28, 11.33it/s]"
     ]
    },
    {
     "name": "stdout",
     "output_type": "stream",
     "text": [
      "Bäckebolsvägen\n",
      "Bäckebolsängen\n"
     ]
    },
    {
     "name": "stderr",
     "output_type": "stream",
     "text": [
      " 12%|█▏        | 716/5788 [01:48<10:12,  8.28it/s]"
     ]
    },
    {
     "name": "stdout",
     "output_type": "stream",
     "text": [
      "Bäckedalsgatan\n",
      "Bäckedalsvägen\n",
      "Bäckeflatsgatan\n",
      "Bäckegatan\n",
      "Bäckeliden\n",
      "Bäckelyckan\n",
      "Bäckravinsgatan\n"
     ]
    },
    {
     "name": "stderr",
     "output_type": "stream",
     "text": [
      " 12%|█▏        | 722/5788 [01:48<06:18, 13.38it/s]"
     ]
    },
    {
     "name": "stdout",
     "output_type": "stream",
     "text": [
      "Bäcksins väg\n",
      "Bäckslingan\n",
      "Bäckströms väg\n",
      "Bäcktuvevägen\n",
      "Bäckuddsgatan\n"
     ]
    },
    {
     "name": "stderr",
     "output_type": "stream",
     "text": [
      " 13%|█▎        | 728/5788 [01:49<05:30, 15.32it/s]"
     ]
    },
    {
     "name": "stdout",
     "output_type": "stream",
     "text": [
      "Bäckängsgatan\n",
      "Bäfverfeltsgatan\n",
      "Bällskärsvägen\n",
      "Bällsrogatan\n"
     ]
    },
    {
     "name": "stderr",
     "output_type": "stream",
     "text": [
      " 13%|█▎        | 735/5788 [01:49<04:13, 19.97it/s]"
     ]
    },
    {
     "name": "stdout",
     "output_type": "stream",
     "text": [
      "Bältbron\n",
      "Bältgatan\n",
      "Bärby Bygdegårdsväg\n",
      "Bärby Herrgårdsväg\n",
      "Bärby Nedergård\n",
      "Bärby korsväg\n",
      "Bärby Övergård\n"
     ]
    },
    {
     "name": "stderr",
     "output_type": "stream",
     "text": [
      " 13%|█▎        | 738/5788 [01:49<04:31, 18.61it/s]"
     ]
    },
    {
     "name": "stdout",
     "output_type": "stream",
     "text": [
      "Bärbyvägen\n",
      "Bäringsvägen\n",
      "Bärnstensgatan\n"
     ]
    },
    {
     "name": "stderr",
     "output_type": "stream",
     "text": [
      " 13%|█▎        | 741/5788 [01:49<06:29, 12.95it/s]"
     ]
    },
    {
     "name": "stdout",
     "output_type": "stream",
     "text": [
      "Bävergatan\n",
      "Bågevägen\n",
      "Bågskyttebacken\n",
      "Bågskyttestigen\n",
      "Bångegatan\n",
      "Bångejordsgatan\n",
      "Bårdskäraregatan\n",
      "Båtsman Bleks gata\n",
      "Båtsman Dubbels gata\n"
     ]
    },
    {
     "name": "stderr",
     "output_type": "stream",
     "text": [
      " 13%|█▎        | 748/5788 [01:50<04:09, 20.17it/s]"
     ]
    },
    {
     "name": "stdout",
     "output_type": "stream",
     "text": [
      "Båtsman Grås gata\n",
      "Båtsman Hisings gata\n"
     ]
    },
    {
     "name": "stderr",
     "output_type": "stream",
     "text": [
      " 13%|█▎        | 751/5788 [01:50<06:01, 13.92it/s]"
     ]
    },
    {
     "name": "stdout",
     "output_type": "stream",
     "text": [
      "Båtsman Kapers gata\n",
      "Båtsman Lustigs gata\n",
      "Båtsman Långs gata\n",
      "Båtsman Rems gata\n"
     ]
    },
    {
     "name": "stderr",
     "output_type": "stream",
     "text": [
      " 13%|█▎        | 754/5788 [01:51<12:15,  6.85it/s]"
     ]
    },
    {
     "name": "stdout",
     "output_type": "stream",
     "text": [
      "Båtsmansdalsgatan\n"
     ]
    },
    {
     "name": "stderr",
     "output_type": "stream",
     "text": [
      " 13%|█▎        | 759/5788 [01:52<10:03,  8.34it/s]"
     ]
    },
    {
     "name": "stdout",
     "output_type": "stream",
     "text": [
      "Båtstenarna\n",
      "Båtyxegatan\n",
      "Bååthsgatan\n",
      "Bögatan\n",
      "Bökersgatan\n",
      "Bönekullevägen\n",
      "Bönereds ängen\n",
      "Böneredsgatan\n",
      "Böneredsgången\n"
     ]
    },
    {
     "name": "stderr",
     "output_type": "stream",
     "text": [
      " 13%|█▎        | 769/5788 [01:52<04:57, 16.86it/s]"
     ]
    },
    {
     "name": "stdout",
     "output_type": "stream",
     "text": [
      "Böneredslyckan\n",
      "Börjes väg\n",
      "Börjeshöjd\n",
      "Börsåsgatan\n",
      "Böstigen\n",
      "Böttö Fyrs väg\n",
      "C A Reuterswärds gata\n",
      "C R Hanssons väg\n"
     ]
    },
    {
     "name": "stderr",
     "output_type": "stream",
     "text": [
      " 13%|█▎        | 776/5788 [01:52<03:54, 21.34it/s]"
     ]
    },
    {
     "name": "stdout",
     "output_type": "stream",
     "text": [
      "CT TA2S\n",
      "Campingvägen\n",
      "Carl Grimbergsgatan\n",
      "Carl Gunérs backe\n",
      "Carl Gunérs väg\n",
      "Carl Johans Kyrkoplan\n"
     ]
    },
    {
     "name": "stderr",
     "output_type": "stream",
     "text": [
      " 14%|█▎        | 783/5788 [01:52<03:25, 24.38it/s]"
     ]
    },
    {
     "name": "stdout",
     "output_type": "stream",
     "text": [
      "Carl Kylbergs Gångväg\n",
      "Carl Larssonsgatan\n",
      "Carl Skottsbergs gata\n",
      "Carl Wilhelmsons väg\n",
      "Carl-Erik Hammaréns backe\n",
      "Carlandersparken\n",
      "Carlandersplatsen\n"
     ]
    },
    {
     "name": "stderr",
     "output_type": "stream",
     "text": [
      " 14%|█▎        | 787/5788 [01:52<03:11, 26.08it/s]"
     ]
    },
    {
     "name": "stdout",
     "output_type": "stream",
     "text": [
      "Carlandersstigen\n",
      "Carlbergsgatan\n",
      "Carlströms väg\n",
      "Carmencitas gata\n",
      "Carnegiegatan\n",
      "Cassiopejagatan\n"
     ]
    },
    {
     "name": "stderr",
     "output_type": "stream",
     "text": [
      " 14%|█▎        | 791/5788 [01:53<06:40, 12.48it/s]"
     ]
    },
    {
     "name": "stdout",
     "output_type": "stream",
     "text": [
      "Cederbourgsgatan\n",
      "Cederflychts gata\n",
      "Cedergatan\n"
     ]
    },
    {
     "name": "stderr",
     "output_type": "stream",
     "text": [
      " 14%|█▍        | 796/5788 [01:54<06:26, 12.90it/s]"
     ]
    },
    {
     "name": "stdout",
     "output_type": "stream",
     "text": [
      "Cellogatan\n",
      "Celsiusgatan\n",
      "Centralslingan\n",
      "Ceresgatan\n"
     ]
    },
    {
     "name": "stderr",
     "output_type": "stream",
     "text": [
      " 14%|█▍        | 798/5788 [01:54<06:02, 13.77it/s]"
     ]
    },
    {
     "name": "stdout",
     "output_type": "stream",
     "text": [
      "Ceresplatsen\n",
      "Chalmers Tvärgata\n",
      "Chalmersgatan\n"
     ]
    },
    {
     "name": "stderr",
     "output_type": "stream",
     "text": [
      " 14%|█▍        | 802/5788 [01:54<06:06, 13.60it/s]"
     ]
    },
    {
     "name": "stdout",
     "output_type": "stream",
     "text": [
      "Chapmans Torg\n",
      "Chapmans torg\n",
      "Chapmansgatan\n",
      "Charles väg\n"
     ]
    },
    {
     "name": "stderr",
     "output_type": "stream",
     "text": [
      " 14%|█▍        | 808/5788 [01:54<04:46, 17.39it/s]"
     ]
    },
    {
     "name": "stdout",
     "output_type": "stream",
     "text": [
      "Charlotte Löwenskölds gränd\n",
      "Christina Nilssons gata\n",
      "Cinnobergatan\n",
      "Cisterngatan\n",
      "Citrongatan\n",
      "Citrusgatan\n"
     ]
    },
    {
     "name": "stderr",
     "output_type": "stream",
     "text": [
      " 14%|█▍        | 815/5788 [01:54<03:39, 22.67it/s]"
     ]
    },
    {
     "name": "stdout",
     "output_type": "stream",
     "text": [
      "Claessonsgatan\n",
      "Clara Olbers väg\n",
      "Clareberg ridväg\n",
      "Clementingatan\n",
      "Colin Campbells Plats\n",
      "Colliandersgatan\n",
      "Conrad Olssons väg\n",
      "Conricusgatan\n",
      "Containerterminalen TAV\n"
     ]
    },
    {
     "name": "stderr",
     "output_type": "stream",
     "text": [
      " 14%|█▍        | 820/5788 [01:55<02:55, 28.38it/s]"
     ]
    },
    {
     "name": "stdout",
     "output_type": "stream",
     "text": [
      "Corneliusgatan\n",
      "Cosselsgatan\n",
      "Cronackersgatan\n"
     ]
    },
    {
     "name": "stderr",
     "output_type": "stream",
     "text": [
      " 14%|█▍        | 824/5788 [01:55<03:41, 22.38it/s]"
     ]
    },
    {
     "name": "stdout",
     "output_type": "stream",
     "text": [
      "Curt Weibulls Gångväg\n",
      "Cykelvädersgatan\n",
      "Cymbalgatan\n",
      "Cypressgatan\n",
      "Dag Hammarskjöldsleden\n"
     ]
    },
    {
     "name": "stderr",
     "output_type": "stream",
     "text": [
      " 14%|█▍        | 831/5788 [02:06<55:40,  1.48it/s]  "
     ]
    },
    {
     "name": "stdout",
     "output_type": "stream",
     "text": [
      "Daggdroppegatan\n",
      "Dagjämningsgatan\n",
      "Dahlhemsvägen\n",
      "Dahlströmsgatan\n"
     ]
    },
    {
     "name": "stderr",
     "output_type": "stream",
     "text": [
      " 14%|█▍        | 834/5788 [02:06<42:03,  1.96it/s]"
     ]
    },
    {
     "name": "stdout",
     "output_type": "stream",
     "text": [
      "Dalagärdet\n",
      "Dalanäsvägen\n",
      "Dalavägen\n",
      "Dalermyntsgatan\n"
     ]
    },
    {
     "name": "stderr",
     "output_type": "stream",
     "text": [
      " 15%|█▍        | 844/5788 [02:07<17:54,  4.60it/s]"
     ]
    },
    {
     "name": "stdout",
     "output_type": "stream",
     "text": [
      "Dalgången\n",
      "Dalheimersgatan\n",
      "Daliagången\n",
      "Dalklintsvägen\n",
      "Dalstigen\n",
      "Dalsänkan\n",
      "Daltorpsgatan\n",
      "Dalängsgatan\n",
      "Dammen på Kärr\n",
      "Dammengläntan\n"
     ]
    },
    {
     "name": "stderr",
     "output_type": "stream",
     "text": [
      " 15%|█▍        | 848/5788 [02:07<14:01,  5.87it/s]"
     ]
    },
    {
     "name": "stdout",
     "output_type": "stream",
     "text": [
      "Dammgatan\n",
      "Dammgårdsgatan\n",
      "Dammhagsvägen\n",
      "Dan Anderssons gata\n",
      "Danagatan\n",
      "Danaplatsen\n"
     ]
    },
    {
     "name": "stderr",
     "output_type": "stream",
     "text": [
      " 15%|█▍        | 854/5788 [02:07<09:26,  8.71it/s]"
     ]
    },
    {
     "name": "stdout",
     "output_type": "stream",
     "text": [
      "Daniel Petterssons gata\n",
      "Dannemansvägen\n",
      "Dansbanevägen\n",
      "Dansered Mellangård\n",
      "Dansereds Gärde\n",
      "Dansereds Nordgård\n",
      "Dansereds Skogaväg\n",
      "Dansereds Södergårdsväg\n",
      "Dansereds Äng\n",
      "Danseredsvägen\n",
      "Danska Vägen\n"
     ]
    },
    {
     "name": "stderr",
     "output_type": "stream",
     "text": [
      " 15%|█▍        | 863/5788 [02:12<26:46,  3.07it/s]"
     ]
    },
    {
     "name": "stdout",
     "output_type": "stream",
     "text": [
      "Datavägen\n"
     ]
    },
    {
     "name": "stderr",
     "output_type": "stream",
     "text": [
      " 15%|█▍        | 868/5788 [02:12<21:20,  3.84it/s]"
     ]
    },
    {
     "name": "stdout",
     "output_type": "stream",
     "text": [
      "Davideberg\n",
      "Decembergatan\n",
      "Decenniumgatan\n",
      "Delawaregatan\n",
      "Delfingatan\n"
     ]
    },
    {
     "name": "stderr",
     "output_type": "stream",
     "text": [
      " 15%|█▌        | 870/5788 [02:13<18:41,  4.39it/s]"
     ]
    },
    {
     "name": "stdout",
     "output_type": "stream",
     "text": [
      "Delsjö Golfbaneväg\n",
      "Delsjö Tvärväg\n",
      "Delsjönässtigen\n",
      "Delsjövägen\n"
     ]
    },
    {
     "name": "stderr",
     "output_type": "stream",
     "text": [
      " 15%|█▌        | 875/5788 [02:15<27:21,  2.99it/s]"
     ]
    },
    {
     "name": "stdout",
     "output_type": "stream",
     "text": [
      "Deltavägen\n",
      "Designgatan\n",
      "Diagnosvägen\n",
      "Diagonalen\n",
      "Diakonissgatan\n"
     ]
    },
    {
     "name": "stderr",
     "output_type": "stream",
     "text": [
      " 15%|█▌        | 878/5788 [02:15<19:47,  4.13it/s]"
     ]
    },
    {
     "name": "stdout",
     "output_type": "stream",
     "text": [
      "Diakonivägen\n",
      "Diamantgatan\n",
      "Dicksonsgatan\n",
      "Diktaregatan\n",
      "Dillgatan\n",
      "Dimvädersgatan\n"
     ]
    },
    {
     "name": "stderr",
     "output_type": "stream",
     "text": [
      " 15%|█▌        | 884/5788 [02:16<12:02,  6.79it/s]"
     ]
    },
    {
     "name": "stdout",
     "output_type": "stream",
     "text": [
      "Dingegatan\n",
      "Dirigentgatan\n",
      "Diskusgången\n"
     ]
    },
    {
     "name": "stderr",
     "output_type": "stream",
     "text": [
      " 15%|█▌        | 889/5788 [02:16<09:20,  8.74it/s]"
     ]
    },
    {
     "name": "stdout",
     "output_type": "stream",
     "text": [
      "Distansgatan\n",
      "Distingsgatan\n",
      "Djupedals Gård\n",
      "Djupedals Mellangård\n",
      "Djupedals Norgård\n",
      "Djupedals Sörgård\n",
      "Djupedalsgatan\n"
     ]
    },
    {
     "name": "stderr",
     "output_type": "stream",
     "text": [
      " 15%|█▌        | 894/5788 [02:16<06:13, 13.11it/s]"
     ]
    },
    {
     "name": "stdout",
     "output_type": "stream",
     "text": [
      "Djurgårdsgatan\n"
     ]
    },
    {
     "name": "stderr",
     "output_type": "stream",
     "text": [
      " 16%|█▌        | 900/5788 [02:17<07:18, 11.15it/s]"
     ]
    },
    {
     "name": "stdout",
     "output_type": "stream",
     "text": [
      "Djuråsvägen\n",
      "Dockbron\n",
      "Dockeredsbacken\n",
      "Dockeredsvägen\n",
      "Dockpromenaden\n",
      "Dockvallsgatan\n",
      "Doktor Allards gata\n"
     ]
    },
    {
     "name": "stderr",
     "output_type": "stream",
     "text": [
      " 16%|█▌        | 906/5788 [02:20<20:41,  3.93it/s]"
     ]
    },
    {
     "name": "stdout",
     "output_type": "stream",
     "text": [
      "Doktor Belfrages gata\n",
      "Doktor Bex gata\n",
      "Doktor Billqvists gata\n",
      "Doktor Bondesons gata\n",
      "Doktor Dahlströms gata\n"
     ]
    },
    {
     "name": "stderr",
     "output_type": "stream",
     "text": [
      " 16%|█▌        | 908/5788 [02:20<17:57,  4.53it/s]"
     ]
    },
    {
     "name": "stdout",
     "output_type": "stream",
     "text": [
      "Doktor Forselius Backe\n",
      "Doktor Forselius gata\n"
     ]
    },
    {
     "name": "stderr",
     "output_type": "stream",
     "text": [
      " 16%|█▌        | 910/5788 [02:20<16:35,  4.90it/s]"
     ]
    },
    {
     "name": "stdout",
     "output_type": "stream",
     "text": [
      "Doktor Fries Torg\n",
      "Doktor Heymans gata\n",
      "Doktor Hjorts gata\n",
      "Doktor Håléns gata\n"
     ]
    },
    {
     "name": "stderr",
     "output_type": "stream",
     "text": [
      " 16%|█▌        | 918/5788 [02:21<07:51, 10.32it/s]"
     ]
    },
    {
     "name": "stdout",
     "output_type": "stream",
     "text": [
      "Doktor Lehmanns Gångväg\n",
      "Doktor Liborius gata\n",
      "Doktor Lidforss af Geijerstams Gångväg\n",
      "Doktor Lindhs gata\n",
      "Doktor Mombasas Allé\n",
      "Doktor Rosenbergs Gångväg\n",
      "Doktor Saléns gata\n",
      "Doktor Spaaks Gångväg\n"
     ]
    },
    {
     "name": "stderr",
     "output_type": "stream",
     "text": [
      " 16%|█▌        | 926/5788 [02:21<05:03, 16.02it/s]"
     ]
    },
    {
     "name": "stdout",
     "output_type": "stream",
     "text": [
      "Doktor Sven Johanssons Backe\n",
      "Doktor Sydows gata\n",
      "Doktor Weltzins gata\n",
      "Doktor Wengbergs gata\n",
      "Doktor Westrings gata\n",
      "Doktor Wigardhs gata\n"
     ]
    },
    {
     "name": "stderr",
     "output_type": "stream",
     "text": [
      " 16%|█▌        | 929/5788 [02:21<04:47, 16.89it/s]"
     ]
    },
    {
     "name": "stdout",
     "output_type": "stream",
     "text": [
      "Doktorsvägen\n",
      "Dollargatan\n",
      "Domarringsgatan\n",
      "Domherregatan\n"
     ]
    },
    {
     "name": "stderr",
     "output_type": "stream",
     "text": [
      " 16%|█▌        | 932/5788 [02:21<04:39, 17.35it/s]"
     ]
    },
    {
     "name": "stdout",
     "output_type": "stream",
     "text": [
      "Domherrevägen\n",
      "Donsögatan\n",
      "Doppingegatan\n",
      "Doteviksvägen\n"
     ]
    },
    {
     "name": "stderr",
     "output_type": "stream",
     "text": [
      " 16%|█▌        | 937/5788 [02:22<05:40, 14.26it/s]"
     ]
    },
    {
     "name": "stdout",
     "output_type": "stream",
     "text": [
      "Douglasgatan\n",
      "Dovhjortsstigen\n",
      "Draggensgatan\n",
      "Draghästvägen\n"
     ]
    },
    {
     "name": "stderr",
     "output_type": "stream",
     "text": [
      " 16%|█▌        | 939/5788 [02:22<05:30, 14.69it/s]"
     ]
    },
    {
     "name": "stdout",
     "output_type": "stream",
     "text": [
      "Dragonörtsgatan\n",
      "Drakblommegatan\n",
      "Drakegatan\n",
      "Drakenbergsgatan\n",
      "Dramatikgatan\n"
     ]
    },
    {
     "name": "stderr",
     "output_type": "stream",
     "text": [
      " 16%|█▋        | 944/5788 [02:22<04:50, 16.68it/s]"
     ]
    },
    {
     "name": "stdout",
     "output_type": "stream",
     "text": [
      "Drejaregatan\n",
      "Driftgatan\n",
      "Drivhusgatan\n",
      "Drogdens väg\n",
      "Drottning Blankas gata\n",
      "Drottninggatan\n"
     ]
    },
    {
     "name": "stderr",
     "output_type": "stream",
     "text": [
      " 16%|█▋        | 952/5788 [02:23<05:53, 13.67it/s]"
     ]
    },
    {
     "name": "stdout",
     "output_type": "stream",
     "text": [
      "Drottningpassagen\n",
      "Drottningtorget\n",
      "Drällvävaregatan\n",
      "Drängegatan\n",
      "Duettgången\n"
     ]
    },
    {
     "name": "stderr",
     "output_type": "stream",
     "text": [
      " 17%|█▋        | 959/5788 [02:23<04:26, 18.11it/s]"
     ]
    },
    {
     "name": "stdout",
     "output_type": "stream",
     "text": [
      "Dufvas backe\n",
      "Dukatsgatan\n",
      "Dunfins gata\n",
      "Dungestigen\n",
      "Dunörtsvägen\n",
      "Duvans väg\n"
     ]
    },
    {
     "name": "stderr",
     "output_type": "stream",
     "text": [
      " 17%|█▋        | 965/5788 [02:24<05:54, 13.62it/s]"
     ]
    },
    {
     "name": "stdout",
     "output_type": "stream",
     "text": [
      "Duvekärrsvägen\n",
      "Dybecksgatan\n",
      "Dykarens gata\n",
      "Dyrstensvägen\n",
      "Dysiksgatan\n"
     ]
    },
    {
     "name": "stderr",
     "output_type": "stream",
     "text": [
      " 17%|█▋        | 971/5788 [02:26<14:57,  5.37it/s]"
     ]
    },
    {
     "name": "stdout",
     "output_type": "stream",
     "text": [
      "Dämmebron\n",
      "Döda Dalen\n",
      "Dörjeskärsgatan\n",
      "E A Rosengrens gata\n",
      "Ebbe Lieberathsgatan\n",
      "Eckragatan\n",
      "Eddabacken\n",
      "Edelfeltsgatan\n",
      "Edsviksvägen\n"
     ]
    },
    {
     "name": "stderr",
     "output_type": "stream",
     "text": [
      " 17%|█▋        | 974/5788 [02:26<11:28,  6.99it/s]"
     ]
    },
    {
     "name": "stdout",
     "output_type": "stream",
     "text": [
      "Edvard Rodhes väg\n"
     ]
    },
    {
     "name": "stderr",
     "output_type": "stream",
     "text": [
      " 17%|█▋        | 979/5788 [02:27<09:44,  8.22it/s]"
     ]
    },
    {
     "name": "stdout",
     "output_type": "stream",
     "text": [
      "Edwin Ahlqvists väg\n",
      "Egmontsgatan\n",
      "Egnahemsplatsen\n",
      "Egnahemsvägen\n",
      "Ehrenströmsgatan\n"
     ]
    },
    {
     "name": "stderr",
     "output_type": "stream",
     "text": [
      " 17%|█▋        | 983/5788 [02:27<11:20,  7.06it/s]"
     ]
    },
    {
     "name": "stdout",
     "output_type": "stream",
     "text": [
      "Einar Eriksons gata\n",
      "Ejdergatan\n",
      "Ekberget\n"
     ]
    },
    {
     "name": "stderr",
     "output_type": "stream",
     "text": [
      " 17%|█▋        | 989/5788 [02:27<06:14, 12.82it/s]"
     ]
    },
    {
     "name": "stdout",
     "output_type": "stream",
     "text": [
      "Ekdungen\n",
      "Ekebackavägen\n",
      "Ekebacken\n",
      "Ekebergsgatan\n",
      "Ekebygatan\n",
      "Ekedalsgatan\n"
     ]
    },
    {
     "name": "stderr",
     "output_type": "stream",
     "text": [
      " 17%|█▋        | 992/5788 [02:29<13:37,  5.86it/s]"
     ]
    },
    {
     "name": "stdout",
     "output_type": "stream",
     "text": [
      "Ekehagsvägen\n",
      "Ekehöjdsgatan\n",
      "Ekelundsgatan\n",
      "Ekereds byväg\n"
     ]
    },
    {
     "name": "stderr",
     "output_type": "stream",
     "text": [
      " 17%|█▋        | 995/5788 [02:29<11:35,  6.89it/s]"
     ]
    },
    {
     "name": "stdout",
     "output_type": "stream",
     "text": [
      "Ekereds höjd\n",
      "Ekeredsvägen\n"
     ]
    },
    {
     "name": "stderr",
     "output_type": "stream",
     "text": [
      " 17%|█▋        | 997/5788 [02:29<10:08,  7.87it/s]"
     ]
    },
    {
     "name": "stdout",
     "output_type": "stream",
     "text": [
      "Ekeskärsgatan\n",
      "Eketrägatan\n"
     ]
    },
    {
     "name": "stderr",
     "output_type": "stream",
     "text": [
      " 17%|█▋        | 999/5788 [02:30<17:17,  4.62it/s]"
     ]
    },
    {
     "name": "stdout",
     "output_type": "stream",
     "text": [
      "Ekevadsvägen\n",
      "Ekgården\n"
     ]
    },
    {
     "name": "stderr",
     "output_type": "stream",
     "text": [
      " 17%|█▋        | 1001/5788 [02:30<15:27,  5.16it/s]"
     ]
    },
    {
     "name": "stdout",
     "output_type": "stream",
     "text": [
      "Ekhagen\n",
      "Eklandagatan\n"
     ]
    },
    {
     "name": "stderr",
     "output_type": "stream",
     "text": [
      " 17%|█▋        | 1005/5788 [02:31<16:20,  4.88it/s]"
     ]
    },
    {
     "name": "stdout",
     "output_type": "stream",
     "text": [
      "Eklidsvägen\n",
      "Ekmansgatan\n",
      "Ekonomivägen\n",
      "Ekorregatan\n",
      "Ekoxevägen\n"
     ]
    },
    {
     "name": "stderr",
     "output_type": "stream",
     "text": [
      " 17%|█▋        | 1010/5788 [02:32<09:27,  8.42it/s]"
     ]
    },
    {
     "name": "stdout",
     "output_type": "stream",
     "text": [
      "Ekskogsliden\n",
      "Ekstigen\n",
      "Ekströmsgatan\n",
      "Ekvatorsvägen\n",
      "Ekåsbergsvägen\n",
      "Ekåsvägen\n"
     ]
    },
    {
     "name": "stderr",
     "output_type": "stream",
     "text": [
      " 18%|█▊        | 1017/5788 [02:32<05:35, 14.20it/s]"
     ]
    },
    {
     "name": "stdout",
     "output_type": "stream",
     "text": [
      "Eldaregatan\n",
      "Elektrogården\n",
      "Elektrongatan\n",
      "Elektrovägen\n",
      "Elfrida Andrées gata\n",
      "Eliebergsvägen\n"
     ]
    },
    {
     "name": "stderr",
     "output_type": "stream",
     "text": [
      " 18%|█▊        | 1033/5788 [02:33<05:26, 14.58it/s]"
     ]
    },
    {
     "name": "stdout",
     "output_type": "stream",
     "text": [
      "Elin Svenssons gata\n",
      "Elins Gård\n",
      "Elinsbergsstigen\n",
      "Elisabeth Lambergs gångstig\n",
      "Ella Gybergs väg\n",
      "Ella Hillbäcks gata\n",
      "Ellen Hanssons väg\n",
      "Elleröds Bergsklippa\n",
      "Elleröds Ekeberga\n",
      "Elleröds Ekelycka\n",
      "Elleröds Gård\n",
      "Ellerödsträdgården\n",
      "Ellerödstäppan\n",
      "Ellesbo Hasselbacke\n",
      "Ellesbo Sörgårdsgärde\n",
      "Ellesbo Sörgårdsväg\n",
      "Ellesbobacken\n"
     ]
    },
    {
     "name": "stderr",
     "output_type": "stream",
     "text": [
      " 18%|█▊        | 1038/5788 [02:34<05:22, 14.74it/s]"
     ]
    },
    {
     "name": "stdout",
     "output_type": "stream",
     "text": [
      "Ellesbovägen\n",
      "Ellösgatan\n",
      "Elof Lindälvs gata\n",
      "Elsas väg\n",
      "Elvira Samuelssons väg\n",
      "Emelie Lejmans väg\n"
     ]
    },
    {
     "name": "stderr",
     "output_type": "stream",
     "text": [
      " 18%|█▊        | 1042/5788 [02:34<07:36, 10.40it/s]"
     ]
    },
    {
     "name": "stdout",
     "output_type": "stream",
     "text": [
      "Emerentias Backe\n",
      "Emigrantvägen\n"
     ]
    },
    {
     "name": "stderr",
     "output_type": "stream",
     "text": [
      " 18%|█▊        | 1053/5788 [02:37<11:45,  6.71it/s]"
     ]
    },
    {
     "name": "stdout",
     "output_type": "stream",
     "text": [
      "Emils väg\n",
      "Emma Jacobssons Trappor\n",
      "Emma Lindbergs väg\n",
      "Enbärsgången\n",
      "Enbärsvägen\n",
      "Enebacken\n",
      "Enebergsvägen\n",
      "Enegatan\n",
      "Enekullegatan\n",
      "Enerkullsdalen\n",
      "Engdahlsgatan\n",
      "Engelbrektsgatan\n"
     ]
    },
    {
     "name": "stderr",
     "output_type": "stream",
     "text": [
      " 18%|█▊        | 1060/5788 [02:40<16:29,  4.78it/s]"
     ]
    },
    {
     "name": "stdout",
     "output_type": "stream",
     "text": [
      "Enhemsgatan\n",
      "Enrisvägen\n",
      "Enskiftesgatan\n",
      "Enskärsgatan\n",
      "Ensmärkesstigen\n"
     ]
    },
    {
     "name": "stderr",
     "output_type": "stream",
     "text": [
      " 18%|█▊        | 1063/5788 [02:40<14:38,  5.38it/s]"
     ]
    },
    {
     "name": "stdout",
     "output_type": "stream",
     "text": [
      "Ensmärkesvägen\n",
      "Entreprenadvägen\n",
      "Envägen\n"
     ]
    },
    {
     "name": "stderr",
     "output_type": "stream",
     "text": [
      " 18%|█▊        | 1067/5788 [02:40<11:18,  6.96it/s]"
     ]
    },
    {
     "name": "stdout",
     "output_type": "stream",
     "text": [
      "Epiloggatan\n",
      "Epistelgatan\n",
      "Eric Börjessons väg\n",
      "Erik Dahlbergsgatan\n"
     ]
    },
    {
     "name": "stderr",
     "output_type": "stream",
     "text": [
      " 18%|█▊        | 1070/5788 [02:40<09:14,  8.51it/s]"
     ]
    },
    {
     "name": "stdout",
     "output_type": "stream",
     "text": [
      "Erik Dahlbergstrappan\n",
      "Erik Johannessons Gångbro\n",
      "Erik Kuus gata\n",
      "Erik väderhatts gata\n",
      "Eriksbergstorget\n",
      "Eriksbo Backe\n",
      "Eriksbo Lilläng\n",
      "Eriksbo Västergärde\n"
     ]
    },
    {
     "name": "stderr",
     "output_type": "stream",
     "text": [
      " 19%|█▊        | 1076/5788 [02:43<18:10,  4.32it/s]"
     ]
    },
    {
     "name": "stdout",
     "output_type": "stream",
     "text": [
      "Eriksbo Östergärde\n"
     ]
    },
    {
     "name": "stderr",
     "output_type": "stream",
     "text": [
      " 19%|█▊        | 1084/5788 [02:43<11:44,  6.68it/s]"
     ]
    },
    {
     "name": "stdout",
     "output_type": "stream",
     "text": [
      "Eriksbogården\n",
      "Eriksbovägen\n",
      "Eriksgården\n",
      "Erikshöjd\n",
      "Erisgatan\n",
      "Erling Skackes gata\n",
      "Erlingsvägen\n",
      "Erna Johanssons gata\n",
      "Ernst Fontells Plats\n",
      "Ernst Kristenssons gata\n",
      "Ernst Torulfsgatan\n"
     ]
    },
    {
     "name": "stderr",
     "output_type": "stream",
     "text": [
      " 19%|█▉        | 1091/5788 [02:44<08:02,  9.74it/s]"
     ]
    },
    {
     "name": "stdout",
     "output_type": "stream",
     "text": [
      "Ernst Wigforss Allé\n",
      "Ersåsbacken\n",
      "Ersåsgatan\n",
      "Esbjörns väg\n"
     ]
    },
    {
     "name": "stderr",
     "output_type": "stream",
     "text": [
      " 19%|█▉        | 1095/5788 [02:44<06:20, 12.33it/s]"
     ]
    },
    {
     "name": "stdout",
     "output_type": "stream",
     "text": [
      "Eskils Lycka\n",
      "Estlandsgatan\n",
      "Ettrörsgatan\n",
      "Eva Rodhes gata\n",
      "Ewertsgatan\n",
      "Exercisheden\n",
      "Exportgatan\n"
     ]
    },
    {
     "name": "stderr",
     "output_type": "stream",
     "text": [
      " 19%|█▉        | 1099/5788 [02:49<33:31,  2.33it/s]"
     ]
    },
    {
     "name": "stdout",
     "output_type": "stream",
     "text": [
      "F O Petersons gata\n",
      "Fabelgatan\n",
      "Fabriksgatan\n"
     ]
    },
    {
     "name": "stderr",
     "output_type": "stream",
     "text": [
      " 19%|█▉        | 1102/5788 [02:51<40:20,  1.94it/s]"
     ]
    },
    {
     "name": "stdout",
     "output_type": "stream",
     "text": [
      "Fagerdalsvägen\n",
      "Fagergläntan\n"
     ]
    },
    {
     "name": "stderr",
     "output_type": "stream",
     "text": [
      " 19%|█▉        | 1104/5788 [02:52<40:47,  1.91it/s]"
     ]
    },
    {
     "name": "stdout",
     "output_type": "stream",
     "text": [
      "Fagerlyckan\n"
     ]
    },
    {
     "name": "stderr",
     "output_type": "stream",
     "text": [
      " 19%|█▉        | 1108/5788 [02:53<29:35,  2.64it/s]"
     ]
    },
    {
     "name": "stdout",
     "output_type": "stream",
     "text": [
      "Fagerängsgatan\n",
      "Fagottgatan\n",
      "Falkebohöjden\n",
      "Falkebovägen\n"
     ]
    },
    {
     "name": "stderr",
     "output_type": "stream",
     "text": [
      " 19%|█▉        | 1111/5788 [02:53<20:51,  3.74it/s]"
     ]
    },
    {
     "name": "stdout",
     "output_type": "stream",
     "text": [
      "Falkenbergsgatan\n",
      "Falkgatan\n",
      "Fallvägen\n",
      "Falutorget\n"
     ]
    },
    {
     "name": "stderr",
     "output_type": "stream",
     "text": [
      " 19%|█▉        | 1113/5788 [02:53<18:22,  4.24it/s]"
     ]
    },
    {
     "name": "stdout",
     "output_type": "stream",
     "text": [
      "Falutorgslänken\n",
      "Famngatan\n"
     ]
    },
    {
     "name": "stderr",
     "output_type": "stream",
     "text": [
      " 19%|█▉        | 1115/5788 [02:54<16:20,  4.77it/s]"
     ]
    },
    {
     "name": "stdout",
     "output_type": "stream",
     "text": [
      "Fanjunkaregatan\n",
      "Fanjunkarens Lycka\n"
     ]
    },
    {
     "name": "stderr",
     "output_type": "stream",
     "text": [
      " 19%|█▉        | 1117/5788 [02:54<16:10,  4.81it/s]"
     ]
    },
    {
     "name": "stdout",
     "output_type": "stream",
     "text": [
      "Fanny Gréns väg\n"
     ]
    },
    {
     "name": "stderr",
     "output_type": "stream",
     "text": [
      " 19%|█▉        | 1118/5788 [02:56<43:13,  1.80it/s]"
     ]
    },
    {
     "name": "stdout",
     "output_type": "stream",
     "text": [
      "Farbror Hilmers väg\n",
      "Farligt Gods 03\n",
      "Farligt Gods 04\n",
      "Farligt Gods 05\n",
      "Farligt Gods 06\n",
      "Farmors gata\n"
     ]
    },
    {
     "name": "stderr",
     "output_type": "stream",
     "text": [
      " 19%|█▉        | 1124/5788 [02:57<20:16,  3.83it/s]"
     ]
    },
    {
     "name": "stdout",
     "output_type": "stream",
     "text": [
      "Fasadvägen\n"
     ]
    },
    {
     "name": "stderr",
     "output_type": "stream",
     "text": [
      " 20%|█▉        | 1133/5788 [03:00<19:17,  4.02it/s]"
     ]
    },
    {
     "name": "stdout",
     "output_type": "stream",
     "text": [
      "Fastlagsgatan\n",
      "Fatabursvägen\n",
      "Februarigatan\n",
      "Femhörningsbacken\n",
      "Femkampsgatan\n",
      "Femrörsgatan\n",
      "Femte Kvillängsvägen\n",
      "Femvägsskälet\n",
      "Filaregatan\n",
      "Filmjölksgatan\n",
      "Finlandsgatan\n",
      "Finlandsvägen\n"
     ]
    },
    {
     "name": "stderr",
     "output_type": "stream",
     "text": [
      " 20%|█▉        | 1139/5788 [03:01<20:09,  3.84it/s]"
     ]
    },
    {
     "name": "stdout",
     "output_type": "stream",
     "text": [
      "Finn Malmgrensgatan\n",
      "Finnjollegatan\n",
      "Fiolgatan\n",
      "Fiskebäcks Hamn\n"
     ]
    },
    {
     "name": "stderr",
     "output_type": "stream",
     "text": [
      " 20%|█▉        | 1146/5788 [03:02<13:50,  5.59it/s]"
     ]
    },
    {
     "name": "stdout",
     "output_type": "stream",
     "text": [
      "Fiskebåtsgatan\n",
      "Fiskefyrsvägen\n",
      "Fiskhamnen\n",
      "Fiskhamnsgatan\n",
      "Fiskhamnspiren\n",
      "Fisktorget\n",
      "Fixfabrikens gata\n",
      "Fjordhästvägen\n",
      "Fjordvägen\n"
     ]
    },
    {
     "name": "stderr",
     "output_type": "stream",
     "text": [
      " 20%|█▉        | 1154/5788 [03:03<08:10,  9.45it/s]"
     ]
    },
    {
     "name": "stdout",
     "output_type": "stream",
     "text": [
      "Fjäderharvsgatan\n",
      "Fjällbackagatan\n",
      "Fjällbinkan\n",
      "Fjällblomman\n",
      "Fjällbo Park\n",
      "Fjällbo Ängsväg\n",
      "Fjällbogatan\n"
     ]
    },
    {
     "name": "stderr",
     "output_type": "stream",
     "text": [
      " 20%|██        | 1159/5788 [03:04<12:28,  6.18it/s]"
     ]
    },
    {
     "name": "stdout",
     "output_type": "stream",
     "text": [
      "Fjällbruden\n",
      "Fjälletvägen\n",
      "Fjällgatan\n",
      "Fjällglimmen\n",
      "Fjällgrönan\n"
     ]
    },
    {
     "name": "stderr",
     "output_type": "stream",
     "text": [
      " 20%|██        | 1169/5788 [03:04<05:46, 13.35it/s]"
     ]
    },
    {
     "name": "stdout",
     "output_type": "stream",
     "text": [
      "Fjällhavren\n",
      "Fjällkåpan\n",
      "Fjällnejlikan\n",
      "Fjällsippan\n",
      "Fjällspiran\n",
      "Fjällsyran\n",
      "Fjällveronikan\n",
      "Fjällvindsgatan\n",
      "Fjällviolen\n",
      "Fjärde Kvillängsvägen\n"
     ]
    },
    {
     "name": "stderr",
     "output_type": "stream",
     "text": [
      " 20%|██        | 1177/5788 [03:05<04:16, 17.95it/s]"
     ]
    },
    {
     "name": "stdout",
     "output_type": "stream",
     "text": [
      "Fjärde Långgatan\n",
      "Fjärdingsgatan\n",
      "Fjärrkallevägen\n",
      "Flaggatan\n",
      "Flaggberget\n",
      "Flatåkern\n",
      "Flatåsmotet\n",
      "Flemingsgatan\n"
     ]
    },
    {
     "name": "stderr",
     "output_type": "stream",
     "text": [
      " 20%|██        | 1186/5788 [03:05<03:21, 22.81it/s]"
     ]
    },
    {
     "name": "stdout",
     "output_type": "stream",
     "text": [
      "Flintstensgatan\n",
      "Flintyxegatan\n",
      "Flintåsvägen\n",
      "Flisgatan\n",
      "Floras kulle\n",
      "Floravägen\n",
      "Floxgatan\n",
      "Flugsnapparegången\n",
      "Flunsås Trappor\n",
      "Flunsåsliden\n"
     ]
    },
    {
     "name": "stderr",
     "output_type": "stream",
     "text": [
      " 21%|██        | 1194/5788 [03:05<03:17, 23.21it/s]"
     ]
    },
    {
     "name": "stdout",
     "output_type": "stream",
     "text": [
      "Flygare Netzlers väg\n",
      "Flygare Tåhlins väg\n",
      "Flygaregatan\n",
      "Flygflottiljens väg\n",
      "Flygfältsgatan\n"
     ]
    },
    {
     "name": "stderr",
     "output_type": "stream",
     "text": [
      " 21%|██        | 1197/5788 [03:06<06:16, 12.20it/s]"
     ]
    },
    {
     "name": "stdout",
     "output_type": "stream",
     "text": [
      "Flyghamnsbacken\n",
      "Flyghamnslyckan\n",
      "Flyghamnsvägen\n",
      "Flygledarevägen\n"
     ]
    },
    {
     "name": "stderr",
     "output_type": "stream",
     "text": [
      " 21%|██        | 1205/5788 [03:10<17:55,  4.26it/s]"
     ]
    },
    {
     "name": "stdout",
     "output_type": "stream",
     "text": [
      "Flyglottornas väg\n",
      "Flygmotorsvägen\n",
      "Flygplatsvägen\n",
      "Flygradiogatan\n",
      "Flygstationsvägen\n",
      "Flygtornsvägen\n",
      "Flygvädersgatan\n"
     ]
    },
    {
     "name": "stderr",
     "output_type": "stream",
     "text": [
      " 21%|██        | 1213/5788 [03:10<09:30,  8.03it/s]"
     ]
    },
    {
     "name": "stdout",
     "output_type": "stream",
     "text": [
      "Flyttblocksvägen\n",
      "Flädergången\n",
      "Flågbergsvägen\n",
      "Flöjtgatan\n",
      "Fockvägen\n",
      "Foderbetsgatan\n",
      "Foderrumsvägen\n",
      "Fogelmarksvägen\n",
      "Folke Bernadottes gata\n",
      "Folke Filbyters Stig\n"
     ]
    },
    {
     "name": "stderr",
     "output_type": "stream",
     "text": [
      " 21%|██        | 1217/5788 [03:10<07:26, 10.23it/s]"
     ]
    },
    {
     "name": "stdout",
     "output_type": "stream",
     "text": [
      "Folkskolegatan\n",
      "Folkungagatan\n"
     ]
    },
    {
     "name": "stderr",
     "output_type": "stream",
     "text": [
      " 21%|██        | 1220/5788 [03:11<11:15,  6.76it/s]"
     ]
    },
    {
     "name": "stdout",
     "output_type": "stream",
     "text": [
      "Folkvisegatan\n",
      "Fordonsvåg\n",
      "Forellgatan\n",
      "Formskäraregatan\n",
      "Fornborgsgatan\n"
     ]
    },
    {
     "name": "stderr",
     "output_type": "stream",
     "text": [
      " 21%|██        | 1226/5788 [03:13<14:37,  5.20it/s]"
     ]
    },
    {
     "name": "stdout",
     "output_type": "stream",
     "text": [
      "Fornlämningsgatan\n",
      "Fornminnesvägen\n",
      "Forsbäcksvägen\n",
      "Forskarlens väg\n"
     ]
    },
    {
     "name": "stderr",
     "output_type": "stream",
     "text": [
      " 21%|██▏       | 1231/5788 [03:13<10:22,  7.32it/s]"
     ]
    },
    {
     "name": "stdout",
     "output_type": "stream",
     "text": [
      "Forskningsgången\n",
      "Forsstenagatan\n",
      "Forsythiavägen\n",
      "Fortgatan\n",
      "Forthamnsvägen\n",
      "Fotbollsvägen\n"
     ]
    },
    {
     "name": "stderr",
     "output_type": "stream",
     "text": [
      " 21%|██▏       | 1233/5788 [03:13<10:49,  7.01it/s]"
     ]
    },
    {
     "name": "stdout",
     "output_type": "stream",
     "text": [
      "Fotspårsvägen\n",
      "Fotögatan\n",
      "Fraktflyget\n"
     ]
    },
    {
     "name": "stderr",
     "output_type": "stream",
     "text": [
      " 21%|██▏       | 1238/5788 [03:14<09:07,  8.31it/s]"
     ]
    },
    {
     "name": "stdout",
     "output_type": "stream",
     "text": [
      "Fraktgodsgatan\n",
      "Framgången\n",
      "Framnäsgatan\n"
     ]
    },
    {
     "name": "stderr",
     "output_type": "stream",
     "text": [
      " 21%|██▏       | 1242/5788 [03:14<07:45,  9.77it/s]"
     ]
    },
    {
     "name": "stdout",
     "output_type": "stream",
     "text": [
      "Frans Perssons väg\n",
      "Fredagstomten\n",
      "Fredbergsgatan\n",
      "Fredenslundsvägen\n"
     ]
    },
    {
     "name": "stderr",
     "output_type": "stream",
     "text": [
      " 21%|██▏       | 1244/5788 [03:14<07:29, 10.12it/s]"
     ]
    },
    {
     "name": "stdout",
     "output_type": "stream",
     "text": [
      "Fredholmsgatan\n",
      "Fredrik Bloms väg\n"
     ]
    },
    {
     "name": "stderr",
     "output_type": "stream",
     "text": [
      " 22%|██▏       | 1246/5788 [03:14<07:05, 10.67it/s]"
     ]
    },
    {
     "name": "stdout",
     "output_type": "stream",
     "text": [
      "Fredrika Bremersgatan\n",
      "Fredrikas Gård\n",
      "Fredriksdalsgatan\n"
     ]
    },
    {
     "name": "stderr",
     "output_type": "stream",
     "text": [
      " 22%|██▏       | 1248/5788 [03:15<09:19,  8.11it/s]"
     ]
    },
    {
     "name": "stdout",
     "output_type": "stream",
     "text": [
      "Fredsbron\n",
      "Fredsflottiljens väg\n",
      "Fredsgatan\n",
      "Fregattgatan\n"
     ]
    },
    {
     "name": "stderr",
     "output_type": "stream",
     "text": [
      " 22%|██▏       | 1253/5788 [03:16<10:14,  7.38it/s]"
     ]
    },
    {
     "name": "stdout",
     "output_type": "stream",
     "text": [
      "Frekvensvägen\n",
      "Freses väg\n",
      "Friarelyckan\n"
     ]
    },
    {
     "name": "stderr",
     "output_type": "stream",
     "text": [
      " 22%|██▏       | 1257/5788 [03:16<09:23,  8.05it/s]"
     ]
    },
    {
     "name": "stdout",
     "output_type": "stream",
     "text": [
      "Fribergsgatan\n",
      "Fricksgatan\n",
      "Frida Hjertbergs gata\n",
      "Fridhemsgatan\n"
     ]
    },
    {
     "name": "stderr",
     "output_type": "stream",
     "text": [
      " 22%|██▏       | 1259/5788 [03:18<24:36,  3.07it/s]"
     ]
    },
    {
     "name": "stdout",
     "output_type": "stream",
     "text": [
      "Fridkullagatan\n"
     ]
    },
    {
     "name": "stderr",
     "output_type": "stream",
     "text": [
      " 22%|██▏       | 1262/5788 [03:18<17:09,  4.40it/s]"
     ]
    },
    {
     "name": "stdout",
     "output_type": "stream",
     "text": [
      "Fridlandsgatan\n",
      "Fridtunavägen\n",
      "Friedländers gata\n"
     ]
    },
    {
     "name": "stderr",
     "output_type": "stream",
     "text": [
      " 22%|██▏       | 1263/5788 [03:18<15:57,  4.73it/s]"
     ]
    },
    {
     "name": "stdout",
     "output_type": "stream",
     "text": [
      "Friggagatan\n"
     ]
    },
    {
     "name": "stderr",
     "output_type": "stream",
     "text": [
      " 22%|██▏       | 1265/5788 [03:20<32:04,  2.35it/s]"
     ]
    },
    {
     "name": "stdout",
     "output_type": "stream",
     "text": [
      "Friggaplatsen\n",
      "Frigångsgatan\n",
      "Frihamnen\n"
     ]
    },
    {
     "name": "stderr",
     "output_type": "stream",
     "text": [
      " 22%|██▏       | 1270/5788 [03:21<18:04,  4.17it/s]"
     ]
    },
    {
     "name": "stdout",
     "output_type": "stream",
     "text": [
      "Frihamnsmotet\n",
      "Friidrottens väg\n",
      "Friluftsvägen\n",
      "Frimästaregatan\n"
     ]
    },
    {
     "name": "stderr",
     "output_type": "stream",
     "text": [
      " 22%|██▏       | 1274/5788 [03:21<10:45,  7.00it/s]"
     ]
    },
    {
     "name": "stdout",
     "output_type": "stream",
     "text": [
      "Frisksportaren\n",
      "Friskväderstorget\n",
      "Fritiof Anderssons gata\n",
      "Fritjofsstigen\n",
      "Frodestigen\n",
      "Frostgatan\n"
     ]
    },
    {
     "name": "stderr",
     "output_type": "stream",
     "text": [
      " 22%|██▏       | 1279/5788 [03:21<06:01, 12.49it/s]"
     ]
    },
    {
     "name": "stdout",
     "output_type": "stream",
     "text": [
      "Froståsvägen\n",
      "Fruktgatan\n",
      "Fruktträdsgatan\n",
      "Fryxellsgatan\n",
      "Fräntorpsgatan\n"
     ]
    },
    {
     "name": "stderr",
     "output_type": "stream",
     "text": [
      " 22%|██▏       | 1282/5788 [03:21<05:53, 12.74it/s]"
     ]
    },
    {
     "name": "stdout",
     "output_type": "stream",
     "text": [
      "Frödingsgatan\n",
      "Frölunda Kyrkogata\n"
     ]
    },
    {
     "name": "stderr",
     "output_type": "stream",
     "text": [
      " 22%|██▏       | 1288/5788 [03:22<05:31, 13.59it/s]"
     ]
    },
    {
     "name": "stdout",
     "output_type": "stream",
     "text": [
      "Frölunda Smedjegata\n",
      "Frölunda Torg\n",
      "Frölundaborgs Allé\n",
      "Fullmånegatan\n",
      "Fullriggaregatan\n"
     ]
    },
    {
     "name": "stderr",
     "output_type": "stream",
     "text": [
      " 22%|██▏       | 1296/5788 [03:22<03:32, 21.17it/s]"
     ]
    },
    {
     "name": "stdout",
     "output_type": "stream",
     "text": [
      "Furet\n",
      "Furirsgatan\n",
      "Furubergsvägen\n",
      "Furudalen\n",
      "Furugatan\n",
      "Furuhälls väg\n",
      "Furuhöjdsbacken\n",
      "Furulundsvägen\n",
      "Furuplatsen\n"
     ]
    },
    {
     "name": "stderr",
     "output_type": "stream",
     "text": [
      " 22%|██▏       | 1302/5788 [03:22<03:50, 19.45it/s]"
     ]
    },
    {
     "name": "stdout",
     "output_type": "stream",
     "text": [
      "Furuslätten\n",
      "Furustigen\n",
      "Furåsbacken\n",
      "Furåsen\n",
      "Furåsgläntan\n",
      "Fuxvägen\n"
     ]
    },
    {
     "name": "stderr",
     "output_type": "stream",
     "text": [
      " 23%|██▎       | 1305/5788 [03:23<04:07, 18.08it/s]"
     ]
    },
    {
     "name": "stdout",
     "output_type": "stream",
     "text": [
      "Fyradalersgatan\n",
      "Fyrans backe\n",
      "Fyrarörsgatan\n",
      "Fyrbåksvägen\n"
     ]
    },
    {
     "name": "stderr",
     "output_type": "stream",
     "text": [
      " 23%|██▎       | 1311/5788 [03:23<04:59, 14.92it/s]"
     ]
    },
    {
     "name": "stdout",
     "output_type": "stream",
     "text": [
      "Fyrisvägen\n",
      "Fyrkgången\n",
      "Fyrklöversgatan\n",
      "Fyrktorget\n",
      "Fyrlyktevägen\n"
     ]
    },
    {
     "name": "stderr",
     "output_type": "stream",
     "text": [
      " 23%|██▎       | 1315/5788 [03:25<13:53,  5.37it/s]"
     ]
    },
    {
     "name": "stdout",
     "output_type": "stream",
     "text": [
      "Fyrmästaregången\n",
      "Fyrskensvägen\n",
      "Fyrskeppsvägen\n"
     ]
    },
    {
     "name": "stderr",
     "output_type": "stream",
     "text": [
      " 23%|██▎       | 1317/5788 [03:25<12:12,  6.10it/s]"
     ]
    },
    {
     "name": "stdout",
     "output_type": "stream",
     "text": [
      "Fyrspannvägen\n",
      "Fyrtornsvägen\n",
      "Fyrverkaregatan\n"
     ]
    },
    {
     "name": "stderr",
     "output_type": "stream",
     "text": [
      " 23%|██▎       | 1319/5788 [03:25<11:33,  6.45it/s]"
     ]
    },
    {
     "name": "stdout",
     "output_type": "stream",
     "text": [
      "Fyrväpplingen\n",
      "Fyrväpplingsgatan\n"
     ]
    },
    {
     "name": "stderr",
     "output_type": "stream",
     "text": [
      " 23%|██▎       | 1328/5788 [03:26<05:55, 12.56it/s]"
     ]
    },
    {
     "name": "stdout",
     "output_type": "stream",
     "text": [
      "Fysikgränd\n",
      "Fällesåsvägen\n",
      "Fällmakaregatan\n",
      "Fältflygarnas väg\n",
      "Fältgatan\n",
      "Fältskärsgatan\n",
      "Fältspatsgatan\n",
      "Fänkålsgatan\n",
      "Fänriksgatan\n"
     ]
    },
    {
     "name": "stderr",
     "output_type": "stream",
     "text": [
      " 23%|██▎       | 1331/5788 [03:26<05:40, 13.10it/s]"
     ]
    },
    {
     "name": "stdout",
     "output_type": "stream",
     "text": [
      "Färgaregatan\n",
      "Färgeåsstigen\n",
      "Färgfabriksgatan\n"
     ]
    },
    {
     "name": "stderr",
     "output_type": "stream",
     "text": [
      " 23%|██▎       | 1337/5788 [03:27<05:50, 12.72it/s]"
     ]
    },
    {
     "name": "stdout",
     "output_type": "stream",
     "text": [
      "Färgspelsgatan\n",
      "Färjeroddarvägen\n",
      "Fässbergsgatan\n",
      "Fästningsvägen\n",
      "Fåfängan\n",
      "Fåfängegatan\n",
      "Fågeldammsvägen\n"
     ]
    },
    {
     "name": "stderr",
     "output_type": "stream",
     "text": [
      " 23%|██▎       | 1340/5788 [03:27<05:00, 14.81it/s]"
     ]
    },
    {
     "name": "stdout",
     "output_type": "stream",
     "text": [
      "Fågelfängaregatan\n",
      "Fågelrovägen\n"
     ]
    },
    {
     "name": "stderr",
     "output_type": "stream",
     "text": [
      " 23%|██▎       | 1343/5788 [03:28<11:29,  6.44it/s]"
     ]
    },
    {
     "name": "stdout",
     "output_type": "stream",
     "text": [
      "Fågelvägen\n",
      "Fågleviksfjällväg\n",
      "Fågleviksvägen\n"
     ]
    },
    {
     "name": "stderr",
     "output_type": "stream",
     "text": [
      " 23%|██▎       | 1349/5788 [03:28<07:48,  9.48it/s]"
     ]
    },
    {
     "name": "stdout",
     "output_type": "stream",
     "text": [
      "Fåhraeus Trappor\n",
      "Fögderigatan\n",
      "Följebåtsgatan\n",
      "Fölvägen\n",
      "Föraregatan\n",
      "Fördelarvägen\n"
     ]
    },
    {
     "name": "stderr",
     "output_type": "stream",
     "text": [
      " 23%|██▎       | 1355/5788 [03:29<06:10, 11.97it/s]"
     ]
    },
    {
     "name": "stdout",
     "output_type": "stream",
     "text": [
      "Föreningsgatan\n",
      "Författaregatan\n",
      "Förgyllarestråket\n",
      "Förgätmigejgången\n",
      "Förländegatan\n",
      "Förmansgatan\n",
      "Förpiken\n",
      "Förrådsgatan\n",
      "Förskolevägen\n",
      "Första Kvillängsvägen\n"
     ]
    },
    {
     "name": "stderr",
     "output_type": "stream",
     "text": [
      " 24%|██▎       | 1361/5788 [03:29<04:00, 18.44it/s]"
     ]
    },
    {
     "name": "stdout",
     "output_type": "stream",
     "text": [
      "Första Långgatan\n"
     ]
    },
    {
     "name": "stderr",
     "output_type": "stream",
     "text": [
      " 24%|██▎       | 1365/5788 [03:29<06:26, 11.45it/s]"
     ]
    },
    {
     "name": "stdout",
     "output_type": "stream",
     "text": [
      "Förstamajgatan\n",
      "Förstärkaregatan\n",
      "Försvarsgatan\n",
      "Förtroligheten\n",
      "Fürstenbergsgatan\n",
      "GM TA\n",
      "GM TA2Ö\n",
      "GM TAÖN\n"
     ]
    },
    {
     "name": "stderr",
     "output_type": "stream",
     "text": [
      " 24%|██▍       | 1380/5788 [03:30<03:31, 20.84it/s]"
     ]
    },
    {
     "name": "stdout",
     "output_type": "stream",
     "text": [
      "GM TB1V\n",
      "GM TB4-9\n",
      "GM TBNV\n",
      "GM TBP\n",
      "GM TCSÖ\n",
      "GM TCV\n",
      "GM TCÖ\n",
      "GM TUF\n",
      "GM TUN\n",
      "GM TVN\n",
      "GM TVS\n",
      "GM TVÖ\n",
      "Gabriels Lycka\n"
     ]
    },
    {
     "name": "stderr",
     "output_type": "stream",
     "text": [
      " 24%|██▍       | 1384/5788 [03:30<03:13, 22.71it/s]"
     ]
    },
    {
     "name": "stdout",
     "output_type": "stream",
     "text": [
      "Galateagatan\n",
      "Galaxgatan\n",
      "Galeasgatan\n",
      "Galileis Plats\n",
      "Galileis gata\n"
     ]
    },
    {
     "name": "stderr",
     "output_type": "stream",
     "text": [
      " 24%|██▍       | 1388/5788 [03:30<03:34, 20.51it/s]"
     ]
    },
    {
     "name": "stdout",
     "output_type": "stream",
     "text": [
      "Galvaniseringsgatan\n",
      "Galärgatan\n"
     ]
    },
    {
     "name": "stderr",
     "output_type": "stream",
     "text": [
      " 24%|██▍       | 1395/5788 [03:32<08:53,  8.23it/s]"
     ]
    },
    {
     "name": "stdout",
     "output_type": "stream",
     "text": [
      "Gamla Allén\n",
      "Gamla Almedalsvägen\n",
      "Gamla Arendalsvägen\n",
      "Gamla Bastebergsvägen\n",
      "Gamla Bergets väg\n",
      "Gamla Björlandavägen\n",
      "Gamla Boråsvägen\n"
     ]
    },
    {
     "name": "stderr",
     "output_type": "stream",
     "text": [
      " 24%|██▍       | 1398/5788 [03:35<23:30,  3.11it/s]"
     ]
    },
    {
     "name": "stdout",
     "output_type": "stream",
     "text": [
      "Gamla Brottkärrsvägen\n",
      "Gamla Bällskärsvägen\n",
      "Gamla Böneredsvägen\n"
     ]
    },
    {
     "name": "stderr",
     "output_type": "stream",
     "text": [
      " 24%|██▍       | 1400/5788 [03:35<20:28,  3.57it/s]"
     ]
    },
    {
     "name": "stdout",
     "output_type": "stream",
     "text": [
      "Gamla Ceresgatan\n",
      "Gamla Farvägen\n",
      "Gamla Flygplatsvägen\n"
     ]
    },
    {
     "name": "stderr",
     "output_type": "stream",
     "text": [
      " 24%|██▍       | 1407/5788 [03:36<14:53,  4.90it/s]"
     ]
    },
    {
     "name": "stdout",
     "output_type": "stream",
     "text": [
      "Gamla Gunnestorpsvägen\n",
      "Gamla Hjuviksvägen\n",
      "Gamla Kornhallsvägen\n",
      "Gamla Lillebyvägen\n",
      "Gamla Lillhagsvägen\n"
     ]
    },
    {
     "name": "stderr",
     "output_type": "stream",
     "text": [
      " 24%|██▍       | 1409/5788 [03:37<14:24,  5.07it/s]"
     ]
    },
    {
     "name": "stdout",
     "output_type": "stream",
     "text": [
      "Gamla Lundbygatan\n",
      "Gamla Låssbyvägen\n"
     ]
    },
    {
     "name": "stderr",
     "output_type": "stream",
     "text": [
      " 24%|██▍       | 1413/5788 [03:37<10:51,  6.71it/s]"
     ]
    },
    {
     "name": "stdout",
     "output_type": "stream",
     "text": [
      "Gamla Rambergsvägen\n",
      "Gamla Skarpetegen\n",
      "Gamla Särövägen\n",
      "Gamla Sörredsvägen\n"
     ]
    },
    {
     "name": "stderr",
     "output_type": "stream",
     "text": [
      " 24%|██▍       | 1417/5788 [03:44<49:41,  1.47it/s]  "
     ]
    },
    {
     "name": "stdout",
     "output_type": "stream",
     "text": [
      "Gamla Tingstadsgatan\n",
      "Gamla Torslandavägen\n",
      "Gamla Tumlehedsvägen\n",
      "Gamla Tuvevägen\n"
     ]
    },
    {
     "name": "stderr",
     "output_type": "stream",
     "text": [
      " 25%|██▍       | 1421/5788 [03:44<31:05,  2.34it/s]"
     ]
    },
    {
     "name": "stdout",
     "output_type": "stream",
     "text": [
      "Gamla Varvsgatan\n",
      "Gamla Vikbrovägen\n",
      "Gamla vägen\n",
      "Gamlebo\n",
      "Gamlebrunnsgatan\n",
      "Gamlestads Brygga\n",
      "Gamlestads bro\n",
      "Gamlestadstorget\n",
      "Gamlestadsvägen\n"
     ]
    },
    {
     "name": "stderr",
     "output_type": "stream",
     "text": [
      " 25%|██▍       | 1432/5788 [03:55<49:36,  1.46it/s]  "
     ]
    },
    {
     "name": "stdout",
     "output_type": "stream",
     "text": [
      "Gammaldansvägen\n",
      "Ganlevägen\n",
      "Garnfot\n",
      "Garpen Fyrs väg\n",
      "Garverigatan\n",
      "Gasol-Gunnars väg\n",
      "Gatersered Sörgård\n",
      "Gaterseredsvägen\n"
     ]
    },
    {
     "name": "stderr",
     "output_type": "stream",
     "text": [
      " 25%|██▍       | 1439/5788 [03:56<28:31,  2.54it/s]"
     ]
    },
    {
     "name": "stdout",
     "output_type": "stream",
     "text": [
      "Gatsmygen\n",
      "Gatugårdsvägen\n",
      "Geely Walk\n",
      "Gegerfeltsgatan\n",
      "Geijersgatan\n",
      "Gelbgjutaregatan\n",
      "Gema-Kjells väg\n",
      "Generalsgatan\n"
     ]
    },
    {
     "name": "stderr",
     "output_type": "stream",
     "text": [
      " 25%|██▍       | 1443/5788 [03:56<20:25,  3.54it/s]"
     ]
    },
    {
     "name": "stdout",
     "output_type": "stream",
     "text": [
      "Generatorsgatan\n",
      "Genomfart Majorsgatan 4\n",
      "Genomfart Majorsgatan 6\n",
      "Genomfart Sveag 10\n",
      "Genomgången\n",
      "Genuavägen\n"
     ]
    },
    {
     "name": "stderr",
     "output_type": "stream",
     "text": [
      " 25%|██▌       | 1452/5788 [03:56<11:49,  6.11it/s]"
     ]
    },
    {
     "name": "stdout",
     "output_type": "stream",
     "text": [
      "Gerdas Gård\n",
      "Gerrebackavägen\n",
      "Gerrebacken\n",
      "Gert Tommessons Gata\n",
      "Gert Tommessons gata\n",
      "Gertruds gata\n"
     ]
    },
    {
     "name": "stderr",
     "output_type": "stream",
     "text": [
      " 25%|██▌       | 1459/5788 [03:56<07:13,  9.98it/s]"
     ]
    },
    {
     "name": "stdout",
     "output_type": "stream",
     "text": [
      "Gesällgatan\n",
      "Getebergsled\n",
      "Getebergsledsbron\n",
      "Geteryggsgatan\n",
      "Getstigen\n",
      "Gibraltargatan\n"
     ]
    },
    {
     "name": "stderr",
     "output_type": "stream",
     "text": [
      " 25%|██▌       | 1468/5788 [03:58<09:46,  7.37it/s]"
     ]
    },
    {
     "name": "stdout",
     "output_type": "stream",
     "text": [
      "Gibraltarkroken\n",
      "Gibraltarvallsvägen\n",
      "Gillegatan\n",
      "Gilleplan\n",
      "Gillis Edenhjelms Gångväg\n",
      "Ginstgången\n",
      "Gisslefjällsliden\n",
      "Gisslefjällsvägen\n",
      "Gitarrgatan\n",
      "Gjutaregatan\n"
     ]
    },
    {
     "name": "stderr",
     "output_type": "stream",
     "text": [
      " 25%|██▌       | 1475/5788 [03:59<06:37, 10.86it/s]"
     ]
    },
    {
     "name": "stdout",
     "output_type": "stream",
     "text": [
      "Gjutebrunnsvägen\n",
      "Gjutegården\n",
      "Gjutjärnsgatan\n",
      "Glasmäastareplatsen\n",
      "Glasmästaregatan\n"
     ]
    },
    {
     "name": "stderr",
     "output_type": "stream",
     "text": [
      " 26%|██▌       | 1479/5788 [03:59<05:27, 13.17it/s]"
     ]
    },
    {
     "name": "stdout",
     "output_type": "stream",
     "text": [
      "Glasmästareplatsen\n",
      "Glimmerstigen\n",
      "Glisterbackegatan\n",
      "Gläntevägen\n",
      "Glöstorps Röseväg\n",
      "Glöstorpsvägen\n"
     ]
    },
    {
     "name": "stderr",
     "output_type": "stream",
     "text": [
      " 26%|██▌       | 1482/5788 [04:18<1:57:28,  1.64s/it]"
     ]
    },
    {
     "name": "stdout",
     "output_type": "stream",
     "text": [
      "Gneisgatan\n",
      "Gnistgatan\n"
     ]
    },
    {
     "name": "stderr",
     "output_type": "stream",
     "text": [
      " 26%|██▌       | 1484/5788 [04:20<1:47:50,  1.50s/it]"
     ]
    },
    {
     "name": "stdout",
     "output_type": "stream",
     "text": [
      "Gnistängsmotet\n",
      "Godemansgatan\n",
      "Godhemsgatan\n"
     ]
    },
    {
     "name": "stderr",
     "output_type": "stream",
     "text": [
      " 26%|██▌       | 1487/5788 [04:27<2:06:05,  1.76s/it]"
     ]
    },
    {
     "name": "stdout",
     "output_type": "stream",
     "text": [
      "Godhemsplatsen\n",
      "Godsgatan\n"
     ]
    },
    {
     "name": "stderr",
     "output_type": "stream",
     "text": [
      " 26%|██▌       | 1491/5788 [04:27<1:18:20,  1.09s/it]"
     ]
    },
    {
     "name": "stdout",
     "output_type": "stream",
     "text": [
      "Godvädersgatan\n",
      "Golfbacken\n",
      "Golfbanevägen\n"
     ]
    },
    {
     "name": "stderr",
     "output_type": "stream",
     "text": [
      " 26%|██▌       | 1493/5788 [04:28<1:03:16,  1.13it/s]"
     ]
    },
    {
     "name": "stdout",
     "output_type": "stream",
     "text": [
      "Golfstigen\n",
      "Golvläggaregatan\n",
      "Gossbydalsstigen\n"
     ]
    },
    {
     "name": "stderr",
     "output_type": "stream",
     "text": [
      " 26%|██▌       | 1495/5788 [04:28<49:50,  1.44it/s]  "
     ]
    },
    {
     "name": "stdout",
     "output_type": "stream",
     "text": [
      "Gossbydalsvägen\n"
     ]
    },
    {
     "name": "stderr",
     "output_type": "stream",
     "text": [
      " 26%|██▌       | 1499/5788 [04:29<28:48,  2.48it/s]"
     ]
    },
    {
     "name": "stdout",
     "output_type": "stream",
     "text": [
      "Gottskärsgatan\n",
      "Gradmansplatsen\n",
      "Graffmansgatan\n",
      "Grafiska Vägen\n"
     ]
    },
    {
     "name": "stderr",
     "output_type": "stream",
     "text": [
      " 26%|██▌       | 1504/5788 [04:30<23:39,  3.02it/s]"
     ]
    },
    {
     "name": "stdout",
     "output_type": "stream",
     "text": [
      "Grand Passage\n",
      "Grangatan\n",
      "Granheden\n",
      "Granhällsvägen\n",
      "Granitvägen\n",
      "Grankullestigen\n",
      "Granlidsvägen\n"
     ]
    },
    {
     "name": "stderr",
     "output_type": "stream",
     "text": [
      " 26%|██▌       | 1510/5788 [04:31<11:50,  6.02it/s]"
     ]
    },
    {
     "name": "stdout",
     "output_type": "stream",
     "text": [
      "Grannsämjan\n",
      "Granåsgatan\n",
      "Gredelingatan\n",
      "Gregorianska gatan\n"
     ]
    },
    {
     "name": "stderr",
     "output_type": "stream",
     "text": [
      " 26%|██▌       | 1512/5788 [04:31<10:46,  6.61it/s]"
     ]
    },
    {
     "name": "stdout",
     "output_type": "stream",
     "text": [
      "Grepgatan\n",
      "Gretas gata\n",
      "Grevebergsgatan\n"
     ]
    },
    {
     "name": "stderr",
     "output_type": "stream",
     "text": [
      " 26%|██▌       | 1514/5788 [04:31<09:45,  7.30it/s]"
     ]
    },
    {
     "name": "stdout",
     "output_type": "stream",
     "text": [
      "Grevegårdens Kyrkväg\n",
      "Grevegårdsvägen\n"
     ]
    },
    {
     "name": "stderr",
     "output_type": "stream",
     "text": [
      " 26%|██▌       | 1519/5788 [04:35<30:43,  2.32it/s]"
     ]
    },
    {
     "name": "stdout",
     "output_type": "stream",
     "text": [
      "Grills väg\n",
      "Grimbodalen\n",
      "Grimboåsen\n",
      "Grimmereds by\n",
      "Grimmeredsvägen\n"
     ]
    },
    {
     "name": "stderr",
     "output_type": "stream",
     "text": [
      " 26%|██▋       | 1523/5788 [04:42<1:00:17,  1.18it/s]"
     ]
    },
    {
     "name": "stdout",
     "output_type": "stream",
     "text": [
      "Grimås Hög\n",
      "Grimåsvägen\n",
      "Grindstugegränd\n",
      "Grindvägen\n",
      "Grinnekullegatan\n",
      "Grinnekärrsvägen\n"
     ]
    },
    {
     "name": "stderr",
     "output_type": "stream",
     "text": [
      " 26%|██▋       | 1530/5788 [04:42<24:53,  2.85it/s]  "
     ]
    },
    {
     "name": "stdout",
     "output_type": "stream",
     "text": [
      "Gropegårdsgatan\n",
      "Gropens Gård\n",
      "Gropens Lillgata\n",
      "Grotteparksvägen\n",
      "Grovsmedsgatan\n",
      "Grundsundsvägen\n"
     ]
    },
    {
     "name": "stderr",
     "output_type": "stream",
     "text": [
      " 27%|██▋       | 1536/5788 [04:42<13:47,  5.14it/s]"
     ]
    },
    {
     "name": "stdout",
     "output_type": "stream",
     "text": [
      "Grusbrantsvägen\n",
      "Grustagsvägen\n",
      "Grusåsvägen\n",
      "Gruvgatan\n",
      "Gryningsgatan\n",
      "Grytstigen\n"
     ]
    },
    {
     "name": "stderr",
     "output_type": "stream",
     "text": [
      " 27%|██▋       | 1546/5788 [04:43<05:58, 11.82it/s]"
     ]
    },
    {
     "name": "stdout",
     "output_type": "stream",
     "text": [
      "Gräddfilen\n",
      "Gräddgatan\n",
      "Gräsgatan\n",
      "Gräshultsgården\n",
      "Gräshultslid\n",
      "Gräslyckan\n",
      "Gräslöksgången\n",
      "Gräsmånadsgatan\n",
      "Grässkärsgatan\n"
     ]
    },
    {
     "name": "stderr",
     "output_type": "stream",
     "text": [
      " 27%|██▋       | 1550/5788 [04:43<05:06, 13.81it/s]"
     ]
    },
    {
     "name": "stdout",
     "output_type": "stream",
     "text": [
      "Grästuvevägen\n",
      "Gräsåsvägen\n",
      "Grävlingstigen\n"
     ]
    },
    {
     "name": "stderr",
     "output_type": "stream",
     "text": [
      " 27%|██▋       | 1553/5788 [04:44<08:18,  8.50it/s]"
     ]
    },
    {
     "name": "stdout",
     "output_type": "stream",
     "text": [
      "Grå Lars väg\n",
      "Gråbacka Äng\n",
      "Gråbackavägen\n",
      "Gråbo\n",
      "Gråbovägen\n"
     ]
    },
    {
     "name": "stderr",
     "output_type": "stream",
     "text": [
      " 27%|██▋       | 1556/5788 [05:39<5:43:08,  4.86s/it]"
     ]
    },
    {
     "name": "stdout",
     "output_type": "stream",
     "text": [
      "Grågåsgatan\n"
     ]
    },
    {
     "name": "stderr",
     "output_type": "stream",
     "text": [
      " 27%|██▋       | 1557/5788 [05:40<5:07:51,  4.37s/it]"
     ]
    },
    {
     "name": "stdout",
     "output_type": "stream",
     "text": [
      "Gråskärsgatan\n",
      "Gråsparvsgången\n"
     ]
    },
    {
     "name": "stderr",
     "output_type": "stream",
     "text": [
      " 27%|██▋       | 1562/5788 [05:40<2:38:22,  2.25s/it]"
     ]
    },
    {
     "name": "stdout",
     "output_type": "stream",
     "text": [
      "Gråstensliden\n",
      "Gröna Annas gata\n",
      "Gröna Vallen\n",
      "Gröna Viken\n"
     ]
    },
    {
     "name": "stderr",
     "output_type": "stream",
     "text": [
      " 27%|██▋       | 1564/5788 [05:40<2:01:21,  1.72s/it]"
     ]
    },
    {
     "name": "stdout",
     "output_type": "stream",
     "text": [
      "Gröna gatan\n",
      "Gröna stråket\n"
     ]
    },
    {
     "name": "stderr",
     "output_type": "stream",
     "text": [
      " 27%|██▋       | 1566/5788 [05:41<1:39:37,  1.42s/it]"
     ]
    },
    {
     "name": "stdout",
     "output_type": "stream",
     "text": [
      "Grönahögsvägen\n",
      "Grönbräcka Äng\n",
      "Grönbräckavägen\n",
      "Gröndalsgatan\n"
     ]
    },
    {
     "name": "stderr",
     "output_type": "stream",
     "text": [
      " 27%|██▋       | 1571/5788 [05:42<49:56,  1.41it/s]  "
     ]
    },
    {
     "name": "stdout",
     "output_type": "stream",
     "text": [
      "Grönfinksvägen\n",
      "Gröngölingsgatan\n",
      "Grönkullavägen\n"
     ]
    },
    {
     "name": "stderr",
     "output_type": "stream",
     "text": [
      " 27%|██▋       | 1573/5788 [05:42<38:25,  1.83it/s]"
     ]
    },
    {
     "name": "stdout",
     "output_type": "stream",
     "text": [
      "Grönkålsgången\n",
      "Grönsaksgatan\n",
      "Grönsakstorget\n"
     ]
    },
    {
     "name": "stderr",
     "output_type": "stream",
     "text": [
      " 27%|██▋       | 1577/5788 [05:42<24:28,  2.87it/s]"
     ]
    },
    {
     "name": "stdout",
     "output_type": "stream",
     "text": [
      "Grönstensvägen\n",
      "Grönwallsgången\n",
      "Grötöplatsen\n"
     ]
    },
    {
     "name": "stderr",
     "output_type": "stream",
     "text": [
      " 27%|██▋       | 1579/5788 [05:43<18:31,  3.79it/s]"
     ]
    },
    {
     "name": "stdout",
     "output_type": "stream",
     "text": [
      "Gubbe-Lars väg\n",
      "Gubben Pistols Stig\n"
     ]
    },
    {
     "name": "stderr",
     "output_type": "stream",
     "text": [
      " 27%|██▋       | 1581/5788 [05:43<17:00,  4.12it/s]"
     ]
    },
    {
     "name": "stdout",
     "output_type": "stream",
     "text": [
      "Gudmundsgatan\n",
      "Gula stråket\n"
     ]
    },
    {
     "name": "stderr",
     "output_type": "stream",
     "text": [
      " 27%|██▋       | 1583/5788 [05:43<14:28,  4.84it/s]"
     ]
    },
    {
     "name": "stdout",
     "output_type": "stream",
     "text": [
      "Gulaskärsgatan\n",
      "Guldhedens kyrkbacke\n",
      "Guldhedsgatan\n"
     ]
    },
    {
     "name": "stderr",
     "output_type": "stream",
     "text": [
      " 27%|██▋       | 1590/5788 [05:47<25:32,  2.74it/s]"
     ]
    },
    {
     "name": "stdout",
     "output_type": "stream",
     "text": [
      "Guldkällestigen\n",
      "Guldmyntsgatan\n",
      "Guldpokalsgatan\n",
      "Guldregnsgången\n",
      "Guldringen\n",
      "Guldsmedsgatan\n",
      "Guldvingevägen\n"
     ]
    },
    {
     "name": "stderr",
     "output_type": "stream",
     "text": [
      " 28%|██▊       | 1592/5788 [05:48<25:07,  2.78it/s]"
     ]
    },
    {
     "name": "stdout",
     "output_type": "stream",
     "text": [
      "Gullbergs Strandgata\n"
     ]
    },
    {
     "name": "stderr",
     "output_type": "stream",
     "text": [
      " 28%|██▊       | 1594/5788 [05:52<53:34,  1.30it/s]"
     ]
    },
    {
     "name": "stdout",
     "output_type": "stream",
     "text": [
      "Gullbergsbrogatan\n",
      "Gullbergskajen\n",
      "Gullbergsvassgatan\n"
     ]
    },
    {
     "name": "stderr",
     "output_type": "stream",
     "text": [
      " 28%|██▊       | 1599/5788 [05:56<49:44,  1.40it/s]  "
     ]
    },
    {
     "name": "stdout",
     "output_type": "stream",
     "text": [
      "Gullbrings väg\n",
      "Gulleredsvägen\n",
      "Gullfjällsvägen\n",
      "Gullhavregatan\n"
     ]
    },
    {
     "name": "stderr",
     "output_type": "stream",
     "text": [
      " 28%|██▊       | 1601/5788 [05:56<38:31,  1.81it/s]"
     ]
    },
    {
     "name": "stdout",
     "output_type": "stream",
     "text": [
      "Gullkragsgatan\n",
      "Gullkullen\n"
     ]
    },
    {
     "name": "stderr",
     "output_type": "stream",
     "text": [
      " 28%|██▊       | 1603/5788 [05:57<38:23,  1.82it/s]"
     ]
    },
    {
     "name": "stdout",
     "output_type": "stream",
     "text": [
      "Gullringegård\n",
      "Gullringevägen\n"
     ]
    },
    {
     "name": "stderr",
     "output_type": "stream",
     "text": [
      " 28%|██▊       | 1607/5788 [05:58<22:18,  3.12it/s]"
     ]
    },
    {
     "name": "stdout",
     "output_type": "stream",
     "text": [
      "Gullrisgatan\n",
      "Gullvivegången\n",
      "Gullyckevägen\n",
      "Gullö Gård\n",
      "Gullö Skog\n",
      "Gullöhagen\n",
      "Gullövägen\n"
     ]
    },
    {
     "name": "stderr",
     "output_type": "stream",
     "text": [
      " 28%|██▊       | 1611/5788 [05:58<14:18,  4.86it/s]"
     ]
    },
    {
     "name": "stdout",
     "output_type": "stream",
     "text": [
      "Gulmårevägen\n",
      "Gulsparvsgatan\n"
     ]
    },
    {
     "name": "stderr",
     "output_type": "stream",
     "text": [
      " 28%|██▊       | 1614/5788 [05:59<15:10,  4.58it/s]"
     ]
    },
    {
     "name": "stdout",
     "output_type": "stream",
     "text": [
      "Gulsporregången\n",
      "Gulärlegången\n",
      "Gunborgavägen\n"
     ]
    },
    {
     "name": "stderr",
     "output_type": "stream",
     "text": [
      " 28%|██▊       | 1617/5788 [05:59<12:28,  5.57it/s]"
     ]
    },
    {
     "name": "stdout",
     "output_type": "stream",
     "text": [
      "Gundla Björklid\n",
      "Gundla Mosse\n"
     ]
    },
    {
     "name": "stderr",
     "output_type": "stream",
     "text": [
      " 28%|██▊       | 1618/5788 [05:59<13:25,  5.18it/s]"
     ]
    },
    {
     "name": "stdout",
     "output_type": "stream",
     "text": [
      "Gunn Wållgrens gata\n",
      "Gunnar Carlssons Trappor\n",
      "Gunnar Engellaus väg\n"
     ]
    },
    {
     "name": "stderr",
     "output_type": "stream",
     "text": [
      " 28%|██▊       | 1622/5788 [06:00<11:48,  5.88it/s]"
     ]
    },
    {
     "name": "stdout",
     "output_type": "stream",
     "text": [
      "Gunnareds Industriväg\n",
      "Gunnareds Kyrkväg\n",
      "Gunnaredsstigen\n",
      "Gunnaredsterrassen\n"
     ]
    },
    {
     "name": "stderr",
     "output_type": "stream",
     "text": [
      " 28%|██▊       | 1627/5788 [06:01<09:09,  7.57it/s]"
     ]
    },
    {
     "name": "stdout",
     "output_type": "stream",
     "text": [
      "Gunnaredsvallen\n",
      "Gunnaredsvägen\n",
      "Gunnel Weinås väg\n",
      "Gunnesby Hembygdsgård\n"
     ]
    },
    {
     "name": "stderr",
     "output_type": "stream",
     "text": [
      " 28%|██▊       | 1629/5788 [06:01<07:35,  9.13it/s]"
     ]
    },
    {
     "name": "stdout",
     "output_type": "stream",
     "text": [
      "Gunnesby Kalsbogård\n",
      "Gunnesby Koloniområde\n"
     ]
    },
    {
     "name": "stderr",
     "output_type": "stream",
     "text": [
      " 28%|██▊       | 1631/5788 [06:01<10:58,  6.31it/s]"
     ]
    },
    {
     "name": "stdout",
     "output_type": "stream",
     "text": [
      "Gunnesby Mellangård\n",
      "Gunnesby Sörgård\n",
      "Gunnestorps bygata\n"
     ]
    },
    {
     "name": "stderr",
     "output_type": "stream",
     "text": [
      " 28%|██▊       | 1634/5788 [06:02<09:50,  7.04it/s]"
     ]
    },
    {
     "name": "stdout",
     "output_type": "stream",
     "text": [
      "Gunnestorpsvägen\n"
     ]
    },
    {
     "name": "stderr",
     "output_type": "stream",
     "text": [
      " 28%|██▊       | 1636/5788 [06:05<35:34,  1.95it/s]"
     ]
    },
    {
     "name": "stdout",
     "output_type": "stream",
     "text": [
      "Gunnilse Granväg\n",
      "Gunnilse Ljungbacke\n",
      "Gunnilse Mellangård\n",
      "Gunnilse Skolväg\n"
     ]
    },
    {
     "name": "stderr",
     "output_type": "stream",
     "text": [
      " 28%|██▊       | 1640/5788 [06:05<18:40,  3.70it/s]"
     ]
    },
    {
     "name": "stdout",
     "output_type": "stream",
     "text": [
      "Gunnilse Västergård\n",
      "Gunnilse backaväg\n",
      "Gunnilse stationsväg\n"
     ]
    },
    {
     "name": "stderr",
     "output_type": "stream",
     "text": [
      " 28%|██▊       | 1643/5788 [06:06<18:43,  3.69it/s]"
     ]
    },
    {
     "name": "stdout",
     "output_type": "stream",
     "text": [
      "Gunnilsevägen\n",
      "Gunseredsgården\n",
      "Gunviken\n"
     ]
    },
    {
     "name": "stderr",
     "output_type": "stream",
     "text": [
      " 28%|██▊       | 1647/5788 [06:06<11:42,  5.90it/s]"
     ]
    },
    {
     "name": "stdout",
     "output_type": "stream",
     "text": [
      "Gunvors Backe\n",
      "Gustaf Adolfs Torg\n",
      "Gustaf Dalénsgatan\n",
      "Gustaf Larsons väg\n"
     ]
    },
    {
     "name": "stderr",
     "output_type": "stream",
     "text": [
      " 29%|██▊       | 1651/5788 [06:16<1:17:35,  1.13s/it]"
     ]
    },
    {
     "name": "stdout",
     "output_type": "stream",
     "text": [
      "Gustaf Melins gata\n",
      "Gustaf Werners gata\n",
      "Gustavsberg\n",
      "Gustavsgatan\n"
     ]
    },
    {
     "name": "stderr",
     "output_type": "stream",
     "text": [
      " 29%|██▊       | 1656/5788 [06:18<45:56,  1.50it/s]  "
     ]
    },
    {
     "name": "stdout",
     "output_type": "stream",
     "text": [
      "Gustavsplatsen\n",
      "Gustegårdsvägen\n",
      "Guvernörsgatan\n",
      "Gyllenkrooksgatan\n"
     ]
    },
    {
     "name": "stderr",
     "output_type": "stream",
     "text": [
      " 29%|██▊       | 1658/5788 [06:19<42:40,  1.61it/s]"
     ]
    },
    {
     "name": "stdout",
     "output_type": "stream",
     "text": [
      "Gyllenstensgatan\n",
      "Gyllingsbergsgatan\n",
      "Gärdesvägen\n"
     ]
    },
    {
     "name": "stderr",
     "output_type": "stream",
     "text": [
      " 29%|██▊       | 1660/5788 [06:19<32:32,  2.11it/s]"
     ]
    },
    {
     "name": "stdout",
     "output_type": "stream",
     "text": [
      "Gärdhemsvägen\n",
      "Gärdsgårdsstigen\n"
     ]
    },
    {
     "name": "stderr",
     "output_type": "stream",
     "text": [
      " 29%|██▊       | 1664/5788 [06:21<28:10,  2.44it/s]"
     ]
    },
    {
     "name": "stdout",
     "output_type": "stream",
     "text": [
      "Gärdsmygen\n",
      "Gärdsås Torg\n",
      "Gärdsåsgatan\n"
     ]
    },
    {
     "name": "stderr",
     "output_type": "stream",
     "text": [
      " 29%|██▉       | 1665/5788 [06:21<26:16,  2.62it/s]"
     ]
    },
    {
     "name": "stdout",
     "output_type": "stream",
     "text": [
      "Gästgivaregatan\n"
     ]
    },
    {
     "name": "stderr",
     "output_type": "stream",
     "text": [
      " 29%|██▉       | 1668/5788 [06:21<16:56,  4.05it/s]"
     ]
    },
    {
     "name": "stdout",
     "output_type": "stream",
     "text": [
      "Gånggriftsgatan\n",
      "Gånglåten\n",
      "Gårdatorget\n",
      "Gårdavägen\n",
      "Gårdstens Industriväg\n"
     ]
    },
    {
     "name": "stderr",
     "output_type": "stream",
     "text": [
      " 29%|██▉       | 1671/5788 [06:21<11:31,  5.95it/s]"
     ]
    },
    {
     "name": "stdout",
     "output_type": "stream",
     "text": [
      "Gårdstensvägen\n"
     ]
    },
    {
     "name": "stderr",
     "output_type": "stream",
     "text": [
      " 29%|██▉       | 1673/5788 [06:22<13:28,  5.09it/s]"
     ]
    },
    {
     "name": "stdout",
     "output_type": "stream",
     "text": [
      "Gårdstomtestigen\n",
      "Gåsagången\n"
     ]
    },
    {
     "name": "stderr",
     "output_type": "stream",
     "text": [
      " 29%|██▉       | 1677/5788 [06:22<09:08,  7.50it/s]"
     ]
    },
    {
     "name": "stdout",
     "output_type": "stream",
     "text": [
      "Gåseklovan\n",
      "Gåsmossen\n",
      "Gåsmossevägen\n",
      "Göddereds Byväg\n"
     ]
    },
    {
     "name": "stderr",
     "output_type": "stream",
     "text": [
      " 29%|██▉       | 1681/5788 [06:28<42:24,  1.61it/s]"
     ]
    },
    {
     "name": "stdout",
     "output_type": "stream",
     "text": [
      "Göddereds Gård\n",
      "Göddereds Norgård\n",
      "Göddereds Sörgård\n",
      "Gödderedsbacken\n"
     ]
    },
    {
     "name": "stderr",
     "output_type": "stream",
     "text": [
      " 29%|██▉       | 1683/5788 [06:28<32:06,  2.13it/s]"
     ]
    },
    {
     "name": "stdout",
     "output_type": "stream",
     "text": [
      "Göketorpsgatan\n",
      "Göketorpstrappan\n",
      "Gökevägen\n"
     ]
    },
    {
     "name": "stderr",
     "output_type": "stream",
     "text": [
      " 29%|██▉       | 1687/5788 [06:28<18:47,  3.64it/s]"
     ]
    },
    {
     "name": "stdout",
     "output_type": "stream",
     "text": [
      "Gökropsgatan\n",
      "Göpåsgatan\n",
      "Gördelmakareplatsen\n",
      "Gösta Andrées gata\n",
      "Gösta Berlings gata\n"
     ]
    },
    {
     "name": "stderr",
     "output_type": "stream",
     "text": [
      " 29%|██▉       | 1690/5788 [06:28<13:52,  4.92it/s]"
     ]
    },
    {
     "name": "stdout",
     "output_type": "stream",
     "text": [
      "Gösta Fraenkels väg\n"
     ]
    },
    {
     "name": "stderr",
     "output_type": "stream",
     "text": [
      " 29%|██▉       | 1692/5788 [06:32<38:42,  1.76it/s]"
     ]
    },
    {
     "name": "stdout",
     "output_type": "stream",
     "text": [
      "Gösta Rahmns gata\n",
      "Gösta Sandelsgatan\n",
      "Göta Älvsgatan\n",
      "Götabergsgatan\n"
     ]
    },
    {
     "name": "stderr",
     "output_type": "stream",
     "text": [
      " 29%|██▉       | 1696/5788 [06:32<23:13,  2.94it/s]"
     ]
    },
    {
     "name": "stdout",
     "output_type": "stream",
     "text": [
      "Götaholmsgatan\n",
      "Götaplatsen\n"
     ]
    },
    {
     "name": "stderr",
     "output_type": "stream",
     "text": [
      " 29%|██▉       | 1697/5788 [06:32<22:50,  2.99it/s]"
     ]
    },
    {
     "name": "stdout",
     "output_type": "stream",
     "text": [
      "Götaverksgatan\n"
     ]
    },
    {
     "name": "stderr",
     "output_type": "stream",
     "text": [
      " 29%|██▉       | 1701/5788 [06:33<17:26,  3.91it/s]"
     ]
    },
    {
     "name": "stdout",
     "output_type": "stream",
     "text": [
      "Göteborgseskaderns Plats\n",
      "Göteborgsvägen\n",
      "Götgatan\n",
      "Hackeliden\n",
      "Hackspettsgatan\n"
     ]
    },
    {
     "name": "stderr",
     "output_type": "stream",
     "text": [
      " 29%|██▉       | 1705/5788 [06:34<11:38,  5.85it/s]"
     ]
    },
    {
     "name": "stdout",
     "output_type": "stream",
     "text": [
      "Haga Kyrkogata\n",
      "Haga Kyrkoplan\n",
      "Haga Nygata\n"
     ]
    },
    {
     "name": "stderr",
     "output_type": "stream",
     "text": [
      " 29%|██▉       | 1707/5788 [06:34<10:24,  6.54it/s]"
     ]
    },
    {
     "name": "stdout",
     "output_type": "stream",
     "text": [
      "Haga Östergata\n",
      "Hagatorpsgatan\n",
      "Hagbergsgatan\n"
     ]
    },
    {
     "name": "stderr",
     "output_type": "stream",
     "text": [
      " 30%|██▉       | 1711/5788 [06:34<09:24,  7.23it/s]"
     ]
    },
    {
     "name": "stdout",
     "output_type": "stream",
     "text": [
      "Hagbergsvägen\n",
      "Hagelidsvägen\n",
      "Hagelvädersgatan\n"
     ]
    },
    {
     "name": "stderr",
     "output_type": "stream",
     "text": [
      " 30%|██▉       | 1713/5788 [06:35<09:24,  7.21it/s]"
     ]
    },
    {
     "name": "stdout",
     "output_type": "stream",
     "text": [
      "Hagelyckegatan\n",
      "Hagens Kapellväg\n"
     ]
    },
    {
     "name": "stderr",
     "output_type": "stream",
     "text": [
      " 30%|██▉       | 1715/5788 [06:35<10:22,  6.54it/s]"
     ]
    },
    {
     "name": "stdout",
     "output_type": "stream",
     "text": [
      "Hagens Prästväg\n",
      "Hagens Stationsväg\n"
     ]
    },
    {
     "name": "stderr",
     "output_type": "stream",
     "text": [
      " 30%|██▉       | 1717/5788 [06:35<12:10,  5.57it/s]"
     ]
    },
    {
     "name": "stdout",
     "output_type": "stream",
     "text": [
      "Hagforsgatan\n",
      "Hagge Geigerts Trappor\n"
     ]
    },
    {
     "name": "stderr",
     "output_type": "stream",
     "text": [
      " 30%|██▉       | 1719/5788 [06:36<09:14,  7.34it/s]"
     ]
    },
    {
     "name": "stdout",
     "output_type": "stream",
     "text": [
      "Hagkroksvägen\n",
      "Hagmarksgatan\n"
     ]
    },
    {
     "name": "stderr",
     "output_type": "stream",
     "text": [
      " 30%|██▉       | 1723/5788 [06:36<06:35, 10.29it/s]"
     ]
    },
    {
     "name": "stdout",
     "output_type": "stream",
     "text": [
      "Hagtornsgatan\n",
      "Hagtornsstigen\n",
      "Hagvägen\n",
      "Hakefjordsgatan\n"
     ]
    },
    {
     "name": "stderr",
     "output_type": "stream",
     "text": [
      " 30%|██▉       | 1725/5788 [06:36<09:40,  7.00it/s]"
     ]
    },
    {
     "name": "stdout",
     "output_type": "stream",
     "text": [
      "Hakeredsvägen\n",
      "Haletorpsvägen\n"
     ]
    },
    {
     "name": "stderr",
     "output_type": "stream",
     "text": [
      " 30%|██▉       | 1726/5788 [06:37<12:47,  5.29it/s]"
     ]
    },
    {
     "name": "stdout",
     "output_type": "stream",
     "text": [
      "Hallandsgatan\n",
      "Hallegatan\n"
     ]
    },
    {
     "name": "stderr",
     "output_type": "stream",
     "text": [
      " 30%|██▉       | 1728/5788 [06:37<16:20,  4.14it/s]"
     ]
    },
    {
     "name": "stdout",
     "output_type": "stream",
     "text": [
      "Hallekullevägen\n",
      "Hallengårdsvägen\n"
     ]
    },
    {
     "name": "stderr",
     "output_type": "stream",
     "text": [
      " 30%|██▉       | 1730/5788 [06:38<15:46,  4.29it/s]"
     ]
    },
    {
     "name": "stdout",
     "output_type": "stream",
     "text": [
      "Hallens väg\n",
      "Hallerödsvägen\n"
     ]
    },
    {
     "name": "stderr",
     "output_type": "stream",
     "text": [
      " 30%|██▉       | 1732/5788 [06:38<14:01,  4.82it/s]"
     ]
    },
    {
     "name": "stdout",
     "output_type": "stream",
     "text": [
      "Halleskärsgatan\n",
      "Hallevadsvägen\n",
      "Halliden\n"
     ]
    },
    {
     "name": "stderr",
     "output_type": "stream",
     "text": [
      " 30%|██▉       | 1735/5788 [06:39<10:53,  6.20it/s]"
     ]
    },
    {
     "name": "stdout",
     "output_type": "stream",
     "text": [
      "Hallmans väg\n"
     ]
    },
    {
     "name": "stderr",
     "output_type": "stream",
     "text": [
      " 30%|███       | 1739/5788 [06:39<09:02,  7.46it/s]"
     ]
    },
    {
     "name": "stdout",
     "output_type": "stream",
     "text": [
      "Hallongången\n",
      "Hallspjällsgatan\n",
      "Hallstensgatan\n",
      "Hallstenshagen\n"
     ]
    },
    {
     "name": "stderr",
     "output_type": "stream",
     "text": [
      " 30%|███       | 1740/5788 [06:39<08:40,  7.78it/s]"
     ]
    },
    {
     "name": "stdout",
     "output_type": "stream",
     "text": [
      "Halmgatan\n",
      "Halmstadgatan\n"
     ]
    },
    {
     "name": "stderr",
     "output_type": "stream",
     "text": [
      " 30%|███       | 1743/5788 [06:39<08:22,  8.05it/s]"
     ]
    },
    {
     "name": "stdout",
     "output_type": "stream",
     "text": [
      "Halmtorget\n",
      "Halvardsgatan\n",
      "Halvegårdsvägen\n"
     ]
    },
    {
     "name": "stderr",
     "output_type": "stream",
     "text": [
      " 30%|███       | 1745/5788 [06:40<09:13,  7.30it/s]"
     ]
    },
    {
     "name": "stdout",
     "output_type": "stream",
     "text": [
      "Halvorsäng\n"
     ]
    },
    {
     "name": "stderr",
     "output_type": "stream",
     "text": [
      " 30%|███       | 1747/5788 [06:46<1:25:28,  1.27s/it]"
     ]
    },
    {
     "name": "stdout",
     "output_type": "stream",
     "text": [
      "Halvsekelsgatan\n",
      "Halvtumsgatan\n",
      "Hambovägen\n",
      "Hamburg Torp\n",
      "Hammarbergs Backe\n"
     ]
    },
    {
     "name": "stderr",
     "output_type": "stream",
     "text": [
      " 30%|███       | 1751/5788 [06:46<35:21,  1.90it/s]  "
     ]
    },
    {
     "name": "stdout",
     "output_type": "stream",
     "text": [
      "Hammarkroken\n",
      "Hammarkullegatan\n"
     ]
    },
    {
     "name": "stderr",
     "output_type": "stream",
     "text": [
      " 30%|███       | 1753/5788 [06:47<32:25,  2.07it/s]"
     ]
    },
    {
     "name": "stdout",
     "output_type": "stream",
     "text": [
      "Hammarkullens väg\n"
     ]
    },
    {
     "name": "stderr",
     "output_type": "stream",
     "text": [
      " 30%|███       | 1755/5788 [06:48<31:14,  2.15it/s]"
     ]
    },
    {
     "name": "stdout",
     "output_type": "stream",
     "text": [
      "Hammarkulletorget\n",
      "Hammarliden\n"
     ]
    },
    {
     "name": "stderr",
     "output_type": "stream",
     "text": [
      " 30%|███       | 1756/5788 [06:48<28:34,  2.35it/s]"
     ]
    },
    {
     "name": "stdout",
     "output_type": "stream",
     "text": [
      "Hammars Badväg\n"
     ]
    },
    {
     "name": "stderr",
     "output_type": "stream",
     "text": [
      " 30%|███       | 1758/5788 [06:49<22:16,  3.02it/s]"
     ]
    },
    {
     "name": "stdout",
     "output_type": "stream",
     "text": [
      "Hammarsmedsgatan\n",
      "Hammarvägen\n"
     ]
    },
    {
     "name": "stderr",
     "output_type": "stream",
     "text": [
      " 30%|███       | 1761/5788 [06:49<14:39,  4.58it/s]"
     ]
    },
    {
     "name": "stdout",
     "output_type": "stream",
     "text": [
      "Hamnefjällstorpet\n",
      "Hamnefjällsvägen\n",
      "Hamneskärsgatan\n"
     ]
    },
    {
     "name": "stderr",
     "output_type": "stream",
     "text": [
      " 30%|███       | 1762/5788 [06:49<12:59,  5.17it/s]"
     ]
    },
    {
     "name": "stdout",
     "output_type": "stream",
     "text": [
      "Hamneviksvägen\n"
     ]
    },
    {
     "name": "stderr",
     "output_type": "stream",
     "text": [
      " 30%|███       | 1763/5788 [06:51<38:57,  1.72it/s]"
     ]
    },
    {
     "name": "stdout",
     "output_type": "stream",
     "text": [
      "Hamnfyrsvägen\n"
     ]
    },
    {
     "name": "stderr",
     "output_type": "stream",
     "text": [
      " 31%|███       | 1766/5788 [06:51<22:49,  2.94it/s]"
     ]
    },
    {
     "name": "stdout",
     "output_type": "stream",
     "text": [
      "Hamntorgsgatan\n",
      "Handbollsvägen\n",
      "Handelsmyntet\n"
     ]
    },
    {
     "name": "stderr",
     "output_type": "stream",
     "text": [
      " 31%|███       | 1769/5788 [06:52<13:50,  4.84it/s]"
     ]
    },
    {
     "name": "stdout",
     "output_type": "stream",
     "text": [
      "Handskmakaregatan\n",
      "Hangarvägen\n",
      "Hantlangaregatan\n"
     ]
    },
    {
     "name": "stderr",
     "output_type": "stream",
     "text": [
      " 31%|███       | 1772/5788 [06:52<09:19,  7.18it/s]"
     ]
    },
    {
     "name": "stdout",
     "output_type": "stream",
     "text": [
      "Hantverkaregatan\n",
      "Hantverksvägen\n",
      "Hanö Fyrs väg\n"
     ]
    },
    {
     "name": "stderr",
     "output_type": "stream",
     "text": [
      " 31%|███       | 1774/5788 [06:52<08:54,  7.52it/s]"
     ]
    },
    {
     "name": "stdout",
     "output_type": "stream",
     "text": [
      "Harald Hjärnesgatan\n",
      "Harald Stakegatan\n",
      "Haraldsgatan\n"
     ]
    },
    {
     "name": "stderr",
     "output_type": "stream",
     "text": [
      " 31%|███       | 1776/5788 [06:52<08:04,  8.28it/s]"
     ]
    },
    {
     "name": "stdout",
     "output_type": "stream",
     "text": [
      "Haraldsons väg\n",
      "Harmonigatan\n"
     ]
    },
    {
     "name": "stderr",
     "output_type": "stream",
     "text": [
      " 31%|███       | 1778/5788 [06:53<09:00,  7.42it/s]"
     ]
    },
    {
     "name": "stdout",
     "output_type": "stream",
     "text": [
      "Harry Lundahls väg\n",
      "Harry Martinsons väg\n"
     ]
    },
    {
     "name": "stderr",
     "output_type": "stream",
     "text": [
      " 31%|███       | 1783/5788 [06:53<06:42,  9.95it/s]"
     ]
    },
    {
     "name": "stdout",
     "output_type": "stream",
     "text": [
      "Harstigen\n",
      "Haråsgatan\n",
      "Hasselgatan\n",
      "Hasselgången\n",
      "Hasslingegatan\n"
     ]
    },
    {
     "name": "stderr",
     "output_type": "stream",
     "text": [
      " 31%|███       | 1785/5788 [06:53<07:15,  9.20it/s]"
     ]
    },
    {
     "name": "stdout",
     "output_type": "stream",
     "text": [
      "Hattmakaregatan\n",
      "Havsfruns väg\n",
      "Havsklinten\n"
     ]
    },
    {
     "name": "stderr",
     "output_type": "stream",
     "text": [
      " 31%|███       | 1787/5788 [06:54<07:05,  9.40it/s]"
     ]
    },
    {
     "name": "stdout",
     "output_type": "stream",
     "text": [
      "Havssulegången\n"
     ]
    },
    {
     "name": "stderr",
     "output_type": "stream",
     "text": [
      " 31%|███       | 1791/5788 [06:55<11:19,  5.88it/s]"
     ]
    },
    {
     "name": "stdout",
     "output_type": "stream",
     "text": [
      "Havstrutgatan\n",
      "Havsörnsgatan\n",
      "Havsörnsplatsen\n"
     ]
    },
    {
     "name": "stderr",
     "output_type": "stream",
     "text": [
      " 31%|███       | 1793/5788 [06:55<09:02,  7.36it/s]"
     ]
    },
    {
     "name": "stdout",
     "output_type": "stream",
     "text": [
      "Hebegatan\n",
      "Hedatorpsgatan\n"
     ]
    },
    {
     "name": "stderr",
     "output_type": "stream",
     "text": [
      " 31%|███       | 1795/5788 [06:55<09:50,  6.77it/s]"
     ]
    },
    {
     "name": "stdout",
     "output_type": "stream",
     "text": [
      "Hedebygatan\n",
      "Hedelundsvägen\n"
     ]
    },
    {
     "name": "stderr",
     "output_type": "stream",
     "text": [
      " 31%|███       | 1797/5788 [06:55<10:23,  6.40it/s]"
     ]
    },
    {
     "name": "stdout",
     "output_type": "stream",
     "text": [
      "Hedens backe\n",
      "Hedens väg\n"
     ]
    },
    {
     "name": "stderr",
     "output_type": "stream",
     "text": [
      " 31%|███       | 1799/5788 [06:56<09:55,  6.69it/s]"
     ]
    },
    {
     "name": "stdout",
     "output_type": "stream",
     "text": [
      "Hedens äng\n",
      "Hedgatan\n",
      "Hedlundsgatan\n"
     ]
    },
    {
     "name": "stderr",
     "output_type": "stream",
     "text": [
      " 31%|███       | 1803/5788 [06:56<07:49,  8.48it/s]"
     ]
    },
    {
     "name": "stdout",
     "output_type": "stream",
     "text": [
      "Hedtångsvägen\n",
      "Hedåsgatan\n",
      "Heidenstams gata\n"
     ]
    },
    {
     "name": "stderr",
     "output_type": "stream",
     "text": [
      " 31%|███       | 1806/5788 [06:56<07:22,  9.00it/s]"
     ]
    },
    {
     "name": "stdout",
     "output_type": "stream",
     "text": [
      "Hejderidaregatan\n",
      "Helenebergsgatan\n",
      "Helgdagsgatan\n"
     ]
    },
    {
     "name": "stderr",
     "output_type": "stream",
     "text": [
      " 31%|███       | 1808/5788 [06:57<08:51,  7.49it/s]"
     ]
    },
    {
     "name": "stdout",
     "output_type": "stream",
     "text": [
      "Helge Härnemans väg\n",
      "Helge Zimdals Gångväg\n"
     ]
    },
    {
     "name": "stderr",
     "output_type": "stream",
     "text": [
      " 31%|███▏      | 1809/5788 [06:57<09:33,  6.94it/s]"
     ]
    },
    {
     "name": "stdout",
     "output_type": "stream",
     "text": [
      "Helgeredsvägen\n"
     ]
    },
    {
     "name": "stderr",
     "output_type": "stream",
     "text": [
      " 31%|███▏      | 1810/5788 [06:57<11:37,  5.70it/s]"
     ]
    },
    {
     "name": "stdout",
     "output_type": "stream",
     "text": [
      "Heliotropvägen\n",
      "Helleforsgatan\n"
     ]
    },
    {
     "name": "stderr",
     "output_type": "stream",
     "text": [
      " 31%|███▏      | 1813/5788 [06:58<10:28,  6.33it/s]"
     ]
    },
    {
     "name": "stdout",
     "output_type": "stream",
     "text": [
      "Hellstedtsgatan\n",
      "Helmutsrogatan\n"
     ]
    },
    {
     "name": "stderr",
     "output_type": "stream",
     "text": [
      " 31%|███▏      | 1814/5788 [06:58<18:34,  3.57it/s]"
     ]
    },
    {
     "name": "stdout",
     "output_type": "stream",
     "text": [
      "Hembygdsgatan\n"
     ]
    },
    {
     "name": "stderr",
     "output_type": "stream",
     "text": [
      " 31%|███▏      | 1817/5788 [06:59<17:55,  3.69it/s]"
     ]
    },
    {
     "name": "stdout",
     "output_type": "stream",
     "text": [
      "Hembyggarevägen\n",
      "Hemmansägaregatan\n",
      "Hemstigen\n",
      "Henriksbergsgatan\n",
      "Herkulesgatan\n"
     ]
    },
    {
     "name": "stderr",
     "output_type": "stream",
     "text": [
      " 31%|███▏      | 1822/5788 [07:11<1:31:45,  1.39s/it]"
     ]
    },
    {
     "name": "stdout",
     "output_type": "stream",
     "text": [
      "Herman Anderssons väg\n",
      "Herman Jonssonsgatan\n",
      "Hermelingatan\n"
     ]
    },
    {
     "name": "stderr",
     "output_type": "stream",
     "text": [
      " 32%|███▏      | 1824/5788 [07:11<1:05:06,  1.01it/s]"
     ]
    },
    {
     "name": "stdout",
     "output_type": "stream",
     "text": [
      "Herr Arnes gata\n",
      "Herregårdsgärdet\n",
      "Herrgårdsgatan\n"
     ]
    },
    {
     "name": "stderr",
     "output_type": "stream",
     "text": [
      " 32%|███▏      | 1826/5788 [07:11<47:02,  1.40it/s]  "
     ]
    },
    {
     "name": "stdout",
     "output_type": "stream",
     "text": [
      "Heurlins Plats\n"
     ]
    },
    {
     "name": "stderr",
     "output_type": "stream",
     "text": [
      " 32%|███▏      | 1828/5788 [07:12<37:13,  1.77it/s]"
     ]
    },
    {
     "name": "stdout",
     "output_type": "stream",
     "text": [
      "Hildebrandsgatan\n",
      "Hildedalsgatan\n"
     ]
    },
    {
     "name": "stderr",
     "output_type": "stream",
     "text": [
      " 32%|███▏      | 1829/5788 [07:12<35:52,  1.84it/s]"
     ]
    },
    {
     "name": "stdout",
     "output_type": "stream",
     "text": [
      "Hilma Anderssons gata\n",
      "Hinderbanan\n"
     ]
    },
    {
     "name": "stderr",
     "output_type": "stream",
     "text": [
      " 32%|███▏      | 1833/5788 [07:13<19:59,  3.30it/s]"
     ]
    },
    {
     "name": "stdout",
     "output_type": "stream",
     "text": [
      "Hindersmässogatan\n",
      "Hinderstigen\n",
      "Hinnebäcksgatan\n"
     ]
    },
    {
     "name": "stderr",
     "output_type": "stream",
     "text": [
      " 32%|███▏      | 1837/5788 [07:14<16:37,  3.96it/s]"
     ]
    },
    {
     "name": "stdout",
     "output_type": "stream",
     "text": [
      "Hinse Bro\n",
      "Hinsholmens Bryggväg\n",
      "Hinsholmsgatan\n",
      "Hisingsbron\n"
     ]
    },
    {
     "name": "stderr",
     "output_type": "stream",
     "text": [
      " 32%|███▏      | 1838/5788 [07:18<1:03:36,  1.04it/s]"
     ]
    },
    {
     "name": "stdout",
     "output_type": "stream",
     "text": [
      "Hisingsgatan\n"
     ]
    },
    {
     "name": "stderr",
     "output_type": "stream",
     "text": [
      " 32%|███▏      | 1840/5788 [07:19<52:03,  1.26it/s]  "
     ]
    },
    {
     "name": "stdout",
     "output_type": "stream",
     "text": [
      "Hisingsleden\n",
      "Hjalmar Bergmans gata\n"
     ]
    },
    {
     "name": "stderr",
     "output_type": "stream",
     "text": [
      " 32%|███▏      | 1841/5788 [07:21<1:18:30,  1.19s/it]"
     ]
    },
    {
     "name": "stdout",
     "output_type": "stream",
     "text": [
      "Hjalmar Brantingsgatan\n"
     ]
    },
    {
     "name": "stderr",
     "output_type": "stream",
     "text": [
      " 32%|███▏      | 1843/5788 [07:47<6:07:13,  5.59s/it]"
     ]
    },
    {
     "name": "stdout",
     "output_type": "stream",
     "text": [
      "Hjalmar Melins väg\n",
      "Hjalmar Selandersgatan\n"
     ]
    },
    {
     "name": "stderr",
     "output_type": "stream",
     "text": [
      " 32%|███▏      | 1846/5788 [07:48<2:31:19,  2.30s/it]"
     ]
    },
    {
     "name": "stdout",
     "output_type": "stream",
     "text": [
      "Hjortens trappor\n",
      "Hjortgatan\n",
      "Hjorthagsgatan\n"
     ]
    },
    {
     "name": "stderr",
     "output_type": "stream",
     "text": [
      " 32%|███▏      | 1848/5788 [07:48<1:34:07,  1.43s/it]"
     ]
    },
    {
     "name": "stdout",
     "output_type": "stream",
     "text": [
      "Hjortronvägen\n",
      "Hjulmakaregatan\n",
      "Hjulormsgången\n"
     ]
    },
    {
     "name": "stderr",
     "output_type": "stream",
     "text": [
      " 32%|███▏      | 1850/5788 [07:48<1:02:46,  1.05it/s]"
     ]
    },
    {
     "name": "stdout",
     "output_type": "stream",
     "text": [
      "Hjulplogsgatan\n",
      "Hjuviks Bryggväg\n"
     ]
    },
    {
     "name": "stderr",
     "output_type": "stream",
     "text": [
      " 32%|███▏      | 1852/5788 [07:54<1:43:55,  1.58s/it]"
     ]
    },
    {
     "name": "stdout",
     "output_type": "stream",
     "text": [
      "Hjuviksvägen\n"
     ]
    },
    {
     "name": "stderr",
     "output_type": "stream",
     "text": [
      " 32%|███▏      | 1853/5788 [08:14<5:48:35,  5.32s/it]"
     ]
    },
    {
     "name": "stdout",
     "output_type": "stream",
     "text": [
      "Hjällbo Lillgata\n"
     ]
    },
    {
     "name": "stderr",
     "output_type": "stream",
     "text": [
      " 32%|███▏      | 1854/5788 [08:15<4:37:49,  4.24s/it]"
     ]
    },
    {
     "name": "stdout",
     "output_type": "stream",
     "text": [
      "Hjällbogärdet\n"
     ]
    },
    {
     "name": "stderr",
     "output_type": "stream",
     "text": [
      " 32%|███▏      | 1855/5788 [08:15<3:41:06,  3.37s/it]"
     ]
    },
    {
     "name": "stdout",
     "output_type": "stream",
     "text": [
      "Hjällboplatsen\n"
     ]
    },
    {
     "name": "stderr",
     "output_type": "stream",
     "text": [
      " 32%|███▏      | 1856/5788 [08:16<2:56:59,  2.70s/it]"
     ]
    },
    {
     "name": "stdout",
     "output_type": "stream",
     "text": [
      "Hjällbovägen\n"
     ]
    },
    {
     "name": "stderr",
     "output_type": "stream",
     "text": [
      " 32%|███▏      | 1857/5788 [08:48<11:20:06, 10.38s/it]"
     ]
    },
    {
     "name": "stdout",
     "output_type": "stream",
     "text": [
      "Hjälmavägen\n"
     ]
    },
    {
     "name": "stderr",
     "output_type": "stream",
     "text": [
      " 32%|███▏      | 1858/5788 [08:58<11:12:19, 10.26s/it]"
     ]
    },
    {
     "name": "stdout",
     "output_type": "stream",
     "text": [
      "Hjärtholmsvägen\n"
     ]
    },
    {
     "name": "stderr",
     "output_type": "stream",
     "text": [
      " 32%|███▏      | 1861/5788 [08:58<4:31:35,  4.15s/it] "
     ]
    },
    {
     "name": "stdout",
     "output_type": "stream",
     "text": [
      "Hobergs Trappor\n",
      "Hogenskilds Trappor\n",
      "Hogenskildsgatan\n"
     ]
    },
    {
     "name": "stderr",
     "output_type": "stream",
     "text": [
      " 32%|███▏      | 1862/5788 [08:58<3:27:35,  3.17s/it]"
     ]
    },
    {
     "name": "stdout",
     "output_type": "stream",
     "text": [
      "Holkebacken\n",
      "Holländaregatan\n"
     ]
    },
    {
     "name": "stderr",
     "output_type": "stream",
     "text": [
      " 32%|███▏      | 1864/5788 [08:58<2:07:23,  1.95s/it]"
     ]
    },
    {
     "name": "stdout",
     "output_type": "stream",
     "text": [
      "Holländareplatsen\n"
     ]
    },
    {
     "name": "stderr",
     "output_type": "stream",
     "text": [
      " 32%|███▏      | 1865/5788 [08:59<1:44:06,  1.59s/it]"
     ]
    },
    {
     "name": "stdout",
     "output_type": "stream",
     "text": [
      "Holmavägen\n"
     ]
    },
    {
     "name": "stderr",
     "output_type": "stream",
     "text": [
      " 32%|███▏      | 1869/5788 [08:59<42:33,  1.53it/s]  "
     ]
    },
    {
     "name": "stdout",
     "output_type": "stream",
     "text": [
      "Holmbacken\n",
      "Holmedalen\n",
      "Holmgärdesvägen\n",
      "Holmgårdsgatan\n"
     ]
    },
    {
     "name": "stderr",
     "output_type": "stream",
     "text": [
      " 32%|███▏      | 1871/5788 [09:00<31:28,  2.07it/s]"
     ]
    },
    {
     "name": "stdout",
     "output_type": "stream",
     "text": [
      "Holmhagsvägen\n",
      "Holmvägen\n"
     ]
    },
    {
     "name": "stderr",
     "output_type": "stream",
     "text": [
      " 32%|███▏      | 1872/5788 [09:00<28:10,  2.32it/s]"
     ]
    },
    {
     "name": "stdout",
     "output_type": "stream",
     "text": [
      "Holtermansgatan\n"
     ]
    },
    {
     "name": "stderr",
     "output_type": "stream",
     "text": [
      " 32%|███▏      | 1873/5788 [09:00<25:49,  2.53it/s]"
     ]
    },
    {
     "name": "stdout",
     "output_type": "stream",
     "text": [
      "Horisontstigen\n"
     ]
    },
    {
     "name": "stderr",
     "output_type": "stream",
     "text": [
      " 32%|███▏      | 1874/5788 [09:00<24:00,  2.72it/s]"
     ]
    },
    {
     "name": "stdout",
     "output_type": "stream",
     "text": [
      "Horisontvägen\n",
      "Hornkamsgatan\n"
     ]
    },
    {
     "name": "stderr",
     "output_type": "stream",
     "text": [
      " 32%|███▏      | 1879/5788 [09:01<10:56,  5.95it/s]"
     ]
    },
    {
     "name": "stdout",
     "output_type": "stream",
     "text": [
      "Hornsgatan\n",
      "Hortensiagången\n",
      "Hotellplatsen\n",
      "Hovgårdsvägen\n"
     ]
    },
    {
     "name": "stderr",
     "output_type": "stream",
     "text": [
      " 32%|███▏      | 1881/5788 [09:01<10:16,  6.33it/s]"
     ]
    },
    {
     "name": "stdout",
     "output_type": "stream",
     "text": [
      "Hovslagaregatan\n",
      "Hovsmedsgatan\n",
      "Hovås Allé\n"
     ]
    },
    {
     "name": "stderr",
     "output_type": "stream",
     "text": [
      " 33%|███▎      | 1883/5788 [09:03<24:41,  2.64it/s]"
     ]
    },
    {
     "name": "stdout",
     "output_type": "stream",
     "text": [
      "Hovås Arkitektväg\n",
      "Hovås Bautastensväg\n"
     ]
    },
    {
     "name": "stderr",
     "output_type": "stream",
     "text": [
      " 33%|███▎      | 1885/5788 [09:03<19:27,  3.34it/s]"
     ]
    },
    {
     "name": "stdout",
     "output_type": "stream",
     "text": [
      "Hovås Björnbärsgång\n",
      "Hovås Blåbärsstig\n",
      "Hovås Bronsåldersväg\n"
     ]
    },
    {
     "name": "stderr",
     "output_type": "stream",
     "text": [
      " 33%|███▎      | 1888/5788 [09:03<14:01,  4.64it/s]"
     ]
    },
    {
     "name": "stdout",
     "output_type": "stream",
     "text": [
      "Hovås Bräckaväg\n"
     ]
    },
    {
     "name": "stderr",
     "output_type": "stream",
     "text": [
      " 33%|███▎      | 1889/5788 [09:04<16:24,  3.96it/s]"
     ]
    },
    {
     "name": "stdout",
     "output_type": "stream",
     "text": [
      "Hovås Bäckastig\n",
      "Hovås Ekorrstig\n"
     ]
    },
    {
     "name": "stderr",
     "output_type": "stream",
     "text": [
      " 33%|███▎      | 1891/5788 [09:04<14:15,  4.55it/s]"
     ]
    },
    {
     "name": "stdout",
     "output_type": "stream",
     "text": [
      "Hovås Ekåsväg\n",
      "Hovås Enebacke\n"
     ]
    },
    {
     "name": "stderr",
     "output_type": "stream",
     "text": [
      " 33%|███▎      | 1893/5788 [09:05<14:34,  4.46it/s]"
     ]
    },
    {
     "name": "stdout",
     "output_type": "stream",
     "text": [
      "Hovås Enebärsgång\n",
      "Hovås Fasanstig\n"
     ]
    },
    {
     "name": "stderr",
     "output_type": "stream",
     "text": [
      " 33%|███▎      | 1895/5788 [09:05<13:15,  4.89it/s]"
     ]
    },
    {
     "name": "stdout",
     "output_type": "stream",
     "text": [
      "Hovås Graneråsväg\n"
     ]
    },
    {
     "name": "stderr",
     "output_type": "stream",
     "text": [
      " 33%|███▎      | 1896/5788 [09:05<13:32,  4.79it/s]"
     ]
    },
    {
     "name": "stdout",
     "output_type": "stream",
     "text": [
      "Hovås Grävlingestig\n",
      "Hovås Hagstig\n"
     ]
    },
    {
     "name": "stderr",
     "output_type": "stream",
     "text": [
      " 33%|███▎      | 1899/5788 [09:05<11:04,  5.85it/s]"
     ]
    },
    {
     "name": "stdout",
     "output_type": "stream",
     "text": [
      "Hovås Herrgårdsväg\n",
      "Hovås Intagsväg\n"
     ]
    },
    {
     "name": "stderr",
     "output_type": "stream",
     "text": [
      " 33%|███▎      | 1902/5788 [09:06<14:34,  4.45it/s]"
     ]
    },
    {
     "name": "stdout",
     "output_type": "stream",
     "text": [
      "Hovås Jägareväg\n",
      "Hovås Kabbelekastig\n",
      "Hovås Kaveldunsstig\n"
     ]
    },
    {
     "name": "stderr",
     "output_type": "stream",
     "text": [
      " 33%|███▎      | 1904/5788 [09:07<12:00,  5.39it/s]"
     ]
    },
    {
     "name": "stdout",
     "output_type": "stream",
     "text": [
      "Hovås Klintväg\n",
      "Hovås Kråkbärsgång\n",
      "Hovås Kärrviolsstig\n"
     ]
    },
    {
     "name": "stderr",
     "output_type": "stream",
     "text": [
      " 33%|███▎      | 1908/5788 [09:07<08:12,  7.89it/s]"
     ]
    },
    {
     "name": "stdout",
     "output_type": "stream",
     "text": [
      "Hovås Liljestig\n",
      "Hovås Lingonstig\n",
      "Hovås Länsmansväg\n"
     ]
    },
    {
     "name": "stderr",
     "output_type": "stream",
     "text": [
      " 33%|███▎      | 1912/5788 [09:07<07:12,  8.97it/s]"
     ]
    },
    {
     "name": "stdout",
     "output_type": "stream",
     "text": [
      "Hovås Mullbärsgång\n",
      "Hovås Nypongång\n",
      "Hovås Näckrosstig\n",
      "Hovås Odongång\n"
     ]
    },
    {
     "name": "stderr",
     "output_type": "stream",
     "text": [
      " 33%|███▎      | 1914/5788 [09:08<06:47,  9.50it/s]"
     ]
    },
    {
     "name": "stdout",
     "output_type": "stream",
     "text": [
      "Hovås Oxbärsgång\n",
      "Hovås Oxledsväg\n",
      "Hovås Oxsjöväg\n",
      "Hovås Pilbladsstig\n"
     ]
    },
    {
     "name": "stderr",
     "output_type": "stream",
     "text": [
      " 33%|███▎      | 1919/5788 [09:08<05:04, 12.72it/s]"
     ]
    },
    {
     "name": "stdout",
     "output_type": "stream",
     "text": [
      "Hovås Rönnbärsgång\n",
      "Hovås Sandkulleväg\n",
      "Hovås Slånbärsgång\n",
      "Hovås Snöbärsväg\n"
     ]
    },
    {
     "name": "stderr",
     "output_type": "stream",
     "text": [
      " 33%|███▎      | 1921/5788 [09:08<04:36, 13.97it/s]"
     ]
    },
    {
     "name": "stdout",
     "output_type": "stream",
     "text": [
      "Hovås Starrstig\n",
      "Hovås Stenbärsväg\n"
     ]
    },
    {
     "name": "stderr",
     "output_type": "stream",
     "text": [
      " 33%|███▎      | 1925/5788 [09:08<05:43, 11.26it/s]"
     ]
    },
    {
     "name": "stdout",
     "output_type": "stream",
     "text": [
      "Hovås Tranbärsgång\n",
      "Hovås Vassgång\n",
      "Hovås Videörtsstig\n"
     ]
    },
    {
     "name": "stderr",
     "output_type": "stream",
     "text": [
      " 33%|███▎      | 1927/5788 [09:09<05:38, 11.42it/s]"
     ]
    },
    {
     "name": "stdout",
     "output_type": "stream",
     "text": [
      "Hovås Vårlöksstig\n",
      "Hovås Åkerbärsgång\n",
      "Hovåsvägen\n"
     ]
    },
    {
     "name": "stderr",
     "output_type": "stream",
     "text": [
      " 33%|███▎      | 1929/5788 [09:11<24:33,  2.62it/s]"
     ]
    },
    {
     "name": "stdout",
     "output_type": "stream",
     "text": [
      "Huggåsvägen\n",
      "Hugo Grauers gata\n"
     ]
    },
    {
     "name": "stderr",
     "output_type": "stream",
     "text": [
      " 33%|███▎      | 1933/5788 [09:12<18:42,  3.44it/s]"
     ]
    },
    {
     "name": "stdout",
     "output_type": "stream",
     "text": [
      "Hugo Hammars gata\n",
      "Hugo Levins väg\n",
      "Huketorpsvägen\n",
      "Hukevägen\n"
     ]
    },
    {
     "name": "stderr",
     "output_type": "stream",
     "text": [
      " 33%|███▎      | 1935/5788 [09:12<16:13,  3.96it/s]"
     ]
    },
    {
     "name": "stdout",
     "output_type": "stream",
     "text": [
      "Hulanvägen\n"
     ]
    },
    {
     "name": "stderr",
     "output_type": "stream",
     "text": [
      " 33%|███▎      | 1937/5788 [09:16<49:45,  1.29it/s]  "
     ]
    },
    {
     "name": "stdout",
     "output_type": "stream",
     "text": [
      "Hulda Lindgrens gata\n",
      "Hulda Mattssons Gångväg\n",
      "Hulda Mellgrens gata\n"
     ]
    },
    {
     "name": "stderr",
     "output_type": "stream",
     "text": [
      " 34%|███▎      | 1939/5788 [09:17<39:41,  1.62it/s]"
     ]
    },
    {
     "name": "stdout",
     "output_type": "stream",
     "text": [
      "Huldas Karins gata\n",
      "Huldragången\n",
      "Hullgatan\n",
      "Hult Åsens väg\n"
     ]
    },
    {
     "name": "stderr",
     "output_type": "stream",
     "text": [
      " 34%|███▎      | 1943/5788 [09:17<22:37,  2.83it/s]"
     ]
    },
    {
     "name": "stdout",
     "output_type": "stream",
     "text": [
      "Hultavägen\n"
     ]
    },
    {
     "name": "stderr",
     "output_type": "stream",
     "text": [
      " 34%|███▎      | 1945/5788 [09:25<1:15:52,  1.18s/it]"
     ]
    },
    {
     "name": "stdout",
     "output_type": "stream",
     "text": [
      "Hultbotjärn\n",
      "Hultebacken\n",
      "Hultgrensgatan\n"
     ]
    },
    {
     "name": "stderr",
     "output_type": "stream",
     "text": [
      " 34%|███▎      | 1947/5788 [09:25<51:51,  1.23it/s]  "
     ]
    },
    {
     "name": "stdout",
     "output_type": "stream",
     "text": [
      "Hults Sörgårdsväg\n"
     ]
    },
    {
     "name": "stderr",
     "output_type": "stream",
     "text": [
      " 34%|███▎      | 1948/5788 [09:25<44:37,  1.43it/s]"
     ]
    },
    {
     "name": "stdout",
     "output_type": "stream",
     "text": [
      "Hults bro\n",
      "Hults gata\n"
     ]
    },
    {
     "name": "stderr",
     "output_type": "stream",
     "text": [
      " 34%|███▎      | 1950/5788 [09:41<3:31:17,  3.30s/it]"
     ]
    },
    {
     "name": "stdout",
     "output_type": "stream",
     "text": [
      "Hultsbrobacken\n",
      "Hultsbrovägen\n",
      "Hultviksvägen\n"
     ]
    },
    {
     "name": "stderr",
     "output_type": "stream",
     "text": [
      " 34%|███▍      | 1956/5788 [09:41<1:16:19,  1.20s/it]"
     ]
    },
    {
     "name": "stdout",
     "output_type": "stream",
     "text": [
      "Humlegången\n",
      "Humlegårdsgatan\n",
      "Humlekärret\n",
      "Humlekärrsvägen\n",
      "Humoreskgatan\n"
     ]
    },
    {
     "name": "stderr",
     "output_type": "stream",
     "text": [
      " 34%|███▍      | 1959/5788 [09:43<55:54,  1.14it/s]  "
     ]
    },
    {
     "name": "stdout",
     "output_type": "stream",
     "text": [
      "Hundraårsgatan\n",
      "Hunnebostrandsgatan\n",
      "Husargatan\n"
     ]
    },
    {
     "name": "stderr",
     "output_type": "stream",
     "text": [
      " 34%|███▍      | 1963/5788 [09:43<29:07,  2.19it/s]"
     ]
    },
    {
     "name": "stdout",
     "output_type": "stream",
     "text": [
      "Husholmsgatan\n",
      "Hvitfeldtsgatan\n",
      "Hvitfeldtsplatsen\n"
     ]
    },
    {
     "name": "stderr",
     "output_type": "stream",
     "text": [
      " 34%|███▍      | 1965/5788 [09:43<23:01,  2.77it/s]"
     ]
    },
    {
     "name": "stdout",
     "output_type": "stream",
     "text": [
      "Hyltegården\n",
      "Hyltevägen\n"
     ]
    },
    {
     "name": "stderr",
     "output_type": "stream",
     "text": [
      " 34%|███▍      | 1968/5788 [09:44<16:25,  3.88it/s]"
     ]
    },
    {
     "name": "stdout",
     "output_type": "stream",
     "text": [
      "Hypotesgatan\n",
      "Hyvelmästaregatan\n",
      "Hyvelspånsgatan\n"
     ]
    },
    {
     "name": "stderr",
     "output_type": "stream",
     "text": [
      " 34%|███▍      | 1969/5788 [09:44<14:28,  4.40it/s]"
     ]
    },
    {
     "name": "stdout",
     "output_type": "stream",
     "text": [
      "Hyvlaregatan\n",
      "Häcklevägen\n"
     ]
    },
    {
     "name": "stderr",
     "output_type": "stream",
     "text": [
      " 34%|███▍      | 1973/5788 [09:44<10:06,  6.29it/s]"
     ]
    },
    {
     "name": "stdout",
     "output_type": "stream",
     "text": [
      "Häcklöparegatan\n",
      "Hägergatan\n",
      "Häggvägen\n"
     ]
    },
    {
     "name": "stderr",
     "output_type": "stream",
     "text": [
      " 34%|███▍      | 1974/5788 [09:45<11:36,  5.47it/s]"
     ]
    },
    {
     "name": "stdout",
     "output_type": "stream",
     "text": [
      "Häggången\n",
      "Hägnegårdsvägen\n"
     ]
    },
    {
     "name": "stderr",
     "output_type": "stream",
     "text": [
      " 34%|███▍      | 1976/5788 [09:45<10:31,  6.04it/s]"
     ]
    },
    {
     "name": "stdout",
     "output_type": "stream",
     "text": [
      "Häljereds Gård\n",
      "Häljeredslyckan\n",
      "Hälleflundregatan\n"
     ]
    },
    {
     "name": "stderr",
     "output_type": "stream",
     "text": [
      " 34%|███▍      | 1979/5788 [09:45<09:29,  6.69it/s]"
     ]
    },
    {
     "name": "stdout",
     "output_type": "stream",
     "text": [
      "Hällkistegatan\n",
      "Hällmarken\n",
      "Hällmarksvägen\n",
      "Hällmålningsvägen\n"
     ]
    },
    {
     "name": "stderr",
     "output_type": "stream",
     "text": [
      " 34%|███▍      | 1984/5788 [09:46<07:20,  8.64it/s]"
     ]
    },
    {
     "name": "stdout",
     "output_type": "stream",
     "text": [
      "Hällristningsvägen\n",
      "Hällskriftsgatan\n"
     ]
    },
    {
     "name": "stderr",
     "output_type": "stream",
     "text": [
      " 34%|███▍      | 1985/5788 [09:46<08:11,  7.74it/s]"
     ]
    },
    {
     "name": "stdout",
     "output_type": "stream",
     "text": [
      "Hällstigen\n",
      "Hällsviksvägen\n"
     ]
    },
    {
     "name": "stderr",
     "output_type": "stream",
     "text": [
      " 34%|███▍      | 1989/5788 [09:53<54:25,  1.16it/s]  "
     ]
    },
    {
     "name": "stdout",
     "output_type": "stream",
     "text": [
      "Hälsö Fyrs väg\n",
      "Hämplingevägen\n",
      "Hängbjörksgatan\n",
      "Hängestensdalen\n",
      "Hängestensvägen\n"
     ]
    },
    {
     "name": "stderr",
     "output_type": "stream",
     "text": [
      " 34%|███▍      | 1994/5788 [09:54<27:12,  2.32it/s]"
     ]
    },
    {
     "name": "stdout",
     "output_type": "stream",
     "text": [
      "Hängpilsgatan\n",
      "Häradsdomarevägen\n",
      "Häradsskrivarevägen\n",
      "Härbrevägen\n"
     ]
    },
    {
     "name": "stderr",
     "output_type": "stream",
     "text": [
      " 35%|███▍      | 1998/5788 [09:54<16:39,  3.79it/s]"
     ]
    },
    {
     "name": "stdout",
     "output_type": "stream",
     "text": [
      "Härdigs Trappa\n",
      "Härlanda Park\n",
      "Härlanda Skogsväg\n",
      "Härlandavägen\n"
     ]
    },
    {
     "name": "stderr",
     "output_type": "stream",
     "text": [
      " 35%|███▍      | 2002/5788 [09:56<21:49,  2.89it/s]"
     ]
    },
    {
     "name": "stdout",
     "output_type": "stream",
     "text": [
      "Hästebäcksvägen\n",
      "Hästeviks Strand\n",
      "Hästeviksgatan\n"
     ]
    },
    {
     "name": "stderr",
     "output_type": "stream",
     "text": [
      " 35%|███▍      | 2003/5788 [09:56<19:41,  3.20it/s]"
     ]
    },
    {
     "name": "stdout",
     "output_type": "stream",
     "text": [
      "Hästeviksgången\n",
      "Hästhagen\n"
     ]
    },
    {
     "name": "stderr",
     "output_type": "stream",
     "text": [
      " 35%|███▍      | 2005/5788 [09:57<21:33,  2.92it/s]"
     ]
    },
    {
     "name": "stdout",
     "output_type": "stream",
     "text": [
      "Hästhagestigen\n",
      "Hästhovsgatan\n",
      "Hästlyckan\n"
     ]
    },
    {
     "name": "stderr",
     "output_type": "stream",
     "text": [
      " 35%|███▍      | 2010/5788 [09:57<12:11,  5.17it/s]"
     ]
    },
    {
     "name": "stdout",
     "output_type": "stream",
     "text": [
      "Håbergsgatan\n",
      "Håbergsstigen\n",
      "Håkansdal\n"
     ]
    },
    {
     "name": "stderr",
     "output_type": "stream",
     "text": [
      " 35%|███▍      | 2012/5788 [09:58<11:53,  5.29it/s]"
     ]
    },
    {
     "name": "stdout",
     "output_type": "stream",
     "text": [
      "Håkansdalsvägen\n",
      "Håkansgatan\n",
      "Hålekärrsbacken\n"
     ]
    },
    {
     "name": "stderr",
     "output_type": "stream",
     "text": [
      " 35%|███▍      | 2016/5788 [09:58<08:29,  7.41it/s]"
     ]
    },
    {
     "name": "stdout",
     "output_type": "stream",
     "text": [
      "Hålekärrsgatan\n",
      "Hållstamsvägen\n",
      "Hållö Fyrs väg\n",
      "Hålskogsgatan\n",
      "Hålstigen\n",
      "Håltavägen\n"
     ]
    },
    {
     "name": "stderr",
     "output_type": "stream",
     "text": [
      " 35%|███▌      | 2026/5788 [09:59<05:21, 11.69it/s]"
     ]
    },
    {
     "name": "stdout",
     "output_type": "stream",
     "text": [
      "Hårdvallsgatan\n",
      "Höbärgningsgatan\n",
      "Höga Grimås\n",
      "Höga Gård\n",
      "Högabacken\n",
      "Högabergsvägen\n",
      "Högaffelsgatan\n",
      "Högagårdsvägen\n"
     ]
    },
    {
     "name": "stderr",
     "output_type": "stream",
     "text": [
      " 35%|███▌      | 2029/5788 [09:59<04:57, 12.62it/s]"
     ]
    },
    {
     "name": "stdout",
     "output_type": "stream",
     "text": [
      "Högalyckan\n",
      "Högatan\n",
      "Högbrogatan\n",
      "Högby Fyrs väg\n",
      "Högens Gård\n",
      "Högenvägen\n"
     ]
    },
    {
     "name": "stderr",
     "output_type": "stream",
     "text": [
      " 35%|███▌      | 2037/5788 [10:01<08:56,  7.00it/s]"
     ]
    },
    {
     "name": "stdout",
     "output_type": "stream",
     "text": [
      "Höglandsgatan\n",
      "Högloftsvägen\n",
      "Högmossevägen\n",
      "Högrells väg\n",
      "Högsbogatan\n"
     ]
    },
    {
     "name": "stderr",
     "output_type": "stream",
     "text": [
      " 35%|███▌      | 2040/5788 [10:02<15:03,  4.15it/s]"
     ]
    },
    {
     "name": "stdout",
     "output_type": "stream",
     "text": [
      "Högsbohöjdsmotet\n",
      "Högsboleden\n"
     ]
    },
    {
     "name": "stderr",
     "output_type": "stream",
     "text": [
      " 35%|███▌      | 2044/5788 [10:05<24:53,  2.51it/s]"
     ]
    },
    {
     "name": "stdout",
     "output_type": "stream",
     "text": [
      "Högsjöåsvägen\n",
      "Högskärsgatan\n",
      "Högstena Gård\n",
      "Högstensgatan\n"
     ]
    },
    {
     "name": "stderr",
     "output_type": "stream",
     "text": [
      " 35%|███▌      | 2048/5788 [10:06<16:30,  3.77it/s]"
     ]
    },
    {
     "name": "stdout",
     "output_type": "stream",
     "text": [
      "Högströmsgatan\n",
      "Högsäter Grimås\n",
      "Högsätersgatan\n",
      "Högtalaregatan\n"
     ]
    },
    {
     "name": "stderr",
     "output_type": "stream",
     "text": [
      " 35%|███▌      | 2052/5788 [10:06<11:29,  5.42it/s]"
     ]
    },
    {
     "name": "stdout",
     "output_type": "stream",
     "text": [
      "Högtorp\n",
      "Högtrycksgatan\n",
      "Högåsa Västra\n",
      "Högåsa Östra\n",
      "Högåsadungen\n",
      "Högåsplatsen\n"
     ]
    },
    {
     "name": "stderr",
     "output_type": "stream",
     "text": [
      " 36%|███▌      | 2057/5788 [10:06<08:43,  7.12it/s]"
     ]
    },
    {
     "name": "stdout",
     "output_type": "stream",
     "text": [
      "Högåstrappan\n",
      "Höjdhopparegången\n",
      "Höjdvägen\n",
      "Hökebergsgången\n",
      "Hökegatan\n",
      "Hökällans väg\n",
      "Hökåsvägen\n"
     ]
    },
    {
     "name": "stderr",
     "output_type": "stream",
     "text": [
      " 36%|███▌      | 2062/5788 [10:07<05:58, 10.39it/s]"
     ]
    },
    {
     "name": "stdout",
     "output_type": "stream",
     "text": [
      "Hömånadsgatan\n",
      "Hönekullegatan\n"
     ]
    },
    {
     "name": "stderr",
     "output_type": "stream",
     "text": [
      " 36%|███▌      | 2066/5788 [10:07<06:17,  9.87it/s]"
     ]
    },
    {
     "name": "stdout",
     "output_type": "stream",
     "text": [
      "Hörlursgatan\n",
      "Hörnvägen\n",
      "Hörsalsvägen\n"
     ]
    },
    {
     "name": "stderr",
     "output_type": "stream",
     "text": [
      " 36%|███▌      | 2068/5788 [10:07<06:06, 10.14it/s]"
     ]
    },
    {
     "name": "stdout",
     "output_type": "stream",
     "text": [
      "Hörselgången\n",
      "Höstmånadsgatan\n",
      "Höstvädersgatan\n"
     ]
    },
    {
     "name": "stderr",
     "output_type": "stream",
     "text": [
      " 36%|███▌      | 2070/5788 [10:08<07:55,  7.82it/s]"
     ]
    },
    {
     "name": "stdout",
     "output_type": "stream",
     "text": [
      "Ibsensgatan\n",
      "Idas Gård\n"
     ]
    },
    {
     "name": "stderr",
     "output_type": "stream",
     "text": [
      " 36%|███▌      | 2075/5788 [10:08<06:33,  9.44it/s]"
     ]
    },
    {
     "name": "stdout",
     "output_type": "stream",
     "text": [
      "Idas väg\n",
      "Idrottsgatan\n",
      "Idtjärnsgatan\n",
      "Igelkottstigen\n"
     ]
    },
    {
     "name": "stderr",
     "output_type": "stream",
     "text": [
      " 36%|███▌      | 2077/5788 [10:09<07:56,  7.78it/s]"
     ]
    },
    {
     "name": "stdout",
     "output_type": "stream",
     "text": [
      "Iglabacken\n",
      "Iglabranten\n"
     ]
    },
    {
     "name": "stderr",
     "output_type": "stream",
     "text": [
      " 36%|███▌      | 2079/5788 [10:09<07:29,  8.26it/s]"
     ]
    },
    {
     "name": "stdout",
     "output_type": "stream",
     "text": [
      "Iglakroken\n",
      "Iglaslänten\n",
      "Iglatjärnsvägen\n"
     ]
    },
    {
     "name": "stderr",
     "output_type": "stream",
     "text": [
      " 36%|███▌      | 2081/5788 [10:09<10:40,  5.79it/s]"
     ]
    },
    {
     "name": "stdout",
     "output_type": "stream",
     "text": [
      "Illergatan\n",
      "Importgatan\n"
     ]
    },
    {
     "name": "stderr",
     "output_type": "stream",
     "text": [
      " 36%|███▌      | 2084/5788 [10:10<11:22,  5.43it/s]"
     ]
    },
    {
     "name": "stdout",
     "output_type": "stream",
     "text": [
      "Inbound lane 1\n",
      "Inbound lane 2\n",
      "Indigogatan\n",
      "Indiska Oceanen\n"
     ]
    },
    {
     "name": "stderr",
     "output_type": "stream",
     "text": [
      " 36%|███▌      | 2088/5788 [10:12<21:22,  2.89it/s]"
     ]
    },
    {
     "name": "stdout",
     "output_type": "stream",
     "text": [
      "Inez Svenssons väg\n",
      "Ingalundavägen\n",
      "Ingatorpsgatan\n"
     ]
    },
    {
     "name": "stderr",
     "output_type": "stream",
     "text": [
      " 36%|███▌      | 2091/5788 [10:12<14:44,  4.18it/s]"
     ]
    },
    {
     "name": "stdout",
     "output_type": "stream",
     "text": [
      "Ingeborg Hammarskjölds gata\n",
      "Ingeborgsgatan\n",
      "Ingebäcks Byväg\n"
     ]
    },
    {
     "name": "stderr",
     "output_type": "stream",
     "text": [
      " 36%|███▌      | 2095/5788 [10:13<13:19,  4.62it/s]"
     ]
    },
    {
     "name": "stdout",
     "output_type": "stream",
     "text": [
      "Ingebäcksgläntan\n",
      "Ingebäcksliden\n",
      "Ingebäckslyckan\n",
      "Ingebäcksvägen\n"
     ]
    },
    {
     "name": "stderr",
     "output_type": "stream",
     "text": [
      " 36%|███▌      | 2097/5788 [10:14<14:08,  4.35it/s]"
     ]
    },
    {
     "name": "stdout",
     "output_type": "stream",
     "text": [
      "Ingefärsgatan\n"
     ]
    },
    {
     "name": "stderr",
     "output_type": "stream",
     "text": [
      " 36%|███▋      | 2099/5788 [10:15<17:27,  3.52it/s]"
     ]
    },
    {
     "name": "stdout",
     "output_type": "stream",
     "text": [
      "Ingegärdsvägen\n",
      "Ingela Gathenhielms gata\n",
      "Ingemar Johanssons Plats\n",
      "Ingenjörsgatan\n"
     ]
    },
    {
     "name": "stderr",
     "output_type": "stream",
     "text": [
      " 36%|███▋      | 2102/5788 [10:15<10:22,  5.92it/s]"
     ]
    },
    {
     "name": "stdout",
     "output_type": "stream",
     "text": [
      "Ingrid Wallbergs gata\n"
     ]
    },
    {
     "name": "stderr",
     "output_type": "stream",
     "text": [
      " 36%|███▋      | 2104/5788 [10:15<09:22,  6.55it/s]"
     ]
    },
    {
     "name": "stdout",
     "output_type": "stream",
     "text": [
      "Ingridsberg\n",
      "Ingåsvägen\n",
      "Inlandsgatan\n"
     ]
    },
    {
     "name": "stderr",
     "output_type": "stream",
     "text": [
      " 36%|███▋      | 2106/5788 [10:17<27:37,  2.22it/s]"
     ]
    },
    {
     "name": "stdout",
     "output_type": "stream",
     "text": [
      "Innegårdsvägen\n"
     ]
    },
    {
     "name": "stderr",
     "output_type": "stream",
     "text": [
      " 36%|███▋      | 2107/5788 [10:26<1:56:18,  1.90s/it]"
     ]
    },
    {
     "name": "stdout",
     "output_type": "stream",
     "text": [
      "Insiktsgatan\n",
      "Institutsgatan\n",
      "Intagsgatan\n"
     ]
    },
    {
     "name": "stderr",
     "output_type": "stream",
     "text": [
      " 36%|███▋      | 2109/5788 [10:26<1:19:16,  1.29s/it]"
     ]
    },
    {
     "name": "stdout",
     "output_type": "stream",
     "text": [
      "Inägogatan\n"
     ]
    },
    {
     "name": "stderr",
     "output_type": "stream",
     "text": [
      " 36%|███▋      | 2111/5788 [10:26<56:38,  1.08it/s]  "
     ]
    },
    {
     "name": "stdout",
     "output_type": "stream",
     "text": [
      "Iris I Buas väg\n",
      "Irisgatan\n",
      "Isbergsvägen\n"
     ]
    },
    {
     "name": "stderr",
     "output_type": "stream",
     "text": [
      " 37%|███▋      | 2116/5788 [10:27<27:02,  2.26it/s]"
     ]
    },
    {
     "name": "stdout",
     "output_type": "stream",
     "text": [
      "Isbojsvägen\n",
      "Iskällareliden\n",
      "Ivar Wikers väg\n"
     ]
    },
    {
     "name": "stderr",
     "output_type": "stream",
     "text": [
      " 37%|███▋      | 2118/5788 [10:27<23:09,  2.64it/s]"
     ]
    },
    {
     "name": "stdout",
     "output_type": "stream",
     "text": [
      "J A Fagerbergs väg\n",
      "J A Gahms gata\n"
     ]
    },
    {
     "name": "stderr",
     "output_type": "stream",
     "text": [
      " 37%|███▋      | 2120/5788 [10:27<18:08,  3.37it/s]"
     ]
    },
    {
     "name": "stdout",
     "output_type": "stream",
     "text": [
      "J A Pripps gata\n",
      "J A Wettergrens gata\n",
      "J F Carpelans Gångväg\n"
     ]
    },
    {
     "name": "stderr",
     "output_type": "stream",
     "text": [
      " 37%|███▋      | 2121/5788 [10:28<16:09,  3.78it/s]"
     ]
    },
    {
     "name": "stdout",
     "output_type": "stream",
     "text": [
      "J Sigfrid Edströms gata\n"
     ]
    },
    {
     "name": "stderr",
     "output_type": "stream",
     "text": [
      " 37%|███▋      | 2123/5788 [10:28<16:22,  3.73it/s]"
     ]
    },
    {
     "name": "stdout",
     "output_type": "stream",
     "text": [
      "Jacobs gata\n"
     ]
    },
    {
     "name": "stderr",
     "output_type": "stream",
     "text": [
      " 37%|███▋      | 2125/5788 [10:29<19:20,  3.16it/s]"
     ]
    },
    {
     "name": "stdout",
     "output_type": "stream",
     "text": [
      "Jaegerdorffsplatsen\n",
      "Jakobigatan\n",
      "Jakobsdalsgatan\n"
     ]
    },
    {
     "name": "stderr",
     "output_type": "stream",
     "text": [
      " 37%|███▋      | 2130/5788 [10:29<09:03,  6.73it/s]"
     ]
    },
    {
     "name": "stdout",
     "output_type": "stream",
     "text": [
      "Jakobshöjdsvägen\n",
      "Jaktgatan\n",
      "Jaktlyckan\n",
      "Jan Johanssons gata\n",
      "Janneliden\n"
     ]
    },
    {
     "name": "stderr",
     "output_type": "stream",
     "text": [
      " 37%|███▋      | 2134/5788 [10:30<07:15,  8.40it/s]"
     ]
    },
    {
     "name": "stdout",
     "output_type": "stream",
     "text": [
      "Jannes äng\n",
      "Jans väg\n",
      "Januarigatan\n"
     ]
    },
    {
     "name": "stderr",
     "output_type": "stream",
     "text": [
      " 37%|███▋      | 2136/5788 [10:38<1:16:59,  1.26s/it]"
     ]
    },
    {
     "name": "stdout",
     "output_type": "stream",
     "text": [
      "Jeanna Oterdahls Gångväg\n",
      "Jenny Lindsgatan\n"
     ]
    },
    {
     "name": "stderr",
     "output_type": "stream",
     "text": [
      " 37%|███▋      | 2137/5788 [10:38<1:06:51,  1.10s/it]"
     ]
    },
    {
     "name": "stdout",
     "output_type": "stream",
     "text": [
      "Jockeyvägen\n"
     ]
    },
    {
     "name": "stderr",
     "output_type": "stream",
     "text": [
      " 37%|███▋      | 2139/5788 [10:38<46:22,  1.31it/s]  "
     ]
    },
    {
     "name": "stdout",
     "output_type": "stream",
     "text": [
      "Johan Alins gata\n",
      "Johan Gertsson Gata\n",
      "Johan Svenssons Gångväg\n"
     ]
    },
    {
     "name": "stderr",
     "output_type": "stream",
     "text": [
      " 37%|███▋      | 2141/5788 [10:39<30:24,  2.00it/s]"
     ]
    },
    {
     "name": "stdout",
     "output_type": "stream",
     "text": [
      "Johan Willins Plats\n",
      "Johan Willins gata\n"
     ]
    },
    {
     "name": "stderr",
     "output_type": "stream",
     "text": [
      " 37%|███▋      | 2143/5788 [10:39<22:19,  2.72it/s]"
     ]
    },
    {
     "name": "stdout",
     "output_type": "stream",
     "text": [
      "Johan i Bönns väg\n"
     ]
    },
    {
     "name": "stderr",
     "output_type": "stream",
     "text": [
      " 37%|███▋      | 2144/5788 [10:39<25:19,  2.40it/s]"
     ]
    },
    {
     "name": "stdout",
     "output_type": "stream",
     "text": [
      "Johan på Gårdas gata\n",
      "Johanna Hedéns Gångväg\n"
     ]
    },
    {
     "name": "stderr",
     "output_type": "stream",
     "text": [
      " 37%|███▋      | 2147/5788 [10:40<16:43,  3.63it/s]"
     ]
    },
    {
     "name": "stdout",
     "output_type": "stream",
     "text": [
      "Johannas väg\n",
      "Johannebergsgatan\n"
     ]
    },
    {
     "name": "stderr",
     "output_type": "stream",
     "text": [
      " 37%|███▋      | 2149/5788 [10:40<13:55,  4.35it/s]"
     ]
    },
    {
     "name": "stdout",
     "output_type": "stream",
     "text": [
      "Johannelundsgatan\n",
      "Johannes Ivarssons väg\n"
     ]
    },
    {
     "name": "stderr",
     "output_type": "stream",
     "text": [
      " 37%|███▋      | 2151/5788 [10:40<09:34,  6.33it/s]"
     ]
    },
    {
     "name": "stdout",
     "output_type": "stream",
     "text": [
      "Johannes Kyrkogång\n",
      "Johanneshus\n"
     ]
    },
    {
     "name": "stderr",
     "output_type": "stream",
     "text": [
      " 37%|███▋      | 2153/5788 [10:41<09:05,  6.66it/s]"
     ]
    },
    {
     "name": "stdout",
     "output_type": "stream",
     "text": [
      "Johanneshusvägen\n",
      "Johannesplatsen\n",
      "John Bunyans väg\n"
     ]
    },
    {
     "name": "stderr",
     "output_type": "stream",
     "text": [
      " 37%|███▋      | 2157/5788 [10:47<54:01,  1.12it/s]  "
     ]
    },
    {
     "name": "stdout",
     "output_type": "stream",
     "text": [
      "Johns gata\n",
      "Jomsborgsgatan\n",
      "Jons väg\n"
     ]
    },
    {
     "name": "stderr",
     "output_type": "stream",
     "text": [
      " 37%|███▋      | 2160/5788 [10:47<31:11,  1.94it/s]"
     ]
    },
    {
     "name": "stdout",
     "output_type": "stream",
     "text": [
      "Jonsberg\n",
      "Jonseredsgatan\n",
      "Jordbrukaregatan\n",
      "Jordfallsbron\n"
     ]
    },
    {
     "name": "stderr",
     "output_type": "stream",
     "text": [
      " 37%|███▋      | 2163/5788 [10:48<25:27,  2.37it/s]"
     ]
    },
    {
     "name": "stdout",
     "output_type": "stream",
     "text": [
      "Jordfallsvägen\n",
      "Jordgubbsvägen\n"
     ]
    },
    {
     "name": "stderr",
     "output_type": "stream",
     "text": [
      " 37%|███▋      | 2164/5788 [10:48<21:38,  2.79it/s]"
     ]
    },
    {
     "name": "stdout",
     "output_type": "stream",
     "text": [
      "Jordhyttegatan\n"
     ]
    },
    {
     "name": "stderr",
     "output_type": "stream",
     "text": [
      " 37%|███▋      | 2166/5788 [10:49<18:41,  3.23it/s]"
     ]
    },
    {
     "name": "stdout",
     "output_type": "stream",
     "text": [
      "Jordledningsgatan\n",
      "Journalvägen\n"
     ]
    },
    {
     "name": "stderr",
     "output_type": "stream",
     "text": [
      " 37%|███▋      | 2167/5788 [10:49<17:55,  3.37it/s]"
     ]
    },
    {
     "name": "stdout",
     "output_type": "stream",
     "text": [
      "Julaftonsgatan\n"
     ]
    },
    {
     "name": "stderr",
     "output_type": "stream",
     "text": [
      " 37%|███▋      | 2168/5788 [10:49<17:51,  3.38it/s]"
     ]
    },
    {
     "name": "stdout",
     "output_type": "stream",
     "text": [
      "Julianas Gård\n"
     ]
    },
    {
     "name": "stderr",
     "output_type": "stream",
     "text": [
      " 37%|███▋      | 2170/5788 [10:50<26:18,  2.29it/s]"
     ]
    },
    {
     "name": "stdout",
     "output_type": "stream",
     "text": [
      "Julianska gatan\n",
      "Julias gata\n"
     ]
    },
    {
     "name": "stderr",
     "output_type": "stream",
     "text": [
      " 38%|███▊      | 2174/5788 [10:51<11:05,  5.43it/s]"
     ]
    },
    {
     "name": "stdout",
     "output_type": "stream",
     "text": [
      "Jullestigen\n",
      "Jungfrustigen\n",
      "Jungmansgatan\n",
      "Junigatan\n",
      "Jupitergatan\n",
      "Juteskärsgatan\n",
      "Juvelgatan\n"
     ]
    },
    {
     "name": "stderr",
     "output_type": "stream",
     "text": [
      " 38%|███▊      | 2179/5788 [10:51<07:21,  8.18it/s]"
     ]
    },
    {
     "name": "stdout",
     "output_type": "stream",
     "text": [
      "Jyllandsgatan\n",
      "Jägaregatan\n"
     ]
    },
    {
     "name": "stderr",
     "output_type": "stream",
     "text": [
      " 38%|███▊      | 2181/5788 [10:51<07:26,  8.07it/s]"
     ]
    },
    {
     "name": "stdout",
     "output_type": "stream",
     "text": [
      "Järkholmsliden\n",
      "Järkholmsvägen\n"
     ]
    },
    {
     "name": "stderr",
     "output_type": "stream",
     "text": [
      " 38%|███▊      | 2183/5788 [10:52<08:20,  7.20it/s]"
     ]
    },
    {
     "name": "stdout",
     "output_type": "stream",
     "text": [
      "Järnbrotts Prästväg\n",
      "Järnbrottsgatan\n"
     ]
    },
    {
     "name": "stderr",
     "output_type": "stream",
     "text": [
      " 38%|███▊      | 2186/5788 [10:52<08:20,  7.20it/s]"
     ]
    },
    {
     "name": "stdout",
     "output_type": "stream",
     "text": [
      "Järnbrottsmotet\n",
      "Järnmalmsgatan\n",
      "Järnmyntsgatan\n",
      "Järntorget\n"
     ]
    },
    {
     "name": "stderr",
     "output_type": "stream",
     "text": [
      " 38%|███▊      | 2188/5788 [10:53<08:52,  6.77it/s]"
     ]
    },
    {
     "name": "stdout",
     "output_type": "stream",
     "text": [
      "Järntorgsgatan\n"
     ]
    },
    {
     "name": "stderr",
     "output_type": "stream",
     "text": [
      " 38%|███▊      | 2189/5788 [10:53<12:47,  4.69it/s]"
     ]
    },
    {
     "name": "stdout",
     "output_type": "stream",
     "text": [
      "Järnvågsgatan\n"
     ]
    },
    {
     "name": "stderr",
     "output_type": "stream",
     "text": [
      " 38%|███▊      | 2191/5788 [10:54<18:25,  3.25it/s]"
     ]
    },
    {
     "name": "stdout",
     "output_type": "stream",
     "text": [
      "Jättegrytsgatan\n",
      "Jättekullegatan\n"
     ]
    },
    {
     "name": "stderr",
     "output_type": "stream",
     "text": [
      " 38%|███▊      | 2192/5788 [10:54<18:16,  3.28it/s]"
     ]
    },
    {
     "name": "stdout",
     "output_type": "stream",
     "text": [
      "Jätteleken\n"
     ]
    },
    {
     "name": "stderr",
     "output_type": "stream",
     "text": [
      " 38%|███▊      | 2194/5788 [10:55<14:16,  4.20it/s]"
     ]
    },
    {
     "name": "stdout",
     "output_type": "stream",
     "text": [
      "Jättestensgatan\n",
      "Jättestugorna\n",
      "Jörgensgatan\n"
     ]
    },
    {
     "name": "stderr",
     "output_type": "stream",
     "text": [
      " 38%|███▊      | 2196/5788 [10:55<12:56,  4.63it/s]"
     ]
    },
    {
     "name": "stdout",
     "output_type": "stream",
     "text": [
      "Kabbeleksgatan\n",
      "Kabelgatan\n"
     ]
    },
    {
     "name": "stderr",
     "output_type": "stream",
     "text": [
      " 38%|███▊      | 2200/5788 [10:56<09:09,  6.53it/s]"
     ]
    },
    {
     "name": "stdout",
     "output_type": "stream",
     "text": [
      "Kabyssgatan\n",
      "Kadettgatan\n",
      "Kaflegatan\n"
     ]
    },
    {
     "name": "stderr",
     "output_type": "stream",
     "text": [
      " 38%|███▊      | 2202/5788 [10:56<08:05,  7.38it/s]"
     ]
    },
    {
     "name": "stdout",
     "output_type": "stream",
     "text": [
      "Kaggeledsbacken\n",
      "Kaggeledsgatan\n"
     ]
    },
    {
     "name": "stderr",
     "output_type": "stream",
     "text": [
      " 38%|███▊      | 2204/5788 [10:56<09:53,  6.04it/s]"
     ]
    },
    {
     "name": "stdout",
     "output_type": "stream",
     "text": [
      "Kaktusvägen\n",
      "Kalendervägen\n"
     ]
    },
    {
     "name": "stderr",
     "output_type": "stream",
     "text": [
      " 38%|███▊      | 2207/5788 [11:07<1:39:02,  1.66s/it]"
     ]
    },
    {
     "name": "stdout",
     "output_type": "stream",
     "text": [
      "Kalkbruksgatan\n",
      "Kalkstensgatan\n",
      "Kallebäcks Byväg\n"
     ]
    },
    {
     "name": "stderr",
     "output_type": "stream",
     "text": [
      " 38%|███▊      | 2211/5788 [11:07<42:11,  1.41it/s]  "
     ]
    },
    {
     "name": "stdout",
     "output_type": "stream",
     "text": [
      "Kallebäcks Torggata\n",
      "Kallebäcks Västergård\n",
      "Kallebäcks källväg\n",
      "Kallebäcksbron\n",
      "Kallebäcksstigen\n",
      "Kallebäcksvägen\n"
     ]
    },
    {
     "name": "stderr",
     "output_type": "stream",
     "text": [
      " 38%|███▊      | 2214/5788 [11:07<27:50,  2.14it/s]"
     ]
    },
    {
     "name": "stdout",
     "output_type": "stream",
     "text": [
      "Kalles väg\n"
     ]
    },
    {
     "name": "stderr",
     "output_type": "stream",
     "text": [
      " 38%|███▊      | 2216/5788 [11:09<29:18,  2.03it/s]"
     ]
    },
    {
     "name": "stdout",
     "output_type": "stream",
     "text": [
      "Kallhedsbacken\n",
      "Kallhedsliden\n",
      "Kallhedsnäsväg\n"
     ]
    },
    {
     "name": "stderr",
     "output_type": "stream",
     "text": [
      " 38%|███▊      | 2218/5788 [11:09<24:46,  2.40it/s]"
     ]
    },
    {
     "name": "stdout",
     "output_type": "stream",
     "text": [
      "Kallhedsstigen\n",
      "Kallhedsvägen\n"
     ]
    },
    {
     "name": "stderr",
     "output_type": "stream",
     "text": [
      " 38%|███▊      | 2220/5788 [11:09<19:54,  2.99it/s]"
     ]
    },
    {
     "name": "stdout",
     "output_type": "stream",
     "text": [
      "Kallhedsängen\n",
      "Kallkällegatan\n",
      "Kallsgatan\n",
      "Kalmargatan\n"
     ]
    },
    {
     "name": "stderr",
     "output_type": "stream",
     "text": [
      " 39%|███▊      | 2229/5788 [11:10<07:48,  7.60it/s]"
     ]
    },
    {
     "name": "stdout",
     "output_type": "stream",
     "text": [
      "Kalsbobacken\n",
      "Kalsboängen\n",
      "Kalshed Skattegård\n",
      "Kalsheds Norgård\n",
      "Kalsheds Sörgård\n",
      "Kalshedsbacken\n",
      "Kalshedsvägen\n",
      "Kalvhagsliderna\n"
     ]
    },
    {
     "name": "stderr",
     "output_type": "stream",
     "text": [
      " 39%|███▊      | 2234/5788 [11:10<06:18,  9.40it/s]"
     ]
    },
    {
     "name": "stdout",
     "output_type": "stream",
     "text": [
      "Kalvmossen\n",
      "Kalvmossestigen\n",
      "Kalvsundsgatan\n",
      "Kamgatan\n"
     ]
    },
    {
     "name": "stderr",
     "output_type": "stream",
     "text": [
      " 39%|███▊      | 2238/5788 [11:11<08:25,  7.03it/s]"
     ]
    },
    {
     "name": "stdout",
     "output_type": "stream",
     "text": [
      "Kamomillvägen\n",
      "Kamratgårdsvägen\n",
      "Kanaltorgsgatan\n",
      "Kanelgatan\n"
     ]
    },
    {
     "name": "stderr",
     "output_type": "stream",
     "text": [
      " 39%|███▉      | 2244/5788 [11:15<22:31,  2.62it/s]"
     ]
    },
    {
     "name": "stdout",
     "output_type": "stream",
     "text": [
      "Kaneltorget\n",
      "Kanhalls Gård\n",
      "Kaningatan\n",
      "Kanngjutaregatan\n",
      "Kanongränden\n",
      "Kanotgatan\n",
      "Kantarellvägen\n"
     ]
    },
    {
     "name": "stderr",
     "output_type": "stream",
     "text": [
      " 39%|███▉      | 2247/5788 [11:15<16:33,  3.56it/s]"
     ]
    },
    {
     "name": "stdout",
     "output_type": "stream",
     "text": [
      "Kantyxegatan\n",
      "Kapellgatan\n"
     ]
    },
    {
     "name": "stderr",
     "output_type": "stream",
     "text": [
      " 39%|███▉      | 2249/5788 [11:16<14:30,  4.06it/s]"
     ]
    },
    {
     "name": "stdout",
     "output_type": "stream",
     "text": [
      "Kapellgången\n",
      "Kapellplatsen\n"
     ]
    },
    {
     "name": "stderr",
     "output_type": "stream",
     "text": [
      " 39%|███▉      | 2253/5788 [11:16<10:25,  5.65it/s]"
     ]
    },
    {
     "name": "stdout",
     "output_type": "stream",
     "text": [
      "Kaponjärgatan\n",
      "Kappereds Kulle\n",
      "Kapperedsvägen\n"
     ]
    },
    {
     "name": "stderr",
     "output_type": "stream",
     "text": [
      " 39%|███▉      | 2255/5788 [11:16<10:32,  5.59it/s]"
     ]
    },
    {
     "name": "stdout",
     "output_type": "stream",
     "text": [
      "Kapplandsgatan\n",
      "Kapproddaregatan\n",
      "Kaprifolgatan\n"
     ]
    },
    {
     "name": "stderr",
     "output_type": "stream",
     "text": [
      " 39%|███▉      | 2258/5788 [11:17<09:53,  5.94it/s]"
     ]
    },
    {
     "name": "stdout",
     "output_type": "stream",
     "text": [
      "Kaprifolievägen\n",
      "Kaprisgatan\n"
     ]
    },
    {
     "name": "stderr",
     "output_type": "stream",
     "text": [
      " 39%|███▉      | 2259/5788 [11:17<11:07,  5.28it/s]"
     ]
    },
    {
     "name": "stdout",
     "output_type": "stream",
     "text": [
      "Kapten Bertilssons väg\n"
     ]
    },
    {
     "name": "stderr",
     "output_type": "stream",
     "text": [
      " 39%|███▉      | 2261/5788 [11:18<13:22,  4.39it/s]"
     ]
    },
    {
     "name": "stdout",
     "output_type": "stream",
     "text": [
      "Kapten Klintons väg\n",
      "Kaptensgatan\n"
     ]
    },
    {
     "name": "stderr",
     "output_type": "stream",
     "text": [
      " 39%|███▉      | 2262/5788 [11:18<11:33,  5.09it/s]"
     ]
    },
    {
     "name": "stdout",
     "output_type": "stream",
     "text": [
      "Kardemummaslingan\n",
      "Karduansmakaregatan\n"
     ]
    },
    {
     "name": "stderr",
     "output_type": "stream",
     "text": [
      " 39%|███▉      | 2264/5788 [11:20<33:21,  1.76it/s]"
     ]
    },
    {
     "name": "stdout",
     "output_type": "stream",
     "text": [
      "Karholmsvägen\n"
     ]
    },
    {
     "name": "stderr",
     "output_type": "stream",
     "text": [
      " 39%|███▉      | 2268/5788 [11:23<36:15,  1.62it/s]  "
     ]
    },
    {
     "name": "stdout",
     "output_type": "stream",
     "text": [
      "Karin Boyes gata\n",
      "Karin Kavlis Plats\n",
      "Karins väg\n",
      "Karl Gustavsgatan\n"
     ]
    },
    {
     "name": "stderr",
     "output_type": "stream",
     "text": [
      " 39%|███▉      | 2270/5788 [11:29<1:12:48,  1.24s/it]"
     ]
    },
    {
     "name": "stdout",
     "output_type": "stream",
     "text": [
      "Karl IX:s väg\n",
      "Karl Johansgatan\n"
     ]
    },
    {
     "name": "stderr",
     "output_type": "stream",
     "text": [
      " 39%|███▉      | 2273/5788 [11:39<1:53:32,  1.94s/it]"
     ]
    },
    {
     "name": "stdout",
     "output_type": "stream",
     "text": [
      "Karl Petters väg\n",
      "Karl Staaffsgatan\n",
      "Karl Strannes gata\n",
      "Karlagatan\n"
     ]
    },
    {
     "name": "stderr",
     "output_type": "stream",
     "text": [
      " 39%|███▉      | 2275/5788 [11:39<1:13:43,  1.26s/it]"
     ]
    },
    {
     "name": "stdout",
     "output_type": "stream",
     "text": [
      "Karlavagnsgatan\n"
     ]
    },
    {
     "name": "stderr",
     "output_type": "stream",
     "text": [
      " 39%|███▉      | 2276/5788 [11:39<1:02:45,  1.07s/it]"
     ]
    },
    {
     "name": "stdout",
     "output_type": "stream",
     "text": [
      "Karlfeldtsgatan\n",
      "Karlsbogårdsgatan\n"
     ]
    },
    {
     "name": "stderr",
     "output_type": "stream",
     "text": [
      " 39%|███▉      | 2281/5788 [11:43<42:43,  1.37it/s]  "
     ]
    },
    {
     "name": "stdout",
     "output_type": "stream",
     "text": [
      "Karlsbolyckan\n",
      "Karlslundsvägen\n",
      "Karmosingatan\n",
      "Karmosingången\n",
      "Karneolgatan\n"
     ]
    },
    {
     "name": "stderr",
     "output_type": "stream",
     "text": [
      " 39%|███▉      | 2284/5788 [11:43<26:59,  2.16it/s]"
     ]
    },
    {
     "name": "stdout",
     "output_type": "stream",
     "text": [
      "Karnevalsstråket\n",
      "Karolinernas gata\n"
     ]
    },
    {
     "name": "stderr",
     "output_type": "stream",
     "text": [
      " 39%|███▉      | 2285/5788 [11:43<23:43,  2.46it/s]"
     ]
    },
    {
     "name": "stdout",
     "output_type": "stream",
     "text": [
      "Karossvägen\n"
     ]
    },
    {
     "name": "stderr",
     "output_type": "stream",
     "text": [
      " 40%|███▉      | 2289/5788 [11:44<19:27,  3.00it/s]"
     ]
    },
    {
     "name": "stdout",
     "output_type": "stream",
     "text": [
      "Karpgatan\n",
      "Kaserngränden\n",
      "Kaserntorget\n",
      "Kastanjeallén\n"
     ]
    },
    {
     "name": "stderr",
     "output_type": "stream",
     "text": [
      " 40%|███▉      | 2290/5788 [11:48<49:41,  1.17it/s]"
     ]
    },
    {
     "name": "stdout",
     "output_type": "stream",
     "text": [
      "Kastanjgården\n"
     ]
    },
    {
     "name": "stderr",
     "output_type": "stream",
     "text": [
      " 40%|███▉      | 2291/5788 [11:48<42:11,  1.38it/s]"
     ]
    },
    {
     "name": "stdout",
     "output_type": "stream",
     "text": [
      "Kastellegårdsvägen\n",
      "Kastellgatan\n"
     ]
    },
    {
     "name": "stderr",
     "output_type": "stream",
     "text": [
      " 40%|███▉      | 2293/5788 [11:48<29:17,  1.99it/s]"
     ]
    },
    {
     "name": "stdout",
     "output_type": "stream",
     "text": [
      "Kastmyntsgatan\n"
     ]
    },
    {
     "name": "stderr",
     "output_type": "stream",
     "text": [
      " 40%|███▉      | 2294/5788 [11:49<28:25,  2.05it/s]"
     ]
    },
    {
     "name": "stdout",
     "output_type": "stream",
     "text": [
      "Kastorsgatan\n",
      "Kastvindsgatan\n",
      "Katjas gata\n"
     ]
    },
    {
     "name": "stderr",
     "output_type": "stream",
     "text": [
      " 40%|███▉      | 2298/5788 [11:49<17:35,  3.31it/s]"
     ]
    },
    {
     "name": "stdout",
     "output_type": "stream",
     "text": [
      "Katrinelundsstigen\n",
      "Katrinerovägen\n"
     ]
    },
    {
     "name": "stderr",
     "output_type": "stream",
     "text": [
      " 40%|███▉      | 2300/5788 [11:49<13:10,  4.42it/s]"
     ]
    },
    {
     "name": "stdout",
     "output_type": "stream",
     "text": [
      "Kattedammen\n",
      "Kattegatt\n"
     ]
    },
    {
     "name": "stderr",
     "output_type": "stream",
     "text": [
      " 40%|███▉      | 2302/5788 [11:51<20:28,  2.84it/s]"
     ]
    },
    {
     "name": "stdout",
     "output_type": "stream",
     "text": [
      "Kattfotsgatan\n",
      "Kavaljersgatan\n"
     ]
    },
    {
     "name": "stderr",
     "output_type": "stream",
     "text": [
      " 40%|███▉      | 2305/5788 [11:51<11:20,  5.12it/s]"
     ]
    },
    {
     "name": "stdout",
     "output_type": "stream",
     "text": [
      "Kaveldunsgatan\n",
      "Kaverös Äng\n",
      "Kaverösporten\n"
     ]
    },
    {
     "name": "stderr",
     "output_type": "stream",
     "text": [
      " 40%|███▉      | 2308/5788 [11:51<09:12,  6.30it/s]"
     ]
    },
    {
     "name": "stdout",
     "output_type": "stream",
     "text": [
      "Kaverösterrassen\n",
      "Kavåsvägen\n",
      "Kedjestigen\n"
     ]
    },
    {
     "name": "stderr",
     "output_type": "stream",
     "text": [
      " 40%|███▉      | 2309/5788 [11:51<08:32,  6.79it/s]"
     ]
    },
    {
     "name": "stdout",
     "output_type": "stream",
     "text": [
      "Kemigården\n"
     ]
    },
    {
     "name": "stderr",
     "output_type": "stream",
     "text": [
      " 40%|███▉      | 2310/5788 [11:52<10:27,  5.54it/s]"
     ]
    },
    {
     "name": "stdout",
     "output_type": "stream",
     "text": [
      "Kemivägen\n"
     ]
    },
    {
     "name": "stderr",
     "output_type": "stream",
     "text": [
      " 40%|███▉      | 2312/5788 [11:52<14:59,  3.86it/s]"
     ]
    },
    {
     "name": "stdout",
     "output_type": "stream",
     "text": [
      "Kennedygatan\n",
      "Kent Anderssons gata\n",
      "Keplers gata\n"
     ]
    },
    {
     "name": "stderr",
     "output_type": "stream",
     "text": [
      " 40%|████      | 2316/5788 [11:53<08:20,  6.94it/s]"
     ]
    },
    {
     "name": "stdout",
     "output_type": "stream",
     "text": [
      "Kerstin Hasselgrens gångväg\n",
      "Killingegången\n",
      "Killingsholmen\n"
     ]
    },
    {
     "name": "stderr",
     "output_type": "stream",
     "text": [
      " 40%|████      | 2318/5788 [11:54<15:30,  3.73it/s]"
     ]
    },
    {
     "name": "stdout",
     "output_type": "stream",
     "text": [
      "Kilsgatan\n",
      "Kindboviksvägen\n",
      "Kippholmens Kvarnekulle\n",
      "Kippholmsvägen\n"
     ]
    },
    {
     "name": "stderr",
     "output_type": "stream",
     "text": [
      " 40%|████      | 2323/5788 [11:54<09:05,  6.35it/s]"
     ]
    },
    {
     "name": "stdout",
     "output_type": "stream",
     "text": [
      "Kjell Hjerns gata\n",
      "Kjellbergsgatan\n",
      "Kjellestadsgatan\n",
      "Kjellmansgatan\n"
     ]
    },
    {
     "name": "stderr",
     "output_type": "stream",
     "text": [
      " 40%|████      | 2325/5788 [11:55<07:54,  7.29it/s]"
     ]
    },
    {
     "name": "stdout",
     "output_type": "stream",
     "text": [
      "Klagshamnsgatan\n",
      "Klamparegatan\n"
     ]
    },
    {
     "name": "stderr",
     "output_type": "stream",
     "text": [
      " 40%|████      | 2327/5788 [11:55<09:34,  6.02it/s]"
     ]
    },
    {
     "name": "stdout",
     "output_type": "stream",
     "text": [
      "Klangfärgsgatan\n"
     ]
    },
    {
     "name": "stderr",
     "output_type": "stream",
     "text": [
      " 40%|████      | 2328/5788 [11:55<11:06,  5.19it/s]"
     ]
    },
    {
     "name": "stdout",
     "output_type": "stream",
     "text": [
      "Klaralidsvägen\n",
      "Klaras Ängar\n"
     ]
    },
    {
     "name": "stderr",
     "output_type": "stream",
     "text": [
      " 40%|████      | 2331/5788 [11:56<11:13,  5.13it/s]"
     ]
    },
    {
     "name": "stdout",
     "output_type": "stream",
     "text": [
      "Klaravägen\n",
      "Klarbärsvägen\n"
     ]
    },
    {
     "name": "stderr",
     "output_type": "stream",
     "text": [
      " 40%|████      | 2332/5788 [11:56<11:00,  5.23it/s]"
     ]
    },
    {
     "name": "stdout",
     "output_type": "stream",
     "text": [
      "Klarebergsmotet\n"
     ]
    },
    {
     "name": "stderr",
     "output_type": "stream",
     "text": [
      " 40%|████      | 2334/5788 [11:57<19:01,  3.03it/s]"
     ]
    },
    {
     "name": "stdout",
     "output_type": "stream",
     "text": [
      "Klareborgsgatan\n",
      "Klaremossevägen\n"
     ]
    },
    {
     "name": "stderr",
     "output_type": "stream",
     "text": [
      " 40%|████      | 2335/5788 [11:57<15:32,  3.70it/s]"
     ]
    },
    {
     "name": "stdout",
     "output_type": "stream",
     "text": [
      "Klarinettgatan\n"
     ]
    },
    {
     "name": "stderr",
     "output_type": "stream",
     "text": [
      " 40%|████      | 2336/5788 [11:58<17:49,  3.23it/s]"
     ]
    },
    {
     "name": "stdout",
     "output_type": "stream",
     "text": [
      "Klarvädersgatan\n",
      "Klassikergatan\n"
     ]
    },
    {
     "name": "stderr",
     "output_type": "stream",
     "text": [
      " 40%|████      | 2338/5788 [11:58<13:25,  4.28it/s]"
     ]
    },
    {
     "name": "stdout",
     "output_type": "stream",
     "text": [
      "Klensmedsgatan\n",
      "Klevevägen\n",
      "Klimatgatan\n"
     ]
    },
    {
     "name": "stderr",
     "output_type": "stream",
     "text": [
      " 40%|████      | 2343/5788 [11:59<12:46,  4.50it/s]"
     ]
    },
    {
     "name": "stdout",
     "output_type": "stream",
     "text": [
      "Klimatvägen\n",
      "Klingners Plats\n",
      "Klintens väg\n"
     ]
    },
    {
     "name": "stderr",
     "output_type": "stream",
     "text": [
      " 40%|████      | 2344/5788 [11:59<11:30,  4.99it/s]"
     ]
    },
    {
     "name": "stdout",
     "output_type": "stream",
     "text": [
      "Klintåsgatan\n"
     ]
    },
    {
     "name": "stderr",
     "output_type": "stream",
     "text": [
      " 41%|████      | 2345/5788 [12:00<18:17,  3.14it/s]"
     ]
    },
    {
     "name": "stdout",
     "output_type": "stream",
     "text": [
      "Klippan\n"
     ]
    },
    {
     "name": "stderr",
     "output_type": "stream",
     "text": [
      " 41%|████      | 2346/5788 [12:01<22:20,  2.57it/s]"
     ]
    },
    {
     "name": "stdout",
     "output_type": "stream",
     "text": [
      "Klippans Strandpromenad\n",
      "Klippfyrsvägen\n"
     ]
    },
    {
     "name": "stderr",
     "output_type": "stream",
     "text": [
      " 41%|████      | 2350/5788 [12:01<13:40,  4.19it/s]"
     ]
    },
    {
     "name": "stdout",
     "output_type": "stream",
     "text": [
      "Klobergslyckan\n",
      "Klockarevägen\n",
      "Klockbojsvägen\n"
     ]
    },
    {
     "name": "stderr",
     "output_type": "stream",
     "text": [
      " 41%|████      | 2352/5788 [12:02<12:28,  4.59it/s]"
     ]
    },
    {
     "name": "stdout",
     "output_type": "stream",
     "text": [
      "Klockgjutaregatan\n",
      "Klockljungsliden\n",
      "Klostergången\n"
     ]
    },
    {
     "name": "stderr",
     "output_type": "stream",
     "text": [
      " 41%|████      | 2354/5788 [12:02<08:49,  6.49it/s]"
     ]
    },
    {
     "name": "stdout",
     "output_type": "stream",
     "text": [
      "Klostermuren\n",
      "Klubbvägen\n"
     ]
    },
    {
     "name": "stderr",
     "output_type": "stream",
     "text": [
      " 41%|████      | 2357/5788 [12:03<11:14,  5.09it/s]"
     ]
    },
    {
     "name": "stdout",
     "output_type": "stream",
     "text": [
      "Klyfteråsen\n",
      "Klyfteråsvägen\n"
     ]
    },
    {
     "name": "stderr",
     "output_type": "stream",
     "text": [
      " 41%|████      | 2359/5788 [12:03<08:52,  6.43it/s]"
     ]
    },
    {
     "name": "stdout",
     "output_type": "stream",
     "text": [
      "Klyvarbomsgatan\n",
      "Klyvsågsgatan\n",
      "Klädpressaregatan\n",
      "Klämman\n"
     ]
    },
    {
     "name": "stderr",
     "output_type": "stream",
     "text": [
      " 41%|████      | 2362/5788 [12:03<07:28,  7.64it/s]"
     ]
    },
    {
     "name": "stdout",
     "output_type": "stream",
     "text": [
      "Klängrosgången\n",
      "Kläppestigen\n"
     ]
    },
    {
     "name": "stderr",
     "output_type": "stream",
     "text": [
      " 41%|████      | 2366/5788 [12:04<07:27,  7.65it/s]"
     ]
    },
    {
     "name": "stdout",
     "output_type": "stream",
     "text": [
      "Klättervägen\n",
      "Klåva Gårdsväg\n",
      "Klåvavägen\n"
     ]
    },
    {
     "name": "stderr",
     "output_type": "stream",
     "text": [
      " 41%|████      | 2368/5788 [12:10<58:16,  1.02s/it]  "
     ]
    },
    {
     "name": "stdout",
     "output_type": "stream",
     "text": [
      "Klåveskärsgatan\n",
      "Klövergången\n",
      "Klövervallsgatan\n",
      "Klövåsvägen\n",
      "Knalteskärsgatan\n",
      "Knapebacken\n"
     ]
    },
    {
     "name": "stderr",
     "output_type": "stream",
     "text": [
      " 41%|████      | 2373/5788 [12:10<24:55,  2.28it/s]"
     ]
    },
    {
     "name": "stdout",
     "output_type": "stream",
     "text": [
      "Knapegatan\n",
      "Knapegårdsvägen\n"
     ]
    },
    {
     "name": "stderr",
     "output_type": "stream",
     "text": [
      " 41%|████      | 2377/5788 [12:11<16:44,  3.40it/s]"
     ]
    },
    {
     "name": "stdout",
     "output_type": "stream",
     "text": [
      "Knapehall\n",
      "Knattens väg\n",
      "Knektebacken\n",
      "Knektebrovägen\n",
      "Knektedalsgatan\n",
      "Kniparedsgården\n",
      "Kniparedsvägen\n"
     ]
    },
    {
     "name": "stderr",
     "output_type": "stream",
     "text": [
      " 41%|████      | 2382/5788 [12:11<09:47,  5.79it/s]"
     ]
    },
    {
     "name": "stdout",
     "output_type": "stream",
     "text": [
      "Knipeflogsgatan\n",
      "Knipplagatan\n",
      "Knipplebergsvägen\n"
     ]
    },
    {
     "name": "stderr",
     "output_type": "stream",
     "text": [
      " 41%|████      | 2385/5788 [12:12<09:21,  6.06it/s]"
     ]
    },
    {
     "name": "stdout",
     "output_type": "stream",
     "text": [
      "Knipplekullen\n"
     ]
    },
    {
     "name": "stderr",
     "output_type": "stream",
     "text": [
      " 41%|████      | 2387/5788 [12:14<20:20,  2.79it/s]"
     ]
    },
    {
     "name": "stdout",
     "output_type": "stream",
     "text": [
      "Knippleskärsgatan\n",
      "Knivsmedsgatan\n",
      "Knopvägen\n",
      "Knostervägen\n",
      "Knut Marks väg\n",
      "Knuts väg\n",
      "Kobbarnas väg\n"
     ]
    },
    {
     "name": "stderr",
     "output_type": "stream",
     "text": [
      " 41%|████▏     | 2396/5788 [12:14<09:00,  6.28it/s]"
     ]
    },
    {
     "name": "stdout",
     "output_type": "stream",
     "text": [
      "Kobbe lid\n",
      "Kobbegården\n",
      "Kobbegårdsvägen\n",
      "Kobbehallsvägen\n"
     ]
    },
    {
     "name": "stderr",
     "output_type": "stream",
     "text": [
      " 41%|████▏     | 2399/5788 [12:14<07:11,  7.85it/s]"
     ]
    },
    {
     "name": "stdout",
     "output_type": "stream",
     "text": [
      "Kobbeslätten\n",
      "Kobergsgatan\n",
      "Kockheds Gård\n",
      "Kockhedsvägen\n",
      "Kodammsbron\n",
      "Kodammsvägen\n",
      "Kofferdalsvägen\n"
     ]
    },
    {
     "name": "stderr",
     "output_type": "stream",
     "text": [
      " 42%|████▏     | 2404/5788 [12:14<04:59, 11.29it/s]"
     ]
    },
    {
     "name": "stdout",
     "output_type": "stream",
     "text": [
      "Koggegatan\n",
      "Kohagen\n",
      "Kohagsberget\n",
      "Kohagsgatan\n",
      "Kolgruvegatan\n",
      "Kolhamnsgatan\n"
     ]
    },
    {
     "name": "stderr",
     "output_type": "stream",
     "text": [
      " 42%|████▏     | 2415/5788 [12:16<06:07,  9.17it/s]"
     ]
    },
    {
     "name": "stdout",
     "output_type": "stream",
     "text": [
      "Kolhyvarestigen\n",
      "Kolmadsstigen\n",
      "Kolmodins väg\n",
      "Kolmätaregatan\n",
      "Kolonigatan\n",
      "Kolonilyckan\n",
      "Koltrastvägen\n",
      "Kolumbusgatan\n"
     ]
    },
    {
     "name": "stderr",
     "output_type": "stream",
     "text": [
      " 42%|████▏     | 2420/5788 [12:16<04:40, 12.03it/s]"
     ]
    },
    {
     "name": "stdout",
     "output_type": "stream",
     "text": [
      "Komedigatan\n",
      "Kometgatan\n",
      "Kometstråket\n",
      "Komettorget\n",
      "Kommendörsgatan\n"
     ]
    },
    {
     "name": "stderr",
     "output_type": "stream",
     "text": [
      " 42%|████▏     | 2423/5788 [12:16<05:17, 10.59it/s]"
     ]
    },
    {
     "name": "stdout",
     "output_type": "stream",
     "text": [
      "Kompassgatan\n",
      "Kondensatorsgatan\n",
      "Konditionsvägen\n"
     ]
    },
    {
     "name": "stderr",
     "output_type": "stream",
     "text": [
      " 42%|████▏     | 2426/5788 [12:17<05:06, 10.97it/s]"
     ]
    },
    {
     "name": "stdout",
     "output_type": "stream",
     "text": [
      "Konduktörsgatan\n",
      "Kongahällavägen\n"
     ]
    },
    {
     "name": "stderr",
     "output_type": "stream",
     "text": [
      " 42%|████▏     | 2430/5788 [15:08<11:33:53, 12.40s/it]"
     ]
    },
    {
     "name": "stdout",
     "output_type": "stream",
     "text": [
      "Konsertgatan\n",
      "Konstapelsgatan\n",
      "Konstepidemins väg\n"
     ]
    },
    {
     "name": "stderr",
     "output_type": "stream",
     "text": [
      " 42%|████▏     | 2432/5788 [15:08<9:00:37,  9.67s/it] "
     ]
    },
    {
     "name": "stdout",
     "output_type": "stream",
     "text": [
      "Konstförvantsgatan\n",
      "Konstnärsvägen\n",
      "Kontrabasgatan\n"
     ]
    },
    {
     "name": "stderr",
     "output_type": "stream",
     "text": [
      " 42%|████▏     | 2434/5788 [15:09<6:49:36,  7.33s/it]"
     ]
    },
    {
     "name": "stdout",
     "output_type": "stream",
     "text": [
      "Konvaljegatan\n",
      "Koopmansgatan\n"
     ]
    },
    {
     "name": "stderr",
     "output_type": "stream",
     "text": [
      " 42%|████▏     | 2438/5788 [15:09<3:43:35,  4.00s/it]"
     ]
    },
    {
     "name": "stdout",
     "output_type": "stream",
     "text": [
      "Koppargatan\n",
      "Kopparmyntsgatan\n",
      "Kopparormsgatan\n"
     ]
    },
    {
     "name": "stderr",
     "output_type": "stream",
     "text": [
      " 42%|████▏     | 2440/5788 [15:09<2:43:00,  2.92s/it]"
     ]
    },
    {
     "name": "stdout",
     "output_type": "stream",
     "text": [
      "Kopparslagaregatan\n",
      "Kopparåsen\n"
     ]
    },
    {
     "name": "stderr",
     "output_type": "stream",
     "text": [
      " 42%|████▏     | 2442/5788 [15:10<1:59:38,  2.15s/it]"
     ]
    },
    {
     "name": "stdout",
     "output_type": "stream",
     "text": [
      "Kopparåsvägen\n",
      "Korallgränd\n",
      "Korgbollsvägen\n",
      "Korgmakaregatan\n",
      "Koriandergatan\n",
      "Kornbodsvägen\n",
      "Korndalsvägen\n"
     ]
    },
    {
     "name": "stderr",
     "output_type": "stream",
     "text": [
      " 42%|████▏     | 2451/5788 [15:10<39:40,  1.40it/s]  "
     ]
    },
    {
     "name": "stdout",
     "output_type": "stream",
     "text": [
      "Kornettgatan\n",
      "Korngången\n",
      "Kornhalls Ekebo\n",
      "Kornhallsvägen\n"
     ]
    },
    {
     "name": "stderr",
     "output_type": "stream",
     "text": [
      " 42%|████▏     | 2454/5788 [15:12<40:01,  1.39it/s]"
     ]
    },
    {
     "name": "stdout",
     "output_type": "stream",
     "text": [
      "Kornknarrsgatan\n",
      "Korpbergsstigen\n",
      "Korpralsgatan\n",
      "Korpvägen\n"
     ]
    },
    {
     "name": "stderr",
     "output_type": "stream",
     "text": [
      " 42%|████▏     | 2458/5788 [15:13<28:47,  1.93it/s]"
     ]
    },
    {
     "name": "stdout",
     "output_type": "stream",
     "text": [
      "Korpåsbacken\n",
      "Korsebergs Backe\n",
      "Korsgatan\n"
     ]
    },
    {
     "name": "stderr",
     "output_type": "stream",
     "text": [
      " 43%|████▎     | 2460/5788 [15:13<22:50,  2.43it/s]"
     ]
    },
    {
     "name": "stdout",
     "output_type": "stream",
     "text": [
      "Korsklevegatan\n",
      "Korstörnegatan\n",
      "Korsvägen\n"
     ]
    },
    {
     "name": "stderr",
     "output_type": "stream",
     "text": [
      " 43%|████▎     | 2462/5788 [15:15<25:58,  2.13it/s]"
     ]
    },
    {
     "name": "stdout",
     "output_type": "stream",
     "text": [
      "Korsåsgatan\n"
     ]
    },
    {
     "name": "stderr",
     "output_type": "stream",
     "text": [
      " 43%|████▎     | 2464/5788 [15:15<21:29,  2.58it/s]"
     ]
    },
    {
     "name": "stdout",
     "output_type": "stream",
     "text": [
      "Korsåsliden\n",
      "Korta Gången\n"
     ]
    },
    {
     "name": "stderr",
     "output_type": "stream",
     "text": [
      " 43%|████▎     | 2465/5788 [15:15<18:47,  2.95it/s]"
     ]
    },
    {
     "name": "stdout",
     "output_type": "stream",
     "text": [
      "Kortdistansgatan\n",
      "Kortedala Idrottsväg\n"
     ]
    },
    {
     "name": "stderr",
     "output_type": "stream",
     "text": [
      " 43%|████▎     | 2467/5788 [15:15<15:00,  3.69it/s]"
     ]
    },
    {
     "name": "stdout",
     "output_type": "stream",
     "text": [
      "Kortedalavägen\n"
     ]
    },
    {
     "name": "stderr",
     "output_type": "stream",
     "text": [
      " 43%|████▎     | 2471/5788 [15:27<1:16:28,  1.38s/it]"
     ]
    },
    {
     "name": "stdout",
     "output_type": "stream",
     "text": [
      "Kortvågsgatan\n",
      "Korvettgatan\n",
      "Kosmosgatan\n",
      "Kostergatan\n",
      "Krabban\n",
      "Krabbeliderna\n"
     ]
    },
    {
     "name": "stderr",
     "output_type": "stream",
     "text": [
      " 43%|████▎     | 2474/5788 [15:27<46:32,  1.19it/s]  "
     ]
    },
    {
     "name": "stdout",
     "output_type": "stream",
     "text": [
      "Krabbelyckan\n",
      "Kraftrunegatan\n"
     ]
    },
    {
     "name": "stderr",
     "output_type": "stream",
     "text": [
      " 43%|████▎     | 2478/5788 [15:27<27:00,  2.04it/s]"
     ]
    },
    {
     "name": "stdout",
     "output_type": "stream",
     "text": [
      "Kransen\n",
      "Krattskogsvägen\n",
      "Kravellgatan\n"
     ]
    },
    {
     "name": "stderr",
     "output_type": "stream",
     "text": [
      " 43%|████▎     | 2481/5788 [15:28<17:37,  3.13it/s]"
     ]
    },
    {
     "name": "stdout",
     "output_type": "stream",
     "text": [
      "Krimlanns Gård\n",
      "Kringelgatan\n",
      "Kringelhamnen\n",
      "Kringlekullen\n"
     ]
    },
    {
     "name": "stderr",
     "output_type": "stream",
     "text": [
      " 43%|████▎     | 2485/5788 [15:28<11:53,  4.63it/s]"
     ]
    },
    {
     "name": "stdout",
     "output_type": "stream",
     "text": [
      "Kristallgatan\n",
      "Kristinehöjdsgatan\n",
      "Kristinelundsgatan\n"
     ]
    },
    {
     "name": "stderr",
     "output_type": "stream",
     "text": [
      " 43%|████▎     | 2487/5788 [15:28<09:36,  5.73it/s]"
     ]
    },
    {
     "name": "stdout",
     "output_type": "stream",
     "text": [
      "Krogabäcksvägen\n",
      "Krogens Gård\n",
      "Krokebacksgatan\n",
      "Krokegatan\n"
     ]
    },
    {
     "name": "stderr",
     "output_type": "stream",
     "text": [
      " 43%|████▎     | 2490/5788 [15:28<07:17,  7.54it/s]"
     ]
    },
    {
     "name": "stdout",
     "output_type": "stream",
     "text": [
      "Krokegårdsgatan\n",
      "Krokelyckan\n"
     ]
    },
    {
     "name": "stderr",
     "output_type": "stream",
     "text": [
      " 43%|████▎     | 2494/5788 [15:29<07:32,  7.27it/s]"
     ]
    },
    {
     "name": "stdout",
     "output_type": "stream",
     "text": [
      "Krokens Gård\n",
      "Krokerydsvägen\n",
      "Kroksjökulle\n",
      "Kroksjövägen\n"
     ]
    },
    {
     "name": "stderr",
     "output_type": "stream",
     "text": [
      " 43%|████▎     | 2501/5788 [15:29<04:11, 13.08it/s]"
     ]
    },
    {
     "name": "stdout",
     "output_type": "stream",
     "text": [
      "Krokslätts Parkgata\n",
      "Krokstorpsvägen\n",
      "Krokusvägen\n",
      "Krokängsgatan\n",
      "Kromvägen\n",
      "Kronhjortsgatan\n",
      "Kronhjortsparken\n",
      "Kronhusgatan\n"
     ]
    },
    {
     "name": "stderr",
     "output_type": "stream",
     "text": [
      " 43%|████▎     | 2505/5788 [15:29<03:08, 17.45it/s]"
     ]
    },
    {
     "name": "stdout",
     "output_type": "stream",
     "text": [
      "Kronhusgården\n",
      "Kronogårdslyckan\n",
      "Kronogårdsvägen\n"
     ]
    },
    {
     "name": "stderr",
     "output_type": "stream",
     "text": [
      " 43%|████▎     | 2508/5788 [15:30<04:50, 11.28it/s]"
     ]
    },
    {
     "name": "stdout",
     "output_type": "stream",
     "text": [
      "Kronorättarens väg\n",
      "Kronotorpsgatan\n",
      "Kronängen\n"
     ]
    },
    {
     "name": "stderr",
     "output_type": "stream",
     "text": [
      " 43%|████▎     | 2512/5788 [15:30<05:20, 10.22it/s]"
     ]
    },
    {
     "name": "stdout",
     "output_type": "stream",
     "text": [
      "Kroppåsstigen\n",
      "Krossholmsvägen\n",
      "Krossvägen\n"
     ]
    },
    {
     "name": "stderr",
     "output_type": "stream",
     "text": [
      " 43%|████▎     | 2516/5788 [15:31<05:06, 10.67it/s]"
     ]
    },
    {
     "name": "stdout",
     "output_type": "stream",
     "text": [
      "Krukmakaregatan\n",
      "Krumeluren\n",
      "Kruniusvägen\n",
      "Krusbärsvägen\n",
      "Kruthusgatan\n"
     ]
    },
    {
     "name": "stderr",
     "output_type": "stream",
     "text": [
      " 44%|████▎     | 2521/5788 [15:36<28:05,  1.94it/s]"
     ]
    },
    {
     "name": "stdout",
     "output_type": "stream",
     "text": [
      "Kruthuslänken\n",
      "Krutstråket\n",
      "Krutvägen\n",
      "Kryddgårdsgatan\n",
      "Kryddhyllan\n"
     ]
    },
    {
     "name": "stderr",
     "output_type": "stream",
     "text": [
      " 44%|████▎     | 2523/5788 [15:37<23:57,  2.27it/s]"
     ]
    },
    {
     "name": "stdout",
     "output_type": "stream",
     "text": [
      "Kryddkrassegatan\n"
     ]
    },
    {
     "name": "stderr",
     "output_type": "stream",
     "text": [
      " 44%|████▎     | 2524/5788 [15:37<24:24,  2.23it/s]"
     ]
    },
    {
     "name": "stdout",
     "output_type": "stream",
     "text": [
      "Kryddnejlikegatan\n"
     ]
    },
    {
     "name": "stderr",
     "output_type": "stream",
     "text": [
      " 44%|████▎     | 2526/5788 [15:40<42:28,  1.28it/s]"
     ]
    },
    {
     "name": "stdout",
     "output_type": "stream",
     "text": [
      "Kryddpeppargatan\n",
      "Kryddvägen\n"
     ]
    },
    {
     "name": "stderr",
     "output_type": "stream",
     "text": [
      " 44%|████▎     | 2528/5788 [15:41<29:21,  1.85it/s]"
     ]
    },
    {
     "name": "stdout",
     "output_type": "stream",
     "text": [
      "Kryddväxtgatan\n",
      "Krysolitvägen\n"
     ]
    },
    {
     "name": "stderr",
     "output_type": "stream",
     "text": [
      " 44%|████▎     | 2530/5788 [15:41<18:41,  2.90it/s]"
     ]
    },
    {
     "name": "stdout",
     "output_type": "stream",
     "text": [
      "Kryssdäcket\n",
      "Krysspricksvägen\n"
     ]
    },
    {
     "name": "stderr",
     "output_type": "stream",
     "text": [
      " 44%|████▎     | 2532/5788 [15:41<14:48,  3.66it/s]"
     ]
    },
    {
     "name": "stdout",
     "output_type": "stream",
     "text": [
      "Krämlevägen\n",
      "Kråkbärsgatan\n",
      "Kråkeskärsgatan\n",
      "Kråketegen\n"
     ]
    },
    {
     "name": "stderr",
     "output_type": "stream",
     "text": [
      " 44%|████▍     | 2536/5788 [15:42<10:32,  5.15it/s]"
     ]
    },
    {
     "name": "stdout",
     "output_type": "stream",
     "text": [
      "Krönikegatan\n",
      "Krösebacken\n",
      "Kull-Augustes väg\n",
      "Kullagergatan\n"
     ]
    },
    {
     "name": "stderr",
     "output_type": "stream",
     "text": [
      " 44%|████▍     | 2539/5788 [15:42<09:32,  5.67it/s]"
     ]
    },
    {
     "name": "stdout",
     "output_type": "stream",
     "text": [
      "Kullegatan\n"
     ]
    },
    {
     "name": "stderr",
     "output_type": "stream",
     "text": [
      " 44%|████▍     | 2541/5788 [15:43<09:45,  5.55it/s]"
     ]
    },
    {
     "name": "stdout",
     "output_type": "stream",
     "text": [
      "Kullegårdsvägen\n",
      "Kullens Fyrs väg\n"
     ]
    },
    {
     "name": "stderr",
     "output_type": "stream",
     "text": [
      " 44%|████▍     | 2542/5788 [15:43<08:53,  6.08it/s]"
     ]
    },
    {
     "name": "stdout",
     "output_type": "stream",
     "text": [
      "Kullens väg\n"
     ]
    },
    {
     "name": "stderr",
     "output_type": "stream",
     "text": [
      " 44%|████▍     | 2544/5788 [15:43<09:38,  5.61it/s]"
     ]
    },
    {
     "name": "stdout",
     "output_type": "stream",
     "text": [
      "Kullstigen\n",
      "Kulstötaregången\n"
     ]
    },
    {
     "name": "stderr",
     "output_type": "stream",
     "text": [
      " 44%|████▍     | 2547/5788 [15:44<09:52,  5.47it/s]"
     ]
    },
    {
     "name": "stdout",
     "output_type": "stream",
     "text": [
      "Kultivatorgatan\n",
      "Kultjegatan\n",
      "Kulvertkonstens väg\n",
      "Kulörgatan\n"
     ]
    },
    {
     "name": "stderr",
     "output_type": "stream",
     "text": [
      " 44%|████▍     | 2549/5788 [15:44<08:54,  6.06it/s]"
     ]
    },
    {
     "name": "stdout",
     "output_type": "stream",
     "text": [
      "Kumleskärsgatan\n"
     ]
    },
    {
     "name": "stderr",
     "output_type": "stream",
     "text": [
      " 44%|████▍     | 2550/5788 [15:45<15:44,  3.43it/s]"
     ]
    },
    {
     "name": "stdout",
     "output_type": "stream",
     "text": [
      "Kummingatan\n"
     ]
    },
    {
     "name": "stderr",
     "output_type": "stream",
     "text": [
      " 44%|████▍     | 2552/5788 [15:45<13:56,  3.87it/s]"
     ]
    },
    {
     "name": "stdout",
     "output_type": "stream",
     "text": [
      "Kung Borres väg\n",
      "Kung Håkons gata\n"
     ]
    },
    {
     "name": "stderr",
     "output_type": "stream",
     "text": [
      " 44%|████▍     | 2554/5788 [15:46<11:18,  4.77it/s]"
     ]
    },
    {
     "name": "stdout",
     "output_type": "stream",
     "text": [
      "Kung Sverres gata\n",
      "Kunga-Amandas Gränd\n"
     ]
    },
    {
     "name": "stderr",
     "output_type": "stream",
     "text": [
      " 44%|████▍     | 2556/5788 [15:46<09:45,  5.52it/s]"
     ]
    },
    {
     "name": "stdout",
     "output_type": "stream",
     "text": [
      "Kungagårdsängen\n",
      "Kungsbackagatan\n",
      "Kungsfågelsgången\n"
     ]
    },
    {
     "name": "stderr",
     "output_type": "stream",
     "text": [
      " 44%|████▍     | 2558/5788 [15:46<07:15,  7.42it/s]"
     ]
    },
    {
     "name": "stdout",
     "output_type": "stream",
     "text": [
      "Kungsgatan\n"
     ]
    },
    {
     "name": "stderr",
     "output_type": "stream",
     "text": [
      " 44%|████▍     | 2559/5788 [15:48<32:14,  1.67it/s]"
     ]
    },
    {
     "name": "stdout",
     "output_type": "stream",
     "text": [
      "Kungshamnsgatan\n",
      "Kungshöjdsgatan\n",
      "Kungsladugårdsgatan\n"
     ]
    },
    {
     "name": "stderr",
     "output_type": "stream",
     "text": [
      " 44%|████▍     | 2562/5788 [15:55<1:32:54,  1.73s/it]"
     ]
    },
    {
     "name": "stdout",
     "output_type": "stream",
     "text": [
      "Kungsljusgatan\n",
      "Kungspassagen\n",
      "Kungsportsavenyen\n"
     ]
    },
    {
     "name": "stderr",
     "output_type": "stream",
     "text": [
      " 44%|████▍     | 2566/5788 [15:59<1:08:39,  1.28s/it]"
     ]
    },
    {
     "name": "stdout",
     "output_type": "stream",
     "text": [
      "Kungsportsbron\n",
      "Kungsportsplatsen\n"
     ]
    },
    {
     "name": "stderr",
     "output_type": "stream",
     "text": [
      " 44%|████▍     | 2568/5788 [16:00<46:05,  1.16it/s]  "
     ]
    },
    {
     "name": "stdout",
     "output_type": "stream",
     "text": [
      "Kungsstensmotet\n",
      "Kungstorget\n"
     ]
    },
    {
     "name": "stderr",
     "output_type": "stream",
     "text": [
      " 44%|████▍     | 2569/5788 [16:00<39:10,  1.37it/s]"
     ]
    },
    {
     "name": "stdout",
     "output_type": "stream",
     "text": [
      "Kungälvsgatan\n"
     ]
    },
    {
     "name": "stderr",
     "output_type": "stream",
     "text": [
      " 44%|████▍     | 2571/5788 [16:01<25:57,  2.06it/s]"
     ]
    },
    {
     "name": "stdout",
     "output_type": "stream",
     "text": [
      "Kunskapsgatan\n",
      "Kupeskärsgatan\n"
     ]
    },
    {
     "name": "stderr",
     "output_type": "stream",
     "text": [
      " 44%|████▍     | 2574/5788 [16:01<13:33,  3.95it/s]"
     ]
    },
    {
     "name": "stdout",
     "output_type": "stream",
     "text": [
      "Kuskens gata\n",
      "Kustfyrsvägen\n",
      "Kustgatan\n"
     ]
    },
    {
     "name": "stderr",
     "output_type": "stream",
     "text": [
      " 45%|████▍     | 2576/5788 [16:02<16:43,  3.20it/s]"
     ]
    },
    {
     "name": "stdout",
     "output_type": "stream",
     "text": [
      "Kustroddaregatan\n",
      "Kusttorget\n",
      "Kustvaktsgatan\n",
      "Kuttergatan\n"
     ]
    },
    {
     "name": "stderr",
     "output_type": "stream",
     "text": [
      " 45%|████▍     | 2579/5788 [16:02<09:14,  5.79it/s]"
     ]
    },
    {
     "name": "stdout",
     "output_type": "stream",
     "text": [
      "Kutterspånsgatan\n",
      "Kvadrantgatan\n"
     ]
    },
    {
     "name": "stderr",
     "output_type": "stream",
     "text": [
      " 45%|████▍     | 2582/5788 [16:02<08:54,  5.99it/s]"
     ]
    },
    {
     "name": "stdout",
     "output_type": "stream",
     "text": [
      "Kvarnbacken\n",
      "Kvarnbergsgatan\n"
     ]
    },
    {
     "name": "stderr",
     "output_type": "stream",
     "text": [
      " 45%|████▍     | 2586/5788 [16:03<06:26,  8.29it/s]"
     ]
    },
    {
     "name": "stdout",
     "output_type": "stream",
     "text": [
      "Kvarnebäcksvägen\n",
      "Kvarnevigatan\n",
      "Kvarnfallsvägen\n",
      "Kvarngärdesgatan\n"
     ]
    },
    {
     "name": "stderr",
     "output_type": "stream",
     "text": [
      " 45%|████▍     | 2588/5788 [16:03<05:23,  9.88it/s]"
     ]
    },
    {
     "name": "stdout",
     "output_type": "stream",
     "text": [
      "Kvarnhagen\n",
      "Kvarnhålegatan\n",
      "Kvarnkullevägen\n"
     ]
    },
    {
     "name": "stderr",
     "output_type": "stream",
     "text": [
      " 45%|████▍     | 2590/5788 [16:03<06:00,  8.88it/s]"
     ]
    },
    {
     "name": "stdout",
     "output_type": "stream",
     "text": [
      "Kvarnliden\n",
      "Kvarnlyckan\n"
     ]
    },
    {
     "name": "stderr",
     "output_type": "stream",
     "text": [
      " 45%|████▍     | 2592/5788 [16:03<06:13,  8.57it/s]"
     ]
    },
    {
     "name": "stdout",
     "output_type": "stream",
     "text": [
      "Kvarnpiren\n",
      "Kvarnpirsgatan\n",
      "Kvartettgången\n"
     ]
    },
    {
     "name": "stderr",
     "output_type": "stream",
     "text": [
      " 45%|████▍     | 2597/5788 [16:04<05:24,  9.84it/s]"
     ]
    },
    {
     "name": "stdout",
     "output_type": "stream",
     "text": [
      "Kvartsekelsgatan\n",
      "Kvartsvägen\n",
      "Kvastpricksvägen\n"
     ]
    },
    {
     "name": "stderr",
     "output_type": "stream",
     "text": [
      " 45%|████▍     | 2599/5788 [16:05<09:06,  5.83it/s]"
     ]
    },
    {
     "name": "stdout",
     "output_type": "stream",
     "text": [
      "Kvibergs Broväg\n",
      "Kvibergs Bäckväg\n"
     ]
    },
    {
     "name": "stderr",
     "output_type": "stream",
     "text": [
      " 45%|████▍     | 2600/5788 [16:05<11:25,  4.65it/s]"
     ]
    },
    {
     "name": "stdout",
     "output_type": "stream",
     "text": [
      "Kvibergs Kyrkogårdsväg\n"
     ]
    },
    {
     "name": "stderr",
     "output_type": "stream",
     "text": [
      " 45%|████▍     | 2601/5788 [16:06<15:45,  3.37it/s]"
     ]
    },
    {
     "name": "stdout",
     "output_type": "stream",
     "text": [
      "Kvibergs Port\n"
     ]
    },
    {
     "name": "stderr",
     "output_type": "stream",
     "text": [
      " 45%|████▍     | 2604/5788 [16:08<23:05,  2.30it/s]"
     ]
    },
    {
     "name": "stdout",
     "output_type": "stream",
     "text": [
      "Kvibergs Stallgårdar\n",
      "Kvibergs Ås\n",
      "Kvibergsnäs Allé\n",
      "Kvibergsvägen\n"
     ]
    },
    {
     "name": "stderr",
     "output_type": "stream",
     "text": [
      " 45%|████▌     | 2606/5788 [16:12<55:34,  1.05s/it]"
     ]
    },
    {
     "name": "stdout",
     "output_type": "stream",
     "text": [
      "Kvickrotsvägen\n",
      "Kvillebergsås\n"
     ]
    },
    {
     "name": "stderr",
     "output_type": "stream",
     "text": [
      " 45%|████▌     | 2608/5788 [16:12<37:51,  1.40it/s]"
     ]
    },
    {
     "name": "stdout",
     "output_type": "stream",
     "text": [
      "Kvillebäcksplatsen\n",
      "Kvillebäcksvägen\n"
     ]
    },
    {
     "name": "stderr",
     "output_type": "stream",
     "text": [
      " 45%|████▌     | 2610/5788 [16:13<30:51,  1.72it/s]"
     ]
    },
    {
     "name": "stdout",
     "output_type": "stream",
     "text": [
      "Kvilledalsvägen\n",
      "Kvillegatan\n"
     ]
    },
    {
     "name": "stderr",
     "output_type": "stream",
     "text": [
      " 45%|████▌     | 2612/5788 [16:13<24:19,  2.18it/s]"
     ]
    },
    {
     "name": "stdout",
     "output_type": "stream",
     "text": [
      "Kvilleheds Bergegård\n",
      "Kvilleheds Skattegård\n",
      "Kvillehedsvägen\n"
     ]
    },
    {
     "name": "stderr",
     "output_type": "stream",
     "text": [
      " 45%|████▌     | 2616/5788 [16:14<14:06,  3.75it/s]"
     ]
    },
    {
     "name": "stdout",
     "output_type": "stream",
     "text": [
      "Kvillepiren\n",
      "Kvillestråket\n"
     ]
    },
    {
     "name": "stderr",
     "output_type": "stream",
     "text": [
      " 45%|████▌     | 2617/5788 [16:14<15:49,  3.34it/s]"
     ]
    },
    {
     "name": "stdout",
     "output_type": "stream",
     "text": [
      "Kvilletorget\n",
      "Kvintettgången\n"
     ]
    },
    {
     "name": "stderr",
     "output_type": "stream",
     "text": [
      " 45%|████▌     | 2620/5788 [16:15<13:34,  3.89it/s]"
     ]
    },
    {
     "name": "stdout",
     "output_type": "stream",
     "text": [
      "Kvisljungeby\n",
      "Kvisljungeby Kronogård\n"
     ]
    },
    {
     "name": "stderr",
     "output_type": "stream",
     "text": [
      " 45%|████▌     | 2622/5788 [16:15<10:16,  5.13it/s]"
     ]
    },
    {
     "name": "stdout",
     "output_type": "stream",
     "text": [
      "Kvistvägen\n",
      "Kyndelsmässogatan\n",
      "Kyrkbygatan\n",
      "Kyrkbytorget\n"
     ]
    },
    {
     "name": "stderr",
     "output_type": "stream",
     "text": [
      " 45%|████▌     | 2627/5788 [16:15<06:14,  8.43it/s]"
     ]
    },
    {
     "name": "stdout",
     "output_type": "stream",
     "text": [
      "Kyrkebacken\n",
      "Kyrkeby Norgård\n",
      "Kyrkliden\n",
      "Kyrkogatan\n"
     ]
    },
    {
     "name": "stderr",
     "output_type": "stream",
     "text": [
      " 45%|████▌     | 2633/5788 [16:15<03:33, 14.75it/s]"
     ]
    },
    {
     "name": "stdout",
     "output_type": "stream",
     "text": [
      "Kyrkstigen\n",
      "Kyrkvärdsvägen\n",
      "Kyrkåsen\n",
      "Kyrkåsgatan\n",
      "Kyrkåsplatsen\n",
      "Källarbanken\n"
     ]
    },
    {
     "name": "stderr",
     "output_type": "stream",
     "text": [
      " 46%|████▌     | 2638/5788 [16:16<03:34, 14.70it/s]"
     ]
    },
    {
     "name": "stdout",
     "output_type": "stream",
     "text": [
      "Källaregården\n",
      "Källdammsvägen\n",
      "Källebergsvägen\n",
      "Källegårdsvägen\n"
     ]
    },
    {
     "name": "stderr",
     "output_type": "stream",
     "text": [
      " 46%|████▌     | 2640/5788 [16:16<04:11, 12.53it/s]"
     ]
    },
    {
     "name": "stdout",
     "output_type": "stream",
     "text": [
      "Källehöjdsgatan\n",
      "Källhusgatan\n"
     ]
    },
    {
     "name": "stderr",
     "output_type": "stream",
     "text": [
      " 46%|████▌     | 2642/5788 [16:16<04:22, 11.97it/s]"
     ]
    },
    {
     "name": "stdout",
     "output_type": "stream",
     "text": [
      "Källsprångsgatan\n",
      "Källsprångsstigen\n",
      "Källviksvägen\n"
     ]
    },
    {
     "name": "stderr",
     "output_type": "stream",
     "text": [
      " 46%|████▌     | 2644/5788 [16:16<05:39,  9.27it/s]"
     ]
    },
    {
     "name": "stdout",
     "output_type": "stream",
     "text": [
      "Källängsgatan\n"
     ]
    },
    {
     "name": "stderr",
     "output_type": "stream",
     "text": [
      " 46%|████▌     | 2646/5788 [16:17<07:53,  6.64it/s]"
     ]
    },
    {
     "name": "stdout",
     "output_type": "stream",
     "text": [
      "Källöfjordsgatan\n",
      "Kämpebron\n",
      "Kämpegatan\n"
     ]
    },
    {
     "name": "stderr",
     "output_type": "stream",
     "text": [
      " 46%|████▌     | 2650/5788 [16:18<11:02,  4.74it/s]"
     ]
    },
    {
     "name": "stdout",
     "output_type": "stream",
     "text": [
      "Käppslängareliden\n",
      "Käringbergsgatan\n",
      "Käringetorp\n",
      "Kärnvedsgatan\n",
      "Kärra Kapellväg\n"
     ]
    },
    {
     "name": "stderr",
     "output_type": "stream",
     "text": [
      " 46%|████▌     | 2653/5788 [16:18<08:14,  6.34it/s]"
     ]
    },
    {
     "name": "stdout",
     "output_type": "stream",
     "text": [
      "Kärragången\n",
      "Kärralundsgatan\n"
     ]
    },
    {
     "name": "stderr",
     "output_type": "stream",
     "text": [
      " 46%|████▌     | 2656/5788 [16:23<33:42,  1.55it/s]"
     ]
    },
    {
     "name": "stdout",
     "output_type": "stream",
     "text": [
      "Kärravinkeln\n",
      "Kärravägen\n"
     ]
    },
    {
     "name": "stderr",
     "output_type": "stream",
     "text": [
      " 46%|████▌     | 2657/5788 [16:27<59:35,  1.14s/it]"
     ]
    },
    {
     "name": "stdout",
     "output_type": "stream",
     "text": [
      "Kärrdalsvägen\n"
     ]
    },
    {
     "name": "stderr",
     "output_type": "stream",
     "text": [
      " 46%|████▌     | 2658/5788 [16:27<53:45,  1.03s/it]"
     ]
    },
    {
     "name": "stdout",
     "output_type": "stream",
     "text": [
      "Kärrfibblestigen\n"
     ]
    },
    {
     "name": "stderr",
     "output_type": "stream",
     "text": [
      " 46%|████▌     | 2659/5788 [16:28<45:51,  1.14it/s]"
     ]
    },
    {
     "name": "stdout",
     "output_type": "stream",
     "text": [
      "Kärrhöksgatan\n"
     ]
    },
    {
     "name": "stderr",
     "output_type": "stream",
     "text": [
      " 46%|████▌     | 2660/5788 [16:28<37:52,  1.38it/s]"
     ]
    },
    {
     "name": "stdout",
     "output_type": "stream",
     "text": [
      "Kärrlyckegatan\n"
     ]
    },
    {
     "name": "stderr",
     "output_type": "stream",
     "text": [
      " 46%|████▌     | 2661/5788 [16:28<32:24,  1.61it/s]"
     ]
    },
    {
     "name": "stdout",
     "output_type": "stream",
     "text": [
      "Kärrlyckestigen\n",
      "Kärrs Backe\n",
      "Kärrs Byväg\n",
      "Kärrs hage\n",
      "Kärrs Ängar\n"
     ]
    },
    {
     "name": "stderr",
     "output_type": "stream",
     "text": [
      " 46%|████▌     | 2666/5788 [16:28<13:07,  3.96it/s]"
     ]
    },
    {
     "name": "stdout",
     "output_type": "stream",
     "text": [
      "Kärrsgårdsgatan\n",
      "Kärrskroken\n"
     ]
    },
    {
     "name": "stderr",
     "output_type": "stream",
     "text": [
      " 46%|████▌     | 2669/5788 [16:29<11:18,  4.59it/s]"
     ]
    },
    {
     "name": "stdout",
     "output_type": "stream",
     "text": [
      "Kärrsmossegatan\n",
      "Kärrsmossen\n"
     ]
    },
    {
     "name": "stderr",
     "output_type": "stream",
     "text": [
      " 46%|████▌     | 2672/5788 [16:29<07:52,  6.60it/s]"
     ]
    },
    {
     "name": "stdout",
     "output_type": "stream",
     "text": [
      "Kålgården\n",
      "Kålgårdsgatan\n",
      "Kålhagen\n",
      "Kålltorpsgatan\n"
     ]
    },
    {
     "name": "stderr",
     "output_type": "stream",
     "text": [
      " 46%|████▌     | 2674/5788 [16:30<10:43,  4.84it/s]"
     ]
    },
    {
     "name": "stdout",
     "output_type": "stream",
     "text": [
      "Kålsereds Byväg\n",
      "Kålseredsslingan\n",
      "Kålseredsvägen\n",
      "Kålsängegatan\n"
     ]
    },
    {
     "name": "stderr",
     "output_type": "stream",
     "text": [
      " 46%|████▋     | 2678/5788 [16:30<08:59,  5.76it/s]"
     ]
    },
    {
     "name": "stdout",
     "output_type": "stream",
     "text": [
      "Kårebogatan\n",
      "Kåserigatan\n"
     ]
    },
    {
     "name": "stderr",
     "output_type": "stream",
     "text": [
      " 46%|████▋     | 2680/5788 [16:31<10:13,  5.06it/s]"
     ]
    },
    {
     "name": "stdout",
     "output_type": "stream",
     "text": [
      "Köldgatan\n"
     ]
    },
    {
     "name": "stderr",
     "output_type": "stream",
     "text": [
      " 46%|████▋     | 2682/5788 [16:31<09:46,  5.30it/s]"
     ]
    },
    {
     "name": "stdout",
     "output_type": "stream",
     "text": [
      "Kölnåsgatan\n",
      "Kölsträckningen\n",
      "Kölvägen\n"
     ]
    },
    {
     "name": "stderr",
     "output_type": "stream",
     "text": [
      " 46%|████▋     | 2685/5788 [16:32<07:42,  6.71it/s]"
     ]
    },
    {
     "name": "stdout",
     "output_type": "stream",
     "text": [
      "Köpenhamnsgatan\n",
      "Köpingsgatan\n"
     ]
    },
    {
     "name": "stderr",
     "output_type": "stream",
     "text": [
      " 46%|████▋     | 2687/5788 [16:32<08:57,  5.77it/s]"
     ]
    },
    {
     "name": "stdout",
     "output_type": "stream",
     "text": [
      "Köpmansgatan\n",
      "Körkarlens gata\n",
      "Körsbärsvägen\n"
     ]
    },
    {
     "name": "stderr",
     "output_type": "stream",
     "text": [
      " 46%|████▋     | 2689/5788 [16:32<07:15,  7.12it/s]"
     ]
    },
    {
     "name": "stdout",
     "output_type": "stream",
     "text": [
      "Körsångsgången\n"
     ]
    },
    {
     "name": "stderr",
     "output_type": "stream",
     "text": [
      " 47%|████▋     | 2693/5788 [16:33<09:04,  5.68it/s]"
     ]
    },
    {
     "name": "stdout",
     "output_type": "stream",
     "text": [
      "Körvelgatan\n",
      "LX-Port\n",
      "Labbgången\n",
      "Labodal\n"
     ]
    },
    {
     "name": "stderr",
     "output_type": "stream",
     "text": [
      " 47%|████▋     | 2695/5788 [16:34<11:14,  4.58it/s]"
     ]
    },
    {
     "name": "stdout",
     "output_type": "stream",
     "text": [
      "Laboratoriegatan\n",
      "Ladugårdsvägen\n"
     ]
    },
    {
     "name": "stderr",
     "output_type": "stream",
     "text": [
      " 47%|████▋     | 2697/5788 [16:34<09:54,  5.20it/s]"
     ]
    },
    {
     "name": "stdout",
     "output_type": "stream",
     "text": [
      "Lafingatan\n",
      "Lagerbladsgatan\n"
     ]
    },
    {
     "name": "stderr",
     "output_type": "stream",
     "text": [
      " 47%|████▋     | 2698/5788 [16:34<09:38,  5.34it/s]"
     ]
    },
    {
     "name": "stdout",
     "output_type": "stream",
     "text": [
      "Lagerbringsgatan\n",
      "Lagerströmsplatsen\n"
     ]
    },
    {
     "name": "stderr",
     "output_type": "stream",
     "text": [
      " 47%|████▋     | 2700/5788 [16:35<09:11,  5.60it/s]"
     ]
    },
    {
     "name": "stdout",
     "output_type": "stream",
     "text": [
      "Laggvägen\n",
      "Laghamragatan\n",
      "Lagmansgatan\n"
     ]
    },
    {
     "name": "stderr",
     "output_type": "stream",
     "text": [
      " 47%|████▋     | 2705/5788 [16:35<06:08,  8.37it/s]"
     ]
    },
    {
     "name": "stdout",
     "output_type": "stream",
     "text": [
      "Laholmsgatan\n",
      "Lakegatan\n",
      "Lambergsgatan\n",
      "Lammelyckan\n"
     ]
    },
    {
     "name": "stderr",
     "output_type": "stream",
     "text": [
      " 47%|████▋     | 2707/5788 [16:35<05:06, 10.07it/s]"
     ]
    },
    {
     "name": "stdout",
     "output_type": "stream",
     "text": [
      "Lamparnavägen\n",
      "Landalabergen\n"
     ]
    },
    {
     "name": "stderr",
     "output_type": "stream",
     "text": [
      " 47%|████▋     | 2711/5788 [16:37<15:29,  3.31it/s]"
     ]
    },
    {
     "name": "stdout",
     "output_type": "stream",
     "text": [
      "Landalagatan\n",
      "Landalagången\n",
      "Landamäresgatan\n",
      "Landbovägen\n"
     ]
    },
    {
     "name": "stderr",
     "output_type": "stream",
     "text": [
      " 47%|████▋     | 2714/5788 [16:38<16:01,  3.20it/s]"
     ]
    },
    {
     "name": "stdout",
     "output_type": "stream",
     "text": [
      "Landerigatan\n",
      "Landhöjningsvägen\n"
     ]
    },
    {
     "name": "stderr",
     "output_type": "stream",
     "text": [
      " 47%|████▋     | 2716/5788 [16:39<12:40,  4.04it/s]"
     ]
    },
    {
     "name": "stdout",
     "output_type": "stream",
     "text": [
      "Landskapsstugevägen\n",
      "Landstormsgatan\n"
     ]
    },
    {
     "name": "stderr",
     "output_type": "stream",
     "text": [
      " 47%|████▋     | 2718/5788 [16:39<11:00,  4.65it/s]"
     ]
    },
    {
     "name": "stdout",
     "output_type": "stream",
     "text": [
      "Landsvägsgatan\n",
      "Lanternavägen\n"
     ]
    },
    {
     "name": "stderr",
     "output_type": "stream",
     "text": [
      " 47%|████▋     | 2719/5788 [16:39<13:58,  3.66it/s]"
     ]
    },
    {
     "name": "stdout",
     "output_type": "stream",
     "text": [
      "Lantmannagatan\n"
     ]
    },
    {
     "name": "stderr",
     "output_type": "stream",
     "text": [
      " 47%|████▋     | 2720/5788 [16:41<32:21,  1.58it/s]"
     ]
    },
    {
     "name": "stdout",
     "output_type": "stream",
     "text": [
      "Lantmilsgatan\n",
      "Lantmätaregatan\n",
      "Lantvärnsgatan\n"
     ]
    },
    {
     "name": "stderr",
     "output_type": "stream",
     "text": [
      " 47%|████▋     | 2723/5788 [16:41<17:29,  2.92it/s]"
     ]
    },
    {
     "name": "stdout",
     "output_type": "stream",
     "text": [
      "Lanåsvägen\n",
      "Lapparns väg\n",
      "Lars Israel Wahlmans väg\n",
      "Lars Kaggsgatan\n"
     ]
    },
    {
     "name": "stderr",
     "output_type": "stream",
     "text": [
      " 47%|████▋     | 2729/5788 [16:42<08:18,  6.13it/s]"
     ]
    },
    {
     "name": "stdout",
     "output_type": "stream",
     "text": [
      "Larsereds Lyckor\n",
      "Larsereds mosse\n",
      "Larseredsdalen\n"
     ]
    },
    {
     "name": "stderr",
     "output_type": "stream",
     "text": [
      " 47%|████▋     | 2731/5788 [16:42<07:17,  6.99it/s]"
     ]
    },
    {
     "name": "stdout",
     "output_type": "stream",
     "text": [
      "Larseredsvägen\n",
      "Lasarettsgatan\n"
     ]
    },
    {
     "name": "stderr",
     "output_type": "stream",
     "text": [
      " 47%|████▋     | 2732/5788 [16:42<08:47,  5.80it/s]"
     ]
    },
    {
     "name": "stdout",
     "output_type": "stream",
     "text": [
      "Lasse Dahlquists Plats\n"
     ]
    },
    {
     "name": "stderr",
     "output_type": "stream",
     "text": [
      " 47%|████▋     | 2737/5788 [16:43<07:39,  6.64it/s]"
     ]
    },
    {
     "name": "stdout",
     "output_type": "stream",
     "text": [
      "Lassegården\n",
      "Lassegårdsvägen\n",
      "Lastrumsgatan\n",
      "Latitudvägen\n",
      "Lavendelgången\n"
     ]
    },
    {
     "name": "stderr",
     "output_type": "stream",
     "text": [
      " 47%|████▋     | 2739/5788 [16:43<06:20,  8.02it/s]"
     ]
    },
    {
     "name": "stdout",
     "output_type": "stream",
     "text": [
      "Lavettgatan\n",
      "Laxgatan\n",
      "Ledetstigen\n"
     ]
    },
    {
     "name": "stderr",
     "output_type": "stream",
     "text": [
      " 47%|████▋     | 2743/5788 [16:44<04:40, 10.87it/s]"
     ]
    },
    {
     "name": "stdout",
     "output_type": "stream",
     "text": [
      "Ledfyrsvägen\n",
      "Lefflersgatan\n",
      "Legendgatan\n"
     ]
    },
    {
     "name": "stderr",
     "output_type": "stream",
     "text": [
      " 47%|████▋     | 2745/5788 [16:44<05:31,  9.17it/s]"
     ]
    },
    {
     "name": "stdout",
     "output_type": "stream",
     "text": [
      "Leijonsparres väg\n",
      "Lejdaregatan\n"
     ]
    },
    {
     "name": "stderr",
     "output_type": "stream",
     "text": [
      " 47%|████▋     | 2747/5788 [16:44<04:42, 10.78it/s]"
     ]
    },
    {
     "name": "stdout",
     "output_type": "stream",
     "text": [
      "Lejontrappan\n",
      "Lekevallen\n",
      "Lekullevägen\n"
     ]
    },
    {
     "name": "stderr",
     "output_type": "stream",
     "text": [
      " 48%|████▊     | 2751/5788 [16:45<06:38,  7.62it/s]"
     ]
    },
    {
     "name": "stdout",
     "output_type": "stream",
     "text": [
      "Lekvägen\n",
      "Lemansgatan\n",
      "Lemmingsgatan\n"
     ]
    },
    {
     "name": "stderr",
     "output_type": "stream",
     "text": [
      " 48%|████▊     | 2753/5788 [16:45<06:26,  7.84it/s]"
     ]
    },
    {
     "name": "stdout",
     "output_type": "stream",
     "text": [
      "Lennart Svegelius väg\n",
      "Lennart Torstenssonsgatan\n",
      "Lenvädersgatan\n"
     ]
    },
    {
     "name": "stderr",
     "output_type": "stream",
     "text": [
      " 48%|████▊     | 2758/5788 [16:45<04:20, 11.64it/s]"
     ]
    },
    {
     "name": "stdout",
     "output_type": "stream",
     "text": [
      "Lerbäcksbacken\n",
      "Lerbäcksgläntan\n",
      "Lerbäcksgården\n",
      "Lerbäckskullen\n",
      "Lerbäcksterrassen\n",
      "Lerbäcksvägen\n"
     ]
    },
    {
     "name": "stderr",
     "output_type": "stream",
     "text": [
      " 48%|████▊     | 2763/5788 [16:46<04:02, 12.49it/s]"
     ]
    },
    {
     "name": "stdout",
     "output_type": "stream",
     "text": [
      "Lerbäcksängen\n",
      "Lerduveslingan\n",
      "Lerduvevägen\n",
      "Lergodsgatan\n"
     ]
    },
    {
     "name": "stderr",
     "output_type": "stream",
     "text": [
      " 48%|████▊     | 2765/5788 [16:46<04:03, 12.39it/s]"
     ]
    },
    {
     "name": "stdout",
     "output_type": "stream",
     "text": [
      "Lergöksgatan\n"
     ]
    },
    {
     "name": "stderr",
     "output_type": "stream",
     "text": [
      " 48%|████▊     | 2767/5788 [16:53<53:42,  1.07s/it]"
     ]
    },
    {
     "name": "stdout",
     "output_type": "stream",
     "text": [
      "Lerlyckegatan\n",
      "Lerskäddegatan\n",
      "Lerumsvägen\n"
     ]
    },
    {
     "name": "stderr",
     "output_type": "stream",
     "text": [
      " 48%|████▊     | 2769/5788 [16:56<58:42,  1.17s/it]"
     ]
    },
    {
     "name": "stdout",
     "output_type": "stream",
     "text": [
      "Leråkersmotet\n"
     ]
    },
    {
     "name": "stderr",
     "output_type": "stream",
     "text": [
      " 48%|████▊     | 2770/5788 [16:57<52:50,  1.05s/it]"
     ]
    },
    {
     "name": "stdout",
     "output_type": "stream",
     "text": [
      "Lesikavägen\n"
     ]
    },
    {
     "name": "stderr",
     "output_type": "stream",
     "text": [
      " 48%|████▊     | 2771/5788 [16:58<59:34,  1.18s/it]"
     ]
    },
    {
     "name": "stdout",
     "output_type": "stream",
     "text": [
      "Letsegårdsstigen\n",
      "Letsegårdsvägen\n"
     ]
    },
    {
     "name": "stderr",
     "output_type": "stream",
     "text": [
      " 48%|████▊     | 2773/5788 [17:20<3:53:30,  4.65s/it]"
     ]
    },
    {
     "name": "stdout",
     "output_type": "stream",
     "text": [
      "Letsegårdsängen\n",
      "Leveransvägen\n",
      "Levgrensvägen\n",
      "Lexby Bergegård\n"
     ]
    },
    {
     "name": "stderr",
     "output_type": "stream",
     "text": [
      " 48%|████▊     | 2783/5788 [17:20<55:10,  1.10s/it]  "
     ]
    },
    {
     "name": "stdout",
     "output_type": "stream",
     "text": [
      "Lexby Lund\n",
      "Lexby Odlareväg\n",
      "Lexby Skogsväg\n",
      "Lexby Västergård\n",
      "Lexby Östergård\n",
      "Lia\n",
      "Libbstickegatan\n",
      "Liberagatan\n",
      "Liden\n",
      "Liedbergsgatan\n"
     ]
    },
    {
     "name": "stderr",
     "output_type": "stream",
     "text": [
      " 48%|████▊     | 2791/5788 [17:21<26:08,  1.91it/s]"
     ]
    },
    {
     "name": "stdout",
     "output_type": "stream",
     "text": [
      "Liedstrandsgatan\n",
      "Liegatan\n",
      "Ligustervägen\n",
      "Ligårdsgången\n",
      "Ligårdslyckan\n",
      "Ligårdsvägen\n",
      "Lilians väg\n",
      "Liljeforsgatan\n",
      "Liljegången\n",
      "Liljekonvaljen\n"
     ]
    },
    {
     "name": "stderr",
     "output_type": "stream",
     "text": [
      " 48%|████▊     | 2803/5788 [17:21<10:29,  4.74it/s]"
     ]
    },
    {
     "name": "stdout",
     "output_type": "stream",
     "text": [
      "Lill-Edvards väg\n",
      "Lilla Arendalsvägen\n",
      "Lilla Arödsgatan\n",
      "Lilla Askimsvägen\n",
      "Lilla Badhusgatan\n",
      "Lilla Badviksvägen\n",
      "Lilla Bergkullavägen\n",
      "Lilla Bergsgatan\n",
      "Lilla Björlandavägen\n"
     ]
    },
    {
     "name": "stderr",
     "output_type": "stream",
     "text": [
      " 48%|████▊     | 2807/5788 [17:21<08:11,  6.07it/s]"
     ]
    },
    {
     "name": "stdout",
     "output_type": "stream",
     "text": [
      "Lilla Björn\n",
      "Lilla Björsaredsvägen\n",
      "Lilla Blomplatsen\n",
      "Lilla Blomstigen\n",
      "Lilla Bolstensvägen\n",
      "Lilla Bommen\n"
     ]
    },
    {
     "name": "stderr",
     "output_type": "stream",
     "text": [
      " 49%|████▊     | 2816/5788 [17:21<04:51, 10.21it/s]"
     ]
    },
    {
     "name": "stdout",
     "output_type": "stream",
     "text": [
      "Lilla Bommens Torg\n",
      "Lilla Bottnevägen\n",
      "Lilla Brandmansgatan\n",
      "Lilla Brinkvägen\n",
      "Lilla Brunnehagsvägen\n",
      "Lilla Brännekullavägen\n",
      "Lilla Bulyckevägen\n",
      "Lilla Bällskärsgatan\n"
     ]
    },
    {
     "name": "stderr",
     "output_type": "stream",
     "text": [
      " 49%|████▉     | 2824/5788 [17:22<03:12, 15.39it/s]"
     ]
    },
    {
     "name": "stdout",
     "output_type": "stream",
     "text": [
      "Lilla Bärbyvägen\n",
      "Lilla Cedergatan\n",
      "Lilla Dalavägen\n",
      "Lilla Dammpromenaden\n",
      "Lilla Danska Vägen\n"
     ]
    },
    {
     "name": "stderr",
     "output_type": "stream",
     "text": [
      " 49%|████▉     | 2828/5788 [17:22<02:57, 16.67it/s]"
     ]
    },
    {
     "name": "stdout",
     "output_type": "stream",
     "text": [
      "Lilla Drottninggatan\n",
      "Lilla Dödskallebacken\n",
      "Lilla Ekebacken\n",
      "Lilla Ekehöjdsgatan\n",
      "Lilla Ellesbovägen\n",
      "Lilla Fjäderharvsgatan\n",
      "Lilla Framnäsgatan\n"
     ]
    },
    {
     "name": "stderr",
     "output_type": "stream",
     "text": [
      " 49%|████▉     | 2836/5788 [17:22<02:23, 20.58it/s]"
     ]
    },
    {
     "name": "stdout",
     "output_type": "stream",
     "text": [
      "Lilla Fridhemsgatan\n",
      "Lilla Fågleviksvägen\n",
      "Lilla Garverigatan\n",
      "Lilla Gerrebackavägen\n",
      "Lilla Glasmästaregatan\n",
      "Lilla Grevegårdsvägen\n"
     ]
    },
    {
     "name": "stderr",
     "output_type": "stream",
     "text": [
      " 49%|████▉     | 2842/5788 [17:22<02:27, 19.97it/s]"
     ]
    },
    {
     "name": "stdout",
     "output_type": "stream",
     "text": [
      "Lilla Grusåsvägen\n",
      "Lilla Hjuviksvägen\n",
      "Lilla Holmen\n",
      "Lilla Hovåsvägen\n",
      "Lilla Hällsviksvägen\n",
      "Lilla Hålskogsgatan\n"
     ]
    },
    {
     "name": "stderr",
     "output_type": "stream",
     "text": [
      " 49%|████▉     | 2850/5788 [17:23<02:02, 23.99it/s]"
     ]
    },
    {
     "name": "stdout",
     "output_type": "stream",
     "text": [
      "Lilla Högenvägen\n",
      "Lilla Hökegatan\n",
      "Lilla Idtjärnsgatan\n",
      "Lilla Ingebäcksvägen\n",
      "Lilla Kallhedsvägen\n",
      "Lilla Kapplandsgatan\n",
      "Lilla Karlagatan\n"
     ]
    },
    {
     "name": "stderr",
     "output_type": "stream",
     "text": [
      " 49%|████▉     | 2853/5788 [17:23<01:58, 24.72it/s]"
     ]
    },
    {
     "name": "stdout",
     "output_type": "stream",
     "text": [
      "Lilla Karlavagnsgatan\n",
      "Lilla Klädpressaregatan\n",
      "Lilla Kongahällavägen\n"
     ]
    },
    {
     "name": "stderr",
     "output_type": "stream",
     "text": [
      " 49%|████▉     | 2863/5788 [17:24<04:02, 12.06it/s]"
     ]
    },
    {
     "name": "stdout",
     "output_type": "stream",
     "text": [
      "Lilla Kornettgatan\n",
      "Lilla Korsgatan\n",
      "Lilla Korsåsgatan\n",
      "Lilla Krossholmsvägen\n",
      "Lilla Kungsgatan\n",
      "Lilla Kyrkogatan\n",
      "Lilla Kärralundsgatan\n",
      "Lilla Kålseredsvägen\n",
      "Lilla Lekullevägen\n",
      "Lilla Ljungskärsgatan\n",
      "Lilla Luftvärnsvägen\n",
      "Lilla Marconigatan\n",
      "Lilla Marieholmsgatan\n",
      "Lilla Mellanbergsvägen\n",
      "Lilla Montörsgatan\n"
     ]
    },
    {
     "name": "stderr",
     "output_type": "stream",
     "text": [
      " 50%|████▉     | 2868/5788 [17:24<03:06, 15.67it/s]"
     ]
    },
    {
     "name": "stdout",
     "output_type": "stream",
     "text": [
      "Lilla Mosstuvevägen\n",
      "Lilla Munkebäcksgatan\n"
     ]
    },
    {
     "name": "stderr",
     "output_type": "stream",
     "text": [
      " 50%|████▉     | 2872/5788 [17:25<04:30, 10.78it/s]"
     ]
    },
    {
     "name": "stdout",
     "output_type": "stream",
     "text": [
      "Lilla Myrekärrsvägen\n",
      "Lilla Mysternavägen\n",
      "Lilla Nordfjällsvägen\n",
      "Lilla Nygatan\n",
      "Lilla Olskroksgatan\n"
     ]
    },
    {
     "name": "stderr",
     "output_type": "stream",
     "text": [
      " 50%|████▉     | 2879/5788 [17:25<03:23, 14.29it/s]"
     ]
    },
    {
     "name": "stdout",
     "output_type": "stream",
     "text": [
      "Lilla Oxhagens väg\n",
      "Lilla Postegårdsgatan\n",
      "Lilla Pusterviksgatan\n",
      "Lilla Pölsans väg\n",
      "Lilla Regementsvägen\n"
     ]
    },
    {
     "name": "stderr",
     "output_type": "stream",
     "text": [
      " 50%|████▉     | 2888/5788 [17:27<04:55,  9.82it/s]"
     ]
    },
    {
     "name": "stdout",
     "output_type": "stream",
     "text": [
      "Lilla Risåsgatan\n",
      "Lilla Rivöfjordsgatan\n",
      "Lilla Räbbåsvägen\n",
      "Lilla Rödjans Gård\n",
      "Lilla Rödjans väg\n",
      "Lilla Sabbatsvägen\n",
      "Lilla Skintebovägen\n",
      "Lilla Skogsrydsgatan\n",
      "Lilla Skonertgatan\n",
      "Lilla Skändlavägen\n",
      "Lilla Solstrålegatan\n",
      "Lilla Solsätervägen\n",
      "Lilla Sparvgatan\n",
      "Lilla Stampgatan\n",
      "Lilla Stekens väg\n",
      "Lilla Sörredsvägen\n"
     ]
    },
    {
     "name": "stderr",
     "output_type": "stream",
     "text": [
      " 50%|█████     | 2898/5788 [17:27<02:47, 17.30it/s]"
     ]
    },
    {
     "name": "stdout",
     "output_type": "stream",
     "text": [
      "Lilla Terminalvägen\n",
      "Lilla Tolsereds väg\n",
      "Lilla Torget\n",
      "Lilla Torps Allé\n",
      "Lilla Torps Hage\n",
      "Lilla Torskogsbacken\n",
      "Lilla Trulsdal\n"
     ]
    },
    {
     "name": "stderr",
     "output_type": "stream",
     "text": [
      " 50%|█████     | 2907/5788 [17:27<02:15, 21.24it/s]"
     ]
    },
    {
     "name": "stdout",
     "output_type": "stream",
     "text": [
      "Lilla Trälåsvägen\n",
      "Lilla Tunnlandsgatan\n",
      "Lilla Tyrsjövägen\n",
      "Lilla Varholmen\n",
      "Lilla Vårvädersgatan\n",
      "Lilla Waterloogatan\n"
     ]
    },
    {
     "name": "stderr",
     "output_type": "stream",
     "text": [
      " 50%|█████     | 2915/5788 [17:28<02:31, 19.02it/s]"
     ]
    },
    {
     "name": "stdout",
     "output_type": "stream",
     "text": [
      "Lilla gatan\n",
      "Lilla inägogatan\n",
      "Lilla Älsjövägen\n",
      "Lilla Önneredsvägen\n",
      "Lillatorpsgatan\n",
      "Lillbacksgatan\n",
      "Lille-Johans Lycka\n",
      "Lilleby Badväg\n",
      "Lilleby Bäckedalsväg\n"
     ]
    },
    {
     "name": "stderr",
     "output_type": "stream",
     "text": [
      " 50%|█████     | 2922/5788 [17:28<02:37, 18.19it/s]"
     ]
    },
    {
     "name": "stdout",
     "output_type": "stream",
     "text": [
      "Lilleby Hamnväg\n",
      "Lilleby Höjd\n",
      "Lilleby Kronogård\n",
      "Lilleby Mellangård\n"
     ]
    },
    {
     "name": "stderr",
     "output_type": "stream",
     "text": [
      " 51%|█████     | 2927/5788 [17:28<02:12, 21.52it/s]"
     ]
    },
    {
     "name": "stdout",
     "output_type": "stream",
     "text": [
      "Lilleby Mystelid\n",
      "Lilleby Skolväg\n",
      "Lilleby Småängar\n",
      "Lilleby Sörgård\n",
      "Lilleby Ås\n",
      "Lillebydalen\n",
      "Lillebyvägen\n"
     ]
    },
    {
     "name": "stderr",
     "output_type": "stream",
     "text": [
      " 51%|█████     | 2930/5788 [17:36<29:21,  1.62it/s]"
     ]
    },
    {
     "name": "stdout",
     "output_type": "stream",
     "text": [
      "Lillegårdsvägen\n",
      "Lillekärr Norra\n"
     ]
    },
    {
     "name": "stderr",
     "output_type": "stream",
     "text": [
      " 51%|█████     | 2932/5788 [17:37<30:05,  1.58it/s]"
     ]
    },
    {
     "name": "stdout",
     "output_type": "stream",
     "text": [
      "Lillekärr Södra\n"
     ]
    },
    {
     "name": "stderr",
     "output_type": "stream",
     "text": [
      " 51%|█████     | 2934/5788 [17:40<40:10,  1.18it/s]"
     ]
    },
    {
     "name": "stdout",
     "output_type": "stream",
     "text": [
      "Lillekärrsgången\n",
      "Lilleråsvägen\n",
      "Lilleskogsvägen\n"
     ]
    },
    {
     "name": "stderr",
     "output_type": "stream",
     "text": [
      " 51%|█████     | 2936/5788 [17:41<31:38,  1.50it/s]"
     ]
    },
    {
     "name": "stdout",
     "output_type": "stream",
     "text": [
      "Lilletummeliden\n"
     ]
    },
    {
     "name": "stderr",
     "output_type": "stream",
     "text": [
      " 51%|█████     | 2938/5788 [17:41<26:07,  1.82it/s]"
     ]
    },
    {
     "name": "stdout",
     "output_type": "stream",
     "text": [
      "Lilletummens Backe\n",
      "Lilletummens väg\n"
     ]
    },
    {
     "name": "stderr",
     "output_type": "stream",
     "text": [
      " 51%|█████     | 2939/5788 [17:52<1:40:25,  2.11s/it]"
     ]
    },
    {
     "name": "stdout",
     "output_type": "stream",
     "text": [
      "Lillgårdens Gränd\n",
      "Lillhagens Sandlycka\n"
     ]
    },
    {
     "name": "stderr",
     "output_type": "stream",
     "text": [
      " 51%|█████     | 2941/5788 [17:52<1:12:13,  1.52s/it]"
     ]
    },
    {
     "name": "stdout",
     "output_type": "stream",
     "text": [
      "Lillhagsparken\n"
     ]
    },
    {
     "name": "stderr",
     "output_type": "stream",
     "text": [
      " 51%|█████     | 2942/5788 [17:53<1:09:17,  1.46s/it]"
     ]
    },
    {
     "name": "stdout",
     "output_type": "stream",
     "text": [
      "Lillhagsvinkeln\n"
     ]
    },
    {
     "name": "stderr",
     "output_type": "stream",
     "text": [
      " 51%|█████     | 2943/5788 [17:54<59:52,  1.26s/it]  "
     ]
    },
    {
     "name": "stdout",
     "output_type": "stream",
     "text": [
      "Lillhagsvägen\n"
     ]
    },
    {
     "name": "stderr",
     "output_type": "stream",
     "text": [
      " 51%|█████     | 2944/5788 [18:28<6:43:08,  8.51s/it]"
     ]
    },
    {
     "name": "stdout",
     "output_type": "stream",
     "text": [
      "Lilliegatan\n"
     ]
    },
    {
     "name": "stderr",
     "output_type": "stream",
     "text": [
      " 51%|█████     | 2946/5788 [18:28<3:52:32,  4.91s/it]"
     ]
    },
    {
     "name": "stdout",
     "output_type": "stream",
     "text": [
      "Lillkullegatan\n",
      "Lillängsgatan\n"
     ]
    },
    {
     "name": "stderr",
     "output_type": "stream",
     "text": [
      " 51%|█████     | 2947/5788 [18:29<3:03:42,  3.88s/it]"
     ]
    },
    {
     "name": "stdout",
     "output_type": "stream",
     "text": [
      "Lillåsgatan\n",
      "Lillövägen\n"
     ]
    },
    {
     "name": "stderr",
     "output_type": "stream",
     "text": [
      " 51%|█████     | 2950/5788 [18:32<1:42:19,  2.16s/it]"
     ]
    },
    {
     "name": "stdout",
     "output_type": "stream",
     "text": [
      "Limevägen\n",
      "Linas Lycka\n"
     ]
    },
    {
     "name": "stderr",
     "output_type": "stream",
     "text": [
      " 51%|█████     | 2952/5788 [18:32<1:02:50,  1.33s/it]"
     ]
    },
    {
     "name": "stdout",
     "output_type": "stream",
     "text": [
      "Lindebovägen\n",
      "Lindesnäsvägen\n",
      "Lindgatan\n"
     ]
    },
    {
     "name": "stderr",
     "output_type": "stream",
     "text": [
      " 51%|█████     | 2954/5788 [18:33<41:11,  1.15it/s]  "
     ]
    },
    {
     "name": "stdout",
     "output_type": "stream",
     "text": [
      "Lindgården\n"
     ]
    },
    {
     "name": "stderr",
     "output_type": "stream",
     "text": [
      " 51%|█████     | 2955/5788 [18:33<35:48,  1.32it/s]"
     ]
    },
    {
     "name": "stdout",
     "output_type": "stream",
     "text": [
      "Lindholmsallén\n"
     ]
    },
    {
     "name": "stderr",
     "output_type": "stream",
     "text": [
      " 51%|█████     | 2957/5788 [18:38<1:06:17,  1.40s/it]"
     ]
    },
    {
     "name": "stdout",
     "output_type": "stream",
     "text": [
      "Lindholmshamnen\n",
      "Lindholmspiren\n"
     ]
    },
    {
     "name": "stderr",
     "output_type": "stream",
     "text": [
      " 51%|█████     | 2959/5788 [18:39<44:06,  1.07it/s]  "
     ]
    },
    {
     "name": "stdout",
     "output_type": "stream",
     "text": [
      "Lindholmsplatsen\n",
      "Lindholmsvägen\n",
      "Lindhultsgatan\n"
     ]
    },
    {
     "name": "stderr",
     "output_type": "stream",
     "text": [
      " 51%|█████     | 2964/5788 [18:40<16:00,  2.94it/s]"
     ]
    },
    {
     "name": "stdout",
     "output_type": "stream",
     "text": [
      "Lindomevägen\n",
      "Lindrothsgatan\n",
      "Lindströmsgatan\n",
      "Lindåkravägen\n",
      "Lindåshedens Skogsväg\n",
      "Lindåsstråket\n"
     ]
    },
    {
     "name": "stderr",
     "output_type": "stream",
     "text": [
      " 51%|█████▏    | 2967/5788 [18:40<10:44,  4.38it/s]"
     ]
    },
    {
     "name": "stdout",
     "output_type": "stream",
     "text": [
      "Lindåsvägen\n",
      "Lingonvägen\n"
     ]
    },
    {
     "name": "stderr",
     "output_type": "stream",
     "text": [
      " 51%|█████▏    | 2969/5788 [18:40<09:36,  4.89it/s]"
     ]
    },
    {
     "name": "stdout",
     "output_type": "stream",
     "text": [
      "Linjespringarens väg\n"
     ]
    },
    {
     "name": "stderr",
     "output_type": "stream",
     "text": [
      " 51%|█████▏    | 2971/5788 [18:41<13:47,  3.40it/s]"
     ]
    },
    {
     "name": "stdout",
     "output_type": "stream",
     "text": [
      "Linnarhultsvägen\n",
      "Linnefjället\n",
      "Linnefjällsliden\n"
     ]
    },
    {
     "name": "stderr",
     "output_type": "stream",
     "text": [
      " 51%|█████▏    | 2973/5788 [18:41<09:43,  4.82it/s]"
     ]
    },
    {
     "name": "stdout",
     "output_type": "stream",
     "text": [
      "Linnefjällsvägen\n",
      "Linnégatan\n"
     ]
    },
    {
     "name": "stderr",
     "output_type": "stream",
     "text": [
      " 51%|█████▏    | 2975/5788 [18:49<1:02:11,  1.33s/it]"
     ]
    },
    {
     "name": "stdout",
     "output_type": "stream",
     "text": [
      "Linnéplatsen\n"
     ]
    },
    {
     "name": "stderr",
     "output_type": "stream",
     "text": [
      " 51%|█████▏    | 2978/5788 [18:50<39:31,  1.18it/s]  "
     ]
    },
    {
     "name": "stdout",
     "output_type": "stream",
     "text": [
      "Linåkersgatan\n",
      "Lisa Sass gata\n",
      "Lisebergsbron\n",
      "Lisebergsgatan\n"
     ]
    },
    {
     "name": "stderr",
     "output_type": "stream",
     "text": [
      " 51%|█████▏    | 2980/5788 [18:50<27:01,  1.73it/s]"
     ]
    },
    {
     "name": "stdout",
     "output_type": "stream",
     "text": [
      "Litteraturgatan\n"
     ]
    },
    {
     "name": "stderr",
     "output_type": "stream",
     "text": [
      " 52%|█████▏    | 2985/5788 [19:16<2:03:36,  2.65s/it]"
     ]
    },
    {
     "name": "stdout",
     "output_type": "stream",
     "text": [
      "Livasgården\n",
      "Livbåtsgatan\n",
      "Ljungbackegatan\n",
      "Ljungdalsgatan\n",
      "Ljunggatan\n"
     ]
    },
    {
     "name": "stderr",
     "output_type": "stream",
     "text": [
      " 52%|█████▏    | 2987/5788 [19:16<1:31:33,  1.96s/it]"
     ]
    },
    {
     "name": "stdout",
     "output_type": "stream",
     "text": [
      "Ljungliden\n",
      "Ljungslättsgatan\n"
     ]
    },
    {
     "name": "stderr",
     "output_type": "stream",
     "text": [
      " 52%|█████▏    | 2989/5788 [19:17<1:08:21,  1.47s/it]"
     ]
    },
    {
     "name": "stdout",
     "output_type": "stream",
     "text": [
      "Ljungängsbacken\n",
      "Ljusstöparegatan\n",
      "Ljusårsvägen\n"
     ]
    },
    {
     "name": "stderr",
     "output_type": "stream",
     "text": [
      " 52%|█████▏    | 2994/5788 [19:25<1:05:00,  1.40s/it]"
     ]
    },
    {
     "name": "stdout",
     "output_type": "stream",
     "text": [
      "Lobeliagången\n",
      "Lodjursstråket\n",
      "Loftvägen\n",
      "Logatan\n"
     ]
    },
    {
     "name": "stderr",
     "output_type": "stream",
     "text": [
      " 52%|█████▏    | 2997/5788 [19:25<42:59,  1.08it/s]  "
     ]
    },
    {
     "name": "stdout",
     "output_type": "stream",
     "text": [
      "Loggvägen\n",
      "Logistikvägen\n",
      "Lokattsbacken\n"
     ]
    },
    {
     "name": "stderr",
     "output_type": "stream",
     "text": [
      " 52%|█████▏    | 3001/5788 [19:26<28:28,  1.63it/s]"
     ]
    },
    {
     "name": "stdout",
     "output_type": "stream",
     "text": [
      "Lokföraregatan\n",
      "Lomgatan\n",
      "Lona Knapes gata\n",
      "Londongatan\n",
      "Longitudvägen\n"
     ]
    },
    {
     "name": "stderr",
     "output_type": "stream",
     "text": [
      " 52%|█████▏    | 3004/5788 [19:27<22:52,  2.03it/s]"
     ]
    },
    {
     "name": "stdout",
     "output_type": "stream",
     "text": [
      "Lonsegårdsvägen\n",
      "Lorensbergsgatan\n"
     ]
    },
    {
     "name": "stderr",
     "output_type": "stream",
     "text": [
      " 52%|█████▏    | 3006/5788 [19:28<16:55,  2.74it/s]"
     ]
    },
    {
     "name": "stdout",
     "output_type": "stream",
     "text": [
      "Lorentz väg\n",
      "Lossboms väg\n",
      "Lotsgatan\n"
     ]
    },
    {
     "name": "stderr",
     "output_type": "stream",
     "text": [
      " 52%|█████▏    | 3010/5788 [19:28<10:25,  4.44it/s]"
     ]
    },
    {
     "name": "stdout",
     "output_type": "stream",
     "text": [
      "Lotta Svärdsgatan\n",
      "Lottkärrsvägen\n",
      "Louis Enders Gångväg\n"
     ]
    },
    {
     "name": "stderr",
     "output_type": "stream",
     "text": [
      " 52%|█████▏    | 3012/5788 [19:28<09:02,  5.12it/s]"
     ]
    },
    {
     "name": "stdout",
     "output_type": "stream",
     "text": [
      "Lovartsgatan\n",
      "Lovisa Ströms väg\n",
      "Ludde Gentzels Gångväg\n",
      "Ludvig Tingströms gångbro\n"
     ]
    },
    {
     "name": "stderr",
     "output_type": "stream",
     "text": [
      " 52%|█████▏    | 3014/5788 [19:28<07:21,  6.29it/s]"
     ]
    },
    {
     "name": "stdout",
     "output_type": "stream",
     "text": [
      "Lufttrycksgatan\n",
      "Luftvärnsvägen\n"
     ]
    },
    {
     "name": "stderr",
     "output_type": "stream",
     "text": [
      " 52%|█████▏    | 3017/5788 [19:29<05:57,  7.76it/s]"
     ]
    },
    {
     "name": "stdout",
     "output_type": "stream",
     "text": [
      "Lugnet\n",
      "Lulles väg\n"
     ]
    },
    {
     "name": "stderr",
     "output_type": "stream",
     "text": [
      " 52%|█████▏    | 3019/5788 [19:29<06:19,  7.30it/s]"
     ]
    },
    {
     "name": "stdout",
     "output_type": "stream",
     "text": [
      "Lundby Hamngata\n"
     ]
    },
    {
     "name": "stderr",
     "output_type": "stream",
     "text": [
      " 52%|█████▏    | 3021/5788 [19:30<12:20,  3.74it/s]"
     ]
    },
    {
     "name": "stdout",
     "output_type": "stream",
     "text": [
      "Lundbygatan\n",
      "Lundbyleden\n"
     ]
    },
    {
     "name": "stderr",
     "output_type": "stream",
     "text": [
      " 52%|█████▏    | 3024/5788 [19:30<08:04,  5.71it/s]"
     ]
    },
    {
     "name": "stdout",
     "output_type": "stream",
     "text": [
      "Lundehagsgatan\n",
      "Lundgatan\n",
      "Lundgrens trappor\n"
     ]
    },
    {
     "name": "stderr",
     "output_type": "stream",
     "text": [
      " 52%|█████▏    | 3025/5788 [19:30<07:36,  6.05it/s]"
     ]
    },
    {
     "name": "stdout",
     "output_type": "stream",
     "text": [
      "Lundgrensgatan\n"
     ]
    },
    {
     "name": "stderr",
     "output_type": "stream",
     "text": [
      " 52%|█████▏    | 3026/5788 [19:31<08:49,  5.21it/s]"
     ]
    },
    {
     "name": "stdout",
     "output_type": "stream",
     "text": [
      "Lung & Ro\n",
      "Lunnarns väg\n"
     ]
    },
    {
     "name": "stderr",
     "output_type": "stream",
     "text": [
      " 52%|█████▏    | 3028/5788 [19:31<09:09,  5.02it/s]"
     ]
    },
    {
     "name": "stdout",
     "output_type": "stream",
     "text": [
      "Lunnatorpsgatan\n",
      "Lunnefågelgången\n"
     ]
    },
    {
     "name": "stderr",
     "output_type": "stream",
     "text": [
      " 52%|█████▏    | 3030/5788 [19:31<08:08,  5.65it/s]"
     ]
    },
    {
     "name": "stdout",
     "output_type": "stream",
     "text": [
      "Lunnegårdsvägen\n"
     ]
    },
    {
     "name": "stderr",
     "output_type": "stream",
     "text": [
      " 52%|█████▏    | 3033/5788 [19:33<11:48,  3.89it/s]"
     ]
    },
    {
     "name": "stdout",
     "output_type": "stream",
     "text": [
      "Luntantugatan\n",
      "Lupinvägen\n",
      "Lurebackavägen\n"
     ]
    },
    {
     "name": "stderr",
     "output_type": "stream",
     "text": [
      " 52%|█████▏    | 3037/5788 [19:33<07:38,  6.01it/s]"
     ]
    },
    {
     "name": "stdout",
     "output_type": "stream",
     "text": [
      "Luxus stig\n",
      "Lyckans väg\n",
      "Lyckekärrsvägen\n",
      "Lyckestigen\n",
      "Lyckevägen\n",
      "Lyckhemsvägen\n",
      "Lyckholms Torg\n"
     ]
    },
    {
     "name": "stderr",
     "output_type": "stream",
     "text": [
      " 53%|█████▎    | 3040/5788 [19:33<06:23,  7.17it/s]"
     ]
    },
    {
     "name": "stdout",
     "output_type": "stream",
     "text": [
      "Lyckhöjdsvägen\n",
      "Lyckolandsvägen\n"
     ]
    },
    {
     "name": "stderr",
     "output_type": "stream",
     "text": [
      " 53%|█████▎    | 3044/5788 [19:34<06:12,  7.36it/s]"
     ]
    },
    {
     "name": "stdout",
     "output_type": "stream",
     "text": [
      "Lyckåsvägen\n",
      "Lydinghielmsgatan\n"
     ]
    },
    {
     "name": "stderr",
     "output_type": "stream",
     "text": [
      " 53%|█████▎    | 3047/5788 [19:34<04:48,  9.49it/s]"
     ]
    },
    {
     "name": "stdout",
     "output_type": "stream",
     "text": [
      "Lyktgubbegången\n",
      "Lyngskärsvägen\n",
      "Lyrfågelgatan\n",
      "Lyrikgatan\n",
      "Lysbojsvägen\n"
     ]
    },
    {
     "name": "stderr",
     "output_type": "stream",
     "text": [
      " 53%|█████▎    | 3050/5788 [19:35<05:13,  8.72it/s]"
     ]
    },
    {
     "name": "stdout",
     "output_type": "stream",
     "text": [
      "Lysebrunnsvägen\n",
      "Lysekilsgatan\n"
     ]
    },
    {
     "name": "stderr",
     "output_type": "stream",
     "text": [
      " 53%|█████▎    | 3055/5788 [19:35<03:56, 11.55it/s]"
     ]
    },
    {
     "name": "stdout",
     "output_type": "stream",
     "text": [
      "Lysetorpsvägen\n",
      "Lysevägen\n",
      "Lysmaskvägen\n",
      "Lägatan\n",
      "Läktaregatan\n"
     ]
    },
    {
     "name": "stderr",
     "output_type": "stream",
     "text": [
      " 53%|█████▎    | 3057/5788 [19:35<03:58, 11.43it/s]"
     ]
    },
    {
     "name": "stdout",
     "output_type": "stream",
     "text": [
      "Längdhopparegången\n"
     ]
    },
    {
     "name": "stderr",
     "output_type": "stream",
     "text": [
      " 53%|█████▎    | 3059/5788 [19:36<06:28,  7.02it/s]"
     ]
    },
    {
     "name": "stdout",
     "output_type": "stream",
     "text": [
      "Länkharvsgatan\n",
      "Länsgränd\n",
      "Länsmansstigen\n"
     ]
    },
    {
     "name": "stderr",
     "output_type": "stream",
     "text": [
      " 53%|█████▎    | 3063/5788 [19:36<07:29,  6.07it/s]"
     ]
    },
    {
     "name": "stdout",
     "output_type": "stream",
     "text": [
      "Läraregatan\n",
      "Lärdomsgatan\n",
      "Lärje Albogård\n",
      "Lärje Alléväg\n",
      "Lärje Bangårdsgata\n"
     ]
    },
    {
     "name": "stderr",
     "output_type": "stream",
     "text": [
      " 53%|█████▎    | 3074/5788 [19:41<11:27,  3.94it/s]"
     ]
    },
    {
     "name": "stdout",
     "output_type": "stream",
     "text": [
      "Lärje Bäckedalsväg\n",
      "Lärje Gånglåt\n",
      "Lärje Humlestig\n",
      "Lärje Häckväg\n",
      "Lärje Idrottsväg\n",
      "Lärje Lekstig\n",
      "Lärje Ligusterväg\n",
      "Lärje Lilleboväg\n",
      "Lärje Lokalväg\n"
     ]
    },
    {
     "name": "stderr",
     "output_type": "stream",
     "text": [
      " 53%|█████▎    | 3076/5788 [19:41<10:11,  4.43it/s]"
     ]
    },
    {
     "name": "stdout",
     "output_type": "stream",
     "text": [
      "Lärje Lyktväg\n",
      "Lärje Norra Brunnsväg\n",
      "Lärje Parkväg\n",
      "Lärje Pilväg\n"
     ]
    },
    {
     "name": "stderr",
     "output_type": "stream",
     "text": [
      " 53%|█████▎    | 3082/5788 [19:41<06:37,  6.80it/s]"
     ]
    },
    {
     "name": "stdout",
     "output_type": "stream",
     "text": [
      "Lärje Rättaregård\n",
      "Lärje Silvergransväg\n",
      "Lärje Stationsgata\n",
      "Lärje Tolsegård\n"
     ]
    },
    {
     "name": "stderr",
     "output_type": "stream",
     "text": [
      " 53%|█████▎    | 3091/5788 [19:41<03:37, 12.39it/s]"
     ]
    },
    {
     "name": "stdout",
     "output_type": "stream",
     "text": [
      "Lärje Trappväg\n",
      "Lärje Ugnsstig\n",
      "Lärje Violväg\n",
      "Lärje Vårväg\n",
      "Lärje Älgväg\n",
      "Lärje Ängväg\n",
      "Lärje Östergång\n",
      "Lärje Östergård\n",
      "Lärjehedsvägen\n",
      "Lärjeholmsvägen\n",
      "Lärjeågatan\n"
     ]
    },
    {
     "name": "stderr",
     "output_type": "stream",
     "text": [
      " 53%|█████▎    | 3096/5788 [19:46<17:16,  2.60it/s]"
     ]
    },
    {
     "name": "stdout",
     "output_type": "stream",
     "text": [
      "Lärksångsgatan\n",
      "Lärkträdet\n",
      "Lärlingsgatan\n"
     ]
    },
    {
     "name": "stderr",
     "output_type": "stream",
     "text": [
      " 54%|█████▎    | 3098/5788 [19:46<14:46,  3.04it/s]"
     ]
    },
    {
     "name": "stdout",
     "output_type": "stream",
     "text": [
      "Läroverksgatan\n",
      "Lästmakaregatan\n",
      "Läsö Fyrs väg\n"
     ]
    },
    {
     "name": "stderr",
     "output_type": "stream",
     "text": [
      " 54%|█████▎    | 3100/5788 [19:47<14:35,  3.07it/s]"
     ]
    },
    {
     "name": "stdout",
     "output_type": "stream",
     "text": [
      "Lådspikaregatan\n",
      "Lådämnesgatan\n"
     ]
    },
    {
     "name": "stderr",
     "output_type": "stream",
     "text": [
      " 54%|█████▎    | 3102/5788 [19:47<12:15,  3.65it/s]"
     ]
    },
    {
     "name": "stdout",
     "output_type": "stream",
     "text": [
      "Lågtrycksgatan\n",
      "Låkebergsgatan\n"
     ]
    },
    {
     "name": "stderr",
     "output_type": "stream",
     "text": [
      " 54%|█████▎    | 3104/5788 [19:55<55:48,  1.25s/it]"
     ]
    },
    {
     "name": "stdout",
     "output_type": "stream",
     "text": [
      "Långa Gången\n",
      "Långavallsgatan\n"
     ]
    },
    {
     "name": "stderr",
     "output_type": "stream",
     "text": [
      " 54%|█████▎    | 3106/5788 [19:56<42:24,  1.05it/s]"
     ]
    },
    {
     "name": "stdout",
     "output_type": "stream",
     "text": [
      "Långe Jans väg\n",
      "Långebergs Bygata\n"
     ]
    },
    {
     "name": "stderr",
     "output_type": "stream",
     "text": [
      " 54%|█████▎    | 3108/5788 [19:56<32:07,  1.39it/s]"
     ]
    },
    {
     "name": "stdout",
     "output_type": "stream",
     "text": [
      "Långebergs bygata\n",
      "Långedragsvägen\n"
     ]
    },
    {
     "name": "stderr",
     "output_type": "stream",
     "text": [
      " 54%|█████▍    | 3112/5788 [20:22<2:17:00,  3.07s/it]"
     ]
    },
    {
     "name": "stdout",
     "output_type": "stream",
     "text": [
      "Långedsgatan\n",
      "Långefjällsgatan\n",
      "Långevatten\n",
      "Långfilsgatan\n",
      "Långgårdarna\n",
      "Långhagsgatan\n"
     ]
    },
    {
     "name": "stderr",
     "output_type": "stream",
     "text": [
      " 54%|█████▍    | 3117/5788 [20:23<1:06:44,  1.50s/it]"
     ]
    },
    {
     "name": "stdout",
     "output_type": "stream",
     "text": [
      "Långholmen\n",
      "Långholmsvägen\n"
     ]
    },
    {
     "name": "stderr",
     "output_type": "stream",
     "text": [
      " 54%|█████▍    | 3120/5788 [20:23<39:43,  1.12it/s]  "
     ]
    },
    {
     "name": "stdout",
     "output_type": "stream",
     "text": [
      "Långlandia\n",
      "Långlyckevägen\n",
      "Långrevsvägen\n"
     ]
    },
    {
     "name": "stderr",
     "output_type": "stream",
     "text": [
      " 54%|█████▍    | 3121/5788 [20:23<34:07,  1.30it/s]"
     ]
    },
    {
     "name": "stdout",
     "output_type": "stream",
     "text": [
      "Långströmsgatan\n"
     ]
    },
    {
     "name": "stderr",
     "output_type": "stream",
     "text": [
      " 54%|█████▍    | 3122/5788 [20:34<2:02:58,  2.77s/it]"
     ]
    },
    {
     "name": "stdout",
     "output_type": "stream",
     "text": [
      "Långvågsgatan\n",
      "Långängen\n"
     ]
    },
    {
     "name": "stderr",
     "output_type": "stream",
     "text": [
      " 54%|█████▍    | 3124/5788 [20:35<1:29:19,  2.01s/it]"
     ]
    },
    {
     "name": "stdout",
     "output_type": "stream",
     "text": [
      "Långåkersgatan\n",
      "Långåsliden\n"
     ]
    },
    {
     "name": "stderr",
     "output_type": "stream",
     "text": [
      " 54%|█████▍    | 3126/5788 [20:35<59:59,  1.35s/it]  "
     ]
    },
    {
     "name": "stdout",
     "output_type": "stream",
     "text": [
      "Låssby Grind\n",
      "Låssby Äng\n"
     ]
    },
    {
     "name": "stderr",
     "output_type": "stream",
     "text": [
      " 54%|█████▍    | 3128/5788 [20:36<41:55,  1.06it/s]"
     ]
    },
    {
     "name": "stdout",
     "output_type": "stream",
     "text": [
      "Låssbylyckorna\n"
     ]
    },
    {
     "name": "stderr",
     "output_type": "stream",
     "text": [
      " 54%|█████▍    | 3130/5788 [20:36<29:39,  1.49it/s]"
     ]
    },
    {
     "name": "stdout",
     "output_type": "stream",
     "text": [
      "Låssbyvägen\n",
      "Löjtnantsgatan\n",
      "Lökekullen\n",
      "Lönngatan\n"
     ]
    },
    {
     "name": "stderr",
     "output_type": "stream",
     "text": [
      " 54%|█████▍    | 3133/5788 [20:36<16:34,  2.67it/s]"
     ]
    },
    {
     "name": "stdout",
     "output_type": "stream",
     "text": [
      "Lönngården\n"
     ]
    },
    {
     "name": "stderr",
     "output_type": "stream",
     "text": [
      " 54%|█████▍    | 3134/5788 [20:37<16:10,  2.73it/s]"
     ]
    },
    {
     "name": "stdout",
     "output_type": "stream",
     "text": [
      "Lönnrunan\n"
     ]
    },
    {
     "name": "stderr",
     "output_type": "stream",
     "text": [
      " 54%|█████▍    | 3136/5788 [20:37<13:12,  3.34it/s]"
     ]
    },
    {
     "name": "stdout",
     "output_type": "stream",
     "text": [
      "Löparegatan\n",
      "Lördagsgatan\n"
     ]
    },
    {
     "name": "stderr",
     "output_type": "stream",
     "text": [
      " 54%|█████▍    | 3138/5788 [20:37<09:36,  4.60it/s]"
     ]
    },
    {
     "name": "stdout",
     "output_type": "stream",
     "text": [
      "Lövdungen\n",
      "Lövgärdesvägen\n"
     ]
    },
    {
     "name": "stderr",
     "output_type": "stream",
     "text": [
      " 54%|█████▍    | 3141/5788 [20:45<51:35,  1.17s/it]  "
     ]
    },
    {
     "name": "stdout",
     "output_type": "stream",
     "text": [
      "Lövhagavägen\n",
      "Lövhagegången\n",
      "Lövkojevägen\n",
      "Lövkullen\n",
      "Lövkulleskogen\n"
     ]
    },
    {
     "name": "stderr",
     "output_type": "stream",
     "text": [
      " 54%|█████▍    | 3145/5788 [20:45<25:26,  1.73it/s]"
     ]
    },
    {
     "name": "stdout",
     "output_type": "stream",
     "text": [
      "Lövmossevägen\n",
      "Lövmånadsgatan\n"
     ]
    },
    {
     "name": "stderr",
     "output_type": "stream",
     "text": [
      " 54%|█████▍    | 3147/5788 [20:45<18:31,  2.38it/s]"
     ]
    },
    {
     "name": "stdout",
     "output_type": "stream",
     "text": [
      "Lövskogen\n",
      "Lövskogsbacken\n",
      "Lövskogsgatan\n"
     ]
    },
    {
     "name": "stderr",
     "output_type": "stream",
     "text": [
      " 54%|█████▍    | 3149/5788 [20:46<14:16,  3.08it/s]"
     ]
    },
    {
     "name": "stdout",
     "output_type": "stream",
     "text": [
      "Lövskogsgången\n",
      "Lövskogsåsen\n"
     ]
    },
    {
     "name": "stderr",
     "output_type": "stream",
     "text": [
      " 54%|█████▍    | 3151/5788 [20:46<11:31,  3.81it/s]"
     ]
    },
    {
     "name": "stdout",
     "output_type": "stream",
     "text": [
      "Lövslingan\n",
      "Lövsångarevägen\n",
      "Lövviksvägen\n"
     ]
    },
    {
     "name": "stderr",
     "output_type": "stream",
     "text": [
      " 55%|█████▍    | 3156/5788 [20:47<10:27,  4.19it/s]"
     ]
    },
    {
     "name": "stdout",
     "output_type": "stream",
     "text": [
      "Lövängsgatan\n",
      "Lövåsen\n",
      "Mackliersgatan\n",
      "Madbäcksvägen\n"
     ]
    },
    {
     "name": "stderr",
     "output_type": "stream",
     "text": [
      " 55%|█████▍    | 3160/5788 [20:48<07:42,  5.68it/s]"
     ]
    },
    {
     "name": "stdout",
     "output_type": "stream",
     "text": [
      "Madkullavägen\n",
      "Madängsgatan\n",
      "Magasinsgatan\n"
     ]
    },
    {
     "name": "stderr",
     "output_type": "stream",
     "text": [
      " 55%|█████▍    | 3162/5788 [20:48<06:39,  6.57it/s]"
     ]
    },
    {
     "name": "stdout",
     "output_type": "stream",
     "text": [
      "Maggeredsvägen\n",
      "Magnetgatan\n"
     ]
    },
    {
     "name": "stderr",
     "output_type": "stream",
     "text": [
      " 55%|█████▍    | 3166/5788 [20:49<06:39,  6.56it/s]"
     ]
    },
    {
     "name": "stdout",
     "output_type": "stream",
     "text": [
      "Maj Kullenbergs Gångväg\n",
      "Maj på Malös gata\n",
      "Maja Kjellins Gångväg\n",
      "Majbergsstigen\n"
     ]
    },
    {
     "name": "stderr",
     "output_type": "stream",
     "text": [
      " 55%|█████▍    | 3168/5788 [20:49<05:45,  7.58it/s]"
     ]
    },
    {
     "name": "stdout",
     "output_type": "stream",
     "text": [
      "Majgatan\n",
      "Majnabbegatan\n",
      "Majnabbehamnen\n"
     ]
    },
    {
     "name": "stderr",
     "output_type": "stream",
     "text": [
      " 55%|█████▍    | 3170/5788 [20:51<17:41,  2.47it/s]"
     ]
    },
    {
     "name": "stdout",
     "output_type": "stream",
     "text": [
      "Majorsgatan\n",
      "Majstenavägen\n",
      "Majstångsgatan\n",
      "Majtorpsgatan\n"
     ]
    },
    {
     "name": "stderr",
     "output_type": "stream",
     "text": [
      " 55%|█████▍    | 3174/5788 [20:51<12:25,  3.51it/s]"
     ]
    },
    {
     "name": "stdout",
     "output_type": "stream",
     "text": [
      "Majvivsgatan\n",
      "Makarna Åbergs Gångstig\n",
      "Makrillgatan\n"
     ]
    },
    {
     "name": "stderr",
     "output_type": "stream",
     "text": [
      " 55%|█████▍    | 3177/5788 [20:52<10:33,  4.12it/s]"
     ]
    },
    {
     "name": "stdout",
     "output_type": "stream",
     "text": [
      "Mallgatan\n",
      "Malmgatan\n"
     ]
    },
    {
     "name": "stderr",
     "output_type": "stream",
     "text": [
      " 55%|█████▍    | 3179/5788 [20:52<09:51,  4.41it/s]"
     ]
    },
    {
     "name": "stdout",
     "output_type": "stream",
     "text": [
      "Malmgårdsgatan\n",
      "Malmsjögatan\n"
     ]
    },
    {
     "name": "stderr",
     "output_type": "stream",
     "text": [
      " 55%|█████▍    | 3183/5788 [20:54<12:36,  3.44it/s]"
     ]
    },
    {
     "name": "stdout",
     "output_type": "stream",
     "text": [
      "Malmstensgatan\n",
      "Malte Jacobssons Gångväg\n",
      "Malvavägen\n"
     ]
    },
    {
     "name": "stderr",
     "output_type": "stream",
     "text": [
      " 55%|█████▌    | 3185/5788 [20:54<10:14,  4.24it/s]"
     ]
    },
    {
     "name": "stdout",
     "output_type": "stream",
     "text": [
      "Malö Fyrs väg\n",
      "Malörtsgatan\n"
     ]
    },
    {
     "name": "stderr",
     "output_type": "stream",
     "text": [
      " 55%|█████▌    | 3186/5788 [20:54<10:11,  4.25it/s]"
     ]
    },
    {
     "name": "stdout",
     "output_type": "stream",
     "text": [
      "Mandelblomsgatan\n",
      "Mandolingatan\n"
     ]
    },
    {
     "name": "stderr",
     "output_type": "stream",
     "text": [
      " 55%|█████▌    | 3188/5788 [20:55<08:49,  4.91it/s]"
     ]
    },
    {
     "name": "stdout",
     "output_type": "stream",
     "text": [
      "Mangårdsvägen\n"
     ]
    },
    {
     "name": "stderr",
     "output_type": "stream",
     "text": [
      " 55%|█████▌    | 3192/5788 [20:55<07:37,  5.68it/s]"
     ]
    },
    {
     "name": "stdout",
     "output_type": "stream",
     "text": [
      "Mannes Lycka\n",
      "Mannheimers väg\n",
      "Manufakturgatan\n",
      "Manövergången\n"
     ]
    },
    {
     "name": "stderr",
     "output_type": "stream",
     "text": [
      " 55%|█████▌    | 3193/5788 [20:55<07:11,  6.02it/s]"
     ]
    },
    {
     "name": "stdout",
     "output_type": "stream",
     "text": [
      "Maratongången\n"
     ]
    },
    {
     "name": "stderr",
     "output_type": "stream",
     "text": [
      " 55%|█████▌    | 3195/5788 [20:57<13:14,  3.26it/s]"
     ]
    },
    {
     "name": "stdout",
     "output_type": "stream",
     "text": [
      "Marbogatan\n",
      "Marconigatan\n"
     ]
    },
    {
     "name": "stderr",
     "output_type": "stream",
     "text": [
      " 55%|█████▌    | 3196/5788 [21:11<2:34:52,  3.59s/it]"
     ]
    },
    {
     "name": "stdout",
     "output_type": "stream",
     "text": [
      "Margit Halls gata\n",
      "Margretebergsgatan\n"
     ]
    },
    {
     "name": "stderr",
     "output_type": "stream",
     "text": [
      " 55%|█████▌    | 3198/5788 [21:12<1:46:04,  2.46s/it]"
     ]
    },
    {
     "name": "stdout",
     "output_type": "stream",
     "text": [
      "Margretelundsgatan\n"
     ]
    },
    {
     "name": "stderr",
     "output_type": "stream",
     "text": [
      " 55%|█████▌    | 3199/5788 [21:13<1:26:54,  2.01s/it]"
     ]
    },
    {
     "name": "stdout",
     "output_type": "stream",
     "text": [
      "Marholmsvägen\n"
     ]
    },
    {
     "name": "stderr",
     "output_type": "stream",
     "text": [
      " 55%|█████▌    | 3200/5788 [21:13<1:08:35,  1.59s/it]"
     ]
    },
    {
     "name": "stdout",
     "output_type": "stream",
     "text": [
      "Maria Johansdotters backe\n",
      "Mariagatan\n"
     ]
    },
    {
     "name": "stderr",
     "output_type": "stream",
     "text": [
      " 55%|█████▌    | 3203/5788 [21:14<39:37,  1.09it/s]  "
     ]
    },
    {
     "name": "stdout",
     "output_type": "stream",
     "text": [
      "Mariebergsgatan\n",
      "Marieholmsbron\n"
     ]
    },
    {
     "name": "stderr",
     "output_type": "stream",
     "text": [
      " 55%|█████▌    | 3204/5788 [21:15<36:18,  1.19it/s]"
     ]
    },
    {
     "name": "stdout",
     "output_type": "stream",
     "text": [
      "Marieholmsgatan\n"
     ]
    },
    {
     "name": "stderr",
     "output_type": "stream",
     "text": [
      " 55%|█████▌    | 3207/5788 [21:43<3:16:54,  4.58s/it]"
     ]
    },
    {
     "name": "stdout",
     "output_type": "stream",
     "text": [
      "Marieholmsmotet\n",
      "Markbovägen\n",
      "Marketenterivägen\n"
     ]
    },
    {
     "name": "stderr",
     "output_type": "stream",
     "text": [
      " 55%|█████▌    | 3208/5788 [21:43<2:33:11,  3.56s/it]"
     ]
    },
    {
     "name": "stdout",
     "output_type": "stream",
     "text": [
      "Marklandsgatan\n"
     ]
    },
    {
     "name": "stderr",
     "output_type": "stream",
     "text": [
      " 55%|█████▌    | 3209/5788 [21:51<3:20:38,  4.67s/it]"
     ]
    },
    {
     "name": "stdout",
     "output_type": "stream",
     "text": [
      "Marklandsplatsen\n"
     ]
    },
    {
     "name": "stderr",
     "output_type": "stream",
     "text": [
      " 55%|█████▌    | 3210/5788 [21:53<2:41:05,  3.75s/it]"
     ]
    },
    {
     "name": "stdout",
     "output_type": "stream",
     "text": [
      "Markmyntsgatan\n"
     ]
    },
    {
     "name": "stderr",
     "output_type": "stream",
     "text": [
      " 55%|█████▌    | 3211/5788 [21:53<2:00:39,  2.81s/it]"
     ]
    },
    {
     "name": "stdout",
     "output_type": "stream",
     "text": [
      "Markurellgatan\n"
     ]
    },
    {
     "name": "stderr",
     "output_type": "stream",
     "text": [
      " 56%|█████▌    | 3213/5788 [21:54<1:11:10,  1.66s/it]"
     ]
    },
    {
     "name": "stdout",
     "output_type": "stream",
     "text": [
      "Markvågsgatan\n",
      "Marmorgatan\n",
      "Marstrandsgatan\n"
     ]
    },
    {
     "name": "stderr",
     "output_type": "stream",
     "text": [
      " 56%|█████▌    | 3216/5788 [21:54<33:25,  1.28it/s]  "
     ]
    },
    {
     "name": "stdout",
     "output_type": "stream",
     "text": [
      "Martha Sennegårds väg\n",
      "Martin Anderssons gata\n"
     ]
    },
    {
     "name": "stderr",
     "output_type": "stream",
     "text": [
      " 56%|█████▌    | 3218/5788 [21:56<31:08,  1.38it/s]"
     ]
    },
    {
     "name": "stdout",
     "output_type": "stream",
     "text": [
      "Martinavägen\n",
      "Maskingatan\n"
     ]
    },
    {
     "name": "stderr",
     "output_type": "stream",
     "text": [
      " 56%|█████▌    | 3220/5788 [21:56<18:34,  2.30it/s]"
     ]
    },
    {
     "name": "stdout",
     "output_type": "stream",
     "text": [
      "Maskingränd\n",
      "Maskinistgatan\n"
     ]
    },
    {
     "name": "stderr",
     "output_type": "stream",
     "text": [
      " 56%|█████▌    | 3221/5788 [21:56<16:51,  2.54it/s]"
     ]
    },
    {
     "name": "stdout",
     "output_type": "stream",
     "text": [
      "Maskinkajen\n",
      "Maskrosgatan\n"
     ]
    },
    {
     "name": "stderr",
     "output_type": "stream",
     "text": [
      " 56%|█████▌    | 3224/5788 [21:57<10:14,  4.17it/s]"
     ]
    },
    {
     "name": "stdout",
     "output_type": "stream",
     "text": [
      "Mastgatan\n",
      "Masthamnsgatan\n"
     ]
    },
    {
     "name": "stderr",
     "output_type": "stream",
     "text": [
      " 56%|█████▌    | 3225/5788 [21:57<11:03,  3.86it/s]"
     ]
    },
    {
     "name": "stdout",
     "output_type": "stream",
     "text": [
      "Masthuggskajen\n"
     ]
    },
    {
     "name": "stderr",
     "output_type": "stream",
     "text": [
      " 56%|█████▌    | 3226/5788 [21:57<10:46,  3.96it/s]"
     ]
    },
    {
     "name": "stdout",
     "output_type": "stream",
     "text": [
      "Masthuggsliden\n"
     ]
    },
    {
     "name": "stderr",
     "output_type": "stream",
     "text": [
      " 56%|█████▌    | 3227/5788 [21:59<28:54,  1.48it/s]"
     ]
    },
    {
     "name": "stdout",
     "output_type": "stream",
     "text": [
      "Masthuggsterrassen\n"
     ]
    },
    {
     "name": "stderr",
     "output_type": "stream",
     "text": [
      " 56%|█████▌    | 3230/5788 [22:00<16:05,  2.65it/s]"
     ]
    },
    {
     "name": "stdout",
     "output_type": "stream",
     "text": [
      "Masthuggstorget\n",
      "Masurkavägen\n",
      "Matildehemsvägen\n"
     ]
    },
    {
     "name": "stderr",
     "output_type": "stream",
     "text": [
      " 56%|█████▌    | 3232/5788 [22:00<12:01,  3.54it/s]"
     ]
    },
    {
     "name": "stdout",
     "output_type": "stream",
     "text": [
      "Mattssonsliden\n",
      "Max Drive-In\n",
      "Medicinaregatan\n"
     ]
    },
    {
     "name": "stderr",
     "output_type": "stream",
     "text": [
      " 56%|█████▌    | 3234/5788 [22:10<1:36:55,  2.28s/it]"
     ]
    },
    {
     "name": "stdout",
     "output_type": "stream",
     "text": [
      "Meijerbergsgatan\n",
      "Mejerigatan\n"
     ]
    },
    {
     "name": "stderr",
     "output_type": "stream",
     "text": [
      " 56%|█████▌    | 3236/5788 [22:14<1:34:24,  2.22s/it]"
     ]
    },
    {
     "name": "stdout",
     "output_type": "stream",
     "text": [
      "Mejramgatan\n"
     ]
    },
    {
     "name": "stderr",
     "output_type": "stream",
     "text": [
      " 56%|█████▌    | 3237/5788 [22:15<1:17:26,  1.82s/it]"
     ]
    },
    {
     "name": "stdout",
     "output_type": "stream",
     "text": [
      "Meli Johanssons väg\n"
     ]
    },
    {
     "name": "stderr",
     "output_type": "stream",
     "text": [
      " 56%|█████▌    | 3238/5788 [22:15<1:02:20,  1.47s/it]"
     ]
    },
    {
     "name": "stdout",
     "output_type": "stream",
     "text": [
      "Mellanbergsvägen\n"
     ]
    },
    {
     "name": "stderr",
     "output_type": "stream",
     "text": [
      " 56%|█████▌    | 3239/5788 [22:15<49:57,  1.18s/it]  "
     ]
    },
    {
     "name": "stdout",
     "output_type": "stream",
     "text": [
      "Mellangatan\n"
     ]
    },
    {
     "name": "stderr",
     "output_type": "stream",
     "text": [
      " 56%|█████▌    | 3240/5788 [22:15<39:33,  1.07it/s]"
     ]
    },
    {
     "name": "stdout",
     "output_type": "stream",
     "text": [
      "Mellangärdet\n"
     ]
    },
    {
     "name": "stderr",
     "output_type": "stream",
     "text": [
      " 56%|█████▌    | 3241/5788 [22:16<33:47,  1.26it/s]"
     ]
    },
    {
     "name": "stdout",
     "output_type": "stream",
     "text": [
      "Mellangårdsvägen\n"
     ]
    },
    {
     "name": "stderr",
     "output_type": "stream",
     "text": [
      " 56%|█████▌    | 3243/5788 [22:16<21:23,  1.98it/s]"
     ]
    },
    {
     "name": "stdout",
     "output_type": "stream",
     "text": [
      "Mellanvågsgatan\n",
      "Mellbyleden\n"
     ]
    },
    {
     "name": "stderr",
     "output_type": "stream",
     "text": [
      " 56%|█████▌    | 3245/5788 [22:17<14:20,  2.95it/s]"
     ]
    },
    {
     "name": "stdout",
     "output_type": "stream",
     "text": [
      "Melodigången\n",
      "Melongatan\n"
     ]
    },
    {
     "name": "stderr",
     "output_type": "stream",
     "text": [
      " 56%|█████▌    | 3247/5788 [22:17<10:55,  3.88it/s]"
     ]
    },
    {
     "name": "stdout",
     "output_type": "stream",
     "text": [
      "Memoargatan\n",
      "Meridianvägen\n"
     ]
    },
    {
     "name": "stderr",
     "output_type": "stream",
     "text": [
      " 56%|█████▌    | 3248/5788 [22:17<11:15,  3.76it/s]"
     ]
    },
    {
     "name": "stdout",
     "output_type": "stream",
     "text": [
      "Merkuriusgatan\n"
     ]
    },
    {
     "name": "stderr",
     "output_type": "stream",
     "text": [
      " 56%|█████▌    | 3249/5788 [22:18<17:56,  2.36it/s]"
     ]
    },
    {
     "name": "stdout",
     "output_type": "stream",
     "text": [
      "Mesanvägen\n"
     ]
    },
    {
     "name": "stderr",
     "output_type": "stream",
     "text": [
      " 56%|█████▌    | 3250/5788 [22:18<16:01,  2.64it/s]"
     ]
    },
    {
     "name": "stdout",
     "output_type": "stream",
     "text": [
      "Meteorgatan\n"
     ]
    },
    {
     "name": "stderr",
     "output_type": "stream",
     "text": [
      " 56%|█████▌    | 3254/5788 [22:19<09:16,  4.56it/s]"
     ]
    },
    {
     "name": "stdout",
     "output_type": "stream",
     "text": [
      "Mickelsmässogatan\n",
      "Middagsgatan\n",
      "Midsommargatan\n",
      "Mikael Ljungbergs väg\n"
     ]
    },
    {
     "name": "stderr",
     "output_type": "stream",
     "text": [
      " 56%|█████▋    | 3257/5788 [22:19<05:59,  7.04it/s]"
     ]
    },
    {
     "name": "stdout",
     "output_type": "stream",
     "text": [
      "Miklagårdsgatan\n",
      "Mikrofongatan\n",
      "Mildvädersgatan\n"
     ]
    },
    {
     "name": "stderr",
     "output_type": "stream",
     "text": [
      " 56%|█████▋    | 3259/5788 [22:20<07:42,  5.47it/s]"
     ]
    },
    {
     "name": "stdout",
     "output_type": "stream",
     "text": [
      "Millenniumgatan\n",
      "Milpålegatan\n",
      "Mimergatan\n"
     ]
    },
    {
     "name": "stderr",
     "output_type": "stream",
     "text": [
      " 56%|█████▋    | 3261/5788 [22:20<07:19,  5.74it/s]"
     ]
    },
    {
     "name": "stdout",
     "output_type": "stream",
     "text": [
      "Mimmis väg\n",
      "Minas väg\n"
     ]
    },
    {
     "name": "stderr",
     "output_type": "stream",
     "text": [
      " 56%|█████▋    | 3263/5788 [22:20<07:23,  5.70it/s]"
     ]
    },
    {
     "name": "stdout",
     "output_type": "stream",
     "text": [
      "Minelundsvägen\n"
     ]
    },
    {
     "name": "stderr",
     "output_type": "stream",
     "text": [
      " 56%|█████▋    | 3264/5788 [22:25<39:48,  1.06it/s]"
     ]
    },
    {
     "name": "stdout",
     "output_type": "stream",
     "text": [
      "Minkgatan\n",
      "Mintensgatan\n"
     ]
    },
    {
     "name": "stderr",
     "output_type": "stream",
     "text": [
      " 56%|█████▋    | 3266/5788 [22:25<28:30,  1.47it/s]"
     ]
    },
    {
     "name": "stdout",
     "output_type": "stream",
     "text": [
      "Minutgatan\n",
      "Minuthandelsgatan\n",
      "Miraallén\n"
     ]
    },
    {
     "name": "stderr",
     "output_type": "stream",
     "text": [
      " 56%|█████▋    | 3269/5788 [22:26<19:00,  2.21it/s]"
     ]
    },
    {
     "name": "stdout",
     "output_type": "stream",
     "text": [
      "Miragatan\n",
      "Mirandagatan\n"
     ]
    },
    {
     "name": "stderr",
     "output_type": "stream",
     "text": [
      " 57%|█████▋    | 3273/5788 [22:26<12:53,  3.25it/s]"
     ]
    },
    {
     "name": "stdout",
     "output_type": "stream",
     "text": [
      "Missionshusvägen\n",
      "Mistlursvägen\n",
      "Mittgången\n",
      "Mjölkbacken\n",
      "Mjölkbodsvägen\n",
      "Mjölkebacksstigen\n"
     ]
    },
    {
     "name": "stderr",
     "output_type": "stream",
     "text": [
      " 57%|█████▋    | 3280/5788 [22:27<05:30,  7.59it/s]"
     ]
    },
    {
     "name": "stdout",
     "output_type": "stream",
     "text": [
      "Mjölnaregatan\n",
      "Mobergets väg\n",
      "Modellörsgatan\n",
      "Modulatorsgatan\n",
      "Mogatan\n"
     ]
    },
    {
     "name": "stderr",
     "output_type": "stream",
     "text": [
      " 57%|█████▋    | 3282/5788 [22:27<04:38,  8.99it/s]"
     ]
    },
    {
     "name": "stdout",
     "output_type": "stream",
     "text": [
      "Molinsgatan\n",
      "Mollsjönäsvägen\n"
     ]
    },
    {
     "name": "stderr",
     "output_type": "stream",
     "text": [
      " 57%|█████▋    | 3284/5788 [22:28<09:28,  4.40it/s]"
     ]
    },
    {
     "name": "stdout",
     "output_type": "stream",
     "text": [
      "Mollsjövägen\n",
      "Molnvädersgatan\n"
     ]
    },
    {
     "name": "stderr",
     "output_type": "stream",
     "text": [
      " 57%|█████▋    | 3286/5788 [22:28<08:35,  4.86it/s]"
     ]
    },
    {
     "name": "stdout",
     "output_type": "stream",
     "text": [
      "Mona-Lisa Englunds väg\n",
      "Monologgatan\n"
     ]
    },
    {
     "name": "stderr",
     "output_type": "stream",
     "text": [
      " 57%|█████▋    | 3288/5788 [22:28<07:56,  5.24it/s]"
     ]
    },
    {
     "name": "stdout",
     "output_type": "stream",
     "text": [
      "Monsungatan\n"
     ]
    },
    {
     "name": "stderr",
     "output_type": "stream",
     "text": [
      " 57%|█████▋    | 3290/5788 [22:30<15:35,  2.67it/s]"
     ]
    },
    {
     "name": "stdout",
     "output_type": "stream",
     "text": [
      "Monteliusgatan\n",
      "Monteringsvägen\n"
     ]
    },
    {
     "name": "stderr",
     "output_type": "stream",
     "text": [
      " 57%|█████▋    | 3292/5788 [22:35<44:18,  1.07s/it]"
     ]
    },
    {
     "name": "stdout",
     "output_type": "stream",
     "text": [
      "Montörsgatan\n",
      "Mor Livas stig\n",
      "Morellgången\n"
     ]
    },
    {
     "name": "stderr",
     "output_type": "stream",
     "text": [
      " 57%|█████▋    | 3295/5788 [22:35<22:34,  1.84it/s]"
     ]
    },
    {
     "name": "stdout",
     "output_type": "stream",
     "text": [
      "Morgongatan\n",
      "Moripegatan\n"
     ]
    },
    {
     "name": "stderr",
     "output_type": "stream",
     "text": [
      " 57%|█████▋    | 3298/5788 [22:36<12:44,  3.26it/s]"
     ]
    },
    {
     "name": "stdout",
     "output_type": "stream",
     "text": [
      "Morkullegatan\n",
      "Morotsgången\n",
      "Mors backe\n"
     ]
    },
    {
     "name": "stderr",
     "output_type": "stream",
     "text": [
      " 57%|█████▋    | 3299/5788 [22:36<10:48,  3.84it/s]"
     ]
    },
    {
     "name": "stdout",
     "output_type": "stream",
     "text": [
      "Morsestigen\n",
      "Morängatan\n"
     ]
    },
    {
     "name": "stderr",
     "output_type": "stream",
     "text": [
      " 57%|█████▋    | 3301/5788 [22:36<08:43,  4.75it/s]"
     ]
    },
    {
     "name": "stdout",
     "output_type": "stream",
     "text": [
      "Mossbacken\n"
     ]
    },
    {
     "name": "stderr",
     "output_type": "stream",
     "text": [
      " 57%|█████▋    | 3303/5788 [22:39<22:57,  1.80it/s]"
     ]
    },
    {
     "name": "stdout",
     "output_type": "stream",
     "text": [
      "Mossfyndsgatan\n",
      "Mossgatan\n"
     ]
    },
    {
     "name": "stderr",
     "output_type": "stream",
     "text": [
      " 57%|█████▋    | 3304/5788 [22:39<20:17,  2.04it/s]"
     ]
    },
    {
     "name": "stdout",
     "output_type": "stream",
     "text": [
      "Mosskullestigen\n"
     ]
    },
    {
     "name": "stderr",
     "output_type": "stream",
     "text": [
      " 57%|█████▋    | 3305/5788 [22:39<20:13,  2.05it/s]"
     ]
    },
    {
     "name": "stdout",
     "output_type": "stream",
     "text": [
      "Mosskullevägen\n"
     ]
    },
    {
     "name": "stderr",
     "output_type": "stream",
     "text": [
      " 57%|█████▋    | 3307/5788 [22:40<15:02,  2.75it/s]"
     ]
    },
    {
     "name": "stdout",
     "output_type": "stream",
     "text": [
      "Mosslyckevägen\n",
      "Mosstuvevägen\n"
     ]
    },
    {
     "name": "stderr",
     "output_type": "stream",
     "text": [
      " 57%|█████▋    | 3308/5788 [22:41<21:05,  1.96it/s]"
     ]
    },
    {
     "name": "stdout",
     "output_type": "stream",
     "text": [
      "Mossängsgatan\n",
      "Motgången\n"
     ]
    },
    {
     "name": "stderr",
     "output_type": "stream",
     "text": [
      " 57%|█████▋    | 3313/5788 [22:42<11:27,  3.60it/s]"
     ]
    },
    {
     "name": "stdout",
     "output_type": "stream",
     "text": [
      "Motionsvägen\n",
      "Motorbåtsgatan\n",
      "Motorgatan\n",
      "Motorklubbsvägen\n",
      "Mottagaregatan\n"
     ]
    },
    {
     "name": "stderr",
     "output_type": "stream",
     "text": [
      " 57%|█████▋    | 3315/5788 [22:42<08:35,  4.80it/s]"
     ]
    },
    {
     "name": "stdout",
     "output_type": "stream",
     "text": [
      "Muleredsvägen\n",
      "Mungårdsgatan\n"
     ]
    },
    {
     "name": "stderr",
     "output_type": "stream",
     "text": [
      " 57%|█████▋    | 3317/5788 [22:42<07:30,  5.48it/s]"
     ]
    },
    {
     "name": "stdout",
     "output_type": "stream",
     "text": [
      "Munjasvägen\n",
      "Munkebäcks Allé\n"
     ]
    },
    {
     "name": "stderr",
     "output_type": "stream",
     "text": [
      " 57%|█████▋    | 3319/5788 [22:45<21:54,  1.88it/s]"
     ]
    },
    {
     "name": "stdout",
     "output_type": "stream",
     "text": [
      "Munkebäcksgatan\n"
     ]
    },
    {
     "name": "stderr",
     "output_type": "stream",
     "text": [
      " 57%|█████▋    | 3323/5788 [22:48<21:58,  1.87it/s]"
     ]
    },
    {
     "name": "stdout",
     "output_type": "stream",
     "text": [
      "Munkebäckstorget\n",
      "Munkedalsgatan\n",
      "Munspelsgatan\n",
      "Muraregatan\n",
      "Murklevägen\n",
      "Murklockegången\n"
     ]
    },
    {
     "name": "stderr",
     "output_type": "stream",
     "text": [
      " 58%|█████▊    | 3329/5788 [22:48<09:38,  4.25it/s]"
     ]
    },
    {
     "name": "stdout",
     "output_type": "stream",
     "text": [
      "Murmästaregatan\n",
      "Museibacken\n",
      "Museivägen\n",
      "Musikvägen\n",
      "Muskotgatan\n"
     ]
    },
    {
     "name": "stderr",
     "output_type": "stream",
     "text": [
      " 58%|█████▊    | 3331/5788 [22:50<17:12,  2.38it/s]"
     ]
    },
    {
     "name": "stdout",
     "output_type": "stream",
     "text": [
      "Myggan Ericsons gata\n",
      "Myntgatan\n"
     ]
    },
    {
     "name": "stderr",
     "output_type": "stream",
     "text": [
      " 58%|█████▊    | 3333/5788 [22:51<20:04,  2.04it/s]"
     ]
    },
    {
     "name": "stdout",
     "output_type": "stream",
     "text": [
      "Myrbostigen\n",
      "Myrbovägen\n",
      "Myrbäcksvägen\n"
     ]
    },
    {
     "name": "stderr",
     "output_type": "stream",
     "text": [
      " 58%|█████▊    | 3337/5788 [22:52<16:16,  2.51it/s]"
     ]
    },
    {
     "name": "stdout",
     "output_type": "stream",
     "text": [
      "Myrekärrsvägen\n",
      "Myrliljevägen\n",
      "Myrstigen\n",
      "Mystastigen\n",
      "Mysternavägen\n"
     ]
    },
    {
     "name": "stderr",
     "output_type": "stream",
     "text": [
      " 58%|█████▊    | 3341/5788 [22:53<09:34,  4.26it/s]"
     ]
    },
    {
     "name": "stdout",
     "output_type": "stream",
     "text": [
      "Mystängen\n"
     ]
    },
    {
     "name": "stderr",
     "output_type": "stream",
     "text": [
      " 58%|█████▊    | 3347/5788 [22:53<05:36,  7.25it/s]"
     ]
    },
    {
     "name": "stdout",
     "output_type": "stream",
     "text": [
      "Märgelstigen\n",
      "Märlspiksgatan\n",
      "Märta Ternstedts gata\n",
      "Mässans gata\n",
      "Mässingsgatan\n",
      "Mäster Bengtsgatan\n",
      "Mäster Johansgatan\n"
     ]
    },
    {
     "name": "stderr",
     "output_type": "stream",
     "text": [
      " 58%|█████▊    | 3352/5788 [22:53<03:34, 11.35it/s]"
     ]
    },
    {
     "name": "stdout",
     "output_type": "stream",
     "text": [
      "Mäster Palmsgatan\n",
      "Mätaregatan\n",
      "Måhultsvägen\n",
      "Målaregatan\n",
      "Månadsgatan\n"
     ]
    },
    {
     "name": "stderr",
     "output_type": "stream",
     "text": [
      " 58%|█████▊    | 3355/5788 [22:54<04:30,  8.99it/s]"
     ]
    },
    {
     "name": "stdout",
     "output_type": "stream",
     "text": [
      "Måns Bryntessonsgatan\n",
      "Måns Bryntessonsplatsen\n",
      "Måns Torbjörnsvägen\n"
     ]
    },
    {
     "name": "stderr",
     "output_type": "stream",
     "text": [
      " 58%|█████▊    | 3360/5788 [22:55<05:50,  6.93it/s]"
     ]
    },
    {
     "name": "stdout",
     "output_type": "stream",
     "text": [
      "Månsegårdsgatan\n",
      "Månskäregatan\n",
      "Månstensgatan\n",
      "Månviolsvägen\n"
     ]
    },
    {
     "name": "stderr",
     "output_type": "stream",
     "text": [
      " 58%|█████▊    | 3364/5788 [22:55<05:07,  7.87it/s]"
     ]
    },
    {
     "name": "stdout",
     "output_type": "stream",
     "text": [
      "Mårbackagatan\n",
      "Mårdgatan\n",
      "Måsgatan\n",
      "Måsholmsvägen\n",
      "Mölndalsvägen\n"
     ]
    },
    {
     "name": "stderr",
     "output_type": "stream",
     "text": [
      " 58%|█████▊    | 3366/5788 [22:59<25:58,  1.55it/s]"
     ]
    },
    {
     "name": "stdout",
     "output_type": "stream",
     "text": [
      "Mölnesjögatan\n"
     ]
    },
    {
     "name": "stderr",
     "output_type": "stream",
     "text": [
      " 58%|█████▊    | 3370/5788 [23:00<15:27,  2.61it/s]"
     ]
    },
    {
     "name": "stdout",
     "output_type": "stream",
     "text": [
      "Mörnersgatan\n",
      "Mörängens Lycka\n",
      "Mötesplatsen\n",
      "Möttviksvägen\n"
     ]
    },
    {
     "name": "stderr",
     "output_type": "stream",
     "text": [
      " 58%|█████▊    | 3378/5788 [23:00<05:53,  6.82it/s]"
     ]
    },
    {
     "name": "stdout",
     "output_type": "stream",
     "text": [
      "Nabbevägen\n",
      "Nansensgatan\n",
      "Nathalia Ahlströms Gångväg\n",
      "Nattviolsgatan\n",
      "Navigationsvägen\n",
      "Nebulosagatan\n",
      "Nedergårdsgatan\n",
      "Nedre Bulleråsgången\n",
      "Nedre Buråsliden\n"
     ]
    },
    {
     "name": "stderr",
     "output_type": "stream",
     "text": [
      " 58%|█████▊    | 3384/5788 [23:00<03:59, 10.04it/s]"
     ]
    },
    {
     "name": "stdout",
     "output_type": "stream",
     "text": [
      "Nedre Fogelbergsgatan\n",
      "Nedre Hjällbogärdet\n",
      "Nedre Hägnavägen\n",
      "Nedre Karlslundsvägen\n",
      "Nedre Kaserngården\n"
     ]
    },
    {
     "name": "stderr",
     "output_type": "stream",
     "text": [
      " 59%|█████▊    | 3387/5788 [23:01<03:41, 10.82it/s]"
     ]
    },
    {
     "name": "stdout",
     "output_type": "stream",
     "text": [
      "Nedre Kvarnbergsgatan\n",
      "Nedre Linnarhultsvägen\n",
      "Nedre Matrosgatan\n"
     ]
    },
    {
     "name": "stderr",
     "output_type": "stream",
     "text": [
      " 59%|█████▊    | 3393/5788 [23:01<02:34, 15.46it/s]"
     ]
    },
    {
     "name": "stdout",
     "output_type": "stream",
     "text": [
      "Nedstigen\n",
      "Nellickevägen\n",
      "Nellikevägen\n",
      "Nelly Thürings Trappa\n",
      "Neptunusgatan\n",
      "Nergårdsvägen\n"
     ]
    },
    {
     "name": "stderr",
     "output_type": "stream",
     "text": [
      " 59%|█████▊    | 3396/5788 [23:01<02:12, 17.99it/s]"
     ]
    },
    {
     "name": "stdout",
     "output_type": "stream",
     "text": [
      "Nerzgatan\n",
      "Nickelmyntsgatan\n",
      "Nickes väg\n"
     ]
    },
    {
     "name": "stderr",
     "output_type": "stream",
     "text": [
      " 59%|█████▊    | 3399/5788 [23:01<02:39, 14.99it/s]"
     ]
    },
    {
     "name": "stdout",
     "output_type": "stream",
     "text": [
      "Niklas gata\n",
      "Niklasgården\n",
      "Nils Dahlbecks gata\n",
      "Nils Ericsonsgatan\n",
      "Nils Ericsonsplatsen\n"
     ]
    },
    {
     "name": "stderr",
     "output_type": "stream",
     "text": [
      " 59%|█████▉    | 3404/5788 [23:03<07:34,  5.25it/s]"
     ]
    },
    {
     "name": "stdout",
     "output_type": "stream",
     "text": [
      "Nils Holgerssons gata\n",
      "Nils Holgerssons plats\n",
      "Nils Mattssons väg\n",
      "Nils Oderstams Gångstig\n",
      "Nils Svenssons gata\n",
      "Nilses Bratter\n"
     ]
    },
    {
     "name": "stderr",
     "output_type": "stream",
     "text": [
      " 59%|█████▉    | 3408/5788 [23:03<05:02,  7.88it/s]"
     ]
    },
    {
     "name": "stdout",
     "output_type": "stream",
     "text": [
      "Nilssonsberg\n",
      "Nimbusgatan\n",
      "Nitaregatan\n"
     ]
    },
    {
     "name": "stderr",
     "output_type": "stream",
     "text": [
      " 59%|█████▉    | 3411/5788 [23:04<07:23,  5.35it/s]"
     ]
    },
    {
     "name": "stdout",
     "output_type": "stream",
     "text": [
      "Nobelgatan\n",
      "Nobelplatsen\n",
      "Nolebrunnsgatan\n",
      "Nolehultsvägen\n"
     ]
    },
    {
     "name": "stderr",
     "output_type": "stream",
     "text": [
      " 59%|█████▉    | 3415/5788 [23:05<08:28,  4.66it/s]"
     ]
    },
    {
     "name": "stdout",
     "output_type": "stream",
     "text": [
      "Nolereds Skolväg\n",
      "Noleredsvägen\n",
      "Nolhaga\n",
      "Nolhöjdsvägen\n"
     ]
    },
    {
     "name": "stderr",
     "output_type": "stream",
     "text": [
      " 59%|█████▉    | 3419/5788 [23:06<06:56,  5.68it/s]"
     ]
    },
    {
     "name": "stdout",
     "output_type": "stream",
     "text": [
      "Nolviks Kile\n"
     ]
    },
    {
     "name": "stderr",
     "output_type": "stream",
     "text": [
      " 59%|█████▉    | 3421/5788 [23:07<10:05,  3.91it/s]"
     ]
    },
    {
     "name": "stdout",
     "output_type": "stream",
     "text": [
      "Nolviks Äng\n",
      "Nolviksvägen\n"
     ]
    },
    {
     "name": "stderr",
     "output_type": "stream",
     "text": [
      " 59%|█████▉    | 3424/5788 [23:08<11:15,  3.50it/s]"
     ]
    },
    {
     "name": "stdout",
     "output_type": "stream",
     "text": [
      "Nolängsvägen\n",
      "Nonnensgatan\n",
      "Nordanvindsgatan\n"
     ]
    },
    {
     "name": "stderr",
     "output_type": "stream",
     "text": [
      " 59%|█████▉    | 3425/5788 [23:08<10:35,  3.72it/s]"
     ]
    },
    {
     "name": "stdout",
     "output_type": "stream",
     "text": [
      "Nordatlanten\n"
     ]
    },
    {
     "name": "stderr",
     "output_type": "stream",
     "text": [
      " 59%|█████▉    | 3428/5788 [23:10<15:03,  2.61it/s]"
     ]
    },
    {
     "name": "stdout",
     "output_type": "stream",
     "text": [
      "Nordenskiöldsgatan\n",
      "Nordfjällsvägen\n",
      "Nordgårdsgatan\n",
      "Nordhagsvägen\n",
      "Nordhemsgatan\n"
     ]
    },
    {
     "name": "stderr",
     "output_type": "stream",
     "text": [
      " 59%|█████▉    | 3432/5788 [23:11<08:03,  4.87it/s]"
     ]
    },
    {
     "name": "stdout",
     "output_type": "stream",
     "text": [
      "Nordmarksgatan\n",
      "Nordostpassagen\n"
     ]
    },
    {
     "name": "stderr",
     "output_type": "stream",
     "text": [
      " 59%|█████▉    | 3436/5788 [23:12<10:48,  3.63it/s]"
     ]
    },
    {
     "name": "stdout",
     "output_type": "stream",
     "text": [
      "Nordreviksvägen\n",
      "Nordsjön\n",
      "Nordslätts Höjd\n",
      "Nordslättsberget\n",
      "Nordslättsvägen\n",
      "Nordstans lastgata\n",
      "Nordtångsvägen\n"
     ]
    },
    {
     "name": "stderr",
     "output_type": "stream",
     "text": [
      " 59%|█████▉    | 3440/5788 [23:12<06:22,  6.14it/s]"
     ]
    },
    {
     "name": "stdout",
     "output_type": "stream",
     "text": [
      "Nordviksgatan\n"
     ]
    },
    {
     "name": "stderr",
     "output_type": "stream",
     "text": [
      " 60%|█████▉    | 3447/5788 [23:13<03:48, 10.23it/s]"
     ]
    },
    {
     "name": "stdout",
     "output_type": "stream",
     "text": [
      "Nordängen\n",
      "Nordåsgatan\n",
      "Norfeltsvägen\n",
      "Norgevägen\n",
      "Norgårdsliden\n",
      "Norgårdsåsen\n",
      "Norra Allégatan\n",
      "Norra Backavägen\n",
      "Norra Breviksvägen\n"
     ]
    },
    {
     "name": "stderr",
     "output_type": "stream",
     "text": [
      " 60%|█████▉    | 3450/5788 [23:13<03:23, 11.48it/s]"
     ]
    },
    {
     "name": "stdout",
     "output_type": "stream",
     "text": [
      "Norra Dahlhemsvägen\n",
      "Norra Deltavägen\n",
      "Norra Dragspelsgatan\n"
     ]
    },
    {
     "name": "stderr",
     "output_type": "stream",
     "text": [
      " 60%|█████▉    | 3453/5788 [23:13<03:39, 10.62it/s]"
     ]
    },
    {
     "name": "stdout",
     "output_type": "stream",
     "text": [
      "Norra Fiskebäcksvägen\n"
     ]
    },
    {
     "name": "stderr",
     "output_type": "stream",
     "text": [
      " 60%|█████▉    | 3457/5788 [23:14<04:04,  9.54it/s]"
     ]
    },
    {
     "name": "stdout",
     "output_type": "stream",
     "text": [
      "Norra Fjädermolnsgatan\n",
      "Norra Flundregatan\n",
      "Norra Fyrljusvägen\n",
      "Norra Fågelrovägen\n"
     ]
    },
    {
     "name": "stderr",
     "output_type": "stream",
     "text": [
      " 60%|█████▉    | 3459/5788 [23:14<03:57,  9.82it/s]"
     ]
    },
    {
     "name": "stdout",
     "output_type": "stream",
     "text": [
      "Norra Grinnekärrsvägen\n",
      "Norra Gubberogatan\n",
      "Norra Hamngatan\n"
     ]
    },
    {
     "name": "stderr",
     "output_type": "stream",
     "text": [
      " 60%|█████▉    | 3465/5788 [23:15<05:29,  7.05it/s]"
     ]
    },
    {
     "name": "stdout",
     "output_type": "stream",
     "text": [
      "Norra Hultet\n",
      "Norra Krokslättsgatan\n",
      "Norra Kustbanegatan\n",
      "Norra Liden\n",
      "Norra Lyckekärrsvägen\n",
      "Norra Lysevägen\n"
     ]
    },
    {
     "name": "stderr",
     "output_type": "stream",
     "text": [
      " 60%|█████▉    | 3470/5788 [23:16<04:22,  8.83it/s]"
     ]
    },
    {
     "name": "stdout",
     "output_type": "stream",
     "text": [
      "Norra Långebergsgatan\n",
      "Norra Nordslättsvägen\n",
      "Norra Pingstliljegatan\n",
      "Norra Rosenbergsgatan\n",
      "Norra Röseredsvägen\n"
     ]
    },
    {
     "name": "stderr",
     "output_type": "stream",
     "text": [
      " 60%|██████    | 3473/5788 [23:16<03:28, 11.10it/s]"
     ]
    },
    {
     "name": "stdout",
     "output_type": "stream",
     "text": [
      "Norra Saltsjönäsvägen\n",
      "Norra Sextantgatan\n",
      "Norra Sjöfarten\n"
     ]
    },
    {
     "name": "stderr",
     "output_type": "stream",
     "text": [
      " 60%|██████    | 3475/5788 [23:16<04:39,  8.29it/s]"
     ]
    },
    {
     "name": "stdout",
     "output_type": "stream",
     "text": [
      "Norra Sjöslingan\n"
     ]
    },
    {
     "name": "stderr",
     "output_type": "stream",
     "text": [
      " 60%|██████    | 3477/5788 [23:17<05:45,  6.69it/s]"
     ]
    },
    {
     "name": "stdout",
     "output_type": "stream",
     "text": [
      "Norra Skeppspromenaden\n",
      "Norra Stallbacksvägen\n",
      "Norra Stenebyvägen\n"
     ]
    },
    {
     "name": "stderr",
     "output_type": "stream",
     "text": [
      " 60%|██████    | 3481/5788 [23:17<04:32,  8.45it/s]"
     ]
    },
    {
     "name": "stdout",
     "output_type": "stream",
     "text": [
      "Norra Sälöfjordsgatan\n",
      "Norra Säterigatan\n",
      "Norra Sävviksvägen\n",
      "Norra Tandåstrappan\n",
      "Norra Uppegården\n",
      "Norra Vaktmansgatan\n"
     ]
    },
    {
     "name": "stderr",
     "output_type": "stream",
     "text": [
      " 60%|██████    | 3489/5788 [23:17<02:43, 14.03it/s]"
     ]
    },
    {
     "name": "stdout",
     "output_type": "stream",
     "text": [
      "Norra gatan\n",
      "Norra hjuviksvägen\n",
      "Norra Ågatan\n",
      "Norrskensgatan\n",
      "Norrviksgatan\n",
      "Norska gatan\n"
     ]
    },
    {
     "name": "stderr",
     "output_type": "stream",
     "text": [
      " 60%|██████    | 3495/5788 [23:18<02:09, 17.67it/s]"
     ]
    },
    {
     "name": "stdout",
     "output_type": "stream",
     "text": [
      "Norskogsvägen\n",
      "Norströmsgatan\n",
      "Nortagene Gård\n",
      "Nortagenegången\n",
      "Nortagenevägen\n"
     ]
    },
    {
     "name": "stderr",
     "output_type": "stream",
     "text": [
      " 60%|██████    | 3498/5788 [23:19<06:13,  6.13it/s]"
     ]
    },
    {
     "name": "stdout",
     "output_type": "stream",
     "text": [
      "Norumsbergsvägen\n",
      "Norumsgärde\n",
      "Norumshöjd\n",
      "Norumsvägen\n"
     ]
    },
    {
     "name": "stderr",
     "output_type": "stream",
     "text": [
      " 61%|██████    | 3503/5788 [23:19<04:27,  8.54it/s]"
     ]
    },
    {
     "name": "stdout",
     "output_type": "stream",
     "text": [
      "Nostravägen\n",
      "Novembergatan\n",
      "Nya Allén\n",
      "Nya Bergets Väg\n",
      "Nya Bergets väg\n"
     ]
    },
    {
     "name": "stderr",
     "output_type": "stream",
     "text": [
      " 61%|██████    | 3506/5788 [23:19<03:54,  9.75it/s]"
     ]
    },
    {
     "name": "stdout",
     "output_type": "stream",
     "text": [
      "Nya Gärdets väg\n",
      "Nya Skogomevägen\n",
      "Nya Tingstadsgatan\n"
     ]
    },
    {
     "name": "stderr",
     "output_type": "stream",
     "text": [
      " 61%|██████    | 3508/5788 [23:20<03:33, 10.67it/s]"
     ]
    },
    {
     "name": "stdout",
     "output_type": "stream",
     "text": [
      "Nya Varvsallén\n",
      "Nya Älvegårdsvägen\n"
     ]
    },
    {
     "name": "stderr",
     "output_type": "stream",
     "text": [
      " 61%|██████    | 3514/5788 [23:24<12:31,  3.02it/s]"
     ]
    },
    {
     "name": "stdout",
     "output_type": "stream",
     "text": [
      "Nybergsgatan\n",
      "Nybonns väg\n",
      "Nybyggesgatan\n",
      "Nyhagen\n",
      "Nyhemsgatan\n",
      "Nykomsvägen\n"
     ]
    },
    {
     "name": "stderr",
     "output_type": "stream",
     "text": [
      " 61%|██████    | 3516/5788 [23:24<10:22,  3.65it/s]"
     ]
    },
    {
     "name": "stdout",
     "output_type": "stream",
     "text": [
      "Nylänningen\n"
     ]
    },
    {
     "name": "stderr",
     "output_type": "stream",
     "text": [
      " 61%|██████    | 3518/5788 [23:24<08:58,  4.21it/s]"
     ]
    },
    {
     "name": "stdout",
     "output_type": "stream",
     "text": [
      "Nylösegatan\n",
      "Nymilsgatan\n",
      "Nymånegatan\n"
     ]
    },
    {
     "name": "stderr",
     "output_type": "stream",
     "text": [
      " 61%|██████    | 3525/5788 [23:24<04:31,  8.33it/s]"
     ]
    },
    {
     "name": "stdout",
     "output_type": "stream",
     "text": [
      "Nyodlaregatan\n",
      "Nypongången\n",
      "Nyströmsstigen\n",
      "Nytorpsliden\n",
      "Nyängsvägen\n",
      "Nyårsvägen\n",
      "Näckengången\n"
     ]
    },
    {
     "name": "stderr",
     "output_type": "stream",
     "text": [
      " 61%|██████    | 3531/5788 [23:25<03:06, 12.11it/s]"
     ]
    },
    {
     "name": "stdout",
     "output_type": "stream",
     "text": [
      "Näckrosvägen\n",
      "Näktergalsgatan\n",
      "Nämndemansgärdet\n",
      "Närgången\n",
      "Näsberget\n",
      "Näsbovägen\n"
     ]
    },
    {
     "name": "stderr",
     "output_type": "stream",
     "text": [
      " 61%|██████    | 3534/5788 [23:25<02:47, 13.47it/s]"
     ]
    },
    {
     "name": "stdout",
     "output_type": "stream",
     "text": [
      "Näsets Backaväg\n",
      "Näsets Badväg\n",
      "Näsets Vinkelväg\n",
      "Näsetvägen\n"
     ]
    },
    {
     "name": "stderr",
     "output_type": "stream",
     "text": [
      " 61%|██████    | 3537/5788 [23:31<25:17,  1.48it/s]"
     ]
    },
    {
     "name": "stdout",
     "output_type": "stream",
     "text": [
      "Näverlursgatan\n",
      "Nålmakaregatan\n",
      "Nösundsgatan\n"
     ]
    },
    {
     "name": "stderr",
     "output_type": "stream",
     "text": [
      " 61%|██████    | 3539/5788 [23:31<20:33,  1.82it/s]"
     ]
    },
    {
     "name": "stdout",
     "output_type": "stream",
     "text": [
      "Nöthultsvägen\n",
      "Nötveckestupet\n",
      "Nötöstigen\n",
      "Odenssvalevägen\n",
      "Odinsgatan\n"
     ]
    },
    {
     "name": "stderr",
     "output_type": "stream",
     "text": [
      " 61%|██████    | 3545/5788 [23:32<11:36,  3.22it/s]"
     ]
    },
    {
     "name": "stdout",
     "output_type": "stream",
     "text": [
      "Odinslundsgatan\n",
      "Odlarevägen\n",
      "Odlingsgången\n"
     ]
    },
    {
     "name": "stderr",
     "output_type": "stream",
     "text": [
      " 61%|██████▏   | 3553/5788 [23:32<06:18,  5.90it/s]"
     ]
    },
    {
     "name": "stdout",
     "output_type": "stream",
     "text": [
      "Odlingsvägen\n",
      "Officersbacken\n",
      "Oklandsåsen\n",
      "Oktangatan\n",
      "Oktettgången\n",
      "Oktobergatan\n",
      "Olaus Petrigatan\n",
      "Olaus Petris Trappor\n",
      "Olbersgatan\n"
     ]
    },
    {
     "name": "stderr",
     "output_type": "stream",
     "text": [
      " 61%|██████▏   | 3557/5788 [23:32<05:28,  6.80it/s]"
     ]
    },
    {
     "name": "stdout",
     "output_type": "stream",
     "text": [
      "Ole Måns gata\n",
      "Olenas Lycka\n",
      "Olgas trappor\n",
      "Olivedalsgatan\n"
     ]
    },
    {
     "name": "stderr",
     "output_type": "stream",
     "text": [
      " 62%|██████▏   | 3564/5788 [23:33<03:44,  9.90it/s]"
     ]
    },
    {
     "name": "stdout",
     "output_type": "stream",
     "text": [
      "Olivias äng\n",
      "Oljekvarnsgatan\n",
      "Oljenäsvägen\n",
      "Oljevägen\n"
     ]
    },
    {
     "name": "stderr",
     "output_type": "stream",
     "text": [
      " 62%|██████▏   | 3567/5788 [23:39<23:58,  1.54it/s]"
     ]
    },
    {
     "name": "stdout",
     "output_type": "stream",
     "text": [
      "Olle Nystedts Plats\n",
      "Olof Asklunds gata\n",
      "Olof Rudbecksgatan\n",
      "Olof Skötkonungsgatan\n"
     ]
    },
    {
     "name": "stderr",
     "output_type": "stream",
     "text": [
      " 62%|██████▏   | 3569/5788 [23:41<23:37,  1.57it/s]"
     ]
    },
    {
     "name": "stdout",
     "output_type": "stream",
     "text": [
      "Olof Strålegatan\n",
      "Olof Wijksgatan\n"
     ]
    },
    {
     "name": "stderr",
     "output_type": "stream",
     "text": [
      " 62%|██████▏   | 3578/5788 [23:41<09:43,  3.79it/s]"
     ]
    },
    {
     "name": "stdout",
     "output_type": "stream",
     "text": [
      "Olofsberg\n",
      "Olofshöjdsgatan\n",
      "Olofslättsvägen\n",
      "Olofstorps Lyckhem\n",
      "Olofstorps Skolväg\n",
      "Olofstorpsvägen\n",
      "Olshammarsgatan\n",
      "Olskroksgatan\n",
      "Olskrokstorget\n",
      "Olsmässogatan\n",
      "Omgången\n"
     ]
    },
    {
     "name": "stderr",
     "output_type": "stream",
     "text": [
      " 62%|██████▏   | 3585/5788 [23:42<06:14,  5.89it/s]"
     ]
    },
    {
     "name": "stdout",
     "output_type": "stream",
     "text": [
      "Omloppsbanan\n",
      "Omvägen\n",
      "Onsdagsgatan\n",
      "Onyxgatan\n"
     ]
    },
    {
     "name": "stderr",
     "output_type": "stream",
     "text": [
      " 62%|██████▏   | 3587/5788 [23:42<05:51,  6.27it/s]"
     ]
    },
    {
     "name": "stdout",
     "output_type": "stream",
     "text": [
      "Opalgatan\n",
      "Opaltorget\n",
      "Operagatan\n"
     ]
    },
    {
     "name": "stderr",
     "output_type": "stream",
     "text": [
      " 62%|██████▏   | 3589/5788 [23:42<07:19,  5.00it/s]"
     ]
    },
    {
     "name": "stdout",
     "output_type": "stream",
     "text": [
      "Orangerigatan\n"
     ]
    },
    {
     "name": "stderr",
     "output_type": "stream",
     "text": [
      " 62%|██████▏   | 3591/5788 [23:43<06:52,  5.33it/s]"
     ]
    },
    {
     "name": "stdout",
     "output_type": "stream",
     "text": [
      "Ordonnansgatan\n",
      "Oreganogatan\n"
     ]
    },
    {
     "name": "stderr",
     "output_type": "stream",
     "text": [
      " 62%|██████▏   | 3593/5788 [23:44<10:52,  3.36it/s]"
     ]
    },
    {
     "name": "stdout",
     "output_type": "stream",
     "text": [
      "Organistvägen\n",
      "Orgelgatan\n",
      "Orienteraren\n"
     ]
    },
    {
     "name": "stderr",
     "output_type": "stream",
     "text": [
      " 62%|██████▏   | 3598/5788 [23:45<07:10,  5.09it/s]"
     ]
    },
    {
     "name": "stdout",
     "output_type": "stream",
     "text": [
      "Origovägen\n",
      "Orion\n",
      "Orkestergatan\n",
      "Orkidévägen\n",
      "Ormbunkegatan\n"
     ]
    },
    {
     "name": "stderr",
     "output_type": "stream",
     "text": [
      " 62%|██████▏   | 3603/5788 [23:45<04:32,  8.01it/s]"
     ]
    },
    {
     "name": "stdout",
     "output_type": "stream",
     "text": [
      "Ormebäcksgatan\n",
      "Ormelidsvägen\n",
      "Ormeslättsstigen\n",
      "Ormgatan\n"
     ]
    },
    {
     "name": "stderr",
     "output_type": "stream",
     "text": [
      " 62%|██████▏   | 3607/5788 [23:45<03:06, 11.71it/s]"
     ]
    },
    {
     "name": "stdout",
     "output_type": "stream",
     "text": [
      "Ormåsvägen\n",
      "Orrebacksgatan\n",
      "Orregatan\n",
      "Orrekulla Industrigata\n"
     ]
    },
    {
     "name": "stderr",
     "output_type": "stream",
     "text": [
      " 62%|██████▏   | 3610/5788 [23:48<14:49,  2.45it/s]"
     ]
    },
    {
     "name": "stdout",
     "output_type": "stream",
     "text": [
      "Orrekulla Mellanväg\n",
      "Orrekullagatan\n",
      "Orrspelsgatan\n",
      "Orustgatan\n"
     ]
    },
    {
     "name": "stderr",
     "output_type": "stream",
     "text": [
      " 62%|██████▏   | 3614/5788 [23:49<09:45,  3.72it/s]"
     ]
    },
    {
     "name": "stdout",
     "output_type": "stream",
     "text": [
      "Osbergsgatan\n",
      "Oscar Fredriks Kyrkogata\n",
      "Oscar Fredriks Kyrkoplan\n",
      "Oscar Hanssons Trappor\n",
      "Oskars Lycka\n"
     ]
    },
    {
     "name": "stderr",
     "output_type": "stream",
     "text": [
      " 63%|██████▎   | 3619/5788 [23:49<06:03,  5.96it/s]"
     ]
    },
    {
     "name": "stdout",
     "output_type": "stream",
     "text": [
      "Oskars Äng\n",
      "Oskarsbergsvägen\n",
      "Oskarsgatan\n",
      "Oslogatan\n",
      "Ostgatan\n"
     ]
    },
    {
     "name": "stderr",
     "output_type": "stream",
     "text": [
      " 63%|██████▎   | 3624/5788 [23:50<06:02,  5.97it/s]"
     ]
    },
    {
     "name": "stdout",
     "output_type": "stream",
     "text": [
      "Ostindiefararen\n",
      "Ostindiegatan\n",
      "Ostrongatan\n"
     ]
    },
    {
     "name": "stderr",
     "output_type": "stream",
     "text": [
      " 63%|██████▎   | 3626/5788 [23:50<05:25,  6.64it/s]"
     ]
    },
    {
     "name": "stdout",
     "output_type": "stream",
     "text": [
      "Oterdahlsgatan\n",
      "Otterbäcksvägen\n",
      "Otterhällegatan\n"
     ]
    },
    {
     "name": "stderr",
     "output_type": "stream",
     "text": [
      " 63%|██████▎   | 3630/5788 [23:50<03:47,  9.48it/s]"
     ]
    },
    {
     "name": "stdout",
     "output_type": "stream",
     "text": [
      "Otterklintsvägen\n",
      "Ottfjällsgatan\n",
      "Otto Elanders gata\n"
     ]
    },
    {
     "name": "stderr",
     "output_type": "stream",
     "text": [
      " 63%|██████▎   | 3632/5788 [23:51<07:59,  4.49it/s]"
     ]
    },
    {
     "name": "stdout",
     "output_type": "stream",
     "text": [
      "Outbound lane 1\n",
      "Outbound lane 2\n",
      "Ovanskogsliden\n",
      "Ovanskogstrappan\n",
      "Ovädersgatan\n"
     ]
    },
    {
     "name": "stderr",
     "output_type": "stream",
     "text": [
      " 63%|██████▎   | 3639/5788 [23:52<06:03,  5.91it/s]"
     ]
    },
    {
     "name": "stdout",
     "output_type": "stream",
     "text": [
      "Oxelgatan\n",
      "Oxelgången\n",
      "Oxelgården\n",
      "Oxerödsgatan\n"
     ]
    },
    {
     "name": "stderr",
     "output_type": "stream",
     "text": [
      " 63%|██████▎   | 3643/5788 [23:53<04:25,  8.08it/s]"
     ]
    },
    {
     "name": "stdout",
     "output_type": "stream",
     "text": [
      "Oxforan\n",
      "Oxhagens Rosenhill\n",
      "Oxhagsgatan\n",
      "Oxholmsgatan\n"
     ]
    },
    {
     "name": "stderr",
     "output_type": "stream",
     "text": [
      " 63%|██████▎   | 3645/5788 [23:53<03:52,  9.20it/s]"
     ]
    },
    {
     "name": "stdout",
     "output_type": "stream",
     "text": [
      "Oxögedal\n",
      "PV gatan\n"
     ]
    },
    {
     "name": "stderr",
     "output_type": "stream",
     "text": [
      " 63%|██████▎   | 3649/5788 [23:54<06:06,  5.83it/s]"
     ]
    },
    {
     "name": "stdout",
     "output_type": "stream",
     "text": [
      "Packhusgatan\n",
      "Packhusplatsen\n",
      "Palacehusets personalbro\n",
      "Pallasgatan\n",
      "Palmstedtsgatan\n",
      "Palmsundsgatan\n"
     ]
    },
    {
     "name": "stderr",
     "output_type": "stream",
     "text": [
      " 63%|██████▎   | 3653/5788 [23:54<03:55,  9.08it/s]"
     ]
    },
    {
     "name": "stdout",
     "output_type": "stream",
     "text": [
      "Palmträgatan\n",
      "Panoramavägen\n",
      "Pappersmakaregatan\n"
     ]
    },
    {
     "name": "stderr",
     "output_type": "stream",
     "text": [
      " 63%|██████▎   | 3655/5788 [23:54<03:56,  9.04it/s]"
     ]
    },
    {
     "name": "stdout",
     "output_type": "stream",
     "text": [
      "Paprikagatan\n",
      "Paradisgatan\n",
      "Parkgatan\n"
     ]
    },
    {
     "name": "stderr",
     "output_type": "stream",
     "text": [
      " 63%|██████▎   | 3658/5788 [23:55<06:50,  5.19it/s]"
     ]
    },
    {
     "name": "stdout",
     "output_type": "stream",
     "text": [
      "Parkuddsgatan\n",
      "Parmmätaregatan\n",
      "Partihallsförbindelsen\n",
      "Partihandelsgatan\n"
     ]
    },
    {
     "name": "stderr",
     "output_type": "stream",
     "text": [
      " 63%|██████▎   | 3662/5788 [23:56<06:35,  5.37it/s]"
     ]
    },
    {
     "name": "stdout",
     "output_type": "stream",
     "text": [
      "Partihandelstorget\n",
      "Partillevägen\n"
     ]
    },
    {
     "name": "stderr",
     "output_type": "stream",
     "text": [
      " 63%|██████▎   | 3667/5788 [23:56<04:26,  7.96it/s]"
     ]
    },
    {
     "name": "stdout",
     "output_type": "stream",
     "text": [
      "Paternostergatan\n",
      "Patrullgatan\n",
      "Pauls Höjd\n",
      "Paviljongvägen\n"
     ]
    },
    {
     "name": "stderr",
     "output_type": "stream",
     "text": [
      " 63%|██████▎   | 3671/5788 [23:57<03:31, 10.00it/s]"
     ]
    },
    {
     "name": "stdout",
     "output_type": "stream",
     "text": [
      "Pejlingsgatan\n",
      "Penninggatan\n",
      "Pennygången\n",
      "Penselgatan\n",
      "Penségången\n",
      "Pepitas gata\n"
     ]
    },
    {
     "name": "stderr",
     "output_type": "stream",
     "text": [
      " 63%|██████▎   | 3675/5788 [23:57<02:42, 12.97it/s]"
     ]
    },
    {
     "name": "stdout",
     "output_type": "stream",
     "text": [
      "Peppargatan\n",
      "Per Dubbsgatan\n"
     ]
    },
    {
     "name": "stderr",
     "output_type": "stream",
     "text": [
      " 64%|██████▎   | 3677/5788 [24:00<13:59,  2.52it/s]"
     ]
    },
    {
     "name": "stdout",
     "output_type": "stream",
     "text": [
      "Per Nyströms Trappa\n",
      "Per Olas väg\n",
      "Per Wendelbos väg\n",
      "Per-Hans väg\n"
     ]
    },
    {
     "name": "stderr",
     "output_type": "stream",
     "text": [
      " 64%|██████▎   | 3682/5788 [24:00<08:08,  4.31it/s]"
     ]
    },
    {
     "name": "stdout",
     "output_type": "stream",
     "text": [
      "Persgatan\n",
      "Persikogatan\n",
      "Persiljegatan\n",
      "Persmässogatan\n",
      "Personalvägen\n"
     ]
    },
    {
     "name": "stderr",
     "output_type": "stream",
     "text": [
      " 64%|██████▍   | 3690/5788 [24:00<03:45,  9.29it/s]"
     ]
    },
    {
     "name": "stdout",
     "output_type": "stream",
     "text": [
      "Perukmakaregatan\n",
      "Peter Bagges gata\n",
      "Petrifängsgatan\n",
      "Petroleumgatan\n",
      "Petter-Jons gränd\n",
      "Petterkattsgatan\n",
      "Petters Hage\n",
      "Pianogatan\n"
     ]
    },
    {
     "name": "stderr",
     "output_type": "stream",
     "text": [
      " 64%|██████▍   | 3695/5788 [24:01<03:21, 10.41it/s]"
     ]
    },
    {
     "name": "stdout",
     "output_type": "stream",
     "text": [
      "Piastern\n",
      "Piggvarsgatan\n",
      "Pilbågsgatan\n",
      "Pilegården\n"
     ]
    },
    {
     "name": "stderr",
     "output_type": "stream",
     "text": [
      " 64%|██████▍   | 3699/5788 [24:01<02:50, 12.26it/s]"
     ]
    },
    {
     "name": "stdout",
     "output_type": "stream",
     "text": [
      "Pilegårdsgatan\n",
      "Pileröds Björklid\n",
      "Pileröds Gård\n",
      "Pilerödsvägen\n",
      "Pilfinksgatan\n",
      "Pilgatan\n",
      "Pilhäcksgatan\n",
      "Pilotvägen\n",
      "Pimpinellagatan\n",
      "Pingstvägen\n"
     ]
    },
    {
     "name": "stderr",
     "output_type": "stream",
     "text": [
      " 64%|██████▍   | 3716/5788 [24:01<00:56, 36.47it/s]"
     ]
    },
    {
     "name": "stdout",
     "output_type": "stream",
     "text": [
      "Pinnmovägen\n",
      "Piongatan\n",
      "Pipblåsarebacken\n",
      "Pipblåsaregatan\n",
      "Pipblåsaregången\n",
      "Piplärkevägen\n",
      "Pir 4\n",
      "Pir 5\n",
      "Planetgatan\n",
      "Plantagegatan\n",
      "Planthagen\n",
      "Plantskolevägen\n"
     ]
    },
    {
     "name": "stderr",
     "output_type": "stream",
     "text": [
      " 64%|██████▍   | 3721/5788 [24:02<01:03, 32.33it/s]"
     ]
    },
    {
     "name": "stdout",
     "output_type": "stream",
     "text": [
      "Planåsvägen\n",
      "Platinagatan\n",
      "Platågatan\n",
      "Plejadgatan\n",
      "Plikta\n",
      "Plockerotegatan\n"
     ]
    },
    {
     "name": "stderr",
     "output_type": "stream",
     "text": [
      " 64%|██████▍   | 3730/5788 [24:03<03:33,  9.64it/s]"
     ]
    },
    {
     "name": "stdout",
     "output_type": "stream",
     "text": [
      "Ploggatan\n",
      "Plommongatan\n",
      "Plutovägen\n",
      "Plåtmyntsgatan\n",
      "Plåtslagaregatan\n",
      "Poesigatan\n",
      "Poetgatan\n",
      "Polhemsplatsen\n"
     ]
    },
    {
     "name": "stderr",
     "output_type": "stream",
     "text": [
      " 65%|██████▍   | 3736/5788 [24:04<03:09, 10.86it/s]"
     ]
    },
    {
     "name": "stdout",
     "output_type": "stream",
     "text": [
      "Polkettvägen\n",
      "Pollaregatan\n",
      "Polluxgatan\n",
      "Polstjärnegatan\n"
     ]
    },
    {
     "name": "stderr",
     "output_type": "stream",
     "text": [
      " 65%|██████▍   | 3739/5788 [24:05<05:56,  5.75it/s]"
     ]
    },
    {
     "name": "stdout",
     "output_type": "stream",
     "text": [
      "Pomeransgatan\n",
      "Pomeransvägen\n",
      "Ponnybacken\n"
     ]
    },
    {
     "name": "stderr",
     "output_type": "stream",
     "text": [
      " 65%|██████▍   | 3743/5788 [24:06<04:50,  7.03it/s]"
     ]
    },
    {
     "name": "stdout",
     "output_type": "stream",
     "text": [
      "Pontus Wiknersgatan\n",
      "Poppelgatan\n",
      "Poppelgården\n",
      "Poppelmansgatan\n"
     ]
    },
    {
     "name": "stderr",
     "output_type": "stream",
     "text": [
      " 65%|██████▍   | 3745/5788 [24:06<04:13,  8.05it/s]"
     ]
    },
    {
     "name": "stdout",
     "output_type": "stream",
     "text": [
      "Positivgatan\n",
      "Postegårdsvägen\n",
      "Postflyget\n"
     ]
    },
    {
     "name": "stderr",
     "output_type": "stream",
     "text": [
      " 65%|██████▍   | 3747/5788 [24:06<04:11,  8.11it/s]"
     ]
    },
    {
     "name": "stdout",
     "output_type": "stream",
     "text": [
      "Postgatan\n"
     ]
    },
    {
     "name": "stderr",
     "output_type": "stream",
     "text": [
      " 65%|██████▍   | 3749/5788 [24:07<05:44,  5.92it/s]"
     ]
    },
    {
     "name": "stdout",
     "output_type": "stream",
     "text": [
      "Prebendegatan\n",
      "Pressplan\n",
      "Pressvägen\n"
     ]
    },
    {
     "name": "stderr",
     "output_type": "stream",
     "text": [
      " 65%|██████▍   | 3751/5788 [24:07<05:21,  6.34it/s]"
     ]
    },
    {
     "name": "stdout",
     "output_type": "stream",
     "text": [
      "Prickbojsvägen\n",
      "Prickskyttestigen\n",
      "Prilyckegatan\n"
     ]
    },
    {
     "name": "stderr",
     "output_type": "stream",
     "text": [
      " 65%|██████▍   | 3758/5788 [24:07<02:55, 11.57it/s]"
     ]
    },
    {
     "name": "stdout",
     "output_type": "stream",
     "text": [
      "Prilyckegången\n",
      "Primulagången\n",
      "Prins Eugens väg\n",
      "Prinsgatan\n",
      "Prologgatan\n",
      "Promenadstigen\n"
     ]
    },
    {
     "name": "stderr",
     "output_type": "stream",
     "text": [
      " 65%|██████▌   | 3763/5788 [24:07<02:19, 14.51it/s]"
     ]
    },
    {
     "name": "stdout",
     "output_type": "stream",
     "text": [
      "Propellergången\n",
      "Prospect Hillgatan\n",
      "Prosten Ahlbergs gata\n",
      "Prosten Grens väg\n",
      "Provbana\n",
      "Prytzgatan\n",
      "Prästgatan\n",
      "Prästgårdsgatan\n"
     ]
    },
    {
     "name": "stderr",
     "output_type": "stream",
     "text": [
      " 65%|██████▌   | 3771/5788 [24:08<02:32, 13.22it/s]"
     ]
    },
    {
     "name": "stdout",
     "output_type": "stream",
     "text": [
      "Prästgårdsängen\n",
      "Prästkragsgatan\n",
      "Prästvägen\n",
      "Pråmgatan\n",
      "Pukegatan\n",
      "Pumpgatan\n"
     ]
    },
    {
     "name": "stderr",
     "output_type": "stream",
     "text": [
      " 65%|██████▌   | 3777/5788 [24:09<02:56, 11.39it/s]"
     ]
    },
    {
     "name": "stdout",
     "output_type": "stream",
     "text": [
      "Purpurgatan\n",
      "Purpurgången\n",
      "Pusterviksgatan\n",
      "Pusterviksplatsen\n",
      "Putsegårdsgatan\n"
     ]
    },
    {
     "name": "stderr",
     "output_type": "stream",
     "text": [
      " 65%|██████▌   | 3782/5788 [24:09<02:05, 16.02it/s]"
     ]
    },
    {
     "name": "stdout",
     "output_type": "stream",
     "text": [
      "Pärlmusslegatan\n",
      "Pärlstickaregatan\n",
      "Pärongatan\n",
      "Pärt-Antons gata\n",
      "Pärtåsgatan\n",
      "Påfvenfeltsvägen\n"
     ]
    },
    {
     "name": "stderr",
     "output_type": "stream",
     "text": [
      " 65%|██████▌   | 3785/5788 [24:09<02:15, 14.79it/s]"
     ]
    },
    {
     "name": "stdout",
     "output_type": "stream",
     "text": [
      "Påls väg\n"
     ]
    },
    {
     "name": "stderr",
     "output_type": "stream",
     "text": [
      " 65%|██████▌   | 3787/5788 [24:09<02:46, 12.05it/s]"
     ]
    },
    {
     "name": "stdout",
     "output_type": "stream",
     "text": [
      "Påskbergsgatan\n",
      "Påskliljevägen\n",
      "Påskrisgatan\n",
      "Påskvägen\n"
     ]
    },
    {
     "name": "stderr",
     "output_type": "stream",
     "text": [
      " 65%|██████▌   | 3790/5788 [24:10<03:19, 10.02it/s]"
     ]
    },
    {
     "name": "stdout",
     "output_type": "stream",
     "text": [
      "Påveleken\n",
      "Påvelundsgatan\n",
      "Pölgatan\n",
      "Pölsebobacken\n"
     ]
    },
    {
     "name": "stderr",
     "output_type": "stream",
     "text": [
      " 66%|██████▌   | 3794/5788 [24:10<03:39,  9.10it/s]"
     ]
    },
    {
     "name": "stdout",
     "output_type": "stream",
     "text": [
      "Pölsebogatan\n",
      "Qvidingsgatan\n",
      "Rabarbergången\n"
     ]
    },
    {
     "name": "stderr",
     "output_type": "stream",
     "text": [
      " 66%|██████▌   | 3799/5788 [24:11<03:02, 10.89it/s]"
     ]
    },
    {
     "name": "stdout",
     "output_type": "stream",
     "text": [
      "Radargatan\n",
      "Radarhöjden\n",
      "Radiofyrsgatan\n",
      "Radiomastgatan\n"
     ]
    },
    {
     "name": "stderr",
     "output_type": "stream",
     "text": [
      " 66%|██████▌   | 3801/5788 [24:11<02:46, 11.92it/s]"
     ]
    },
    {
     "name": "stdout",
     "output_type": "stream",
     "text": [
      "Radiovägen\n"
     ]
    },
    {
     "name": "stderr",
     "output_type": "stream",
     "text": [
      " 66%|██████▌   | 3803/5788 [24:12<06:28,  5.11it/s]"
     ]
    },
    {
     "name": "stdout",
     "output_type": "stream",
     "text": [
      "Raffinaderivägen\n",
      "Raketgatan\n",
      "Rallevägen\n",
      "Rambergsvägen\n"
     ]
    },
    {
     "name": "stderr",
     "output_type": "stream",
     "text": [
      " 66%|██████▌   | 3806/5788 [24:12<05:03,  6.54it/s]"
     ]
    },
    {
     "name": "stdout",
     "output_type": "stream",
     "text": [
      "Rammevägen\n",
      "Ramnebacken\n"
     ]
    },
    {
     "name": "stderr",
     "output_type": "stream",
     "text": [
      " 66%|██████▌   | 3808/5788 [24:14<10:54,  3.03it/s]"
     ]
    },
    {
     "name": "stdout",
     "output_type": "stream",
     "text": [
      "Rangeltorpsgatan\n",
      "Rangeltorpsstigen\n",
      "Rangströmsliden\n",
      "Rannebergsvägen\n"
     ]
    },
    {
     "name": "stderr",
     "output_type": "stream",
     "text": [
      " 66%|██████▌   | 3812/5788 [24:15<09:44,  3.38it/s]"
     ]
    },
    {
     "name": "stdout",
     "output_type": "stream",
     "text": [
      "Rantorget\n"
     ]
    },
    {
     "name": "stderr",
     "output_type": "stream",
     "text": [
      " 66%|██████▌   | 3813/5788 [24:15<09:45,  3.37it/s]"
     ]
    },
    {
     "name": "stdout",
     "output_type": "stream",
     "text": [
      "Ranängsgatan\n",
      "Raoul Wallenbergs gata\n"
     ]
    },
    {
     "name": "stderr",
     "output_type": "stream",
     "text": [
      " 66%|██████▌   | 3815/5788 [24:15<08:15,  3.98it/s]"
     ]
    },
    {
     "name": "stdout",
     "output_type": "stream",
     "text": [
      "Rappedalsvägen\n"
     ]
    },
    {
     "name": "stderr",
     "output_type": "stream",
     "text": [
      " 66%|██████▌   | 3821/5788 [24:18<09:37,  3.41it/s]"
     ]
    },
    {
     "name": "stdout",
     "output_type": "stream",
     "text": [
      "Rasmusgården\n",
      "Rastestället\n",
      "Rattgatan\n",
      "Receptvägen\n",
      "Redbergs Trappor\n",
      "Redbergsvägen\n"
     ]
    },
    {
     "name": "stderr",
     "output_type": "stream",
     "text": [
      " 66%|██████▌   | 3825/5788 [24:20<10:10,  3.21it/s]"
     ]
    },
    {
     "name": "stdout",
     "output_type": "stream",
     "text": [
      "Redebacken\n",
      "Redegatan\n",
      "Regattagatan\n",
      "Regementsvägen\n",
      "Regnbågsgatan\n"
     ]
    },
    {
     "name": "stderr",
     "output_type": "stream",
     "text": [
      " 66%|██████▌   | 3830/5788 [24:20<06:41,  4.88it/s]"
     ]
    },
    {
     "name": "stdout",
     "output_type": "stream",
     "text": [
      "Regnvädersgatan\n",
      "Rekreationsvägen\n",
      "Rektor Ohlons Gångväg\n",
      "Rektor Rödings gata\n",
      "Rektorsgatan\n",
      "Relingsgatan\n",
      "Relägatan\n"
     ]
    },
    {
     "name": "stderr",
     "output_type": "stream",
     "text": [
      " 66%|██████▋   | 3836/5788 [24:20<03:51,  8.42it/s]"
     ]
    },
    {
     "name": "stdout",
     "output_type": "stream",
     "text": [
      "Remissvägen\n",
      "Remmetorpsvägen\n",
      "Remsnidaregatan\n",
      "Rengatan\n",
      "Reningsverksgatan\n"
     ]
    },
    {
     "name": "stderr",
     "output_type": "stream",
     "text": [
      " 66%|██████▋   | 3839/5788 [24:21<04:15,  7.62it/s]"
     ]
    },
    {
     "name": "stdout",
     "output_type": "stream",
     "text": [
      "Renströmsgatan\n",
      "Repslagaregatan\n"
     ]
    },
    {
     "name": "stderr",
     "output_type": "stream",
     "text": [
      " 66%|██████▋   | 3841/5788 [24:21<04:06,  7.91it/s]"
     ]
    },
    {
     "name": "stdout",
     "output_type": "stream",
     "text": [
      "Resedagatan\n"
     ]
    },
    {
     "name": "stderr",
     "output_type": "stream",
     "text": [
      " 66%|██████▋   | 3843/5788 [24:21<04:14,  7.65it/s]"
     ]
    },
    {
     "name": "stdout",
     "output_type": "stream",
     "text": [
      "Reservoarstigen\n",
      "Residensbron\n",
      "Resliden\n"
     ]
    },
    {
     "name": "stderr",
     "output_type": "stream",
     "text": [
      " 66%|██████▋   | 3845/5788 [24:22<04:04,  7.93it/s]"
     ]
    },
    {
     "name": "stdout",
     "output_type": "stream",
     "text": [
      "Reutersgatan\n"
     ]
    },
    {
     "name": "stderr",
     "output_type": "stream",
     "text": [
      " 67%|██████▋   | 3850/5788 [24:22<03:37,  8.92it/s]"
     ]
    },
    {
     "name": "stdout",
     "output_type": "stream",
     "text": [
      "Reveljgatan\n",
      "Ribbas gata\n",
      "Ribbingsgatan\n",
      "Richertsgatan\n",
      "Riddaregatan\n"
     ]
    },
    {
     "name": "stderr",
     "output_type": "stream",
     "text": [
      " 67%|██████▋   | 3852/5788 [24:22<03:13, 10.02it/s]"
     ]
    },
    {
     "name": "stdout",
     "output_type": "stream",
     "text": [
      "Riddarstigen\n",
      "Ridhästvägen\n",
      "Riggatan\n"
     ]
    },
    {
     "name": "stderr",
     "output_type": "stream",
     "text": [
      " 67%|██████▋   | 3854/5788 [24:22<02:49, 11.41it/s]"
     ]
    },
    {
     "name": "stdout",
     "output_type": "stream",
     "text": [
      "Riksdalersgatan\n",
      "Rimfrostgatan\n"
     ]
    },
    {
     "name": "stderr",
     "output_type": "stream",
     "text": [
      " 67%|██████▋   | 3858/5788 [24:23<04:46,  6.73it/s]"
     ]
    },
    {
     "name": "stdout",
     "output_type": "stream",
     "text": [
      "Rimmaregatan\n",
      "Rimsmedsgatan\n",
      "Ringblommegatan\n"
     ]
    },
    {
     "name": "stderr",
     "output_type": "stream",
     "text": [
      " 67%|██████▋   | 3862/5788 [24:24<03:33,  9.02it/s]"
     ]
    },
    {
     "name": "stdout",
     "output_type": "stream",
     "text": [
      "Ringduvevägen\n",
      "Ringestensvägen\n",
      "Ringnotsvägen\n",
      "Ringvägen\n",
      "Ringögatan\n"
     ]
    },
    {
     "name": "stderr",
     "output_type": "stream",
     "text": [
      " 67%|██████▋   | 3868/5788 [24:25<05:26,  5.88it/s]"
     ]
    },
    {
     "name": "stdout",
     "output_type": "stream",
     "text": [
      "Ringösvängen\n",
      "Risholmsvägen\n",
      "Ristvägen\n",
      "Risås Hage\n",
      "Risåsgatan\n",
      "Ritaregatan\n"
     ]
    },
    {
     "name": "stderr",
     "output_type": "stream",
     "text": [
      " 67%|██████▋   | 3872/5788 [24:25<03:47,  8.42it/s]"
     ]
    },
    {
     "name": "stdout",
     "output_type": "stream",
     "text": [
      "Rivöfjordsgatan\n",
      "Robertshöjdsgatan\n",
      "Roddbåtsgatan\n",
      "Rodergatan\n",
      "Romangatan\n",
      "Rondvägen\n",
      "Rosenapelgatan\n"
     ]
    },
    {
     "name": "stderr",
     "output_type": "stream",
     "text": [
      " 67%|██████▋   | 3880/5788 [24:26<01:59, 16.03it/s]"
     ]
    },
    {
     "name": "stdout",
     "output_type": "stream",
     "text": [
      "Rosenberg\n",
      "Rosendalsgatan\n",
      "Rosenfinksgången\n",
      "Rosengatan\n"
     ]
    },
    {
     "name": "stderr",
     "output_type": "stream",
     "text": [
      " 67%|██████▋   | 3889/5788 [24:26<01:37, 19.45it/s]"
     ]
    },
    {
     "name": "stdout",
     "output_type": "stream",
     "text": [
      "Rosengången\n",
      "Rosenhillsgatan\n",
      "Rosenhällsstigen\n",
      "Rosenhällsvägen\n",
      "Rosenhöjdsvägen\n",
      "Rosenlundsgatan\n",
      "Rosenlundsplatsen\n",
      "Rosensköldsgatan\n",
      "Rositas gata\n",
      "Rosmaringatan\n"
     ]
    },
    {
     "name": "stderr",
     "output_type": "stream",
     "text": [
      " 67%|██████▋   | 3897/5788 [24:27<01:51, 16.90it/s]"
     ]
    },
    {
     "name": "stdout",
     "output_type": "stream",
     "text": [
      "Rotenvägen\n",
      "Rotfruktsgatan\n",
      "Rothvallsvägen\n",
      "Rubelgatan\n",
      "Rubingatan\n",
      "Rudbovägen\n",
      "Ruddalsvägen\n"
     ]
    },
    {
     "name": "stderr",
     "output_type": "stream",
     "text": [
      " 67%|██████▋   | 3900/5788 [24:27<01:40, 18.75it/s]"
     ]
    },
    {
     "name": "stdout",
     "output_type": "stream",
     "text": [
      "Rudedammsgatan\n",
      "Rudenschöldsgatan\n",
      "Ruggebergsvägen\n",
      "Ruggestensliden\n",
      "Rullagergatan\n"
     ]
    },
    {
     "name": "stderr",
     "output_type": "stream",
     "text": [
      " 67%|██████▋   | 3903/5788 [24:27<02:17, 13.67it/s]"
     ]
    },
    {
     "name": "stdout",
     "output_type": "stream",
     "text": [
      "Rumbavägen\n"
     ]
    },
    {
     "name": "stderr",
     "output_type": "stream",
     "text": [
      " 68%|██████▊   | 3909/5788 [24:28<02:12, 14.21it/s]"
     ]
    },
    {
     "name": "stdout",
     "output_type": "stream",
     "text": [
      "Rundbollsvägen\n",
      "Rundbäcksgatan\n",
      "Rundhultsgatan\n",
      "Rundradiogatan\n",
      "Runebergsgatan\n",
      "Runfyndsgatan\n",
      "Rungången\n"
     ]
    },
    {
     "name": "stderr",
     "output_type": "stream",
     "text": [
      " 68%|██████▊   | 3912/5788 [24:28<03:05, 10.11it/s]"
     ]
    },
    {
     "name": "stdout",
     "output_type": "stream",
     "text": [
      "Runhällsgatan\n",
      "Runiusgatan\n",
      "Runradsgatan\n",
      "Runskriftsgatan\n",
      "Runslingan\n"
     ]
    },
    {
     "name": "stderr",
     "output_type": "stream",
     "text": [
      " 68%|██████▊   | 3916/5788 [24:29<03:45,  8.29it/s]"
     ]
    },
    {
     "name": "stdout",
     "output_type": "stream",
     "text": [
      "Runstavsgatan\n"
     ]
    },
    {
     "name": "stderr",
     "output_type": "stream",
     "text": [
      " 68%|██████▊   | 3918/5788 [24:30<05:27,  5.71it/s]"
     ]
    },
    {
     "name": "stdout",
     "output_type": "stream",
     "text": [
      "Runstensvägen\n",
      "Ruskpricksvägen\n",
      "Ruskvädersgatan\n"
     ]
    },
    {
     "name": "stderr",
     "output_type": "stream",
     "text": [
      " 68%|██████▊   | 3922/5788 [24:31<05:45,  5.40it/s]"
     ]
    },
    {
     "name": "stdout",
     "output_type": "stream",
     "text": [
      "Russvägen\n",
      "Rusthållarebacken\n",
      "Rusthållareplatsen\n",
      "Rustmästaregatan\n"
     ]
    },
    {
     "name": "stderr",
     "output_type": "stream",
     "text": [
      " 68%|██████▊   | 3928/5788 [24:31<03:17,  9.41it/s]"
     ]
    },
    {
     "name": "stdout",
     "output_type": "stream",
     "text": [
      "Ryanäsvägen\n",
      "Ryavägen\n",
      "Rydetvägen\n",
      "Rydholmsgatan\n",
      "Rydqvistsgatan\n"
     ]
    },
    {
     "name": "stderr",
     "output_type": "stream",
     "text": [
      " 68%|██████▊   | 3932/5788 [24:31<02:24, 12.81it/s]"
     ]
    },
    {
     "name": "stdout",
     "output_type": "stream",
     "text": [
      "Rydståvägen\n",
      "Rydsvägen\n",
      "Ryetvägen\n",
      "Rygången\n",
      "Rymdbacken\n",
      "Rymdtorget\n"
     ]
    },
    {
     "name": "stderr",
     "output_type": "stream",
     "text": [
      " 68%|██████▊   | 3935/5788 [24:32<03:14,  9.53it/s]"
     ]
    },
    {
     "name": "stdout",
     "output_type": "stream",
     "text": [
      "Rymdvågsgatan\n",
      "Ryttaregatan\n",
      "Ryttarstigen\n"
     ]
    },
    {
     "name": "stderr",
     "output_type": "stream",
     "text": [
      " 68%|██████▊   | 3941/5788 [24:32<02:26, 12.60it/s]"
     ]
    },
    {
     "name": "stdout",
     "output_type": "stream",
     "text": [
      "Ryttmästaregatan\n",
      "Räbbåslyckan\n",
      "Räbbåsvägen\n",
      "Räkgången\n",
      "Rännvägen\n"
     ]
    },
    {
     "name": "stderr",
     "output_type": "stream",
     "text": [
      " 68%|██████▊   | 3945/5788 [24:32<02:16, 13.54it/s]"
     ]
    },
    {
     "name": "stdout",
     "output_type": "stream",
     "text": [
      "Räntmästaregatan\n",
      "Rättaregången\n",
      "Rättaregården\n",
      "Rävebergsvägen\n"
     ]
    },
    {
     "name": "stderr",
     "output_type": "stream",
     "text": [
      " 68%|██████▊   | 3951/5788 [24:36<10:52,  2.81it/s]"
     ]
    },
    {
     "name": "stdout",
     "output_type": "stream",
     "text": [
      "Rävekullevägen\n",
      "Rävkullestigen\n",
      "Rävlyevägen\n",
      "Rävsalsgatan\n",
      "Rävstigen\n",
      "Råbäcksgatan\n",
      "Rådjursgatan\n"
     ]
    },
    {
     "name": "stderr",
     "output_type": "stream",
     "text": [
      " 68%|██████▊   | 3958/5788 [24:37<05:35,  5.46it/s]"
     ]
    },
    {
     "name": "stdout",
     "output_type": "stream",
     "text": [
      "Rådmansgatan\n",
      "Rågåkern\n",
      "Rågångstigen\n",
      "Rågårdsvägen\n",
      "Råstensgatan\n",
      "Röda stråket\n"
     ]
    },
    {
     "name": "stderr",
     "output_type": "stream",
     "text": [
      " 68%|██████▊   | 3961/5788 [24:37<04:47,  6.35it/s]"
     ]
    },
    {
     "name": "stdout",
     "output_type": "stream",
     "text": [
      "Rödalidsvägen\n",
      "Rödbo Björkhög\n",
      "Rödbo Björkås\n",
      "Rödbo Höglycka\n",
      "Rödbo Idrottsgata\n",
      "Rödbo Lunnaväg\n"
     ]
    },
    {
     "name": "stderr",
     "output_type": "stream",
     "text": [
      " 69%|██████▊   | 3968/5788 [24:37<03:05,  9.82it/s]"
     ]
    },
    {
     "name": "stdout",
     "output_type": "stream",
     "text": [
      "Rödbo Löparegata\n",
      "Rödbo Stafettgata\n",
      "Rödgatan\n"
     ]
    },
    {
     "name": "stderr",
     "output_type": "stream",
     "text": [
      " 69%|██████▊   | 3970/5788 [24:38<05:11,  5.84it/s]"
     ]
    },
    {
     "name": "stdout",
     "output_type": "stream",
     "text": [
      "Rödgårdsvägen\n",
      "Rödhakevägen\n",
      "Rödingsgatan\n",
      "Rödklintsgatan\n"
     ]
    },
    {
     "name": "stderr",
     "output_type": "stream",
     "text": [
      " 69%|██████▊   | 3977/5788 [24:39<02:55, 10.34it/s]"
     ]
    },
    {
     "name": "stdout",
     "output_type": "stream",
     "text": [
      "Rödklövern\n",
      "Rödkullegatan\n",
      "Rödlöksvägen\n",
      "Rödlönnsgången\n",
      "Röds Backe\n",
      "Röds Bygata\n"
     ]
    },
    {
     "name": "stderr",
     "output_type": "stream",
     "text": [
      " 69%|██████▉   | 3984/5788 [24:39<02:01, 14.87it/s]"
     ]
    },
    {
     "name": "stdout",
     "output_type": "stream",
     "text": [
      "Röds Junostig\n",
      "Röds Jupiterstig\n",
      "Röds Lekevall\n",
      "Röds Marsstig\n",
      "Röds Merkuriusstig\n",
      "Röds Månstig\n"
     ]
    },
    {
     "name": "stderr",
     "output_type": "stream",
     "text": [
      " 69%|██████▉   | 3987/5788 [24:39<02:05, 14.32it/s]"
     ]
    },
    {
     "name": "stdout",
     "output_type": "stream",
     "text": [
      "Röds Norgård\n",
      "Röds Pallasstig\n",
      "Röds Plutostig\n"
     ]
    },
    {
     "name": "stderr",
     "output_type": "stream",
     "text": [
      " 69%|██████▉   | 3994/5788 [24:39<01:21, 21.99it/s]"
     ]
    },
    {
     "name": "stdout",
     "output_type": "stream",
     "text": [
      "Röds Saturnusstig\n",
      "Röds Sörgård\n",
      "Röds Tellusväg\n",
      "Röds Tvärväg\n",
      "Röds Uranusstig\n",
      "Röds Ängar\n",
      "Rödspottegatan\n",
      "Rödstjärtsgången\n"
     ]
    },
    {
     "name": "stderr",
     "output_type": "stream",
     "text": [
      " 69%|██████▉   | 4005/5788 [24:40<00:55, 32.35it/s]"
     ]
    },
    {
     "name": "stdout",
     "output_type": "stream",
     "text": [
      "Rödtungegatan\n",
      "Rödvedsgatan\n",
      "Röhssgatan\n",
      "Röllikegången\n",
      "Rönnbacken\n",
      "Rönnbärsstigen\n",
      "Rönnen\n",
      "Rönnerdahls gata\n",
      "Rönngatan\n",
      "Rönnings Gård\n",
      "Rönnings Marker\n"
     ]
    },
    {
     "name": "stderr",
     "output_type": "stream",
     "text": [
      " 69%|██████▉   | 4014/5788 [24:40<00:48, 36.36it/s]"
     ]
    },
    {
     "name": "stdout",
     "output_type": "stream",
     "text": [
      "Rönnings Mellangårdar\n",
      "Rönnings Nedergård\n",
      "Rönnings Sörgård\n",
      "Rönnings Sörgårdsbacke\n",
      "Rönnings Uppegård\n",
      "Rönnängsgatan\n",
      "Röra Byväg\n",
      "Rördalsvägen\n"
     ]
    },
    {
     "name": "stderr",
     "output_type": "stream",
     "text": [
      " 69%|██████▉   | 4021/5788 [24:40<00:41, 42.46it/s]"
     ]
    },
    {
     "name": "stdout",
     "output_type": "stream",
     "text": [
      "Rörflatsvägen\n",
      "Rörhed\n",
      "Rörläggarens väg\n",
      "Rörmossegatan\n",
      "Rörmyren\n",
      "Rörstrandsgatan\n",
      "Rörviksgatan\n"
     ]
    },
    {
     "name": "stderr",
     "output_type": "stream",
     "text": [
      " 70%|██████▉   | 4026/5788 [24:40<00:57, 30.64it/s]"
     ]
    },
    {
     "name": "stdout",
     "output_type": "stream",
     "text": [
      "Rösbo Sventorp\n",
      "Rösbodal\n",
      "Rösbovägen\n",
      "Rösebacken\n",
      "Rösebergsgatan\n",
      "Röseredsvägen\n",
      "Röseskärsgatan\n",
      "Rösetgården\n",
      "Rösetlyckan\n",
      "SM-droppet\n",
      "Sabbatsvägen\n"
     ]
    },
    {
     "name": "stderr",
     "output_type": "stream",
     "text": [
      " 70%|██████▉   | 4033/5788 [24:41<01:09, 25.40it/s]"
     ]
    },
    {
     "name": "stdout",
     "output_type": "stream",
     "text": [
      "Sabinas väg\n",
      "Sadelmakaregatan\n",
      "Saffransgatan\n",
      "Safirgatan\n"
     ]
    },
    {
     "name": "stderr",
     "output_type": "stream",
     "text": [
      " 70%|██████▉   | 4037/5788 [24:41<01:15, 23.32it/s]"
     ]
    },
    {
     "name": "stdout",
     "output_type": "stream",
     "text": [
      "Sagogatan\n",
      "Sagogången\n"
     ]
    },
    {
     "name": "stderr",
     "output_type": "stream",
     "text": [
      " 70%|██████▉   | 4040/5788 [24:42<03:51,  7.56it/s]"
     ]
    },
    {
     "name": "stdout",
     "output_type": "stream",
     "text": [
      "Sagolandsvägen\n",
      "Sagoskogen\n",
      "Sahlgrensgatan\n",
      "Sahlgrenska Norra Porten\n"
     ]
    },
    {
     "name": "stderr",
     "output_type": "stream",
     "text": [
      " 70%|██████▉   | 4043/5788 [24:42<03:16,  8.88it/s]"
     ]
    },
    {
     "name": "stdout",
     "output_type": "stream",
     "text": [
      "Salamandervägen\n",
      "Salladsgången\n",
      "Salsavägen\n"
     ]
    },
    {
     "name": "stderr",
     "output_type": "stream",
     "text": [
      " 70%|██████▉   | 4046/5788 [24:43<03:03,  9.51it/s]"
     ]
    },
    {
     "name": "stdout",
     "output_type": "stream",
     "text": [
      "Salsmästaregatan\n"
     ]
    },
    {
     "name": "stderr",
     "output_type": "stream",
     "text": [
      " 70%|██████▉   | 4048/5788 [24:43<04:38,  6.24it/s]"
     ]
    },
    {
     "name": "stdout",
     "output_type": "stream",
     "text": [
      "Salterigatan\n",
      "Saltholmsgatan\n"
     ]
    },
    {
     "name": "stderr",
     "output_type": "stream",
     "text": [
      " 70%|███████   | 4053/5788 [24:49<14:49,  1.95it/s]"
     ]
    },
    {
     "name": "stdout",
     "output_type": "stream",
     "text": [
      "Saltmätaregatan\n",
      "Saltsilon\n",
      "Saltskärsgatan\n",
      "Salviadalen\n",
      "Salviagatan\n"
     ]
    },
    {
     "name": "stderr",
     "output_type": "stream",
     "text": [
      " 70%|███████   | 4058/5788 [24:50<10:24,  2.77it/s]"
     ]
    },
    {
     "name": "stdout",
     "output_type": "stream",
     "text": [
      "Salviaterrassen\n",
      "Salviatorget\n",
      "Sanatoriegatan\n",
      "Sandbanksvägen\n",
      "Sandeklevsbacken\n",
      "Sandeklevsvägen\n",
      "Sandens Gård\n",
      "Sandenvägen\n"
     ]
    },
    {
     "name": "stderr",
     "output_type": "stream",
     "text": [
      " 70%|███████   | 4062/5788 [24:51<08:43,  3.30it/s]"
     ]
    },
    {
     "name": "stdout",
     "output_type": "stream",
     "text": [
      "Sandeslätt\n"
     ]
    },
    {
     "name": "stderr",
     "output_type": "stream",
     "text": [
      " 70%|███████   | 4066/5788 [24:53<09:14,  3.10it/s]"
     ]
    },
    {
     "name": "stdout",
     "output_type": "stream",
     "text": [
      "Sandeslättsbacken\n",
      "Sandeslättsgatan\n",
      "Sandeslättskroken\n",
      "Sandgropsvägen\n",
      "Sandhamnsgatan\n"
     ]
    },
    {
     "name": "stderr",
     "output_type": "stream",
     "text": [
      " 70%|███████   | 4072/5788 [24:53<05:11,  5.51it/s]"
     ]
    },
    {
     "name": "stdout",
     "output_type": "stream",
     "text": [
      "Sandjordsvägen\n",
      "Sandkullsvägen\n",
      "Sandlidsvägen\n",
      "Sandlyckevägen\n",
      "Sandmusslegatan\n",
      "Sandrevelsvägen\n"
     ]
    },
    {
     "name": "stderr",
     "output_type": "stream",
     "text": [
      " 70%|███████   | 4074/5788 [24:54<04:21,  6.55it/s]"
     ]
    },
    {
     "name": "stdout",
     "output_type": "stream",
     "text": [
      "Sandskäddegatan\n",
      "Sandspåret\n"
     ]
    },
    {
     "name": "stderr",
     "output_type": "stream",
     "text": [
      " 70%|███████   | 4080/5788 [24:54<03:18,  8.59it/s]"
     ]
    },
    {
     "name": "stdout",
     "output_type": "stream",
     "text": [
      "Sandstensgatan\n",
      "Sandtagsvägen\n",
      "Sandvadet\n",
      "Sandviksvägen\n",
      "Sandåsen\n",
      "Sankt Görans väg\n",
      "Sankt Jörgens Allé\n"
     ]
    },
    {
     "name": "stderr",
     "output_type": "stream",
     "text": [
      " 71%|███████   | 4083/5788 [24:55<03:56,  7.21it/s]"
     ]
    },
    {
     "name": "stdout",
     "output_type": "stream",
     "text": [
      "Sankt Jörgens Port\n",
      "Sankt Jörgens väg\n"
     ]
    },
    {
     "name": "stderr",
     "output_type": "stream",
     "text": [
      " 71%|███████   | 4087/5788 [24:55<04:23,  6.47it/s]"
     ]
    },
    {
     "name": "stdout",
     "output_type": "stream",
     "text": [
      "Sankt Olofs källa\n",
      "Sankt Olofsgatan\n",
      "Sankt Pauli Kyrkoplan\n",
      "Sankt Pauli Trappor\n",
      "Sankt Pauligatan\n"
     ]
    },
    {
     "name": "stderr",
     "output_type": "stream",
     "text": [
      " 71%|███████   | 4090/5788 [24:56<04:16,  6.63it/s]"
     ]
    },
    {
     "name": "stdout",
     "output_type": "stream",
     "text": [
      "Sankt Sigfrids Plan\n",
      "Sankt Sigfridsgatan\n"
     ]
    },
    {
     "name": "stderr",
     "output_type": "stream",
     "text": [
      " 71%|███████   | 4093/5788 [24:59<12:15,  2.30it/s]"
     ]
    },
    {
     "name": "stdout",
     "output_type": "stream",
     "text": [
      "Sannaplan\n",
      "Sannegårdsbron\n",
      "Sannegårdsgatan\n"
     ]
    },
    {
     "name": "stderr",
     "output_type": "stream",
     "text": [
      " 71%|███████   | 4098/5788 [25:00<06:42,  4.20it/s]"
     ]
    },
    {
     "name": "stdout",
     "output_type": "stream",
     "text": [
      "Santessonsgatan\n",
      "Sappörgatan\n",
      "Saras väg\n",
      "Sareks Trappgata\n",
      "Saturnusgatan\n",
      "Saxofongatan\n",
      "Schaktmästaregatan\n"
     ]
    },
    {
     "name": "stderr",
     "output_type": "stream",
     "text": [
      " 71%|███████   | 4107/5788 [25:00<02:40, 10.47it/s]"
     ]
    },
    {
     "name": "stdout",
     "output_type": "stream",
     "text": [
      "Schalinsgatan\n",
      "Schmidtsgatan\n",
      "Scholandersgatan\n",
      "Schottisvägen\n",
      "Schéelegatan\n",
      "Scoutgatan\n",
      "Sedumgatan\n",
      "Segelflyget\n"
     ]
    },
    {
     "name": "stderr",
     "output_type": "stream",
     "text": [
      " 71%|███████   | 4113/5788 [25:00<01:54, 14.69it/s]"
     ]
    },
    {
     "name": "stdout",
     "output_type": "stream",
     "text": [
      "Segelmakaregatan\n",
      "Segerlindsgatan\n",
      "Seglaregatan\n",
      "Sehlstedtsgatan\n",
      "Sekundgatan\n",
      "Selma Lagerlöfs Parkstråk\n"
     ]
    },
    {
     "name": "stderr",
     "output_type": "stream",
     "text": [
      " 71%|███████   | 4119/5788 [25:00<01:31, 18.33it/s]"
     ]
    },
    {
     "name": "stdout",
     "output_type": "stream",
     "text": [
      "Selma Lagerlöfs Torg\n",
      "Selmas och Enocks väg\n",
      "Seminariegatan\n",
      "Senapsgatan\n",
      "Separatorsgatan\n"
     ]
    },
    {
     "name": "stderr",
     "output_type": "stream",
     "text": [
      " 71%|███████▏  | 4126/5788 [25:01<01:17, 21.49it/s]"
     ]
    },
    {
     "name": "stdout",
     "output_type": "stream",
     "text": [
      "Septettgången\n",
      "Sergelsgatan\n",
      "Sexrörsgatan\n",
      "Sextantgatan\n",
      "Sextettgången\n",
      "Sheldons väg\n",
      "Sibbajordsgården\n",
      "Sibbajordslyckan\n",
      "Sidojlusvägen\n"
     ]
    },
    {
     "name": "stderr",
     "output_type": "stream",
     "text": [
      " 71%|███████▏  | 4135/5788 [25:01<00:57, 28.59it/s]"
     ]
    },
    {
     "name": "stdout",
     "output_type": "stream",
     "text": [
      "Sidovägen\n",
      "Signalgatan\n",
      "Sigtunagatan\n",
      "Sikelgatan\n",
      "Sikgatan\n",
      "Silleskärsgatan\n",
      "Silltrutgatan\n",
      "Sillviks Havskoloni\n"
     ]
    },
    {
     "name": "stderr",
     "output_type": "stream",
     "text": [
      " 72%|███████▏  | 4143/5788 [25:01<00:57, 28.85it/s]"
     ]
    },
    {
     "name": "stdout",
     "output_type": "stream",
     "text": [
      "Sillviksbacken\n",
      "Sillviksvägen\n",
      "Silvandersgatan\n",
      "Silverfyndsvägen\n",
      "Silvergatan\n",
      "Silvergransgatan\n",
      "Silvergruvans gata\n",
      "Silverkällegatan\n"
     ]
    },
    {
     "name": "stderr",
     "output_type": "stream",
     "text": [
      " 72%|███████▏  | 4147/5788 [25:01<00:54, 30.00it/s]"
     ]
    },
    {
     "name": "stdout",
     "output_type": "stream",
     "text": [
      "Silvermyntsgatan\n",
      "Silvertärnegången\n",
      "Siriusbacken\n",
      "Siriusgatan\n"
     ]
    },
    {
     "name": "stderr",
     "output_type": "stream",
     "text": [
      " 72%|███████▏  | 4151/5788 [25:02<01:11, 22.92it/s]"
     ]
    },
    {
     "name": "stdout",
     "output_type": "stream",
     "text": [
      "Sisjö Kullegata\n",
      "Sisjöbäckens väg\n",
      "Sisjövägen\n"
     ]
    },
    {
     "name": "stderr",
     "output_type": "stream",
     "text": [
      " 72%|███████▏  | 4154/5788 [25:06<09:57,  2.73it/s]"
     ]
    },
    {
     "name": "stdout",
     "output_type": "stream",
     "text": [
      "Sixten Camps gata\n",
      "Siöstiernas Allé\n",
      "Sjumilabacken\n",
      "Sjumilastigen\n"
     ]
    },
    {
     "name": "stderr",
     "output_type": "stream",
     "text": [
      " 72%|███████▏  | 4157/5788 [25:07<10:18,  2.64it/s]"
     ]
    },
    {
     "name": "stdout",
     "output_type": "stream",
     "text": [
      "Sjunde Kvillängsvägen\n",
      "Sjupundsgatan\n"
     ]
    },
    {
     "name": "stderr",
     "output_type": "stream",
     "text": [
      " 72%|███████▏  | 4162/5788 [25:08<07:54,  3.43it/s]"
     ]
    },
    {
     "name": "stdout",
     "output_type": "stream",
     "text": [
      "Sjurörsgatan\n",
      "Sjusovaregatan\n",
      "Sjustjärnan\n",
      "Sjätte Kvillängsvägen\n",
      "Sjöbacken\n",
      "Sjöbackevägen\n"
     ]
    },
    {
     "name": "stderr",
     "output_type": "stream",
     "text": [
      " 72%|███████▏  | 4168/5788 [25:08<04:25,  6.10it/s]"
     ]
    },
    {
     "name": "stdout",
     "output_type": "stream",
     "text": [
      "Sjöblads väg\n",
      "Sjöbodsvägen\n",
      "Sjödalen\n",
      "Sjöflyget\n",
      "Sjögräsvägen\n"
     ]
    },
    {
     "name": "stderr",
     "output_type": "stream",
     "text": [
      " 72%|███████▏  | 4176/5788 [25:08<02:14, 11.98it/s]"
     ]
    },
    {
     "name": "stdout",
     "output_type": "stream",
     "text": [
      "Sjögången\n",
      "Sjökortsvägen\n",
      "Sjölyckan\n",
      "Sjömans väg\n",
      "Sjömansgatan\n",
      "Sjömarksbacken\n",
      "Sjömarksstigen\n",
      "Sjömarksvägen\n"
     ]
    },
    {
     "name": "stderr",
     "output_type": "stream",
     "text": [
      " 72%|███████▏  | 4182/5788 [25:09<01:53, 14.12it/s]"
     ]
    },
    {
     "name": "stdout",
     "output_type": "stream",
     "text": [
      "Sjömilsgatan\n",
      "Sjömärkesstigen\n",
      "Sjömärkesvägen\n",
      "Sjöporten\n",
      "Sjöportsgatan\n"
     ]
    },
    {
     "name": "stderr",
     "output_type": "stream",
     "text": [
      " 72%|███████▏  | 4188/5788 [25:09<01:28, 18.06it/s]"
     ]
    },
    {
     "name": "stdout",
     "output_type": "stream",
     "text": [
      "Sjösandsvägen\n",
      "Sjöstjärnans Gränd\n",
      "Sjötullsvägen\n",
      "Sjötungegatan\n",
      "Sjövägen\n",
      "Skagengatan\n",
      "Skagens Fyrs väg\n"
     ]
    },
    {
     "name": "stderr",
     "output_type": "stream",
     "text": [
      " 72%|███████▏  | 4191/5788 [25:09<01:24, 18.91it/s]"
     ]
    },
    {
     "name": "stdout",
     "output_type": "stream",
     "text": [
      "Skagerack\n",
      "Skalbacksvägen\n",
      "Skaldegatan\n",
      "Skalkorgarna\n"
     ]
    },
    {
     "name": "stderr",
     "output_type": "stream",
     "text": [
      " 72%|███████▏  | 4194/5788 [25:10<03:19,  8.00it/s]"
     ]
    },
    {
     "name": "stdout",
     "output_type": "stream",
     "text": [
      "Skalldalsvägen\n"
     ]
    },
    {
     "name": "stderr",
     "output_type": "stream",
     "text": [
      " 72%|███████▏  | 4196/5788 [25:13<10:26,  2.54it/s]"
     ]
    },
    {
     "name": "stdout",
     "output_type": "stream",
     "text": [
      "Skallgången\n",
      "Skallviksvägen\n",
      "Skalskärsgatan\n",
      "Skanstorget\n"
     ]
    },
    {
     "name": "stderr",
     "output_type": "stream",
     "text": [
      " 73%|███████▎  | 4202/5788 [25:13<05:47,  4.56it/s]"
     ]
    },
    {
     "name": "stdout",
     "output_type": "stream",
     "text": [
      "Skanörsgatan\n",
      "Skaragatan\n",
      "Skarpelandsvägen\n",
      "Skarpetegsvägen\n",
      "Skatetorpsvägen\n",
      "Skattegårdsvägen\n"
     ]
    },
    {
     "name": "stderr",
     "output_type": "stream",
     "text": [
      " 73%|███████▎  | 4207/5788 [25:14<05:25,  4.85it/s]"
     ]
    },
    {
     "name": "stdout",
     "output_type": "stream",
     "text": [
      "Skatåsvägen\n",
      "Skeddalsvägen\n",
      "Skepparegången\n"
     ]
    },
    {
     "name": "stderr",
     "output_type": "stream",
     "text": [
      " 73%|███████▎  | 4209/5788 [25:14<04:55,  5.34it/s]"
     ]
    },
    {
     "name": "stdout",
     "output_type": "stream",
     "text": [
      "Skepparevägen\n",
      "Skeppet Ärans väg\n",
      "Skeppfartsvägen\n",
      "Skeppsbron\n"
     ]
    },
    {
     "name": "stderr",
     "output_type": "stream",
     "text": [
      " 73%|███████▎  | 4215/5788 [25:15<03:01,  8.65it/s]"
     ]
    },
    {
     "name": "stdout",
     "output_type": "stream",
     "text": [
      "Skeppsbroplatsen\n",
      "Skeppsbyggaregatan\n",
      "Skeppsgossegatan\n",
      "Skeppsgränd\n",
      "Skeppspromenaden\n",
      "Skeppstads Andväg\n",
      "Skeppstads Ejderväg\n",
      "Skeppstads Gateskärsväg\n"
     ]
    },
    {
     "name": "stderr",
     "output_type": "stream",
     "text": [
      " 73%|███████▎  | 4224/5788 [25:15<01:38, 15.85it/s]"
     ]
    },
    {
     "name": "stdout",
     "output_type": "stream",
     "text": [
      "Skeppstads Ljungväg\n",
      "Skeppstads Måsväg\n",
      "Skeppstads Ringväg\n",
      "Skeppstads Strandväg\n",
      "Skeppstads Trastväg\n",
      "Skeppstads Tärnväg\n",
      "Skeppstads Ärleväg\n"
     ]
    },
    {
     "name": "stderr",
     "output_type": "stream",
     "text": [
      " 73%|███████▎  | 4230/5788 [25:15<01:29, 17.35it/s]"
     ]
    },
    {
     "name": "stdout",
     "output_type": "stream",
     "text": [
      "Skeppstadsvägen\n",
      "Skidbacken\n",
      "Skidåkaren\n",
      "Skiftesgatan\n",
      "Skiljebacken\n"
     ]
    },
    {
     "name": "stderr",
     "output_type": "stream",
     "text": [
      " 73%|███████▎  | 4236/5788 [25:16<01:40, 15.46it/s]"
     ]
    },
    {
     "name": "stdout",
     "output_type": "stream",
     "text": [
      "Skiljedalsvägen\n",
      "Skiljemyntsgatan\n",
      "Skillingmyntsgatan\n",
      "Skillnadsgatan\n",
      "Skimmelvägen\n",
      "Skintebo Stora\n",
      "Skintebovägen\n"
     ]
    },
    {
     "name": "stderr",
     "output_type": "stream",
     "text": [
      " 73%|███████▎  | 4239/5788 [25:16<02:27, 10.48it/s]"
     ]
    },
    {
     "name": "stdout",
     "output_type": "stream",
     "text": [
      "Skjutbanegatan\n",
      "Skogaberg\n"
     ]
    },
    {
     "name": "stderr",
     "output_type": "stream",
     "text": [
      " 73%|███████▎  | 4241/5788 [25:17<02:41,  9.56it/s]"
     ]
    },
    {
     "name": "stdout",
     "output_type": "stream",
     "text": [
      "Skogens Gård\n",
      "Skogome\n"
     ]
    },
    {
     "name": "stderr",
     "output_type": "stream",
     "text": [
      " 73%|███████▎  | 4246/5788 [25:17<02:07, 12.10it/s]"
     ]
    },
    {
     "name": "stdout",
     "output_type": "stream",
     "text": [
      "Skogomevägen\n",
      "Skogsbacken\n",
      "Skogsbrynet\n",
      "Skogsdrottningen\n",
      "Skogsdungen\n"
     ]
    },
    {
     "name": "stderr",
     "output_type": "stream",
     "text": [
      " 73%|███████▎  | 4250/5788 [25:17<01:46, 14.50it/s]"
     ]
    },
    {
     "name": "stdout",
     "output_type": "stream",
     "text": [
      "Skogsduvevägen\n",
      "Skogsgläntevägen\n",
      "Skogshagestigen\n",
      "Skogshyddegatan\n"
     ]
    },
    {
     "name": "stderr",
     "output_type": "stream",
     "text": [
      " 74%|███████▎  | 4256/5788 [25:17<01:16, 20.01it/s]"
     ]
    },
    {
     "name": "stdout",
     "output_type": "stream",
     "text": [
      "Skogsliden\n",
      "Skogslundsgatan\n",
      "Skogslyckevägen\n",
      "Skogsmarksvägen\n",
      "Skogsmilsgatan\n",
      "Skogsrydsgatan\n",
      "Skogstorpsgatan\n"
     ]
    },
    {
     "name": "stderr",
     "output_type": "stream",
     "text": [
      " 74%|███████▎  | 4259/5788 [25:18<01:14, 20.64it/s]"
     ]
    },
    {
     "name": "stdout",
     "output_type": "stream",
     "text": [
      "Skogsviksvägen\n",
      "Skogsviolgången\n",
      "Skogsvägen\n"
     ]
    },
    {
     "name": "stderr",
     "output_type": "stream",
     "text": [
      " 74%|███████▎  | 4264/5788 [25:20<05:34,  4.56it/s]"
     ]
    },
    {
     "name": "stdout",
     "output_type": "stream",
     "text": [
      "Skogsängsvägen\n",
      "Skolgatan\n",
      "Skolspåret\n",
      "Skolstigen\n"
     ]
    },
    {
     "name": "stderr",
     "output_type": "stream",
     "text": [
      " 74%|███████▎  | 4266/5788 [25:20<04:32,  5.60it/s]"
     ]
    },
    {
     "name": "stdout",
     "output_type": "stream",
     "text": [
      "Skomakaregatan\n",
      "Skomakaregården\n"
     ]
    },
    {
     "name": "stderr",
     "output_type": "stream",
     "text": [
      " 74%|███████▍  | 4270/5788 [25:24<11:02,  2.29it/s]"
     ]
    },
    {
     "name": "stdout",
     "output_type": "stream",
     "text": [
      "Skomakareängen\n",
      "Skonaren Ingos gata\n",
      "Skonertgatan\n"
     ]
    },
    {
     "name": "stderr",
     "output_type": "stream",
     "text": [
      " 74%|███████▍  | 4277/5788 [25:24<05:18,  4.75it/s]"
     ]
    },
    {
     "name": "stdout",
     "output_type": "stream",
     "text": [
      "Skorstensfejaregatan\n",
      "Skottårsgatan\n",
      "Skotvägen\n",
      "Skovelvägen\n",
      "Skra Bro\n",
      "Skrapestigen\n",
      "Skrattmåsgången\n",
      "Skrinnarvägen\n"
     ]
    },
    {
     "name": "stderr",
     "output_type": "stream",
     "text": [
      " 74%|███████▍  | 4282/5788 [25:25<03:29,  7.18it/s]"
     ]
    },
    {
     "name": "stdout",
     "output_type": "stream",
     "text": [
      "Skrivaregatan\n",
      "Skräddaregatan\n",
      "Skräddaregården\n",
      "Skräddarns väg\n",
      "Skrälls väg\n"
     ]
    },
    {
     "name": "stderr",
     "output_type": "stream",
     "text": [
      " 74%|███████▍  | 4286/5788 [25:25<02:37,  9.56it/s]"
     ]
    },
    {
     "name": "stdout",
     "output_type": "stream",
     "text": [
      "Skummjölksgatan\n",
      "Skutehagsvägen\n",
      "Skuteskärsvägen\n"
     ]
    },
    {
     "name": "stderr",
     "output_type": "stream",
     "text": [
      " 74%|███████▍  | 4290/5788 [25:25<01:55, 12.97it/s]"
     ]
    },
    {
     "name": "stdout",
     "output_type": "stream",
     "text": [
      "Skvaltkvarnsvägen\n",
      "Skymningsgatan\n",
      "Skyttegatan\n",
      "Skyttegillets väg\n",
      "Skyttepaviljongens gata\n",
      "Skytteskogsgatan\n"
     ]
    },
    {
     "name": "stderr",
     "output_type": "stream",
     "text": [
      " 74%|███████▍  | 4296/5788 [25:25<01:34, 15.87it/s]"
     ]
    },
    {
     "name": "stdout",
     "output_type": "stream",
     "text": [
      "Skäddegatan\n",
      "Skäggeredsvägen\n",
      "Skäggevägen\n",
      "Skälebergsgången\n",
      "Skälltorpsvägen\n"
     ]
    },
    {
     "name": "stderr",
     "output_type": "stream",
     "text": [
      " 74%|███████▍  | 4299/5788 [25:29<10:33,  2.35it/s]"
     ]
    },
    {
     "name": "stdout",
     "output_type": "stream",
     "text": [
      "Skändla Sörgårdsväg\n",
      "Skändlavägen\n",
      "Skänningegatan\n",
      "Skäpplandsgatan\n"
     ]
    },
    {
     "name": "stderr",
     "output_type": "stream",
     "text": [
      " 74%|███████▍  | 4305/5788 [25:29<05:47,  4.27it/s]"
     ]
    },
    {
     "name": "stdout",
     "output_type": "stream",
     "text": [
      "Skärgårdsgatan\n",
      "Skärhamnsgatan\n",
      "Skärsjölundsvägen\n",
      "Skärsliparegatan\n",
      "Skärvallsgatan\n",
      "Skärvstensvägen\n"
     ]
    },
    {
     "name": "stderr",
     "output_type": "stream",
     "text": [
      " 74%|███████▍  | 4310/5788 [25:30<03:58,  6.21it/s]"
     ]
    },
    {
     "name": "stdout",
     "output_type": "stream",
     "text": [
      "Skålgropsvägen\n",
      "Skålmekärrsvägen\n",
      "Skålviseredsvägen\n",
      "Skånegatan\n"
     ]
    },
    {
     "name": "stderr",
     "output_type": "stream",
     "text": [
      " 75%|███████▍  | 4316/5788 [25:33<07:37,  3.22it/s]"
     ]
    },
    {
     "name": "stdout",
     "output_type": "stream",
     "text": [
      "Skårbergsvägen\n",
      "Skårs Allé\n",
      "Skårs Trappor\n",
      "Skårs led\n",
      "Skårsgatan\n"
     ]
    },
    {
     "name": "stderr",
     "output_type": "stream",
     "text": [
      " 75%|███████▍  | 4318/5788 [25:36<14:25,  1.70it/s]"
     ]
    },
    {
     "name": "stdout",
     "output_type": "stream",
     "text": [
      "Sköljestensgränd\n",
      "Skördevägen\n",
      "Slaktarns Backe\n",
      "Slakthusbron\n",
      "Slakthuset\n",
      "Slakthusgatan\n"
     ]
    },
    {
     "name": "stderr",
     "output_type": "stream",
     "text": [
      " 75%|███████▍  | 4323/5788 [25:37<09:53,  2.47it/s]"
     ]
    },
    {
     "name": "stdout",
     "output_type": "stream",
     "text": [
      "Slingerstigen\n",
      "Slottsberget\n",
      "Slottsskogsgatan\n"
     ]
    },
    {
     "name": "stderr",
     "output_type": "stream",
     "text": [
      " 75%|███████▍  | 4326/5788 [25:42<18:34,  1.31it/s]"
     ]
    },
    {
     "name": "stdout",
     "output_type": "stream",
     "text": [
      "Slottsskogspromenaden\n"
     ]
    },
    {
     "name": "stderr",
     "output_type": "stream",
     "text": [
      " 75%|███████▍  | 4330/5788 [25:45<16:04,  1.51it/s]"
     ]
    },
    {
     "name": "stdout",
     "output_type": "stream",
     "text": [
      "Slottsskrivaregatan\n",
      "Slupgatan\n",
      "Slussgatan\n",
      "Slussplatsen\n",
      "Släggaregatan\n",
      "Släktforskarens Gångväg\n",
      "Släktledsgatan\n"
     ]
    },
    {
     "name": "stderr",
     "output_type": "stream",
     "text": [
      " 75%|███████▍  | 4334/5788 [25:45<10:18,  2.35it/s]"
     ]
    },
    {
     "name": "stdout",
     "output_type": "stream",
     "text": [
      "Slätpricksvägen\n",
      "Slätskäddegatan\n"
     ]
    },
    {
     "name": "stderr",
     "output_type": "stream",
     "text": [
      " 75%|███████▍  | 4338/5788 [25:45<07:11,  3.36it/s]"
     ]
    },
    {
     "name": "stdout",
     "output_type": "stream",
     "text": [
      "Slättadammsgatan\n",
      "Slätten\n",
      "Slättgatan\n"
     ]
    },
    {
     "name": "stderr",
     "output_type": "stream",
     "text": [
      " 75%|███████▍  | 4340/5788 [25:45<05:40,  4.25it/s]"
     ]
    },
    {
     "name": "stdout",
     "output_type": "stream",
     "text": [
      "Slättgärdsgatan\n",
      "Slättåsvägen\n"
     ]
    },
    {
     "name": "stderr",
     "output_type": "stream",
     "text": [
      " 75%|███████▌  | 4342/5788 [25:49<14:12,  1.70it/s]"
     ]
    },
    {
     "name": "stdout",
     "output_type": "stream",
     "text": [
      "Slätvarsgatan\n",
      "Slånbärsvägen\n",
      "Slåttervägen\n",
      "Slåttängsgatan\n"
     ]
    },
    {
     "name": "stderr",
     "output_type": "stream",
     "text": [
      " 75%|███████▌  | 4347/5788 [25:49<07:21,  3.27it/s]"
     ]
    },
    {
     "name": "stdout",
     "output_type": "stream",
     "text": [
      "Smala vägen\n",
      "Smaragdgatan\n",
      "Smedjegatan\n",
      "Smedjegårdsängen\n",
      "Smedjeholm\n"
     ]
    },
    {
     "name": "stderr",
     "output_type": "stream",
     "text": [
      " 75%|███████▌  | 4352/5788 [25:49<04:58,  4.82it/s]"
     ]
    },
    {
     "name": "stdout",
     "output_type": "stream",
     "text": [
      "Smedjeliden\n",
      "Smedkullen\n",
      "Smedlyckan\n"
     ]
    },
    {
     "name": "stderr",
     "output_type": "stream",
     "text": [
      " 75%|███████▌  | 4357/5788 [25:51<04:32,  5.26it/s]"
     ]
    },
    {
     "name": "stdout",
     "output_type": "stream",
     "text": [
      "Smedmästare Karlssons Gångväg\n",
      "Smedvägen\n",
      "Smens väg\n",
      "Smidesgatan\n",
      "Smithska vägen\n"
     ]
    },
    {
     "name": "stderr",
     "output_type": "stream",
     "text": [
      " 75%|███████▌  | 4361/5788 [25:53<07:28,  3.18it/s]"
     ]
    },
    {
     "name": "stdout",
     "output_type": "stream",
     "text": [
      "Smugglarevägen\n",
      "Smultronvägen\n",
      "Smyckegatan\n",
      "Smällbärsvägen\n",
      "Småbåtsgatan\n"
     ]
    },
    {
     "name": "stderr",
     "output_type": "stream",
     "text": [
      " 75%|███████▌  | 4366/5788 [25:53<03:54,  6.06it/s]"
     ]
    },
    {
     "name": "stdout",
     "output_type": "stream",
     "text": [
      "Småkulla Gärde\n",
      "Småkulla Hage\n",
      "Småkulla Äng\n",
      "Småkullavägen\n"
     ]
    },
    {
     "name": "stderr",
     "output_type": "stream",
     "text": [
      " 76%|███████▌  | 4371/5788 [25:54<03:09,  7.48it/s]"
     ]
    },
    {
     "name": "stdout",
     "output_type": "stream",
     "text": [
      "Smålandsgatan\n",
      "Småstugevägen\n",
      "Småtrollens väg\n",
      "Smögengatan\n",
      "Smöjträvägen\n"
     ]
    },
    {
     "name": "stderr",
     "output_type": "stream",
     "text": [
      " 76%|███████▌  | 4374/5788 [25:54<02:24,  9.80it/s]"
     ]
    },
    {
     "name": "stdout",
     "output_type": "stream",
     "text": [
      "Smörbacken\n",
      "Smörblommegången\n",
      "Smörbollsgatan\n",
      "Smörgatan\n"
     ]
    },
    {
     "name": "stderr",
     "output_type": "stream",
     "text": [
      " 76%|███████▌  | 4378/5788 [25:54<02:53,  8.13it/s]"
     ]
    },
    {
     "name": "stdout",
     "output_type": "stream",
     "text": [
      "Smörjoljegatan\n",
      "Smörkärnegatan\n",
      "Smörslottsgatan\n"
     ]
    },
    {
     "name": "stderr",
     "output_type": "stream",
     "text": [
      " 76%|███████▌  | 4380/5788 [25:58<14:11,  1.65it/s]"
     ]
    },
    {
     "name": "stdout",
     "output_type": "stream",
     "text": [
      "Smörslätten\n",
      "Smörvattnestigen\n"
     ]
    },
    {
     "name": "stderr",
     "output_type": "stream",
     "text": [
      " 76%|███████▌  | 4386/5788 [25:59<06:19,  3.70it/s]"
     ]
    },
    {
     "name": "stdout",
     "output_type": "stream",
     "text": [
      "Smörvattnevägen\n",
      "Snapphanestigen\n",
      "Snarberget\n",
      "Snickaregången\n",
      "Snipebergsvägen\n",
      "Snoilskygatan\n",
      "Snorregatan\n"
     ]
    },
    {
     "name": "stderr",
     "output_type": "stream",
     "text": [
      " 76%|███████▌  | 4388/5788 [25:59<05:13,  4.47it/s]"
     ]
    },
    {
     "name": "stdout",
     "output_type": "stream",
     "text": [
      "Snäckebergsvägen\n",
      "Snäckeskärsgatan\n",
      "Snäckskalsvägen\n",
      "Snäckvägen\n"
     ]
    },
    {
     "name": "stderr",
     "output_type": "stream",
     "text": [
      " 76%|███████▌  | 4399/5788 [25:59<02:01, 11.43it/s]"
     ]
    },
    {
     "name": "stdout",
     "output_type": "stream",
     "text": [
      "Snäppegatan\n",
      "Snålstigen\n",
      "Snödroppegången\n",
      "Snöripegatan\n",
      "Snörmakaregatan\n",
      "Snörpåsvägen\n",
      "Snöskategatan\n",
      "Snövädersgatan\n",
      "Sobelgatan\n",
      "Sockenvägen\n"
     ]
    },
    {
     "name": "stderr",
     "output_type": "stream",
     "text": [
      " 76%|███████▌  | 4402/5788 [25:59<01:44, 13.23it/s]"
     ]
    },
    {
     "name": "stdout",
     "output_type": "stream",
     "text": [
      "Sockerbagaregatan\n",
      "Sockerbruket\n",
      "Sofiagatan\n"
     ]
    },
    {
     "name": "stderr",
     "output_type": "stream",
     "text": [
      " 76%|███████▌  | 4405/5788 [26:00<03:14,  7.13it/s]"
     ]
    },
    {
     "name": "stdout",
     "output_type": "stream",
     "text": [
      "Sofiebergsgatan\n",
      "Sofiedal\n",
      "Sofiedalsvägen\n",
      "Sofiehemsvägen\n",
      "Sofierogatan\n"
     ]
    },
    {
     "name": "stderr",
     "output_type": "stream",
     "text": [
      " 76%|███████▌  | 4412/5788 [26:01<03:09,  7.28it/s]"
     ]
    },
    {
     "name": "stdout",
     "output_type": "stream",
     "text": [
      "Solarvsplan\n",
      "Solbacken\n",
      "Solbackevägen\n"
     ]
    },
    {
     "name": "stderr",
     "output_type": "stream",
     "text": [
      " 76%|███████▋  | 4417/5788 [26:01<02:09, 10.58it/s]"
     ]
    },
    {
     "name": "stdout",
     "output_type": "stream",
     "text": [
      "Solberget\n",
      "Solbergs Sörgårdsväg\n",
      "Solbräckevägen\n",
      "Solbänksgatan\n",
      "Soldathemsgatan\n",
      "Soldatvägen\n",
      "Solfågelsvägen\n"
     ]
    },
    {
     "name": "stderr",
     "output_type": "stream",
     "text": [
      " 76%|███████▋  | 4420/5788 [26:02<03:48,  6.00it/s]"
     ]
    },
    {
     "name": "stdout",
     "output_type": "stream",
     "text": [
      "Solglimtsvägen\n",
      "Solgläntan\n",
      "Solgärdesvägen\n",
      "Solgårdsgatan\n",
      "Solhagagatan\n"
     ]
    },
    {
     "name": "stderr",
     "output_type": "stream",
     "text": [
      " 77%|███████▋  | 4428/5788 [26:04<03:40,  6.17it/s]"
     ]
    },
    {
     "name": "stdout",
     "output_type": "stream",
     "text": [
      "Solhemsstigen\n",
      "Solhjulsvägen\n",
      "Solhusgatan\n",
      "Solhällsvägen\n"
     ]
    },
    {
     "name": "stderr",
     "output_type": "stream",
     "text": [
      " 77%|███████▋  | 4430/5788 [26:04<03:35,  6.29it/s]"
     ]
    },
    {
     "name": "stdout",
     "output_type": "stream",
     "text": [
      "Solhöjdsgatan\n",
      "Solhöjdsgränd\n",
      "Solkullavägen\n",
      "Solliden\n"
     ]
    },
    {
     "name": "stderr",
     "output_type": "stream",
     "text": [
      " 77%|███████▋  | 4435/5788 [26:04<02:27,  9.15it/s]"
     ]
    },
    {
     "name": "stdout",
     "output_type": "stream",
     "text": [
      "Sollidsgatan\n",
      "Sologången\n",
      "Solrosgatan\n",
      "Solskiftesgatan\n"
     ]
    },
    {
     "name": "stderr",
     "output_type": "stream",
     "text": [
      " 77%|███████▋  | 4440/5788 [26:05<01:53, 11.92it/s]"
     ]
    },
    {
     "name": "stdout",
     "output_type": "stream",
     "text": [
      "Solslättsvägen\n",
      "Solstigen\n",
      "Solstrålegatan\n",
      "Solståndsgatan\n",
      "Solsätervägen\n"
     ]
    },
    {
     "name": "stderr",
     "output_type": "stream",
     "text": [
      " 77%|███████▋  | 4444/5788 [26:05<01:36, 13.94it/s]"
     ]
    },
    {
     "name": "stdout",
     "output_type": "stream",
     "text": [
      "Solvarvsgatan\n",
      "Solventilsgatan\n",
      "Solvädersbyn\n"
     ]
    },
    {
     "name": "stderr",
     "output_type": "stream",
     "text": [
      " 77%|███████▋  | 4448/5788 [26:05<01:32, 14.47it/s]"
     ]
    },
    {
     "name": "stdout",
     "output_type": "stream",
     "text": [
      "Solvändsgatan\n",
      "Solängsvägen\n",
      "Sommarbovägen\n",
      "Sommargårdsvägen\n",
      "Sommarlyckan\n",
      "Sommarvädersgatan\n"
     ]
    },
    {
     "name": "stderr",
     "output_type": "stream",
     "text": [
      " 77%|███████▋  | 4453/5788 [26:12<15:41,  1.42it/s]"
     ]
    },
    {
     "name": "stdout",
     "output_type": "stream",
     "text": [
      "Sommersgatan\n",
      "Sonettgatan\n",
      "Sonya Hedenbratts gata\n",
      "Sophie Elkans gata\n",
      "Sophus Petersens Backe\n"
     ]
    },
    {
     "name": "stderr",
     "output_type": "stream",
     "text": [
      " 77%|███████▋  | 4456/5788 [26:13<10:22,  2.14it/s]"
     ]
    },
    {
     "name": "stdout",
     "output_type": "stream",
     "text": [
      "Soprangatan\n",
      "Sotérusgatan\n"
     ]
    },
    {
     "name": "stderr",
     "output_type": "stream",
     "text": [
      " 77%|███████▋  | 4460/5788 [26:13<07:27,  2.97it/s]"
     ]
    },
    {
     "name": "stdout",
     "output_type": "stream",
     "text": [
      "Spadegatan\n",
      "Spaldingsgatan\n",
      "Spaljégången\n"
     ]
    },
    {
     "name": "stderr",
     "output_type": "stream",
     "text": [
      " 77%|███████▋  | 4463/5788 [26:13<05:02,  4.37it/s]"
     ]
    },
    {
     "name": "stdout",
     "output_type": "stream",
     "text": [
      "Spanjolettgatan\n",
      "Spannlandsgatan\n",
      "Spannmålsgatan\n",
      "Spantgatan\n"
     ]
    },
    {
     "name": "stderr",
     "output_type": "stream",
     "text": [
      " 77%|███████▋  | 4467/5788 [26:14<03:26,  6.40it/s]"
     ]
    },
    {
     "name": "stdout",
     "output_type": "stream",
     "text": [
      "Sparrgrensgatan\n",
      "Sparrisgången\n",
      "Sparvgatan\n",
      "Spejarestigen\n"
     ]
    },
    {
     "name": "stderr",
     "output_type": "stream",
     "text": [
      " 77%|███████▋  | 4469/5788 [26:14<02:51,  7.67it/s]"
     ]
    },
    {
     "name": "stdout",
     "output_type": "stream",
     "text": [
      "Spekebergsgatan\n",
      "Spektrumsgatan\n"
     ]
    },
    {
     "name": "stderr",
     "output_type": "stream",
     "text": [
      " 77%|███████▋  | 4474/5788 [26:14<02:07, 10.33it/s]"
     ]
    },
    {
     "name": "stdout",
     "output_type": "stream",
     "text": [
      "Speldosegatan\n",
      "Spelmansgatan\n",
      "Spelmansgården\n",
      "Spelmansplatsen\n",
      "Spenatgången\n",
      "Spetsbergsgatan\n"
     ]
    },
    {
     "name": "stderr",
     "output_type": "stream",
     "text": [
      " 77%|███████▋  | 4479/5788 [26:15<01:48, 12.10it/s]"
     ]
    },
    {
     "name": "stdout",
     "output_type": "stream",
     "text": [
      "Spinettbacken\n",
      "Spinettplatsen\n",
      "Spinnspövägen\n"
     ]
    },
    {
     "name": "stderr",
     "output_type": "stream",
     "text": [
      " 77%|███████▋  | 4485/5788 [26:15<01:19, 16.35it/s]"
     ]
    },
    {
     "name": "stdout",
     "output_type": "stream",
     "text": [
      "Spireagången\n",
      "Spjutkastaregången\n",
      "Splintvedsgatan\n",
      "Splitsaregatan\n",
      "Spontkajen\n",
      "Sporrmakaregatan\n",
      "Sprintergången\n",
      "Sprängkullsgatan\n"
     ]
    },
    {
     "name": "stderr",
     "output_type": "stream",
     "text": [
      " 78%|███████▊  | 4488/5788 [26:17<05:55,  3.65it/s]"
     ]
    },
    {
     "name": "stdout",
     "output_type": "stream",
     "text": [
      "Späckhuggaregatan\n",
      "Spänstvägen\n"
     ]
    },
    {
     "name": "stderr",
     "output_type": "stream",
     "text": [
      " 78%|███████▊  | 4500/5788 [26:19<03:34,  6.00it/s]"
     ]
    },
    {
     "name": "stdout",
     "output_type": "stream",
     "text": [
      "Spånkullen\n",
      "Spår 1\n",
      "Spår 2\n",
      "Spår 3\n",
      "Spår 4\n",
      "Spår 5\n",
      "Spår 6\n",
      "Spår 7\n",
      "Spår 8\n",
      "Spårekärrsgatan\n",
      "Spårö Fyrs väg\n",
      "Stabbebacken\n",
      "Stabbegatan\n"
     ]
    },
    {
     "name": "stderr",
     "output_type": "stream",
     "text": [
      " 78%|███████▊  | 4504/5788 [26:19<02:53,  7.38it/s]"
     ]
    },
    {
     "name": "stdout",
     "output_type": "stream",
     "text": [
      "Stabbetorget\n",
      "Stackmolnsgatan\n",
      "Stadstjänaregatan\n"
     ]
    },
    {
     "name": "stderr",
     "output_type": "stream",
     "text": [
      " 78%|███████▊  | 4512/5788 [26:20<02:00, 10.61it/s]"
     ]
    },
    {
     "name": "stdout",
     "output_type": "stream",
     "text": [
      "Stadsvaktegatan\n",
      "Stafettgatan\n",
      "Stagvägen\n",
      "Stallbacken\n",
      "Stallberga\n",
      "Stallegårdsvägen\n",
      "Stallkullevägen\n",
      "Stallmästaregatan\n",
      "Stallvägen\n"
     ]
    },
    {
     "name": "stderr",
     "output_type": "stream",
     "text": [
      " 78%|███████▊  | 4515/5788 [26:20<01:44, 12.19it/s]"
     ]
    },
    {
     "name": "stdout",
     "output_type": "stream",
     "text": [
      "Stamgårdsvägen\n",
      "Stampereds Gård\n",
      "Stampgatan\n"
     ]
    },
    {
     "name": "stderr",
     "output_type": "stream",
     "text": [
      " 78%|███████▊  | 4521/5788 [26:21<02:48,  7.51it/s]"
     ]
    },
    {
     "name": "stdout",
     "output_type": "stream",
     "text": [
      "Stamrotesvägen\n",
      "Standargatan\n",
      "Stapelbädden\n",
      "Starbåtsgatan\n"
     ]
    },
    {
     "name": "stderr",
     "output_type": "stream",
     "text": [
      " 78%|███████▊  | 4529/5788 [26:22<01:44, 12.05it/s]"
     ]
    },
    {
     "name": "stdout",
     "output_type": "stream",
     "text": [
      "Staregatan\n",
      "Stataregatan\n",
      "Stavhopparegatan\n",
      "Stavstigen\n",
      "Steen Priwins gata\n",
      "Stegebergsvägen\n",
      "Stegerholmsvägen\n",
      "Steglitsegatan\n",
      "Stekastigen\n",
      "Steken\n",
      "Sten Sturegatan\n"
     ]
    },
    {
     "name": "stderr",
     "output_type": "stream",
     "text": [
      " 78%|███████▊  | 4536/5788 [26:22<01:48, 11.50it/s]"
     ]
    },
    {
     "name": "stdout",
     "output_type": "stream",
     "text": [
      "Sten-åke Cederhöks gata\n",
      "Stenabron\n",
      "Stenareds Eriksberg\n",
      "Stenareds Skogslid\n",
      "Stenaredsbacken\n",
      "Stenaredslyckan\n",
      "Stenaredsvägen\n"
     ]
    },
    {
     "name": "stderr",
     "output_type": "stream",
     "text": [
      " 79%|███████▊  | 4544/5788 [26:22<01:08, 18.09it/s]"
     ]
    },
    {
     "name": "stdout",
     "output_type": "stream",
     "text": [
      "Stenbacksvägen\n",
      "Stenbergsgatan\n",
      "Stenbocksgatan\n",
      "Stenbrottsvägen\n",
      "Stenbräckevägen\n",
      "Stenbärsvägen\n",
      "Stenebyvägen\n"
     ]
    },
    {
     "name": "stderr",
     "output_type": "stream",
     "text": [
      " 79%|███████▊  | 4551/5788 [26:23<00:56, 21.93it/s]"
     ]
    },
    {
     "name": "stdout",
     "output_type": "stream",
     "text": [
      "Stengetsgatan\n",
      "Stenhammarsgatan\n",
      "Stenhedsgatan\n",
      "Stenholmsvägen\n",
      "Stenhuggaregatan\n",
      "Stenkastsgatan\n",
      "Stenkleveliden\n"
     ]
    },
    {
     "name": "stderr",
     "output_type": "stream",
     "text": [
      " 79%|███████▊  | 4557/5788 [26:23<00:49, 24.67it/s]"
     ]
    },
    {
     "name": "stdout",
     "output_type": "stream",
     "text": [
      "Stenklevsgatan\n",
      "Stenkolsgatan\n",
      "Stenkullegatan\n",
      "Stenlavsvägen\n",
      "Stenlyckan\n"
     ]
    },
    {
     "name": "stderr",
     "output_type": "stream",
     "text": [
      " 79%|███████▉  | 4564/5788 [26:23<00:52, 23.33it/s]"
     ]
    },
    {
     "name": "stdout",
     "output_type": "stream",
     "text": [
      "Stenpiren\n",
      "Stensbovägen\n",
      "Stenskvättegatan\n",
      "Stenskärsgatan\n",
      "Stensprängaregatan\n",
      "Stenstigen\n",
      "Stenströmsgatan\n"
     ]
    },
    {
     "name": "stderr",
     "output_type": "stream",
     "text": [
      " 79%|███████▉  | 4567/5788 [26:23<01:00, 20.12it/s]"
     ]
    },
    {
     "name": "stdout",
     "output_type": "stream",
     "text": [
      "Stensötevägen\n",
      "Stenungsundsgatan\n",
      "Stenvägen\n",
      "Stenängens Lycka\n"
     ]
    },
    {
     "name": "stderr",
     "output_type": "stream",
     "text": [
      " 79%|███████▉  | 4570/5788 [26:24<01:05, 18.71it/s]"
     ]
    },
    {
     "name": "stdout",
     "output_type": "stream",
     "text": [
      "Stenåldersvägen\n",
      "Sterlingsgatan\n",
      "Stigbergsliden\n"
     ]
    },
    {
     "name": "stderr",
     "output_type": "stream",
     "text": [
      " 79%|███████▉  | 4575/5788 [26:24<01:46, 11.42it/s]"
     ]
    },
    {
     "name": "stdout",
     "output_type": "stream",
     "text": [
      "Stigbergstorget\n",
      "Stigen\n",
      "Stigvägen\n",
      "Stilgjutaregatan\n",
      "Stilla Havet\n",
      "Stilla gatan\n"
     ]
    },
    {
     "name": "stderr",
     "output_type": "stream",
     "text": [
      " 79%|███████▉  | 4585/5788 [26:25<00:54, 22.19it/s]"
     ]
    },
    {
     "name": "stdout",
     "output_type": "stream",
     "text": [
      "Stjernsköldsgatan\n",
      "Stjärnbildsbacken\n",
      "Stjärnbildsgatan\n",
      "Stjärnbåtsgatan\n",
      "Stjärnkullavägen\n",
      "Stobéegatan\n",
      "Stockholmsgatan\n"
     ]
    },
    {
     "name": "stderr",
     "output_type": "stream",
     "text": [
      " 79%|███████▉  | 4588/5788 [26:25<01:08, 17.49it/s]"
     ]
    },
    {
     "name": "stdout",
     "output_type": "stream",
     "text": [
      "Stockrosgången\n",
      "Stockvagnsgatan\n",
      "Stockåkersplan\n",
      "Stockåkersvägen\n",
      "Stokkebyes Kvarnväg\n"
     ]
    },
    {
     "name": "stderr",
     "output_type": "stream",
     "text": [
      " 79%|███████▉  | 4593/5788 [26:26<01:43, 11.54it/s]"
     ]
    },
    {
     "name": "stdout",
     "output_type": "stream",
     "text": [
      "Stombergsvägen\n",
      "Stommavägen\n",
      "Stomvägen\n",
      "Stora Arödsgatan\n",
      "Stora Badhusgatan\n"
     ]
    },
    {
     "name": "stderr",
     "output_type": "stream",
     "text": [
      " 79%|███████▉  | 4598/5788 [26:27<03:15,  6.08it/s]"
     ]
    },
    {
     "name": "stdout",
     "output_type": "stream",
     "text": [
      "Stora Billingens Cykelväg\n",
      "Stora Björn\n",
      "Stora Dammenstigen\n",
      "Stora Dödskallebacken\n",
      "Stora Fiskebäcksvägen\n"
     ]
    },
    {
     "name": "stderr",
     "output_type": "stream",
     "text": [
      " 80%|███████▉  | 4604/5788 [26:31<06:40,  2.96it/s]"
     ]
    },
    {
     "name": "stdout",
     "output_type": "stream",
     "text": [
      "Stora Gårda\n",
      "Stora Holm Övningsväg\n",
      "Stora Holmen\n",
      "Stora Holms Säteri\n",
      "Stora Hovgården\n",
      "Stora Härsjöplatsen\n",
      "Stora Kronogårdsgatan\n"
     ]
    },
    {
     "name": "stderr",
     "output_type": "stream",
     "text": [
      " 80%|███████▉  | 4612/5788 [26:31<03:10,  6.18it/s]"
     ]
    },
    {
     "name": "stdout",
     "output_type": "stream",
     "text": [
      "Stora Kärrs väg\n",
      "Stora Ljungskärsgatan\n",
      "Stora Mysternavägen\n",
      "Stora Nygatan\n",
      "Stora Postegårdsgatan\n",
      "Stora Pölsans väg\n"
     ]
    },
    {
     "name": "stderr",
     "output_type": "stream",
     "text": [
      " 80%|███████▉  | 4615/5788 [26:32<04:29,  4.36it/s]"
     ]
    },
    {
     "name": "stdout",
     "output_type": "stream",
     "text": [
      "Stora Tolsereds väg\n",
      "Stora Vettes väg\n",
      "Stora Älsjövägen\n"
     ]
    },
    {
     "name": "stderr",
     "output_type": "stream",
     "text": [
      " 80%|███████▉  | 4617/5788 [26:35<10:07,  1.93it/s]"
     ]
    },
    {
     "name": "stdout",
     "output_type": "stream",
     "text": [
      "Stora Åvägen\n"
     ]
    },
    {
     "name": "stderr",
     "output_type": "stream",
     "text": [
      " 80%|███████▉  | 4619/5788 [26:36<09:13,  2.11it/s]"
     ]
    },
    {
     "name": "stdout",
     "output_type": "stream",
     "text": [
      "Storagårdsgatan\n",
      "Storatorpsvägen\n",
      "Store Udds väg\n"
     ]
    },
    {
     "name": "stderr",
     "output_type": "stream",
     "text": [
      " 80%|███████▉  | 4621/5788 [26:36<07:28,  2.60it/s]"
     ]
    },
    {
     "name": "stdout",
     "output_type": "stream",
     "text": [
      "Storebackegatan\n",
      "Storedalsgatan\n",
      "Storgatan\n"
     ]
    },
    {
     "name": "stderr",
     "output_type": "stream",
     "text": [
      " 80%|███████▉  | 4624/5788 [26:37<07:12,  2.69it/s]"
     ]
    },
    {
     "name": "stdout",
     "output_type": "stream",
     "text": [
      "Storhöjdsgatan\n",
      "Storhöjdstrappan\n",
      "Storkgatan\n"
     ]
    },
    {
     "name": "stderr",
     "output_type": "stream",
     "text": [
      " 80%|████████  | 4631/5788 [26:38<03:30,  5.49it/s]"
     ]
    },
    {
     "name": "stdout",
     "output_type": "stream",
     "text": [
      "Stormhattsvägen\n",
      "Stormvädersgatan\n",
      "Storstensvägen\n",
      "Stortoppsgatan\n",
      "Storängsgatan\n"
     ]
    },
    {
     "name": "stderr",
     "output_type": "stream",
     "text": [
      " 80%|████████  | 4636/5788 [26:38<02:31,  7.59it/s]"
     ]
    },
    {
     "name": "stdout",
     "output_type": "stream",
     "text": [
      "Storås Industrigata\n",
      "Storås Ridhusväg\n",
      "Storåsgatan\n",
      "Storåsstigen\n",
      "Strandplatsgatan\n"
     ]
    },
    {
     "name": "stderr",
     "output_type": "stream",
     "text": [
      " 80%|████████  | 4644/5788 [26:38<01:16, 14.93it/s]"
     ]
    },
    {
     "name": "stdout",
     "output_type": "stream",
     "text": [
      "Strandridaregatan\n",
      "Strandskategatan\n",
      "Strandskärsvägen\n",
      "Strandvägen\n",
      "Strandängen\n",
      "Strandängsledet\n",
      "Stratosfärgatan\n",
      "Strängnäsgatan\n"
     ]
    },
    {
     "name": "stderr",
     "output_type": "stream",
     "text": [
      " 80%|████████  | 4649/5788 [26:38<00:58, 19.56it/s]"
     ]
    },
    {
     "name": "stdout",
     "output_type": "stream",
     "text": [
      "Ströget\n",
      "Strömliden\n",
      "Strömmensbergs Trappor\n",
      "Strömmensbergsstigen\n",
      "Ströms Vinkelväg\n",
      "Ströms väg\n",
      "Strömsgatan\n",
      "Strömstadgatan\n"
     ]
    },
    {
     "name": "stderr",
     "output_type": "stream",
     "text": [
      " 80%|████████  | 4656/5788 [26:39<00:57, 19.85it/s]"
     ]
    },
    {
     "name": "stdout",
     "output_type": "stream",
     "text": [
      "Strömstarevägen\n",
      "Strömsundsvägen\n",
      "Stuartsgatan\n",
      "Stubbeledsgatan\n",
      "Studiegången\n"
     ]
    },
    {
     "name": "stderr",
     "output_type": "stream",
     "text": [
      " 81%|████████  | 4661/5788 [26:39<01:30, 12.43it/s]"
     ]
    },
    {
     "name": "stdout",
     "output_type": "stream",
     "text": [
      "Stuguåsen\n",
      "Stuguåsvägen\n",
      "Stukelyckan\n",
      "Stureplatsen\n",
      "Stuvaregatan\n",
      "Stuxbergsgatan\n"
     ]
    },
    {
     "name": "stderr",
     "output_type": "stream",
     "text": [
      " 81%|████████  | 4668/5788 [26:40<01:02, 18.05it/s]"
     ]
    },
    {
     "name": "stdout",
     "output_type": "stream",
     "text": [
      "Styckegodsgatan\n",
      "Styckjunkaregatan\n",
      "Styrbordsgatan\n",
      "Styrfarten\n",
      "Styrgången\n",
      "Styrljusvägen\n"
     ]
    },
    {
     "name": "stderr",
     "output_type": "stream",
     "text": [
      " 81%|████████  | 4671/5788 [26:40<01:02, 17.79it/s]"
     ]
    },
    {
     "name": "stdout",
     "output_type": "stream",
     "text": [
      "Styrmansgatan\n",
      "Styrsögatan\n",
      "Stäckens väg\n",
      "Stängselgatan\n",
      "Stävgatan\n",
      "Stålhandskegatan\n"
     ]
    },
    {
     "name": "stderr",
     "output_type": "stream",
     "text": [
      " 81%|████████  | 4676/5788 [26:41<02:52,  6.44it/s]"
     ]
    },
    {
     "name": "stdout",
     "output_type": "stream",
     "text": [
      "Stålverksgatan\n",
      "Stångebergsvägen\n",
      "Stångjärnsgatan\n"
     ]
    },
    {
     "name": "stderr",
     "output_type": "stream",
     "text": [
      " 81%|████████  | 4679/5788 [26:42<02:33,  7.23it/s]"
     ]
    },
    {
     "name": "stdout",
     "output_type": "stream",
     "text": [
      "Ståthållaregatan\n"
     ]
    },
    {
     "name": "stderr",
     "output_type": "stream",
     "text": [
      " 81%|████████  | 4686/5788 [26:42<01:47, 10.23it/s]"
     ]
    },
    {
     "name": "stdout",
     "output_type": "stream",
     "text": [
      "Stötekärrsvägen\n",
      "Stötgatan\n",
      "Sulitelmagatan\n",
      "Sundshagsgatan\n",
      "Sune Berntsons väg\n",
      "Sunnanvindsgatan\n",
      "Sunnerviksgatan\n",
      "Surbrunnsgatan\n",
      "Svalebogatan\n"
     ]
    },
    {
     "name": "stderr",
     "output_type": "stream",
     "text": [
      " 81%|████████  | 4689/5788 [26:42<01:51,  9.83it/s]"
     ]
    },
    {
     "name": "stdout",
     "output_type": "stream",
     "text": [
      "Svaleboplatsen\n",
      "Svaleboskogen\n"
     ]
    },
    {
     "name": "stderr",
     "output_type": "stream",
     "text": [
      " 81%|████████  | 4693/5788 [26:43<02:22,  7.69it/s]"
     ]
    },
    {
     "name": "stdout",
     "output_type": "stream",
     "text": [
      "Svalegatan\n",
      "Svalörtsgatan\n",
      "Svampvägen\n"
     ]
    },
    {
     "name": "stderr",
     "output_type": "stream",
     "text": [
      " 81%|████████  | 4696/5788 [26:43<01:50,  9.91it/s]"
     ]
    },
    {
     "name": "stdout",
     "output_type": "stream",
     "text": [
      "Svanebäcksgatan\n",
      "Svanehöjdsgatan\n",
      "Svangatan\n",
      "Svankälleliden\n",
      "Svankällevägen\n"
     ]
    },
    {
     "name": "stderr",
     "output_type": "stream",
     "text": [
      " 81%|████████  | 4699/5788 [26:43<01:29, 12.12it/s]"
     ]
    },
    {
     "name": "stdout",
     "output_type": "stream",
     "text": [
      "Svarte Filips gata\n",
      "Svartedalsgatan\n"
     ]
    },
    {
     "name": "stderr",
     "output_type": "stream",
     "text": [
      " 81%|████████▏ | 4703/5788 [26:46<04:22,  4.13it/s]"
     ]
    },
    {
     "name": "stdout",
     "output_type": "stream",
     "text": [
      "Svartlavsvägen\n",
      "Svartskärsvägen\n",
      "Svarttjärnsvägen\n",
      "Svartåvägen\n",
      "Svarvstensvägen\n"
     ]
    },
    {
     "name": "stderr",
     "output_type": "stream",
     "text": [
      " 81%|████████▏ | 4708/5788 [26:46<02:43,  6.60it/s]"
     ]
    },
    {
     "name": "stdout",
     "output_type": "stream",
     "text": [
      "Sveagatan\n",
      "Sven Brolids väg\n",
      "Sven Hultins Plats\n",
      "Sven Hultins gata\n"
     ]
    },
    {
     "name": "stderr",
     "output_type": "stream",
     "text": [
      " 81%|████████▏ | 4710/5788 [26:47<03:36,  4.97it/s]"
     ]
    },
    {
     "name": "stdout",
     "output_type": "stream",
     "text": [
      "Sven Källfelts gata\n"
     ]
    },
    {
     "name": "stderr",
     "output_type": "stream",
     "text": [
      " 81%|████████▏ | 4712/5788 [26:47<03:13,  5.55it/s]"
     ]
    },
    {
     "name": "stdout",
     "output_type": "stream",
     "text": [
      "Sven Rydells Plats\n",
      "Sven Rydells gata\n",
      "Sven Strömbergs väg\n",
      "Sven Wingquists gata\n"
     ]
    },
    {
     "name": "stderr",
     "output_type": "stream",
     "text": [
      " 81%|████████▏ | 4716/5788 [26:47<02:48,  6.37it/s]"
     ]
    },
    {
     "name": "stdout",
     "output_type": "stream",
     "text": [
      "Sven-Agne Larssons väg\n",
      "Svensby Mellangård\n",
      "Svensby Norgård\n",
      "Svensby Sörgård\n",
      "Svensbyvägen\n"
     ]
    },
    {
     "name": "stderr",
     "output_type": "stream",
     "text": [
      " 82%|████████▏ | 4724/5788 [26:48<01:15, 14.15it/s]"
     ]
    },
    {
     "name": "stdout",
     "output_type": "stream",
     "text": [
      "Svensksundsgatan\n",
      "Svenslyckegatan\n",
      "Sventorpsliden\n",
      "Svetsaregatan\n",
      "Svindalsvägen\n"
     ]
    },
    {
     "name": "stderr",
     "output_type": "stream",
     "text": [
      " 82%|████████▏ | 4727/5788 [26:49<04:08,  4.28it/s]"
     ]
    },
    {
     "name": "stdout",
     "output_type": "stream",
     "text": [
      "Svingeln\n",
      "Svängrumsgatan\n",
      "Svärdfejaregatan\n",
      "Svärdslundsvägen\n",
      "Svärmarevägen\n",
      "Swedenborgsgatan\n"
     ]
    },
    {
     "name": "stderr",
     "output_type": "stream",
     "text": [
      " 82%|████████▏ | 4733/5788 [26:50<02:37,  6.71it/s]"
     ]
    },
    {
     "name": "stdout",
     "output_type": "stream",
     "text": [
      "Sydatlanten\n",
      "Sydlandsgatan\n",
      "Sylvestergatan\n",
      "Synhållsgatan\n"
     ]
    },
    {
     "name": "stderr",
     "output_type": "stream",
     "text": [
      " 82%|████████▏ | 4736/5788 [26:50<01:59,  8.78it/s]"
     ]
    },
    {
     "name": "stdout",
     "output_type": "stream",
     "text": [
      "Synnerödsvägen\n",
      "Synvillans gata\n",
      "Syrengången\n",
      "Syrengården\n"
     ]
    },
    {
     "name": "stderr",
     "output_type": "stream",
     "text": [
      " 82%|████████▏ | 4743/5788 [26:51<01:35, 10.91it/s]"
     ]
    },
    {
     "name": "stdout",
     "output_type": "stream",
     "text": [
      "Syrhålavägen\n",
      "Syringsgatan\n",
      "Syréngatan\n",
      "Sysslomansgatan\n",
      "Syster Ainas gata\n"
     ]
    },
    {
     "name": "stderr",
     "output_type": "stream",
     "text": [
      " 82%|████████▏ | 4749/5788 [26:51<01:07, 15.30it/s]"
     ]
    },
    {
     "name": "stdout",
     "output_type": "stream",
     "text": [
      "Syster Bojans Backe\n",
      "Syster Emmas gata\n",
      "Syster Estrids gata\n",
      "Säckgränd\n",
      "Säckpipegatan\n",
      "Sädesärlevägen\n",
      "Sägengatan\n"
     ]
    },
    {
     "name": "stderr",
     "output_type": "stream",
     "text": [
      " 82%|████████▏ | 4755/5788 [26:53<03:03,  5.63it/s]"
     ]
    },
    {
     "name": "stdout",
     "output_type": "stream",
     "text": [
      "Säldammsbacken\n",
      "Sändaregatan\n",
      "Sänkverksgatan\n",
      "Särlagången\n",
      "Säröbanan\n",
      "Särögatan\n"
     ]
    },
    {
     "name": "stderr",
     "output_type": "stream",
     "text": [
      " 82%|████████▏ | 4757/5788 [26:53<02:37,  6.57it/s]"
     ]
    },
    {
     "name": "stdout",
     "output_type": "stream",
     "text": [
      "Säröleden\n"
     ]
    },
    {
     "name": "stderr",
     "output_type": "stream",
     "text": [
      " 82%|████████▏ | 4758/5788 [27:15<52:52,  3.08s/it]"
     ]
    },
    {
     "name": "stdout",
     "output_type": "stream",
     "text": [
      "Sätebergsvägen\n",
      "Säterigatan\n"
     ]
    },
    {
     "name": "stderr",
     "output_type": "stream",
     "text": [
      " 82%|████████▏ | 4760/5788 [27:17<42:56,  2.51s/it]"
     ]
    },
    {
     "name": "stdout",
     "output_type": "stream",
     "text": [
      "Sävbladsvägen\n",
      "Säve Djupedalsväg\n",
      "Säve Flygplatsväg\n"
     ]
    },
    {
     "name": "stderr",
     "output_type": "stream",
     "text": [
      " 82%|████████▏ | 4767/5788 [27:19<17:47,  1.05s/it]"
     ]
    },
    {
     "name": "stdout",
     "output_type": "stream",
     "text": [
      "Säve Hasselbacke\n",
      "Säve Kyrkväg\n",
      "Säve kyrkebyväg\n",
      "Säve stationsväg\n",
      "Sävenäsgatan\n",
      "Sävenäsleden\n",
      "Säveåns Brygga\n",
      "Säveåns Strandgata\n",
      "Sävidsbovägen\n"
     ]
    },
    {
     "name": "stderr",
     "output_type": "stream",
     "text": [
      " 82%|████████▏ | 4775/5788 [27:19<07:43,  2.18it/s]"
     ]
    },
    {
     "name": "stdout",
     "output_type": "stream",
     "text": [
      "Sävsparvsgången\n",
      "Sävstigen\n",
      "Sävviksvägen\n",
      "Sågbladsgatan\n",
      "Såggatan\n",
      "Sågmästaregatan\n"
     ]
    },
    {
     "name": "stderr",
     "output_type": "stream",
     "text": [
      " 83%|████████▎ | 4781/5788 [27:19<04:22,  3.83it/s]"
     ]
    },
    {
     "name": "stdout",
     "output_type": "stream",
     "text": [
      "Sågspånsgatan\n",
      "Sågställaregatan\n",
      "Sågverksgatan\n",
      "Sånggången\n"
     ]
    },
    {
     "name": "stderr",
     "output_type": "stream",
     "text": [
      " 83%|████████▎ | 4784/5788 [27:19<03:29,  4.79it/s]"
     ]
    },
    {
     "name": "stdout",
     "output_type": "stream",
     "text": [
      "Sånglärkevägen\n",
      "Sångspelsgatan\n",
      "Såpbrukets Gångväg\n",
      "Söderhagsgatan\n",
      "Söderlingsgatan\n",
      "Södermalmsgatan\n",
      "Södermansgatan\n"
     ]
    },
    {
     "name": "stderr",
     "output_type": "stream",
     "text": [
      " 83%|████████▎ | 4791/5788 [27:20<01:55,  8.62it/s]"
     ]
    },
    {
     "name": "stdout",
     "output_type": "stream",
     "text": [
      "Södra Allégatan\n",
      "Södra Bergsgårdsgärdet\n",
      "Södra Breviksvägen\n"
     ]
    },
    {
     "name": "stderr",
     "output_type": "stream",
     "text": [
      " 83%|████████▎ | 4794/5788 [27:20<01:42,  9.69it/s]"
     ]
    },
    {
     "name": "stdout",
     "output_type": "stream",
     "text": [
      "Södra Brygghusvägen\n",
      "Södra Bärbyvägen\n",
      "Södra Deltavägen\n",
      "Södra Dragspelsgatan\n"
     ]
    },
    {
     "name": "stderr",
     "output_type": "stream",
     "text": [
      " 83%|████████▎ | 4797/5788 [27:20<01:30, 10.90it/s]"
     ]
    },
    {
     "name": "stdout",
     "output_type": "stream",
     "text": [
      "Södra Fiskebäcksvägen\n",
      "Södra Fjädermolnsgatan\n"
     ]
    },
    {
     "name": "stderr",
     "output_type": "stream",
     "text": [
      " 83%|████████▎ | 4802/5788 [27:21<01:55,  8.50it/s]"
     ]
    },
    {
     "name": "stdout",
     "output_type": "stream",
     "text": [
      "Södra Flundregatan\n",
      "Södra Fyrljusvägen\n",
      "Södra Gubberogatan\n",
      "Södra Hamnefjällsvägen\n",
      "Södra Hamngatan\n"
     ]
    },
    {
     "name": "stderr",
     "output_type": "stream",
     "text": [
      " 83%|████████▎ | 4804/5788 [27:22<03:01,  5.44it/s]"
     ]
    },
    {
     "name": "stdout",
     "output_type": "stream",
     "text": [
      "Södra Hildedalsgatan\n",
      "Södra Hultet\n",
      "Södra Inägogatan\n",
      "Södra Larmgatan\n"
     ]
    },
    {
     "name": "stderr",
     "output_type": "stream",
     "text": [
      " 83%|████████▎ | 4807/5788 [27:22<02:41,  6.06it/s]"
     ]
    },
    {
     "name": "stdout",
     "output_type": "stream",
     "text": [
      "Södra Ligården\n"
     ]
    },
    {
     "name": "stderr",
     "output_type": "stream",
     "text": [
      " 83%|████████▎ | 4811/5788 [27:23<03:46,  4.30it/s]"
     ]
    },
    {
     "name": "stdout",
     "output_type": "stream",
     "text": [
      "Södra Lunnegårdsvägen\n",
      "Södra Långebergsgatan\n",
      "Södra Låssbyvägen\n",
      "Södra Nordslättsvägen\n",
      "Södra Pingstliljegatan\n"
     ]
    },
    {
     "name": "stderr",
     "output_type": "stream",
     "text": [
      " 83%|████████▎ | 4816/5788 [27:24<02:17,  7.09it/s]"
     ]
    },
    {
     "name": "stdout",
     "output_type": "stream",
     "text": [
      "Södra Rosenbergsgatan\n",
      "Södra Rävlyevägen\n",
      "Södra Saltsjönäsvägen\n",
      "Södra Sjöfarten\n"
     ]
    },
    {
     "name": "stderr",
     "output_type": "stream",
     "text": [
      " 83%|████████▎ | 4818/5788 [27:24<02:04,  7.80it/s]"
     ]
    },
    {
     "name": "stdout",
     "output_type": "stream",
     "text": [
      "Södra Sjöslingan\n",
      "Södra Snäckskalsvägen\n",
      "Södra Stallbacken\n",
      "Södra Sälöfjordsgatan\n"
     ]
    },
    {
     "name": "stderr",
     "output_type": "stream",
     "text": [
      " 83%|████████▎ | 4821/5788 [27:24<01:38,  9.82it/s]"
     ]
    },
    {
     "name": "stdout",
     "output_type": "stream",
     "text": [
      "Södra Särövägen\n"
     ]
    },
    {
     "name": "stderr",
     "output_type": "stream",
     "text": [
      " 83%|████████▎ | 4827/5788 [27:28<05:27,  2.93it/s]"
     ]
    },
    {
     "name": "stdout",
     "output_type": "stream",
     "text": [
      "Södra Tagenevägen\n",
      "Södra Tandåsgatan\n",
      "Södra Tandåstrappan\n",
      "Södra Uppegården\n",
      "Södra Viktoriagatan\n",
      "Södra Vägen\n"
     ]
    },
    {
     "name": "stderr",
     "output_type": "stream",
     "text": [
      " 83%|████████▎ | 4832/5788 [27:30<04:53,  3.26it/s]"
     ]
    },
    {
     "name": "stdout",
     "output_type": "stream",
     "text": [
      "Södra Vårvindsgatan\n",
      "Södra frihamnspiren\n",
      "Söndagsgatan\n",
      "Söndrevägen\n",
      "Sörensens gata\n",
      "Sörgårdsvägen\n"
     ]
    },
    {
     "name": "stderr",
     "output_type": "stream",
     "text": [
      " 84%|████████▎ | 4834/5788 [27:30<03:54,  4.07it/s]"
     ]
    },
    {
     "name": "stdout",
     "output_type": "stream",
     "text": [
      "Sörhallsgatan\n"
     ]
    },
    {
     "name": "stderr",
     "output_type": "stream",
     "text": [
      " 84%|████████▎ | 4838/5788 [27:31<03:18,  4.79it/s]"
     ]
    },
    {
     "name": "stdout",
     "output_type": "stream",
     "text": [
      "Sörhallskajen\n",
      "Sörhallspromenaden\n",
      "Sörhallstorget\n",
      "Sörredsbacken\n",
      "Sörredsvägen\n"
     ]
    },
    {
     "name": "stderr",
     "output_type": "stream",
     "text": [
      " 84%|████████▎ | 4844/5788 [27:47<21:14,  1.35s/it]"
     ]
    },
    {
     "name": "stdout",
     "output_type": "stream",
     "text": [
      "Sörslättsvägen\n",
      "Sörtorpsvägen\n",
      "Sösbacken\n",
      "T-backen\n",
      "T-vägen\n",
      "TA2S 5\n",
      "TA2S 6\n",
      "TA2S 7\n",
      "TA2S 8\n",
      "TA2Ö 2\n",
      "TA2Ö1\n",
      "TA3S\n"
     ]
    },
    {
     "name": "stderr",
     "output_type": "stream",
     "text": [
      " 84%|████████▍ | 4876/5788 [27:47<02:50,  5.35it/s]"
     ]
    },
    {
     "name": "stdout",
     "output_type": "stream",
     "text": [
      "TA3SV\n",
      "TB1V 1\n",
      "TB1V 2\n",
      "TBV\n",
      "TCS 1\n",
      "TCS 2\n",
      "TCS 3\n",
      "TCS 4\n",
      "TCS 5\n",
      "TCS 6\n",
      "TCS 7\n",
      "TCS 8\n",
      "TCSV 1\n",
      "TCSV 2\n",
      "TCSV 3\n",
      "TCV 1\n",
      "TCV 2\n",
      "TCV 3\n",
      "TCV 4\n",
      "TCV 5\n",
      "TCV 6\n",
      "TCV 7\n",
      "TCV 8\n",
      "TM\n",
      "TPN\n",
      "TUN 1\n",
      "TUN 10\n",
      "TUN 2\n",
      "TUN 3\n",
      "TUN 4\n",
      "TUN 5\n",
      "TUN 6\n",
      "TUN 7\n",
      "TUN 8\n",
      "TUN 9\n",
      "TVN 2\n",
      "TVN 3\n",
      "TVN 4\n",
      "TVN 5\n",
      "TVN 6\n",
      "TVN 7\n",
      "TVS 11\n",
      "TVS 12\n",
      "TVS 13\n",
      "TVS 14\n",
      "TVS 15\n",
      "TVS 16\n",
      "TVS 17\n",
      "TVV 1\n",
      "TVV 2\n",
      "TVV 3\n",
      "TVV 4\n",
      "TVV 5\n",
      "TVV 6\n",
      "TVV 7\n",
      "TVV 8\n",
      "TVV 9\n",
      "TVV Gate\n",
      "TVÖ 1\n",
      "TVÖ 10\n",
      "TVÖ 11\n",
      "TVÖ 12\n",
      "TVÖ 2\n",
      "TVÖ 3\n",
      "TVÖ 4\n",
      "TVÖ 5\n",
      "TVÖ 6\n",
      "TVÖ 7\n",
      "TVÖ 8\n",
      "TVÖ 9\n",
      "Tabergsstigen\n",
      "Tackjärnsgatan\n",
      "Tagenevägen\n"
     ]
    },
    {
     "name": "stderr",
     "output_type": "stream",
     "text": [
      " 85%|████████▌ | 4925/5788 [27:55<02:21,  6.09it/s]"
     ]
    },
    {
     "name": "stdout",
     "output_type": "stream",
     "text": [
      "Taggsvansbacken\n",
      "Taklöksvägen\n",
      "Talattagatan\n",
      "Talgoxegatan\n",
      "Tallbacksvägen\n"
     ]
    },
    {
     "name": "stderr",
     "output_type": "stream",
     "text": [
      " 85%|████████▌ | 4930/5788 [27:55<02:14,  6.37it/s]"
     ]
    },
    {
     "name": "stdout",
     "output_type": "stream",
     "text": [
      "Tallbarrsvägen\n",
      "Tallboängen\n"
     ]
    },
    {
     "name": "stderr",
     "output_type": "stream",
     "text": [
      " 85%|████████▌ | 4934/5788 [27:56<02:23,  5.96it/s]"
     ]
    },
    {
     "name": "stdout",
     "output_type": "stream",
     "text": [
      "Talldungen\n",
      "Tallhöjdsgatan\n",
      "Tallmostigen\n",
      "Tallstigen\n"
     ]
    },
    {
     "name": "stderr",
     "output_type": "stream",
     "text": [
      " 85%|████████▌ | 4942/5788 [27:57<01:53,  7.44it/s]"
     ]
    },
    {
     "name": "stdout",
     "output_type": "stream",
     "text": [
      "Talltickan\n",
      "Tallvägen\n",
      "Tallåsvägen\n",
      "Tamburingatan\n",
      "Tandkullegatan\n",
      "Tandåsgatan\n",
      "Tandåsplatsen\n"
     ]
    },
    {
     "name": "stderr",
     "output_type": "stream",
     "text": [
      " 85%|████████▌ | 4946/5788 [27:57<01:38,  8.51it/s]"
     ]
    },
    {
     "name": "stdout",
     "output_type": "stream",
     "text": [
      "Tangovägen\n",
      "Tankegången\n",
      "Tankgatan\n",
      "Tanneskärsgatan\n",
      "Tapetseraregatan\n"
     ]
    },
    {
     "name": "stderr",
     "output_type": "stream",
     "text": [
      " 86%|████████▌ | 4949/5788 [27:57<01:28,  9.53it/s]"
     ]
    },
    {
     "name": "stdout",
     "output_type": "stream",
     "text": [
      "Tapphusvägen\n",
      "Taptogatan\n",
      "Taubegatan\n"
     ]
    },
    {
     "name": "stderr",
     "output_type": "stream",
     "text": [
      " 86%|████████▌ | 4955/5788 [27:58<01:27,  9.55it/s]"
     ]
    },
    {
     "name": "stdout",
     "output_type": "stream",
     "text": [
      "Teatergatan\n",
      "Tegelslagaregatan\n",
      "Tegnérsgatan\n",
      "Tegskiftesgatan\n",
      "Teknikgatan\n"
     ]
    },
    {
     "name": "stderr",
     "output_type": "stream",
     "text": [
      " 86%|████████▌ | 4958/5788 [27:58<01:13, 11.28it/s]"
     ]
    },
    {
     "name": "stdout",
     "output_type": "stream",
     "text": [
      "Teknologgatan\n",
      "Teknologplatsen\n",
      "Teleskopgatan\n"
     ]
    },
    {
     "name": "stderr",
     "output_type": "stream",
     "text": [
      " 86%|████████▌ | 4961/5788 [27:59<02:13,  6.18it/s]"
     ]
    },
    {
     "name": "stdout",
     "output_type": "stream",
     "text": [
      "Televisionsgatan\n",
      "Tellgrensgatan\n",
      "Tellusbacken\n",
      "Tellusgatan\n",
      "Temperaturgatan\n"
     ]
    },
    {
     "name": "stderr",
     "output_type": "stream",
     "text": [
      " 86%|████████▌ | 4968/5788 [28:00<02:01,  6.75it/s]"
     ]
    },
    {
     "name": "stdout",
     "output_type": "stream",
     "text": [
      "Tenngjutaregatan\n",
      "Tennisvägen\n",
      "Tennvägen\n",
      "Tenorgatan\n",
      "Teologgatan\n",
      "Terapislingan\n"
     ]
    },
    {
     "name": "stderr",
     "output_type": "stream",
     "text": [
      " 86%|████████▌ | 4971/5788 [28:00<01:45,  7.77it/s]"
     ]
    },
    {
     "name": "stdout",
     "output_type": "stream",
     "text": [
      "Terminalvägen\n",
      "Termometergatan\n",
      "Terrassgatan\n"
     ]
    },
    {
     "name": "stderr",
     "output_type": "stream",
     "text": [
      " 86%|████████▌ | 4973/5788 [28:00<01:40,  8.15it/s]"
     ]
    },
    {
     "name": "stdout",
     "output_type": "stream",
     "text": [
      "Terränglöparen\n",
      "Textilgatan\n",
      "Textilpassagen\n",
      "Theres Svenssons gata\n"
     ]
    },
    {
     "name": "stderr",
     "output_type": "stream",
     "text": [
      " 86%|████████▌ | 4979/5788 [28:01<01:24,  9.54it/s]"
     ]
    },
    {
     "name": "stdout",
     "output_type": "stream",
     "text": [
      "Thorburnsgatan\n",
      "Thord Lindbloms väg\n",
      "Thorild Wulffsgatan\n"
     ]
    },
    {
     "name": "stderr",
     "output_type": "stream",
     "text": [
      " 86%|████████▌ | 4981/5788 [28:01<01:17, 10.46it/s]"
     ]
    },
    {
     "name": "stdout",
     "output_type": "stream",
     "text": [
      "Thorildsgatan\n",
      "Tideräkningsgatan\n"
     ]
    },
    {
     "name": "stderr",
     "output_type": "stream",
     "text": [
      " 86%|████████▌ | 4989/5788 [28:04<02:39,  5.02it/s]"
     ]
    },
    {
     "name": "stdout",
     "output_type": "stream",
     "text": [
      "Tigerstigen\n",
      "Tilburygatan\n",
      "Tillgängligheten\n",
      "Timgatan\n",
      "Timjansgatan\n",
      "Timmermansgatan\n",
      "Timotejgången\n",
      "Tingstadsvägen\n"
     ]
    },
    {
     "name": "stderr",
     "output_type": "stream",
     "text": [
      " 86%|████████▌ | 4992/5788 [28:05<03:23,  3.91it/s]"
     ]
    },
    {
     "name": "stdout",
     "output_type": "stream",
     "text": [
      "Tingvallsvägen\n",
      "Tiokampsgången\n",
      "Tisdagsgatan\n",
      "Titteridammshöjden\n"
     ]
    },
    {
     "name": "stderr",
     "output_type": "stream",
     "text": [
      " 86%|████████▋ | 4994/5788 [28:06<03:23,  3.90it/s]"
     ]
    },
    {
     "name": "stdout",
     "output_type": "stream",
     "text": [
      "Titteridammstigen\n",
      "Titteridammsvägen\n"
     ]
    },
    {
     "name": "stderr",
     "output_type": "stream",
     "text": [
      " 86%|████████▋ | 5000/5788 [28:09<04:30,  2.91it/s]"
     ]
    },
    {
     "name": "stdout",
     "output_type": "stream",
     "text": [
      "Tjuvdalsbacken\n",
      "Tjuvdalsliden\n",
      "Tjuvdalsvägen\n",
      "Tjädergatan\n",
      "Tjärblomsgatan\n",
      "Tjärnhöjdsvägen\n",
      "Tofsmesgången\n",
      "Tofsvipegatan\n"
     ]
    },
    {
     "name": "stderr",
     "output_type": "stream",
     "text": [
      " 86%|████████▋ | 5004/5788 [28:10<04:15,  3.07it/s]"
     ]
    },
    {
     "name": "stdout",
     "output_type": "stream",
     "text": [
      "Toftaåsgatan\n",
      "Tofters väg\n",
      "Toleredsgatan\n"
     ]
    },
    {
     "name": "stderr",
     "output_type": "stream",
     "text": [
      " 87%|████████▋ | 5009/5788 [28:10<02:41,  4.82it/s]"
     ]
    },
    {
     "name": "stdout",
     "output_type": "stream",
     "text": [
      "Tolsegårdsvägen\n",
      "Tolseredsravinen\n",
      "Tolvskillingsgatan\n"
     ]
    },
    {
     "name": "stderr",
     "output_type": "stream",
     "text": [
      " 87%|████████▋ | 5011/5788 [28:10<02:29,  5.19it/s]"
     ]
    },
    {
     "name": "stdout",
     "output_type": "stream",
     "text": [
      "Tomatvägen\n",
      "Tomtebacken\n",
      "Tomtebacksgatan\n"
     ]
    },
    {
     "name": "stderr",
     "output_type": "stream",
     "text": [
      " 87%|████████▋ | 5013/5788 [28:11<02:12,  5.86it/s]"
     ]
    },
    {
     "name": "stdout",
     "output_type": "stream",
     "text": [
      "Tomtegatan\n",
      "Tomtegången\n",
      "Tomtenissegången\n",
      "Tonfiskgatan\n",
      "Tonhöjdsgatan\n"
     ]
    },
    {
     "name": "stderr",
     "output_type": "stream",
     "text": [
      " 87%|████████▋ | 5018/5788 [28:11<01:31,  8.37it/s]"
     ]
    },
    {
     "name": "stdout",
     "output_type": "stream",
     "text": [
      "Topasgatan\n"
     ]
    },
    {
     "name": "stderr",
     "output_type": "stream",
     "text": [
      " 87%|████████▋ | 5022/5788 [28:11<01:28,  8.64it/s]"
     ]
    },
    {
     "name": "stdout",
     "output_type": "stream",
     "text": [
      "Topeliusgatan\n",
      "Toppformsvägen\n",
      "Toppljusvägen\n",
      "Toppsegelsgatan\n"
     ]
    },
    {
     "name": "stderr",
     "output_type": "stream",
     "text": [
      " 87%|████████▋ | 5024/5788 [28:12<01:19,  9.66it/s]"
     ]
    },
    {
     "name": "stdout",
     "output_type": "stream",
     "text": [
      "Toppvägen\n",
      "Tor Bjurströms Gångväg\n",
      "Torbjörnsliden\n",
      "Tordyvelsvägen\n",
      "Toredalsgatan\n"
     ]
    },
    {
     "name": "stderr",
     "output_type": "stream",
     "text": [
      " 87%|████████▋ | 5031/5788 [28:18<06:31,  1.94it/s]"
     ]
    },
    {
     "name": "stdout",
     "output_type": "stream",
     "text": [
      "Toredammen\n",
      "Toregrindsstigen\n",
      "Torehatts backe\n",
      "Toremossegatan\n",
      "Torggatan\n"
     ]
    },
    {
     "name": "stderr",
     "output_type": "stream",
     "text": [
      " 87%|████████▋ | 5034/5788 [28:18<04:41,  2.67it/s]"
     ]
    },
    {
     "name": "stdout",
     "output_type": "stream",
     "text": [
      "Torgny Segerstedtsgatan\n",
      "Torgpassagen\n",
      "Toriniusgatan\n",
      "Torkelsgatan\n",
      "Torkvädersgatan\n",
      "Tornekullsvägen\n",
      "Tornestigen\n",
      "Tornväktaregatan\n"
     ]
    },
    {
     "name": "stderr",
     "output_type": "stream",
     "text": [
      " 87%|████████▋ | 5044/5788 [28:19<01:57,  6.35it/s]"
     ]
    },
    {
     "name": "stdout",
     "output_type": "stream",
     "text": [
      "Torpa Azaleagång\n",
      "Torpa Boulevard\n",
      "Torpa Hallongång\n",
      "Torpa Jordgubbsgång\n",
      "Torpa Krusbärsgång\n",
      "Torpa Linnèagång\n",
      "Torpa Rosengång\n",
      "Torpa Smultrongång\n"
     ]
    },
    {
     "name": "stderr",
     "output_type": "stream",
     "text": [
      " 87%|████████▋ | 5048/5788 [28:19<01:27,  8.46it/s]"
     ]
    },
    {
     "name": "stdout",
     "output_type": "stream",
     "text": [
      "Torpa Syrèngång\n",
      "Torpa Vallmogång\n",
      "Torpagatan\n"
     ]
    },
    {
     "name": "stderr",
     "output_type": "stream",
     "text": [
      " 87%|████████▋ | 5052/5788 [28:24<05:54,  2.08it/s]"
     ]
    },
    {
     "name": "stdout",
     "output_type": "stream",
     "text": [
      "Torpamotet\n",
      "Torparns gata\n",
      "Torpavallsgatan\n"
     ]
    },
    {
     "name": "stderr",
     "output_type": "stream",
     "text": [
      " 87%|████████▋ | 5058/5788 [28:24<03:36,  3.37it/s]"
     ]
    },
    {
     "name": "stdout",
     "output_type": "stream",
     "text": [
      "Torpavallsparken\n",
      "Torpedgatan\n",
      "Torsgatan\n",
      "Torshällsvägen\n"
     ]
    },
    {
     "name": "stderr",
     "output_type": "stream",
     "text": [
      " 87%|████████▋ | 5061/5788 [28:25<03:00,  4.02it/s]"
     ]
    },
    {
     "name": "stdout",
     "output_type": "stream",
     "text": [
      "Torskogsbacken\n",
      "Torskogsliden\n",
      "Torskogsvägen\n",
      "Torslanda Hästeviks väg\n"
     ]
    },
    {
     "name": "stderr",
     "output_type": "stream",
     "text": [
      " 87%|████████▋ | 5063/5788 [28:25<02:47,  4.32it/s]"
     ]
    },
    {
     "name": "stdout",
     "output_type": "stream",
     "text": [
      "Torslanda Kyrkväg\n",
      "Torslanda Mellangård\n"
     ]
    },
    {
     "name": "stderr",
     "output_type": "stream",
     "text": [
      " 88%|████████▊ | 5065/5788 [28:25<02:26,  4.93it/s]"
     ]
    },
    {
     "name": "stdout",
     "output_type": "stream",
     "text": [
      "Torslanda Torg\n",
      "Torslandavägen\n"
     ]
    },
    {
     "name": "stderr",
     "output_type": "stream",
     "text": [
      " 88%|████████▊ | 5071/5788 [28:35<09:23,  1.27it/s]"
     ]
    },
    {
     "name": "stdout",
     "output_type": "stream",
     "text": [
      "Torsslottsvägen\n",
      "Torsåsgatan\n",
      "Torvhögs Gärde\n",
      "Torvhögs Nordgårdsväg\n",
      "Torvhögsbrovägen\n",
      "Torvhögsvägen\n"
     ]
    },
    {
     "name": "stderr",
     "output_type": "stream",
     "text": [
      " 88%|████████▊ | 5079/5788 [28:35<03:49,  3.08it/s]"
     ]
    },
    {
     "name": "stdout",
     "output_type": "stream",
     "text": [
      "Torvmossegatan\n",
      "Traktorgatan\n",
      "Trallgången\n",
      "Tranchells Gångbro\n",
      "Tranegatan\n",
      "Traneredsparken\n",
      "Traneredsvägen\n",
      "Trankärrsgatan\n"
     ]
    },
    {
     "name": "stderr",
     "output_type": "stream",
     "text": [
      " 88%|████████▊ | 5082/5788 [28:35<03:07,  3.78it/s]"
     ]
    },
    {
     "name": "stdout",
     "output_type": "stream",
     "text": [
      "Transistorgatan\n",
      "Transportgatan\n"
     ]
    },
    {
     "name": "stderr",
     "output_type": "stream",
     "text": [
      " 88%|████████▊ | 5087/5788 [28:45<10:02,  1.16it/s]"
     ]
    },
    {
     "name": "stdout",
     "output_type": "stream",
     "text": [
      "Trappgången\n",
      "Trappstigen\n",
      "Trastgatan\n",
      "Travarevägen\n",
      "Trebackegatan\n",
      "Tredje Kvillängsvägen\n"
     ]
    },
    {
     "name": "stderr",
     "output_type": "stream",
     "text": [
      " 88%|████████▊ | 5091/5788 [28:45<06:27,  1.80it/s]"
     ]
    },
    {
     "name": "stdout",
     "output_type": "stream",
     "text": [
      "Tredje Långgatan\n",
      "Tredjedalsgatan\n",
      "Trekantsgatan\n",
      "Treriksgatan\n"
     ]
    },
    {
     "name": "stderr",
     "output_type": "stream",
     "text": [
      " 88%|████████▊ | 5093/5788 [28:45<05:12,  2.22it/s]"
     ]
    },
    {
     "name": "stdout",
     "output_type": "stream",
     "text": [
      "Trerörsgatan\n",
      "Tresnipsgatan\n",
      "Trestegsgatan\n",
      "Trettondagsvägen\n",
      "Triangeln\n",
      "Triangelstigen\n",
      "Trimvägen\n"
     ]
    },
    {
     "name": "stderr",
     "output_type": "stream",
     "text": [
      " 88%|████████▊ | 5100/5788 [28:46<02:51,  4.02it/s]"
     ]
    },
    {
     "name": "stdout",
     "output_type": "stream",
     "text": [
      "Trinde Backe\n",
      "Triogången\n",
      "Tritongatan\n"
     ]
    },
    {
     "name": "stderr",
     "output_type": "stream",
     "text": [
      " 88%|████████▊ | 5105/5788 [28:46<02:19,  4.89it/s]"
     ]
    },
    {
     "name": "stdout",
     "output_type": "stream",
     "text": [
      "Triörgatan\n",
      "Trojenborgsplatsen\n",
      "Trollberget\n"
     ]
    },
    {
     "name": "stderr",
     "output_type": "stream",
     "text": [
      " 88%|████████▊ | 5108/5788 [28:47<01:51,  6.08it/s]"
     ]
    },
    {
     "name": "stdout",
     "output_type": "stream",
     "text": [
      "Trollbärsvägen\n",
      "Trolldalsvägen\n",
      "Trolleredsvägen\n",
      "Trollgången\n",
      "Trollhasselgatan\n"
     ]
    },
    {
     "name": "stderr",
     "output_type": "stream",
     "text": [
      " 88%|████████▊ | 5112/5788 [28:47<01:19,  8.53it/s]"
     ]
    },
    {
     "name": "stdout",
     "output_type": "stream",
     "text": [
      "Trollhättegatan\n",
      "Trollmors väg\n",
      "Trollrunan\n"
     ]
    },
    {
     "name": "stderr",
     "output_type": "stream",
     "text": [
      " 88%|████████▊ | 5114/5788 [28:47<01:21,  8.27it/s]"
     ]
    },
    {
     "name": "stdout",
     "output_type": "stream",
     "text": [
      "Trollsjövägen\n"
     ]
    },
    {
     "name": "stderr",
     "output_type": "stream",
     "text": [
      " 88%|████████▊ | 5116/5788 [28:47<01:29,  7.50it/s]"
     ]
    },
    {
     "name": "stdout",
     "output_type": "stream",
     "text": [
      "Trollspisgatan\n",
      "Trollstigen\n",
      "Trolltjärn\n"
     ]
    },
    {
     "name": "stderr",
     "output_type": "stream",
     "text": [
      " 88%|████████▊ | 5121/5788 [28:48<01:18,  8.51it/s]"
     ]
    },
    {
     "name": "stdout",
     "output_type": "stream",
     "text": [
      "Trollvägen\n",
      "Trollängsvägen\n",
      "Trollåsvägen\n",
      "Trombongatan\n"
     ]
    },
    {
     "name": "stderr",
     "output_type": "stream",
     "text": [
      " 89%|████████▊ | 5126/5788 [28:48<00:55, 11.91it/s]"
     ]
    },
    {
     "name": "stdout",
     "output_type": "stream",
     "text": [
      "Trondheimsgatan\n",
      "Trubadurens väg\n",
      "Trulsdal\n",
      "Trulsegårds Gärde\n",
      "Trulsegårdsbacken\n"
     ]
    },
    {
     "name": "stderr",
     "output_type": "stream",
     "text": [
      " 89%|████████▊ | 5128/5788 [28:48<00:50, 13.05it/s]"
     ]
    },
    {
     "name": "stdout",
     "output_type": "stream",
     "text": [
      "Trulsegårdslyckan\n",
      "Trulsegårdsvägen\n"
     ]
    },
    {
     "name": "stderr",
     "output_type": "stream",
     "text": [
      " 89%|████████▊ | 5134/5788 [28:49<00:38, 16.84it/s]"
     ]
    },
    {
     "name": "stdout",
     "output_type": "stream",
     "text": [
      "Trumgatan\n",
      "Trumpetaregränd\n",
      "Trumpetgatan\n",
      "Tryckerigatan\n",
      "Tryffelvägen\n",
      "Tryggvegatan\n",
      "Trädesgatan\n"
     ]
    },
    {
     "name": "stderr",
     "output_type": "stream",
     "text": [
      " 89%|████████▉ | 5137/5788 [28:49<00:36, 18.04it/s]"
     ]
    },
    {
     "name": "stdout",
     "output_type": "stream",
     "text": [
      "Trädetvägen\n",
      "Trädgårdsbacken\n",
      "Trädgårdsberget\n"
     ]
    },
    {
     "name": "stderr",
     "output_type": "stream",
     "text": [
      " 89%|████████▉ | 5139/5788 [28:49<00:57, 11.26it/s]"
     ]
    },
    {
     "name": "stdout",
     "output_type": "stream",
     "text": [
      "Trädgårdsgatan\n",
      "Trädgårdsgärdet\n",
      "Trädgårdsmästarens väg\n"
     ]
    },
    {
     "name": "stderr",
     "output_type": "stream",
     "text": [
      " 89%|████████▉ | 5144/5788 [28:49<00:53, 12.06it/s]"
     ]
    },
    {
     "name": "stdout",
     "output_type": "stream",
     "text": [
      "Trädgårdsstigen\n",
      "Trädgårdsängen\n",
      "Trädkryparegången\n",
      "Träkilsgatan\n"
     ]
    },
    {
     "name": "stderr",
     "output_type": "stream",
     "text": [
      " 89%|████████▉ | 5146/5788 [28:50<00:53, 11.98it/s]"
     ]
    },
    {
     "name": "stdout",
     "output_type": "stream",
     "text": [
      "Trälåsvägen\n",
      "Träringen\n"
     ]
    },
    {
     "name": "stderr",
     "output_type": "stream",
     "text": [
      " 89%|████████▉ | 5151/5788 [28:50<00:56, 11.21it/s]"
     ]
    },
    {
     "name": "stdout",
     "output_type": "stream",
     "text": [
      "Träslövsgatan\n",
      "Trätorget\n",
      "Trättebäcksliden\n",
      "Tråkärrsslättvägen\n"
     ]
    },
    {
     "name": "stderr",
     "output_type": "stream",
     "text": [
      " 89%|████████▉ | 5157/5788 [28:50<00:37, 16.83it/s]"
     ]
    },
    {
     "name": "stdout",
     "output_type": "stream",
     "text": [
      "Trångelyckan\n",
      "Trångets Norra väg\n",
      "Trångets Södra väg\n",
      "Tröskaregatan\n",
      "Tubogatan\n",
      "Tulebergsstigen\n"
     ]
    },
    {
     "name": "stderr",
     "output_type": "stream",
     "text": [
      " 89%|████████▉ | 5160/5788 [28:51<00:38, 16.14it/s]"
     ]
    },
    {
     "name": "stdout",
     "output_type": "stream",
     "text": [
      "Tulebergsvägen\n",
      "Tullare Hög\n",
      "Tullarns väg\n",
      "Tulljaktsvägen\n",
      "Tulpangatan\n",
      "Tumlaregatan\n"
     ]
    },
    {
     "name": "stderr",
     "output_type": "stream",
     "text": [
      " 89%|████████▉ | 5164/5788 [28:51<00:33, 18.91it/s]"
     ]
    },
    {
     "name": "stdout",
     "output_type": "stream",
     "text": [
      "Tumlebacken\n",
      "Tumlehedsvägen\n"
     ]
    },
    {
     "name": "stderr",
     "output_type": "stream",
     "text": [
      " 89%|████████▉ | 5169/5788 [28:54<02:33,  4.03it/s]"
     ]
    },
    {
     "name": "stdout",
     "output_type": "stream",
     "text": [
      "Tumlestigen\n",
      "Tunnbindaregatan\n",
      "Tunnbojsvägen\n",
      "Tunnelvägen\n",
      "Tunnlandsgatan\n"
     ]
    },
    {
     "name": "stderr",
     "output_type": "stream",
     "text": [
      " 89%|████████▉ | 5175/5788 [28:55<02:10,  4.70it/s]"
     ]
    },
    {
     "name": "stdout",
     "output_type": "stream",
     "text": [
      "Tuppfjätsgatan\n",
      "Turbingatan\n",
      "Turkduvevägen\n",
      "Turkosgatan\n",
      "Turmalingatan\n",
      "Tusenskönegången\n"
     ]
    },
    {
     "name": "stderr",
     "output_type": "stream",
     "text": [
      " 89%|████████▉ | 5178/5788 [28:55<01:37,  6.24it/s]"
     ]
    },
    {
     "name": "stdout",
     "output_type": "stream",
     "text": [
      "Tusenårsgatan\n",
      "Tuve Kyrkväg\n",
      "Tuve Torg\n"
     ]
    },
    {
     "name": "stderr",
     "output_type": "stream",
     "text": [
      " 89%|████████▉ | 5180/5788 [28:55<01:31,  6.66it/s]"
     ]
    },
    {
     "name": "stdout",
     "output_type": "stream",
     "text": [
      "Tuve kyrkväg\n"
     ]
    },
    {
     "name": "stderr",
     "output_type": "stream",
     "text": [
      " 90%|████████▉ | 5182/5788 [29:01<07:54,  1.28it/s]"
     ]
    },
    {
     "name": "stdout",
     "output_type": "stream",
     "text": [
      "Tuve sörgård\n",
      "Tuveliden\n",
      "Tuvevallen\n",
      "Tuvevägen\n"
     ]
    },
    {
     "name": "stderr",
     "output_type": "stream",
     "text": [
      " 90%|████████▉ | 5187/5788 [29:20<20:50,  2.08s/it]"
     ]
    },
    {
     "name": "stdout",
     "output_type": "stream",
     "text": [
      "Tuvgatan\n",
      "Tuvlyckevägen\n",
      "Tuvängsvägen\n"
     ]
    },
    {
     "name": "stderr",
     "output_type": "stream",
     "text": [
      " 90%|████████▉ | 5192/5788 [29:21<11:08,  1.12s/it]"
     ]
    },
    {
     "name": "stdout",
     "output_type": "stream",
     "text": [
      "Tvärdraget\n",
      "Tvärflöjtsgatan\n",
      "Tvärgången\n",
      "Tvärhandsgatan\n",
      "Tvärskedet\n",
      "Tvärvägen\n",
      "Tväråsgatan\n",
      "Tvårörsgatan\n",
      "Tycho Brahes gata\n",
      "Tyggårdsgatan\n",
      "Tyghusvägen\n"
     ]
    },
    {
     "name": "stderr",
     "output_type": "stream",
     "text": [
      " 90%|████████▉ | 5202/5788 [29:21<04:31,  2.16it/s]"
     ]
    },
    {
     "name": "stdout",
     "output_type": "stream",
     "text": [
      "Tygvaktaregatan\n",
      "Tylö fyrs väg\n",
      "Tynneredsvägen\n",
      "Typografgatan\n",
      "Tyrsjöliden\n",
      "Tyrsjövägen\n"
     ]
    },
    {
     "name": "stderr",
     "output_type": "stream",
     "text": [
      " 90%|████████▉ | 5205/5788 [29:21<03:33,  2.74it/s]"
     ]
    },
    {
     "name": "stdout",
     "output_type": "stream",
     "text": [
      "Tyska Bron\n",
      "Tyska gatan\n",
      "Tyvetvägen\n"
     ]
    },
    {
     "name": "stderr",
     "output_type": "stream",
     "text": [
      " 90%|█████████ | 5212/5788 [29:24<03:40,  2.61it/s]"
     ]
    },
    {
     "name": "stdout",
     "output_type": "stream",
     "text": [
      "Täljstensgatan\n",
      "Tändsticksgatan\n",
      "Täppan\n",
      "Tärneskärsgatan\n",
      "Tärngatan\n",
      "Tärnö Fyrs väg\n",
      "Tättingegatan\n",
      "Tåfjällsvägen\n"
     ]
    },
    {
     "name": "stderr",
     "output_type": "stream",
     "text": [
      " 90%|█████████ | 5219/5788 [29:25<01:59,  4.77it/s]"
     ]
    },
    {
     "name": "stdout",
     "output_type": "stream",
     "text": [
      "Tågmästaregatan\n",
      "Tåledsvägen\n",
      "Tålyckan\n",
      "Tångedal\n",
      "Tångelund\n"
     ]
    },
    {
     "name": "stderr",
     "output_type": "stream",
     "text": [
      " 90%|█████████ | 5222/5788 [29:25<01:32,  6.11it/s]"
     ]
    },
    {
     "name": "stdout",
     "output_type": "stream",
     "text": [
      "Tångengården\n",
      "Tångenvägen\n",
      "Tånguddsbacken\n"
     ]
    },
    {
     "name": "stderr",
     "output_type": "stream",
     "text": [
      " 90%|█████████ | 5225/5788 [29:25<01:23,  6.74it/s]"
     ]
    },
    {
     "name": "stdout",
     "output_type": "stream",
     "text": [
      "Tånåsvägen\n",
      "Tåtåkersvägen\n",
      "Töltvägen\n"
     ]
    },
    {
     "name": "stderr",
     "output_type": "stream",
     "text": [
      " 90%|█████████ | 5228/5788 [29:25<01:07,  8.27it/s]"
     ]
    },
    {
     "name": "stdout",
     "output_type": "stream",
     "text": [
      "Tönsbergsgatan\n",
      "Töpelsgatan\n",
      "Törnrosgatan\n",
      "Törnsångaregatan\n"
     ]
    },
    {
     "name": "stderr",
     "output_type": "stream",
     "text": [
      " 90%|█████████ | 5231/5788 [29:25<00:57,  9.76it/s]"
     ]
    },
    {
     "name": "stdout",
     "output_type": "stream",
     "text": [
      "Törvedsgatan\n",
      "Tössåsvägen\n",
      "Tövädersgatan\n",
      "Ubåtsgatan\n",
      "Uddeholmsgatan\n"
     ]
    },
    {
     "name": "stderr",
     "output_type": "stream",
     "text": [
      " 90%|█████████ | 5238/5788 [29:26<00:42, 12.87it/s]"
     ]
    },
    {
     "name": "stdout",
     "output_type": "stream",
     "text": [
      "Uddevallagatan\n",
      "Uddevallaplatsen\n",
      "Uggleberget\n"
     ]
    },
    {
     "name": "stderr",
     "output_type": "stream",
     "text": [
      " 91%|█████████ | 5242/5788 [29:26<00:42, 13.00it/s]"
     ]
    },
    {
     "name": "stdout",
     "output_type": "stream",
     "text": [
      "Ugglebergsstigen\n",
      "Uggledals byväg\n",
      "Uggledalsvägen\n",
      "Ugglegården\n"
     ]
    },
    {
     "name": "stderr",
     "output_type": "stream",
     "text": [
      " 91%|█████████ | 5244/5788 [29:27<01:01,  8.88it/s]"
     ]
    },
    {
     "name": "stdout",
     "output_type": "stream",
     "text": [
      "Uggleåsvägen\n",
      "Ulfsparregatan\n",
      "Ullevigatan\n"
     ]
    },
    {
     "name": "stderr",
     "output_type": "stream",
     "text": [
      " 91%|█████████ | 5250/5788 [29:29<01:47,  5.00it/s]"
     ]
    },
    {
     "name": "stdout",
     "output_type": "stream",
     "text": [
      "Ullmansgatan\n",
      "Ulveliden\n",
      "Umbragatan\n",
      "Umbragången\n",
      "Underåsgatan\n"
     ]
    },
    {
     "name": "stderr",
     "output_type": "stream",
     "text": [
      " 91%|█████████ | 5254/5788 [29:29<01:18,  6.80it/s]"
     ]
    },
    {
     "name": "stdout",
     "output_type": "stream",
     "text": [
      "Ungbrodersgatan\n",
      "Ungmästaregatan\n",
      "Universitetsplatsen\n",
      "Universumsbacken\n",
      "Universumsgatan\n",
      "Uppegårdsliden\n",
      "Uppegårdsvägen\n"
     ]
    },
    {
     "name": "stderr",
     "output_type": "stream",
     "text": [
      " 91%|█████████ | 5258/5788 [29:29<01:21,  6.48it/s]"
     ]
    },
    {
     "name": "stdout",
     "output_type": "stream",
     "text": [
      "Uppfinnaregatan\n",
      "Uppstigen\n"
     ]
    },
    {
     "name": "stderr",
     "output_type": "stream",
     "text": [
      " 91%|█████████ | 5263/5788 [29:30<01:03,  8.31it/s]"
     ]
    },
    {
     "name": "stdout",
     "output_type": "stream",
     "text": [
      "Urmakaregatan\n",
      "Utbergsvägen\n",
      "Utby Kyrkoplan\n",
      "Utbynäsgatan\n",
      "Utbynässtigen\n",
      "Utbyvägen\n"
     ]
    },
    {
     "name": "stderr",
     "output_type": "stream",
     "text": [
      " 91%|█████████ | 5268/5788 [29:32<01:52,  4.60it/s]"
     ]
    },
    {
     "name": "stdout",
     "output_type": "stream",
     "text": [
      "Utjordsgatan\n",
      "Utlandagatan\n",
      "Utmarksgatan\n",
      "Utrustningsvägen\n"
     ]
    },
    {
     "name": "stderr",
     "output_type": "stream",
     "text": [
      " 91%|█████████ | 5273/5788 [29:32<01:22,  6.27it/s]"
     ]
    },
    {
     "name": "stdout",
     "output_type": "stream",
     "text": [
      "Utsiktsstigen\n",
      "Uttergatan\n",
      "Utvecklingsgatan\n",
      "Utängarna\n",
      "Utåkersgatan\n"
     ]
    },
    {
     "name": "stderr",
     "output_type": "stream",
     "text": [
      " 91%|█████████ | 5275/5788 [29:33<01:07,  7.55it/s]"
     ]
    },
    {
     "name": "stdout",
     "output_type": "stream",
     "text": [
      "V60 Gent 1\n",
      "V60 Gent 2\n",
      "VOLVO TX Lastbilsparkering\n"
     ]
    },
    {
     "name": "stderr",
     "output_type": "stream",
     "text": [
      " 91%|█████████ | 5280/5788 [29:33<01:14,  6.83it/s]"
     ]
    },
    {
     "name": "stdout",
     "output_type": "stream",
     "text": [
      "Vadlagsgatan\n",
      "Vadstenagatan\n",
      "Vagnhallsplatsen\n",
      "Vagnmakaregatan\n"
     ]
    },
    {
     "name": "stderr",
     "output_type": "stream",
     "text": [
      " 91%|█████████▏| 5282/5788 [29:33<01:02,  8.16it/s]"
     ]
    },
    {
     "name": "stdout",
     "output_type": "stream",
     "text": [
      "Vaktgatan\n",
      "Vakthusbacken\n",
      "Vaktmansgatan\n",
      "Vaktmästaregången\n",
      "Valborgsmässogatan\n",
      "Valdemar Noréns gata\n"
     ]
    },
    {
     "name": "stderr",
     "output_type": "stream",
     "text": [
      " 91%|█████████▏| 5288/5788 [29:34<00:44, 11.18it/s]"
     ]
    },
    {
     "name": "stdout",
     "output_type": "stream",
     "text": [
      "Valebergsvägen\n"
     ]
    },
    {
     "name": "stderr",
     "output_type": "stream",
     "text": [
      " 91%|█████████▏| 5293/5788 [29:34<00:49, 10.01it/s]"
     ]
    },
    {
     "name": "stdout",
     "output_type": "stream",
     "text": [
      "Valhallabron\n",
      "Valhallagatan\n",
      "Vallareleden\n",
      "Vallgatan\n",
      "Vallhamnsgatan\n",
      "Vallinebergsvägen\n",
      "Vallmogatan\n",
      "Vallpojksgatan\n",
      "Valltrappsgatan\n",
      "Valnötsgatan\n",
      "Valthornsgatan\n"
     ]
    },
    {
     "name": "stderr",
     "output_type": "stream",
     "text": [
      " 92%|█████████▏| 5304/5788 [29:35<00:29, 16.67it/s]"
     ]
    },
    {
     "name": "stdout",
     "output_type": "stream",
     "text": [
      "Valvgången\n",
      "Valåsgatan\n",
      "Vanadisgatan\n",
      "Vaniljgatan\n",
      "Vantgatan\n",
      "Vapensmedsgatan\n",
      "Varbergsbron\n"
     ]
    },
    {
     "name": "stderr",
     "output_type": "stream",
     "text": [
      " 92%|█████████▏| 5309/5788 [29:35<00:22, 21.27it/s]"
     ]
    },
    {
     "name": "stdout",
     "output_type": "stream",
     "text": [
      "Varbergsgatan\n",
      "Vargögatan\n",
      "Varholmsgatan\n",
      "Varmfrontsgatan\n",
      "Varnhemsgatan\n",
      "Varpmossevägen\n"
     ]
    },
    {
     "name": "stderr",
     "output_type": "stream",
     "text": [
      " 92%|█████████▏| 5315/5788 [29:35<00:23, 20.14it/s]"
     ]
    },
    {
     "name": "stdout",
     "output_type": "stream",
     "text": [
      "Vasa Kyrkogata\n",
      "Vasa Kyrkoplan\n",
      "Vasabron\n",
      "Vasagatan\n",
      "Vasaplatsen\n"
     ]
    },
    {
     "name": "stderr",
     "output_type": "stream",
     "text": [
      " 92%|█████████▏| 5320/5788 [29:38<01:26,  5.42it/s]"
     ]
    },
    {
     "name": "stdout",
     "output_type": "stream",
     "text": [
      "Vasens Torp\n",
      "Vassgatan\n",
      "Vattenlinjen\n",
      "Vattentornsgatan\n",
      "Vattenverksgatan\n",
      "Vattugatan\n",
      "Veakovägen\n"
     ]
    },
    {
     "name": "stderr",
     "output_type": "stream",
     "text": [
      " 92%|█████████▏| 5325/5788 [29:38<00:55,  8.31it/s]"
     ]
    },
    {
     "name": "stdout",
     "output_type": "stream",
     "text": [
      "Veckogatan\n",
      "Vedbackavägen\n",
      "Vedbacken\n"
     ]
    },
    {
     "name": "stderr",
     "output_type": "stream",
     "text": [
      " 92%|█████████▏| 5328/5788 [29:41<02:36,  2.95it/s]"
     ]
    },
    {
     "name": "stdout",
     "output_type": "stream",
     "text": [
      "Vedhuggaregatan\n",
      "Vedskärsvägen\n"
     ]
    },
    {
     "name": "stderr",
     "output_type": "stream",
     "text": [
      " 92%|█████████▏| 5330/5788 [29:41<02:16,  3.36it/s]"
     ]
    },
    {
     "name": "stdout",
     "output_type": "stream",
     "text": [
      "Vegagatan\n",
      "Vendernas gata\n"
     ]
    },
    {
     "name": "stderr",
     "output_type": "stream",
     "text": [
      " 92%|█████████▏| 5332/5788 [29:41<01:57,  3.89it/s]"
     ]
    },
    {
     "name": "stdout",
     "output_type": "stream",
     "text": [
      "Venusgatan\n",
      "Vera Sandbergs Allé\n"
     ]
    },
    {
     "name": "stderr",
     "output_type": "stream",
     "text": [
      " 92%|█████████▏| 5336/5788 [29:42<01:42,  4.41it/s]"
     ]
    },
    {
     "name": "stdout",
     "output_type": "stream",
     "text": [
      "Verkmästaregatan\n",
      "Verkstadsgatan\n",
      "Verktumsgatan\n",
      "Vestagatan\n"
     ]
    },
    {
     "name": "stderr",
     "output_type": "stream",
     "text": [
      " 92%|█████████▏| 5340/5788 [29:42<01:07,  6.64it/s]"
     ]
    },
    {
     "name": "stdout",
     "output_type": "stream",
     "text": [
      "Vetegången\n",
      "Vibrafongatan\n",
      "Vickes Lycka\n",
      "Victor Bensows Trappor\n",
      "Victor Hasselblads gata\n",
      "Victoriapassagen\n"
     ]
    },
    {
     "name": "stderr",
     "output_type": "stream",
     "text": [
      " 92%|█████████▏| 5346/5788 [29:42<00:43, 10.26it/s]"
     ]
    },
    {
     "name": "stdout",
     "output_type": "stream",
     "text": [
      "Vidblicksgatan\n",
      "Videlundsgatan\n",
      "Vidjestigen\n"
     ]
    },
    {
     "name": "stderr",
     "output_type": "stream",
     "text": [
      " 92%|█████████▏| 5349/5788 [29:43<00:35, 12.48it/s]"
     ]
    },
    {
     "name": "stdout",
     "output_type": "stream",
     "text": [
      "Vidkärrsallén\n",
      "Vidkärrsgatan\n",
      "Vidkärrsstigen\n"
     ]
    },
    {
     "name": "stderr",
     "output_type": "stream",
     "text": [
      " 93%|█████████▎| 5354/5788 [29:43<00:26, 16.35it/s]"
     ]
    },
    {
     "name": "stdout",
     "output_type": "stream",
     "text": [
      "Vidsundsvägen\n",
      "Viggeliden\n",
      "Viggstigen\n",
      "Vigörvägen\n",
      "Vikans Industriväg\n"
     ]
    },
    {
     "name": "stderr",
     "output_type": "stream",
     "text": [
      " 93%|█████████▎| 5357/5788 [29:43<00:42, 10.06it/s]"
     ]
    },
    {
     "name": "stdout",
     "output_type": "stream",
     "text": [
      "Vikbogatan\n",
      "Vikbrovägen\n",
      "Vikens väg\n"
     ]
    },
    {
     "name": "stderr",
     "output_type": "stream",
     "text": [
      " 93%|█████████▎| 5359/5788 [29:44<00:51,  8.36it/s]"
     ]
    },
    {
     "name": "stdout",
     "output_type": "stream",
     "text": [
      "Vikhallsvägen\n",
      "Vikingsgatan\n",
      "Viktor Rydbergsgatan\n"
     ]
    },
    {
     "name": "stderr",
     "output_type": "stream",
     "text": [
      " 93%|█████████▎| 5362/5788 [29:46<02:04,  3.41it/s]"
     ]
    },
    {
     "name": "stdout",
     "output_type": "stream",
     "text": [
      "Viktor Setterbergs väg\n",
      "Viktoriagatan\n"
     ]
    },
    {
     "name": "stderr",
     "output_type": "stream",
     "text": [
      " 93%|█████████▎| 5366/5788 [29:48<02:33,  2.75it/s]"
     ]
    },
    {
     "name": "stdout",
     "output_type": "stream",
     "text": [
      "Viktoriagården\n",
      "Vikvärjegatan\n",
      "Vildapelsgatan\n",
      "Vildkaprifolen\n",
      "Villa Kvarnkullen\n",
      "Villa Parkudden\n",
      "Villagången\n"
     ]
    },
    {
     "name": "stderr",
     "output_type": "stream",
     "text": [
      " 93%|█████████▎| 5372/5788 [29:48<01:15,  5.47it/s]"
     ]
    },
    {
     "name": "stdout",
     "output_type": "stream",
     "text": [
      "Villavallen\n",
      "Villavägen\n",
      "Viloplatsen\n",
      "Vinbärsvägen\n"
     ]
    },
    {
     "name": "stderr",
     "output_type": "stream",
     "text": [
      " 93%|█████████▎| 5377/5788 [29:48<00:48,  8.47it/s]"
     ]
    },
    {
     "name": "stdout",
     "output_type": "stream",
     "text": [
      "Vindilsgatan\n",
      "Vindragaregatan\n",
      "Vinga fyrs väg\n",
      "Vingagatan\n",
      "Vingalandsgatan\n",
      "Vinkelliden\n"
     ]
    },
    {
     "name": "stderr",
     "output_type": "stream",
     "text": [
      " 93%|█████████▎| 5381/5788 [29:49<00:36, 11.05it/s]"
     ]
    },
    {
     "name": "stdout",
     "output_type": "stream",
     "text": [
      "Vinlandsgatan\n",
      "Vintergatan\n"
     ]
    },
    {
     "name": "stderr",
     "output_type": "stream",
     "text": [
      " 93%|█████████▎| 5384/5788 [29:49<00:34, 11.57it/s]"
     ]
    },
    {
     "name": "stdout",
     "output_type": "stream",
     "text": [
      "Vinterkullen\n",
      "Vintervädersgatan\n",
      "Violblommegatan\n",
      "Violettgatan\n",
      "Violettgången\n",
      "Vipeskärsgatan\n"
     ]
    },
    {
     "name": "stderr",
     "output_type": "stream",
     "text": [
      " 93%|█████████▎| 5388/5788 [29:49<00:27, 14.38it/s]"
     ]
    },
    {
     "name": "stdout",
     "output_type": "stream",
     "text": [
      "Vipgatan\n",
      "Vippärtsvägen\n",
      "Virginsgatan\n"
     ]
    },
    {
     "name": "stderr",
     "output_type": "stream",
     "text": [
      " 93%|█████████▎| 5393/5788 [29:49<00:28, 13.78it/s]"
     ]
    },
    {
     "name": "stdout",
     "output_type": "stream",
     "text": [
      "Virvelvindsgatan\n",
      "Viskavägen\n",
      "Visthusgatan\n",
      "Vita Gavelns väg\n",
      "Vita stråket\n"
     ]
    },
    {
     "name": "stderr",
     "output_type": "stream",
     "text": [
      " 93%|█████████▎| 5397/5788 [29:49<00:24, 16.25it/s]"
     ]
    },
    {
     "name": "stdout",
     "output_type": "stream",
     "text": [
      "Vitaminvägen\n",
      "Vitklövern\n",
      "Vitlinggatan\n"
     ]
    },
    {
     "name": "stderr",
     "output_type": "stream",
     "text": [
      " 93%|█████████▎| 5399/5788 [29:50<00:25, 15.02it/s]"
     ]
    },
    {
     "name": "stdout",
     "output_type": "stream",
     "text": [
      "Vitormsgången\n",
      "Vitsippsgatan\n",
      "Vittens gata\n",
      "Vittragången\n",
      "Vitögatan\n",
      "Viveka Seldahls gata\n",
      "Volrat Thamsgatan\n"
     ]
    },
    {
     "name": "stderr",
     "output_type": "stream",
     "text": [
      " 93%|█████████▎| 5406/5788 [29:50<00:24, 15.65it/s]"
     ]
    },
    {
     "name": "stdout",
     "output_type": "stream",
     "text": [
      "Volvo Bil Sörredsmotet\n",
      "Volvo Bil Sörredsmotet Tvätt\n",
      "Volvo Cars Torslanda Test Track\n"
     ]
    },
    {
     "name": "stderr",
     "output_type": "stream",
     "text": [
      " 93%|█████████▎| 5410/5788 [29:51<00:41,  9.18it/s]"
     ]
    },
    {
     "name": "stdout",
     "output_type": "stream",
     "text": [
      "Volvo Cars Torslanda Truckservice\n",
      "Volvo Cars Visitor Centre\n"
     ]
    },
    {
     "name": "stderr",
     "output_type": "stream",
     "text": [
      " 94%|█████████▎| 5412/5788 [29:51<00:52,  7.10it/s]"
     ]
    },
    {
     "name": "stdout",
     "output_type": "stream",
     "text": [
      "Volvo Cars Visitor Centre Test Track\n",
      "Volvo Demo Center Test Track\n"
     ]
    },
    {
     "name": "stderr",
     "output_type": "stream",
     "text": [
      " 94%|█████████▎| 5414/5788 [29:56<04:17,  1.45it/s]"
     ]
    },
    {
     "name": "stdout",
     "output_type": "stream",
     "text": [
      "Volvo Jakobs väg\n",
      "Volvogatan\n"
     ]
    },
    {
     "name": "stderr",
     "output_type": "stream",
     "text": [
      " 94%|█████████▎| 5416/5788 [29:57<03:05,  2.01it/s]"
     ]
    },
    {
     "name": "stdout",
     "output_type": "stream",
     "text": [
      "Von Seths gata\n",
      "Vretstigen\n",
      "Vrångögatan\n",
      "Vråssereds Övregårdsväg\n",
      "Vråsseredsvägen\n"
     ]
    },
    {
     "name": "stderr",
     "output_type": "stream",
     "text": [
      " 94%|█████████▎| 5422/5788 [29:57<01:26,  4.25it/s]"
     ]
    },
    {
     "name": "stdout",
     "output_type": "stream",
     "text": [
      "Väbelgatan\n",
      "Väderbodarna\n",
      "Väderilsgatan\n",
      "Väderkvarnsgatan\n",
      "Väderlekstorget\n"
     ]
    },
    {
     "name": "stderr",
     "output_type": "stream",
     "text": [
      " 94%|█████████▍| 5430/5788 [29:57<00:38,  9.25it/s]"
     ]
    },
    {
     "name": "stdout",
     "output_type": "stream",
     "text": [
      "Väderskeppsgatan\n",
      "Väderskiftesgatan\n",
      "Väderstrecksgatan\n",
      "Vädertjänstgatan\n",
      "Väderutsikten\n",
      "Vädursgatan\n"
     ]
    },
    {
     "name": "stderr",
     "output_type": "stream",
     "text": [
      " 94%|█████████▍| 5438/5788 [29:58<00:22, 15.61it/s]"
     ]
    },
    {
     "name": "stdout",
     "output_type": "stream",
     "text": [
      "Vägen till Lid\n",
      "Väldigt Gamla Björlandavägen\n",
      "Välkommen\n",
      "Välteliden\n",
      "Vänderotsvägen\n",
      "Vändgatan\n",
      "Vändstigen\n",
      "Vändtegsgatan\n"
     ]
    },
    {
     "name": "stderr",
     "output_type": "stream",
     "text": [
      " 94%|█████████▍| 5441/5788 [29:58<00:20, 17.33it/s]"
     ]
    },
    {
     "name": "stdout",
     "output_type": "stream",
     "text": [
      "Vänersborgsgatan\n",
      "Vänmötet\n",
      "Vännernas Gård\n",
      "Vänskapen\n",
      "Vänskapsvägen\n",
      "Väpplingvägen\n"
     ]
    },
    {
     "name": "stderr",
     "output_type": "stream",
     "text": [
      " 94%|█████████▍| 5448/5788 [29:58<00:15, 21.77it/s]"
     ]
    },
    {
     "name": "stdout",
     "output_type": "stream",
     "text": [
      "Värmebacken\n",
      "Värmegatan\n",
      "Värmlandsgatan\n",
      "Värslevägen\n",
      "Väråsgatan\n"
     ]
    },
    {
     "name": "stderr",
     "output_type": "stream",
     "text": [
      " 94%|█████████▍| 5455/5788 [29:58<00:14, 23.31it/s]"
     ]
    },
    {
     "name": "stdout",
     "output_type": "stream",
     "text": [
      "Västanvindsgatan\n",
      "Västergatan\n",
      "Västergårds Vale\n",
      "Västergårdsvägen\n",
      "Västerhagen\n",
      "Västerhavsvägen\n"
     ]
    },
    {
     "name": "stderr",
     "output_type": "stream",
     "text": [
      " 94%|█████████▍| 5458/5788 [29:58<00:14, 23.03it/s]"
     ]
    },
    {
     "name": "stdout",
     "output_type": "stream",
     "text": [
      "Västerlandsgatan\n",
      "Västerlyckan\n",
      "Västerslänt\n"
     ]
    },
    {
     "name": "stderr",
     "output_type": "stream",
     "text": [
      " 94%|█████████▍| 5465/5788 [30:01<00:54,  5.95it/s]"
     ]
    },
    {
     "name": "stdout",
     "output_type": "stream",
     "text": [
      "Västes gata\n",
      "Västgötagatan\n",
      "Västra Andersgårdsgatan\n",
      "Västra Ardalsvägen\n",
      "Västra Arödsgatan\n",
      "Västra Breviksvägen\n",
      "Västra Bräckevägen\n"
     ]
    },
    {
     "name": "stderr",
     "output_type": "stream",
     "text": [
      " 94%|█████████▍| 5468/5788 [30:01<00:42,  7.55it/s]"
     ]
    },
    {
     "name": "stdout",
     "output_type": "stream",
     "text": [
      "Västra Bärmeråsvägen\n",
      "Västra Dockpiren\n",
      "Västra Dockvallen\n",
      "Västra Eriksbergsgatan\n"
     ]
    },
    {
     "name": "stderr",
     "output_type": "stream",
     "text": [
      " 95%|█████████▍| 5471/5788 [30:02<00:54,  5.80it/s]"
     ]
    },
    {
     "name": "stdout",
     "output_type": "stream",
     "text": [
      "Västra Gullöslätten\n",
      "Västra Gunnesgärde\n",
      "Västra Hamngatan\n"
     ]
    },
    {
     "name": "stderr",
     "output_type": "stream",
     "text": [
      " 95%|█████████▍| 5475/5788 [30:03<01:11,  4.40it/s]"
     ]
    },
    {
     "name": "stdout",
     "output_type": "stream",
     "text": [
      "Västra Hovdalen\n",
      "Västra Keillersgatan\n",
      "Västra Kopparkärrsvägen\n",
      "Västra Kronogårdsvägen\n"
     ]
    },
    {
     "name": "stderr",
     "output_type": "stream",
     "text": [
      " 95%|█████████▍| 5481/5788 [30:04<00:44,  6.91it/s]"
     ]
    },
    {
     "name": "stdout",
     "output_type": "stream",
     "text": [
      "Västra Liden\n",
      "Västra Långevattnet\n",
      "Västra Magårdsvägen\n",
      "Västra Midvintersgatan\n",
      "Västra Nyebrovägen\n",
      "Västra Palettgatan\n",
      "Västra Palmgrensgatan\n"
     ]
    },
    {
     "name": "stderr",
     "output_type": "stream",
     "text": [
      " 95%|█████████▍| 5487/5788 [30:04<00:30,  9.88it/s]"
     ]
    },
    {
     "name": "stdout",
     "output_type": "stream",
     "text": [
      "Västra Rydetvägen\n",
      "Västra Sannegårdskajen\n",
      "Västra Sjöslingan\n",
      "Västra Skansgatan\n",
      "Västra Smedjegården\n",
      "Västra Stampbron\n",
      "Västra Stationsvägen\n"
     ]
    },
    {
     "name": "stderr",
     "output_type": "stream",
     "text": [
      " 95%|█████████▍| 5491/5788 [30:04<00:22, 13.15it/s]"
     ]
    },
    {
     "name": "stdout",
     "output_type": "stream",
     "text": [
      "Västra Stigen\n",
      "Västra Stillestorpsgatan\n",
      "Västra Tuvevägen\n"
     ]
    },
    {
     "name": "stderr",
     "output_type": "stream",
     "text": [
      " 95%|█████████▌| 5500/5788 [30:05<00:18, 15.58it/s]"
     ]
    },
    {
     "name": "stdout",
     "output_type": "stream",
     "text": [
      "Västra Tvärskedet\n",
      "Västra Äspetgården\n",
      "Vättegången\n",
      "Vättlefjälls väg\n",
      "Vättnedalsvägen\n",
      "Vävaregatan\n",
      "Väverskans Bro\n",
      "Väverskans gata\n",
      "Vävlagaregatan\n",
      "Vävskedsgatan\n"
     ]
    },
    {
     "name": "stderr",
     "output_type": "stream",
     "text": [
      " 95%|█████████▌| 5504/5788 [30:05<00:15, 18.70it/s]"
     ]
    },
    {
     "name": "stdout",
     "output_type": "stream",
     "text": [
      "Vävstolsgatan\n",
      "Växelmyntsgatan\n",
      "Växthusvägen\n",
      "Våglängdsgatan\n"
     ]
    },
    {
     "name": "stderr",
     "output_type": "stream",
     "text": [
      " 95%|█████████▌| 5511/5788 [30:05<00:15, 18.15it/s]"
     ]
    },
    {
     "name": "stdout",
     "output_type": "stream",
     "text": [
      "Vågmästaregatan\n",
      "Vågnedalsvägen\n",
      "Vårbroddsgatan\n",
      "Vårbäcksvägen\n",
      "Vårdkasestigen\n",
      "Vårflodsgatan\n"
     ]
    },
    {
     "name": "stderr",
     "output_type": "stream",
     "text": [
      " 95%|█████████▌| 5518/5788 [30:06<00:11, 23.01it/s]"
     ]
    },
    {
     "name": "stdout",
     "output_type": "stream",
     "text": [
      "Vårfrugatan\n",
      "Vårgatan\n",
      "Vårlöksgatan\n",
      "Vårmånadsgatan\n",
      "Vårstigen\n",
      "Vårvindsgatan\n"
     ]
    },
    {
     "name": "stderr",
     "output_type": "stream",
     "text": [
      " 95%|█████████▌| 5521/5788 [30:06<00:13, 20.17it/s]"
     ]
    },
    {
     "name": "stdout",
     "output_type": "stream",
     "text": [
      "Vårvädersgatan\n",
      "Vörtgatan\n",
      "Wadköpingsgatan\n"
     ]
    },
    {
     "name": "stderr",
     "output_type": "stream",
     "text": [
      " 95%|█████████▌| 5524/5788 [30:07<00:28,  9.34it/s]"
     ]
    },
    {
     "name": "stdout",
     "output_type": "stream",
     "text": [
      "Wadmansgatan\n",
      "Waernsgatan\n",
      "Wahlbergsgatan\n",
      "Walckesgatan\n"
     ]
    },
    {
     "name": "stderr",
     "output_type": "stream",
     "text": [
      " 95%|█████████▌| 5527/5788 [30:07<00:28,  9.15it/s]"
     ]
    },
    {
     "name": "stdout",
     "output_type": "stream",
     "text": [
      "Wallenbergsgatan\n",
      "Walleriusgatan\n",
      "Walter Bengtssons gata\n",
      "Waterloogatan\n"
     ]
    },
    {
     "name": "stderr",
     "output_type": "stream",
     "text": [
      " 96%|█████████▌| 5531/5788 [30:07<00:28,  8.99it/s]"
     ]
    },
    {
     "name": "stdout",
     "output_type": "stream",
     "text": [
      "Waterloopassagen\n",
      "Welandergatan\n"
     ]
    },
    {
     "name": "stderr",
     "output_type": "stream",
     "text": [
      " 96%|█████████▌| 5533/5788 [30:08<00:42,  6.07it/s]"
     ]
    },
    {
     "name": "stdout",
     "output_type": "stream",
     "text": [
      "Wendels väg\n",
      "Wenngrensstigen\n",
      "Wieselgrensgatan\n"
     ]
    },
    {
     "name": "stderr",
     "output_type": "stream",
     "text": [
      " 96%|█████████▌| 5536/5788 [30:11<01:32,  2.73it/s]"
     ]
    },
    {
     "name": "stdout",
     "output_type": "stream",
     "text": [
      "Wieselgrensplatsen\n"
     ]
    },
    {
     "name": "stderr",
     "output_type": "stream",
     "text": [
      " 96%|█████████▌| 5538/5788 [30:11<01:27,  2.86it/s]"
     ]
    },
    {
     "name": "stdout",
     "output_type": "stream",
     "text": [
      "Wijkandersgatan\n",
      "Wilhelmsbergsstigen\n",
      "Willinsbron\n"
     ]
    },
    {
     "name": "stderr",
     "output_type": "stream",
     "text": [
      " 96%|█████████▌| 5542/5788 [30:12<00:54,  4.53it/s]"
     ]
    },
    {
     "name": "stdout",
     "output_type": "stream",
     "text": [
      "Wingårdsgatan\n",
      "Wirséns väg\n",
      "Wollins trappor\n",
      "Wrangels Trappgata\n"
     ]
    },
    {
     "name": "stderr",
     "output_type": "stream",
     "text": [
      " 96%|█████████▌| 5545/5788 [30:12<00:36,  6.73it/s]"
     ]
    },
    {
     "name": "stdout",
     "output_type": "stream",
     "text": [
      "Wrangelsgatan\n",
      "Wärnsköldsgatan\n",
      "Yrvädersgatan\n"
     ]
    },
    {
     "name": "stderr",
     "output_type": "stream",
     "text": [
      " 96%|█████████▌| 5547/5788 [30:12<00:46,  5.22it/s]"
     ]
    },
    {
     "name": "stdout",
     "output_type": "stream",
     "text": [
      "Ysters väg\n",
      "Ytterhamnsvägen\n"
     ]
    },
    {
     "name": "stderr",
     "output_type": "stream",
     "text": [
      " 96%|█████████▌| 5551/5788 [30:14<01:01,  3.83it/s]"
     ]
    },
    {
     "name": "stdout",
     "output_type": "stream",
     "text": [
      "Zachrissonsgatan\n",
      "Zenitgatan\n",
      "Zenithgården\n",
      "Zirkongatan\n"
     ]
    },
    {
     "name": "stderr",
     "output_type": "stream",
     "text": [
      " 96%|█████████▌| 5556/5788 [30:14<00:32,  7.13it/s]"
     ]
    },
    {
     "name": "stdout",
     "output_type": "stream",
     "text": [
      "de Geersgatan\n",
      "golf walkway\n",
      "underground hangar\n",
      "von Gerdesgatan\n",
      "von Utfallsgatan\n"
     ]
    },
    {
     "name": "stderr",
     "output_type": "stream",
     "text": [
      " 96%|█████████▌| 5562/5788 [30:16<00:50,  4.43it/s]"
     ]
    },
    {
     "name": "stdout",
     "output_type": "stream",
     "text": [
      "Äckrornavägen\n",
      "Ädelstensgatan\n",
      "Älghagsgatan\n",
      "Älgstråket\n",
      "Älingebäcksvägen\n",
      "Älvaleken\n",
      "Älvdanshagen\n"
     ]
    },
    {
     "name": "stderr",
     "output_type": "stream",
     "text": [
      " 96%|█████████▌| 5568/5788 [30:17<00:34,  6.38it/s]"
     ]
    },
    {
     "name": "stdout",
     "output_type": "stream",
     "text": [
      "Älvdansvägen\n",
      "Älvefjordsgatan\n",
      "Älvegårdsgränden\n",
      "Älvegårdsvägen\n",
      "Älvgrimegatan\n"
     ]
    },
    {
     "name": "stderr",
     "output_type": "stream",
     "text": [
      " 96%|█████████▋| 5573/5788 [30:17<00:24,  8.76it/s]"
     ]
    },
    {
     "name": "stdout",
     "output_type": "stream",
     "text": [
      "Älvhemsvägen\n",
      "Älvhålegatan\n",
      "Älvkullevägen\n",
      "Älvkvarnsvägen\n",
      "Älvlea\n",
      "Älvsborgsbron\n"
     ]
    },
    {
     "name": "stderr",
     "output_type": "stream",
     "text": [
      " 96%|█████████▋| 5576/5788 [30:18<00:28,  7.53it/s]"
     ]
    },
    {
     "name": "stdout",
     "output_type": "stream",
     "text": [
      "Älvsborgsgatan\n"
     ]
    },
    {
     "name": "stderr",
     "output_type": "stream",
     "text": [
      " 96%|█████████▋| 5582/5788 [30:18<00:20,  9.88it/s]"
     ]
    },
    {
     "name": "stdout",
     "output_type": "stream",
     "text": [
      "Älvsborgsmässens väg\n",
      "Älvsborgsplan\n",
      "Älvsysselgatan\n",
      "Älvåsbacken\n",
      "Ängemarken\n",
      "Änggårdens Gångbro\n",
      "Änggårdens Koloniväg\n"
     ]
    },
    {
     "name": "stderr",
     "output_type": "stream",
     "text": [
      " 97%|█████████▋| 5588/5788 [30:19<00:14, 13.73it/s]"
     ]
    },
    {
     "name": "stdout",
     "output_type": "stream",
     "text": [
      "Änggårdsbacken\n",
      "Änggårdsgatan\n",
      "Änggårdsplatsen\n",
      "Änghagsdalen\n",
      "Änghagsliden\n"
     ]
    },
    {
     "name": "stderr",
     "output_type": "stream",
     "text": [
      " 97%|█████████▋| 5590/5788 [30:19<00:13, 14.32it/s]"
     ]
    },
    {
     "name": "stdout",
     "output_type": "stream",
     "text": [
      "Änghagsvägen\n",
      "Ängholmen\n",
      "Ängholmsgatan\n"
     ]
    },
    {
     "name": "stderr",
     "output_type": "stream",
     "text": [
      " 97%|█████████▋| 5592/5788 [30:19<00:15, 12.95it/s]"
     ]
    },
    {
     "name": "stdout",
     "output_type": "stream",
     "text": [
      "Ängkärrsgången\n",
      "Ängkärrsvägen\n"
     ]
    },
    {
     "name": "stderr",
     "output_type": "stream",
     "text": [
      " 97%|█████████▋| 5599/5788 [30:23<00:57,  3.27it/s]"
     ]
    },
    {
     "name": "stdout",
     "output_type": "stream",
     "text": [
      "Ängsklockegången\n",
      "Ängskogsvägen\n",
      "Ängslyckan\n",
      "Ängsmaden\n",
      "Ängstigen\n",
      "Ängstuvevägen\n",
      "Ängsvaktaregatan\n",
      "Ängsäters Gränd\n"
     ]
    },
    {
     "name": "stderr",
     "output_type": "stream",
     "text": [
      " 97%|█████████▋| 5603/5788 [30:23<00:38,  4.81it/s]"
     ]
    },
    {
     "name": "stdout",
     "output_type": "stream",
     "text": [
      "Ängtegsgatan\n",
      "Ängås Gård\n"
     ]
    },
    {
     "name": "stderr",
     "output_type": "stream",
     "text": [
      " 97%|█████████▋| 5608/5788 [30:24<00:27,  6.47it/s]"
     ]
    },
    {
     "name": "stdout",
     "output_type": "stream",
     "text": [
      "Ängåsgatan\n",
      "Ängåsvallen\n",
      "Äpplegatan\n",
      "Ärenprisgatan\n",
      "Äringsgatan\n"
     ]
    },
    {
     "name": "stderr",
     "output_type": "stream",
     "text": [
      " 97%|█████████▋| 5611/5788 [30:24<00:21,  8.28it/s]"
     ]
    },
    {
     "name": "stdout",
     "output_type": "stream",
     "text": [
      "Ärlegatan\n",
      "Ärtgången\n",
      "Ärthögsvägen\n",
      "Äsebackevägen\n",
      "Äspekullen\n"
     ]
    },
    {
     "name": "stderr",
     "output_type": "stream",
     "text": [
      " 97%|█████████▋| 5613/5788 [30:24<00:19,  9.11it/s]"
     ]
    },
    {
     "name": "stdout",
     "output_type": "stream",
     "text": [
      "Äspereds Skogsväg\n"
     ]
    },
    {
     "name": "stderr",
     "output_type": "stream",
     "text": [
      " 97%|█████████▋| 5617/5788 [30:24<00:17, 10.02it/s]"
     ]
    },
    {
     "name": "stdout",
     "output_type": "stream",
     "text": [
      "Äsperedsgatan\n",
      "Äspets Marker\n",
      "Ättehögsgatan\n"
     ]
    },
    {
     "name": "stderr",
     "output_type": "stream",
     "text": [
      " 97%|█████████▋| 5624/5788 [30:25<00:09, 17.84it/s]"
     ]
    },
    {
     "name": "stdout",
     "output_type": "stream",
     "text": [
      "Ättekullen\n",
      "Ättestigen\n",
      "Åbogårdsgatan\n",
      "Åbohusgatan\n",
      "Åbranten\n",
      "Åbrinken\n",
      "Ågrändsbron\n",
      "Ågången\n",
      "Åkanten\n",
      "Åkaregatan\n",
      "Åkareplatsen\n"
     ]
    },
    {
     "name": "stderr",
     "output_type": "stream",
     "text": [
      " 97%|█████████▋| 5632/5788 [30:25<00:07, 19.76it/s]"
     ]
    },
    {
     "name": "stdout",
     "output_type": "stream",
     "text": [
      "Åke Falcks gata\n",
      "Åke Göranssons Gångväg\n",
      "Åkereds Skolväg\n",
      "Åkereds Äng\n",
      "Åkeredsvägen\n"
     ]
    },
    {
     "name": "stderr",
     "output_type": "stream",
     "text": [
      " 97%|█████████▋| 5638/5788 [30:27<00:21,  6.87it/s]"
     ]
    },
    {
     "name": "stdout",
     "output_type": "stream",
     "text": [
      "Åkerigatan\n",
      "Åkerlingsgatan\n",
      "Åkerrensgatan\n",
      "Åkersbruksvägen\n",
      "Åkerslundsvägen\n",
      "Åkerstigen\n",
      "Åkerögatan\n",
      "Åkes väg\n",
      "Åketorpsgatan\n"
     ]
    },
    {
     "name": "stderr",
     "output_type": "stream",
     "text": [
      " 98%|█████████▊| 5647/5788 [30:28<00:20,  6.98it/s]"
     ]
    },
    {
     "name": "stdout",
     "output_type": "stream",
     "text": [
      "Åketorpsvägen\n",
      "Åkroken\n",
      "Ålandsgatan\n",
      "Ålefiskarns väg\n",
      "Åliden\n",
      "Ångaren Artemis gata\n",
      "Ångaren Ediths gata\n",
      "Ångaren Ernas gata\n"
     ]
    },
    {
     "name": "stderr",
     "output_type": "stream",
     "text": [
      " 98%|█████████▊| 5651/5788 [30:28<00:14,  9.25it/s]"
     ]
    },
    {
     "name": "stdout",
     "output_type": "stream",
     "text": [
      "Ångaren Figges gata\n",
      "Ångaren Indias gata\n",
      "Ångpannegatan\n",
      "Ånäsvägen\n"
     ]
    },
    {
     "name": "stderr",
     "output_type": "stream",
     "text": [
      " 98%|█████████▊| 5655/5788 [30:30<00:31,  4.26it/s]"
     ]
    },
    {
     "name": "stdout",
     "output_type": "stream",
     "text": [
      "Årbogatan\n",
      "Årekärrsvägen\n"
     ]
    },
    {
     "name": "stderr",
     "output_type": "stream",
     "text": [
      " 98%|█████████▊| 5662/5788 [30:39<01:16,  1.65it/s]"
     ]
    },
    {
     "name": "stdout",
     "output_type": "stream",
     "text": [
      "Århusgatan\n",
      "Årstidsgatan\n",
      "Årstidstorget\n",
      "Åsamossevägen\n",
      "Åsbacken\n",
      "Åsberget\n",
      "Åsdammsstigen\n",
      "Åsdammsvägen\n",
      "Åseby Gård\n"
     ]
    },
    {
     "name": "stderr",
     "output_type": "stream",
     "text": [
      " 98%|█████████▊| 5672/5788 [30:39<00:30,  3.83it/s]"
     ]
    },
    {
     "name": "stdout",
     "output_type": "stream",
     "text": [
      "Åseby Mellangård\n",
      "Åseby Västergård\n",
      "Åseby Östergård\n",
      "Åsens väg\n",
      "Åsgatan\n",
      "Åskekärrsvägen\n",
      "Åskvädersgatan\n",
      "Åslyckevägen\n"
     ]
    },
    {
     "name": "stderr",
     "output_type": "stream",
     "text": [
      " 98%|█████████▊| 5676/5788 [30:40<00:22,  4.92it/s]"
     ]
    },
    {
     "name": "stdout",
     "output_type": "stream",
     "text": [
      "Åsnestigen\n",
      "Åsstigen\n",
      "Åstranden\n",
      "Återbruksvägen\n",
      "Åttarörsgatan\n",
      "Åvägen\n"
     ]
    },
    {
     "name": "stderr",
     "output_type": "stream",
     "text": [
      " 98%|█████████▊| 5687/5788 [30:40<00:10,  9.81it/s]"
     ]
    },
    {
     "name": "stdout",
     "output_type": "stream",
     "text": [
      "Öarna\n",
      "Öckerögatan\n",
      "Öckeröleden\n",
      "Ödmansgatan\n",
      "Ögonmåttsgatan\n",
      "Ögontröstgatan\n",
      "Ögärdesvägen\n",
      "Önnereds Brygga\n"
     ]
    },
    {
     "name": "stderr",
     "output_type": "stream",
     "text": [
      " 98%|█████████▊| 5691/5788 [30:40<00:09, 10.36it/s]"
     ]
    },
    {
     "name": "stdout",
     "output_type": "stream",
     "text": [
      "Önnereds Bryggväg\n",
      "Önnereds Byväg\n",
      "Önnereds Hamnväg\n",
      "Önneredsvägen\n"
     ]
    },
    {
     "name": "stderr",
     "output_type": "stream",
     "text": [
      " 98%|█████████▊| 5694/5788 [30:40<00:08, 10.86it/s]"
     ]
    },
    {
     "name": "stdout",
     "output_type": "stream",
     "text": [
      "Önskevädersgatan\n",
      "Örebrogatan\n",
      "Örgryte Klockarestig\n",
      "Örgryte Kyrkogata\n"
     ]
    },
    {
     "name": "stderr",
     "output_type": "stream",
     "text": [
      " 98%|█████████▊| 5697/5788 [30:41<00:07, 12.63it/s]"
     ]
    },
    {
     "name": "stdout",
     "output_type": "stream",
     "text": [
      "Örgryte Nya Kyrkogård\n",
      "Örgryte Stomgata\n",
      "Örgrytevägen\n"
     ]
    },
    {
     "name": "stderr",
     "output_type": "stream",
     "text": [
      " 98%|█████████▊| 5700/5788 [30:41<00:10,  8.03it/s]"
     ]
    },
    {
     "name": "stdout",
     "output_type": "stream",
     "text": [
      "Örlogsvägen\n",
      "Örnehufvudsgatan\n",
      "Örnekulans väg\n"
     ]
    },
    {
     "name": "stderr",
     "output_type": "stream",
     "text": [
      " 99%|█████████▊| 5702/5788 [30:42<00:11,  7.19it/s]"
     ]
    },
    {
     "name": "stdout",
     "output_type": "stream",
     "text": [
      "Örnfelts väg\n",
      "Örngatan\n"
     ]
    },
    {
     "name": "stderr",
     "output_type": "stream",
     "text": [
      " 99%|█████████▊| 5707/5788 [30:42<00:08,  9.37it/s]"
     ]
    },
    {
     "name": "stdout",
     "output_type": "stream",
     "text": [
      "Örtagårdsgatan\n",
      "Örtugsgatan\n",
      "Östanvindsgatan\n",
      "Östergärde Industriväg\n"
     ]
    },
    {
     "name": "stderr",
     "output_type": "stream",
     "text": [
      " 99%|█████████▊| 5715/5788 [30:44<00:10,  6.73it/s]"
     ]
    },
    {
     "name": "stdout",
     "output_type": "stream",
     "text": [
      "Östergårdsvägen\n",
      "Österhedsgatan\n",
      "Österhögsvägen\n",
      "Österlyckan\n",
      "Österslätts Gård\n",
      "Österslätts Norgård\n",
      "Östes gata\n",
      "Östfjällsvägen\n"
     ]
    },
    {
     "name": "stderr",
     "output_type": "stream",
     "text": [
      " 99%|█████████▉| 5719/5788 [30:44<00:07,  8.68it/s]"
     ]
    },
    {
     "name": "stdout",
     "output_type": "stream",
     "text": [
      "Östra Andersgårdsgatan\n",
      "Östra Arödsgatan\n",
      "Östra Björredsvägen\n",
      "Östra Breviksvägen\n",
      "Östra Bräckevägen\n",
      "Östra Bärmeråsvägen\n",
      "Östra Dockpiren\n",
      "Östra Dockvallen\n"
     ]
    },
    {
     "name": "stderr",
     "output_type": "stream",
     "text": [
      " 99%|█████████▉| 5724/5788 [30:44<00:05, 12.30it/s]"
     ]
    },
    {
     "name": "stdout",
     "output_type": "stream",
     "text": [
      "Östra Eriksbergsgatan\n"
     ]
    },
    {
     "name": "stderr",
     "output_type": "stream",
     "text": [
      " 99%|█████████▉| 5730/5788 [30:46<00:09,  6.30it/s]"
     ]
    },
    {
     "name": "stdout",
     "output_type": "stream",
     "text": [
      "Östra Gjutegården\n",
      "Östra Grinnekärrsvägen\n",
      "Östra Gullöslätten\n",
      "Östra Gunnesgärde\n",
      "Östra Hamnefjällsvägen\n",
      "Östra Hamngatan\n"
     ]
    },
    {
     "name": "stderr",
     "output_type": "stream",
     "text": [
      " 99%|█████████▉| 5735/5788 [30:47<00:09,  5.88it/s]"
     ]
    },
    {
     "name": "stdout",
     "output_type": "stream",
     "text": [
      "Östra Hovdalen\n",
      "Östra Keillersgatan\n",
      "Östra Kopparkärrsvägen\n",
      "Östra Larmgatan\n",
      "Östra Magårdsvägen\n"
     ]
    },
    {
     "name": "stderr",
     "output_type": "stream",
     "text": [
      " 99%|█████████▉| 5737/5788 [30:47<00:08,  6.05it/s]"
     ]
    },
    {
     "name": "stdout",
     "output_type": "stream",
     "text": [
      "Östra Midvintersgatan\n",
      "Östra Palettgatan\n",
      "Östra Palmgrensgatan\n",
      "Östra Rågårdsvägen\n",
      "Östra Sannegårdskajen\n",
      "Östra Skansgatan\n"
     ]
    },
    {
     "name": "stderr",
     "output_type": "stream",
     "text": [
      " 99%|█████████▉| 5745/5788 [30:48<00:03, 11.48it/s]"
     ]
    },
    {
     "name": "stdout",
     "output_type": "stream",
     "text": [
      "Östra Skärvallsgatan\n",
      "Östra Smedjegården\n",
      "Östra Stillestorpsgatan\n",
      "Östra Sänkverksgatan\n",
      "Östra Sävviksvägen\n",
      "Östra Sörredsvägen\n",
      "Östra Torpavägen\n"
     ]
    },
    {
     "name": "stderr",
     "output_type": "stream",
     "text": [
      " 99%|█████████▉| 5753/5788 [30:48<00:01, 17.95it/s]"
     ]
    },
    {
     "name": "stdout",
     "output_type": "stream",
     "text": [
      "Östra Trulsegårdsvägen\n",
      "Östra Äspetgården\n",
      "Övergårdsstigen\n",
      "Överstegatan\n",
      "Överås Parkväg\n"
     ]
    },
    {
     "name": "stderr",
     "output_type": "stream",
     "text": [
      " 99%|█████████▉| 5756/5788 [30:48<00:02, 15.06it/s]"
     ]
    },
    {
     "name": "stdout",
     "output_type": "stream",
     "text": [
      "Överåsgatan\n",
      "Övralidsgatan\n",
      "Övre Besvärsgatan\n"
     ]
    },
    {
     "name": "stderr",
     "output_type": "stream",
     "text": [
      "100%|█████████▉| 5762/5788 [30:49<00:01, 16.10it/s]"
     ]
    },
    {
     "name": "stdout",
     "output_type": "stream",
     "text": [
      "Övre Björlanda Strand\n",
      "Övre Bulleråsgången\n",
      "Övre Buråsliden\n",
      "Övre Bygatan\n",
      "Övre Börsåsgatan\n",
      "Övre Djupedalsgatan\n"
     ]
    },
    {
     "name": "stderr",
     "output_type": "stream",
     "text": [
      "100%|█████████▉| 5765/5788 [30:49<00:01, 17.45it/s]"
     ]
    },
    {
     "name": "stdout",
     "output_type": "stream",
     "text": [
      "Övre Fogelbergsgatan\n",
      "Övre Hallegatan\n",
      "Övre Husargatan\n"
     ]
    },
    {
     "name": "stderr",
     "output_type": "stream",
     "text": [
      "100%|█████████▉| 5773/5788 [30:50<00:01, 13.57it/s]"
     ]
    },
    {
     "name": "stdout",
     "output_type": "stream",
     "text": [
      "Övre Hägnavägen\n",
      "Övre Hällsviksvägen\n",
      "Övre Kaserngården\n",
      "Övre Linnefjällsvägen\n",
      "Övre Lysbojsvägen\n",
      "Övre Majorsgatan\n",
      "Övre Matrosgatan\n",
      "Övre Montörsgatan\n"
     ]
    },
    {
     "name": "stderr",
     "output_type": "stream",
     "text": [
      "100%|█████████▉| 5776/5788 [30:50<00:00, 15.18it/s]"
     ]
    },
    {
     "name": "stdout",
     "output_type": "stream",
     "text": [
      "Övre Olskroksgatan\n",
      "Övre Pipblåsaregatan\n",
      "Övre Rönnbärsstigen\n",
      "Övre Sanatoriegatan\n"
     ]
    },
    {
     "name": "stderr",
     "output_type": "stream",
     "text": [
      "100%|█████████▉| 5779/5788 [30:50<00:01,  8.50it/s]"
     ]
    },
    {
     "name": "stdout",
     "output_type": "stream",
     "text": [
      "Övre Släktledsgatan\n",
      "Övre Spannmålsgatan\n",
      "Övre Storåsvägen\n"
     ]
    },
    {
     "name": "stderr",
     "output_type": "stream",
     "text": [
      "100%|█████████▉| 5784/5788 [30:51<00:00, 10.40it/s]"
     ]
    },
    {
     "name": "stdout",
     "output_type": "stream",
     "text": [
      "Övre Ströms väg\n",
      "Öxnabergsvägen\n",
      "Öxnäs By\n",
      "Öxnäs Kulleväg\n"
     ]
    },
    {
     "name": "stderr",
     "output_type": "stream",
     "text": [
      "100%|█████████▉| 5786/5788 [30:51<00:00, 11.08it/s]"
     ]
    },
    {
     "name": "stdout",
     "output_type": "stream",
     "text": [
      "Öxnäs Mellangård\n",
      "Öxnäs Smelycka\n",
      "Öxnäs Västergård\n",
      "Öxnäsvägen\n"
     ]
    },
    {
     "name": "stderr",
     "output_type": "stream",
     "text": [
      "100%|██████████| 5788/5788 [30:52<00:00,  3.12it/s]\n"
     ]
    },
    {
     "name": "stdout",
     "output_type": "stream",
     "text": [
      "number_of_parallel: 14783\n",
      "create new files\n"
     ]
    }
   ],
   "execution_count": 14
  },
  {
   "cell_type": "code",
   "execution_count": 8,
   "source": [
    "\n",
    "# region\n",
    "# Classes to be employed during the execution of this code.\n",
    "#Intersection\n",
    "#Split in intersection\n",
    "class Intersection:\n",
    "    def __init__(self,network:GeoDataFrame,number:int):\n",
    "        \"\"\"\n",
    "\n",
    "        :param network:\n",
    "        :param number: give a unique name to the files created during the process (this class will be use again in this code)\n",
    "        \"\"\"\n",
    "        self.my_network = network\n",
    "        self.inter_pnt_dic = {'geometry':[],'name':[]}\n",
    "        self.lines_to_delete =[]\n",
    "        self.num = number\n",
    "\n",
    "\n",
    "    def intersection_network(self):\n",
    "        \"\"\"\n",
    "        This function fix topology (add or remove vertices) where needed\n",
    "        :return:\n",
    "        \"\"\"\n",
    "        # First remove_false_nodes\n",
    "        self.my_network = remove_false_nodes(self.my_network).reset_index(drop=True)\n",
    "        self.my_network.to_file(f'{data_folder}/delete_2_nodes/delete_false_intersection.shp')\n",
    "        # Create buffer around each element\n",
    "        buffer_around_lines= self.my_network['geometry'].buffer(cap_style=3, distance=1, join_style=3)\n",
    "\n",
    "\n",
    "        # s_join between buffer to lines\n",
    "        s_join_0 =gpd.sjoin(left_df=GeoDataFrame(geometry=buffer_around_lines,crs=project_crs),right_df=self.my_network)\n",
    "\n",
    "        # delete lines belong to the buffer\n",
    "        s_join = s_join_0[s_join_0.index!=s_join_0['index_right']]\n",
    "\n",
    "\n",
    "        # Find new intersections that are not at the beginning or end of the line\n",
    "        for_time =len(s_join)\n",
    "        with tqdm(total=for_time) as pbar:\n",
    "            s_join.apply(lambda x: self.find_intersection_points(x,pbar), axis=1)\n",
    "        if len(self.inter_pnt_dic)==0:\n",
    "            return\n",
    "        inter_pnt_gdf = GeoDataFrame(self.inter_pnt_dic,crs=project_crs)\n",
    "        inter_pnt_gdf.to_file(f'{data_folder}/delete_2_nodes/inter_pnt_dic.shp')\n",
    "        # Split string line by points\n",
    "        segments = {'geometry':[],'org_id':[]}\n",
    "        # Groupby points name (which is the line they should split)\n",
    "        my_groups =  inter_pnt_gdf.groupby('name')\n",
    "        for_time = len(my_groups)\n",
    "        with  tqdm(total=for_time) as pbar:\n",
    "            for group_pnts in my_groups:\n",
    "                pbar.update(1)\n",
    "                points  = group_pnts[1]\n",
    "                points['is_split'] = True\n",
    "                # if group_pnts[0]==588:\n",
    "                #     print(points)\n",
    "                # get the line to split by comparing the name\n",
    "                row = self.my_network.loc[group_pnts[0]]\n",
    "                current = list(row.geometry.coords)\n",
    "                points_line = [Point(x) for x in current]\n",
    "                points_line_gdf = GeoDataFrame(geometry=points_line,crs=project_crs)\n",
    "                points_line_gdf['is_split'] = False\n",
    "\n",
    "                # append all the points together (line points and split points)\n",
    "                line_all_pnts = points_line_gdf.append(points)\n",
    "\n",
    "                # Find the distance of each point form the begining of the line on the line.\n",
    "                line_all_pnts['dis_from_the_start'] = line_all_pnts['geometry'].apply(lambda x:row.geometry.project(x))\n",
    "                line_all_pnts.sort_values('dis_from_the_start',inplace=True)\n",
    "\n",
    "                # split the line\n",
    "                seg =[]\n",
    "                for point in line_all_pnts.iterrows():\n",
    "                    prop = point[1]\n",
    "                    seg.append(prop['geometry'])\n",
    "                    if prop['is_split']:\n",
    "                        segments['geometry'].append(LineString(seg))\n",
    "                        segments['org_id'].append(row.name)\n",
    "                        seg = [prop['geometry']]\n",
    "                # if the split point is the last one, you don't need to create new segment\n",
    "                if len(seg)>1:\n",
    "                    segments['geometry'].append(LineString(seg))\n",
    "                    segments['org_id'].append(row.name)\n",
    "        network_split = GeoDataFrame(data=segments,crs=project_crs)\n",
    "        network_split.to_file(f'{data_folder}/delete_2_nodes/segments.shp')\n",
    "        cols_no_geometry = self.my_network.columns[:-1]\n",
    "        network_split_final = network_split.set_index('org_id')\n",
    "        network_split_final[cols_no_geometry] =self.my_network[cols_no_geometry]\n",
    "        # remove old and redundant line from our network and update with new one\n",
    "        network_split =self.my_network.drop(index=network_split_final.index.unique()).append(network_split_final)\n",
    "        network_split['length'] = network_split.length\n",
    "        self.my_network = network_split\n",
    "        self.my_network.reset_index(drop=True,inplace= True)\n",
    "        self.my_network.to_file(f'{data_folder}/delete_2_nodes/intersection_network.shp')\n",
    "\n",
    "    def find_intersection_points(self,row,pbar):\n",
    "        r\"\"\"\n",
    "        find the intersection points between the two lines\n",
    "        :param row:\n",
    "        :return:\n",
    "        \"\"\"\n",
    "        try:\n",
    "            pbar.update(1)\n",
    "            line_1 = self.my_network.loc[row.name]\n",
    "            line_2 =  self.my_network.loc[row['index_right']]\n",
    "            pnt = line_1.geometry.intersection(line_2.geometry)\n",
    "            # If there are more than one intersection between two lines, one of the lines should be deleted.\n",
    "            if isinstance(pnt,LineString): # The intersection is only between the buffer and the point ToDo - when the situation is a overlay line\n",
    "                return\n",
    "            if isinstance(pnt,MultiPoint):\n",
    "                for single_pnt in pnt:\n",
    "                    self.inter_pnt_dic['geometry'].append(single_pnt)\n",
    "                    self.inter_pnt_dic['name'].append(row.name)\n",
    "                return\n",
    "            # If it is first or end continue OR if there is no intersection between the two lines\n",
    "            if len(pnt.coords)==0 or pnt.coords[0]==line_1.geometry.coords[0] or pnt.coords[0]==line_1.geometry.coords[-1]:\n",
    "                return\n",
    "            self.inter_pnt_dic['geometry'].append(pnt)\n",
    "            self.inter_pnt_dic['name'].append(row.name)\n",
    "        except:\n",
    "            print(f\"{row.name},{row['index_right']}:{pnt}\")\n",
    "\n",
    "    def update_names(self, org_gpd:GeoDataFrame):\n",
    "        \"\"\"\n",
    "        It updates the name of those lost their name during the previous process\n",
    "        :param org_gpd:\n",
    "        :return:\n",
    "        \"\"\"\n",
    "        df1 = self.my_network\n",
    "        # Split df1 into two GeoDataFrames: df3 (with names) and df4 (without names)\n",
    "        df3 = df1[df1['name'].notna()]\n",
    "        # df3.to_file(f'{data_folder}/delete_2_nodes/with_name.shp')\n",
    "        df4 = df1[df1['name'].isna()]\n",
    "        # df4.reset_index().to_file(f'{data_folder}/delete_2_nodes/no_name_init.shp')\n",
    "\n",
    "        # use only one polyline from the original dataframe for name even if the algorithm may found more\n",
    "        old_index  ='old_index'\n",
    "        df4_as_buffer= GeoDataFrame(geometry=df4['geometry'].buffer(distance  = 2, cap_style=2),crs=project_crs)\n",
    "        df = gpd.sjoin(df4_as_buffer, org_gpd) # for spatial join use buffer around each polyline.that provide better result\n",
    "        df.index.name = old_index\n",
    "        df['geometry'] = df4['geometry'] # bring the dataframe into linestring format\n",
    "        df.reset_index(inplace=True) # To be consistent with the following code and other dataframe\n",
    "        # Create a new dictionary to store the updated data.\n",
    "        dic_str_data = []\n",
    "\n",
    "\n",
    "        def return_street_name(aplcnts_tst):\n",
    "            \"\"\"\n",
    "            1. \"Count the occurrences of polylines with the same name within each aplcnts_tst.\"\n",
    "            2. \"Return the street if a aplcnts_tst contains only one unique street name.\"\n",
    "            3. \"If a single street name predominates within a aplcnts_tst, return that name.\"\n",
    "            4. \"For groups with multiple names, perform a buffer calculation around the respective polylines and determine the largest overlapping area, returning the name associated with that area.\"\n",
    "            :param aplcnts_tst: group of applicants. Some of them hold the correct street name\n",
    "            :return:\n",
    "            \"\"\"\n",
    "            count_names = aplcnts_tst['name'].value_counts().sort_values(ascending=False)\n",
    "            if len(count_names)==1:\n",
    "                # there is only one name\n",
    "                my_data = aplcnts_tst.iloc[0]\n",
    "            elif count_names[1]- count_names[0]>1:\n",
    "                # The highest number of polylines with the same name are bigger at least in 2:\n",
    "                my_data = aplcnts_tst[aplcnts_tst['name'] == count_names.index[0]].iloc[0]\n",
    "            else:\n",
    "                # otherwise filter those with the most popular name or close to (-1)\n",
    "                str_to_wrk_on  =aplcnts_tst[aplcnts_tst['name'].isin(count_names[count_names - count_names[0] < 2].index)]\n",
    "                buffer_0 = GeoDataFrame(geometry=[str_to_wrk_on.iloc[0]['geometry'].buffer(distance  = 20, cap_style=2)],crs=project_crs) # Buffer around the polyline without name\n",
    "\n",
    "                streets_right_geo = org_gpd[org_gpd.index.isin(str_to_wrk_on['index_right'])].reset_index() # Get all the applicants polylines and create buffer around\n",
    "                buffer_1 =GeoDataFrame(geometry=streets_right_geo.buffer(distance  = 20, cap_style=2))\n",
    "                streets_right_geo['area'] =gpd.overlay(buffer_1, buffer_0, how='intersection').area\n",
    "                groupy = streets_right_geo.groupby('name')\n",
    "                my_data_0 = groupy.get_group(groupy.sum()['area'].sort_values(ascending=False).index[0]).sort_values(by= 'area',ascending=False).iloc[0]\n",
    "                # Get back to the @aplcnts_tst and find the relevant row by comparing index\n",
    "                my_data = aplcnts_tst[aplcnts_tst['index_right'] == my_data_0['index']].iloc[0]\n",
    "            # Populate the new dictionary with relevant data\n",
    "            dic_str_data.append(my_data.to_list())\n",
    "        _ =df.groupby(old_index).apply(return_street_name)\n",
    "        # convert the dictionary into a dataframe.\n",
    "        updated_df = GeoDataFrame(data= dic_str_data,columns=df.columns,crs=project_crs).drop(columns='index_right').set_index(old_index)\n",
    "        updated_df['length'] = updated_df.length\n",
    "        self.my_network = df3.append(updated_df)\n",
    "\n",
    "#Roundabout\n",
    "class EnvEntity:\n",
    "        def __init__(self,network):\n",
    "            self.dead_end_fd = None\n",
    "            self.pnt_dead_end = None\n",
    "            self.pnt_dic = {}\n",
    "            self.first_last_dic = {'geometry': [], 'line_name': [], 'position': []}\n",
    "            self.network = network\n",
    "\n",
    "\n",
    "        def __populate_pnt_dic(self,point: type, name_of_line: str):\n",
    "            \"\"\"\n",
    "            Make \"pnt_dic\" contain a list of all the lines connected to each point.\n",
    "            :param point:\n",
    "            :param name_of_line:\n",
    "            :return:\n",
    "            \"\"\"\n",
    "            if not point in self.pnt_dic:\n",
    "                self.pnt_dic[point] = []\n",
    "            self.pnt_dic[point].append(name_of_line)\n",
    "\n",
    "        def __send_pnts(self,temp_line: GeoSeries):\n",
    "            \"\"\"\n",
    "            # Send the first and the last points to populate_pnt_dic\n",
    "            :return:\n",
    "            \"\"\"\n",
    "            my_geom = temp_line['geometry']\n",
    "            self.__populate_pnt_dic(my_geom.coords[0], temp_line.name)\n",
    "            self.__populate_pnt_dic(my_geom.coords[-1], temp_line.name)\n",
    "\n",
    "        def get_deadend_gdf(self,delete_short:int =30)-> GeoDataFrame:\n",
    "            self.network.apply(self.__send_pnts, axis=1)\n",
    "\n",
    "            deadend_list = [item[1][0] for item in self.pnt_dic.items() if len(item[1]) == 1]\n",
    "            pnt_dead_end_0 = [item for item in self.pnt_dic.items() if len(item[1]) == 1] # Retain all the line points with deadened\n",
    "            self.pnt_dead_end = [Point(x[0]) for x in pnt_dead_end_0]\n",
    "            # Create shp file of deadened_pnts\n",
    "            geometry,line_name = 'geometry','line_name'\n",
    "            pnt_dead_end_df = GeoDataFrame(data=pnt_dead_end_0)\n",
    "            pnt_dead_end_df[geometry]= pnt_dead_end_df[0].apply(lambda x:Point(x))\n",
    "            pnt_dead_end_df[line_name] = pnt_dead_end_df[1].apply(lambda x:x[0])\n",
    "            pnt_dead_end_df.crs = project_crs\n",
    "            self.dead_end_fd = pnt_dead_end_df\n",
    "\n",
    "            if delete_short>0:\n",
    "                # If it is necessary to eliminate dead-end short segments, it is  important to delete them from the network geodataframe.\n",
    "\n",
    "                deadend_gdf =self.network.loc[deadend_list]\n",
    "                self.network.drop(index=deadend_gdf[deadend_gdf.length<delete_short].index,inplace=True)\n",
    "                return deadend_gdf[deadend_gdf.length>delete_short]\n",
    "            return self.network.loc[deadend_list]\n",
    "\n",
    "        def update_the_current_network(self,temp_network):\n",
    "            r\"\"\"\n",
    "            Update the current network in the new changes\n",
    "            :param temp_network:\n",
    "            :return:\n",
    "            \"\"\"\n",
    "            new_network_temp = self.network.drop(index=temp_network.index)\n",
    "            self.network = new_network_temp.append(temp_network)\n",
    "            self.network['length'] = self.network.length\n",
    "            self.network  = self.network[self.network['length']>1]\n",
    "class Roundabout(EnvEntity):\n",
    "    def __init__(self,network: GeoDataFrame):\n",
    "       EnvEntity.__init__(self,network)\n",
    "       self.pnt_dic ={}\n",
    "       self.centroid =self.__from_roundabout_to_centroid()\n",
    "       self.network.rename(columns={'name': 'str_name'}, inplace=True)\n",
    "    def __from_roundabout_to_centroid(self):\n",
    "        # Find the center of each roundabout\n",
    "        # create polygon around each polygon and union\n",
    "        round_about_buffer = round_about.to_crs(project_crs)['geometry'].buffer(cap_style=1, distance=10,\n",
    "                                                                                join_style=1).unary_union\n",
    "        dic_data = {'name': [], 'geometry': []}\n",
    "        if round_about_buffer.type=='Polygon': # In case we have only one polygon\n",
    "            dic_data['name'].append(0)\n",
    "            dic_data['geometry'].append(round_about_buffer.centroid)\n",
    "        else:\n",
    "            for ii, xx in enumerate(round_about_buffer):\n",
    "                dic_data['name'].append(ii)\n",
    "                dic_data['geometry'].append(xx.centroid)\n",
    "        centroid =GeoDataFrame(dic_data, crs=project_crs)\n",
    "        return centroid\n",
    "        # GeoDataFrame(dic_data,crs=project_crs).to_file(f'{path_round_about}/roundabout_union.shp')\n",
    "\n",
    "    def __first_last_pnt_of_line(self,row: GeoSeries):\n",
    "        r\"\"\"\n",
    "        It get geometry of line and fill the first_last_dic with the first and last point and the name of the line\n",
    "        :return:\n",
    "        \"\"\"\n",
    "        geo = list(row['geometry'].coords)\n",
    "        self.first_last_dic['geometry'].extend([Point(geo[0]), Point(geo[-1])])\n",
    "        self.first_last_dic['line_name'].extend([row.name] * 2)\n",
    "        self.first_last_dic['position'].extend([0, -1])\n",
    "    def deadend(self):\n",
    "        r\"\"\"\n",
    "        remove not connected line shorter than 100 meters and then return deadend_list lines and their endpoints (as another file)\n",
    "        :return:\n",
    "        \"\"\"\n",
    "        # Find the first and last points\n",
    "\n",
    "        # Get deadend_gdf\n",
    "        deadend_gdf = self.get_deadend_gdf()\n",
    "\n",
    "        # Create gdf of line points with the reference to the line they belong\n",
    "        deadend_gdf.apply(self.__first_last_pnt_of_line, axis=1)\n",
    "        first_last_gdf = GeoDataFrame(self.first_last_dic, crs=project_crs)\n",
    "\n",
    "\n",
    "        return deadend_gdf, first_last_gdf\n",
    "    def __update_geometry(self,cur,s_join):\n",
    "        r\"\"\"\n",
    "        :return:\n",
    "        \"\"\"\n",
    "        if cur['highway'] == 'footway':\n",
    "            # Don't snap footway to roundabout\n",
    "            return cur['geometry']\n",
    "        # Get only the points that are deadened\n",
    "        points_lines = [item for item in s_join[s_join['line_name'] == cur.name].iterrows()if item[1]['geometry'] in self.pnt_dead_end]\n",
    "        if len(points_lines) == 0:\n",
    "            # No roundabout nearby\n",
    "            return cur['geometry']\n",
    "        # get the line geometry to change the first and/ or last point\n",
    "        geo_cur = list(cur['geometry'].coords)\n",
    "\n",
    "        # iterate over the deadened points  near roundabout\n",
    "        for ind in range(len(points_lines)):\n",
    "            points_line = points_lines[ind]\n",
    "            geo_cur[points_line[1]['position']] = self.centroid.loc[points_line[1]['index_right']]['geometry'].coords[\n",
    "                0]\n",
    "        return LineString(geo_cur)\n",
    "    def my_spatial_join(self,deadend_lines, deadend_pnts,line_name):\n",
    "        # Spatial join between roundabout centroid to nearby dead end lines\n",
    "        # centroid = gpd.read_file(f'{path_round_about}/centroid.shp')\n",
    "        s_join = gpd.sjoin_nearest(left_df=deadend_pnts, right_df=self.centroid, how='left', max_distance=100,\n",
    "                                   distance_col='dist').dropna(subset='dist')\n",
    "\n",
    "        # Deadened lines from both lines should be removed\n",
    "        lines_to_delete_test = s_join['line_name'].unique() # all the Deadened lines close to roundabout\n",
    "\n",
    "        # All deadened lines from both lines\n",
    "        deads_both_side = self.dead_end_fd['line_name'].value_counts()\n",
    "        deads_both_side =deads_both_side[deads_both_side==2]\n",
    "\n",
    "        # Remove this lines from the database\n",
    "        lines_to_delete=deads_both_side[deads_both_side.index.isin(lines_to_delete_test)]\n",
    "\n",
    "        self.network = self.network[~((self.network[line_name].isin(lines_to_delete.index)) & (self.network.length<300))]\n",
    "        deadend_lines = deadend_lines[~((deadend_lines[line_name].isin(lines_to_delete.index)) & (deadend_lines.length<300))]\n",
    "        # Update the geometry so the roundabout will be part of the line geometry\n",
    "        change_geo = deadend_lines.copy()\n",
    "\n",
    "        change_geo['geometry'] = change_geo.apply(lambda x:self.__update_geometry(x,s_join), axis=1)\n",
    "\n",
    "        return change_geo\n",
    "# endregion"
   ],
   "metadata": {
    "collapsed": false,
    "pycharm": {
     "name": "#%%\n"
    }
   },
   "outputs": []
  },
  {
   "cell_type": "code",
   "execution_count": 9,
   "source": [
    "# starting point\n",
    "new_network = gpd.read_file(f'{smplfcton_fldr}/simp.shp').rename(columns={'is_simplif':'is_simplified'})\n"
   ],
   "metadata": {
    "collapsed": false,
    "pycharm": {
     "name": "#%%\n"
    }
   },
   "outputs": []
  },
  {
   "cell_type": "code",
   "execution_count": 10,
   "source": [
    "\n",
    "num=0\n",
    "new_gpd = new_network.copy()\n",
    "obj_intersection = Intersection(new_gpd,num)\n",
    "obj_intersection.intersection_network()\n",
    "obj_intersection.update_names(new_gpd)"
   ],
   "metadata": {
    "collapsed": false,
    "pycharm": {
     "name": "#%%\n"
    }
   },
   "outputs": []
  },
  {
   "cell_type": "code",
   "execution_count": 15,
   "source": [
    "# For test\n",
    "obj_intersection.my_network.reset_index().to_file(f'{data_folder}/intersection/all_new2.shp')\n",
    "get_five_largest_streets(obj_intersection.my_network,'name',f'{data_folder}/intersection/test_all_new2')"
   ],
   "metadata": {
    "collapsed": false,
    "pycharm": {
     "name": "#%%\n"
    }
   },
   "outputs": []
  },
  {
   "cell_type": "code",
   "execution_count": 20,
   "source": [
    "# Start point is parameter, consider to update\n",
    "start_point = True\n",
    "line_name ='line_name'\n",
    "if start_point:\n",
    "    exist_data = gpd.read_file(f'{data_folder}/intersection/all_new2.shp').reset_index(names=line_name)\n",
    "else:\n",
    "    exist_data= obj_intersection.my_network.reset_index().reset_index(names=line_name)"
   ],
   "metadata": {
    "collapsed": false,
    "pycharm": {
     "name": "#%%\n"
    }
   },
   "outputs": []
  },
  {
   "cell_type": "code",
   "execution_count": 21,
   "source": [
    "\n",
    "\n",
    "if is_junction:\n",
    "\n",
    "    exist_data= obj_intersection.my_network.reset_index().reset_index(names=line_name)\n",
    "    my_roundabout=Roundabout(exist_data)\n",
    "    deadend_lines, deadend_pnts = my_roundabout.deadend()\n",
    "\n",
    "    # update the current network\n",
    "    change_geo = my_roundabout.my_spatial_join(deadend_lines, deadend_pnts,line_name)\n",
    "    my_roundabout.update_the_current_network(change_geo)\n",
    "\n",
    "    my_roundabout.network.drop_duplicates(subset=line_name,inplace=True)\n",
    "    # Improve roundabout\n",
    "    # First buffer around centroid\n",
    "    centr_name= 'centr_name'\n",
    "    buffer_around_centroid= my_roundabout.centroid['geometry'].buffer(cap_style=1, distance=30)\n",
    "\n",
    "    # s_join between buffer to lines (reset index to retain the original centroid name which can apper more than one in the results). always stay with data you need and with understandable name\n",
    "    roundabout_with_lines =gpd.sjoin(left_df=GeoDataFrame(geometry=buffer_around_centroid,crs=project_crs).reset_index(),right_df=my_roundabout.network[['geometry',line_name]]).drop_duplicates(subset=['index',line_name]).rename(columns={\"index\":centr_name})[['geometry',line_name,centr_name]]\n",
    "\n",
    "    # To facilitate the searching process\n",
    "    my_roundabout.network.set_index(line_name,inplace=True)\n",
    "    # To facilitate easy access to point centroid geometry data, it is advisable to store the information in an object that provides efficient retrieval.\n",
    "    pnt_centroid_temp = my_roundabout.centroid['geometry']\n",
    "    #  Group the data by centroid\n",
    "    for center_line in roundabout_with_lines.groupby(centr_name):\n",
    "        #  Iterate over each group after performing a groupby() operation\n",
    "        for center in center_line[1].itertuples():\n",
    "            # Find the line that connects to the current centroid and obtain its vertices\n",
    "            line_to_test = my_roundabout.network.loc[center[2]]\n",
    "            vertices_line = list(line_to_test['geometry'].coords)\n",
    "            pnt_test = [vertices_line[0],vertices_line[-1]]\n",
    "            # To determine if the current line is already connected to the current centroid,.\n",
    "            is_connected = my_roundabout.centroid[my_roundabout.centroid['geometry'].isin([Point(pnt_test[0]),Point(pnt_test[-1])])]\n",
    "            if len(is_connected)>0 and center[3] in is_connected['name']:\n",
    "                continue\n",
    "\n",
    "            if len(vertices_line)==2:\n",
    "                vertices_line.insert(1, pnt_centroid_temp[center[3]])\n",
    "            else:\n",
    "                my_list = [pnt_centroid_temp[center[3]].distance(Point(temp)) for temp in vertices_line]\n",
    "                # Find the minimum index\n",
    "                min_index = min(range(len(my_list)), key=my_list.__getitem__)\n",
    "                if min_index ==0:\n",
    "                    vertices_line.insert(0,pnt_centroid_temp[center[3]])\n",
    "                elif min_index == len(my_list)-1:\n",
    "                    vertices_line.append(pnt_centroid_temp[center[3]])\n",
    "                else:\n",
    "                    vertices_line[min_index] = pnt_centroid_temp[center[3]]\n",
    "            new_geo = LineString(vertices_line)\n",
    "            my_roundabout.network.at[center[2],'geometry'] = new_geo\n",
    "\n",
    "    new_network1 = my_roundabout.network.reset_index()\n",
    "    new_network1.drop(columns='index',inplace=True)\n",
    "\n",
    "    # Function to remove self-intersecting LineString geometries\n",
    "    def remove_self_intersecting(line):\n",
    "        return line.is_simple\n",
    "\n",
    "    # Apply the function to filter out self-intersecting geometries\n",
    "    new_network2= new_network1[new_network1['geometry'].apply(remove_self_intersecting)]\n",
    "    new_network_test= new_network1[~new_network1['geometry'].apply(remove_self_intersecting)]\n",
    "else:\n",
    "    new_network2=  obj_intersection.my_network.reset_index()\n",
    "\n",
    "new_network2.reset_index().to_file(f'{data_folder}/ra_network.shp')\n",
    "new_network_test.to_file(f'{data_folder}/new_network_test.shp')\n"
   ],
   "metadata": {
    "collapsed": false,
    "pycharm": {
     "name": "#%%\n"
    }
   },
   "outputs": []
  },
  {
   "cell_type": "code",
   "execution_count": null,
   "source": [
    "extend_lines_f= extend_lines(new_network2,100)\n",
    "extend_lines_f['length'] = extend_lines_f.length\n",
    "new_gpd = extend_lines_f.copy()\n",
    "# extend_lines_f.to_file(f'{data_folder}/extend_network.shp')\n",
    "\n",
    "obj_intersection_1 = Intersection(extend_lines_f.copy(),1)\n",
    "obj_intersection_1.intersection_network()\n",
    "obj_intersection_1.my_network.rename(columns={'str_name':'name'},inplace=True) # 'str_name' become 'str to be compatible with other previous networks\n",
    "new_gpd.rename(columns={'str_name':'name'},inplace=True)\n",
    "obj_intersection_1.update_names(org_gpd=new_gpd)\n",
    "\n",
    "# Clear short segments\n",
    "final2 = EnvEntity(obj_intersection_1.my_network.reset_index())\n",
    "final2.update_the_current_network(final2.get_deadend_gdf(delete_short=100))\n",
    "final2.network.drop(columns='bearing',inplace=True)\n",
    "final2.network.to_file(f'{data_folder}/final_test.shp')"
   ],
   "metadata": {
    "collapsed": false,
    "pycharm": {
     "name": "#%%\n"
    }
   },
   "outputs": []
  },
  {
   "cell_type": "code",
   "execution_count": null,
   "source": [
    "# Aggregation\n",
    "intersection_agg_folder = f'{data_folder}/intersection_agg/'\n",
    "network = gpd.read_file(f'{data_folder}/final_test.shp')\n",
    "\n",
    "# 1. Get the first/start of each line\n",
    "# Extract unique start and end points from all LineStrings\n",
    "geometry= 'geometry'\n",
    "index_right= 'index_right'\n",
    "all_points = network[geometry].apply(lambda line: [Point(line.coords[0]), Point(line.coords[-1])]).explode()\n",
    "# # Create a GeoSeries of unique points\n",
    "unique_points = GeoDataFrame(geometry=gpd.GeoSeries(all_points).unique(),crs=project_crs)\n",
    "# save data\n",
    "unique_points.to_file(f'{intersection_agg_folder}unique_points.shp')\n",
    "# 2. Make sure I have the name of the lines associated with these lines\n",
    "pnts_line_name = unique_points.sjoin(network)[[index_right,geometry]].reset_index().dissolve(by='index',aggfunc=lambda x: x.tolist())\n",
    "pnts_line_name['num_of_lines']= pnts_line_name[index_right].apply(len) # count the number of lines for each point\n",
    "\n",
    "# 3. Use DBSCAN with 20 meters threshold\n",
    "# Extract coordinates for DBSCAN\n",
    "coordinates = pnts_line_name.geometry.apply(lambda point: (point.x, point.y)).tolist()\n",
    "dbscan = DBSCAN(eps=40, min_samples=2)\n",
    "pnts_line_name['group'] = dbscan.fit_predict(coordinates)\n",
    "lines_to_update = pnts_line_name[pnts_line_name['group']>-1]\n",
    "\n",
    "# if you want to save the files\n",
    "def save_points_file(data,path):\n",
    "    \"\"\"\n",
    "    The function get a data, arrange columns, convert list to string and export  it into a shpfile\n",
    "    :param data:\n",
    "    :param path:\n",
    "    :return:\n",
    "    \"\"\"\n",
    "    col_of_lists_as_str= 'col_of_lists_as_str'\n",
    "    data[col_of_lists_as_str] = data[index_right].apply(str)\n",
    "    data.drop(columns= [index_right]).to_file(path)\n",
    "    data.drop(columns= [col_of_lists_as_str],inplace=True)\n",
    "save_points_file(pnts_line_name,f'{intersection_agg_folder}pnts_line_name.shp')\n",
    "save_points_file(lines_to_update,f'{intersection_agg_folder}lines_to_update.shp')\n",
    "\n",
    "# 4.1.Find the point with the max number of connected lines, if it is one use it otherwise uses the average\n",
    "# Find the maximum 'num' value for each group\n",
    "num = 'num_of_lines'\n",
    "group_name  = 'group'\n",
    "new_geometry= 'new_geometry'\n",
    "max_values_per_group =lines_to_update.groupby('group')['num_of_lines'].max()\n",
    "# Filter rows with the maximum 'num' value for each group\n",
    "result_gdf = lines_to_update[lines_to_update.set_index([group_name, num]).index.isin(max_values_per_group.items())]\n",
    "\n",
    "# Custom aggregation function to calculate the average point for each group\n",
    "def calculate_average_point(group):\n",
    "    x_mean = group.x.mean()\n",
    "    y_mean = group.y.mean()\n",
    "    return Point(x_mean, y_mean)\n",
    "\n",
    "# Apply the custom aggregation function to calculate average points per group\n",
    "lines_to_update2= lines_to_update.set_index(group_name)\n",
    "lines_to_update2['new_geometry'] = result_gdf.groupby(group_name )[geometry].apply(calculate_average_point)\n",
    "\n",
    "\n",
    "# 4.2 Among whom are updated remove every line the start and last point are the same\n",
    "# Get all the lines going to be deleted\n",
    "lines_to_delete =[]\n",
    "\n",
    "def update_lines_to_delete(row):\n",
    "    # explode the lines names within each row list to separate rows\n",
    "    lines_to_update_tmep = row[index_right].explode()\n",
    "\n",
    "    # Identify rows with duplicate values\n",
    "    lines_to_delete.extend(lines_to_update_tmep[lines_to_update_tmep.duplicated()].tolist())\n",
    "\n",
    "lines_to_update2.groupby(level=group_name).apply(update_lines_to_delete)\n",
    "\n",
    "# remove lines their geometry not going to change\n",
    "lines_to_update3= lines_to_update2[lines_to_update2[geometry]!=lines_to_update2[new_geometry]]\n",
    "\n",
    "\n",
    "# Save files\n",
    "lines_to_update2['new_geometry'].to_file(f'{intersection_agg_folder}new_geometry.shp')\n",
    "lines_to_update3['new_geometry'].to_file(f'{intersection_agg_folder}new_geometry_1.shp')\n",
    "# For test only\n",
    "network_delete = network[network.index.isin(lines_to_delete)]\n",
    "network_delete.reset_index().to_file(f'{intersection_agg_folder}network_delete.shp')\n",
    "\n",
    "# 4.3 Change the point of each line with new point\n",
    "network_new = network[~network.index.isin(lines_to_delete)]\n",
    "def update_network_with_aggregated_point(group):\n",
    "    lines_in_group = group.explode(index_right)\n",
    "\n",
    "    def update_one_line(points_data):\n",
    "        if points_data.name not in lines_to_delete:\n",
    "            updated_line_geo =network_new.loc[points_data.name]\n",
    "            line_coords = updated_line_geo.geometry.coords\n",
    "            if Point(line_coords[0])==points_data.geometry:\n",
    "                network_new.at[points_data.name,geometry] = LineString([points_data[new_geometry]] + line_coords[1:])\n",
    "            elif Point(line_coords[-1])==points_data.geometry:\n",
    "                network_new.at[points_data.name,geometry] = LineString(line_coords[:-1]+[points_data[new_geometry]])\n",
    "            else:\n",
    "                print(points_data)\n",
    "                print(lines_in_group)\n",
    "    lines_in_group.set_index(index_right).apply(update_one_line,axis=1)\n",
    "\n",
    "lines_to_update3.groupby(level=group_name).apply(update_network_with_aggregated_point)\n",
    "network_new.to_file(f'{intersection_agg_folder}network_new.shp')"
   ],
   "metadata": {
    "collapsed": false,
    "pycharm": {
     "name": "#%%\n"
    }
   },
   "outputs": []
  },
  {
   "cell_type": "code",
   "execution_count": 23,
   "source": [
    "# For test\n",
    "get_five_largest_streets(final2.network,'name',f'{data_folder}/delete_2_nodes/test_all_new')"
   ],
   "metadata": {
    "collapsed": false,
    "pycharm": {
     "name": "#%%\n"
    }
   },
   "outputs": []
  },
  {
   "cell_type": "markdown",
   "source": [
    "\n"
   ],
   "metadata": {
    "collapsed": false,
    "pycharm": {
     "name": "#%% md\n"
    }
   }
  }
 ],
 "metadata": {
  "kernelspec": {
   "display_name": "Python 3 (ipykernel)",
   "language": "python",
   "name": "python3"
  },
  "language_info": {
   "codemirror_mode": {
    "name": "ipython",
    "version": 3
   },
   "file_extension": ".py",
   "mimetype": "text/x-python",
   "name": "python",
   "nbconvert_exporter": "python",
   "pygments_lexer": "ipython3",
   "version": "3.10.6"
  }
 },
 "nbformat": 4,
 "nbformat_minor": 1
}
