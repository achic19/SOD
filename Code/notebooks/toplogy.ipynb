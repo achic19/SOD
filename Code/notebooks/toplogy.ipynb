{
 "cells": [
  {
   "metadata": {
    "ExecuteTime": {
     "end_time": "2024-07-17T06:28:10.834895Z",
     "start_time": "2024-07-17T06:28:00.704217Z"
    }
   },
   "cell_type": "code",
   "source": [
    "from Code.general_functions import *\n",
    "place = 'Turin_Italy'\n",
    "my_preprocessing = Preprocessing(place,is_test=True)\n",
    "data_folder, data_test = my_preprocessing.create_folder()"
   ],
   "id": "b6e699b3b6be0534",
   "execution_count": 1,
   "outputs": []
  },
  {
   "metadata": {
    "ExecuteTime": {
     "end_time": "2024-07-17T06:25:12.452876Z",
     "start_time": "2024-07-17T06:25:12.443205Z"
    }
   },
   "cell_type": "code",
   "source": "data_test",
   "id": "cbd20c27aa39c5db",
   "execution_count": 2,
   "outputs": []
  },
  {
   "cell_type": "code",
   "id": "42d110f8087d67a0",
   "metadata": {
    "collapsed": true,
    "ExecuteTime": {
     "end_time": "2024-07-17T06:31:15.659637Z",
     "start_time": "2024-07-17T06:28:41.878341Z"
    }
   },
   "source": [
    "\n",
    "data_test_topology = f'{data_test}/topology'\n",
    "new_network  = gpd.read_file(f'{data_folder}/simp.shp')\n",
    "num = 0\n",
    "new_gpd = new_network.copy()\n",
    "obj_intersection = Intersection(new_gpd, num)\n",
    "obj_intersection.my_network.to_file(f'{data_test_topology}/topology_0__before.shp')\n",
    "obj_intersection.intersection_network()\n",
    "obj_intersection.my_network.to_file(f'{data_test_topology}/topology_0_intersection.shp')\n",
    "obj_intersection.update_names(new_gpd)\n",
    "obj_intersection.my_network.to_file(f'{data_test_topology}/topology_0.shp')"
   ],
   "execution_count": 2,
   "outputs": []
  },
  {
   "metadata": {
    "ExecuteTime": {
     "end_time": "2024-07-17T06:40:05.627524Z",
     "start_time": "2024-07-17T06:39:51.584830Z"
    }
   },
   "cell_type": "code",
   "source": [
    "my_gdf =  gpd.read_file(os.path.join(data_folder, 'osm_data.gpkg'), layer='edges')\n",
    "round_about = my_gdf[my_gdf['junction'].isin(['roundabout', 'circular'])]\n",
    "round_about"
   ],
   "id": "6957d5d744675ece",
   "execution_count": 3,
   "outputs": []
  },
  {
   "metadata": {},
   "cell_type": "code",
   "execution_count": null,
   "source": [
    "line_name = 'line_name'\n",
    "if my_preprocessing.is_junction:\n",
    "    print('Update roundabout')\n",
    "    exist_data = obj_intersection.my_network.reset_index().reset_index(names=line_name)\n",
    "\n",
    "    my_roundabout = Roundabout(exist_data, round_about)\n",
    "    deadend_lines, deadend_pnts = my_roundabout.deadend()\n",
    "\n",
    "    # update the current network\n",
    "    change_geo = my_roundabout.my_spatial_join(deadend_lines, deadend_pnts, line_name)\n",
    "    my_roundabout.update_the_current_network(change_geo)\n",
    "\n",
    "    my_roundabout.network.drop_duplicates(subset=line_name, inplace=True)\n",
    "    # Improve roundabout\n",
    "    # First buffer around centroid\n",
    "    centr_name = 'centr_name'\n",
    "    buffer_around_centroid = my_roundabout.centroid['geometry'].buffer(cap_style=1, distance=30)\n",
    "\n",
    "    # s_join between buffer to lines (reset index to retain the original centroid name which can apper more than one in the results). always stay with data you need and with understandable name\n",
    "    roundabout_with_lines = \\\n",
    "        gpd.sjoin(left_df=GeoDataFrame(geometry=buffer_around_centroid, crs=project_crs).reset_index(),\n",
    "                  right_df=my_roundabout.network[['geometry', line_name]]).drop_duplicates(\n",
    "            subset=['index', line_name]).rename(columns={\"index\": centr_name})[['geometry', line_name, centr_name]]\n",
    "\n",
    "    # To facilitate the searching process\n",
    "    my_roundabout.network.set_index(line_name, inplace=True)\n",
    "    # To facilitate easy access to point centroid geometry data, it is advisable to store the information in an object that provides efficient retrieval.\n",
    "    pnt_centroid_temp = my_roundabout.centroid['geometry']\n",
    "    #  Group the data by centroid\n",
    "    for center_line in roundabout_with_lines.groupby(centr_name):\n",
    "        #  Iterate over each group after performing a groupby() operation\n",
    "        for center in center_line[1].itertuples():\n",
    "            # Find the line that connects to the current centroid and obtain its vertices\n",
    "            line_to_test = my_roundabout.network.loc[center[2]]\n",
    "            vertices_line = list(line_to_test['geometry'].coords)\n",
    "            pnt_test = [vertices_line[0], vertices_line[-1]]\n",
    "            # To determine if the current line is already connected to the current centroid.\n",
    "            is_connected = my_roundabout.centroid[\n",
    "                my_roundabout.centroid['geometry'].isin([Point(pnt_test[0]), Point(pnt_test[-1])])]\n",
    "            if len(is_connected) > 0 and center[3] in is_connected['name']:\n",
    "                continue\n",
    "\n",
    "            if len(vertices_line) == 2:\n",
    "                vertices_line.insert(1, pnt_centroid_temp[center[3]])\n",
    "            else:\n",
    "                my_list = [pnt_centroid_temp[center[3]].distance(Point(temp)) for temp in vertices_line]\n",
    "                # Find the minimum index\n",
    "                min_index = min(range(len(my_list)), key=my_list.__getitem__)\n",
    "                if min_index == 0:\n",
    "                    vertices_line.insert(0, pnt_centroid_temp[center[3]])\n",
    "                elif min_index == len(my_list) - 1:\n",
    "                    vertices_line.append(pnt_centroid_temp[center[3]])\n",
    "                else:\n",
    "                    vertices_line[min_index] = pnt_centroid_temp[center[3]]\n",
    "            new_geo = LineString(vertices_line)\n",
    "            my_roundabout.network.at[center[2], 'geometry'] = new_geo\n",
    "\n",
    "    new_network1 = my_roundabout.network.reset_index()\n",
    "    new_network1.drop(columns='index', inplace=True)\n",
    "\n",
    "\n",
    "    # Function to remove self-intersecting LineString geometries\n",
    "    def remove_self_intersecting(line):\n",
    "        return line.is_simple\n",
    "\n",
    "\n",
    "    # Apply the function to filter out self-intersecting geometries\n",
    "    new_network2 = new_network1[new_network1['geometry'].apply(remove_self_intersecting)]\n",
    "else:\n",
    "    new_network2 = obj_intersection.my_network.reset_index()\n"
   ],
   "id": "7dda208b5a7a5143",
   "outputs": []
  },
  {
   "metadata": {},
   "cell_type": "code",
   "execution_count": 5,
   "source": [
    "\n",
    "extend_lines_f = extend_lines(new_network2, 100)\n",
    "extend_lines_f['length'] = extend_lines_f.length\n",
    "obj_intersection_1 = Intersection(extend_lines_f.copy(), 1)\n",
    "obj_intersection_1.intersection_network()\n",
    "obj_intersection_1.my_network.rename(columns={'str_name': 'name'},\n",
    "                                     inplace=True)  # 'str_name' become 'str to be compatible with other previous networks\n",
    "obj_intersection_1.update_names(org_gpd=extend_lines_f.copy().rename(columns={'str_name': 'name'}))\n",
    "\n",
    "\n",
    "\n",
    "# Clear short segments\n",
    "final2 = EnvEntity(obj_intersection_1.my_network.reset_index())\n",
    "final2.update_the_current_network(final2.get_deadend_gdf(delete_short=100))\n",
    "final2.network.drop(columns=[line_name, 'bearing']).to_file(f'{data_test}/network_test.shp')\n"
   ],
   "id": "5246074466919583",
   "outputs": []
  },
  {
   "metadata": {
    "ExecuteTime": {
     "end_time": "2024-06-05T13:55:11.591646Z",
     "start_time": "2024-06-05T13:55:11.261454Z"
    }
   },
   "cell_type": "code",
   "source": "",
   "id": "12056debcb16b4cf",
   "execution_count": 17,
   "outputs": []
  },
  {
   "metadata": {},
   "cell_type": "code",
   "execution_count": 5,
   "source": "",
   "id": "initial_id",
   "outputs": []
  },
  {
   "metadata": {},
   "cell_type": "code",
   "source": "",
   "id": "dc77b4fabd3c4db",
   "execution_count": null,
   "outputs": []
  }
 ],
 "metadata": {
  "kernelspec": {
   "display_name": "Python 3",
   "language": "python",
   "name": "python3"
  },
  "language_info": {
   "codemirror_mode": {
    "name": "ipython",
    "version": 2
   },
   "file_extension": ".py",
   "mimetype": "text/x-python",
   "name": "python",
   "nbconvert_exporter": "python",
   "pygments_lexer": "ipython2",
   "version": "2.7.6"
  }
 },
 "nbformat": 4,
 "nbformat_minor": 5
}
