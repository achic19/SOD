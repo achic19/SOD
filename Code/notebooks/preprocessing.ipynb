{
 "cells": [
  {
   "metadata": {
    "ExecuteTime": {
     "end_time": "2024-06-05T10:09:01.308353Z",
     "start_time": "2024-06-05T10:08:53.051778Z"
    }
   },
   "cell_type": "code",
   "source": [
    "from general_functions import *\n",
    "place = 'Tel Aviv'\n",
    "my_preprocessing = Preprocessing(place,is_test=True)\n",
    "data_folder, data_test = my_preprocessing.create_folder()"
   ],
   "id": "b1bebe16847e51f3",
   "execution_count": 2,
   "outputs": []
  },
  {
   "metadata": {
    "ExecuteTime": {
     "end_time": "2024-06-05T10:16:07.661048Z",
     "start_time": "2024-06-05T10:15:54.070742Z"
    }
   },
   "cell_type": "code",
   "source": [
    "df_pro,roundabout = my_preprocessing.first_filtering()\n",
    "roundabout.to_file(f'{data_test}/preprocessing/roundabout.shp')"
   ],
   "id": "3df99b2bc7355e45",
   "execution_count": 4,
   "outputs": []
  },
  {
   "metadata": {
    "ExecuteTime": {
     "end_time": "2024-05-27T07:17:44.896778Z",
     "start_time": "2024-05-27T07:17:38.631992Z"
    }
   },
   "cell_type": "code",
   "source": "#",
   "id": "1eba9e28808d70fb",
   "execution_count": 8,
   "outputs": []
  }
 ],
 "metadata": {
  "kernelspec": {
   "display_name": "Python 3",
   "language": "python",
   "name": "python3"
  },
  "language_info": {
   "codemirror_mode": {
    "name": "ipython",
    "version": 2
   },
   "file_extension": ".py",
   "mimetype": "text/x-python",
   "name": "python",
   "nbconvert_exporter": "python",
   "pygments_lexer": "ipython2",
   "version": "2.7.6"
  }
 },
 "nbformat": 4,
 "nbformat_minor": 5
}
