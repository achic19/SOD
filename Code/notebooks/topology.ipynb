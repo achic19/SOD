{
 "cells": [
  {
   "cell_type": "code",
   "execution_count": 1,
   "outputs": [],
   "source": [
    "## Run when initialise the code\n",
    "import os\n",
    "import geopandas as gpd\n",
    "import osmnx as ox\n",
    "import pickle\n",
    "project_crs = 'epsg:3857'\n",
    "import warnings\n",
    "warnings.filterwarnings(action='ignore')\n",
    "pjr_loc = os.path.dirname(os.getcwd())\n"
   ],
   "metadata": {
    "collapsed": false,
    "pycharm": {
     "name": "#%%\n"
    }
   }
  },
  {
   "cell_type": "code",
   "execution_count": 2,
   "outputs": [
    {
     "name": "stdout",
     "output_type": "stream",
     "text": [
      "Turin\n"
     ]
    }
   ],
   "source": [
    "\n",
    "## Choose locations and create folders if necessary\n",
    "\n",
    "place = 'Turin'\n",
    "print(place)\n",
    "data_folder = f'{pjr_loc}/places/{place.replace(\",\", \"_\").replace(\" \", \"_\")}_test'\n",
    "os.makedirs(f'{data_folder}/delete_2_nodes', exist_ok=True)\n",
    "os.makedirs(f'{data_folder}/split_tp_intersection', exist_ok=True)\n",
    "if place == 'Tel Aviv':\n",
    "    useful_tags_path = ['name:en', 'highway', 'length', 'bearing', 'tunnel', 'junction']\n",
    "    ox.utils.config(useful_tags_way=useful_tags_path)\n"
   ],
   "metadata": {
    "collapsed": false,
    "pycharm": {
     "name": "#%%\n"
    }
   }
  },
  {
   "cell_type": "code",
   "execution_count": null,
   "outputs": [],
   "source": [],
   "metadata": {
    "collapsed": false,
    "pycharm": {
     "name": "#%%\n"
    }
   }
  },
  {
   "cell_type": "code",
   "execution_count": null,
   "metadata": {
    "collapsed": true,
    "pycharm": {
     "name": "#%%\n"
    }
   },
   "outputs": [],
   "source": [
    "# test intersection - update names\n",
    "# Start from here\n",
    "with open(f'{data_folder}/intersection/network_2.pkl', \"rb\") as f:\n",
    "    df1= pickle.load(f)\n",
    "with open(f'{data_folder}/intersection/extend_lines_f.pkl', \"rb\") as f:\n",
    "    org_gpd= pickle.load(f)\n",
    "\n",
    "# Split df1 into two GeoDataFrames: df3 (with names) and df4 (without names)\n",
    "df3 = df1[df1['name'].notna()]\n",
    "# df3.to_file(f'{data_folder}/delete_2_nodes/with_name.shp')\n",
    "df4 = df1[df1['name'].isna()]\n",
    "# df4.reset_index().to_file(f'{data_folder}/delete_2_nodes/no_name_init.shp')\n",
    "\n",
    "# use only one polyline from the original dataframe for name even if the algorithm may found more\n",
    "old_index  ='old_index'\n",
    "\n",
    "df = gpd.sjoin(df4, org_gpd).reset_index(names='old_index')\n",
    "# Create a new dictionary to store the updated data.\n",
    "dic_str_data = {}\n",
    "# Define the relevant columns to store\n",
    "rel_col  =[col for col in df.columns if col.endswith(\"right\")]+['geometry']\n",
    "rel_col.remove('index_right')\n",
    "\n",
    "# nore code should be added here to update name"
   ]
  },
  {
   "cell_type": "markdown",
   "source": [
    "Code to consolidate nearest intersections\n",
    "1. Get the first/start of each line\n",
    "2. Make sure I have the name of the lines associated with these lines\n",
    "3. Use DBSCAN with 20 meters threshold\n",
    "4. For each group\n",
    "   4.1.dffds\n",
    "   4.2 fj;ldsfads\n",
    "\n"
   ],
   "metadata": {
    "collapsed": false,
    "pycharm": {
     "name": "#%% md\n"
    }
   }
  }
 ],
 "metadata": {
  "kernelspec": {
   "display_name": "Python 3",
   "language": "python",
   "name": "python3"
  },
  "language_info": {
   "codemirror_mode": {
    "name": "ipython",
    "version": 2
   },
   "file_extension": ".py",
   "mimetype": "text/x-python",
   "name": "python",
   "nbconvert_exporter": "python",
   "pygments_lexer": "ipython2",
   "version": "2.7.6"
  }
 },
 "nbformat": 4,
 "nbformat_minor": 0
}