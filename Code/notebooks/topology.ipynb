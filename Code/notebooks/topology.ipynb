{
 "cells": [
  {
   "cell_type": "code",
   "execution_count": 72,
   "outputs": [],
   "source": [
    "## Run when initialise the code\n",
    "import os\n",
    "import geopandas as gpd\n",
    "import osmnx as ox\n",
    "import pickle\n",
    "project_crs = 'epsg:3857'\n",
    "import warnings\n",
    "warnings.filterwarnings(action='ignore')\n",
    "pjr_loc = os.path.dirname(os.getcwd())\n",
    "from shapely.geometry import  Point, LineString, MultiPolygon, MultiPoint\n",
    "from momepy import remove_false_nodes\n",
    "from geopandas import GeoDataFrame, GeoSeries\n",
    "from tqdm import tqdm\n",
    "from sklearn.cluster import DBSCAN\n",
    "import time"
   ],
   "metadata": {
    "collapsed": false,
    "pycharm": {
     "name": "#%%\n"
    }
   }
  },
  {
   "cell_type": "code",
   "execution_count": 73,
   "outputs": [
    {
     "name": "stdout",
     "output_type": "stream",
     "text": [
      "Turin\n"
     ]
    }
   ],
   "source": [
    "\n",
    "\n",
    "## Choose locations and create folders if necessary\n",
    "\n",
    "place = 'Turin'\n",
    "print(place)\n",
    "data_folder = f'{pjr_loc}/places/{place.replace(\",\", \"_\").replace(\" \", \"_\")}_test'\n",
    "os.makedirs(f'{data_folder}/delete_2_nodes', exist_ok=True)\n",
    "os.makedirs(f'{data_folder}/split_tp_intersection', exist_ok=True)\n",
    "if place == 'Tel Aviv':\n",
    "    useful_tags_path = ['name:en', 'highway', 'length', 'bearing', 'tunnel', 'junction']\n",
    "    ox.utils.config(useful_tags_way=useful_tags_path)\n"
   ],
   "metadata": {
    "collapsed": false,
    "pycharm": {
     "name": "#%%\n"
    }
   }
  },
  {
   "cell_type": "code",
   "execution_count": 74,
   "outputs": [],
   "source": [
    "## Run when initialise the code\n",
    "# find and store roundabout\n",
    "my_gdf = gpd.read_file(f'{data_folder}/osm_data.gpkg',layer = 'edges')# Identify roundabout elements, if any exist, and store them in a separate DataFrame.\n",
    "if place =='Tel Aviv':\n",
    "    my_gdf.rename(columns={'name:en':'name'}, inplace=True)\n",
    "is_junction= True if 'junction' in my_gdf.columns else False\n",
    "if is_junction:\n",
    "    round_about = my_gdf[my_gdf['junction'].isin(['roundabout', 'circular'])]\n",
    "    my_gdf= my_gdf[~((my_gdf['junction'] == 'roundabout') | (my_gdf['junction'] == 'circular'))]"
   ],
   "metadata": {
    "collapsed": false,
    "pycharm": {
     "name": "#%%\n"
    }
   }
  },
  {
   "cell_type": "code",
   "execution_count": 78,
   "outputs": [],
   "source": [
    "\n",
    "# region\n",
    "# Classes to be employed during the execution of this code.\n",
    "#Intersection\n",
    "#Split in intersection\n",
    "class Intersection:\n",
    "    def __init__(self,network:GeoDataFrame,number:int):\n",
    "        \"\"\"\n",
    "\n",
    "        :param network:\n",
    "        :param number: give a unique name to the files created during the process (this class will be use again in this code)\n",
    "        \"\"\"\n",
    "        self.my_network = network\n",
    "        self.inter_pnt_dic = {'geometry':[],'name':[]}\n",
    "        self.lines_to_delete =[]\n",
    "        self.num = number\n",
    "\n",
    "    def intersection_network(self):\n",
    "        \"\"\"\n",
    "        This function fix topology (add or remove vertices) where needed\n",
    "        :return:\n",
    "        \"\"\"\n",
    "        # First remove_false_nodes\n",
    "        self.my_network = remove_false_nodes(self.my_network).reset_index(drop=True)\n",
    "        self.my_network.to_file(f'{data_folder}/delete_2_nodes/delete_false_intersection.shp')\n",
    "        # Create buffer around each element\n",
    "        buffer_around_lines= self.my_network['geometry'].buffer(cap_style=3, distance=1, join_style=3)\n",
    "\n",
    "\n",
    "        # s_join between buffer to lines\n",
    "        s_join_0 =gpd.sjoin(left_df=GeoDataFrame(geometry=buffer_around_lines,crs=project_crs),right_df=self.my_network)\n",
    "\n",
    "        # delete lines belong to the buffer\n",
    "        s_join = s_join_0[s_join_0.index!=s_join_0['index_right']]\n",
    "\n",
    "\n",
    "        # Find new intersections that are not at the beginning or end of the line\n",
    "        for_time =len(s_join)\n",
    "        with tqdm(total=for_time) as pbar:\n",
    "            s_join.apply(lambda x: self.find_intersection_points(x,pbar), axis=1)\n",
    "        if len(self.inter_pnt_dic)==0:\n",
    "            return\n",
    "        inter_pnt_gdf = GeoDataFrame(self.inter_pnt_dic,crs=project_crs)\n",
    "        inter_pnt_gdf.to_file(f'{data_folder}/delete_2_nodes/inter_pnt_dic.shp')\n",
    "        # Split string line by points\n",
    "        segments = {'geometry':[],'org_id':[]}\n",
    "        # Groupby points name (which is the line they should split)\n",
    "        my_groups =  inter_pnt_gdf.groupby('name')\n",
    "        for_time = len(my_groups)\n",
    "        with  tqdm(total=for_time) as pbar:\n",
    "            for group_pnts in my_groups:\n",
    "                pbar.update(1)\n",
    "                points  = group_pnts[1]\n",
    "                points['is_split'] = True\n",
    "                # if group_pnts[0]==588:\n",
    "                #     print(points)\n",
    "                # get the line to split by comparing the name\n",
    "                row = self.my_network.loc[group_pnts[0]]\n",
    "                current = list(row.geometry.coords)\n",
    "                points_line = [Point(x) for x in current]\n",
    "                points_line_gdf = GeoDataFrame(geometry=points_line,crs=project_crs)\n",
    "                points_line_gdf['is_split'] = False\n",
    "\n",
    "                # append all the points together (line points and split points)\n",
    "                line_all_pnts = points_line_gdf.append(points)\n",
    "\n",
    "                # Find the distance of each point form the begining of the line on the line.\n",
    "                line_all_pnts['dis_from_the_start'] = line_all_pnts['geometry'].apply(lambda x:row.geometry.project(x))\n",
    "                line_all_pnts.sort_values('dis_from_the_start',inplace=True)\n",
    "\n",
    "                # split the line\n",
    "                seg =[]\n",
    "                for point in line_all_pnts.iterrows():\n",
    "                    prop = point[1]\n",
    "                    seg.append(prop['geometry'])\n",
    "                    if prop['is_split']:\n",
    "                        segments['geometry'].append(LineString(seg))\n",
    "                        segments['org_id'].append(row.name)\n",
    "                        seg = [prop['geometry']]\n",
    "                # if the split point is the last one, you don't need to create new segment\n",
    "                if len(seg)>1:\n",
    "                    segments['geometry'].append(LineString(seg))\n",
    "                    segments['org_id'].append(row.name)\n",
    "        network_split = GeoDataFrame(data=segments,crs=project_crs)\n",
    "        network_split.to_file(f'{data_folder}/delete_2_nodes/segments.shp')\n",
    "        cols_no_geometry = self.my_network.columns[:-1]\n",
    "        network_split_final = network_split.set_index('org_id')\n",
    "        network_split_final[cols_no_geometry] =self.my_network[cols_no_geometry]\n",
    "        # remove old and redundant line from our network and update with new one\n",
    "        network_split =self.my_network.drop(index=network_split_final.index.unique()).append(network_split_final)\n",
    "        network_split['length'] = network_split.length\n",
    "        self.my_network = network_split\n",
    "        self.my_network.reset_index(drop=True,inplace= True)\n",
    "        self.my_network.to_file(f'{data_folder}/delete_2_nodes/intersection_network.shp')\n",
    "\n",
    "    def find_intersection_points(self,row,pbar):\n",
    "        r\"\"\"\n",
    "        find the intersection points between the two lines\n",
    "        :param row:\n",
    "        :return:\n",
    "        \"\"\"\n",
    "        try:\n",
    "            pbar.update(1)\n",
    "            line_1 = self.my_network.loc[row.name]\n",
    "            line_2 =  self.my_network.loc[row['index_right']]\n",
    "            pnt = line_1.geometry.intersection(line_2.geometry)\n",
    "            # If there are more than one intersection between two lines, one of the lines should be deleted.\n",
    "            if isinstance(pnt,LineString): # The intersection is only between the buffer and the point ToDo - when the situation is a overlay line\n",
    "                return\n",
    "            if isinstance(pnt,MultiPoint):\n",
    "                for single_pnt in pnt:\n",
    "                    self.inter_pnt_dic['geometry'].append(single_pnt)\n",
    "                    self.inter_pnt_dic['name'].append(row.name)\n",
    "                return\n",
    "            # If it is first or end continue OR if there is no intersection between the two lines\n",
    "            if len(pnt.coords)==0 or pnt.coords[0]==line_1.geometry.coords[0] or pnt.coords[0]==line_1.geometry.coords[-1]:\n",
    "                return\n",
    "            self.inter_pnt_dic['geometry'].append(pnt)\n",
    "            self.inter_pnt_dic['name'].append(row.name)\n",
    "        except:\n",
    "            print(f\"{row.name},{row['index_right']}:{pnt}\")\n",
    "    def update_names(self, org_gpd:GeoDataFrame):\n",
    "        \"\"\"\n",
    "        It updates the name of those lost their name during the previous process\n",
    "        :param org_gpd:\n",
    "        :return:\n",
    "        \"\"\"\n",
    "        df1 = self.my_network\n",
    "        # Split df1 into two GeoDataFrames: df3 (with names) and df4 (without names)\n",
    "        df3 = df1[df1['name'].notna()]\n",
    "        # df3.to_file(f'{data_folder}/delete_2_nodes/with_name.shp')\n",
    "        df4 = df1[df1['name'].isna()]\n",
    "        # df4.reset_index().to_file(f'{data_folder}/delete_2_nodes/no_name_init.shp')\n",
    "\n",
    "        # use only one polyline from the original dataframe for name even if the algorithm may found more\n",
    "        old_index  ='old_index'\n",
    "\n",
    "        df = gpd.sjoin(df4, org_gpd).reset_index(names='old_index')\n",
    "        # Create a new dictionary to store the updated data.\n",
    "        dic_str_data = {}\n",
    "        # Define the relevant columns to store\n",
    "        rel_col  =[col for col in df.columns if col.endswith(\"right\")]+['geometry']\n",
    "        rel_col.remove('index_right')\n",
    "\n",
    "        def return_street_name(aplcnts_tst):\n",
    "            \"\"\"\n",
    "            1. \"Count the occurrences of polylines with the same name within each aplcnts_tst.\"\n",
    "            2. \"Return the street if a aplcnts_tst contains only one unique street name.\"\n",
    "            3. \"If a single street name predominates within a aplcnts_tst, return that name.\"\n",
    "            4. \"For groups with multiple names, perform a buffer calculation around the respective polylines and determine the largest overlapping area, returning the name associated with that area.\"\n",
    "            :param aplcnts_tst: group of applicants. Some of them hold the correct street name\n",
    "            :return:\n",
    "            \"\"\"\n",
    "            count_names = aplcnts_tst['name_right'].value_counts().sort_values(ascending=False)\n",
    "            if len(count_names)==1:\n",
    "                # there is only one name\n",
    "                my_data = aplcnts_tst.iloc[0]\n",
    "            elif count_names[1]- count_names[0]>1:\n",
    "                # The highest number of polylines with the same name are bigger at least in 2:\n",
    "                my_data = aplcnts_tst[aplcnts_tst['name_right'] == count_names.index[0]].iloc[0]\n",
    "            else:\n",
    "                # otherwise filter those with the most popular name or close to (-1)\n",
    "                str_to_wrk_on  =aplcnts_tst[aplcnts_tst['name_right'].isin(count_names[count_names - count_names[0] < 2].index)]\n",
    "                buffer_0 = GeoDataFrame(geometry=[str_to_wrk_on.iloc[0]['geometry'].buffer(distance  = 20, cap_style=2)],crs=project_crs) # Buffer around the polyline without name\n",
    "\n",
    "                streets_right_geo = org_gpd[org_gpd.index.isin(str_to_wrk_on['index_right'])].reset_index() # Get all the applicants polylines and create buffer around\n",
    "                buffer_1 =GeoDataFrame(geometry=streets_right_geo.buffer(distance  = 20, cap_style=2))\n",
    "                streets_right_geo['area'] =gpd.overlay(buffer_1, buffer_0, how='intersection').area\n",
    "                groupy = streets_right_geo.groupby('name')\n",
    "                my_data_0 = groupy.get_group(groupy.sum()['area'].sort_values(ascending=False).index[0]).sort_values(by= 'area',ascending=False).iloc[0]\n",
    "                # Get back to the @aplcnts_tst and find the relevant row by comparing index\n",
    "                my_data = aplcnts_tst[aplcnts_tst['index_right'] == my_data_0['index']].iloc[0]\n",
    "            # Populate the new dictionary with relevant data\n",
    "            dic_str_data[my_data['old_index']] = my_data[rel_col].to_list()\n",
    "        _ =df.groupby(old_index).apply(return_street_name)\n",
    "        # convert the dictionary into a dataframe.\n",
    "        updated_df = GeoDataFrame(index=dic_str_data.keys(), data= dic_str_data.values(),columns=[x.replace('_right', '',) for x in rel_col],crs=project_crs)\n",
    "        updated_df['length'] = updated_df.length\n",
    "        self.my_network = df3.append(updated_df)\n",
    "\n",
    "#Roundabout\n",
    "class EnvEntity:\n",
    "        def __init__(self,network):\n",
    "            self.dead_end_fd = None\n",
    "            self.pnt_dead_end = None\n",
    "            self.pnt_dic = {}\n",
    "            self.first_last_dic = {'geometry': [], 'line_name': [], 'position': []}\n",
    "            self.network = network\n",
    "\n",
    "\n",
    "        def __populate_pnt_dic(self,point: type, name_of_line: str):\n",
    "            \"\"\"\n",
    "            Make \"pnt_dic\" contain a list of all the lines connected to each point.\n",
    "            :param point:\n",
    "            :param name_of_line:\n",
    "            :return:\n",
    "            \"\"\"\n",
    "            if not point in self.pnt_dic:\n",
    "                self.pnt_dic[point] = []\n",
    "            self.pnt_dic[point].append(name_of_line)\n",
    "\n",
    "        def __send_pnts(self,temp_line: GeoSeries):\n",
    "            \"\"\"\n",
    "            # Send the first and the last points to populate_pnt_dic\n",
    "            :return:\n",
    "            \"\"\"\n",
    "            my_geom = temp_line['geometry']\n",
    "            self.__populate_pnt_dic(my_geom.coords[0], temp_line.name)\n",
    "            self.__populate_pnt_dic(my_geom.coords[-1], temp_line.name)\n",
    "\n",
    "        def get_deadend_gdf(self,delete_short:int =30)-> GeoDataFrame:\n",
    "            self.network.apply(self.__send_pnts, axis=1)\n",
    "\n",
    "            deadend_list = [item[1][0] for item in self.pnt_dic.items() if len(item[1]) == 1]\n",
    "            pnt_dead_end_0 = [item for item in self.pnt_dic.items() if len(item[1]) == 1] # Retain all the line points with deadened\n",
    "            self.pnt_dead_end = [Point(x[0]) for x in pnt_dead_end_0]\n",
    "            # Create shp file of deadened_pnts\n",
    "            geometry,line_name = 'geometry','line_name'\n",
    "            pnt_dead_end_df = GeoDataFrame(data=pnt_dead_end_0)\n",
    "            pnt_dead_end_df[geometry]= pnt_dead_end_df[0].apply(lambda x:Point(x))\n",
    "            pnt_dead_end_df[line_name] = pnt_dead_end_df[1].apply(lambda x:x[0])\n",
    "            pnt_dead_end_df.crs = project_crs\n",
    "            self.dead_end_fd = pnt_dead_end_df\n",
    "\n",
    "            if delete_short>0:\n",
    "                # If it is necessary to eliminate dead-end short segments, it is  important to delete them from the network geodataframe.\n",
    "\n",
    "                deadend_gdf =self.network.loc[deadend_list]\n",
    "                self.network.drop(index=deadend_gdf[deadend_gdf.length<delete_short].index,inplace=True)\n",
    "                return deadend_gdf[deadend_gdf.length>delete_short]\n",
    "            return self.network.loc[deadend_list]\n",
    "\n",
    "        def update_the_current_network(self,temp_network):\n",
    "            r\"\"\"\n",
    "            Update the current network in the new changes\n",
    "            :param temp_network:\n",
    "            :return:\n",
    "            \"\"\"\n",
    "            new_network_temp = self.network.drop(index=temp_network.index)\n",
    "            self.network = new_network_temp.append(temp_network)\n",
    "            self.network['length'] = self.network.length\n",
    "            self.network  = self.network[self.network['length']>1]\n",
    "class Roundabout(EnvEntity):\n",
    "    def __init__(self,network: GeoDataFrame):\n",
    "       EnvEntity.__init__(self,network)\n",
    "       self.pnt_dic ={}\n",
    "       self.centroid =self.__from_roundabout_to_centroid()\n",
    "       self.network.rename(columns={'name': 'str_name'}, inplace=True)\n",
    "    def __from_roundabout_to_centroid(self):\n",
    "        # Find the center of each roundabout\n",
    "        # create polygon around each polygon and union\n",
    "        round_about_buffer = round_about.to_crs(project_crs)['geometry'].buffer(cap_style=1, distance=10,\n",
    "                                                                                join_style=1).unary_union\n",
    "        dic_data = {'name': [], 'geometry': []}\n",
    "        if round_about_buffer.type=='Polygon': # In case we have only one polygon\n",
    "            dic_data['name'].append(0)\n",
    "            dic_data['geometry'].append(round_about_buffer.centroid)\n",
    "        else:\n",
    "            for ii, xx in enumerate(round_about_buffer):\n",
    "                dic_data['name'].append(ii)\n",
    "                dic_data['geometry'].append(xx.centroid)\n",
    "        centroid =GeoDataFrame(dic_data, crs=project_crs)\n",
    "        return centroid\n",
    "        # GeoDataFrame(dic_data,crs=project_crs).to_file(f'{path_round_about}/roundabout_union.shp')\n",
    "\n",
    "    def __first_last_pnt_of_line(self,row: GeoSeries):\n",
    "        r\"\"\"\n",
    "        It get geometry of line and fill the first_last_dic with the first and last point and the name of the line\n",
    "        :return:\n",
    "        \"\"\"\n",
    "        geo = list(row['geometry'].coords)\n",
    "        self.first_last_dic['geometry'].extend([Point(geo[0]), Point(geo[-1])])\n",
    "        self.first_last_dic['line_name'].extend([row.name] * 2)\n",
    "        self.first_last_dic['position'].extend([0, -1])\n",
    "    def deadend(self):\n",
    "        r\"\"\"\n",
    "        remove not connected line shorter than 100 meters and then return deadend_list lines and their endpoints (as another file)\n",
    "        :return:\n",
    "        \"\"\"\n",
    "        # Find the first and last points\n",
    "\n",
    "        # Get deadend_gdf\n",
    "        deadend_gdf = self.get_deadend_gdf()\n",
    "\n",
    "        # Create gdf of line points with the reference to the line they belong\n",
    "        deadend_gdf.apply(self.__first_last_pnt_of_line, axis=1)\n",
    "        first_last_gdf = GeoDataFrame(self.first_last_dic, crs=project_crs)\n",
    "\n",
    "\n",
    "        return deadend_gdf, first_last_gdf\n",
    "    def __update_geometry(self,cur,s_join):\n",
    "        r\"\"\"\n",
    "        :return:\n",
    "        \"\"\"\n",
    "        if cur['highway'] == 'footway':\n",
    "            # Don't snap footway to roundabout\n",
    "            return cur['geometry']\n",
    "        # Get only the points that are deadened\n",
    "        points_lines = [item for item in s_join[s_join['line_name'] == cur.name].iterrows()if item[1]['geometry'] in self.pnt_dead_end]\n",
    "        if len(points_lines) == 0:\n",
    "            # No roundabout nearby\n",
    "            return cur['geometry']\n",
    "        # get the line geometry to change the first and/ or last point\n",
    "        geo_cur = list(cur['geometry'].coords)\n",
    "\n",
    "        # iterate over the deadened points  near roundabout\n",
    "        for ind in range(len(points_lines)):\n",
    "            points_line = points_lines[ind]\n",
    "            geo_cur[points_line[1]['position']] = self.centroid.loc[points_line[1]['index_right']]['geometry'].coords[\n",
    "                0]\n",
    "        return LineString(geo_cur)\n",
    "    def my_spatial_join(self,deadend_lines, deadend_pnts,line_name):\n",
    "        # Spatial join between roundabout centroid to nearby dead end lines\n",
    "        # centroid = gpd.read_file(f'{path_round_about}/centroid.shp')\n",
    "        s_join = gpd.sjoin_nearest(left_df=deadend_pnts, right_df=self.centroid, how='left', max_distance=100,\n",
    "                                   distance_col='dist').dropna(subset='dist')\n",
    "\n",
    "        # Deadened lines from both lines should be removed\n",
    "        lines_to_delete_test = s_join['line_name'].unique() # all the Deadened lines close to roundabout\n",
    "\n",
    "        # All deadened lines from both lines\n",
    "        deads_both_side = self.dead_end_fd['line_name'].value_counts()\n",
    "        deads_both_side =deads_both_side[deads_both_side==2]\n",
    "\n",
    "        # Remove this lines from the database\n",
    "        lines_to_delete=deads_both_side[deads_both_side.index.isin(lines_to_delete_test)]\n",
    "\n",
    "        self.network = self.network[~((self.network[line_name].isin(lines_to_delete.index)) & (self.network.length<300))]\n",
    "        deadend_lines = deadend_lines[~((deadend_lines[line_name].isin(lines_to_delete.index)) & (deadend_lines.length<300))]\n",
    "        # Update the geometry so the roundabout will be part of the line geometry\n",
    "        change_geo = deadend_lines.copy()\n",
    "\n",
    "        change_geo['geometry'] = change_geo.apply(lambda x:self.__update_geometry(x,s_join), axis=1)\n",
    "\n",
    "        return change_geo\n",
    "# endregion"
   ],
   "metadata": {
    "collapsed": false,
    "pycharm": {
     "name": "#%%\n"
    }
   }
  },
  {
   "cell_type": "code",
   "execution_count": 79,
   "outputs": [
    {
     "data": {
      "text/plain": "                         name      highway  bearing  group  is_simplified  \\\n0                          11         path   124.50     -1              0   \n1                          11         path   124.50     -1              0   \n2                          11         path   124.50     -1              0   \n3                          14  residential   106.10     -1              0   \n4                          18         path    40.85     -1              0   \n...                       ...          ...      ...    ...            ...   \n14562      Vicolo Santa Maria   pedestrian    25.20     -1              0   \n14563         Vicolo Valtorta  residential    26.50     -1              0   \n14564       Viottolo del Cral      footway    48.40     -1              0   \n14565   strada alle sei ville      footway    96.10     -1              0   \n14566  via Edoardo Perroncito      service    26.90     -1              0   \n\n           length                                           geometry  \n0      398.806955  LINESTRING (857888.020 5626761.570, 857902.213...  \n1      218.742678  LINESTRING (857638.976 5626560.639, 857618.671...  \n2      205.477671  LINESTRING (854914.954 5625472.999, 854917.670...  \n3      168.300305  LINESTRING (856136.574 5627425.278, 856138.912...  \n4      137.408522  LINESTRING (860173.665 5627099.066, 860141.427...  \n...           ...                                                ...  \n14562   37.798613  LINESTRING (854753.997 5632849.499, 854774.402...  \n14563   44.193187  LINESTRING (854694.542 5629305.469, 854722.494...  \n14564   76.615143  LINESTRING (859390.699 5636638.352, 859320.123...  \n14565  186.690723  LINESTRING (857998.760 5631175.272, 858020.668...  \n14566  190.033276  LINESTRING (846757.429 5633375.691, 846856.748...  \n\n[14567 rows x 7 columns]",
      "text/html": "<div>\n<style scoped>\n    .dataframe tbody tr th:only-of-type {\n        vertical-align: middle;\n    }\n\n    .dataframe tbody tr th {\n        vertical-align: top;\n    }\n\n    .dataframe thead th {\n        text-align: right;\n    }\n</style>\n<table border=\"1\" class=\"dataframe\">\n  <thead>\n    <tr style=\"text-align: right;\">\n      <th></th>\n      <th>name</th>\n      <th>highway</th>\n      <th>bearing</th>\n      <th>group</th>\n      <th>is_simplified</th>\n      <th>length</th>\n      <th>geometry</th>\n    </tr>\n  </thead>\n  <tbody>\n    <tr>\n      <th>0</th>\n      <td>11</td>\n      <td>path</td>\n      <td>124.50</td>\n      <td>-1</td>\n      <td>0</td>\n      <td>398.806955</td>\n      <td>LINESTRING (857888.020 5626761.570, 857902.213...</td>\n    </tr>\n    <tr>\n      <th>1</th>\n      <td>11</td>\n      <td>path</td>\n      <td>124.50</td>\n      <td>-1</td>\n      <td>0</td>\n      <td>218.742678</td>\n      <td>LINESTRING (857638.976 5626560.639, 857618.671...</td>\n    </tr>\n    <tr>\n      <th>2</th>\n      <td>11</td>\n      <td>path</td>\n      <td>124.50</td>\n      <td>-1</td>\n      <td>0</td>\n      <td>205.477671</td>\n      <td>LINESTRING (854914.954 5625472.999, 854917.670...</td>\n    </tr>\n    <tr>\n      <th>3</th>\n      <td>14</td>\n      <td>residential</td>\n      <td>106.10</td>\n      <td>-1</td>\n      <td>0</td>\n      <td>168.300305</td>\n      <td>LINESTRING (856136.574 5627425.278, 856138.912...</td>\n    </tr>\n    <tr>\n      <th>4</th>\n      <td>18</td>\n      <td>path</td>\n      <td>40.85</td>\n      <td>-1</td>\n      <td>0</td>\n      <td>137.408522</td>\n      <td>LINESTRING (860173.665 5627099.066, 860141.427...</td>\n    </tr>\n    <tr>\n      <th>...</th>\n      <td>...</td>\n      <td>...</td>\n      <td>...</td>\n      <td>...</td>\n      <td>...</td>\n      <td>...</td>\n      <td>...</td>\n    </tr>\n    <tr>\n      <th>14562</th>\n      <td>Vicolo Santa Maria</td>\n      <td>pedestrian</td>\n      <td>25.20</td>\n      <td>-1</td>\n      <td>0</td>\n      <td>37.798613</td>\n      <td>LINESTRING (854753.997 5632849.499, 854774.402...</td>\n    </tr>\n    <tr>\n      <th>14563</th>\n      <td>Vicolo Valtorta</td>\n      <td>residential</td>\n      <td>26.50</td>\n      <td>-1</td>\n      <td>0</td>\n      <td>44.193187</td>\n      <td>LINESTRING (854694.542 5629305.469, 854722.494...</td>\n    </tr>\n    <tr>\n      <th>14564</th>\n      <td>Viottolo del Cral</td>\n      <td>footway</td>\n      <td>48.40</td>\n      <td>-1</td>\n      <td>0</td>\n      <td>76.615143</td>\n      <td>LINESTRING (859390.699 5636638.352, 859320.123...</td>\n    </tr>\n    <tr>\n      <th>14565</th>\n      <td>strada alle sei ville</td>\n      <td>footway</td>\n      <td>96.10</td>\n      <td>-1</td>\n      <td>0</td>\n      <td>186.690723</td>\n      <td>LINESTRING (857998.760 5631175.272, 858020.668...</td>\n    </tr>\n    <tr>\n      <th>14566</th>\n      <td>via Edoardo Perroncito</td>\n      <td>service</td>\n      <td>26.90</td>\n      <td>-1</td>\n      <td>0</td>\n      <td>190.033276</td>\n      <td>LINESTRING (846757.429 5633375.691, 846856.748...</td>\n    </tr>\n  </tbody>\n</table>\n<p>14567 rows × 7 columns</p>\n</div>"
     },
     "execution_count": 79,
     "metadata": {},
     "output_type": "execute_result"
    }
   ],
   "source": [
    "# starting point\n",
    "new_network = gpd.read_file(f'{data_folder}/simplification/simp.shp').rename(columns={'is_simplif':'is_simplified'})\n",
    "new_network"
   ],
   "metadata": {
    "collapsed": false,
    "pycharm": {
     "name": "#%%\n"
    }
   }
  },
  {
   "cell_type": "code",
   "execution_count": 80,
   "outputs": [],
   "source": [
    "# Test intersection network\n",
    "num=0\n",
    "new_gpd = new_network.copy()\n",
    "obj_intersection = Intersection(new_gpd,num)\n"
   ],
   "metadata": {
    "collapsed": false,
    "pycharm": {
     "name": "#%%\n"
    }
   }
  },
  {
   "cell_type": "code",
   "execution_count": 81,
   "outputs": [],
   "source": [
    "\n",
    "# First remove_false_nodes\n",
    "my_network = remove_false_nodes(obj_intersection.my_network).reset_index(drop=True)\n",
    "my_network.to_file(f'{data_folder}/delete_2_nodes/delete_false_intersection.shp')\n",
    "# Create buffer around each element\n",
    "buffer_around_lines= my_network['geometry'].buffer(cap_style=3, distance=1, join_style=3)\n",
    "\n",
    "\n",
    "# s_join between buffer to lines\n",
    "s_join_0 =gpd.sjoin(left_df=GeoDataFrame(geometry=buffer_around_lines,crs=project_crs),right_df=my_network)\n",
    "\n",
    "# delete lines belong to the buffer\n",
    "s_join = s_join_0[s_join_0.index!=s_join_0['index_right']]\n",
    "s_join.reset_index().to_file(f'{data_folder}/delete_2_nodes/s_join.shp')"
   ],
   "metadata": {
    "collapsed": false,
    "pycharm": {
     "name": "#%%\n"
    }
   }
  },
  {
   "cell_type": "code",
   "execution_count": 82,
   "outputs": [],
   "source": [
    "intersect_by_line =[]\n",
    "#  find_intersection_points by function\n",
    "inter_pnt_dic = {'geometry':[],'name':[]}\n",
    "# Find new intersections that are not at the beginning or end of the line\n",
    "def find_intersection_points(row):\n",
    "        r\"\"\"\n",
    "        find the intersection points between the two lines\n",
    "        :param row:\n",
    "        :return:\n",
    "        \"\"\"\n",
    "        try:\n",
    "            line_1 = my_network.loc[row.name]\n",
    "            line_2 =  my_network.loc[row['index_right']]\n",
    "            pnt = line_1.geometry.intersection(line_2.geometry)\n",
    "            if isinstance(pnt,LineString): # The intersection is only between the buffer and the point ToDo - when the situation is a overlay line\n",
    "                intersect_by_line.append(row)\n",
    "                return\n",
    "            if isinstance(pnt,MultiPoint):\n",
    "                for single_pnt in pnt:\n",
    "                    inter_pnt_dic['geometry'].append(single_pnt)\n",
    "                    inter_pnt_dic['name'].append(row.name)\n",
    "                return\n",
    "            # If it is first or end continue\n",
    "            if len(pnt.coords)==0 or pnt.coords[0]==line_1.geometry.coords[0] or pnt.coords[0]==line_1.geometry.coords[-1]:\n",
    "                return\n",
    "            inter_pnt_dic['geometry'].append(pnt)\n",
    "            inter_pnt_dic['name'].append(row.name)\n",
    "        except:\n",
    "            intersect_by_line.append(row)\n",
    "            print(f\"{row.name},{row['index_right']}:{pnt}\")\n",
    "s_join.apply(lambda x: find_intersection_points(x), axis=1)\n",
    "inter_pnt_gdf = GeoDataFrame(inter_pnt_dic,crs=project_crs)\n",
    "inter_pnt_gdf.to_file(f'{data_folder}/delete_2_nodes/inter_pnt_dic.shp')"
   ],
   "metadata": {
    "collapsed": false,
    "pycharm": {
     "name": "#%%\n"
    }
   }
  },
  {
   "cell_type": "code",
   "execution_count": 146,
   "outputs": [
    {
     "data": {
      "text/plain": "{'geometry': [<shapely.geometry.linestring.LineString at 0x1f1e5726620>,\n  <shapely.geometry.linestring.LineString at 0x1f1e5726da0>,\n  <shapely.geometry.linestring.LineString at 0x1f1e5724ac0>,\n  <shapely.geometry.linestring.LineString at 0x1f1eb9105b0>],\n 'org_id': [588, 588, 588, 588]}"
     },
     "execution_count": 146,
     "metadata": {},
     "output_type": "execute_result"
    }
   ],
   "source": [
    "# Split string line by one point\n",
    "\n",
    "segments = {'geometry':[],'org_id':[]}\n",
    "# Groupby points name (which is the line they should split)\n",
    "line_name = 588\n",
    "group_pnts =  inter_pnt_gdf.groupby('name').get_group(line_name)\n",
    "points  = group_pnts\n",
    "points['is_split'] = True\n",
    "row = my_network.loc[line_name]\n",
    "current = list(row.geometry.coords)\n",
    "points_line = [Point(x) for x in current]\n",
    "points_line_gdf = GeoDataFrame(geometry=points_line,crs=project_crs)\n",
    "points_line_gdf['is_split'] = False\n",
    "line_all_pnts = points_line_gdf.append(points)\n",
    "line_all_pnts['dis_from_the_start'] = line_all_pnts['geometry'].apply(lambda x:row.geometry.project(x))\n",
    "line_all_pnts.sort_values('dis_from_the_start',inplace=True)\n",
    "seg =[]\n",
    "for point in line_all_pnts.iterrows():\n",
    "    prop = point[1]\n",
    "    seg.append(prop['geometry'])\n",
    "    if prop['is_split']:\n",
    "        segments['geometry'].append(LineString(seg))\n",
    "        segments['org_id'].append(row.name)\n",
    "        seg = [prop['geometry']]\n",
    "# if the split point is the last one, you don't need to create new segment\n",
    "if len(seg)>1:\n",
    "    segments['geometry'].append(LineString(seg))\n",
    "    segments['org_id'].append(row.name)\n",
    "segments"
   ],
   "metadata": {
    "collapsed": false,
    "pycharm": {
     "name": "#%%\n"
    }
   }
  },
  {
   "cell_type": "code",
   "execution_count": 148,
   "outputs": [
    {
     "data": {
      "text/plain": "                            geometry  is_split   name  dis_from_the_start\n0     POINT (856149.844 5631584.217)     False    NaN            0.000000\n2187  POINT (856136.621 5631556.008)      True  588.0           31.154519\n2188  POINT (856136.177 5631555.061)      True  588.0           32.200860\n2186  POINT (856059.789 5631392.093)      True  588.0          212.182889\n1     POINT (856048.799 5631368.647)     False    NaN          238.076604",
      "text/html": "<div>\n<style scoped>\n    .dataframe tbody tr th:only-of-type {\n        vertical-align: middle;\n    }\n\n    .dataframe tbody tr th {\n        vertical-align: top;\n    }\n\n    .dataframe thead th {\n        text-align: right;\n    }\n</style>\n<table border=\"1\" class=\"dataframe\">\n  <thead>\n    <tr style=\"text-align: right;\">\n      <th></th>\n      <th>geometry</th>\n      <th>is_split</th>\n      <th>name</th>\n      <th>dis_from_the_start</th>\n    </tr>\n  </thead>\n  <tbody>\n    <tr>\n      <th>0</th>\n      <td>POINT (856149.844 5631584.217)</td>\n      <td>False</td>\n      <td>NaN</td>\n      <td>0.000000</td>\n    </tr>\n    <tr>\n      <th>2187</th>\n      <td>POINT (856136.621 5631556.008)</td>\n      <td>True</td>\n      <td>588.0</td>\n      <td>31.154519</td>\n    </tr>\n    <tr>\n      <th>2188</th>\n      <td>POINT (856136.177 5631555.061)</td>\n      <td>True</td>\n      <td>588.0</td>\n      <td>32.200860</td>\n    </tr>\n    <tr>\n      <th>2186</th>\n      <td>POINT (856059.789 5631392.093)</td>\n      <td>True</td>\n      <td>588.0</td>\n      <td>212.182889</td>\n    </tr>\n    <tr>\n      <th>1</th>\n      <td>POINT (856048.799 5631368.647)</td>\n      <td>False</td>\n      <td>NaN</td>\n      <td>238.076604</td>\n    </tr>\n  </tbody>\n</table>\n</div>"
     },
     "execution_count": 148,
     "metadata": {},
     "output_type": "execute_result"
    }
   ],
   "source": [
    "line_all_pnts"
   ],
   "metadata": {
    "collapsed": false,
    "pycharm": {
     "name": "#%%\n"
    }
   }
  },
  {
   "cell_type": "code",
   "execution_count": 126,
   "outputs": [],
   "source": [
    "# Split string line by all\n",
    "segments = {'geometry':[],'org_id':[]}\n",
    "# Groupby points name (which is the line they should split)\n",
    "\n",
    "my_groups =  inter_pnt_gdf.groupby('name')\n",
    "for group_pnts in my_groups :\n",
    "    points  = group_pnts[1]\n",
    "    points['is_split'] = True\n",
    "\n",
    "    # get the line to split by comparing the name\n",
    "    row = my_network.loc[group_pnts[0]]\n",
    "    current = list(row.geometry.coords)\n",
    "    points_line = [Point(x) for x in current]\n",
    "    points_line_gdf = GeoDataFrame(geometry=points_line,crs=project_crs)\n",
    "    points_line_gdf['is_split'] = False\n",
    "\n",
    "    # append all the points together (line points and split points)\n",
    "    line_all_pnts = points_line_gdf.append(points)\n",
    "\n",
    "    # Find the distance of each point form the begining of the line on the line.\n",
    "    line_all_pnts['dis_from_the_start'] = line_all_pnts['geometry'].apply(lambda x:row.geometry.project(x))\n",
    "    line_all_pnts.sort_values('dis_from_the_start',inplace=True)\n",
    "\n",
    "    # split the line\n",
    "    seg =[]\n",
    "    for point in line_all_pnts.iterrows():\n",
    "        prop = point[1]\n",
    "        seg.append(prop['geometry'])\n",
    "        if prop['is_split']:\n",
    "            segments['geometry'].append(LineString(seg))\n",
    "            segments['org_id'].append(row.name)\n",
    "            seg = [prop['geometry']]\n",
    "    # if the split point is the last one, you don't need to create new segment\n",
    "    if len(seg)>1:\n",
    "        segments['geometry'].append(LineString(seg))\n",
    "        segments['org_id'].append(row.name)\n",
    "network_split = GeoDataFrame(segments,crs=project_crs)\n",
    "network_split.to_file(f'{data_folder}/delete_2_nodes/segments.shp')\n",
    "cols_no_geometry = my_network.columns[:-1]\n",
    "network_split_final = network_split.set_index('org_id')\n",
    "network_split_final[cols_no_geometry] =my_network[cols_no_geometry]\n",
    "# remove old and redundant line from our network and update with new one\n",
    "network_split =my_network.drop(index=network_split_final.index.unique()).append(network_split_final)\n",
    "network_split['length'] = network_split.length\n",
    "my_network = network_split\n",
    "my_network.reset_index(drop=True,inplace= True)\n",
    "my_network.to_file(f'{data_folder}/delete_2_nodes/intersection_network.shp')"
   ],
   "metadata": {
    "collapsed": false,
    "pycharm": {
     "name": "#%%\n"
    }
   }
  },
  {
   "cell_type": "code",
   "execution_count": 154,
   "outputs": [
    {
     "name": "stderr",
     "output_type": "stream",
     "text": [
      "100%|██████████| 37316/37316 [00:06<00:00, 5781.14it/s]\n",
      "100%|██████████| 1915/1915 [00:11<00:00, 171.26it/s]\n"
     ]
    }
   ],
   "source": [
    "# Call to intersection_network as part of its class\n",
    "num=0\n",
    "new_gpd = new_network.copy()\n",
    "obj_intersection = Intersection(new_gpd,num)\n",
    "obj_intersection.intersection_network()\n"
   ],
   "metadata": {
    "collapsed": false,
    "pycharm": {
     "name": "#%%\n"
    }
   }
  },
  {
   "cell_type": "code",
   "execution_count": 150,
   "outputs": [],
   "source": [
    "# Test update_names\n",
    "org_gpd= new_network.copy()\n",
    "df1 = obj_intersection.my_network\n",
    "df1.to_file(f'{data_folder}/intersection/source.shp')\n",
    "\n",
    "\n",
    "# Split df1 into two GeoDataFrames: df3 (with names) and df4 (without names)\n",
    "df3 = df1[df1['name'].notna()]\n",
    "# df3.to_file(f'{data_folder}/delete_2_nodes/with_name.shp')\n",
    "df4 = df1[df1['name'].isna()]\n",
    "# df4.reset_index().to_file(f'{data_folder}/delete_2_nodes/no_name_init.shp')\n",
    "\n",
    "# use only one polyline from the original dataframe for name even if the algorithm may found more\n",
    "old_index  ='old_index'\n",
    "\n",
    "df4_as_buffer= GeoDataFrame(geometry=df4['geometry'].buffer(distance  = 2, cap_style=2),crs=project_crs)\n",
    "df = gpd.sjoin(df4_as_buffer, org_gpd) # for spatial join use buffer around each polyline.that provide better result\n",
    "df.index.name = old_index\n",
    "df['geometry'] = df4['geometry'] # bring the dataframe into linestring format\n",
    "df.reset_index(inplace=True) # To be consistent with the following code and other dataframe"
   ],
   "metadata": {
    "collapsed": false,
    "pycharm": {
     "name": "#%%\n"
    }
   }
  },
  {
   "cell_type": "code",
   "execution_count": null,
   "outputs": [],
   "source": [
    "# Create a new dictionary to store the updated data.\n",
    "dic_str_data = []\n",
    "\n",
    "\n",
    "def return_street_name(aplcnts_tst):\n",
    "    \"\"\"\n",
    "    1. \"Count the occurrences of polylines with the same name within each aplcnts_tst.\"\n",
    "    2. \"Return the street if a aplcnts_tst contains only one unique street name.\"\n",
    "    3. \"If a single street name predominates within a aplcnts_tst, return that name.\"\n",
    "    4. \"For groups with multiple names, perform a buffer calculation around the respective polylines and determine the largest overlapping area, returning the name associated with that area.\"\n",
    "    :param aplcnts_tst: group of applicants. Some of them hold the correct street name\n",
    "    :return:\n",
    "    \"\"\"\n",
    "    count_names = aplcnts_tst['name'].value_counts().sort_values(ascending=False)\n",
    "    if len(count_names)==1:\n",
    "        # there is only one name\n",
    "        my_data = aplcnts_tst.iloc[0]\n",
    "    elif count_names[1]- count_names[0]>1:\n",
    "        # The highest number of polylines with the same name are bigger at least in 2:\n",
    "        my_data = aplcnts_tst[aplcnts_tst['name'] == count_names.index[0]].iloc[0]\n",
    "    else:\n",
    "        # otherwise filter those with the most popular name or close to (-1)\n",
    "        str_to_wrk_on  =aplcnts_tst[aplcnts_tst['name'].isin(count_names[count_names - count_names[0] < 2].index)]\n",
    "        buffer_0 = GeoDataFrame(geometry=[str_to_wrk_on.iloc[0]['geometry'].buffer(distance  = 20, cap_style=2)],crs=project_crs) # Buffer around the polyline without name\n",
    "\n",
    "        streets_right_geo = org_gpd[org_gpd.index.isin(str_to_wrk_on['index_right'])].reset_index() # Get all the applicants polylines and create buffer around\n",
    "        buffer_1 =GeoDataFrame(geometry=streets_right_geo.buffer(distance  = 20, cap_style=2))\n",
    "        streets_right_geo['area'] =gpd.overlay(buffer_1, buffer_0, how='intersection').area\n",
    "        groupy = streets_right_geo.groupby('name')\n",
    "        my_data_0 = groupy.get_group(groupy.sum()['area'].sort_values(ascending=False).index[0]).sort_values(by= 'area',ascending=False).iloc[0]\n",
    "        # Get back to the @aplcnts_tst and find the relevant row by comparing index\n",
    "        my_data = aplcnts_tst[aplcnts_tst['index_right'] == my_data_0['index']].iloc[0]\n",
    "    # Populate the new dictionary with relevant data\n",
    "    dic_str_data.append(my_data.to_list())\n",
    "_ =df.groupby(old_index).apply(return_street_name)\n",
    "updated_df = GeoDataFrame(data= dic_str_data,columns=df.columns,crs=project_crs).drop(columns='index_right').set_index(old_index)\n",
    "updated_df['length'] = updated_df.length\n",
    "my_network = df3.append(updated_df)\n",
    "my_network.reset_index().to_file(f'{data_folder}/intersection/after_name_update.shp')\n",
    "# convert the dictionary into a dataframe."
   ],
   "metadata": {
    "collapsed": false,
    "pycharm": {
     "name": "#%%\n"
    }
   }
  },
  {
   "cell_type": "markdown",
   "source": [
    "Code to consolidate nearest intersections\n",
    "1. Get the first/start of each line\n",
    "2. Make sure I have the name of the lines associated with these lines\n",
    "3. Use DBSCAN with 20 meters threshold\n",
    "4. For each group\n",
    "   4.1.Find the point with the max number of connected lines, if it is one use it otherwise use the avarage\n",
    "   4.2 Among whom are updated remove every line the start and lase point are the same\n",
    "   4.3 Change the point of each line with new point\n"
   ],
   "metadata": {
    "collapsed": false,
    "pycharm": {
     "name": "#%% md\n"
    }
   }
  },
  {
   "cell_type": "code",
   "execution_count": 4,
   "outputs": [
    {
     "data": {
      "text/plain": "       index  line_name                           name      highway  group  \\\n0          0        2.0                             11         path   -1.0   \n1          1        7.0  Ciclabile Carducci - Biglieri     cycleway   -1.0   \n2          2        8.0  Ciclabile Carducci - Biglieri     cycleway   -1.0   \n3          3       11.0            Corso Alberto Picco  residential   -1.0   \n4          4       12.0            Corso Alberto Picco  residential   -1.0   \n...      ...        ...                            ...          ...    ...   \n11629  12753    10189.0             Via Emanuele Artom     tertiary    0.0   \n11630  12765     7094.0            Via Val della Torre  residential    0.0   \n11631  12772    10879.0          Via Zino Giacomo Zini     tertiary    0.0   \n11632  12869     7175.0                    Viale Piave        track    0.0   \n11633  12878    12651.0             Strada del Meisino  residential   -1.0   \n\n       is_simplif      length  \\\n0             0.0  291.082651   \n1             0.0   65.403420   \n2             0.0  123.124385   \n3             0.0   13.477679   \n4             0.0   36.567639   \n...           ...         ...   \n11629         1.0  191.401342   \n11630         1.0  462.458055   \n11631         1.0  373.516854   \n11632         1.0  163.356689   \n11633         0.0  114.441961   \n\n                                                geometry  \n0      LINESTRING (854914.954 5625472.999, 854917.670...  \n1      LINESTRING (853836.046 5627755.961, 853819.893...  \n2      LINESTRING (853800.691 5627619.739, 853799.733...  \n3      LINESTRING (858208.731 5631102.951, 858213.618...  \n4      LINESTRING (858217.547 5631151.853, 858215.388...  \n...                                                  ...  \n11629  LINESTRING (851556.905 5623002.577, 851583.718...  \n11630  LINESTRING (853032.197 5636284.321, 852570.276...  \n11631  LINESTRING (852633.347 5626933.783, 852500.369...  \n11632  LINESTRING (858936.882 5626597.392, 858949.312...  \n11633  LINESTRING (860340.071 5635884.021, 860325.070...  \n\n[11634 rows x 8 columns]",
      "text/html": "<div>\n<style scoped>\n    .dataframe tbody tr th:only-of-type {\n        vertical-align: middle;\n    }\n\n    .dataframe tbody tr th {\n        vertical-align: top;\n    }\n\n    .dataframe thead th {\n        text-align: right;\n    }\n</style>\n<table border=\"1\" class=\"dataframe\">\n  <thead>\n    <tr style=\"text-align: right;\">\n      <th></th>\n      <th>index</th>\n      <th>line_name</th>\n      <th>name</th>\n      <th>highway</th>\n      <th>group</th>\n      <th>is_simplif</th>\n      <th>length</th>\n      <th>geometry</th>\n    </tr>\n  </thead>\n  <tbody>\n    <tr>\n      <th>0</th>\n      <td>0</td>\n      <td>2.0</td>\n      <td>11</td>\n      <td>path</td>\n      <td>-1.0</td>\n      <td>0.0</td>\n      <td>291.082651</td>\n      <td>LINESTRING (854914.954 5625472.999, 854917.670...</td>\n    </tr>\n    <tr>\n      <th>1</th>\n      <td>1</td>\n      <td>7.0</td>\n      <td>Ciclabile Carducci - Biglieri</td>\n      <td>cycleway</td>\n      <td>-1.0</td>\n      <td>0.0</td>\n      <td>65.403420</td>\n      <td>LINESTRING (853836.046 5627755.961, 853819.893...</td>\n    </tr>\n    <tr>\n      <th>2</th>\n      <td>2</td>\n      <td>8.0</td>\n      <td>Ciclabile Carducci - Biglieri</td>\n      <td>cycleway</td>\n      <td>-1.0</td>\n      <td>0.0</td>\n      <td>123.124385</td>\n      <td>LINESTRING (853800.691 5627619.739, 853799.733...</td>\n    </tr>\n    <tr>\n      <th>3</th>\n      <td>3</td>\n      <td>11.0</td>\n      <td>Corso Alberto Picco</td>\n      <td>residential</td>\n      <td>-1.0</td>\n      <td>0.0</td>\n      <td>13.477679</td>\n      <td>LINESTRING (858208.731 5631102.951, 858213.618...</td>\n    </tr>\n    <tr>\n      <th>4</th>\n      <td>4</td>\n      <td>12.0</td>\n      <td>Corso Alberto Picco</td>\n      <td>residential</td>\n      <td>-1.0</td>\n      <td>0.0</td>\n      <td>36.567639</td>\n      <td>LINESTRING (858217.547 5631151.853, 858215.388...</td>\n    </tr>\n    <tr>\n      <th>...</th>\n      <td>...</td>\n      <td>...</td>\n      <td>...</td>\n      <td>...</td>\n      <td>...</td>\n      <td>...</td>\n      <td>...</td>\n      <td>...</td>\n    </tr>\n    <tr>\n      <th>11629</th>\n      <td>12753</td>\n      <td>10189.0</td>\n      <td>Via Emanuele Artom</td>\n      <td>tertiary</td>\n      <td>0.0</td>\n      <td>1.0</td>\n      <td>191.401342</td>\n      <td>LINESTRING (851556.905 5623002.577, 851583.718...</td>\n    </tr>\n    <tr>\n      <th>11630</th>\n      <td>12765</td>\n      <td>7094.0</td>\n      <td>Via Val della Torre</td>\n      <td>residential</td>\n      <td>0.0</td>\n      <td>1.0</td>\n      <td>462.458055</td>\n      <td>LINESTRING (853032.197 5636284.321, 852570.276...</td>\n    </tr>\n    <tr>\n      <th>11631</th>\n      <td>12772</td>\n      <td>10879.0</td>\n      <td>Via Zino Giacomo Zini</td>\n      <td>tertiary</td>\n      <td>0.0</td>\n      <td>1.0</td>\n      <td>373.516854</td>\n      <td>LINESTRING (852633.347 5626933.783, 852500.369...</td>\n    </tr>\n    <tr>\n      <th>11632</th>\n      <td>12869</td>\n      <td>7175.0</td>\n      <td>Viale Piave</td>\n      <td>track</td>\n      <td>0.0</td>\n      <td>1.0</td>\n      <td>163.356689</td>\n      <td>LINESTRING (858936.882 5626597.392, 858949.312...</td>\n    </tr>\n    <tr>\n      <th>11633</th>\n      <td>12878</td>\n      <td>12651.0</td>\n      <td>Strada del Meisino</td>\n      <td>residential</td>\n      <td>-1.0</td>\n      <td>0.0</td>\n      <td>114.441961</td>\n      <td>LINESTRING (860340.071 5635884.021, 860325.070...</td>\n    </tr>\n  </tbody>\n</table>\n<p>11634 rows × 8 columns</p>\n</div>"
     },
     "execution_count": 4,
     "metadata": {},
     "output_type": "execute_result"
    }
   ],
   "source": [
    "intersection_agg_folder = f'{data_folder}/intersection_agg/'\n",
    "network = gpd.read_file(f'{data_folder}/final_test.shp')\n",
    "network"
   ],
   "metadata": {
    "collapsed": false,
    "pycharm": {
     "name": "#%%\n"
    }
   }
  },
  {
   "cell_type": "code",
   "execution_count": 5,
   "outputs": [],
   "source": [
    "# 1. Get the first/start of each line\n",
    "# Extract unique start and end points from all LineStrings\n",
    "geometry= 'geometry'\n",
    "index_right= 'index_right'\n",
    "all_points = network[geometry].apply(lambda line: [Point(line.coords[0]), Point(line.coords[-1])]).explode()\n",
    "# # Create a GeoSeries of unique points\n",
    "unique_points = GeoDataFrame(geometry=gpd.GeoSeries(all_points).unique(),crs=project_crs)"
   ],
   "metadata": {
    "collapsed": false,
    "pycharm": {
     "name": "#%%\n"
    }
   }
  },
  {
   "cell_type": "code",
   "execution_count": 34,
   "outputs": [],
   "source": [
    "# save data\n",
    "unique_points.to_file(f'{intersection_agg_folder}unique_points.shp')"
   ],
   "metadata": {
    "collapsed": false,
    "pycharm": {
     "name": "#%%\n"
    }
   }
  },
  {
   "cell_type": "code",
   "execution_count": 6,
   "outputs": [],
   "source": [
    "# 2. Make sure I have the name of the lines associated with these lines\n",
    "pnts_line_name = unique_points.sjoin(network)[[index_right,geometry]].reset_index().dissolve(by='index',aggfunc=lambda x: x.tolist())\n",
    "pnts_line_name['num_of_lines']= pnts_line_name[index_right].apply(len) # count the number of lines for each point"
   ],
   "metadata": {
    "collapsed": false,
    "pycharm": {
     "name": "#%%\n"
    }
   }
  },
  {
   "cell_type": "code",
   "execution_count": 59,
   "outputs": [],
   "source": [
    "# 3. Use DBSCAN with 20 meters threshold\n",
    "# Extract coordinates for DBSCAN\n",
    "coordinates = pnts_line_name.geometry.apply(lambda point: (point.x, point.y)).tolist()\n",
    "dbscan = DBSCAN(eps=40, min_samples=2)\n",
    "pnts_line_name['group'] = dbscan.fit_predict(coordinates)\n",
    "lines_to_update = pnts_line_name[pnts_line_name['group']>-1]\n"
   ],
   "metadata": {
    "collapsed": false,
    "pycharm": {
     "name": "#%%\n"
    }
   }
  },
  {
   "cell_type": "code",
   "execution_count": 60,
   "outputs": [],
   "source": [
    "# if you want to save the files\n",
    "def save_points_file(data,path):\n",
    "    \"\"\"\n",
    "    The function get a data, arrange columns, convert list to string and export  it into a shpfile\n",
    "    :param data:\n",
    "    :param path:\n",
    "    :return:\n",
    "    \"\"\"\n",
    "    col_of_lists_as_str= 'col_of_lists_as_str'\n",
    "    data[col_of_lists_as_str] = data[index_right].apply(str)\n",
    "    data.drop(columns= [index_right]).to_file(path)\n",
    "    data.drop(columns= [col_of_lists_as_str],inplace=True)\n",
    "save_points_file(pnts_line_name,f'{intersection_agg_folder}pnts_line_name.shp')\n",
    "save_points_file(lines_to_update,f'{intersection_agg_folder}lines_to_update.shp')"
   ],
   "metadata": {
    "collapsed": false,
    "pycharm": {
     "name": "#%%\n"
    }
   }
  },
  {
   "cell_type": "code",
   "execution_count": 61,
   "outputs": [
    {
     "data": {
      "text/plain": "                             geometry            index_right  num_of_lines  \\\ngroup                                                                        \n0      POINT (853836.046 5627755.961)  [1, 4433, 4897, 4901]             4   \n1      POINT (853819.893 5627692.584)  [1, 4892, 4889, 6708]             4   \n2      POINT (853800.691 5627619.739)  [4889, 2, 4888, 4428]             4   \n3      POINT (853766.237 5627501.556)  [2, 6694, 4456, 4884]             4   \n4      POINT (858208.731 5631102.951)       [10471, 3, 5364]             3   \n...                               ...                    ...           ...   \n380    POINT (853842.264 5633595.654)                [11615]             1   \n751    POINT (857839.874 5637898.540)                [11622]             1   \n557    POINT (858117.900 5636518.175)                [11624]             1   \n568    POINT (859165.963 5633417.646)                [11625]             1   \n633    POINT (852570.276 5636262.024)                [11630]             1   \n\n                         new_geometry  \ngroup                                  \n0      POINT (853836.046 5627755.961)  \n1      POINT (853815.797 5627693.643)  \n2      POINT (853800.691 5627619.739)  \n3      POINT (853766.237 5627501.556)  \n4      POINT (858211.174 5631109.231)  \n...                               ...  \n380    POINT (853818.031 5633608.400)  \n751    POINT (857833.551 5637897.696)  \n557    POINT (858102.817 5636493.742)  \n568    POINT (859182.248 5633414.527)  \n633    POINT (852544.979 5636256.190)  \n\n[1730 rows x 4 columns]",
      "text/html": "<div>\n<style scoped>\n    .dataframe tbody tr th:only-of-type {\n        vertical-align: middle;\n    }\n\n    .dataframe tbody tr th {\n        vertical-align: top;\n    }\n\n    .dataframe thead th {\n        text-align: right;\n    }\n</style>\n<table border=\"1\" class=\"dataframe\">\n  <thead>\n    <tr style=\"text-align: right;\">\n      <th></th>\n      <th>geometry</th>\n      <th>index_right</th>\n      <th>num_of_lines</th>\n      <th>new_geometry</th>\n    </tr>\n    <tr>\n      <th>group</th>\n      <th></th>\n      <th></th>\n      <th></th>\n      <th></th>\n    </tr>\n  </thead>\n  <tbody>\n    <tr>\n      <th>0</th>\n      <td>POINT (853836.046 5627755.961)</td>\n      <td>[1, 4433, 4897, 4901]</td>\n      <td>4</td>\n      <td>POINT (853836.046 5627755.961)</td>\n    </tr>\n    <tr>\n      <th>1</th>\n      <td>POINT (853819.893 5627692.584)</td>\n      <td>[1, 4892, 4889, 6708]</td>\n      <td>4</td>\n      <td>POINT (853815.797 5627693.643)</td>\n    </tr>\n    <tr>\n      <th>2</th>\n      <td>POINT (853800.691 5627619.739)</td>\n      <td>[4889, 2, 4888, 4428]</td>\n      <td>4</td>\n      <td>POINT (853800.691 5627619.739)</td>\n    </tr>\n    <tr>\n      <th>3</th>\n      <td>POINT (853766.237 5627501.556)</td>\n      <td>[2, 6694, 4456, 4884]</td>\n      <td>4</td>\n      <td>POINT (853766.237 5627501.556)</td>\n    </tr>\n    <tr>\n      <th>4</th>\n      <td>POINT (858208.731 5631102.951)</td>\n      <td>[10471, 3, 5364]</td>\n      <td>3</td>\n      <td>POINT (858211.174 5631109.231)</td>\n    </tr>\n    <tr>\n      <th>...</th>\n      <td>...</td>\n      <td>...</td>\n      <td>...</td>\n      <td>...</td>\n    </tr>\n    <tr>\n      <th>380</th>\n      <td>POINT (853842.264 5633595.654)</td>\n      <td>[11615]</td>\n      <td>1</td>\n      <td>POINT (853818.031 5633608.400)</td>\n    </tr>\n    <tr>\n      <th>751</th>\n      <td>POINT (857839.874 5637898.540)</td>\n      <td>[11622]</td>\n      <td>1</td>\n      <td>POINT (857833.551 5637897.696)</td>\n    </tr>\n    <tr>\n      <th>557</th>\n      <td>POINT (858117.900 5636518.175)</td>\n      <td>[11624]</td>\n      <td>1</td>\n      <td>POINT (858102.817 5636493.742)</td>\n    </tr>\n    <tr>\n      <th>568</th>\n      <td>POINT (859165.963 5633417.646)</td>\n      <td>[11625]</td>\n      <td>1</td>\n      <td>POINT (859182.248 5633414.527)</td>\n    </tr>\n    <tr>\n      <th>633</th>\n      <td>POINT (852570.276 5636262.024)</td>\n      <td>[11630]</td>\n      <td>1</td>\n      <td>POINT (852544.979 5636256.190)</td>\n    </tr>\n  </tbody>\n</table>\n<p>1730 rows × 4 columns</p>\n</div>"
     },
     "execution_count": 61,
     "metadata": {},
     "output_type": "execute_result"
    }
   ],
   "source": [
    "# 4.1.Find the point with the max number of connected lines, if it is one use it otherwise uses the average\n",
    "# Find the maximum 'num' value for each group\n",
    "num = 'num_of_lines'\n",
    "group_name  = 'group'\n",
    "new_geometry= 'new_geometry'\n",
    "max_values_per_group =lines_to_update.groupby('group')['num_of_lines'].max()\n",
    "# Filter rows with the maximum 'num' value for each group\n",
    "result_gdf = lines_to_update[lines_to_update.set_index([group_name, num]).index.isin(max_values_per_group.items())]\n",
    "\n",
    "# Custom aggregation function to calculate the average point for each group\n",
    "def calculate_average_point(group):\n",
    "    x_mean = group.x.mean()\n",
    "    y_mean = group.y.mean()\n",
    "    return Point(x_mean, y_mean)\n",
    "\n",
    "# Apply the custom aggregation function to calculate average points per group\n",
    "lines_to_update2= lines_to_update.set_index(group_name)\n",
    "lines_to_update2['new_geometry'] = result_gdf.groupby(group_name )[geometry].apply(calculate_average_point)\n",
    "lines_to_update2"
   ],
   "metadata": {
    "collapsed": false,
    "pycharm": {
     "name": "#%%\n"
    }
   }
  },
  {
   "cell_type": "code",
   "execution_count": 62,
   "outputs": [
    {
     "data": {
      "text/plain": "                             geometry            index_right  num_of_lines  \\\ngroup                                                                        \n1      POINT (853819.893 5627692.584)  [1, 4892, 4889, 6708]             4   \n4      POINT (858208.731 5631102.951)       [10471, 3, 5364]             3   \n4      POINT (858213.618 5631115.511)          [3, 10588, 4]             3   \n5      POINT (856964.680 5634042.802)          [16, 14, 102]             3   \n5      POINT (856938.843 5634053.901)        [14, 2411, 100]             3   \n...                               ...                    ...           ...   \n380    POINT (853842.264 5633595.654)                [11615]             1   \n751    POINT (857839.874 5637898.540)                [11622]             1   \n557    POINT (858117.900 5636518.175)                [11624]             1   \n568    POINT (859165.963 5633417.646)                [11625]             1   \n633    POINT (852570.276 5636262.024)                [11630]             1   \n\n                         new_geometry  \ngroup                                  \n1      POINT (853815.797 5627693.643)  \n4      POINT (858211.174 5631109.231)  \n4      POINT (858211.174 5631109.231)  \n5      POINT (856951.761 5634048.352)  \n5      POINT (856951.761 5634048.352)  \n...                               ...  \n380    POINT (853818.031 5633608.400)  \n751    POINT (857833.551 5637897.696)  \n557    POINT (858102.817 5636493.742)  \n568    POINT (859182.248 5633414.527)  \n633    POINT (852544.979 5636256.190)  \n\n[1370 rows x 4 columns]",
      "text/html": "<div>\n<style scoped>\n    .dataframe tbody tr th:only-of-type {\n        vertical-align: middle;\n    }\n\n    .dataframe tbody tr th {\n        vertical-align: top;\n    }\n\n    .dataframe thead th {\n        text-align: right;\n    }\n</style>\n<table border=\"1\" class=\"dataframe\">\n  <thead>\n    <tr style=\"text-align: right;\">\n      <th></th>\n      <th>geometry</th>\n      <th>index_right</th>\n      <th>num_of_lines</th>\n      <th>new_geometry</th>\n    </tr>\n    <tr>\n      <th>group</th>\n      <th></th>\n      <th></th>\n      <th></th>\n      <th></th>\n    </tr>\n  </thead>\n  <tbody>\n    <tr>\n      <th>1</th>\n      <td>POINT (853819.893 5627692.584)</td>\n      <td>[1, 4892, 4889, 6708]</td>\n      <td>4</td>\n      <td>POINT (853815.797 5627693.643)</td>\n    </tr>\n    <tr>\n      <th>4</th>\n      <td>POINT (858208.731 5631102.951)</td>\n      <td>[10471, 3, 5364]</td>\n      <td>3</td>\n      <td>POINT (858211.174 5631109.231)</td>\n    </tr>\n    <tr>\n      <th>4</th>\n      <td>POINT (858213.618 5631115.511)</td>\n      <td>[3, 10588, 4]</td>\n      <td>3</td>\n      <td>POINT (858211.174 5631109.231)</td>\n    </tr>\n    <tr>\n      <th>5</th>\n      <td>POINT (856964.680 5634042.802)</td>\n      <td>[16, 14, 102]</td>\n      <td>3</td>\n      <td>POINT (856951.761 5634048.352)</td>\n    </tr>\n    <tr>\n      <th>5</th>\n      <td>POINT (856938.843 5634053.901)</td>\n      <td>[14, 2411, 100]</td>\n      <td>3</td>\n      <td>POINT (856951.761 5634048.352)</td>\n    </tr>\n    <tr>\n      <th>...</th>\n      <td>...</td>\n      <td>...</td>\n      <td>...</td>\n      <td>...</td>\n    </tr>\n    <tr>\n      <th>380</th>\n      <td>POINT (853842.264 5633595.654)</td>\n      <td>[11615]</td>\n      <td>1</td>\n      <td>POINT (853818.031 5633608.400)</td>\n    </tr>\n    <tr>\n      <th>751</th>\n      <td>POINT (857839.874 5637898.540)</td>\n      <td>[11622]</td>\n      <td>1</td>\n      <td>POINT (857833.551 5637897.696)</td>\n    </tr>\n    <tr>\n      <th>557</th>\n      <td>POINT (858117.900 5636518.175)</td>\n      <td>[11624]</td>\n      <td>1</td>\n      <td>POINT (858102.817 5636493.742)</td>\n    </tr>\n    <tr>\n      <th>568</th>\n      <td>POINT (859165.963 5633417.646)</td>\n      <td>[11625]</td>\n      <td>1</td>\n      <td>POINT (859182.248 5633414.527)</td>\n    </tr>\n    <tr>\n      <th>633</th>\n      <td>POINT (852570.276 5636262.024)</td>\n      <td>[11630]</td>\n      <td>1</td>\n      <td>POINT (852544.979 5636256.190)</td>\n    </tr>\n  </tbody>\n</table>\n<p>1370 rows × 4 columns</p>\n</div>"
     },
     "execution_count": 62,
     "metadata": {},
     "output_type": "execute_result"
    }
   ],
   "source": [
    "# 4.2 Among whom are updated remove every line the start and last point are the same\n",
    "# Get all the lines going to be deleted\n",
    "lines_to_delete =[]\n",
    "\n",
    "def update_lines_to_delete(row):\n",
    "    # explode the lines names within each row list to separate rows\n",
    "    lines_to_update_tmep = row[index_right].explode()\n",
    "\n",
    "    # Identify rows with duplicate values\n",
    "    lines_to_delete.extend(lines_to_update_tmep[lines_to_update_tmep.duplicated()].tolist())\n",
    "\n",
    "lines_to_update2.groupby(level=group_name).apply(update_lines_to_delete)\n",
    "\n",
    "# remove lines their geometry not going to change\n",
    "lines_to_update3= lines_to_update2[lines_to_update2[geometry]!=lines_to_update2[new_geometry]]\n",
    "lines_to_update3"
   ],
   "metadata": {
    "collapsed": false,
    "pycharm": {
     "name": "#%%\n"
    }
   }
  },
  {
   "cell_type": "code",
   "execution_count": 63,
   "outputs": [],
   "source": [
    "# Save files\n",
    "lines_to_update2['new_geometry'].to_file(f'{intersection_agg_folder}new_geometry.shp')\n",
    "lines_to_update3['new_geometry'].to_file(f'{intersection_agg_folder}new_geometry_1.shp')"
   ],
   "metadata": {
    "collapsed": false,
    "pycharm": {
     "name": "#%%\n"
    }
   }
  },
  {
   "cell_type": "code",
   "execution_count": 64,
   "outputs": [],
   "source": [
    "# For test only\n",
    "network_delete = network[network.index.isin(lines_to_delete)]\n",
    "network_delete.reset_index().to_file(f'{intersection_agg_folder}network_delete.shp')"
   ],
   "metadata": {
    "collapsed": false,
    "pycharm": {
     "name": "#%%\n"
    }
   }
  },
  {
   "cell_type": "code",
   "execution_count": 65,
   "outputs": [
    {
     "data": {
      "text/plain": "Empty DataFrame\nColumns: []\nIndex: []",
      "text/html": "<div>\n<style scoped>\n    .dataframe tbody tr th:only-of-type {\n        vertical-align: middle;\n    }\n\n    .dataframe tbody tr th {\n        vertical-align: top;\n    }\n\n    .dataframe thead th {\n        text-align: right;\n    }\n</style>\n<table border=\"1\" class=\"dataframe\">\n  <thead>\n    <tr style=\"text-align: right;\">\n      <th></th>\n    </tr>\n  </thead>\n  <tbody>\n  </tbody>\n</table>\n</div>"
     },
     "execution_count": 65,
     "metadata": {},
     "output_type": "execute_result"
    }
   ],
   "source": [
    "# 4.3 Change the point of each line with new point\n",
    "network_new = network[~network.index.isin(lines_to_delete)]\n",
    "def update_network_with_aggregated_point(group):\n",
    "    lines_in_group = group.explode(index_right)\n",
    "\n",
    "    def update_one_line(points_data):\n",
    "        if points_data.name not in lines_to_delete:\n",
    "            updated_line_geo =network_new.loc[points_data.name]\n",
    "            line_coords = updated_line_geo.geometry.coords\n",
    "            if Point(line_coords[0])==points_data.geometry:\n",
    "                network_new.at[points_data.name,geometry] = LineString([points_data[new_geometry]] + line_coords[1:])\n",
    "            elif Point(line_coords[-1])==points_data.geometry:\n",
    "                network_new.at[points_data.name,geometry] = LineString(line_coords[:-1]+[points_data[new_geometry]])\n",
    "            else:\n",
    "                print(points_data)\n",
    "                print(lines_in_group)\n",
    "    lines_in_group.set_index(index_right).apply(update_one_line,axis=1)\n",
    "\n",
    "lines_to_update3.groupby(level=group_name).apply(update_network_with_aggregated_point)"
   ],
   "metadata": {
    "collapsed": false,
    "pycharm": {
     "name": "#%%\n"
    }
   }
  },
  {
   "cell_type": "code",
   "execution_count": 31,
   "outputs": [
    {
     "data": {
      "text/plain": "                             geometry            index_right  num_of_lines  \\\ngroup                                                                        \n1      POINT (853819.893 5627692.584)  [1, 4892, 4889, 6708]             4   \n4      POINT (858208.731 5631102.951)       [10471, 3, 5364]             3   \n4      POINT (858213.618 5631115.511)          [3, 10588, 4]             3   \n5      POINT (852167.979 5625542.157)       [22, 1353, 1354]             3   \n6      POINT (862052.983 5630797.754)      [23, 10650, 5503]             3   \n...                               ...                    ...           ...   \n377    POINT (856977.654 5631406.992)                [11597]             1   \n554    POINT (851302.770 5638186.464)                [11609]             1   \n559    POINT (851804.954 5636013.425)                [11610]             1   \n558    POINT (857839.874 5637898.540)                [11622]             1   \n387    POINT (859165.963 5633417.646)                [11625]             1   \n\n                         new_geometry  \ngroup                                  \n1      POINT (853815.797 5627693.643)  \n4      POINT (858211.174 5631109.231)  \n4      POINT (858211.174 5631109.231)  \n5      POINT (852171.485 5625540.306)  \n6      POINT (862054.541 5630796.832)  \n...                               ...  \n377    POINT (856985.795 5631390.656)  \n554    POINT (851295.895 5638180.756)  \n559    POINT (851797.830 5636020.391)  \n558    POINT (857833.551 5637897.696)  \n387    POINT (859178.146 5633403.309)  \n\n[978 rows x 4 columns]",
      "text/html": "<div>\n<style scoped>\n    .dataframe tbody tr th:only-of-type {\n        vertical-align: middle;\n    }\n\n    .dataframe tbody tr th {\n        vertical-align: top;\n    }\n\n    .dataframe thead th {\n        text-align: right;\n    }\n</style>\n<table border=\"1\" class=\"dataframe\">\n  <thead>\n    <tr style=\"text-align: right;\">\n      <th></th>\n      <th>geometry</th>\n      <th>index_right</th>\n      <th>num_of_lines</th>\n      <th>new_geometry</th>\n    </tr>\n    <tr>\n      <th>group</th>\n      <th></th>\n      <th></th>\n      <th></th>\n      <th></th>\n    </tr>\n  </thead>\n  <tbody>\n    <tr>\n      <th>1</th>\n      <td>POINT (853819.893 5627692.584)</td>\n      <td>[1, 4892, 4889, 6708]</td>\n      <td>4</td>\n      <td>POINT (853815.797 5627693.643)</td>\n    </tr>\n    <tr>\n      <th>4</th>\n      <td>POINT (858208.731 5631102.951)</td>\n      <td>[10471, 3, 5364]</td>\n      <td>3</td>\n      <td>POINT (858211.174 5631109.231)</td>\n    </tr>\n    <tr>\n      <th>4</th>\n      <td>POINT (858213.618 5631115.511)</td>\n      <td>[3, 10588, 4]</td>\n      <td>3</td>\n      <td>POINT (858211.174 5631109.231)</td>\n    </tr>\n    <tr>\n      <th>5</th>\n      <td>POINT (852167.979 5625542.157)</td>\n      <td>[22, 1353, 1354]</td>\n      <td>3</td>\n      <td>POINT (852171.485 5625540.306)</td>\n    </tr>\n    <tr>\n      <th>6</th>\n      <td>POINT (862052.983 5630797.754)</td>\n      <td>[23, 10650, 5503]</td>\n      <td>3</td>\n      <td>POINT (862054.541 5630796.832)</td>\n    </tr>\n    <tr>\n      <th>...</th>\n      <td>...</td>\n      <td>...</td>\n      <td>...</td>\n      <td>...</td>\n    </tr>\n    <tr>\n      <th>377</th>\n      <td>POINT (856977.654 5631406.992)</td>\n      <td>[11597]</td>\n      <td>1</td>\n      <td>POINT (856985.795 5631390.656)</td>\n    </tr>\n    <tr>\n      <th>554</th>\n      <td>POINT (851302.770 5638186.464)</td>\n      <td>[11609]</td>\n      <td>1</td>\n      <td>POINT (851295.895 5638180.756)</td>\n    </tr>\n    <tr>\n      <th>559</th>\n      <td>POINT (851804.954 5636013.425)</td>\n      <td>[11610]</td>\n      <td>1</td>\n      <td>POINT (851797.830 5636020.391)</td>\n    </tr>\n    <tr>\n      <th>558</th>\n      <td>POINT (857839.874 5637898.540)</td>\n      <td>[11622]</td>\n      <td>1</td>\n      <td>POINT (857833.551 5637897.696)</td>\n    </tr>\n    <tr>\n      <th>387</th>\n      <td>POINT (859165.963 5633417.646)</td>\n      <td>[11625]</td>\n      <td>1</td>\n      <td>POINT (859178.146 5633403.309)</td>\n    </tr>\n  </tbody>\n</table>\n<p>978 rows × 4 columns</p>\n</div>"
     },
     "execution_count": 31,
     "metadata": {},
     "output_type": "execute_result"
    }
   ],
   "source": [
    "# 4.3 on one point and one group\n",
    "lines_to_update3.groupby(level=group_name).get_group(338)\n",
    "network_new.loc[9018]['geometry'].coords[0]\n",
    "if 5952 in lines_to_delete:\n",
    "    print(True)\n",
    "lines_to_update3\n",
    "network_new.to_file(f'{intersection_agg_folder}network_new.shp')"
   ],
   "metadata": {
    "collapsed": false,
    "pycharm": {
     "name": "#%%\n"
    }
   }
  },
  {
   "cell_type": "code",
   "execution_count": 67,
   "outputs": [
    {
     "name": "stdout",
     "output_type": "stream",
     "text": [
      "Original GeoDataFrame:\n",
      "                                            geometry\n",
      "0  LINESTRING (0.00000 0.00000, 1.00000 1.00000, ...\n",
      "1  LINESTRING (0.00000 1.00000, 1.00000 1.00000, ...\n",
      "\n",
      "GeoDataFrame after removing overlay:\n",
      "                                            geometry\n",
      "0  MULTILINESTRING ((0.00000 0.00000, 1.00000 1.0...\n",
      "1                                   LINESTRING EMPTY\n"
     ]
    }
   ],
   "source": [
    "import geopandas as gpd\n",
    "from shapely.geometry import LineString\n",
    "\n",
    "# Create two polylines (LineString objects)\n",
    "line1 = LineString([(0, 0), (1, 1), (2, 0)])\n",
    "line2 = LineString([(0, 1), (1, 1), (2, 1)])\n",
    "\n",
    "# Create a GeoDataFrame with the two polylines\n",
    "gdf = gpd.GeoDataFrame(geometry=[line1, line2])\n",
    "\n",
    "# Display the original GeoDataFrame\n",
    "print(\"Original GeoDataFrame:\")\n",
    "print(gdf)\n",
    "\n",
    "# Compute the difference between the two polylines\n",
    "result = gdf.difference(gdf.iloc[1].geometry)\n",
    "\n",
    "# Create a new GeoDataFrame with the result\n",
    "result_gdf = gpd.GeoDataFrame(geometry=result)\n",
    "\n",
    "# Display the resulting GeoDataFrame\n",
    "print(\"\\nGeoDataFrame after removing overlay:\")\n",
    "print(result_gdf)"
   ],
   "metadata": {
    "collapsed": false,
    "pycharm": {
     "name": "#%%\n"
    }
   }
  },
  {
   "cell_type": "code",
   "execution_count": 71,
   "outputs": [
    {
     "ename": "AttributeError",
     "evalue": "'Series' object has no attribute 'explore'",
     "output_type": "error",
     "traceback": [
      "\u001B[1;31m---------------------------------------------------------------------------\u001B[0m",
      "\u001B[1;31mAttributeError\u001B[0m                            Traceback (most recent call last)",
      "Cell \u001B[1;32mIn [71], line 1\u001B[0m\n\u001B[1;32m----> 1\u001B[0m \u001B[43mresult_gdf\u001B[49m\u001B[38;5;241;43m.\u001B[39;49m\u001B[43miloc\u001B[49m\u001B[43m[\u001B[49m\u001B[38;5;241;43m0\u001B[39;49m\u001B[43m]\u001B[49m\u001B[38;5;241;43m.\u001B[39;49m\u001B[43mexplore\u001B[49m()\n",
      "File \u001B[1;32m~\\anaconda3\\envs\\momepy_env\\lib\\site-packages\\pandas\\core\\generic.py:5907\u001B[0m, in \u001B[0;36mNDFrame.__getattr__\u001B[1;34m(self, name)\u001B[0m\n\u001B[0;32m   5900\u001B[0m \u001B[38;5;28;01mif\u001B[39;00m (\n\u001B[0;32m   5901\u001B[0m     name \u001B[38;5;129;01mnot\u001B[39;00m \u001B[38;5;129;01min\u001B[39;00m \u001B[38;5;28mself\u001B[39m\u001B[38;5;241m.\u001B[39m_internal_names_set\n\u001B[0;32m   5902\u001B[0m     \u001B[38;5;129;01mand\u001B[39;00m name \u001B[38;5;129;01mnot\u001B[39;00m \u001B[38;5;129;01min\u001B[39;00m \u001B[38;5;28mself\u001B[39m\u001B[38;5;241m.\u001B[39m_metadata\n\u001B[0;32m   5903\u001B[0m     \u001B[38;5;129;01mand\u001B[39;00m name \u001B[38;5;129;01mnot\u001B[39;00m \u001B[38;5;129;01min\u001B[39;00m \u001B[38;5;28mself\u001B[39m\u001B[38;5;241m.\u001B[39m_accessors\n\u001B[0;32m   5904\u001B[0m     \u001B[38;5;129;01mand\u001B[39;00m \u001B[38;5;28mself\u001B[39m\u001B[38;5;241m.\u001B[39m_info_axis\u001B[38;5;241m.\u001B[39m_can_hold_identifiers_and_holds_name(name)\n\u001B[0;32m   5905\u001B[0m ):\n\u001B[0;32m   5906\u001B[0m     \u001B[38;5;28;01mreturn\u001B[39;00m \u001B[38;5;28mself\u001B[39m[name]\n\u001B[1;32m-> 5907\u001B[0m \u001B[38;5;28;01mreturn\u001B[39;00m \u001B[38;5;28;43mobject\u001B[39;49m\u001B[38;5;241;43m.\u001B[39;49m\u001B[38;5;21;43m__getattribute__\u001B[39;49m\u001B[43m(\u001B[49m\u001B[38;5;28;43mself\u001B[39;49m\u001B[43m,\u001B[49m\u001B[43m \u001B[49m\u001B[43mname\u001B[49m\u001B[43m)\u001B[49m\n",
      "\u001B[1;31mAttributeError\u001B[0m: 'Series' object has no attribute 'explore'"
     ]
    }
   ],
   "source": [
    "result_gdf.iloc[0].explore()"
   ],
   "metadata": {
    "collapsed": false,
    "pycharm": {
     "name": "#%%\n"
    }
   }
  },
  {
   "cell_type": "code",
   "execution_count": null,
   "outputs": [],
   "source": [],
   "metadata": {
    "collapsed": false,
    "pycharm": {
     "name": "#%%\n"
    }
   }
  }
 ],
 "metadata": {
  "kernelspec": {
   "display_name": "Python 3",
   "language": "python",
   "name": "python3"
  },
  "language_info": {
   "codemirror_mode": {
    "name": "ipython",
    "version": 2
   },
   "file_extension": ".py",
   "mimetype": "text/x-python",
   "name": "python",
   "nbconvert_exporter": "python",
   "pygments_lexer": "ipython2",
   "version": "2.7.6"
  }
 },
 "nbformat": 4,
 "nbformat_minor": 0
}