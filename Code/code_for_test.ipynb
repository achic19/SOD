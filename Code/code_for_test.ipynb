{
 "cells": [
  {
   "cell_type": "code",
   "execution_count": 85,
   "metadata": {
    "collapsed": true,
    "pycharm": {
     "name": "#%%\n"
    }
   },
   "outputs": [],
   "source": [
    "## Run when initialise the code\n",
    "import os\n",
    "\n",
    "import geopandas as gpd\n",
    "import osmnx as ox\n",
    "from geopandas import GeoDataFrame, GeoSeries\n",
    "from osmnx import io\n",
    "import glob\n",
    "\n",
    "project_crs = 'epsg:3857'\n",
    "from sklearn.cluster import DBSCAN\n",
    "from shapely.geometry import Polygon, Point, LineString, MultiPolygon, MultiPoint\n",
    "import math\n",
    "import warnings\n",
    "import pandas as pd\n",
    "import shutil\n",
    "from tqdm import tqdm\n",
    "import time\n",
    "warnings.filterwarnings(action='ignore')\n",
    "from momepy import remove_false_nodes,extend_lines\n",
    "pjr_loc = os.path.dirname(os.getcwd())\n",
    "\n"
   ]
  },
  {
   "cell_type": "markdown",
   "metadata": {
    "pycharm": {
     "name": "#%% md\n"
    }
   },
   "source": [
    "<span style=\"color: Green;font-size: 30px\">Module 1:Preliminary work</span>\n",
    "<ul> <li>Download data from OpenStreetMap, project it, and convert it to a GeoDataFrame. OSMnx automatically resolves topology errors and retrieves only the street-related polylines.</li>\n",
    " <li>Identify roundabout elements, if any exist, and store them in a separate DataFrame.</li>\n",
    "  <li>Remove additional irrelevant line objects based on values of the OSM 'tunnel' and 'highway' keys.</li>\n",
    "   <li>Eliminate polylines that lack a name and calculate angles ranging from 0 to 180 degrees based on the bearing field.</li>\n",
    "   </ul>\n"
   ]
  },
  {
   "cell_type": "markdown",
   "metadata": {
    "pycharm": {
     "name": "#%% md\n"
    }
   },
   "source": [
    "<span style=\"color: Red;font-size: 30px\">Module 2 -3:Detect  parallel streets segments and merge them </span>\n",
    "<ul> <li>For each group of streets with the same name search for parallel segments</li>\n",
    " <li> Use DBSCAN to classify streets based on their angle, and group each class. Outliers could not consider parallel with any street, thus removed</li>\n",
    "  <li>The parallel test is on street segments that  have the same name and belong to the same angle group.\n",
    "    <ul><li>Eliminate polylines that lack a name and calculate angles ranging from 0 to 180 degrees based on the bearing field.</li></ul>\n",
    "    </li>\n",
    "\n",
    "   </ul>"
   ]
  },
  {
   "cell_type": "code",
   "execution_count": 76,
   "outputs": [
    {
     "name": "stdout",
     "output_type": "stream",
     "text": [
      "Turin\n"
     ]
    }
   ],
   "source": [
    "## Run when initialise the code\n",
    "# In this example, the data is extracted from OSM by specifying a location's name, but you can also download data using a specified polygon. The code is designed to handle multiple polygons or location names seamlessly.\n",
    "\n",
    "# Download data from OpenStreetMap, project it, and convert it to a GeoDataFrame. OSMnx automatically resolves topology errors and retrieves only the street-related polylines.\n",
    "\n",
    "place = 'Turin'\n",
    "print(place)\n",
    "data_folder  = f'places/{place.replace(\",\",\"_\").replace(\" \",\"_\")}_test'\n",
    "os.makedirs(f'{data_folder}/delete_2_nodes',exist_ok = True)\n",
    "os.makedirs(f'{data_folder}/split_tp_intersection',exist_ok = True)"
   ],
   "metadata": {
    "collapsed": false,
    "pycharm": {
     "name": "#%%\n"
    }
   }
  },
  {
   "cell_type": "code",
   "execution_count": 77,
   "outputs": [
    {
     "data": {
      "text/plain": "'places/Turin_test'"
     },
     "execution_count": 77,
     "metadata": {},
     "output_type": "execute_result"
    }
   ],
   "source": [
    "data_folder"
   ],
   "metadata": {
    "collapsed": false,
    "pycharm": {
     "name": "#%%\n"
    }
   }
  },
  {
   "cell_type": "code",
   "execution_count": 84,
   "outputs": [],
   "source": [
    "graph = ox.graph_from_place(place, network_type='all')\n",
    "graph = ox.bearing.add_edge_bearings(graph, precision=1)\n",
    "graph_pro = ox.projection.project_graph(graph, to_crs=project_crs)\n",
    "io.save_graph_geopackage(graph_pro, filepath=f'{data_folder}/osm_data.gpkg', encoding='utf-8', directed=False)\n"
   ],
   "metadata": {
    "collapsed": false,
    "pycharm": {
     "name": "#%%\n"
    }
   }
  },
  {
   "cell_type": "code",
   "execution_count": 78,
   "outputs": [],
   "source": [
    "## Run when initialise the code\n",
    "# find and store roundabout\n",
    "my_gdf = gpd.read_file(f'{data_folder}/osm_data.gpkg',layer = 'edges')# Identify roundabout elements, if any exist, and store them in a separate DataFrame.\n",
    "is_junction= True if 'junction' in my_gdf.columns else False\n",
    "if is_junction:\n",
    "    round_about = my_gdf[my_gdf['junction'].isin(['roundabout', 'circular'])]\n",
    "    my_gdf= my_gdf[~((my_gdf['junction'] == 'roundabout') | (my_gdf['junction'] == 'circular'))]"
   ],
   "metadata": {
    "collapsed": false,
    "pycharm": {
     "name": "#%%\n"
    }
   }
  },
  {
   "cell_type": "code",
   "execution_count": 79,
   "outputs": [],
   "source": [
    "\n",
    "# Remove additional irrelevant line objects based on values of the OSM 'tunnel' and 'highway' keys.\n",
    "if 'tunnel' in my_gdf.columns:\n",
    "    my_gdf = my_gdf[~((my_gdf['tunnel'] == 'building_passage') | (my_gdf['tunnel'] == 'yes'))]\n",
    "to_remove = my_gdf[~((my_gdf['highway'] == 'motorway') | (my_gdf['highway'] == 'trunk')| (my_gdf['highway'] == 'motorway_link')| (my_gdf['highway'] == 'motorway_link')| (my_gdf['highway'] == 'trunk_link'))]\n",
    "\n",
    "\n",
    "# Eliminate polylines that lack a name and calculate angles ranging from 0 to 180 degrees based on the bearing field.\n",
    "df_pro = to_remove.to_crs(project_crs).dropna(subset=['name'])\n",
    "df_pro = df_pro[df_pro['name']!='']\n",
    "df_pro['angle'] = df_pro['bearing'].apply(lambda x: x if x < 180 else x - 180)\n",
    "df_pro['length'] = df_pro.length"
   ],
   "metadata": {
    "collapsed": false,
    "pycharm": {
     "name": "#%%\n"
    }
   }
  },
  {
   "cell_type": "code",
   "execution_count": 80,
   "outputs": [
    {
     "data": {
      "text/plain": "                 u            v  key                    osmid  oneway ref  \\\n5         13924308    945268794    0                 61293337    True       \n6         13924308   1625774856    0                133270821    True       \n7         13924308   6711150268    0                125743679    True       \n8         13924308   4738859081    0                966240517    True       \n9        945268794   4612216359    0                186768349    True       \n...            ...          ...  ...                      ...     ...  ..   \n49737  11152626706  11152626738    0  [555010500, 1020865228]    True       \n49739  11152566893  11152626707    0               1020865229    True       \n49741  11152566901  11152626712    0               1033056948    True       \n49743  11152626709  11152626708    0   [1203064155, 28105724]    True       \n49755  11158664093  11158664096    0                 44104491    True       \n\n           highway maxspeed reversed     length  ...                    name  \\\n5         tertiary             False  14.765415  ...   Corso Principe Oddone   \n6          primary             False  29.481956  ...          Piazza Statuto   \n7          primary             False  25.112347  ...  Corso Principe Eugenio   \n8          primary             False  14.741098  ...          Piazza Statuto   \n9         tertiary             False  25.535312  ...   Corso Principe Oddone   \n...            ...      ...      ...        ...  ...                     ...   \n49737      primary             False  30.434909  ...           Corso Venezia   \n49739      primary             False  22.518760  ...           Corso Venezia   \n49741  residential             False  16.673466  ...           Corso Venezia   \n49743     tertiary             False  13.133241  ...             Via Breglio   \n49755  residential       50    False  58.803295  ...          Via Nino Bixio   \n\n       lanes  access bridge junction width service tunnel  \\\n5                                                           \n6          2                                                \n7          2                                                \n8          2                                                \n9                                                           \n...      ...     ...    ...      ...   ...     ...    ...   \n49737      2     yes                                        \n49739                                                       \n49741                                                       \n49743                                                       \n49755      1                                                \n\n                                                geometry angle  \n5      LINESTRING (853760.994 5633752.261, 853762.875...   7.3  \n6      LINESTRING (853760.994 5633752.261, 853731.528...  91.9  \n7      LINESTRING (853785.084 5633759.355, 853760.994...  73.6  \n8      LINESTRING (853760.282 5633737.537, 853760.994...   2.8  \n9      LINESTRING (853762.875 5633766.906, 853774.130...  26.2  \n...                                                  ...   ...  \n49737  LINESTRING (855579.721 5637034.031, 855572.730...  35.5  \n49739  LINESTRING (855594.749 5637018.434, 855608.141...  36.5  \n49741  LINESTRING (855596.986 5636992.382, 855601.072...  37.1  \n49743  LINESTRING (855558.681 5637036.759, 855551.201...  97.4  \n49755  LINESTRING (852272.140 5632174.232, 852245.223...  27.2  \n\n[27000 rows x 23 columns]",
      "text/html": "<div>\n<style scoped>\n    .dataframe tbody tr th:only-of-type {\n        vertical-align: middle;\n    }\n\n    .dataframe tbody tr th {\n        vertical-align: top;\n    }\n\n    .dataframe thead th {\n        text-align: right;\n    }\n</style>\n<table border=\"1\" class=\"dataframe\">\n  <thead>\n    <tr style=\"text-align: right;\">\n      <th></th>\n      <th>u</th>\n      <th>v</th>\n      <th>key</th>\n      <th>osmid</th>\n      <th>oneway</th>\n      <th>ref</th>\n      <th>highway</th>\n      <th>maxspeed</th>\n      <th>reversed</th>\n      <th>length</th>\n      <th>...</th>\n      <th>name</th>\n      <th>lanes</th>\n      <th>access</th>\n      <th>bridge</th>\n      <th>junction</th>\n      <th>width</th>\n      <th>service</th>\n      <th>tunnel</th>\n      <th>geometry</th>\n      <th>angle</th>\n    </tr>\n  </thead>\n  <tbody>\n    <tr>\n      <th>5</th>\n      <td>13924308</td>\n      <td>945268794</td>\n      <td>0</td>\n      <td>61293337</td>\n      <td>True</td>\n      <td></td>\n      <td>tertiary</td>\n      <td></td>\n      <td>False</td>\n      <td>14.765415</td>\n      <td>...</td>\n      <td>Corso Principe Oddone</td>\n      <td></td>\n      <td></td>\n      <td></td>\n      <td></td>\n      <td></td>\n      <td></td>\n      <td></td>\n      <td>LINESTRING (853760.994 5633752.261, 853762.875...</td>\n      <td>7.3</td>\n    </tr>\n    <tr>\n      <th>6</th>\n      <td>13924308</td>\n      <td>1625774856</td>\n      <td>0</td>\n      <td>133270821</td>\n      <td>True</td>\n      <td></td>\n      <td>primary</td>\n      <td></td>\n      <td>False</td>\n      <td>29.481956</td>\n      <td>...</td>\n      <td>Piazza Statuto</td>\n      <td>2</td>\n      <td></td>\n      <td></td>\n      <td></td>\n      <td></td>\n      <td></td>\n      <td></td>\n      <td>LINESTRING (853760.994 5633752.261, 853731.528...</td>\n      <td>91.9</td>\n    </tr>\n    <tr>\n      <th>7</th>\n      <td>13924308</td>\n      <td>6711150268</td>\n      <td>0</td>\n      <td>125743679</td>\n      <td>True</td>\n      <td></td>\n      <td>primary</td>\n      <td></td>\n      <td>False</td>\n      <td>25.112347</td>\n      <td>...</td>\n      <td>Corso Principe Eugenio</td>\n      <td>2</td>\n      <td></td>\n      <td></td>\n      <td></td>\n      <td></td>\n      <td></td>\n      <td></td>\n      <td>LINESTRING (853785.084 5633759.355, 853760.994...</td>\n      <td>73.6</td>\n    </tr>\n    <tr>\n      <th>8</th>\n      <td>13924308</td>\n      <td>4738859081</td>\n      <td>0</td>\n      <td>966240517</td>\n      <td>True</td>\n      <td></td>\n      <td>primary</td>\n      <td></td>\n      <td>False</td>\n      <td>14.741098</td>\n      <td>...</td>\n      <td>Piazza Statuto</td>\n      <td>2</td>\n      <td></td>\n      <td></td>\n      <td></td>\n      <td></td>\n      <td></td>\n      <td></td>\n      <td>LINESTRING (853760.282 5633737.537, 853760.994...</td>\n      <td>2.8</td>\n    </tr>\n    <tr>\n      <th>9</th>\n      <td>945268794</td>\n      <td>4612216359</td>\n      <td>0</td>\n      <td>186768349</td>\n      <td>True</td>\n      <td></td>\n      <td>tertiary</td>\n      <td></td>\n      <td>False</td>\n      <td>25.535312</td>\n      <td>...</td>\n      <td>Corso Principe Oddone</td>\n      <td></td>\n      <td></td>\n      <td></td>\n      <td></td>\n      <td></td>\n      <td></td>\n      <td></td>\n      <td>LINESTRING (853762.875 5633766.906, 853774.130...</td>\n      <td>26.2</td>\n    </tr>\n    <tr>\n      <th>...</th>\n      <td>...</td>\n      <td>...</td>\n      <td>...</td>\n      <td>...</td>\n      <td>...</td>\n      <td>...</td>\n      <td>...</td>\n      <td>...</td>\n      <td>...</td>\n      <td>...</td>\n      <td>...</td>\n      <td>...</td>\n      <td>...</td>\n      <td>...</td>\n      <td>...</td>\n      <td>...</td>\n      <td>...</td>\n      <td>...</td>\n      <td>...</td>\n      <td>...</td>\n      <td>...</td>\n    </tr>\n    <tr>\n      <th>49737</th>\n      <td>11152626706</td>\n      <td>11152626738</td>\n      <td>0</td>\n      <td>[555010500, 1020865228]</td>\n      <td>True</td>\n      <td></td>\n      <td>primary</td>\n      <td></td>\n      <td>False</td>\n      <td>30.434909</td>\n      <td>...</td>\n      <td>Corso Venezia</td>\n      <td>2</td>\n      <td>yes</td>\n      <td></td>\n      <td></td>\n      <td></td>\n      <td></td>\n      <td></td>\n      <td>LINESTRING (855579.721 5637034.031, 855572.730...</td>\n      <td>35.5</td>\n    </tr>\n    <tr>\n      <th>49739</th>\n      <td>11152566893</td>\n      <td>11152626707</td>\n      <td>0</td>\n      <td>1020865229</td>\n      <td>True</td>\n      <td></td>\n      <td>primary</td>\n      <td></td>\n      <td>False</td>\n      <td>22.518760</td>\n      <td>...</td>\n      <td>Corso Venezia</td>\n      <td></td>\n      <td></td>\n      <td></td>\n      <td></td>\n      <td></td>\n      <td></td>\n      <td></td>\n      <td>LINESTRING (855594.749 5637018.434, 855608.141...</td>\n      <td>36.5</td>\n    </tr>\n    <tr>\n      <th>49741</th>\n      <td>11152566901</td>\n      <td>11152626712</td>\n      <td>0</td>\n      <td>1033056948</td>\n      <td>True</td>\n      <td></td>\n      <td>residential</td>\n      <td></td>\n      <td>False</td>\n      <td>16.673466</td>\n      <td>...</td>\n      <td>Corso Venezia</td>\n      <td></td>\n      <td></td>\n      <td></td>\n      <td></td>\n      <td></td>\n      <td></td>\n      <td></td>\n      <td>LINESTRING (855596.986 5636992.382, 855601.072...</td>\n      <td>37.1</td>\n    </tr>\n    <tr>\n      <th>49743</th>\n      <td>11152626709</td>\n      <td>11152626708</td>\n      <td>0</td>\n      <td>[1203064155, 28105724]</td>\n      <td>True</td>\n      <td></td>\n      <td>tertiary</td>\n      <td></td>\n      <td>False</td>\n      <td>13.133241</td>\n      <td>...</td>\n      <td>Via Breglio</td>\n      <td></td>\n      <td></td>\n      <td></td>\n      <td></td>\n      <td></td>\n      <td></td>\n      <td></td>\n      <td>LINESTRING (855558.681 5637036.759, 855551.201...</td>\n      <td>97.4</td>\n    </tr>\n    <tr>\n      <th>49755</th>\n      <td>11158664093</td>\n      <td>11158664096</td>\n      <td>0</td>\n      <td>44104491</td>\n      <td>True</td>\n      <td></td>\n      <td>residential</td>\n      <td>50</td>\n      <td>False</td>\n      <td>58.803295</td>\n      <td>...</td>\n      <td>Via Nino Bixio</td>\n      <td>1</td>\n      <td></td>\n      <td></td>\n      <td></td>\n      <td></td>\n      <td></td>\n      <td></td>\n      <td>LINESTRING (852272.140 5632174.232, 852245.223...</td>\n      <td>27.2</td>\n    </tr>\n  </tbody>\n</table>\n<p>27000 rows × 23 columns</p>\n</div>"
     },
     "execution_count": 80,
     "metadata": {},
     "output_type": "execute_result"
    }
   ],
   "source": [
    "df_pro"
   ],
   "metadata": {
    "collapsed": false,
    "pycharm": {
     "name": "#%%\n"
    }
   }
  },
  {
   "cell_type": "code",
   "execution_count": 81,
   "outputs": [],
   "source": [
    "# region\n",
    "# Functions and classes to be utilized - Module 2\n",
    "def length_of_parallel(my_s_join: GeoDataFrame, the_buffer: GeoSeries, geo_field: str) -> int:\n",
    "    my_s_join['geometry'] = my_s_join[geo_field]\n",
    "    new_data_0 = my_s_join.sjoin(GeoDataFrame(geometry=the_buffer, crs=project_crs), how='inner').reset_index()\n",
    "    if len(new_data_0) == 0:\n",
    "        return 0\n",
    "    return len(new_data_0[new_data_0['index'] != new_data_0['index_right']])\n",
    "def check_parallelism(to_translate: GeoDataFrame) -> bool:\n",
    "    my_buffer = to_translate['geometry'].buffer(cap_style=2, distance=30, join_style=3)\n",
    "    to_translate['geometry_right'] = to_translate['geometry'].apply(lambda x: x.parallel_offset(35, 'right'))\n",
    "    to_translate['geometry_left'] = to_translate['geometry'].apply(lambda x: x.parallel_offset(35, 'left'))\n",
    "    if length_of_parallel(to_translate, my_buffer, 'geometry_right') > 10 or length_of_parallel(to_translate, my_buffer, 'geometry_left') > 10:\n",
    "        return True\n",
    "    else:\n",
    "        return False\n",
    "\n",
    "# Functions and classes to be utilized - Module 3\n",
    "def update_list(line_local):\n",
    "    \"\"\"\n",
    "    add the first start/end point into the list\n",
    "    :param line_local:\n",
    "    :return:\n",
    "    \"\"\"\n",
    "    list_pnts_of_line_group.extend([Point(line_local.coords[0]), Point(line_local.coords[-1])])\n",
    "def create_center_line(one_poly):\n",
    "    \"\"\"\n",
    "    This method calculate new line between the farthest points of the simplified polygon\n",
    "    :param one_poly:\n",
    "    :return:\n",
    "    \"\"\"\n",
    "\n",
    "    pnt_list = one_poly.exterior.coords[:-1]\n",
    "    list_shp = [Point(item) for item in pnt_list]\n",
    "    dis, dis_2, dis_3 = 0, 0, 0\n",
    "    third_dis = (-1, -1)\n",
    "    # The new line will be determined by the third-farthest points\n",
    "    for k, point in enumerate(list_shp):\n",
    "        j = k\n",
    "        for point2 in list_shp[k + 1:]:\n",
    "            j += 1\n",
    "            temp_dis = point.distance(point2)\n",
    "            if temp_dis > dis:\n",
    "                dis = point.distance(point2)\n",
    "            elif temp_dis > dis_2:\n",
    "                dis_2 = point.distance(point2)\n",
    "            elif temp_dis > dis_3:\n",
    "                third_dis = (k, j)\n",
    "                dis_3 = point.distance(point2)\n",
    "    max_dist['name'].extend([id_pol + 2, id_pol + 2])\n",
    "    max_dist['geometry'].extend([list_shp[third_dis[0]], list_shp[third_dis[1]]])\n",
    "def add_more_pnts_to_new_lines(pnt_f_loc: Point, pnt_l_loc: Point, line_pnts: list) -> list:\n",
    "    \"\"\"\n",
    "    This method checks if more points should be added to the new lines by checking along the new line if the distance to the old network roads are more than 10 meters\n",
    "    :return:\n",
    "    \"\"\"\n",
    "    # Calculate distance and azimuth between the first and last point\n",
    "    dist = pnt_f_loc.distance(pnt_l_loc)\n",
    "    x_0 = pnt_f_loc.coords[0][0]\n",
    "    y_0 = pnt_f_loc.coords[0][1]\n",
    "    bearing = math.atan2(pnt_l_loc.coords[0][0] - x_0, pnt_l_loc.coords[0][1] - y_0)\n",
    "    bearing = bearing + 2 * math.pi if bearing < 0 else bearing\n",
    "    # Calculate the number of  checks going to carry out\n",
    "    length_to_check  =50\n",
    "    loops = int(dist /length_to_check)\n",
    "\n",
    "    # Calculate  the first point over the line\n",
    "    for dis_on_line in range(1, loops):\n",
    "        x_new = x_0 + length_to_check  * dis_on_line * math.sin(bearing)\n",
    "        y_new = y_0 + length_to_check  * dis_on_line * math.cos(bearing)\n",
    "        # S_joins to all the network lines (same name and group)\n",
    "        # if the distance is less than 10 meters continue, else: find the projection point and add it to the correct location and run the function agein\n",
    "        one_pnt_df = GeoDataFrame(geometry=[Point(x_new, y_new)], crs=project_crs)\n",
    "        s_join_loc = one_pnt_df.sjoin_nearest(data, distance_col='dis').iloc[0]\n",
    "        if s_join_loc['dis'] > 10:\n",
    "            pnt_med = s_join_loc['geometry']\n",
    "            line = data.loc[s_join_loc['index_right']]['geometry']\n",
    "            line_pnts.append(line.interpolate(line.project(pnt_med)))\n",
    "            line_pnts = add_more_pnts_to_new_lines(pnt_med, pnt_l_loc, line_pnts)\n",
    "            return line_pnts\n",
    "    return line_pnts\n",
    "def update_df_with_center_line(new_line,is_simplified=0,group_name= -1):\n",
    "    \"\"\"\n",
    "    update our dictionary with new lines\n",
    "    :param is_simplified:\n",
    "    :param new_line:\n",
    "    :param group_name: According to the DBSCAN algorithm, if no =-1\n",
    "    :return:\n",
    "    \"\"\"\n",
    "    dic_final['name'].append(name)\n",
    "    # dic_final['geometry'].append(LineString(coordinates=(pnt_list[max_dis[0]], pnt_list[max_dis[1]])))\n",
    "    dic_final['geometry'].append(new_line)\n",
    "    dic_final['highway'].append(data.iloc[0]['highway'])\n",
    "    dic_final['bearing'].append(data['angle'].mean())\n",
    "    dic_final['group'].append(group_name)\n",
    "    dic_final['is_simplified'].append(is_simplified)\n",
    "# group the street segments by street name\n",
    "my_groupby = df_pro.groupby('name')\n",
    "dic_final = {'name': [], 'geometry': [], 'highway': [], 'bearing': [], 'group': [],'is_simplified':[]}\n",
    "\n",
    "for_time = len(my_groupby)\n",
    "# endregion"
   ],
   "metadata": {
    "collapsed": false,
    "pycharm": {
     "name": "#%%\n"
    }
   }
  },
  {
   "cell_type": "code",
   "execution_count": 82,
   "outputs": [
    {
     "name": "stderr",
     "output_type": "stream",
     "text": [
      "100%|██████████| 2493/2493 [03:52<00:00, 10.70it/s] "
     ]
    },
    {
     "name": "stdout",
     "output_type": "stream",
     "text": [
      "11133\n"
     ]
    },
    {
     "name": "stderr",
     "output_type": "stream",
     "text": [
      "\n"
     ]
    }
   ],
   "source": [
    "is_test = False\n",
    "number_of_parallel = 0 # count the number of polylines were refined\n",
    "with tqdm(total=for_time) as pbar: #  It is used in order to visualise the progress by progress bar\n",
    "    for i, street in enumerate(my_groupby):\n",
    "        if is_test:\n",
    "            name = 'Corso Orbassano','Corso Umbria',\"['Corso Venezia', 'Raccordo Autostradale Torino-Caselle'].'monterey, boulevard, the street for example,Corso Achille Mario Dogliotti, Vicolo Valtorta IN THE END\"\n",
    "            res = my_groupby.get_group(name)\n",
    "        else:\n",
    "            res = street[1] # it holds all the streets\n",
    "            name = street[0] # It holds the streets name\n",
    "                # For each group of streets with the same name search for parallel segments\n",
    "        pbar.update(1) # for the progress bar\n",
    "        # Remove segments without angle. If less than two segments being left move to the next group.\n",
    "        res = res.dropna(subset=['angle'], axis=0)\n",
    "        if len(res) < 2:\n",
    "            data = res\n",
    "            _  = res['geometry'].apply(lambda x:update_df_with_center_line(x))\n",
    "            continue\n",
    "        # Use DBSCAN to classify streets based on their angle, and group each class. Outliers could not consider parallel with any street, thus removed\n",
    "        res['group'] = DBSCAN(eps=10, min_samples=2).fit(res['angle'].to_numpy().reshape(-1, 1)).labels_\n",
    "        # if all is -1, don't touch the element\n",
    "        if (res['group']== -1).all():\n",
    "            data = res\n",
    "            _  = res['geometry'].apply(lambda x:update_df_with_center_line(x))\n",
    "            continue\n",
    "        # cur_group = res[(res['group'] > -1) | (res.length>20)].groupby('group') # Remove short segments with -1 classification values\n",
    "        # The parallel test is on street segments that  have the same name and belong to the same angle group.\n",
    "        for group in res.groupby('group'):\n",
    "            data = group[1]\n",
    "            if group[0] ==-1: # No need to check if is parallel\n",
    "                _  = data['geometry'].apply(lambda x:update_df_with_center_line(x))\n",
    "                continue\n",
    "            if check_parallelism(data.copy()):\n",
    "                number_of_parallel+=len(data) # Update the number of parallel polylines\n",
    "                # if among of lines with same angles some are parallel:\n",
    "                # new points DataFrame of start/end line of each group\n",
    "                list_pnts_of_line_group = []\n",
    "                data['geometry'].apply(update_list)\n",
    "                df_pnts = GeoDataFrame(geometry=list_pnts_of_line_group, crs=project_crs).drop_duplicates()\n",
    "\n",
    "                # unify lines to one polygon\n",
    "                buffers = data.buffer(cap_style=3, distance=30, join_style=3)\n",
    "                one_buffer = buffers.unary_union\n",
    "\n",
    "                max_dist = {'name': [], 'geometry': []}\n",
    "                # simplify polygon with simplify function. If one_buffer is multipolygon object simplify each one them separately\n",
    "                if isinstance(one_buffer, MultiPolygon):\n",
    "                    for id_pol, polygon in enumerate(one_buffer):\n",
    "                        create_center_line(polygon)\n",
    "                else:\n",
    "                    id_pol = -1\n",
    "                    create_center_line(one_buffer)\n",
    "                max_df = GeoDataFrame(max_dist, crs=project_crs)\n",
    "                max_df.to_file(f'{data_folder}/max_df.shp')\n",
    "                # find for each points the closet point from the oribinal data. the closet points will create the new line\n",
    "                s_join = max_df.sjoin_nearest(df_pnts).groupby('name')\n",
    "                for geo in s_join:\n",
    "                    same_name = geo[1]\n",
    "                    if same_name.iloc[0]['index_right'] == same_name.iloc[1]['index_right']:\n",
    "                        continue\n",
    "                    in_0 = same_name.iloc[0]['index_right']\n",
    "                    in_1 = same_name.iloc[1]['index_right']\n",
    "                    # These points will be served to be initial reference in order to find more points\n",
    "                    pnt_f = df_pnts.loc[in_0]['geometry']\n",
    "                    pnt_l = df_pnts.loc[in_1]['geometry']\n",
    "                    lines_pnt_geo = add_more_pnts_to_new_lines(pnt_f, pnt_l, [pnt_f])\n",
    "                    lines_pnt_geo.append(pnt_l)\n",
    "                    # Update dic_final\n",
    "                    update_df_with_center_line(LineString(lines_pnt_geo),1,group[0])\n",
    "\n",
    "            else:\n",
    "                _  = data['geometry'].apply(lambda x:update_df_with_center_line(x))\n",
    "        if is_test:\n",
    "            break\n",
    "\n",
    "\n",
    "print(number_of_parallel)"
   ],
   "metadata": {
    "collapsed": false,
    "pycharm": {
     "name": "#%%\n"
    }
   }
  },
  {
   "cell_type": "code",
   "execution_count": 89,
   "outputs": [
    {
     "name": "stdout",
     "output_type": "stream",
     "text": [
      "create new files\n"
     ]
    }
   ],
   "source": [
    "print('create new files')\n",
    "# remove short lines\n",
    "final_cols = ['name', 'geometry', 'highway', 'bearing', 'length']\n",
    "new_network = GeoDataFrame(dic_final, crs=project_crs)\n",
    "\n",
    "# create network\n",
    "new_network.to_file(f'{data_folder}/simp.shp')"
   ],
   "metadata": {
    "collapsed": false,
    "pycharm": {
     "name": "#%%\n"
    }
   }
  },
  {
   "cell_type": "code",
   "execution_count": 86,
   "outputs": [
    {
     "data": {
      "text/plain": "                                                 name     highway  bearing  \\\n0                                                  11        path   106.60   \n1                                                  11        path   106.60   \n2                                                  18        path    40.85   \n3                                                  18        path    40.85   \n4                                                  18        path   164.90   \n...                                               ...         ...      ...   \n16264        ['Viale Enrico Millo', 'Viale Virgilio']  pedestrian     7.40   \n16265       ['Viale Rombon', \"Viale Stretta D'Auzza\"]        path    84.20   \n16266  ['Viale San Gabriele', 'Viale Castelgomberto']        path    30.80   \n16267        ['Viale Stefano Turr', 'Viale Virgilio']  pedestrian    27.10   \n16268                          via Edoardo Perroncito     service    26.90   \n\n       group  is_simplif                                           geometry  \n0         -1           0  LINESTRING (857888.020 5626761.570, 857902.213...  \n1         -1           0  LINESTRING (857638.976 5626560.639, 857618.671...  \n2         -1           0  LINESTRING (860173.665 5627099.066, 860141.427...  \n3         -1           0  LINESTRING (860173.665 5627099.066, 860196.674...  \n4         -1           0  LINESTRING (860110.012 5627377.578, 860111.003...  \n...      ...         ...                                                ...  \n16264     -1           0  LINESTRING (855537.353 5629215.626, 855536.028...  \n16265     -1           0  LINESTRING (859391.734 5626943.304, 859404.759...  \n16266     -1           0  LINESTRING (858361.706 5626215.887, 858343.194...  \n16267     -1           0  LINESTRING (855542.740 5629433.523, 855532.020...  \n16268     -1           0  LINESTRING (846757.429 5633375.691, 846856.748...  \n\n[16269 rows x 6 columns]",
      "text/html": "<div>\n<style scoped>\n    .dataframe tbody tr th:only-of-type {\n        vertical-align: middle;\n    }\n\n    .dataframe tbody tr th {\n        vertical-align: top;\n    }\n\n    .dataframe thead th {\n        text-align: right;\n    }\n</style>\n<table border=\"1\" class=\"dataframe\">\n  <thead>\n    <tr style=\"text-align: right;\">\n      <th></th>\n      <th>name</th>\n      <th>highway</th>\n      <th>bearing</th>\n      <th>group</th>\n      <th>is_simplif</th>\n      <th>geometry</th>\n    </tr>\n  </thead>\n  <tbody>\n    <tr>\n      <th>0</th>\n      <td>11</td>\n      <td>path</td>\n      <td>106.60</td>\n      <td>-1</td>\n      <td>0</td>\n      <td>LINESTRING (857888.020 5626761.570, 857902.213...</td>\n    </tr>\n    <tr>\n      <th>1</th>\n      <td>11</td>\n      <td>path</td>\n      <td>106.60</td>\n      <td>-1</td>\n      <td>0</td>\n      <td>LINESTRING (857638.976 5626560.639, 857618.671...</td>\n    </tr>\n    <tr>\n      <th>2</th>\n      <td>18</td>\n      <td>path</td>\n      <td>40.85</td>\n      <td>-1</td>\n      <td>0</td>\n      <td>LINESTRING (860173.665 5627099.066, 860141.427...</td>\n    </tr>\n    <tr>\n      <th>3</th>\n      <td>18</td>\n      <td>path</td>\n      <td>40.85</td>\n      <td>-1</td>\n      <td>0</td>\n      <td>LINESTRING (860173.665 5627099.066, 860196.674...</td>\n    </tr>\n    <tr>\n      <th>4</th>\n      <td>18</td>\n      <td>path</td>\n      <td>164.90</td>\n      <td>-1</td>\n      <td>0</td>\n      <td>LINESTRING (860110.012 5627377.578, 860111.003...</td>\n    </tr>\n    <tr>\n      <th>...</th>\n      <td>...</td>\n      <td>...</td>\n      <td>...</td>\n      <td>...</td>\n      <td>...</td>\n      <td>...</td>\n    </tr>\n    <tr>\n      <th>16264</th>\n      <td>['Viale Enrico Millo', 'Viale Virgilio']</td>\n      <td>pedestrian</td>\n      <td>7.40</td>\n      <td>-1</td>\n      <td>0</td>\n      <td>LINESTRING (855537.353 5629215.626, 855536.028...</td>\n    </tr>\n    <tr>\n      <th>16265</th>\n      <td>['Viale Rombon', \"Viale Stretta D'Auzza\"]</td>\n      <td>path</td>\n      <td>84.20</td>\n      <td>-1</td>\n      <td>0</td>\n      <td>LINESTRING (859391.734 5626943.304, 859404.759...</td>\n    </tr>\n    <tr>\n      <th>16266</th>\n      <td>['Viale San Gabriele', 'Viale Castelgomberto']</td>\n      <td>path</td>\n      <td>30.80</td>\n      <td>-1</td>\n      <td>0</td>\n      <td>LINESTRING (858361.706 5626215.887, 858343.194...</td>\n    </tr>\n    <tr>\n      <th>16267</th>\n      <td>['Viale Stefano Turr', 'Viale Virgilio']</td>\n      <td>pedestrian</td>\n      <td>27.10</td>\n      <td>-1</td>\n      <td>0</td>\n      <td>LINESTRING (855542.740 5629433.523, 855532.020...</td>\n    </tr>\n    <tr>\n      <th>16268</th>\n      <td>via Edoardo Perroncito</td>\n      <td>service</td>\n      <td>26.90</td>\n      <td>-1</td>\n      <td>0</td>\n      <td>LINESTRING (846757.429 5633375.691, 846856.748...</td>\n    </tr>\n  </tbody>\n</table>\n<p>16269 rows × 6 columns</p>\n</div>"
     },
     "execution_count": 86,
     "metadata": {},
     "output_type": "execute_result"
    }
   ],
   "source": [
    "# starting point\n",
    "new_network = gpd.read_file(f'{data_folder}/simp.shp')\n",
    "new_network"
   ],
   "metadata": {
    "collapsed": false,
    "pycharm": {
     "name": "#%%\n"
    }
   }
  },
  {
   "cell_type": "code",
   "execution_count": 87,
   "outputs": [],
   "source": [
    "# region\n",
    "# Classes to be employed during the execution of this code.\n",
    "#Intersection\n",
    "#Split in intersection\n",
    "class Intersection:\n",
    "    def __init__(self,network:GeoDataFrame,number:int):\n",
    "        \"\"\"\n",
    "\n",
    "        :param network:\n",
    "        :param number: give a unique name to the files created during the process (this class will be use again in this code)\n",
    "        \"\"\"\n",
    "        self.my_network = network\n",
    "        self.inter_pnt_dic = {'geometry':[],'name':[]}\n",
    "        self.lines_to_delete =[]\n",
    "        self.num = number\n",
    "    def delete_false_intersection(self,name_to_splt='name'):\n",
    "\n",
    "        if 'length' in self.my_network.columns: # To run the code smoothly we need to remove 'length' col if exist\n",
    "            self.my_network.drop(columns='length',inplace= True)\n",
    "        org_network= self.my_network.copy()\n",
    "        # It should be executed twice in order to clean all\n",
    "        for _  in range(2):\n",
    "            # First clean all the false node\n",
    "            self.my_network = remove_false_nodes(self.my_network)\n",
    "            # the previous function has changed the topology so the length should be updated\n",
    "            self.my_network['length'] =self.my_network.length\n",
    "            self.my_network  =self.my_network.drop_duplicates(subset='length') # remove false intersection duplicate many polyline which should be removed\n",
    "            self.my_network.reset_index(drop=True,inplace= True) # Changes has been made to the geometry so the index should be reset\n",
    "\n",
    "        # Update street when it is empty\n",
    "        def update_street_name():\n",
    "            \"\"\"\n",
    "            The function: remove_false_nodes delete the polyline street names so this method repair that by found for those without name the closet polyline from the original dataframe and use its name.\n",
    "            :return:\n",
    "            \"\"\"\n",
    "            df1= self.my_network\n",
    "            # Split df1 into two GeoDataFrames: df3 (with names) and df4 (without names)\n",
    "            df3 = df1[df1[name_to_splt].notna()]\n",
    "            df4 = df1[df1[name_to_splt].isna()]\n",
    "            df = gpd.sjoin_nearest(df4,org_network)\n",
    "            # use only one polyline from the original dataframe for name even if the algorithm may found more\n",
    "            df = df.reset_index().drop_duplicates(subset='index', keep='first').set_index('index',drop=True)\n",
    "            rel_col = [col for col in df.columns if col.endswith(\"right\")] + ['length','geometry']\n",
    "            df =df [rel_col]\n",
    "            # Replace '_right' with an empty string for all column names\n",
    "            df.columns = df.columns.str.replace(r'_right$', '', regex=True)\n",
    "            df = df.drop(columns='index')\n",
    "            df.index.name = None\n",
    "            self.my_network =  df.append(df3)\n",
    "\n",
    "        update_street_name()\n",
    "\n",
    "\n",
    "\n",
    "    def intersection_network(self):\n",
    "\n",
    "        # Create buffer around each element\n",
    "        buffer_around_lines= self.my_network['geometry'].buffer(cap_style=3, distance=1, join_style=3)\n",
    "\n",
    "\n",
    "        # s_join between buffer to lines\n",
    "        s_join_0 =gpd.sjoin(left_df=GeoDataFrame(geometry=buffer_around_lines,crs=project_crs),right_df=self.my_network)\n",
    "\n",
    "        # delete lines belong to the buffer\n",
    "        s_join = s_join_0[s_join_0.index!=s_join_0['index_right']]\n",
    "\n",
    "\n",
    "        # Find new intersections that are not at the beginning or end of the line\n",
    "        for_time =len(s_join)\n",
    "        with tqdm(total=for_time) as pbar:\n",
    "            s_join.apply(lambda x: self.find_intersection_points(x,pbar), axis=1)\n",
    "        if len(self.inter_pnt_dic)==0:\n",
    "            return\n",
    "        inter_pnt_gdf = GeoDataFrame(self.inter_pnt_dic,crs=project_crs)\n",
    "\n",
    "        # Split string line by points\n",
    "        segments = {'geometry':[],'org_id':[]}\n",
    "        # Groupby points name (which is the line they should split)\n",
    "        my_groups =  inter_pnt_gdf.groupby('name')\n",
    "        for_time = len(my_groups)\n",
    "        with  tqdm(total=for_time) as pbar:\n",
    "            for group_pnts in my_groups :\n",
    "                pbar.update(1)\n",
    "                points  = group_pnts[1]\n",
    "                points['is_split'] = True\n",
    "\n",
    "                # get the line to split by comparing the name\n",
    "                row = self.my_network.loc[group_pnts[0]]\n",
    "                current = list(row.geometry.coords)\n",
    "                points_line = [Point(x) for x in current]\n",
    "                points_line_gdf = GeoDataFrame(geometry=points_line,crs=project_crs)\n",
    "                points_line_gdf['is_split'] = False\n",
    "\n",
    "                # append all the points together (line points and split points)\n",
    "                line_all_pnts = points_line_gdf.append(points)\n",
    "\n",
    "                # Find the distance of each point form the begining of the line on the line.\n",
    "                line_all_pnts['dis_from_the_start'] = line_all_pnts['geometry'].apply(lambda x:row.geometry.project(x))\n",
    "                line_all_pnts.sort_values('dis_from_the_start',inplace=True)\n",
    "\n",
    "                # split the line\n",
    "                seg =[]\n",
    "                for point in line_all_pnts.iterrows():\n",
    "                    prop = point[1]\n",
    "                    seg.append(prop['geometry'])\n",
    "                    if prop['is_split']:\n",
    "                        segments['geometry'].append(LineString(seg))\n",
    "                        segments['org_id'].append(row.name)\n",
    "                        seg = [prop['geometry']]\n",
    "                # if the split point is the last one, you don't need to create new segment\n",
    "                if len(seg)>1:\n",
    "                    segments['geometry'].append(LineString(seg))\n",
    "                    segments['org_id'].append(row.name)\n",
    "        network_split = GeoDataFrame(data=segments,crs=project_crs)\n",
    "        cols_no_geometry = self.my_network.columns[:-1]\n",
    "        network_split_final = network_split.set_index('org_id')\n",
    "        network_split_final[cols_no_geometry] =self.my_network[cols_no_geometry]\n",
    "\n",
    "        # remove old and redundant line from our network and update with new one\n",
    "        network_split =self.my_network.drop(index=network_split_final.index.unique()).append(network_split_final).drop(index= self.lines_to_delete)\n",
    "        network_split['length'] = network_split.length\n",
    "        self.my_network = network_split\n",
    "        self.my_network.reset_index(drop=True,inplace= True)\n",
    "\n",
    "    def find_intersection_points(self,row,pbar):\n",
    "        r\"\"\"\n",
    "        find the intersection points between the two lines\n",
    "        :param row:\n",
    "        :return:\n",
    "        \"\"\"\n",
    "        try:\n",
    "            pbar.update(1)\n",
    "            line_1 = self.my_network.loc[row.name]\n",
    "            line_2 =  self.my_network.loc[row['index_right']]\n",
    "            pnt = line_1.geometry.intersection(line_2.geometry)\n",
    "            # If there are more than one intersection between two lines, one of the lines should be deleted.\n",
    "            if isinstance(pnt,LineString):\n",
    "                return\n",
    "            if isinstance(pnt,MultiPoint):\n",
    "                temp_line= line_1.name if line_1.length< line_2.length else line_2.name\n",
    "                if temp_line not in self.lines_to_delete:\n",
    "                    self.lines_to_delete.append(temp_line)\n",
    "                return\n",
    "            # If it is first or end continue OR if there is no intersection between the two lines\n",
    "            if len(pnt.coords)==0 or pnt.coords[0]==line_1.geometry.coords[0] or pnt.coords[0]==line_1.geometry.coords[-1]:\n",
    "                return\n",
    "            self.inter_pnt_dic['geometry'].append(pnt)\n",
    "            self.inter_pnt_dic['name'].append(row.name)\n",
    "        except:\n",
    "            print(f\"{row.name},{row['index_right']}:{pnt}\")\n",
    "\n",
    "\n",
    "#Roundabout\n",
    "class EnvEntity:\n",
    "        def __init__(self,network):\n",
    "            self.dead_end_fd = None\n",
    "            self.pnt_dead_end = None\n",
    "            self.pnt_dic = {}\n",
    "            self.first_last_dic = {'geometry': [], 'line_name': [], 'position': []}\n",
    "            self.network = network\n",
    "\n",
    "\n",
    "        def __populate_pnt_dic(self,point: type, name_of_line: str):\n",
    "            \"\"\"\n",
    "            Make \"pnt_dic\" contain a list of all the lines connected to each point.\n",
    "            :param point:\n",
    "            :param name_of_line:\n",
    "            :return:\n",
    "            \"\"\"\n",
    "            if not point in self.pnt_dic:\n",
    "                self.pnt_dic[point] = []\n",
    "            self.pnt_dic[point].append(name_of_line)\n",
    "\n",
    "        def __send_pnts(self,temp_line: GeoSeries):\n",
    "            \"\"\"\n",
    "            # Send the first and the last points to populate_pnt_dic\n",
    "            :return:\n",
    "            \"\"\"\n",
    "            my_geom = temp_line['geometry']\n",
    "            self.__populate_pnt_dic(my_geom.coords[0], temp_line.name)\n",
    "            self.__populate_pnt_dic(my_geom.coords[-1], temp_line.name)\n",
    "\n",
    "        def get_deadend_gdf(self,delete_short:int =30)-> GeoDataFrame:\n",
    "            self.network.apply(self.__send_pnts, axis=1)\n",
    "\n",
    "            deadend_list = [item[1][0] for item in self.pnt_dic.items() if len(item[1]) == 1]\n",
    "            pnt_dead_end_0 = [item for item in self.pnt_dic.items() if len(item[1]) == 1] # Retain all the line points with deadened\n",
    "            self.pnt_dead_end = [Point(x[0]) for x in pnt_dead_end_0]\n",
    "            # Create shp file of deadened_pnts\n",
    "            geometry,line_name = 'geometry','line_name'\n",
    "            pnt_dead_end_df = GeoDataFrame(data=pnt_dead_end_0)\n",
    "            pnt_dead_end_df[geometry]= pnt_dead_end_df[0].apply(lambda x:Point(x))\n",
    "            pnt_dead_end_df[line_name] = pnt_dead_end_df[1].apply(lambda x:x[0])\n",
    "            pnt_dead_end_df.crs = project_crs\n",
    "            self.dead_end_fd = pnt_dead_end_df\n",
    "\n",
    "            if delete_short>0:\n",
    "                # If it is necessary to eliminate dead-end short segments, it is  important to delete them from the network geodataframe.\n",
    "\n",
    "                deadend_gdf =self.network.loc[deadend_list]\n",
    "                self.network.drop(index=deadend_gdf[deadend_gdf.length<delete_short].index,inplace=True)\n",
    "                return deadend_gdf[deadend_gdf.length>delete_short]\n",
    "            return self.network.loc[deadend_list]\n",
    "\n",
    "        def update_the_current_network(self,temp_network):\n",
    "            r\"\"\"\n",
    "            Update the current network in the new changes\n",
    "            :param temp_network:\n",
    "            :return:\n",
    "            \"\"\"\n",
    "            new_network_temp = self.network.drop(index=temp_network.index)\n",
    "            self.network = new_network_temp.append(temp_network)\n",
    "            self.network['length'] = self.network.length\n",
    "            self.network  = self.network[self.network['length']>1]\n",
    "class Roundabout(EnvEntity):\n",
    "    def __init__(self,network: GeoDataFrame):\n",
    "       EnvEntity.__init__(self,network)\n",
    "       self.pnt_dic ={}\n",
    "       self.centroid =self.__from_roundabout_to_centroid()\n",
    "       self.network.rename(columns={'name': 'str_name'}, inplace=True)\n",
    "    def __from_roundabout_to_centroid(self):\n",
    "        # Find the center of each roundabout\n",
    "        # create polygon around each polygon and union\n",
    "        round_about_buffer = round_about.to_crs(project_crs)['geometry'].buffer(cap_style=1, distance=10,\n",
    "                                                                                join_style=1).unary_union\n",
    "        dic_data = {'name': [], 'geometry': []}\n",
    "        if round_about_buffer.type=='Polygon': # In case we have only one polygon\n",
    "            dic_data['name'].append(0)\n",
    "            dic_data['geometry'].append(round_about_buffer.centroid)\n",
    "        else:\n",
    "            for ii, xx in enumerate(round_about_buffer):\n",
    "                dic_data['name'].append(ii)\n",
    "                dic_data['geometry'].append(xx.centroid)\n",
    "        centroid =GeoDataFrame(dic_data, crs=project_crs)\n",
    "        return centroid\n",
    "        # GeoDataFrame(dic_data,crs=project_crs).to_file(f'{path_round_about}/roundabout_union.shp')\n",
    "\n",
    "    def __first_last_pnt_of_line(self,row: GeoSeries):\n",
    "        r\"\"\"\n",
    "        It get geometry of line and fill the first_last_dic with the first and last point and the name of the line\n",
    "        :return:\n",
    "        \"\"\"\n",
    "        geo = list(row['geometry'].coords)\n",
    "        self.first_last_dic['geometry'].extend([Point(geo[0]), Point(geo[-1])])\n",
    "        self.first_last_dic['line_name'].extend([row.name] * 2)\n",
    "        self.first_last_dic['position'].extend([0, -1])\n",
    "    def deadend(self):\n",
    "        r\"\"\"\n",
    "        remove not connected line shorter than 100 meters and then return deadend_list lines and their endpoints (as another file)\n",
    "        :return:\n",
    "        \"\"\"\n",
    "        # Find the first and last points\n",
    "\n",
    "        # Get deadend_gdf\n",
    "        deadend_gdf = self.get_deadend_gdf()\n",
    "\n",
    "        # Create gdf of line points with the reference to the line they belong\n",
    "        deadend_gdf.apply(self.__first_last_pnt_of_line, axis=1)\n",
    "        first_last_gdf = GeoDataFrame(self.first_last_dic, crs=project_crs)\n",
    "\n",
    "\n",
    "        return deadend_gdf, first_last_gdf\n",
    "    def __update_geometry(self,cur,s_join):\n",
    "        r\"\"\"\n",
    "        :return:\n",
    "        \"\"\"\n",
    "        if cur['highway'] == 'footway':\n",
    "            # Don't snap footway to roundabout\n",
    "            return cur['geometry']\n",
    "        # Get only the points that are deadened\n",
    "        points_lines = [item for item in s_join[s_join['line_name'] == cur.name].iterrows()if item[1]['geometry'] in self.pnt_dead_end]\n",
    "        if len(points_lines) == 0:\n",
    "            # No roundabout nearby\n",
    "            return cur['geometry']\n",
    "        # get the line geometry to change the first and/ or last point\n",
    "        geo_cur = list(cur['geometry'].coords)\n",
    "\n",
    "        # iterate over the deadened points  near roundabout\n",
    "        for ind in range(len(points_lines)):\n",
    "            points_line = points_lines[ind]\n",
    "            geo_cur[points_line[1]['position']] = self.centroid.loc[points_line[1]['index_right']]['geometry'].coords[\n",
    "                0]\n",
    "        return LineString(geo_cur)\n",
    "    def my_spatial_join(self,deadend_lines, deadend_pnts,line_name):\n",
    "        # Spatial join between roundabout centroid to nearby dead end lines\n",
    "        # centroid = gpd.read_file(f'{path_round_about}/centroid.shp')\n",
    "        s_join = gpd.sjoin_nearest(left_df=deadend_pnts, right_df=self.centroid, how='left', max_distance=100,\n",
    "                                   distance_col='dist').dropna(subset='dist')\n",
    "\n",
    "        # Deadened lines from both lines should be removed\n",
    "        lines_to_delete_test = s_join['line_name'].unique() # all the Deadened lines close to roundabout\n",
    "\n",
    "        # All deadened lines from both lines\n",
    "        deads_both_side = self.dead_end_fd['line_name'].value_counts()\n",
    "        deads_both_side =deads_both_side[deads_both_side==2]\n",
    "\n",
    "        # Remove this lines from the database\n",
    "        lines_to_delete=deads_both_side[deads_both_side.index.isin(lines_to_delete_test)]\n",
    "\n",
    "        self.network = self.network[~((self.network[line_name].isin(lines_to_delete.index)) & (self.network.length<300))]\n",
    "        deadend_lines = deadend_lines[~((deadend_lines[line_name].isin(lines_to_delete.index)) & (deadend_lines.length<300))]\n",
    "        # Update the geometry so the roundabout will be part of the line geometry\n",
    "        change_geo = deadend_lines.copy()\n",
    "\n",
    "        change_geo['geometry'] = change_geo.apply(lambda x:self.__update_geometry(x,s_join), axis=1)\n",
    "\n",
    "        return change_geo\n",
    "# endregion"
   ],
   "metadata": {
    "collapsed": false,
    "pycharm": {
     "name": "#%%\n"
    }
   }
  },
  {
   "cell_type": "code",
   "execution_count": 88,
   "outputs": [],
   "source": [
    "\n",
    "num=0\n",
    "new_gpd = new_network.copy()\n",
    "obj_intersection = Intersection(new_gpd,num)"
   ],
   "metadata": {
    "collapsed": false,
    "pycharm": {
     "name": "#%%\n"
    }
   }
  },
  {
   "cell_type": "code",
   "execution_count": null,
   "outputs": [],
   "source": [],
   "metadata": {
    "collapsed": false,
    "pycharm": {
     "name": "#%%\n"
    }
   }
  },
  {
   "cell_type": "code",
   "execution_count": 90,
   "outputs": [
    {
     "data": {
      "text/plain": "                                                 name     highway  bearing  \\\n0                                                  11        path   106.60   \n1                                                  11        path   106.60   \n2                                                  18        path    40.85   \n3                                                  18        path    40.85   \n4                                                  18        path   164.90   \n...                                               ...         ...      ...   \n16264        ['Viale Enrico Millo', 'Viale Virgilio']  pedestrian     7.40   \n16265       ['Viale Rombon', \"Viale Stretta D'Auzza\"]        path    84.20   \n16266  ['Viale San Gabriele', 'Viale Castelgomberto']        path    30.80   \n16267        ['Viale Stefano Turr', 'Viale Virgilio']  pedestrian    27.10   \n16268                          via Edoardo Perroncito     service    26.90   \n\n       group  is_simplif                                           geometry  \n0         -1           0  LINESTRING (857888.020 5626761.570, 857902.213...  \n1         -1           0  LINESTRING (857638.976 5626560.639, 857618.671...  \n2         -1           0  LINESTRING (860173.665 5627099.066, 860141.427...  \n3         -1           0  LINESTRING (860173.665 5627099.066, 860196.674...  \n4         -1           0  LINESTRING (860110.012 5627377.578, 860111.003...  \n...      ...         ...                                                ...  \n16264     -1           0  LINESTRING (855537.353 5629215.626, 855536.028...  \n16265     -1           0  LINESTRING (859391.734 5626943.304, 859404.759...  \n16266     -1           0  LINESTRING (858361.706 5626215.887, 858343.194...  \n16267     -1           0  LINESTRING (855542.740 5629433.523, 855532.020...  \n16268     -1           0  LINESTRING (846757.429 5633375.691, 846856.748...  \n\n[16269 rows x 6 columns]",
      "text/html": "<div>\n<style scoped>\n    .dataframe tbody tr th:only-of-type {\n        vertical-align: middle;\n    }\n\n    .dataframe tbody tr th {\n        vertical-align: top;\n    }\n\n    .dataframe thead th {\n        text-align: right;\n    }\n</style>\n<table border=\"1\" class=\"dataframe\">\n  <thead>\n    <tr style=\"text-align: right;\">\n      <th></th>\n      <th>name</th>\n      <th>highway</th>\n      <th>bearing</th>\n      <th>group</th>\n      <th>is_simplif</th>\n      <th>geometry</th>\n    </tr>\n  </thead>\n  <tbody>\n    <tr>\n      <th>0</th>\n      <td>11</td>\n      <td>path</td>\n      <td>106.60</td>\n      <td>-1</td>\n      <td>0</td>\n      <td>LINESTRING (857888.020 5626761.570, 857902.213...</td>\n    </tr>\n    <tr>\n      <th>1</th>\n      <td>11</td>\n      <td>path</td>\n      <td>106.60</td>\n      <td>-1</td>\n      <td>0</td>\n      <td>LINESTRING (857638.976 5626560.639, 857618.671...</td>\n    </tr>\n    <tr>\n      <th>2</th>\n      <td>18</td>\n      <td>path</td>\n      <td>40.85</td>\n      <td>-1</td>\n      <td>0</td>\n      <td>LINESTRING (860173.665 5627099.066, 860141.427...</td>\n    </tr>\n    <tr>\n      <th>3</th>\n      <td>18</td>\n      <td>path</td>\n      <td>40.85</td>\n      <td>-1</td>\n      <td>0</td>\n      <td>LINESTRING (860173.665 5627099.066, 860196.674...</td>\n    </tr>\n    <tr>\n      <th>4</th>\n      <td>18</td>\n      <td>path</td>\n      <td>164.90</td>\n      <td>-1</td>\n      <td>0</td>\n      <td>LINESTRING (860110.012 5627377.578, 860111.003...</td>\n    </tr>\n    <tr>\n      <th>...</th>\n      <td>...</td>\n      <td>...</td>\n      <td>...</td>\n      <td>...</td>\n      <td>...</td>\n      <td>...</td>\n    </tr>\n    <tr>\n      <th>16264</th>\n      <td>['Viale Enrico Millo', 'Viale Virgilio']</td>\n      <td>pedestrian</td>\n      <td>7.40</td>\n      <td>-1</td>\n      <td>0</td>\n      <td>LINESTRING (855537.353 5629215.626, 855536.028...</td>\n    </tr>\n    <tr>\n      <th>16265</th>\n      <td>['Viale Rombon', \"Viale Stretta D'Auzza\"]</td>\n      <td>path</td>\n      <td>84.20</td>\n      <td>-1</td>\n      <td>0</td>\n      <td>LINESTRING (859391.734 5626943.304, 859404.759...</td>\n    </tr>\n    <tr>\n      <th>16266</th>\n      <td>['Viale San Gabriele', 'Viale Castelgomberto']</td>\n      <td>path</td>\n      <td>30.80</td>\n      <td>-1</td>\n      <td>0</td>\n      <td>LINESTRING (858361.706 5626215.887, 858343.194...</td>\n    </tr>\n    <tr>\n      <th>16267</th>\n      <td>['Viale Stefano Turr', 'Viale Virgilio']</td>\n      <td>pedestrian</td>\n      <td>27.10</td>\n      <td>-1</td>\n      <td>0</td>\n      <td>LINESTRING (855542.740 5629433.523, 855532.020...</td>\n    </tr>\n    <tr>\n      <th>16268</th>\n      <td>via Edoardo Perroncito</td>\n      <td>service</td>\n      <td>26.90</td>\n      <td>-1</td>\n      <td>0</td>\n      <td>LINESTRING (846757.429 5633375.691, 846856.748...</td>\n    </tr>\n  </tbody>\n</table>\n<p>16269 rows × 6 columns</p>\n</div>"
     },
     "execution_count": 90,
     "metadata": {},
     "output_type": "execute_result"
    }
   ],
   "source": [
    "new_gpd"
   ],
   "metadata": {
    "collapsed": false,
    "pycharm": {
     "name": "#%%\n"
    }
   }
  },
  {
   "cell_type": "code",
   "execution_count": 91,
   "outputs": [],
   "source": [
    "my_network  = obj_intersection.my_network\n",
    "if 'length' in my_network.columns: # To run the code smoothly we need to remove 'length' col if exist\n",
    "   my_network.drop(columns='length',inplace= True)\n",
    "org_network= my_network.copy()\n",
    "# It should be executed twice in order to clean all\n",
    "for _  in range(2):\n",
    "    # First clean all the false node\n",
    "    my_network = remove_false_nodes(my_network)\n",
    "    # the previous function has changed the topology so the length should be updated\n",
    "    my_network['length'] =my_network.length\n",
    "    my_network  =my_network.drop_duplicates(subset='length') # remove false intersection duplicate many polyline which should be removed\n",
    "    my_network.reset_index(drop=True,inplace= True) # Changes has been made to the geometry so the index should be reset"
   ],
   "metadata": {
    "collapsed": false,
    "pycharm": {
     "name": "#%%\n"
    }
   }
  },
  {
   "cell_type": "code",
   "execution_count": 92,
   "outputs": [],
   "source": [
    "\n",
    "df1= my_network\n",
    "org_network.reset_index().to_file(f'{data_folder}/delete_2_nodes/source.shp')"
   ],
   "metadata": {
    "collapsed": false,
    "pycharm": {
     "name": "#%%\n"
    }
   }
  },
  {
   "cell_type": "code",
   "execution_count": 93,
   "outputs": [],
   "source": [
    "# Split df1 into two GeoDataFrames: df3 (with names) and df4 (without names)\n",
    "df3 = df1[df1['name'].notna()]\n",
    "df3.to_file(f'{data_folder}/delete_2_nodes/with_name.shp')\n"
   ],
   "metadata": {
    "collapsed": false,
    "pycharm": {
     "name": "#%%\n"
    }
   }
  },
  {
   "cell_type": "code",
   "execution_count": 94,
   "outputs": [],
   "source": [
    "df4 = df1[df1['name'].isna()]\n",
    "df4.reset_index().to_file(f'{data_folder}/delete_2_nodes/no_name_init.shp')"
   ],
   "metadata": {
    "collapsed": false,
    "pycharm": {
     "name": "#%%\n"
    }
   }
  },
  {
   "cell_type": "code",
   "execution_count": 34,
   "outputs": [
    {
     "data": {
      "text/plain": "                                            name                     highway  \\\n0                                              1        ['steps', 'footway']   \n1                                             10        ['steps', 'footway']   \n2                                    10th Avenue                 residential   \n3                                    10th Avenue                 residential   \n4                                    10th Avenue                 residential   \n...                                          ...                         ...   \n22288          ['Wilde Avenue', 'Ervine Street']                 residential   \n22289  ['Willard Street North', 'Edward Street']                 residential   \n22290             ['Yorba Street', 'Yorba Lane']  ['residential', 'footway']   \n22291        ['Yosemite Avenue', 'Hawes Street']    ['residential', 'track']   \n22292      ['Yosemite Avenue', 'Mendell Street']                 residential   \n\n          bearing  group  is_simplif  \\\n0       84.300000     -1           0   \n1       84.700000     -1           0   \n2       87.066667     -1           0   \n3       87.066667     -1           0   \n4       87.066667     -1           0   \n...           ...    ...         ...   \n22288   51.800000     -1           0   \n22289  128.100000     -1           0   \n22290   86.700000     -1           0   \n22291  148.400000     -1           0   \n22292  147.100000     -1           0   \n\n                                                geometry  \n0      LINESTRING (-13637962.747 4547853.287, -136379...  \n1      LINESTRING (-13637908.813 4547299.711, -136379...  \n2      LINESTRING (-13633185.839 4549307.143, -136331...  \n3      LINESTRING (-13633192.061 4549321.201, -136331...  \n4      LINESTRING (-13633181.363 4549321.595, -136331...  \n...                                                  ...  \n22288  LINESTRING (-13626421.833 4539676.167, -136264...  \n22289  LINESTRING (-13631962.382 4548125.037, -136318...  \n22290  LINESTRING (-13636532.559 4541995.510, -136365...  \n22291  LINESTRING (-13624164.607 4540613.621, -136241...  \n22292  LINESTRING (-13624946.348 4541298.920, -136249...  \n\n[22293 rows x 6 columns]",
      "text/html": "<div>\n<style scoped>\n    .dataframe tbody tr th:only-of-type {\n        vertical-align: middle;\n    }\n\n    .dataframe tbody tr th {\n        vertical-align: top;\n    }\n\n    .dataframe thead th {\n        text-align: right;\n    }\n</style>\n<table border=\"1\" class=\"dataframe\">\n  <thead>\n    <tr style=\"text-align: right;\">\n      <th></th>\n      <th>name</th>\n      <th>highway</th>\n      <th>bearing</th>\n      <th>group</th>\n      <th>is_simplif</th>\n      <th>geometry</th>\n    </tr>\n  </thead>\n  <tbody>\n    <tr>\n      <th>0</th>\n      <td>1</td>\n      <td>['steps', 'footway']</td>\n      <td>84.300000</td>\n      <td>-1</td>\n      <td>0</td>\n      <td>LINESTRING (-13637962.747 4547853.287, -136379...</td>\n    </tr>\n    <tr>\n      <th>1</th>\n      <td>10</td>\n      <td>['steps', 'footway']</td>\n      <td>84.700000</td>\n      <td>-1</td>\n      <td>0</td>\n      <td>LINESTRING (-13637908.813 4547299.711, -136379...</td>\n    </tr>\n    <tr>\n      <th>2</th>\n      <td>10th Avenue</td>\n      <td>residential</td>\n      <td>87.066667</td>\n      <td>-1</td>\n      <td>0</td>\n      <td>LINESTRING (-13633185.839 4549307.143, -136331...</td>\n    </tr>\n    <tr>\n      <th>3</th>\n      <td>10th Avenue</td>\n      <td>residential</td>\n      <td>87.066667</td>\n      <td>-1</td>\n      <td>0</td>\n      <td>LINESTRING (-13633192.061 4549321.201, -136331...</td>\n    </tr>\n    <tr>\n      <th>4</th>\n      <td>10th Avenue</td>\n      <td>residential</td>\n      <td>87.066667</td>\n      <td>-1</td>\n      <td>0</td>\n      <td>LINESTRING (-13633181.363 4549321.595, -136331...</td>\n    </tr>\n    <tr>\n      <th>...</th>\n      <td>...</td>\n      <td>...</td>\n      <td>...</td>\n      <td>...</td>\n      <td>...</td>\n      <td>...</td>\n    </tr>\n    <tr>\n      <th>22288</th>\n      <td>['Wilde Avenue', 'Ervine Street']</td>\n      <td>residential</td>\n      <td>51.800000</td>\n      <td>-1</td>\n      <td>0</td>\n      <td>LINESTRING (-13626421.833 4539676.167, -136264...</td>\n    </tr>\n    <tr>\n      <th>22289</th>\n      <td>['Willard Street North', 'Edward Street']</td>\n      <td>residential</td>\n      <td>128.100000</td>\n      <td>-1</td>\n      <td>0</td>\n      <td>LINESTRING (-13631962.382 4548125.037, -136318...</td>\n    </tr>\n    <tr>\n      <th>22290</th>\n      <td>['Yorba Street', 'Yorba Lane']</td>\n      <td>['residential', 'footway']</td>\n      <td>86.700000</td>\n      <td>-1</td>\n      <td>0</td>\n      <td>LINESTRING (-13636532.559 4541995.510, -136365...</td>\n    </tr>\n    <tr>\n      <th>22291</th>\n      <td>['Yosemite Avenue', 'Hawes Street']</td>\n      <td>['residential', 'track']</td>\n      <td>148.400000</td>\n      <td>-1</td>\n      <td>0</td>\n      <td>LINESTRING (-13624164.607 4540613.621, -136241...</td>\n    </tr>\n    <tr>\n      <th>22292</th>\n      <td>['Yosemite Avenue', 'Mendell Street']</td>\n      <td>residential</td>\n      <td>147.100000</td>\n      <td>-1</td>\n      <td>0</td>\n      <td>LINESTRING (-13624946.348 4541298.920, -136249...</td>\n    </tr>\n  </tbody>\n</table>\n<p>22293 rows × 6 columns</p>\n</div>"
     },
     "execution_count": 34,
     "metadata": {},
     "output_type": "execute_result"
    }
   ],
   "source": [
    "org_network"
   ],
   "metadata": {
    "collapsed": false,
    "pycharm": {
     "name": "#%%\n"
    }
   }
  },
  {
   "cell_type": "code",
   "execution_count": 110,
   "outputs": [
    {
     "data": {
      "text/plain": "       old_index name_left highway_left  bearing_left  group_left  \\\n0           6894       NaN          NaN           NaN         NaN   \n1           6894       NaN          NaN           NaN         NaN   \n2           6895       NaN          NaN           NaN         NaN   \n3           6895       NaN          NaN           NaN         NaN   \n4           6895       NaN          NaN           NaN         NaN   \n...          ...       ...          ...           ...         ...   \n23073      10181       NaN          NaN           NaN         NaN   \n23074      10181       NaN          NaN           NaN         NaN   \n23075      10181       NaN          NaN           NaN         NaN   \n23076      10182       NaN          NaN           NaN         NaN   \n23077      10182       NaN          NaN           NaN         NaN   \n\n       is_simplif_left  length_left  \\\n0                  NaN   105.790786   \n1                  NaN   105.790786   \n2                  NaN  1070.065911   \n3                  NaN  1070.065911   \n4                  NaN  1070.065911   \n...                ...          ...   \n23073              NaN   791.089589   \n23074              NaN   791.089589   \n23075              NaN   791.089589   \n23076              NaN  2774.134545   \n23077              NaN  2774.134545   \n\n                                                geometry  index_right  \\\n0      LINESTRING (845229.980 5628010.626, 845209.653...        12013   \n1      LINESTRING (845229.980 5628010.626, 845209.653...        12012   \n2      LINESTRING (844701.825 5627157.981, 845262.118...        12011   \n3      LINESTRING (844701.825 5627157.981, 845262.118...        12015   \n4      LINESTRING (844701.825 5627157.981, 845262.118...        12014   \n...                                                  ...          ...   \n23073  LINESTRING (860487.575 5637879.630, 860499.230...         4427   \n23074  LINESTRING (860487.575 5637879.630, 860499.230...         4429   \n23075  LINESTRING (860487.575 5637879.630, 860499.230...         4432   \n23076  LINESTRING (860415.362 5628676.395, 860419.046...         3711   \n23077  LINESTRING (860415.362 5628676.395, 860419.046...         3716   \n\n                             name_right highway_right  bearing_right  \\\n0                      Via Paolo Gorini       service        123.950   \n1                      Via Paolo Gorini       service        123.950   \n2                      Via Paolo Gorini  unclassified         32.948   \n3                      Via Paolo Gorini       service        123.950   \n4                      Via Paolo Gorini       service        123.950   \n...                                 ...           ...            ...   \n23073                Strada della Magra   residential        119.090   \n23074                Strada della Magra   residential         20.625   \n23075                Strada della Magra   residential         83.400   \n23076  Strada Val San Martino Superiore  unclassified         66.340   \n23077  Strada Val San Martino Superiore  unclassified        166.200   \n\n       group_right  is_simplif_right  length_right  \n0               -1                 0     53.869012  \n1               -1                 0     51.921774  \n2                0                 1   1041.856530  \n3               -1                 0     18.247883  \n4               -1                 0     18.842966  \n...            ...               ...           ...  \n23073           -1                 0    344.176771  \n23074           -1                 0     40.124785  \n23075           -1                 0    160.786192  \n23076           -1                 0    755.649043  \n23077           -1                 0    777.910772  \n\n[23078 rows x 15 columns]",
      "text/html": "<div>\n<style scoped>\n    .dataframe tbody tr th:only-of-type {\n        vertical-align: middle;\n    }\n\n    .dataframe tbody tr th {\n        vertical-align: top;\n    }\n\n    .dataframe thead th {\n        text-align: right;\n    }\n</style>\n<table border=\"1\" class=\"dataframe\">\n  <thead>\n    <tr style=\"text-align: right;\">\n      <th></th>\n      <th>old_index</th>\n      <th>name_left</th>\n      <th>highway_left</th>\n      <th>bearing_left</th>\n      <th>group_left</th>\n      <th>is_simplif_left</th>\n      <th>length_left</th>\n      <th>geometry</th>\n      <th>index_right</th>\n      <th>name_right</th>\n      <th>highway_right</th>\n      <th>bearing_right</th>\n      <th>group_right</th>\n      <th>is_simplif_right</th>\n      <th>length_right</th>\n    </tr>\n  </thead>\n  <tbody>\n    <tr>\n      <th>0</th>\n      <td>6894</td>\n      <td>NaN</td>\n      <td>NaN</td>\n      <td>NaN</td>\n      <td>NaN</td>\n      <td>NaN</td>\n      <td>105.790786</td>\n      <td>LINESTRING (845229.980 5628010.626, 845209.653...</td>\n      <td>12013</td>\n      <td>Via Paolo Gorini</td>\n      <td>service</td>\n      <td>123.950</td>\n      <td>-1</td>\n      <td>0</td>\n      <td>53.869012</td>\n    </tr>\n    <tr>\n      <th>1</th>\n      <td>6894</td>\n      <td>NaN</td>\n      <td>NaN</td>\n      <td>NaN</td>\n      <td>NaN</td>\n      <td>NaN</td>\n      <td>105.790786</td>\n      <td>LINESTRING (845229.980 5628010.626, 845209.653...</td>\n      <td>12012</td>\n      <td>Via Paolo Gorini</td>\n      <td>service</td>\n      <td>123.950</td>\n      <td>-1</td>\n      <td>0</td>\n      <td>51.921774</td>\n    </tr>\n    <tr>\n      <th>2</th>\n      <td>6895</td>\n      <td>NaN</td>\n      <td>NaN</td>\n      <td>NaN</td>\n      <td>NaN</td>\n      <td>NaN</td>\n      <td>1070.065911</td>\n      <td>LINESTRING (844701.825 5627157.981, 845262.118...</td>\n      <td>12011</td>\n      <td>Via Paolo Gorini</td>\n      <td>unclassified</td>\n      <td>32.948</td>\n      <td>0</td>\n      <td>1</td>\n      <td>1041.856530</td>\n    </tr>\n    <tr>\n      <th>3</th>\n      <td>6895</td>\n      <td>NaN</td>\n      <td>NaN</td>\n      <td>NaN</td>\n      <td>NaN</td>\n      <td>NaN</td>\n      <td>1070.065911</td>\n      <td>LINESTRING (844701.825 5627157.981, 845262.118...</td>\n      <td>12015</td>\n      <td>Via Paolo Gorini</td>\n      <td>service</td>\n      <td>123.950</td>\n      <td>-1</td>\n      <td>0</td>\n      <td>18.247883</td>\n    </tr>\n    <tr>\n      <th>4</th>\n      <td>6895</td>\n      <td>NaN</td>\n      <td>NaN</td>\n      <td>NaN</td>\n      <td>NaN</td>\n      <td>NaN</td>\n      <td>1070.065911</td>\n      <td>LINESTRING (844701.825 5627157.981, 845262.118...</td>\n      <td>12014</td>\n      <td>Via Paolo Gorini</td>\n      <td>service</td>\n      <td>123.950</td>\n      <td>-1</td>\n      <td>0</td>\n      <td>18.842966</td>\n    </tr>\n    <tr>\n      <th>...</th>\n      <td>...</td>\n      <td>...</td>\n      <td>...</td>\n      <td>...</td>\n      <td>...</td>\n      <td>...</td>\n      <td>...</td>\n      <td>...</td>\n      <td>...</td>\n      <td>...</td>\n      <td>...</td>\n      <td>...</td>\n      <td>...</td>\n      <td>...</td>\n      <td>...</td>\n    </tr>\n    <tr>\n      <th>23073</th>\n      <td>10181</td>\n      <td>NaN</td>\n      <td>NaN</td>\n      <td>NaN</td>\n      <td>NaN</td>\n      <td>NaN</td>\n      <td>791.089589</td>\n      <td>LINESTRING (860487.575 5637879.630, 860499.230...</td>\n      <td>4427</td>\n      <td>Strada della Magra</td>\n      <td>residential</td>\n      <td>119.090</td>\n      <td>-1</td>\n      <td>0</td>\n      <td>344.176771</td>\n    </tr>\n    <tr>\n      <th>23074</th>\n      <td>10181</td>\n      <td>NaN</td>\n      <td>NaN</td>\n      <td>NaN</td>\n      <td>NaN</td>\n      <td>NaN</td>\n      <td>791.089589</td>\n      <td>LINESTRING (860487.575 5637879.630, 860499.230...</td>\n      <td>4429</td>\n      <td>Strada della Magra</td>\n      <td>residential</td>\n      <td>20.625</td>\n      <td>-1</td>\n      <td>0</td>\n      <td>40.124785</td>\n    </tr>\n    <tr>\n      <th>23075</th>\n      <td>10181</td>\n      <td>NaN</td>\n      <td>NaN</td>\n      <td>NaN</td>\n      <td>NaN</td>\n      <td>NaN</td>\n      <td>791.089589</td>\n      <td>LINESTRING (860487.575 5637879.630, 860499.230...</td>\n      <td>4432</td>\n      <td>Strada della Magra</td>\n      <td>residential</td>\n      <td>83.400</td>\n      <td>-1</td>\n      <td>0</td>\n      <td>160.786192</td>\n    </tr>\n    <tr>\n      <th>23076</th>\n      <td>10182</td>\n      <td>NaN</td>\n      <td>NaN</td>\n      <td>NaN</td>\n      <td>NaN</td>\n      <td>NaN</td>\n      <td>2774.134545</td>\n      <td>LINESTRING (860415.362 5628676.395, 860419.046...</td>\n      <td>3711</td>\n      <td>Strada Val San Martino Superiore</td>\n      <td>unclassified</td>\n      <td>66.340</td>\n      <td>-1</td>\n      <td>0</td>\n      <td>755.649043</td>\n    </tr>\n    <tr>\n      <th>23077</th>\n      <td>10182</td>\n      <td>NaN</td>\n      <td>NaN</td>\n      <td>NaN</td>\n      <td>NaN</td>\n      <td>NaN</td>\n      <td>2774.134545</td>\n      <td>LINESTRING (860415.362 5628676.395, 860419.046...</td>\n      <td>3716</td>\n      <td>Strada Val San Martino Superiore</td>\n      <td>unclassified</td>\n      <td>166.200</td>\n      <td>-1</td>\n      <td>0</td>\n      <td>777.910772</td>\n    </tr>\n  </tbody>\n</table>\n<p>23078 rows × 15 columns</p>\n</div>"
     },
     "execution_count": 110,
     "metadata": {},
     "output_type": "execute_result"
    }
   ],
   "source": [
    "# use only one polyline from the original dataframe for name even if the algorithm may found more\n",
    "old_index  ='old_index'\n",
    "org_network['length'] = org_network.length\n",
    "df = gpd.sjoin(df4,org_network).reset_index(names='old_index')\n",
    "df"
   ],
   "metadata": {
    "collapsed": false,
    "pycharm": {
     "name": "#%%\n"
    }
   }
  },
  {
   "cell_type": "code",
   "execution_count": null,
   "outputs": [],
   "source": [
    "\n",
    "df_touch = gpd.sjoin(df4,org_network,predicate='touches').reset_index(names='old_index')\n",
    "df"
   ],
   "metadata": {
    "collapsed": false,
    "pycharm": {
     "name": "#%%\n"
    }
   }
  },
  {
   "cell_type": "code",
   "execution_count": 67,
   "outputs": [
    {
     "data": {
      "text/plain": "       old_index name_left highway_left  bearing_left  group_left  \\\n0           6802       NaN          NaN           NaN         NaN   \n1           6802       NaN          NaN           NaN         NaN   \n2           6821       NaN          NaN           NaN         NaN   \n3           6802       NaN          NaN           NaN         NaN   \n4           6923       NaN          NaN           NaN         NaN   \n...          ...       ...          ...           ...         ...   \n21599      11730       NaN          NaN           NaN         NaN   \n21600      11731       NaN          NaN           NaN         NaN   \n21601      11731       NaN          NaN           NaN         NaN   \n21602      11731       NaN          NaN           NaN         NaN   \n21603      11732       NaN          NaN           NaN         NaN   \n\n       is_simplif_left  length_left  \\\n0                  NaN  1629.843466   \n1                  NaN  1629.843466   \n2                  NaN  1739.313209   \n3                  NaN  1629.843466   \n4                  NaN   225.900171   \n...                ...          ...   \n21599              NaN   910.930142   \n21600              NaN   187.462599   \n21601              NaN   187.462599   \n21602              NaN   187.462599   \n21603              NaN    75.098484   \n\n                                                geometry  index_right  \\\n0      LINESTRING (-13636969.933 4548334.470, -136371...        10321   \n1      LINESTRING (-13636969.933 4548334.470, -136371...        10319   \n2      LINESTRING (-13637936.888 4547893.327, -136379...        10319   \n3      LINESTRING (-13636969.933 4548334.470, -136371...         2487   \n4      LINESTRING (-13636969.933 4548334.470, -136369...         2487   \n...                                                  ...          ...   \n21599  LINESTRING (-13621897.853 4552776.615, -136217...        14072   \n21600  LINESTRING (-13621253.847 4553119.948, -136212...        11166   \n21601  LINESTRING (-13621253.847 4553119.948, -136212...        11165   \n21602  LINESTRING (-13621253.847 4553119.948, -136212...          926   \n21603  LINESTRING (-13621253.847 4553119.948, -136212...        22190   \n\n                                name_right highway_right  bearing_right  \\\n0                            Great Highway       primary     174.211268   \n1                            Great Highway       primary     149.900000   \n2                            Great Highway       primary     149.900000   \n3                              42nd Avenue   residential     176.770588   \n4                              42nd Avenue   residential     176.770588   \n...                                    ...           ...            ...   \n21599                         Macalla Road      tertiary     113.300000   \n21600                         Healy Avenue   residential     136.500000   \n21601                         Healy Avenue   residential     136.500000   \n21602                           1st Street  unclassified     173.550000   \n21603  ['Healy Avenue', 'North Gate Road']   residential     102.100000   \n\n       group_right  is_simplif_right  length_right  \n0                0                 1   1481.048301  \n1               -1                 0     72.411499  \n2               -1                 0     72.411499  \n3               -1                 0     36.833852  \n4               -1                 0     36.833852  \n...            ...               ...           ...  \n21599           -1                 0    327.679083  \n21600           -1                 0     59.118240  \n21601           -1                 0     15.980244  \n21602           -1                 0     18.625583  \n21603           -1                 0    187.462599  \n\n[21604 rows x 15 columns]",
      "text/html": "<div>\n<style scoped>\n    .dataframe tbody tr th:only-of-type {\n        vertical-align: middle;\n    }\n\n    .dataframe tbody tr th {\n        vertical-align: top;\n    }\n\n    .dataframe thead th {\n        text-align: right;\n    }\n</style>\n<table border=\"1\" class=\"dataframe\">\n  <thead>\n    <tr style=\"text-align: right;\">\n      <th></th>\n      <th>old_index</th>\n      <th>name_left</th>\n      <th>highway_left</th>\n      <th>bearing_left</th>\n      <th>group_left</th>\n      <th>is_simplif_left</th>\n      <th>length_left</th>\n      <th>geometry</th>\n      <th>index_right</th>\n      <th>name_right</th>\n      <th>highway_right</th>\n      <th>bearing_right</th>\n      <th>group_right</th>\n      <th>is_simplif_right</th>\n      <th>length_right</th>\n    </tr>\n  </thead>\n  <tbody>\n    <tr>\n      <th>0</th>\n      <td>6802</td>\n      <td>NaN</td>\n      <td>NaN</td>\n      <td>NaN</td>\n      <td>NaN</td>\n      <td>NaN</td>\n      <td>1629.843466</td>\n      <td>LINESTRING (-13636969.933 4548334.470, -136371...</td>\n      <td>10321</td>\n      <td>Great Highway</td>\n      <td>primary</td>\n      <td>174.211268</td>\n      <td>0</td>\n      <td>1</td>\n      <td>1481.048301</td>\n    </tr>\n    <tr>\n      <th>1</th>\n      <td>6802</td>\n      <td>NaN</td>\n      <td>NaN</td>\n      <td>NaN</td>\n      <td>NaN</td>\n      <td>NaN</td>\n      <td>1629.843466</td>\n      <td>LINESTRING (-13636969.933 4548334.470, -136371...</td>\n      <td>10319</td>\n      <td>Great Highway</td>\n      <td>primary</td>\n      <td>149.900000</td>\n      <td>-1</td>\n      <td>0</td>\n      <td>72.411499</td>\n    </tr>\n    <tr>\n      <th>2</th>\n      <td>6821</td>\n      <td>NaN</td>\n      <td>NaN</td>\n      <td>NaN</td>\n      <td>NaN</td>\n      <td>NaN</td>\n      <td>1739.313209</td>\n      <td>LINESTRING (-13637936.888 4547893.327, -136379...</td>\n      <td>10319</td>\n      <td>Great Highway</td>\n      <td>primary</td>\n      <td>149.900000</td>\n      <td>-1</td>\n      <td>0</td>\n      <td>72.411499</td>\n    </tr>\n    <tr>\n      <th>3</th>\n      <td>6802</td>\n      <td>NaN</td>\n      <td>NaN</td>\n      <td>NaN</td>\n      <td>NaN</td>\n      <td>NaN</td>\n      <td>1629.843466</td>\n      <td>LINESTRING (-13636969.933 4548334.470, -136371...</td>\n      <td>2487</td>\n      <td>42nd Avenue</td>\n      <td>residential</td>\n      <td>176.770588</td>\n      <td>-1</td>\n      <td>0</td>\n      <td>36.833852</td>\n    </tr>\n    <tr>\n      <th>4</th>\n      <td>6923</td>\n      <td>NaN</td>\n      <td>NaN</td>\n      <td>NaN</td>\n      <td>NaN</td>\n      <td>NaN</td>\n      <td>225.900171</td>\n      <td>LINESTRING (-13636969.933 4548334.470, -136369...</td>\n      <td>2487</td>\n      <td>42nd Avenue</td>\n      <td>residential</td>\n      <td>176.770588</td>\n      <td>-1</td>\n      <td>0</td>\n      <td>36.833852</td>\n    </tr>\n    <tr>\n      <th>...</th>\n      <td>...</td>\n      <td>...</td>\n      <td>...</td>\n      <td>...</td>\n      <td>...</td>\n      <td>...</td>\n      <td>...</td>\n      <td>...</td>\n      <td>...</td>\n      <td>...</td>\n      <td>...</td>\n      <td>...</td>\n      <td>...</td>\n      <td>...</td>\n      <td>...</td>\n    </tr>\n    <tr>\n      <th>21599</th>\n      <td>11730</td>\n      <td>NaN</td>\n      <td>NaN</td>\n      <td>NaN</td>\n      <td>NaN</td>\n      <td>NaN</td>\n      <td>910.930142</td>\n      <td>LINESTRING (-13621897.853 4552776.615, -136217...</td>\n      <td>14072</td>\n      <td>Macalla Road</td>\n      <td>tertiary</td>\n      <td>113.300000</td>\n      <td>-1</td>\n      <td>0</td>\n      <td>327.679083</td>\n    </tr>\n    <tr>\n      <th>21600</th>\n      <td>11731</td>\n      <td>NaN</td>\n      <td>NaN</td>\n      <td>NaN</td>\n      <td>NaN</td>\n      <td>NaN</td>\n      <td>187.462599</td>\n      <td>LINESTRING (-13621253.847 4553119.948, -136212...</td>\n      <td>11166</td>\n      <td>Healy Avenue</td>\n      <td>residential</td>\n      <td>136.500000</td>\n      <td>-1</td>\n      <td>0</td>\n      <td>59.118240</td>\n    </tr>\n    <tr>\n      <th>21601</th>\n      <td>11731</td>\n      <td>NaN</td>\n      <td>NaN</td>\n      <td>NaN</td>\n      <td>NaN</td>\n      <td>NaN</td>\n      <td>187.462599</td>\n      <td>LINESTRING (-13621253.847 4553119.948, -136212...</td>\n      <td>11165</td>\n      <td>Healy Avenue</td>\n      <td>residential</td>\n      <td>136.500000</td>\n      <td>-1</td>\n      <td>0</td>\n      <td>15.980244</td>\n    </tr>\n    <tr>\n      <th>21602</th>\n      <td>11731</td>\n      <td>NaN</td>\n      <td>NaN</td>\n      <td>NaN</td>\n      <td>NaN</td>\n      <td>NaN</td>\n      <td>187.462599</td>\n      <td>LINESTRING (-13621253.847 4553119.948, -136212...</td>\n      <td>926</td>\n      <td>1st Street</td>\n      <td>unclassified</td>\n      <td>173.550000</td>\n      <td>-1</td>\n      <td>0</td>\n      <td>18.625583</td>\n    </tr>\n    <tr>\n      <th>21603</th>\n      <td>11732</td>\n      <td>NaN</td>\n      <td>NaN</td>\n      <td>NaN</td>\n      <td>NaN</td>\n      <td>NaN</td>\n      <td>75.098484</td>\n      <td>LINESTRING (-13621253.847 4553119.948, -136212...</td>\n      <td>22190</td>\n      <td>['Healy Avenue', 'North Gate Road']</td>\n      <td>residential</td>\n      <td>102.100000</td>\n      <td>-1</td>\n      <td>0</td>\n      <td>187.462599</td>\n    </tr>\n  </tbody>\n</table>\n<p>21604 rows × 15 columns</p>\n</div>"
     },
     "execution_count": 67,
     "metadata": {},
     "output_type": "execute_result"
    }
   ],
   "source": [
    "df_touch"
   ],
   "metadata": {
    "collapsed": false,
    "pycharm": {
     "name": "#%%\n"
    }
   }
  },
  {
   "cell_type": "code",
   "execution_count": 69,
   "outputs": [
    {
     "ename": "KeyError",
     "evalue": "Index(['old_index', 'name_left', 'highway_left', 'bearing_left', 'group_left',\n       'is_simplif_left', 'length_left', 'geometry', 'index_right',\n       'name_right', 'highway_right', 'bearing_right', 'group_right',\n       'is_simplif_right', 'length_right'],\n      dtype='object')",
     "output_type": "error",
     "traceback": [
      "\u001B[1;31m---------------------------------------------------------------------------\u001B[0m",
      "\u001B[1;31mKeyError\u001B[0m                                  Traceback (most recent call last)",
      "Cell \u001B[1;32mIn [69], line 2\u001B[0m\n\u001B[0;32m      1\u001B[0m \u001B[38;5;66;03m# Merge the DataFrames with the 'indicator' parameter\u001B[39;00m\n\u001B[1;32m----> 2\u001B[0m merged \u001B[38;5;241m=\u001B[39m \u001B[43mdf\u001B[49m\u001B[38;5;241;43m.\u001B[39;49m\u001B[43mmerge\u001B[49m\u001B[43m(\u001B[49m\u001B[43mdf_touch\u001B[49m\u001B[43m,\u001B[49m\u001B[43m \u001B[49m\u001B[43mon\u001B[49m\u001B[38;5;241;43m=\u001B[39;49m\u001B[43mdf\u001B[49m\u001B[38;5;241;43m.\u001B[39;49m\u001B[43mcolumns\u001B[49m\u001B[43m,\u001B[49m\u001B[43m \u001B[49m\u001B[43mhow\u001B[49m\u001B[38;5;241;43m=\u001B[39;49m\u001B[38;5;124;43m'\u001B[39;49m\u001B[38;5;124;43mleft\u001B[39;49m\u001B[38;5;124;43m'\u001B[39;49m\u001B[43m,\u001B[49m\u001B[43m \u001B[49m\u001B[43mindicator\u001B[49m\u001B[38;5;241;43m=\u001B[39;49m\u001B[38;5;28;43;01mTrue\u001B[39;49;00m\u001B[43m)\u001B[49m\n\u001B[0;32m      3\u001B[0m merged\n",
      "File \u001B[1;32m~\\anaconda3\\envs\\momepy_env\\lib\\site-packages\\geopandas\\geodataframe.py:1499\u001B[0m, in \u001B[0;36mGeoDataFrame.merge\u001B[1;34m(self, *args, **kwargs)\u001B[0m\n\u001B[0;32m   1478\u001B[0m \u001B[38;5;28;01mdef\u001B[39;00m \u001B[38;5;21mmerge\u001B[39m(\u001B[38;5;28mself\u001B[39m, \u001B[38;5;241m*\u001B[39margs, \u001B[38;5;241m*\u001B[39m\u001B[38;5;241m*\u001B[39mkwargs):\n\u001B[0;32m   1479\u001B[0m     \u001B[38;5;124mr\u001B[39m\u001B[38;5;124;03m\"\"\"Merge two ``GeoDataFrame`` objects with a database-style join.\u001B[39;00m\n\u001B[0;32m   1480\u001B[0m \n\u001B[0;32m   1481\u001B[0m \u001B[38;5;124;03m    Returns a ``GeoDataFrame`` if a geometry column is present; otherwise,\u001B[39;00m\n\u001B[1;32m   (...)\u001B[0m\n\u001B[0;32m   1497\u001B[0m \n\u001B[0;32m   1498\u001B[0m \u001B[38;5;124;03m    \"\"\"\u001B[39;00m\n\u001B[1;32m-> 1499\u001B[0m     result \u001B[38;5;241m=\u001B[39m DataFrame\u001B[38;5;241m.\u001B[39mmerge(\u001B[38;5;28mself\u001B[39m, \u001B[38;5;241m*\u001B[39margs, \u001B[38;5;241m*\u001B[39m\u001B[38;5;241m*\u001B[39mkwargs)\n\u001B[0;32m   1500\u001B[0m     geo_col \u001B[38;5;241m=\u001B[39m \u001B[38;5;28mself\u001B[39m\u001B[38;5;241m.\u001B[39m_geometry_column_name\n\u001B[0;32m   1501\u001B[0m     \u001B[38;5;28;01mif\u001B[39;00m \u001B[38;5;28misinstance\u001B[39m(result, DataFrame) \u001B[38;5;129;01mand\u001B[39;00m geo_col \u001B[38;5;129;01min\u001B[39;00m result:\n",
      "File \u001B[1;32m~\\anaconda3\\envs\\momepy_env\\lib\\site-packages\\pandas\\core\\frame.py:10083\u001B[0m, in \u001B[0;36mDataFrame.merge\u001B[1;34m(self, right, how, on, left_on, right_on, left_index, right_index, sort, suffixes, copy, indicator, validate)\u001B[0m\n\u001B[0;32m  10064\u001B[0m \u001B[38;5;129m@Substitution\u001B[39m(\u001B[38;5;124m\"\u001B[39m\u001B[38;5;124m\"\u001B[39m)\n\u001B[0;32m  10065\u001B[0m \u001B[38;5;129m@Appender\u001B[39m(_merge_doc, indents\u001B[38;5;241m=\u001B[39m\u001B[38;5;241m2\u001B[39m)\n\u001B[0;32m  10066\u001B[0m \u001B[38;5;28;01mdef\u001B[39;00m \u001B[38;5;21mmerge\u001B[39m(\n\u001B[1;32m   (...)\u001B[0m\n\u001B[0;32m  10079\u001B[0m     validate: \u001B[38;5;28mstr\u001B[39m \u001B[38;5;241m|\u001B[39m \u001B[38;5;28;01mNone\u001B[39;00m \u001B[38;5;241m=\u001B[39m \u001B[38;5;28;01mNone\u001B[39;00m,\n\u001B[0;32m  10080\u001B[0m ) \u001B[38;5;241m-\u001B[39m\u001B[38;5;241m>\u001B[39m DataFrame:\n\u001B[0;32m  10081\u001B[0m     \u001B[38;5;28;01mfrom\u001B[39;00m \u001B[38;5;21;01mpandas\u001B[39;00m\u001B[38;5;21;01m.\u001B[39;00m\u001B[38;5;21;01mcore\u001B[39;00m\u001B[38;5;21;01m.\u001B[39;00m\u001B[38;5;21;01mreshape\u001B[39;00m\u001B[38;5;21;01m.\u001B[39;00m\u001B[38;5;21;01mmerge\u001B[39;00m \u001B[38;5;28;01mimport\u001B[39;00m merge\n\u001B[1;32m> 10083\u001B[0m     \u001B[38;5;28;01mreturn\u001B[39;00m \u001B[43mmerge\u001B[49m\u001B[43m(\u001B[49m\n\u001B[0;32m  10084\u001B[0m \u001B[43m        \u001B[49m\u001B[38;5;28;43mself\u001B[39;49m\u001B[43m,\u001B[49m\n\u001B[0;32m  10085\u001B[0m \u001B[43m        \u001B[49m\u001B[43mright\u001B[49m\u001B[43m,\u001B[49m\n\u001B[0;32m  10086\u001B[0m \u001B[43m        \u001B[49m\u001B[43mhow\u001B[49m\u001B[38;5;241;43m=\u001B[39;49m\u001B[43mhow\u001B[49m\u001B[43m,\u001B[49m\n\u001B[0;32m  10087\u001B[0m \u001B[43m        \u001B[49m\u001B[43mon\u001B[49m\u001B[38;5;241;43m=\u001B[39;49m\u001B[43mon\u001B[49m\u001B[43m,\u001B[49m\n\u001B[0;32m  10088\u001B[0m \u001B[43m        \u001B[49m\u001B[43mleft_on\u001B[49m\u001B[38;5;241;43m=\u001B[39;49m\u001B[43mleft_on\u001B[49m\u001B[43m,\u001B[49m\n\u001B[0;32m  10089\u001B[0m \u001B[43m        \u001B[49m\u001B[43mright_on\u001B[49m\u001B[38;5;241;43m=\u001B[39;49m\u001B[43mright_on\u001B[49m\u001B[43m,\u001B[49m\n\u001B[0;32m  10090\u001B[0m \u001B[43m        \u001B[49m\u001B[43mleft_index\u001B[49m\u001B[38;5;241;43m=\u001B[39;49m\u001B[43mleft_index\u001B[49m\u001B[43m,\u001B[49m\n\u001B[0;32m  10091\u001B[0m \u001B[43m        \u001B[49m\u001B[43mright_index\u001B[49m\u001B[38;5;241;43m=\u001B[39;49m\u001B[43mright_index\u001B[49m\u001B[43m,\u001B[49m\n\u001B[0;32m  10092\u001B[0m \u001B[43m        \u001B[49m\u001B[43msort\u001B[49m\u001B[38;5;241;43m=\u001B[39;49m\u001B[43msort\u001B[49m\u001B[43m,\u001B[49m\n\u001B[0;32m  10093\u001B[0m \u001B[43m        \u001B[49m\u001B[43msuffixes\u001B[49m\u001B[38;5;241;43m=\u001B[39;49m\u001B[43msuffixes\u001B[49m\u001B[43m,\u001B[49m\n\u001B[0;32m  10094\u001B[0m \u001B[43m        \u001B[49m\u001B[43mcopy\u001B[49m\u001B[38;5;241;43m=\u001B[39;49m\u001B[43mcopy\u001B[49m\u001B[43m,\u001B[49m\n\u001B[0;32m  10095\u001B[0m \u001B[43m        \u001B[49m\u001B[43mindicator\u001B[49m\u001B[38;5;241;43m=\u001B[39;49m\u001B[43mindicator\u001B[49m\u001B[43m,\u001B[49m\n\u001B[0;32m  10096\u001B[0m \u001B[43m        \u001B[49m\u001B[43mvalidate\u001B[49m\u001B[38;5;241;43m=\u001B[39;49m\u001B[43mvalidate\u001B[49m\u001B[43m,\u001B[49m\n\u001B[0;32m  10097\u001B[0m \u001B[43m    \u001B[49m\u001B[43m)\u001B[49m\n",
      "File \u001B[1;32m~\\anaconda3\\envs\\momepy_env\\lib\\site-packages\\pandas\\core\\reshape\\merge.py:111\u001B[0m, in \u001B[0;36mmerge\u001B[1;34m(left, right, how, on, left_on, right_on, left_index, right_index, sort, suffixes, copy, indicator, validate)\u001B[0m\n\u001B[0;32m     94\u001B[0m \u001B[38;5;129m@Substitution\u001B[39m(\u001B[38;5;124m\"\u001B[39m\u001B[38;5;130;01m\\n\u001B[39;00m\u001B[38;5;124mleft : DataFrame or named Series\u001B[39m\u001B[38;5;124m\"\u001B[39m)\n\u001B[0;32m     95\u001B[0m \u001B[38;5;129m@Appender\u001B[39m(_merge_doc, indents\u001B[38;5;241m=\u001B[39m\u001B[38;5;241m0\u001B[39m)\n\u001B[0;32m     96\u001B[0m \u001B[38;5;28;01mdef\u001B[39;00m \u001B[38;5;21mmerge\u001B[39m(\n\u001B[1;32m   (...)\u001B[0m\n\u001B[0;32m    109\u001B[0m     validate: \u001B[38;5;28mstr\u001B[39m \u001B[38;5;241m|\u001B[39m \u001B[38;5;28;01mNone\u001B[39;00m \u001B[38;5;241m=\u001B[39m \u001B[38;5;28;01mNone\u001B[39;00m,\n\u001B[0;32m    110\u001B[0m ) \u001B[38;5;241m-\u001B[39m\u001B[38;5;241m>\u001B[39m DataFrame:\n\u001B[1;32m--> 111\u001B[0m     op \u001B[38;5;241m=\u001B[39m \u001B[43m_MergeOperation\u001B[49m\u001B[43m(\u001B[49m\n\u001B[0;32m    112\u001B[0m \u001B[43m        \u001B[49m\u001B[43mleft\u001B[49m\u001B[43m,\u001B[49m\n\u001B[0;32m    113\u001B[0m \u001B[43m        \u001B[49m\u001B[43mright\u001B[49m\u001B[43m,\u001B[49m\n\u001B[0;32m    114\u001B[0m \u001B[43m        \u001B[49m\u001B[43mhow\u001B[49m\u001B[38;5;241;43m=\u001B[39;49m\u001B[43mhow\u001B[49m\u001B[43m,\u001B[49m\n\u001B[0;32m    115\u001B[0m \u001B[43m        \u001B[49m\u001B[43mon\u001B[49m\u001B[38;5;241;43m=\u001B[39;49m\u001B[43mon\u001B[49m\u001B[43m,\u001B[49m\n\u001B[0;32m    116\u001B[0m \u001B[43m        \u001B[49m\u001B[43mleft_on\u001B[49m\u001B[38;5;241;43m=\u001B[39;49m\u001B[43mleft_on\u001B[49m\u001B[43m,\u001B[49m\n\u001B[0;32m    117\u001B[0m \u001B[43m        \u001B[49m\u001B[43mright_on\u001B[49m\u001B[38;5;241;43m=\u001B[39;49m\u001B[43mright_on\u001B[49m\u001B[43m,\u001B[49m\n\u001B[0;32m    118\u001B[0m \u001B[43m        \u001B[49m\u001B[43mleft_index\u001B[49m\u001B[38;5;241;43m=\u001B[39;49m\u001B[43mleft_index\u001B[49m\u001B[43m,\u001B[49m\n\u001B[0;32m    119\u001B[0m \u001B[43m        \u001B[49m\u001B[43mright_index\u001B[49m\u001B[38;5;241;43m=\u001B[39;49m\u001B[43mright_index\u001B[49m\u001B[43m,\u001B[49m\n\u001B[0;32m    120\u001B[0m \u001B[43m        \u001B[49m\u001B[43msort\u001B[49m\u001B[38;5;241;43m=\u001B[39;49m\u001B[43msort\u001B[49m\u001B[43m,\u001B[49m\n\u001B[0;32m    121\u001B[0m \u001B[43m        \u001B[49m\u001B[43msuffixes\u001B[49m\u001B[38;5;241;43m=\u001B[39;49m\u001B[43msuffixes\u001B[49m\u001B[43m,\u001B[49m\n\u001B[0;32m    122\u001B[0m \u001B[43m        \u001B[49m\u001B[43mindicator\u001B[49m\u001B[38;5;241;43m=\u001B[39;49m\u001B[43mindicator\u001B[49m\u001B[43m,\u001B[49m\n\u001B[0;32m    123\u001B[0m \u001B[43m        \u001B[49m\u001B[43mvalidate\u001B[49m\u001B[38;5;241;43m=\u001B[39;49m\u001B[43mvalidate\u001B[49m\u001B[43m,\u001B[49m\n\u001B[0;32m    124\u001B[0m \u001B[43m    \u001B[49m\u001B[43m)\u001B[49m\n\u001B[0;32m    125\u001B[0m     \u001B[38;5;28;01mreturn\u001B[39;00m op\u001B[38;5;241m.\u001B[39mget_result(copy\u001B[38;5;241m=\u001B[39mcopy)\n",
      "File \u001B[1;32m~\\anaconda3\\envs\\momepy_env\\lib\\site-packages\\pandas\\core\\reshape\\merge.py:706\u001B[0m, in \u001B[0;36m_MergeOperation.__init__\u001B[1;34m(self, left, right, how, on, left_on, right_on, axis, left_index, right_index, sort, suffixes, indicator, validate)\u001B[0m\n\u001B[0;32m    699\u001B[0m \u001B[38;5;28mself\u001B[39m\u001B[38;5;241m.\u001B[39m_cross \u001B[38;5;241m=\u001B[39m cross_col\n\u001B[0;32m    701\u001B[0m \u001B[38;5;66;03m# note this function has side effects\u001B[39;00m\n\u001B[0;32m    702\u001B[0m (\n\u001B[0;32m    703\u001B[0m     \u001B[38;5;28mself\u001B[39m\u001B[38;5;241m.\u001B[39mleft_join_keys,\n\u001B[0;32m    704\u001B[0m     \u001B[38;5;28mself\u001B[39m\u001B[38;5;241m.\u001B[39mright_join_keys,\n\u001B[0;32m    705\u001B[0m     \u001B[38;5;28mself\u001B[39m\u001B[38;5;241m.\u001B[39mjoin_names,\n\u001B[1;32m--> 706\u001B[0m ) \u001B[38;5;241m=\u001B[39m \u001B[38;5;28;43mself\u001B[39;49m\u001B[38;5;241;43m.\u001B[39;49m\u001B[43m_get_merge_keys\u001B[49m\u001B[43m(\u001B[49m\u001B[43m)\u001B[49m\n\u001B[0;32m    708\u001B[0m \u001B[38;5;66;03m# validate the merge keys dtypes. We may need to coerce\u001B[39;00m\n\u001B[0;32m    709\u001B[0m \u001B[38;5;66;03m# to avoid incompatible dtypes\u001B[39;00m\n\u001B[0;32m    710\u001B[0m \u001B[38;5;28mself\u001B[39m\u001B[38;5;241m.\u001B[39m_maybe_coerce_merge_keys()\n",
      "File \u001B[1;32m~\\anaconda3\\envs\\momepy_env\\lib\\site-packages\\pandas\\core\\reshape\\merge.py:1165\u001B[0m, in \u001B[0;36m_MergeOperation._get_merge_keys\u001B[1;34m(self)\u001B[0m\n\u001B[0;32m   1163\u001B[0m rk \u001B[38;5;241m=\u001B[39m cast(Hashable, rk)\n\u001B[0;32m   1164\u001B[0m \u001B[38;5;28;01mif\u001B[39;00m rk \u001B[38;5;129;01mis\u001B[39;00m \u001B[38;5;129;01mnot\u001B[39;00m \u001B[38;5;28;01mNone\u001B[39;00m:\n\u001B[1;32m-> 1165\u001B[0m     right_keys\u001B[38;5;241m.\u001B[39mappend(\u001B[43mright\u001B[49m\u001B[38;5;241;43m.\u001B[39;49m\u001B[43m_get_label_or_level_values\u001B[49m\u001B[43m(\u001B[49m\u001B[43mrk\u001B[49m\u001B[43m)\u001B[49m)\n\u001B[0;32m   1166\u001B[0m \u001B[38;5;28;01melse\u001B[39;00m:\n\u001B[0;32m   1167\u001B[0m     \u001B[38;5;66;03m# work-around for merge_asof(right_index=True)\u001B[39;00m\n\u001B[0;32m   1168\u001B[0m     right_keys\u001B[38;5;241m.\u001B[39mappend(right\u001B[38;5;241m.\u001B[39mindex)\n",
      "File \u001B[1;32m~\\anaconda3\\envs\\momepy_env\\lib\\site-packages\\pandas\\core\\generic.py:1849\u001B[0m, in \u001B[0;36mNDFrame._get_label_or_level_values\u001B[1;34m(self, key, axis)\u001B[0m\n\u001B[0;32m   1843\u001B[0m     values \u001B[38;5;241m=\u001B[39m (\n\u001B[0;32m   1844\u001B[0m         \u001B[38;5;28mself\u001B[39m\u001B[38;5;241m.\u001B[39maxes[axis]\n\u001B[0;32m   1845\u001B[0m         \u001B[38;5;241m.\u001B[39mget_level_values(key)  \u001B[38;5;66;03m# type: ignore[assignment]\u001B[39;00m\n\u001B[0;32m   1846\u001B[0m         \u001B[38;5;241m.\u001B[39m_values\n\u001B[0;32m   1847\u001B[0m     )\n\u001B[0;32m   1848\u001B[0m \u001B[38;5;28;01melse\u001B[39;00m:\n\u001B[1;32m-> 1849\u001B[0m     \u001B[38;5;28;01mraise\u001B[39;00m \u001B[38;5;167;01mKeyError\u001B[39;00m(key)\n\u001B[0;32m   1851\u001B[0m \u001B[38;5;66;03m# Check for duplicates\u001B[39;00m\n\u001B[0;32m   1852\u001B[0m \u001B[38;5;28;01mif\u001B[39;00m values\u001B[38;5;241m.\u001B[39mndim \u001B[38;5;241m>\u001B[39m \u001B[38;5;241m1\u001B[39m:\n",
      "\u001B[1;31mKeyError\u001B[0m: Index(['old_index', 'name_left', 'highway_left', 'bearing_left', 'group_left',\n       'is_simplif_left', 'length_left', 'geometry', 'index_right',\n       'name_right', 'highway_right', 'bearing_right', 'group_right',\n       'is_simplif_right', 'length_right'],\n      dtype='object')"
     ]
    }
   ],
   "source": [
    "# Merge the DataFrames with the 'indicator' parameter\n",
    "merged = df.merge(df_touch, on=df.columns, how='left', indicator=True)\n",
    "merged"
   ],
   "metadata": {
    "collapsed": false,
    "pycharm": {
     "name": "#%%\n"
    }
   }
  },
  {
   "cell_type": "code",
   "execution_count": null,
   "outputs": [],
   "source": [
    "\n",
    "# Filter rows where the indicator column is not equal to 'both'\n",
    "result = merged[merged['_merge'] != 'both']"
   ],
   "metadata": {
    "collapsed": false,
    "pycharm": {
     "name": "#%%\n"
    }
   }
  },
  {
   "cell_type": "code",
   "execution_count": null,
   "outputs": [],
   "source": [
    "\n",
    "# Drop the indicator column\n",
    "result = result.drop(columns=['_merge'])"
   ],
   "metadata": {
    "collapsed": false,
    "pycharm": {
     "name": "#%%\n"
    }
   }
  },
  {
   "cell_type": "code",
   "execution_count": 59,
   "outputs": [
    {
     "data": {
      "text/plain": "old_index                                                        6802\nname_left                                                         NaN\nhighway_left                                                      NaN\nbearing_left                                                      NaN\ngroup_left                                                        NaN\nis_simplif_left                                                   NaN\nlength_left                                               1629.843466\ngeometry            LINESTRING (-13636969.933119928 4548334.470138...\nindex_right                                                     17344\nname_right                                         Point Lobos Avenue\nhighway_right                                                 primary\nbearing_right                                                   137.3\ngroup_right                                                        -1\nis_simplif_right                                                    0\nlength_right                                                84.296871\nName: 2, dtype: object"
     },
     "execution_count": 59,
     "metadata": {},
     "output_type": "execute_result"
    }
   ],
   "source": [
    "testy = df.groupby(old_index).get_group(6802)\n",
    "testy[testy['name_right']==testy['name_right'].mode().iloc[0]].iloc[0]"
   ],
   "metadata": {
    "collapsed": false,
    "pycharm": {
     "name": "#%%\n"
    }
   }
  },
  {
   "cell_type": "code",
   "execution_count": 56,
   "outputs": [
    {
     "data": {
      "text/plain": "    old_index name_left highway_left  bearing_left  group_left  \\\n0        6802       NaN          NaN           NaN         NaN   \n2        6802       NaN          NaN           NaN         NaN   \n3        6802       NaN          NaN           NaN         NaN   \n4        6802       NaN          NaN           NaN         NaN   \n5        6802       NaN          NaN           NaN         NaN   \n6        6802       NaN          NaN           NaN         NaN   \n7        6802       NaN          NaN           NaN         NaN   \n8        6802       NaN          NaN           NaN         NaN   \n9        6802       NaN          NaN           NaN         NaN   \n11       6802       NaN          NaN           NaN         NaN   \n13       6802       NaN          NaN           NaN         NaN   \n14       6802       NaN          NaN           NaN         NaN   \n17       6802       NaN          NaN           NaN         NaN   \n20       6802       NaN          NaN           NaN         NaN   \n21       6802       NaN          NaN           NaN         NaN   \n30       6802       NaN          NaN           NaN         NaN   \n34       6802       NaN          NaN           NaN         NaN   \n36       6802       NaN          NaN           NaN         NaN   \n39       6802       NaN          NaN           NaN         NaN   \n41       6802       NaN          NaN           NaN         NaN   \n43       6802       NaN          NaN           NaN         NaN   \n44       6802       NaN          NaN           NaN         NaN   \n\n    is_simplif_left  length_left  \\\n0               NaN  1629.843466   \n2               NaN  1629.843466   \n3               NaN  1629.843466   \n4               NaN  1629.843466   \n5               NaN  1629.843466   \n6               NaN  1629.843466   \n7               NaN  1629.843466   \n8               NaN  1629.843466   \n9               NaN  1629.843466   \n11              NaN  1629.843466   \n13              NaN  1629.843466   \n14              NaN  1629.843466   \n17              NaN  1629.843466   \n20              NaN  1629.843466   \n21              NaN  1629.843466   \n30              NaN  1629.843466   \n34              NaN  1629.843466   \n36              NaN  1629.843466   \n39              NaN  1629.843466   \n41              NaN  1629.843466   \n43              NaN  1629.843466   \n44              NaN  1629.843466   \n\n                                             geometry  index_right  \\\n0   LINESTRING (-13636969.933 4548334.470, -136371...        10319   \n2   LINESTRING (-13636969.933 4548334.470, -136371...        17344   \n3   LINESTRING (-13636969.933 4548334.470, -136371...        17343   \n4   LINESTRING (-13636969.933 4548334.470, -136371...        17335   \n5   LINESTRING (-13636969.933 4548334.470, -136371...        17336   \n6   LINESTRING (-13636969.933 4548334.470, -136371...        17337   \n7   LINESTRING (-13636969.933 4548334.470, -136371...        17339   \n8   LINESTRING (-13636969.933 4548334.470, -136371...        17342   \n9   LINESTRING (-13636969.933 4548334.470, -136371...         2701   \n11  LINESTRING (-13636969.933 4548334.470, -136371...         2644   \n13  LINESTRING (-13636969.933 4548334.470, -136371...        17341   \n14  LINESTRING (-13636969.933 4548334.470, -136371...         2563   \n17  LINESTRING (-13636969.933 4548334.470, -136371...         2603   \n20  LINESTRING (-13636969.933 4548334.470, -136371...        17340   \n21  LINESTRING (-13636969.933 4548334.470, -136371...        17338   \n30  LINESTRING (-13636969.933 4548334.470, -136371...         2487   \n34  LINESTRING (-13636969.933 4548334.470, -136371...         2518   \n36  LINESTRING (-13636969.933 4548334.470, -136371...         2485   \n39  LINESTRING (-13636969.933 4548334.470, -136371...         2546   \n41  LINESTRING (-13636969.933 4548334.470, -136371...        10320   \n43  LINESTRING (-13636969.933 4548334.470, -136371...        17345   \n44  LINESTRING (-13636969.933 4548334.470, -136371...        10321   \n\n            name_right highway_right  bearing_right  group_right  \\\n0        Great Highway       primary     149.900000           -1   \n2   Point Lobos Avenue       primary     137.300000           -1   \n3   Point Lobos Avenue       primary     137.300000           -1   \n4   Point Lobos Avenue       primary     167.100000           -1   \n5   Point Lobos Avenue       primary     167.100000           -1   \n6   Point Lobos Avenue       primary      87.625000            0   \n7   Point Lobos Avenue       primary      58.100000           -1   \n8   Point Lobos Avenue       primary      58.100000           -1   \n9          48th Avenue   residential     175.531111           -1   \n11         47th Avenue   residential     176.874468           -1   \n13  Point Lobos Avenue       primary      58.100000           -1   \n14         45th Avenue   residential     176.781250           -1   \n17         46th Avenue   residential     176.779487           -1   \n20  Point Lobos Avenue       primary      58.100000           -1   \n21  Point Lobos Avenue       primary      87.625000            0   \n30         42nd Avenue   residential     176.770588           -1   \n34         43rd Avenue   residential     176.763333           -1   \n36         42nd Avenue   residential     176.770588           -1   \n39         44th Avenue   residential     176.800000           -1   \n41       Great Highway       primary     149.900000           -1   \n43  Point Lobos Avenue       primary     137.300000           -1   \n44       Great Highway       primary     174.211268            0   \n\n    is_simplif_right  length_right  \n0                  0     72.411499  \n2                  0     84.296871  \n3                  0     83.740351  \n4                  0    101.493373  \n5                  0     29.179351  \n6                  1    192.672939  \n7                  0     57.703111  \n8                  0     24.916558  \n9                  0    118.085112  \n11                 0    120.182914  \n13                 0     10.719022  \n14                 0    110.673559  \n17                 0    129.428016  \n20                 0     69.143005  \n21                 1    874.904103  \n30                 0     36.833852  \n34                 0     63.053766  \n36                 0     10.919155  \n39                 0     10.327336  \n41                 0     40.234481  \n43                 0     60.840301  \n44                 1   1481.048301  ",
      "text/html": "<div>\n<style scoped>\n    .dataframe tbody tr th:only-of-type {\n        vertical-align: middle;\n    }\n\n    .dataframe tbody tr th {\n        vertical-align: top;\n    }\n\n    .dataframe thead th {\n        text-align: right;\n    }\n</style>\n<table border=\"1\" class=\"dataframe\">\n  <thead>\n    <tr style=\"text-align: right;\">\n      <th></th>\n      <th>old_index</th>\n      <th>name_left</th>\n      <th>highway_left</th>\n      <th>bearing_left</th>\n      <th>group_left</th>\n      <th>is_simplif_left</th>\n      <th>length_left</th>\n      <th>geometry</th>\n      <th>index_right</th>\n      <th>name_right</th>\n      <th>highway_right</th>\n      <th>bearing_right</th>\n      <th>group_right</th>\n      <th>is_simplif_right</th>\n      <th>length_right</th>\n    </tr>\n  </thead>\n  <tbody>\n    <tr>\n      <th>0</th>\n      <td>6802</td>\n      <td>NaN</td>\n      <td>NaN</td>\n      <td>NaN</td>\n      <td>NaN</td>\n      <td>NaN</td>\n      <td>1629.843466</td>\n      <td>LINESTRING (-13636969.933 4548334.470, -136371...</td>\n      <td>10319</td>\n      <td>Great Highway</td>\n      <td>primary</td>\n      <td>149.900000</td>\n      <td>-1</td>\n      <td>0</td>\n      <td>72.411499</td>\n    </tr>\n    <tr>\n      <th>2</th>\n      <td>6802</td>\n      <td>NaN</td>\n      <td>NaN</td>\n      <td>NaN</td>\n      <td>NaN</td>\n      <td>NaN</td>\n      <td>1629.843466</td>\n      <td>LINESTRING (-13636969.933 4548334.470, -136371...</td>\n      <td>17344</td>\n      <td>Point Lobos Avenue</td>\n      <td>primary</td>\n      <td>137.300000</td>\n      <td>-1</td>\n      <td>0</td>\n      <td>84.296871</td>\n    </tr>\n    <tr>\n      <th>3</th>\n      <td>6802</td>\n      <td>NaN</td>\n      <td>NaN</td>\n      <td>NaN</td>\n      <td>NaN</td>\n      <td>NaN</td>\n      <td>1629.843466</td>\n      <td>LINESTRING (-13636969.933 4548334.470, -136371...</td>\n      <td>17343</td>\n      <td>Point Lobos Avenue</td>\n      <td>primary</td>\n      <td>137.300000</td>\n      <td>-1</td>\n      <td>0</td>\n      <td>83.740351</td>\n    </tr>\n    <tr>\n      <th>4</th>\n      <td>6802</td>\n      <td>NaN</td>\n      <td>NaN</td>\n      <td>NaN</td>\n      <td>NaN</td>\n      <td>NaN</td>\n      <td>1629.843466</td>\n      <td>LINESTRING (-13636969.933 4548334.470, -136371...</td>\n      <td>17335</td>\n      <td>Point Lobos Avenue</td>\n      <td>primary</td>\n      <td>167.100000</td>\n      <td>-1</td>\n      <td>0</td>\n      <td>101.493373</td>\n    </tr>\n    <tr>\n      <th>5</th>\n      <td>6802</td>\n      <td>NaN</td>\n      <td>NaN</td>\n      <td>NaN</td>\n      <td>NaN</td>\n      <td>NaN</td>\n      <td>1629.843466</td>\n      <td>LINESTRING (-13636969.933 4548334.470, -136371...</td>\n      <td>17336</td>\n      <td>Point Lobos Avenue</td>\n      <td>primary</td>\n      <td>167.100000</td>\n      <td>-1</td>\n      <td>0</td>\n      <td>29.179351</td>\n    </tr>\n    <tr>\n      <th>6</th>\n      <td>6802</td>\n      <td>NaN</td>\n      <td>NaN</td>\n      <td>NaN</td>\n      <td>NaN</td>\n      <td>NaN</td>\n      <td>1629.843466</td>\n      <td>LINESTRING (-13636969.933 4548334.470, -136371...</td>\n      <td>17337</td>\n      <td>Point Lobos Avenue</td>\n      <td>primary</td>\n      <td>87.625000</td>\n      <td>0</td>\n      <td>1</td>\n      <td>192.672939</td>\n    </tr>\n    <tr>\n      <th>7</th>\n      <td>6802</td>\n      <td>NaN</td>\n      <td>NaN</td>\n      <td>NaN</td>\n      <td>NaN</td>\n      <td>NaN</td>\n      <td>1629.843466</td>\n      <td>LINESTRING (-13636969.933 4548334.470, -136371...</td>\n      <td>17339</td>\n      <td>Point Lobos Avenue</td>\n      <td>primary</td>\n      <td>58.100000</td>\n      <td>-1</td>\n      <td>0</td>\n      <td>57.703111</td>\n    </tr>\n    <tr>\n      <th>8</th>\n      <td>6802</td>\n      <td>NaN</td>\n      <td>NaN</td>\n      <td>NaN</td>\n      <td>NaN</td>\n      <td>NaN</td>\n      <td>1629.843466</td>\n      <td>LINESTRING (-13636969.933 4548334.470, -136371...</td>\n      <td>17342</td>\n      <td>Point Lobos Avenue</td>\n      <td>primary</td>\n      <td>58.100000</td>\n      <td>-1</td>\n      <td>0</td>\n      <td>24.916558</td>\n    </tr>\n    <tr>\n      <th>9</th>\n      <td>6802</td>\n      <td>NaN</td>\n      <td>NaN</td>\n      <td>NaN</td>\n      <td>NaN</td>\n      <td>NaN</td>\n      <td>1629.843466</td>\n      <td>LINESTRING (-13636969.933 4548334.470, -136371...</td>\n      <td>2701</td>\n      <td>48th Avenue</td>\n      <td>residential</td>\n      <td>175.531111</td>\n      <td>-1</td>\n      <td>0</td>\n      <td>118.085112</td>\n    </tr>\n    <tr>\n      <th>11</th>\n      <td>6802</td>\n      <td>NaN</td>\n      <td>NaN</td>\n      <td>NaN</td>\n      <td>NaN</td>\n      <td>NaN</td>\n      <td>1629.843466</td>\n      <td>LINESTRING (-13636969.933 4548334.470, -136371...</td>\n      <td>2644</td>\n      <td>47th Avenue</td>\n      <td>residential</td>\n      <td>176.874468</td>\n      <td>-1</td>\n      <td>0</td>\n      <td>120.182914</td>\n    </tr>\n    <tr>\n      <th>13</th>\n      <td>6802</td>\n      <td>NaN</td>\n      <td>NaN</td>\n      <td>NaN</td>\n      <td>NaN</td>\n      <td>NaN</td>\n      <td>1629.843466</td>\n      <td>LINESTRING (-13636969.933 4548334.470, -136371...</td>\n      <td>17341</td>\n      <td>Point Lobos Avenue</td>\n      <td>primary</td>\n      <td>58.100000</td>\n      <td>-1</td>\n      <td>0</td>\n      <td>10.719022</td>\n    </tr>\n    <tr>\n      <th>14</th>\n      <td>6802</td>\n      <td>NaN</td>\n      <td>NaN</td>\n      <td>NaN</td>\n      <td>NaN</td>\n      <td>NaN</td>\n      <td>1629.843466</td>\n      <td>LINESTRING (-13636969.933 4548334.470, -136371...</td>\n      <td>2563</td>\n      <td>45th Avenue</td>\n      <td>residential</td>\n      <td>176.781250</td>\n      <td>-1</td>\n      <td>0</td>\n      <td>110.673559</td>\n    </tr>\n    <tr>\n      <th>17</th>\n      <td>6802</td>\n      <td>NaN</td>\n      <td>NaN</td>\n      <td>NaN</td>\n      <td>NaN</td>\n      <td>NaN</td>\n      <td>1629.843466</td>\n      <td>LINESTRING (-13636969.933 4548334.470, -136371...</td>\n      <td>2603</td>\n      <td>46th Avenue</td>\n      <td>residential</td>\n      <td>176.779487</td>\n      <td>-1</td>\n      <td>0</td>\n      <td>129.428016</td>\n    </tr>\n    <tr>\n      <th>20</th>\n      <td>6802</td>\n      <td>NaN</td>\n      <td>NaN</td>\n      <td>NaN</td>\n      <td>NaN</td>\n      <td>NaN</td>\n      <td>1629.843466</td>\n      <td>LINESTRING (-13636969.933 4548334.470, -136371...</td>\n      <td>17340</td>\n      <td>Point Lobos Avenue</td>\n      <td>primary</td>\n      <td>58.100000</td>\n      <td>-1</td>\n      <td>0</td>\n      <td>69.143005</td>\n    </tr>\n    <tr>\n      <th>21</th>\n      <td>6802</td>\n      <td>NaN</td>\n      <td>NaN</td>\n      <td>NaN</td>\n      <td>NaN</td>\n      <td>NaN</td>\n      <td>1629.843466</td>\n      <td>LINESTRING (-13636969.933 4548334.470, -136371...</td>\n      <td>17338</td>\n      <td>Point Lobos Avenue</td>\n      <td>primary</td>\n      <td>87.625000</td>\n      <td>0</td>\n      <td>1</td>\n      <td>874.904103</td>\n    </tr>\n    <tr>\n      <th>30</th>\n      <td>6802</td>\n      <td>NaN</td>\n      <td>NaN</td>\n      <td>NaN</td>\n      <td>NaN</td>\n      <td>NaN</td>\n      <td>1629.843466</td>\n      <td>LINESTRING (-13636969.933 4548334.470, -136371...</td>\n      <td>2487</td>\n      <td>42nd Avenue</td>\n      <td>residential</td>\n      <td>176.770588</td>\n      <td>-1</td>\n      <td>0</td>\n      <td>36.833852</td>\n    </tr>\n    <tr>\n      <th>34</th>\n      <td>6802</td>\n      <td>NaN</td>\n      <td>NaN</td>\n      <td>NaN</td>\n      <td>NaN</td>\n      <td>NaN</td>\n      <td>1629.843466</td>\n      <td>LINESTRING (-13636969.933 4548334.470, -136371...</td>\n      <td>2518</td>\n      <td>43rd Avenue</td>\n      <td>residential</td>\n      <td>176.763333</td>\n      <td>-1</td>\n      <td>0</td>\n      <td>63.053766</td>\n    </tr>\n    <tr>\n      <th>36</th>\n      <td>6802</td>\n      <td>NaN</td>\n      <td>NaN</td>\n      <td>NaN</td>\n      <td>NaN</td>\n      <td>NaN</td>\n      <td>1629.843466</td>\n      <td>LINESTRING (-13636969.933 4548334.470, -136371...</td>\n      <td>2485</td>\n      <td>42nd Avenue</td>\n      <td>residential</td>\n      <td>176.770588</td>\n      <td>-1</td>\n      <td>0</td>\n      <td>10.919155</td>\n    </tr>\n    <tr>\n      <th>39</th>\n      <td>6802</td>\n      <td>NaN</td>\n      <td>NaN</td>\n      <td>NaN</td>\n      <td>NaN</td>\n      <td>NaN</td>\n      <td>1629.843466</td>\n      <td>LINESTRING (-13636969.933 4548334.470, -136371...</td>\n      <td>2546</td>\n      <td>44th Avenue</td>\n      <td>residential</td>\n      <td>176.800000</td>\n      <td>-1</td>\n      <td>0</td>\n      <td>10.327336</td>\n    </tr>\n    <tr>\n      <th>41</th>\n      <td>6802</td>\n      <td>NaN</td>\n      <td>NaN</td>\n      <td>NaN</td>\n      <td>NaN</td>\n      <td>NaN</td>\n      <td>1629.843466</td>\n      <td>LINESTRING (-13636969.933 4548334.470, -136371...</td>\n      <td>10320</td>\n      <td>Great Highway</td>\n      <td>primary</td>\n      <td>149.900000</td>\n      <td>-1</td>\n      <td>0</td>\n      <td>40.234481</td>\n    </tr>\n    <tr>\n      <th>43</th>\n      <td>6802</td>\n      <td>NaN</td>\n      <td>NaN</td>\n      <td>NaN</td>\n      <td>NaN</td>\n      <td>NaN</td>\n      <td>1629.843466</td>\n      <td>LINESTRING (-13636969.933 4548334.470, -136371...</td>\n      <td>17345</td>\n      <td>Point Lobos Avenue</td>\n      <td>primary</td>\n      <td>137.300000</td>\n      <td>-1</td>\n      <td>0</td>\n      <td>60.840301</td>\n    </tr>\n    <tr>\n      <th>44</th>\n      <td>6802</td>\n      <td>NaN</td>\n      <td>NaN</td>\n      <td>NaN</td>\n      <td>NaN</td>\n      <td>NaN</td>\n      <td>1629.843466</td>\n      <td>LINESTRING (-13636969.933 4548334.470, -136371...</td>\n      <td>10321</td>\n      <td>Great Highway</td>\n      <td>primary</td>\n      <td>174.211268</td>\n      <td>0</td>\n      <td>1</td>\n      <td>1481.048301</td>\n    </tr>\n  </tbody>\n</table>\n</div>"
     },
     "execution_count": 56,
     "metadata": {},
     "output_type": "execute_result"
    }
   ],
   "source": [
    "testy"
   ],
   "metadata": {
    "collapsed": false,
    "pycharm": {
     "name": "#%%\n"
    }
   }
  },
  {
   "cell_type": "code",
   "execution_count": 100,
   "outputs": [
    {
     "data": {
      "text/plain": "       old_index name_left highway_left  bearing_left  group_left  \\\n0           6894       NaN          NaN           NaN         NaN   \n1           6894       NaN          NaN           NaN         NaN   \n2           6895       NaN          NaN           NaN         NaN   \n3           6895       NaN          NaN           NaN         NaN   \n4           6895       NaN          NaN           NaN         NaN   \n...          ...       ...          ...           ...         ...   \n23073      10181       NaN          NaN           NaN         NaN   \n23074      10181       NaN          NaN           NaN         NaN   \n23075      10181       NaN          NaN           NaN         NaN   \n23076      10182       NaN          NaN           NaN         NaN   \n23077      10182       NaN          NaN           NaN         NaN   \n\n       is_simplif_left  length_left  \\\n0                  NaN   105.790786   \n1                  NaN   105.790786   \n2                  NaN  1070.065911   \n3                  NaN  1070.065911   \n4                  NaN  1070.065911   \n...                ...          ...   \n23073              NaN   791.089589   \n23074              NaN   791.089589   \n23075              NaN   791.089589   \n23076              NaN  2774.134545   \n23077              NaN  2774.134545   \n\n                                                geometry  index_right  \\\n0      LINESTRING (845229.980 5628010.626, 845209.653...        12013   \n1      LINESTRING (845229.980 5628010.626, 845209.653...        12012   \n2      LINESTRING (844701.825 5627157.981, 845262.118...        12011   \n3      LINESTRING (844701.825 5627157.981, 845262.118...        12015   \n4      LINESTRING (844701.825 5627157.981, 845262.118...        12014   \n...                                                  ...          ...   \n23073  LINESTRING (860487.575 5637879.630, 860499.230...         4427   \n23074  LINESTRING (860487.575 5637879.630, 860499.230...         4429   \n23075  LINESTRING (860487.575 5637879.630, 860499.230...         4432   \n23076  LINESTRING (860415.362 5628676.395, 860419.046...         3711   \n23077  LINESTRING (860415.362 5628676.395, 860419.046...         3716   \n\n                             name_right highway_right  bearing_right  \\\n0                      Via Paolo Gorini       service        123.950   \n1                      Via Paolo Gorini       service        123.950   \n2                      Via Paolo Gorini  unclassified         32.948   \n3                      Via Paolo Gorini       service        123.950   \n4                      Via Paolo Gorini       service        123.950   \n...                                 ...           ...            ...   \n23073                Strada della Magra   residential        119.090   \n23074                Strada della Magra   residential         20.625   \n23075                Strada della Magra   residential         83.400   \n23076  Strada Val San Martino Superiore  unclassified         66.340   \n23077  Strada Val San Martino Superiore  unclassified        166.200   \n\n       group_right  is_simplif_right  length_right  \n0               -1                 0     53.869012  \n1               -1                 0     51.921774  \n2                0                 1   1041.856530  \n3               -1                 0     18.247883  \n4               -1                 0     18.842966  \n...            ...               ...           ...  \n23073           -1                 0    344.176771  \n23074           -1                 0     40.124785  \n23075           -1                 0    160.786192  \n23076           -1                 0    755.649043  \n23077           -1                 0    777.910772  \n\n[23078 rows x 15 columns]",
      "text/html": "<div>\n<style scoped>\n    .dataframe tbody tr th:only-of-type {\n        vertical-align: middle;\n    }\n\n    .dataframe tbody tr th {\n        vertical-align: top;\n    }\n\n    .dataframe thead th {\n        text-align: right;\n    }\n</style>\n<table border=\"1\" class=\"dataframe\">\n  <thead>\n    <tr style=\"text-align: right;\">\n      <th></th>\n      <th>old_index</th>\n      <th>name_left</th>\n      <th>highway_left</th>\n      <th>bearing_left</th>\n      <th>group_left</th>\n      <th>is_simplif_left</th>\n      <th>length_left</th>\n      <th>geometry</th>\n      <th>index_right</th>\n      <th>name_right</th>\n      <th>highway_right</th>\n      <th>bearing_right</th>\n      <th>group_right</th>\n      <th>is_simplif_right</th>\n      <th>length_right</th>\n    </tr>\n  </thead>\n  <tbody>\n    <tr>\n      <th>0</th>\n      <td>6894</td>\n      <td>NaN</td>\n      <td>NaN</td>\n      <td>NaN</td>\n      <td>NaN</td>\n      <td>NaN</td>\n      <td>105.790786</td>\n      <td>LINESTRING (845229.980 5628010.626, 845209.653...</td>\n      <td>12013</td>\n      <td>Via Paolo Gorini</td>\n      <td>service</td>\n      <td>123.950</td>\n      <td>-1</td>\n      <td>0</td>\n      <td>53.869012</td>\n    </tr>\n    <tr>\n      <th>1</th>\n      <td>6894</td>\n      <td>NaN</td>\n      <td>NaN</td>\n      <td>NaN</td>\n      <td>NaN</td>\n      <td>NaN</td>\n      <td>105.790786</td>\n      <td>LINESTRING (845229.980 5628010.626, 845209.653...</td>\n      <td>12012</td>\n      <td>Via Paolo Gorini</td>\n      <td>service</td>\n      <td>123.950</td>\n      <td>-1</td>\n      <td>0</td>\n      <td>51.921774</td>\n    </tr>\n    <tr>\n      <th>2</th>\n      <td>6895</td>\n      <td>NaN</td>\n      <td>NaN</td>\n      <td>NaN</td>\n      <td>NaN</td>\n      <td>NaN</td>\n      <td>1070.065911</td>\n      <td>LINESTRING (844701.825 5627157.981, 845262.118...</td>\n      <td>12011</td>\n      <td>Via Paolo Gorini</td>\n      <td>unclassified</td>\n      <td>32.948</td>\n      <td>0</td>\n      <td>1</td>\n      <td>1041.856530</td>\n    </tr>\n    <tr>\n      <th>3</th>\n      <td>6895</td>\n      <td>NaN</td>\n      <td>NaN</td>\n      <td>NaN</td>\n      <td>NaN</td>\n      <td>NaN</td>\n      <td>1070.065911</td>\n      <td>LINESTRING (844701.825 5627157.981, 845262.118...</td>\n      <td>12015</td>\n      <td>Via Paolo Gorini</td>\n      <td>service</td>\n      <td>123.950</td>\n      <td>-1</td>\n      <td>0</td>\n      <td>18.247883</td>\n    </tr>\n    <tr>\n      <th>4</th>\n      <td>6895</td>\n      <td>NaN</td>\n      <td>NaN</td>\n      <td>NaN</td>\n      <td>NaN</td>\n      <td>NaN</td>\n      <td>1070.065911</td>\n      <td>LINESTRING (844701.825 5627157.981, 845262.118...</td>\n      <td>12014</td>\n      <td>Via Paolo Gorini</td>\n      <td>service</td>\n      <td>123.950</td>\n      <td>-1</td>\n      <td>0</td>\n      <td>18.842966</td>\n    </tr>\n    <tr>\n      <th>...</th>\n      <td>...</td>\n      <td>...</td>\n      <td>...</td>\n      <td>...</td>\n      <td>...</td>\n      <td>...</td>\n      <td>...</td>\n      <td>...</td>\n      <td>...</td>\n      <td>...</td>\n      <td>...</td>\n      <td>...</td>\n      <td>...</td>\n      <td>...</td>\n      <td>...</td>\n    </tr>\n    <tr>\n      <th>23073</th>\n      <td>10181</td>\n      <td>NaN</td>\n      <td>NaN</td>\n      <td>NaN</td>\n      <td>NaN</td>\n      <td>NaN</td>\n      <td>791.089589</td>\n      <td>LINESTRING (860487.575 5637879.630, 860499.230...</td>\n      <td>4427</td>\n      <td>Strada della Magra</td>\n      <td>residential</td>\n      <td>119.090</td>\n      <td>-1</td>\n      <td>0</td>\n      <td>344.176771</td>\n    </tr>\n    <tr>\n      <th>23074</th>\n      <td>10181</td>\n      <td>NaN</td>\n      <td>NaN</td>\n      <td>NaN</td>\n      <td>NaN</td>\n      <td>NaN</td>\n      <td>791.089589</td>\n      <td>LINESTRING (860487.575 5637879.630, 860499.230...</td>\n      <td>4429</td>\n      <td>Strada della Magra</td>\n      <td>residential</td>\n      <td>20.625</td>\n      <td>-1</td>\n      <td>0</td>\n      <td>40.124785</td>\n    </tr>\n    <tr>\n      <th>23075</th>\n      <td>10181</td>\n      <td>NaN</td>\n      <td>NaN</td>\n      <td>NaN</td>\n      <td>NaN</td>\n      <td>NaN</td>\n      <td>791.089589</td>\n      <td>LINESTRING (860487.575 5637879.630, 860499.230...</td>\n      <td>4432</td>\n      <td>Strada della Magra</td>\n      <td>residential</td>\n      <td>83.400</td>\n      <td>-1</td>\n      <td>0</td>\n      <td>160.786192</td>\n    </tr>\n    <tr>\n      <th>23076</th>\n      <td>10182</td>\n      <td>NaN</td>\n      <td>NaN</td>\n      <td>NaN</td>\n      <td>NaN</td>\n      <td>NaN</td>\n      <td>2774.134545</td>\n      <td>LINESTRING (860415.362 5628676.395, 860419.046...</td>\n      <td>3711</td>\n      <td>Strada Val San Martino Superiore</td>\n      <td>unclassified</td>\n      <td>66.340</td>\n      <td>-1</td>\n      <td>0</td>\n      <td>755.649043</td>\n    </tr>\n    <tr>\n      <th>23077</th>\n      <td>10182</td>\n      <td>NaN</td>\n      <td>NaN</td>\n      <td>NaN</td>\n      <td>NaN</td>\n      <td>NaN</td>\n      <td>2774.134545</td>\n      <td>LINESTRING (860415.362 5628676.395, 860419.046...</td>\n      <td>3716</td>\n      <td>Strada Val San Martino Superiore</td>\n      <td>unclassified</td>\n      <td>166.200</td>\n      <td>-1</td>\n      <td>0</td>\n      <td>777.910772</td>\n    </tr>\n  </tbody>\n</table>\n<p>23078 rows × 15 columns</p>\n</div>"
     },
     "execution_count": 100,
     "metadata": {},
     "output_type": "execute_result"
    }
   ],
   "source": [
    "df"
   ],
   "metadata": {
    "collapsed": false,
    "pycharm": {
     "name": "#%%\n"
    }
   }
  },
  {
   "cell_type": "code",
   "execution_count": 126,
   "outputs": [
    {
     "name": "stdout",
     "output_type": "stream",
     "text": [
      "6916\n",
      "6938\n",
      "6945\n",
      "6950\n",
      "6952\n",
      "6975\n",
      "6978\n",
      "7005\n",
      "7014\n",
      "7024\n",
      "7037\n",
      "7052\n",
      "7055\n",
      "7058\n",
      "7076\n",
      "7090\n",
      "7093\n",
      "7100\n",
      "7107\n",
      "7119\n",
      "7135\n",
      "7157\n",
      "7159\n",
      "7163\n",
      "7164\n",
      "7175\n",
      "7181\n",
      "7208\n",
      "7233\n",
      "7247\n",
      "7269\n",
      "7279\n",
      "7310\n",
      "7317\n",
      "7330\n",
      "7335\n",
      "7337\n",
      "7415\n",
      "7436\n",
      "7442\n",
      "7464\n",
      "7476\n",
      "7511\n",
      "7515\n",
      "7516\n",
      "7528\n",
      "7529\n",
      "7530\n",
      "7560\n",
      "7579\n",
      "7591\n",
      "7606\n",
      "7634\n",
      "7639\n",
      "7649\n",
      "7666\n",
      "7669\n",
      "7681\n",
      "7684\n",
      "7693\n",
      "7711\n",
      "7712\n",
      "7713\n",
      "7726\n",
      "7727\n",
      "7741\n",
      "7778\n",
      "7779\n",
      "7789\n",
      "7792\n",
      "7794\n",
      "7799\n",
      "7815\n",
      "7820\n",
      "7826\n",
      "7855\n",
      "7859\n",
      "7887\n",
      "7899\n",
      "7900\n",
      "7919\n",
      "7930\n",
      "7947\n",
      "7968\n",
      "7991\n",
      "8002\n",
      "8014\n",
      "8019\n",
      "8036\n",
      "8041\n",
      "8063\n",
      "8092\n",
      "8096\n",
      "8098\n",
      "8113\n",
      "8134\n",
      "8138\n",
      "8143\n",
      "8151\n",
      "8153\n",
      "8163\n",
      "8171\n",
      "8172\n",
      "8198\n",
      "8199\n",
      "8200\n",
      "8217\n",
      "8229\n",
      "8230\n",
      "8241\n",
      "8242\n",
      "8254\n",
      "8255\n",
      "8277\n",
      "8300\n",
      "8316\n",
      "8362\n",
      "8377\n",
      "8381\n",
      "8384\n",
      "8387\n",
      "8388\n",
      "8420\n",
      "8429\n",
      "8435\n",
      "8447\n",
      "8473\n",
      "8480\n",
      "8502\n",
      "8524\n",
      "8530\n",
      "8540\n",
      "8541\n",
      "8547\n",
      "8558\n",
      "8587\n",
      "8624\n",
      "8636\n",
      "8652\n",
      "8662\n",
      "8666\n",
      "8682\n",
      "8691\n",
      "8712\n",
      "8724\n",
      "8736\n",
      "8737\n",
      "8741\n",
      "8746\n",
      "8755\n",
      "8778\n",
      "8799\n",
      "8810\n",
      "8854\n",
      "8861\n",
      "8863\n",
      "8869\n",
      "8879\n",
      "8880\n",
      "8882\n",
      "8903\n",
      "8919\n",
      "8940\n",
      "8949\n",
      "8955\n",
      "8979\n",
      "8988\n",
      "8990\n",
      "9002\n",
      "9004\n",
      "9008\n",
      "9022\n",
      "9027\n",
      "9032\n",
      "9035\n",
      "9038\n",
      "9079\n",
      "9100\n",
      "9124\n",
      "9158\n",
      "9162\n",
      "9166\n",
      "9176\n",
      "9178\n",
      "9190\n",
      "9202\n",
      "9206\n",
      "9212\n",
      "9224\n",
      "9229\n",
      "9257\n",
      "9266\n",
      "9267\n",
      "9284\n",
      "9285\n",
      "9292\n",
      "9294\n",
      "9305\n",
      "9307\n",
      "9308\n",
      "9309\n",
      "9310\n",
      "9311\n",
      "9313\n",
      "9322\n",
      "9323\n",
      "9328\n",
      "9342\n",
      "9346\n",
      "9351\n",
      "9356\n",
      "9362\n",
      "9370\n",
      "9392\n",
      "9394\n",
      "9397\n",
      "9425\n",
      "9438\n",
      "9462\n",
      "9465\n",
      "9513\n",
      "9530\n",
      "9536\n",
      "9538\n",
      "9550\n",
      "9552\n",
      "9565\n",
      "9576\n",
      "9578\n",
      "9581\n",
      "9586\n",
      "9597\n",
      "9608\n",
      "9615\n",
      "9636\n",
      "9639\n",
      "9651\n",
      "9654\n",
      "9655\n",
      "9660\n",
      "9664\n",
      "9679\n",
      "9687\n",
      "9689\n",
      "9695\n",
      "9696\n",
      "9703\n",
      "9709\n",
      "9739\n",
      "9763\n",
      "9765\n",
      "9784\n",
      "9793\n",
      "9794\n",
      "9798\n",
      "9814\n",
      "9816\n",
      "9817\n",
      "9824\n",
      "9839\n",
      "9848\n",
      "9851\n",
      "9855\n",
      "9858\n",
      "9860\n",
      "9861\n",
      "9884\n",
      "9894\n",
      "9896\n",
      "9909\n",
      "9911\n",
      "9928\n",
      "9934\n",
      "9936\n",
      "9940\n",
      "9942\n",
      "9943\n",
      "9948\n",
      "9949\n",
      "9958\n",
      "9959\n",
      "9965\n",
      "9981\n",
      "9982\n",
      "9999\n",
      "10010\n",
      "10021\n",
      "10063\n",
      "10064\n",
      "10079\n",
      "10087\n",
      "10099\n",
      "10105\n",
      "10137\n",
      "10147\n",
      "10163\n",
      "10173\n"
     ]
    }
   ],
   "source": [
    "def return_street_name(group):\n",
    "    \"\"\"\n",
    "    1. \"Count the occurrences of polylines with the same name within each group.\"\n",
    "    2. \"Return the street if a group contains only one unique street name.\"\n",
    "    3. \"If a single street name predominates within a group, return that name.\"\n",
    "    4. \"For groups with multiple names, perform a buffer calculation around the respective polylines and determine the largest overlapping area, returning the name associated with that area.\"\n",
    "    :param group:\n",
    "    :return:\n",
    "    \"\"\"\n",
    "    count_names = group['name_right'] .value_counts().sort_values(ascending=False)\n",
    "    if len(count_names)==1 or count_names[0]!=count_names[1]:\n",
    "        return group.iloc[0]\n",
    "    else:\n",
    "        str_to_wrk_on  =group[group['name_right'].isin(res[res==res[0]].index)]\n",
    "\n",
    "\n",
    "_ =df.groupby(old_index).apply(return_street_name)"
   ],
   "metadata": {
    "collapsed": false,
    "pycharm": {
     "name": "#%%\n"
    }
   }
  },
  {
   "cell_type": "code",
   "execution_count": 97,
   "outputs": [
    {
     "data": {
      "text/plain": "           old_index  name_left  highway_left  bearing_left  group_left  \\\nold_index                                                                 \n6802            6802        NaN           NaN           NaN         NaN   \n6803            6803        NaN           NaN           NaN         NaN   \n6804            6804        NaN           NaN           NaN         NaN   \n6805            6805        NaN           NaN           NaN         NaN   \n6806            6806        NaN           NaN           NaN         NaN   \n...              ...        ...           ...           ...         ...   \n11728          11728        NaN           NaN           NaN         NaN   \n11729          11729        NaN           NaN           NaN         NaN   \n11730          11730        NaN           NaN           NaN         NaN   \n11731          11731        NaN           NaN           NaN         NaN   \n11732          11732        NaN           NaN           NaN         NaN   \n\n           is_simplif_left  length_left  \\\nold_index                                 \n6802                   NaN  1629.843466   \n6803                   NaN   456.738480   \n6804                   NaN   247.492278   \n6805                   NaN    58.355067   \n6806                   NaN    65.626158   \n...                    ...          ...   \n11728                  NaN   415.725378   \n11729                  NaN   544.191938   \n11730                  NaN   910.930142   \n11731                  NaN   187.462599   \n11732                  NaN    75.098484   \n\n                                                    geometry  index_right  \\\nold_index                                                                   \n6802       LINESTRING (-13636969.933 4548334.470, -136371...        17345   \n6803       LINESTRING (-13637993.894 4548620.275, -136379...        20061   \n6804       LINESTRING (-13637898.738 4548503.808, -136379...        14872   \n6805       LINESTRING (-13637947.396 4547695.747, -136379...        20423   \n6806       LINESTRING (-13637920.802 4547422.783, -136379...        20409   \n...                                                      ...          ...   \n11728      LINESTRING (-13623910.598 4542288.799, -136239...         7552   \n11729      LINESTRING (-13622838.013 4542042.932, -136228...        11629   \n11730      LINESTRING (-13621897.853 4552776.615, -136217...        14074   \n11731      LINESTRING (-13621253.847 4553119.948, -136212...        11166   \n11732      LINESTRING (-13621253.847 4553119.948, -136212...        11166   \n\n                                 name_right            highway_right  \\\nold_index                                                              \n6802                     Point Lobos Avenue                  primary   \n6803                Sutro Baths Upper Trail                  footway   \n6804                             Merrie Way                     path   \n6805                          The Esplanade                  footway   \n6806                          The Esplanade                  footway   \n...                                     ...                      ...   \n11728                          Dedman Court              residential   \n11729      Hunter's Point Power Plant Trail  ['cycleway', 'footway']   \n11730                          Macalla Road                 tertiary   \n11731                          Healy Avenue              residential   \n11732                          Healy Avenue              residential   \n\n           bearing_right  group_right  is_simplif_right  length_right  \nold_index                                                              \n6802          137.300000           -1                 0     60.840301  \n6803           48.266667           -1                 0    277.815797  \n6804          167.740000           -1                 0     58.764249  \n6805          174.446875           -1                 0     57.464115  \n6806          174.446875           -1                 0     58.028647  \n...                  ...          ...               ...           ...  \n11728          53.500000           -1                 0      8.459059  \n11729         116.200000           -1                 0    244.169464  \n11730          72.200000           -1                 0    215.483833  \n11731         136.500000           -1                 0     59.118240  \n11732         136.500000           -1                 0     59.118240  \n\n[4931 rows x 15 columns]",
      "text/html": "<div>\n<style scoped>\n    .dataframe tbody tr th:only-of-type {\n        vertical-align: middle;\n    }\n\n    .dataframe tbody tr th {\n        vertical-align: top;\n    }\n\n    .dataframe thead th {\n        text-align: right;\n    }\n</style>\n<table border=\"1\" class=\"dataframe\">\n  <thead>\n    <tr style=\"text-align: right;\">\n      <th></th>\n      <th>old_index</th>\n      <th>name_left</th>\n      <th>highway_left</th>\n      <th>bearing_left</th>\n      <th>group_left</th>\n      <th>is_simplif_left</th>\n      <th>length_left</th>\n      <th>geometry</th>\n      <th>index_right</th>\n      <th>name_right</th>\n      <th>highway_right</th>\n      <th>bearing_right</th>\n      <th>group_right</th>\n      <th>is_simplif_right</th>\n      <th>length_right</th>\n    </tr>\n    <tr>\n      <th>old_index</th>\n      <th></th>\n      <th></th>\n      <th></th>\n      <th></th>\n      <th></th>\n      <th></th>\n      <th></th>\n      <th></th>\n      <th></th>\n      <th></th>\n      <th></th>\n      <th></th>\n      <th></th>\n      <th></th>\n      <th></th>\n    </tr>\n  </thead>\n  <tbody>\n    <tr>\n      <th>6802</th>\n      <td>6802</td>\n      <td>NaN</td>\n      <td>NaN</td>\n      <td>NaN</td>\n      <td>NaN</td>\n      <td>NaN</td>\n      <td>1629.843466</td>\n      <td>LINESTRING (-13636969.933 4548334.470, -136371...</td>\n      <td>17345</td>\n      <td>Point Lobos Avenue</td>\n      <td>primary</td>\n      <td>137.300000</td>\n      <td>-1</td>\n      <td>0</td>\n      <td>60.840301</td>\n    </tr>\n    <tr>\n      <th>6803</th>\n      <td>6803</td>\n      <td>NaN</td>\n      <td>NaN</td>\n      <td>NaN</td>\n      <td>NaN</td>\n      <td>NaN</td>\n      <td>456.738480</td>\n      <td>LINESTRING (-13637993.894 4548620.275, -136379...</td>\n      <td>20061</td>\n      <td>Sutro Baths Upper Trail</td>\n      <td>footway</td>\n      <td>48.266667</td>\n      <td>-1</td>\n      <td>0</td>\n      <td>277.815797</td>\n    </tr>\n    <tr>\n      <th>6804</th>\n      <td>6804</td>\n      <td>NaN</td>\n      <td>NaN</td>\n      <td>NaN</td>\n      <td>NaN</td>\n      <td>NaN</td>\n      <td>247.492278</td>\n      <td>LINESTRING (-13637898.738 4548503.808, -136379...</td>\n      <td>14872</td>\n      <td>Merrie Way</td>\n      <td>path</td>\n      <td>167.740000</td>\n      <td>-1</td>\n      <td>0</td>\n      <td>58.764249</td>\n    </tr>\n    <tr>\n      <th>6805</th>\n      <td>6805</td>\n      <td>NaN</td>\n      <td>NaN</td>\n      <td>NaN</td>\n      <td>NaN</td>\n      <td>NaN</td>\n      <td>58.355067</td>\n      <td>LINESTRING (-13637947.396 4547695.747, -136379...</td>\n      <td>20423</td>\n      <td>The Esplanade</td>\n      <td>footway</td>\n      <td>174.446875</td>\n      <td>-1</td>\n      <td>0</td>\n      <td>57.464115</td>\n    </tr>\n    <tr>\n      <th>6806</th>\n      <td>6806</td>\n      <td>NaN</td>\n      <td>NaN</td>\n      <td>NaN</td>\n      <td>NaN</td>\n      <td>NaN</td>\n      <td>65.626158</td>\n      <td>LINESTRING (-13637920.802 4547422.783, -136379...</td>\n      <td>20409</td>\n      <td>The Esplanade</td>\n      <td>footway</td>\n      <td>174.446875</td>\n      <td>-1</td>\n      <td>0</td>\n      <td>58.028647</td>\n    </tr>\n    <tr>\n      <th>...</th>\n      <td>...</td>\n      <td>...</td>\n      <td>...</td>\n      <td>...</td>\n      <td>...</td>\n      <td>...</td>\n      <td>...</td>\n      <td>...</td>\n      <td>...</td>\n      <td>...</td>\n      <td>...</td>\n      <td>...</td>\n      <td>...</td>\n      <td>...</td>\n      <td>...</td>\n    </tr>\n    <tr>\n      <th>11728</th>\n      <td>11728</td>\n      <td>NaN</td>\n      <td>NaN</td>\n      <td>NaN</td>\n      <td>NaN</td>\n      <td>NaN</td>\n      <td>415.725378</td>\n      <td>LINESTRING (-13623910.598 4542288.799, -136239...</td>\n      <td>7552</td>\n      <td>Dedman Court</td>\n      <td>residential</td>\n      <td>53.500000</td>\n      <td>-1</td>\n      <td>0</td>\n      <td>8.459059</td>\n    </tr>\n    <tr>\n      <th>11729</th>\n      <td>11729</td>\n      <td>NaN</td>\n      <td>NaN</td>\n      <td>NaN</td>\n      <td>NaN</td>\n      <td>NaN</td>\n      <td>544.191938</td>\n      <td>LINESTRING (-13622838.013 4542042.932, -136228...</td>\n      <td>11629</td>\n      <td>Hunter's Point Power Plant Trail</td>\n      <td>['cycleway', 'footway']</td>\n      <td>116.200000</td>\n      <td>-1</td>\n      <td>0</td>\n      <td>244.169464</td>\n    </tr>\n    <tr>\n      <th>11730</th>\n      <td>11730</td>\n      <td>NaN</td>\n      <td>NaN</td>\n      <td>NaN</td>\n      <td>NaN</td>\n      <td>NaN</td>\n      <td>910.930142</td>\n      <td>LINESTRING (-13621897.853 4552776.615, -136217...</td>\n      <td>14074</td>\n      <td>Macalla Road</td>\n      <td>tertiary</td>\n      <td>72.200000</td>\n      <td>-1</td>\n      <td>0</td>\n      <td>215.483833</td>\n    </tr>\n    <tr>\n      <th>11731</th>\n      <td>11731</td>\n      <td>NaN</td>\n      <td>NaN</td>\n      <td>NaN</td>\n      <td>NaN</td>\n      <td>NaN</td>\n      <td>187.462599</td>\n      <td>LINESTRING (-13621253.847 4553119.948, -136212...</td>\n      <td>11166</td>\n      <td>Healy Avenue</td>\n      <td>residential</td>\n      <td>136.500000</td>\n      <td>-1</td>\n      <td>0</td>\n      <td>59.118240</td>\n    </tr>\n    <tr>\n      <th>11732</th>\n      <td>11732</td>\n      <td>NaN</td>\n      <td>NaN</td>\n      <td>NaN</td>\n      <td>NaN</td>\n      <td>NaN</td>\n      <td>75.098484</td>\n      <td>LINESTRING (-13621253.847 4553119.948, -136212...</td>\n      <td>11166</td>\n      <td>Healy Avenue</td>\n      <td>residential</td>\n      <td>136.500000</td>\n      <td>-1</td>\n      <td>0</td>\n      <td>59.118240</td>\n    </tr>\n  </tbody>\n</table>\n<p>4931 rows × 15 columns</p>\n</div>"
     },
     "execution_count": 97,
     "metadata": {},
     "output_type": "execute_result"
    }
   ],
   "source": [
    "df = df.groupby(old_index).apply(lambda group: group[group['name_right']==group['name_right'].mode().iloc[0]].iloc[0])\n",
    "df"
   ],
   "metadata": {
    "collapsed": false,
    "pycharm": {
     "name": "#%%\n"
    }
   }
  },
  {
   "cell_type": "code",
   "execution_count": 153,
   "outputs": [
    {
     "ename": "NotImplementedError",
     "evalue": "Component rings have coordinate sequences, but the polygon does not",
     "output_type": "error",
     "traceback": [
      "\u001B[1;31m---------------------------------------------------------------------------\u001B[0m",
      "\u001B[1;31mNotImplementedError\u001B[0m                       Traceback (most recent call last)",
      "Cell \u001B[1;32mIn [153], line 5\u001B[0m\n\u001B[0;32m      3\u001B[0m str_to_wrk_on  \u001B[38;5;241m=\u001B[39mgroup[group[\u001B[38;5;124m'\u001B[39m\u001B[38;5;124mname_right\u001B[39m\u001B[38;5;124m'\u001B[39m]\u001B[38;5;241m.\u001B[39misin(res[res\u001B[38;5;241m==\u001B[39mres[\u001B[38;5;241m0\u001B[39m]]\u001B[38;5;241m.\u001B[39mindex)]\n\u001B[0;32m      4\u001B[0m buffer_0 \u001B[38;5;241m=\u001B[39m str_to_wrk_on\u001B[38;5;241m.\u001B[39miloc[\u001B[38;5;241m0\u001B[39m][\u001B[38;5;124m'\u001B[39m\u001B[38;5;124mgeometry\u001B[39m\u001B[38;5;124m'\u001B[39m]\u001B[38;5;241m.\u001B[39mbuffer(distance  \u001B[38;5;241m=\u001B[39m \u001B[38;5;241m20\u001B[39m, cap_style\u001B[38;5;241m=\u001B[39m\u001B[38;5;241m2\u001B[39m)\n\u001B[1;32m----> 5\u001B[0m buffer_1 \u001B[38;5;241m=\u001B[39m GeoDataFrame(geometry\u001B[38;5;241m=\u001B[39m\u001B[43mbuffer_0\u001B[49m\u001B[38;5;241;43m.\u001B[39;49m\u001B[43mcoords\u001B[49m,crs\u001B[38;5;241m=\u001B[39mproject_crs)\n\u001B[0;32m      6\u001B[0m buffer_1\n",
      "File \u001B[1;32m~\\anaconda3\\envs\\momepy_env\\lib\\site-packages\\shapely\\geometry\\polygon.py:333\u001B[0m, in \u001B[0;36mPolygon.coords\u001B[1;34m(self)\u001B[0m\n\u001B[0;32m    331\u001B[0m \u001B[38;5;129m@property\u001B[39m\n\u001B[0;32m    332\u001B[0m \u001B[38;5;28;01mdef\u001B[39;00m \u001B[38;5;21mcoords\u001B[39m(\u001B[38;5;28mself\u001B[39m):\n\u001B[1;32m--> 333\u001B[0m     \u001B[38;5;28;01mraise\u001B[39;00m \u001B[38;5;167;01mNotImplementedError\u001B[39;00m(\n\u001B[0;32m    334\u001B[0m     \u001B[38;5;124m\"\u001B[39m\u001B[38;5;124mComponent rings have coordinate sequences, but the polygon does not\u001B[39m\u001B[38;5;124m\"\u001B[39m)\n",
      "\u001B[1;31mNotImplementedError\u001B[0m: Component rings have coordinate sequences, but the polygon does not"
     ]
    }
   ],
   "source": [
    "group = df.groupby(old_index).get_group(6916)\n",
    "res = group['name_right'].value_counts().sort_values(ascending=False)\n",
    "str_to_wrk_on  =group[group['name_right'].isin(res[res==res[0]].index)]\n",
    "buffer_0 = str_to_wrk_on.iloc[0]['geometry'].buffer(distance  = 20, cap_style=2)\n",
    "buffer_1 = GeoDataFrame(geometry=buffer_0.coords,crs=project_crs)\n",
    "buffer_1\n"
   ],
   "metadata": {
    "collapsed": false,
    "pycharm": {
     "name": "#%%\n"
    }
   }
  },
  {
   "cell_type": "code",
   "execution_count": 152,
   "outputs": [
    {
     "data": {
      "text/plain": "<shapely.geometry.polygon.Polygon at 0x2a032e5f220>",
      "image/svg+xml": "<svg xmlns=\"http://www.w3.org/2000/svg\" xmlns:xlink=\"http://www.w3.org/1999/xlink\" width=\"199.37975314178038\" height=\"243.57684627361596\" viewBox=\"846747.1364476644 5633170.057158836 199.37975314178038 243.57684627361596\" preserveAspectRatio=\"xMinYMin meet\"><g transform=\"matrix(1,0,0,-1,0,11266583.691163946)\"><path fill-rule=\"evenodd\" fill=\"#66cc99\" stroke=\"#555555\" stroke-width=\"2.0\" opacity=\"0.6\" d=\"M 846806.1728552502,5633398.834400813 L 846823.4822284223,5633399.937806689 L 846823.9351931177,5633399.9615275115 L 846834.4846201099,5633400.394087925 L 846872.296430311,5633402.760950075 L 846872.3881935308,5633402.76648238 L 846903.9250052726,5633404.595069736 L 846905.8816690879,5633404.612640433 L 846907.8306852159,5633404.438921844 L 846909.7533974695,5633404.075576821 L 846911.6314014451,5633403.526083343 L 846913.4467206914,5633402.795701217 L 846915.1819787818,5633401.891421739 L 846916.8205656436,5633400.821900765 L 846918.3467965514,5633399.597375865 L 846919.7460622623,5633398.229568318 L 846921.0049688583,5633396.731570922 L 846922.111465953,5633395.117722666 L 846923.0549620403,5633393.403471474 L 846923.8264258761,5633391.605226339 L 846924.4184729278,5633389.740200252 L 846924.8254360587,5633387.826245439 L 846925.0434197751,5633385.881682477 L 846927.7262195032,5633343.146431923 L 846927.7350698215,5633342.996444475 L 846929.8435557954,5633304.825913351 L 846933.9766340303,5633243.341305697 L 846934.0096454888,5633242.693287819 L 846934.1654452239,5633238.202080422 L 846934.8736094977,5633217.86844515 L 846936.1968922075,5633201.142189328 L 846936.2146619854,5633200.898684085 L 846937.4948361294,5633181.74621979 L 846897.5838928107,5633179.078523513 L 846896.3118603856,5633198.109180961 L 846894.963390657,5633215.153799984 L 846894.9132108777,5633216.035030733 L 846894.1896341875,5633236.811205207 L 846894.0449407748,5633240.9822474765 L 846889.9256180342,5633302.262225282 L 846889.9110268606,5633302.500534998 L 846887.8001000005,5633340.715254191 L 846886.3691126587,5633363.50994958 L 846874.7494979615,5633362.836213734 L 846836.7686350512,5633360.458769586 L 846836.3385394299,5633360.436493426 L 846825.8005615342,5633360.004402462 L 846808.7167285475,5633358.915373905 L 846758.6992693834,5633355.731009299 L 846756.1578123411,5633395.650190104 L 846806.1728552502,5633398.834400813 z\" /></g></svg>"
     },
     "execution_count": 152,
     "metadata": {},
     "output_type": "execute_result"
    }
   ],
   "source": [
    "buffer_0"
   ],
   "metadata": {
    "collapsed": false,
    "pycharm": {
     "name": "#%%\n"
    }
   }
  },
  {
   "cell_type": "code",
   "execution_count": 147,
   "outputs": [
    {
     "ename": "AttributeError",
     "evalue": "'Polygon' object has no attribute 'crs'",
     "output_type": "error",
     "traceback": [
      "\u001B[1;31m---------------------------------------------------------------------------\u001B[0m",
      "\u001B[1;31mAttributeError\u001B[0m                            Traceback (most recent call last)",
      "Cell \u001B[1;32mIn [147], line 2\u001B[0m\n\u001B[0;32m      1\u001B[0m buffer_1 \u001B[38;5;241m=\u001B[39mGeoDataFrame(org_network[org_network\u001B[38;5;241m.\u001B[39mindex\u001B[38;5;241m.\u001B[39misin(str_to_wrk_on[\u001B[38;5;124m'\u001B[39m\u001B[38;5;124mindex_right\u001B[39m\u001B[38;5;124m'\u001B[39m])]\u001B[38;5;241m.\u001B[39mbuffer(distance  \u001B[38;5;241m=\u001B[39m \u001B[38;5;241m20\u001B[39m, cap_style\u001B[38;5;241m=\u001B[39m\u001B[38;5;241m2\u001B[39m))\n\u001B[1;32m----> 2\u001B[0m \u001B[43mgpd\u001B[49m\u001B[38;5;241;43m.\u001B[39;49m\u001B[43moverlay\u001B[49m\u001B[43m(\u001B[49m\u001B[43mbuffer_1\u001B[49m\u001B[43m,\u001B[49m\u001B[43m \u001B[49m\u001B[43mbuffer_0\u001B[49m\u001B[43m,\u001B[49m\u001B[43m \u001B[49m\u001B[43mhow\u001B[49m\u001B[38;5;241;43m=\u001B[39;49m\u001B[38;5;124;43m'\u001B[39;49m\u001B[38;5;124;43mintersection\u001B[39;49m\u001B[38;5;124;43m'\u001B[39;49m\u001B[43m)\u001B[49m\n",
      "File \u001B[1;32m~\\anaconda3\\envs\\momepy_env\\lib\\site-packages\\geopandas\\tools\\overlay.py:253\u001B[0m, in \u001B[0;36moverlay\u001B[1;34m(df1, df2, how, keep_geom_type, make_valid)\u001B[0m\n\u001B[0;32m    248\u001B[0m \u001B[38;5;28;01mif\u001B[39;00m \u001B[38;5;28misinstance\u001B[39m(df1, GeoSeries) \u001B[38;5;129;01mor\u001B[39;00m \u001B[38;5;28misinstance\u001B[39m(df2, GeoSeries):\n\u001B[0;32m    249\u001B[0m     \u001B[38;5;28;01mraise\u001B[39;00m \u001B[38;5;167;01mNotImplementedError\u001B[39;00m(\n\u001B[0;32m    250\u001B[0m         \u001B[38;5;124m\"\u001B[39m\u001B[38;5;124moverlay currently only implemented for \u001B[39m\u001B[38;5;124m\"\u001B[39m \u001B[38;5;124m\"\u001B[39m\u001B[38;5;124mGeoDataFrames\u001B[39m\u001B[38;5;124m\"\u001B[39m\n\u001B[0;32m    251\u001B[0m     )\n\u001B[1;32m--> 253\u001B[0m \u001B[38;5;28;01mif\u001B[39;00m \u001B[38;5;129;01mnot\u001B[39;00m \u001B[43m_check_crs\u001B[49m\u001B[43m(\u001B[49m\u001B[43mdf1\u001B[49m\u001B[43m,\u001B[49m\u001B[43m \u001B[49m\u001B[43mdf2\u001B[49m\u001B[43m)\u001B[49m:\n\u001B[0;32m    254\u001B[0m     _crs_mismatch_warn(df1, df2, stacklevel\u001B[38;5;241m=\u001B[39m\u001B[38;5;241m3\u001B[39m)\n\u001B[0;32m    256\u001B[0m \u001B[38;5;28;01mif\u001B[39;00m keep_geom_type \u001B[38;5;129;01mis\u001B[39;00m \u001B[38;5;28;01mNone\u001B[39;00m:\n",
      "File \u001B[1;32m~\\anaconda3\\envs\\momepy_env\\lib\\site-packages\\geopandas\\array.py:67\u001B[0m, in \u001B[0;36m_check_crs\u001B[1;34m(left, right, allow_none)\u001B[0m\n\u001B[0;32m     65\u001B[0m     \u001B[38;5;28;01mif\u001B[39;00m \u001B[38;5;129;01mnot\u001B[39;00m left\u001B[38;5;241m.\u001B[39mcrs \u001B[38;5;129;01mor\u001B[39;00m \u001B[38;5;129;01mnot\u001B[39;00m right\u001B[38;5;241m.\u001B[39mcrs:\n\u001B[0;32m     66\u001B[0m         \u001B[38;5;28;01mreturn\u001B[39;00m \u001B[38;5;28;01mTrue\u001B[39;00m\n\u001B[1;32m---> 67\u001B[0m \u001B[38;5;28;01mif\u001B[39;00m \u001B[38;5;129;01mnot\u001B[39;00m left\u001B[38;5;241m.\u001B[39mcrs \u001B[38;5;241m==\u001B[39m \u001B[43mright\u001B[49m\u001B[38;5;241;43m.\u001B[39;49m\u001B[43mcrs\u001B[49m:\n\u001B[0;32m     68\u001B[0m     \u001B[38;5;28;01mreturn\u001B[39;00m \u001B[38;5;28;01mFalse\u001B[39;00m\n\u001B[0;32m     69\u001B[0m \u001B[38;5;28;01mreturn\u001B[39;00m \u001B[38;5;28;01mTrue\u001B[39;00m\n",
      "\u001B[1;31mAttributeError\u001B[0m: 'Polygon' object has no attribute 'crs'"
     ]
    }
   ],
   "source": [
    "buffer_1 =GeoDataFrame(org_network[org_network.index.isin(str_to_wrk_on['index_right'])].buffer(distance  = 20, cap_style=2))\n",
    "gpd.overlay(buffer_1, buffer_0, how='intersection')"
   ],
   "metadata": {
    "collapsed": false,
    "pycharm": {
     "name": "#%%\n"
    }
   }
  },
  {
   "cell_type": "code",
   "execution_count": 139,
   "outputs": [
    {
     "data": {
      "text/plain": "     old_index name_left highway_left  bearing_left  group_left  \\\n205       6916       NaN          NaN           NaN         NaN   \n276       6916       NaN          NaN           NaN         NaN   \n277       6916       NaN          NaN           NaN         NaN   \n278       6916       NaN          NaN           NaN         NaN   \n279       6916       NaN          NaN           NaN         NaN   \n280       6916       NaN          NaN           NaN         NaN   \n281       6916       NaN          NaN           NaN         NaN   \n282       6916       NaN          NaN           NaN         NaN   \n\n     is_simplif_left  length_left  \\\n205              NaN   352.536442   \n276              NaN   352.536442   \n277              NaN   352.536442   \n278              NaN   352.536442   \n279              NaN   352.536442   \n280              NaN   352.536442   \n281              NaN   352.536442   \n282              NaN   352.536442   \n\n                                              geometry  index_right  \\\n205  LINESTRING (846757.429 5633375.691, 846807.444...        15073   \n276  LINESTRING (846757.429 5633375.691, 846807.444...        10619   \n277  LINESTRING (846757.429 5633375.691, 846807.444...        10617   \n278  LINESTRING (846757.429 5633375.691, 846807.444...        10618   \n279  LINESTRING (846757.429 5633375.691, 846807.444...        10620   \n280  LINESTRING (846757.429 5633375.691, 846807.444...        15074   \n281  LINESTRING (846757.429 5633375.691, 846807.444...        15072   \n282  LINESTRING (846757.429 5633375.691, 846807.444...        15071   \n\n                       name_right highway_right  bearing_right  group_right  \\\n205  Via Virginia Angiola Borrino   residential           86.8           -1   \n276             Via Luigi Pasteur   residential          176.2           -1   \n277             Via Luigi Pasteur   residential          176.2           -1   \n278             Via Luigi Pasteur   residential          176.2           -1   \n279             Via Luigi Pasteur   residential          176.2           -1   \n280  Via Virginia Angiola Borrino   residential           86.8           -1   \n281  Via Virginia Angiola Borrino   residential           86.8           -1   \n282  Via Virginia Angiola Borrino   residential           86.8           -1   \n\n     is_simplif_right  length_right  \n205                 0     67.462424  \n276                 0     19.195201  \n277                 0     17.219956  \n278                 0    125.374900  \n279                 0     42.819377  \n280                 0     10.773640  \n281                 0     38.101164  \n282                 0     31.589780  ",
      "text/html": "<div>\n<style scoped>\n    .dataframe tbody tr th:only-of-type {\n        vertical-align: middle;\n    }\n\n    .dataframe tbody tr th {\n        vertical-align: top;\n    }\n\n    .dataframe thead th {\n        text-align: right;\n    }\n</style>\n<table border=\"1\" class=\"dataframe\">\n  <thead>\n    <tr style=\"text-align: right;\">\n      <th></th>\n      <th>old_index</th>\n      <th>name_left</th>\n      <th>highway_left</th>\n      <th>bearing_left</th>\n      <th>group_left</th>\n      <th>is_simplif_left</th>\n      <th>length_left</th>\n      <th>geometry</th>\n      <th>index_right</th>\n      <th>name_right</th>\n      <th>highway_right</th>\n      <th>bearing_right</th>\n      <th>group_right</th>\n      <th>is_simplif_right</th>\n      <th>length_right</th>\n    </tr>\n  </thead>\n  <tbody>\n    <tr>\n      <th>205</th>\n      <td>6916</td>\n      <td>NaN</td>\n      <td>NaN</td>\n      <td>NaN</td>\n      <td>NaN</td>\n      <td>NaN</td>\n      <td>352.536442</td>\n      <td>LINESTRING (846757.429 5633375.691, 846807.444...</td>\n      <td>15073</td>\n      <td>Via Virginia Angiola Borrino</td>\n      <td>residential</td>\n      <td>86.8</td>\n      <td>-1</td>\n      <td>0</td>\n      <td>67.462424</td>\n    </tr>\n    <tr>\n      <th>276</th>\n      <td>6916</td>\n      <td>NaN</td>\n      <td>NaN</td>\n      <td>NaN</td>\n      <td>NaN</td>\n      <td>NaN</td>\n      <td>352.536442</td>\n      <td>LINESTRING (846757.429 5633375.691, 846807.444...</td>\n      <td>10619</td>\n      <td>Via Luigi Pasteur</td>\n      <td>residential</td>\n      <td>176.2</td>\n      <td>-1</td>\n      <td>0</td>\n      <td>19.195201</td>\n    </tr>\n    <tr>\n      <th>277</th>\n      <td>6916</td>\n      <td>NaN</td>\n      <td>NaN</td>\n      <td>NaN</td>\n      <td>NaN</td>\n      <td>NaN</td>\n      <td>352.536442</td>\n      <td>LINESTRING (846757.429 5633375.691, 846807.444...</td>\n      <td>10617</td>\n      <td>Via Luigi Pasteur</td>\n      <td>residential</td>\n      <td>176.2</td>\n      <td>-1</td>\n      <td>0</td>\n      <td>17.219956</td>\n    </tr>\n    <tr>\n      <th>278</th>\n      <td>6916</td>\n      <td>NaN</td>\n      <td>NaN</td>\n      <td>NaN</td>\n      <td>NaN</td>\n      <td>NaN</td>\n      <td>352.536442</td>\n      <td>LINESTRING (846757.429 5633375.691, 846807.444...</td>\n      <td>10618</td>\n      <td>Via Luigi Pasteur</td>\n      <td>residential</td>\n      <td>176.2</td>\n      <td>-1</td>\n      <td>0</td>\n      <td>125.374900</td>\n    </tr>\n    <tr>\n      <th>279</th>\n      <td>6916</td>\n      <td>NaN</td>\n      <td>NaN</td>\n      <td>NaN</td>\n      <td>NaN</td>\n      <td>NaN</td>\n      <td>352.536442</td>\n      <td>LINESTRING (846757.429 5633375.691, 846807.444...</td>\n      <td>10620</td>\n      <td>Via Luigi Pasteur</td>\n      <td>residential</td>\n      <td>176.2</td>\n      <td>-1</td>\n      <td>0</td>\n      <td>42.819377</td>\n    </tr>\n    <tr>\n      <th>280</th>\n      <td>6916</td>\n      <td>NaN</td>\n      <td>NaN</td>\n      <td>NaN</td>\n      <td>NaN</td>\n      <td>NaN</td>\n      <td>352.536442</td>\n      <td>LINESTRING (846757.429 5633375.691, 846807.444...</td>\n      <td>15074</td>\n      <td>Via Virginia Angiola Borrino</td>\n      <td>residential</td>\n      <td>86.8</td>\n      <td>-1</td>\n      <td>0</td>\n      <td>10.773640</td>\n    </tr>\n    <tr>\n      <th>281</th>\n      <td>6916</td>\n      <td>NaN</td>\n      <td>NaN</td>\n      <td>NaN</td>\n      <td>NaN</td>\n      <td>NaN</td>\n      <td>352.536442</td>\n      <td>LINESTRING (846757.429 5633375.691, 846807.444...</td>\n      <td>15072</td>\n      <td>Via Virginia Angiola Borrino</td>\n      <td>residential</td>\n      <td>86.8</td>\n      <td>-1</td>\n      <td>0</td>\n      <td>38.101164</td>\n    </tr>\n    <tr>\n      <th>282</th>\n      <td>6916</td>\n      <td>NaN</td>\n      <td>NaN</td>\n      <td>NaN</td>\n      <td>NaN</td>\n      <td>NaN</td>\n      <td>352.536442</td>\n      <td>LINESTRING (846757.429 5633375.691, 846807.444...</td>\n      <td>15071</td>\n      <td>Via Virginia Angiola Borrino</td>\n      <td>residential</td>\n      <td>86.8</td>\n      <td>-1</td>\n      <td>0</td>\n      <td>31.589780</td>\n    </tr>\n  </tbody>\n</table>\n</div>"
     },
     "execution_count": 139,
     "metadata": {},
     "output_type": "execute_result"
    }
   ],
   "source": [],
   "metadata": {
    "collapsed": false,
    "pycharm": {
     "name": "#%%\n"
    }
   }
  },
  {
   "cell_type": "code",
   "execution_count": null,
   "outputs": [],
   "source": [
    "group[group.index]"
   ],
   "metadata": {
    "collapsed": false,
    "pycharm": {
     "name": "#%%\n"
    }
   }
  },
  {
   "cell_type": "code",
   "execution_count": 98,
   "outputs": [],
   "source": [
    "df.drop(columns='length_right',inplace=True)\n",
    "rel_col = [col for col in df.columns if col.endswith(\"right\")] + ['length_left','geometry']\n",
    "df =df [rel_col]\n",
    "# Replace '_right' with an empty string for all column names\n",
    "df.columns = df.columns.str.replace(r'_right$', '', regex=True)\n",
    "df.columns = df.columns.str.replace(r'_left$', '', regex=True)\n",
    "df = df.drop(columns='index')\n",
    "df.index.name = None\n",
    "df.to_file(f'{data_folder}/delete_2_nodes/no_name_new.shp')"
   ],
   "metadata": {
    "collapsed": false,
    "pycharm": {
     "name": "#%%\n"
    }
   }
  },
  {
   "cell_type": "code",
   "execution_count": 46,
   "outputs": [
    {
     "data": {
      "text/plain": "                                      name                  highway  \\\n6802                         Great Highway                  primary   \n6803               Sutro Baths Upper Trail                  footway   \n6804                            Merrie Way                     path   \n6805                         The Esplanade                  footway   \n6806                         The Esplanade                  footway   \n...                                    ...                      ...   \n11728                         Dedman Court              residential   \n11729     Hunter's Point Power Plant Trail  ['cycleway', 'footway']   \n11730                         Macalla Road                 tertiary   \n11731  ['Healy Avenue', 'North Gate Road']              residential   \n11732                         Healy Avenue              residential   \n\n          bearing  group  is_simplif       length       length  \\\n6802   174.211268      0           1  1481.048301  1629.843466   \n6803    48.266667     -1           0   277.815797   456.738480   \n6804   167.740000     -1           0    58.764249   247.492278   \n6805   174.446875     -1           0    57.775284    58.355067   \n6806   174.446875     -1           0    58.028647    65.626158   \n...           ...    ...         ...          ...          ...   \n11728   53.500000     -1           0   101.643735   415.725378   \n11729  116.200000     -1           0   244.169464   544.191938   \n11730  113.300000     -1           0   327.679083   910.930142   \n11731  102.100000     -1           0   187.462599   187.462599   \n11732  136.500000     -1           0    59.118240    75.098484   \n\n                                                geometry  \n6802   LINESTRING (-13636969.933 4548334.470, -136371...  \n6803   LINESTRING (-13637993.894 4548620.275, -136379...  \n6804   LINESTRING (-13637898.738 4548503.808, -136379...  \n6805   LINESTRING (-13637947.396 4547695.747, -136379...  \n6806   LINESTRING (-13637920.802 4547422.783, -136379...  \n...                                                  ...  \n11728  LINESTRING (-13623910.598 4542288.799, -136239...  \n11729  LINESTRING (-13622838.013 4542042.932, -136228...  \n11730  LINESTRING (-13621897.853 4552776.615, -136217...  \n11731  LINESTRING (-13621253.847 4553119.948, -136212...  \n11732  LINESTRING (-13621253.847 4553119.948, -136212...  \n\n[4931 rows x 8 columns]",
      "text/html": "<div>\n<style scoped>\n    .dataframe tbody tr th:only-of-type {\n        vertical-align: middle;\n    }\n\n    .dataframe tbody tr th {\n        vertical-align: top;\n    }\n\n    .dataframe thead th {\n        text-align: right;\n    }\n</style>\n<table border=\"1\" class=\"dataframe\">\n  <thead>\n    <tr style=\"text-align: right;\">\n      <th></th>\n      <th>name</th>\n      <th>highway</th>\n      <th>bearing</th>\n      <th>group</th>\n      <th>is_simplif</th>\n      <th>length</th>\n      <th>length</th>\n      <th>geometry</th>\n    </tr>\n  </thead>\n  <tbody>\n    <tr>\n      <th>6802</th>\n      <td>Great Highway</td>\n      <td>primary</td>\n      <td>174.211268</td>\n      <td>0</td>\n      <td>1</td>\n      <td>1481.048301</td>\n      <td>1629.843466</td>\n      <td>LINESTRING (-13636969.933 4548334.470, -136371...</td>\n    </tr>\n    <tr>\n      <th>6803</th>\n      <td>Sutro Baths Upper Trail</td>\n      <td>footway</td>\n      <td>48.266667</td>\n      <td>-1</td>\n      <td>0</td>\n      <td>277.815797</td>\n      <td>456.738480</td>\n      <td>LINESTRING (-13637993.894 4548620.275, -136379...</td>\n    </tr>\n    <tr>\n      <th>6804</th>\n      <td>Merrie Way</td>\n      <td>path</td>\n      <td>167.740000</td>\n      <td>-1</td>\n      <td>0</td>\n      <td>58.764249</td>\n      <td>247.492278</td>\n      <td>LINESTRING (-13637898.738 4548503.808, -136379...</td>\n    </tr>\n    <tr>\n      <th>6805</th>\n      <td>The Esplanade</td>\n      <td>footway</td>\n      <td>174.446875</td>\n      <td>-1</td>\n      <td>0</td>\n      <td>57.775284</td>\n      <td>58.355067</td>\n      <td>LINESTRING (-13637947.396 4547695.747, -136379...</td>\n    </tr>\n    <tr>\n      <th>6806</th>\n      <td>The Esplanade</td>\n      <td>footway</td>\n      <td>174.446875</td>\n      <td>-1</td>\n      <td>0</td>\n      <td>58.028647</td>\n      <td>65.626158</td>\n      <td>LINESTRING (-13637920.802 4547422.783, -136379...</td>\n    </tr>\n    <tr>\n      <th>...</th>\n      <td>...</td>\n      <td>...</td>\n      <td>...</td>\n      <td>...</td>\n      <td>...</td>\n      <td>...</td>\n      <td>...</td>\n      <td>...</td>\n    </tr>\n    <tr>\n      <th>11728</th>\n      <td>Dedman Court</td>\n      <td>residential</td>\n      <td>53.500000</td>\n      <td>-1</td>\n      <td>0</td>\n      <td>101.643735</td>\n      <td>415.725378</td>\n      <td>LINESTRING (-13623910.598 4542288.799, -136239...</td>\n    </tr>\n    <tr>\n      <th>11729</th>\n      <td>Hunter's Point Power Plant Trail</td>\n      <td>['cycleway', 'footway']</td>\n      <td>116.200000</td>\n      <td>-1</td>\n      <td>0</td>\n      <td>244.169464</td>\n      <td>544.191938</td>\n      <td>LINESTRING (-13622838.013 4542042.932, -136228...</td>\n    </tr>\n    <tr>\n      <th>11730</th>\n      <td>Macalla Road</td>\n      <td>tertiary</td>\n      <td>113.300000</td>\n      <td>-1</td>\n      <td>0</td>\n      <td>327.679083</td>\n      <td>910.930142</td>\n      <td>LINESTRING (-13621897.853 4552776.615, -136217...</td>\n    </tr>\n    <tr>\n      <th>11731</th>\n      <td>['Healy Avenue', 'North Gate Road']</td>\n      <td>residential</td>\n      <td>102.100000</td>\n      <td>-1</td>\n      <td>0</td>\n      <td>187.462599</td>\n      <td>187.462599</td>\n      <td>LINESTRING (-13621253.847 4553119.948, -136212...</td>\n    </tr>\n    <tr>\n      <th>11732</th>\n      <td>Healy Avenue</td>\n      <td>residential</td>\n      <td>136.500000</td>\n      <td>-1</td>\n      <td>0</td>\n      <td>59.118240</td>\n      <td>75.098484</td>\n      <td>LINESTRING (-13621253.847 4553119.948, -136212...</td>\n    </tr>\n  </tbody>\n</table>\n<p>4931 rows × 8 columns</p>\n</div>"
     },
     "execution_count": 46,
     "metadata": {},
     "output_type": "execute_result"
    }
   ],
   "source": [
    "df"
   ],
   "metadata": {
    "collapsed": false,
    "pycharm": {
     "name": "#%%\n"
    }
   }
  },
  {
   "cell_type": "code",
   "execution_count": null,
   "outputs": [],
   "source": [
    "\n",
    "my_network"
   ],
   "metadata": {
    "collapsed": false,
    "pycharm": {
     "name": "#%%\n"
    }
   }
  },
  {
   "cell_type": "code",
   "execution_count": null,
   "outputs": [],
   "source": [
    "def delete_false_intersection(self,name_to_splt='name'):\n",
    "\n",
    "        if 'length' in self.my_network.columns: # To run the code smoothly we need to remove 'length' col if exist\n",
    "            self.my_network.drop(columns='length',inplace= True)\n",
    "        org_network= self.my_network.copy()\n",
    "        # It should be executed twice in order to clean all\n",
    "        for _  in range(2):\n",
    "            # First clean all the false node\n",
    "            self.my_network = remove_false_nodes(self.my_network)\n",
    "            # the previous function has changed the topology so the length should be updated\n",
    "            self.my_network['length'] =self.my_network.length\n",
    "            self.my_network  =self.my_network.drop_duplicates(subset='length') # remove false intersection duplicate many polyline which should be removed\n",
    "            self.my_network.reset_index(drop=True,inplace= True) # Changes has been made to the geometry so the index should be reset\n",
    "\n",
    "        # Update street when it is empty\n",
    "        def update_street_name():\n",
    "            \"\"\"\n",
    "            The function: remove_false_nodes delete the polyline street names so this method repair that by found for those without name the closet polyline from the original dataframe and use its name.\n",
    "            :return:\n",
    "            \"\"\"\n",
    "            df1= self.my_network\n",
    "            # Split df1 into two GeoDataFrames: df3 (with names) and df4 (without names)\n",
    "            df3 = df1[df1[name_to_splt].notna()]\n",
    "            df4 = df1[df1[name_to_splt].isna()]\n",
    "            df = gpd.sjoin_nearest(df4,org_network)\n",
    "            # use only one polyline from the original dataframe for name even if the algorithm may found more\n",
    "            df = df.reset_index().drop_duplicates(subset='index', keep='first').set_index('index',drop=True)\n",
    "            rel_col = [col for col in df.columns if col.endswith(\"right\")] + ['length','geometry']\n",
    "            df =df [rel_col]\n",
    "            # Replace '_right' with an empty string for all column names\n",
    "            df.columns = df.columns.str.replace(r'_right$', '', regex=True)\n",
    "            df = df.drop(columns='index')\n",
    "            df.index.name = None\n",
    "            self.my_network =  df.append(df3)\n",
    "\n",
    "        update_street_name()\n"
   ],
   "metadata": {
    "collapsed": false,
    "pycharm": {
     "name": "#%%\n"
    }
   }
  },
  {
   "cell_type": "code",
   "execution_count": 11,
   "outputs": [
    {
     "name": "stderr",
     "output_type": "stream",
     "text": [
      "100%|██████████| 56363/56363 [00:09<00:00, 6177.20it/s]\n",
      "100%|██████████| 1543/1543 [00:08<00:00, 178.94it/s]\n"
     ]
    }
   ],
   "source": [
    "obj_intersection.delete_false_intersection()\n",
    "\n",
    "obj_intersection.my_network.to_file(f'{data_folder}/delete_2_nodes/top_0_0.shp')\n",
    "obj_intersection.intersection_network()\n",
    "obj_intersection.my_network.to_file(f'{data_folder}/split_tp_intersection/top_0.shp')"
   ],
   "metadata": {
    "collapsed": false,
    "pycharm": {
     "name": "#%%\n"
    }
   }
  },
  {
   "cell_type": "code",
   "execution_count": 77,
   "outputs": [],
   "source": [
    "\n",
    "line_name ='line_name'\n",
    "if is_junction:\n",
    "\n",
    "    exist_data= obj_intersection.my_network.reset_index().reset_index(names=line_name)\n",
    "    my_roundabout=Roundabout(exist_data)\n",
    "    deadend_lines, deadend_pnts = my_roundabout.deadend()\n",
    "\n",
    "    # update the current network\n",
    "    change_geo = my_roundabout.my_spatial_join(deadend_lines, deadend_pnts,line_name)\n",
    "    my_roundabout.update_the_current_network(change_geo)\n",
    "\n",
    "    my_roundabout.network.drop_duplicates(subset=line_name,inplace=True)\n",
    "    # Improve roundabout\n",
    "    # First buffer around centroid\n",
    "    centr_name= 'centr_name'\n",
    "    buffer_around_centroid= my_roundabout.centroid['geometry'].buffer(cap_style=1, distance=30)\n",
    "\n",
    "    # s_join between buffer to lines (reset index to retain the original centroid name which can apper more than one in the results). always stay with data you need and with understandable name\n",
    "    roundabout_with_lines =gpd.sjoin(left_df=GeoDataFrame(geometry=buffer_around_centroid,crs=project_crs).reset_index(),right_df=my_roundabout.network[['geometry',line_name]]).drop_duplicates(subset=['index',line_name]).rename(columns={\"index\":centr_name})[['geometry',line_name,centr_name]]\n",
    "\n",
    "    # To facilitate the searching process\n",
    "    my_roundabout.network.set_index(line_name,inplace=True)\n",
    "    # To facilitate easy access to point centroid geometry data, it is advisable to store the information in an object that provides efficient retrieval.\n",
    "    pnt_centroid_temp = my_roundabout.centroid['geometry']\n",
    "    #  Group the data by centroid\n",
    "    for center_line in roundabout_with_lines.groupby(centr_name):\n",
    "        #  Iterate over each group after performing a groupby() operation\n",
    "        for center in center_line[1].itertuples():\n",
    "            # Find the line that connects to the current centroid and obtain its vertices\n",
    "            line_to_test = my_roundabout.network.loc[center[2]]\n",
    "            vertices_line = list(line_to_test['geometry'].coords)\n",
    "            pnt_test = [vertices_line[0],vertices_line[-1]]\n",
    "            # To determine if the current line is already connected to the current centroid,.\n",
    "            is_connected = my_roundabout.centroid[my_roundabout.centroid['geometry'].isin([Point(pnt_test[0]),Point(pnt_test[-1])])]\n",
    "            if len(is_connected)>0 and center[3] in is_connected['name']:\n",
    "                continue\n",
    "\n",
    "            if len(vertices_line)==2:\n",
    "                vertices_line.insert(1, pnt_centroid_temp[center[3]])\n",
    "            else:\n",
    "                my_list = [pnt_centroid_temp[center[3]].distance(Point(temp)) for temp in vertices_line]\n",
    "                # Find the minimum index\n",
    "                min_index = min(range(len(my_list)), key=my_list.__getitem__)\n",
    "                if min_index ==0:\n",
    "                    vertices_line.insert(0,pnt_centroid_temp[center[3]])\n",
    "                elif min_index == len(my_list)-1:\n",
    "                    vertices_line.append(pnt_centroid_temp[center[3]])\n",
    "                else:\n",
    "                    vertices_line[min_index] = pnt_centroid_temp[center[3]]\n",
    "            new_geo = LineString(vertices_line)\n",
    "            my_roundabout.network.at[center[2],'geometry'] = new_geo\n",
    "# Extend\n",
    "    new_network2 = my_roundabout.network.reset_index()\n",
    "    new_network2.drop(columns='index',inplace=True)\n",
    "else:\n",
    "    new_network2=  obj_intersection.my_network.reset_index()\n",
    "\n",
    "new_network2.to_file(f'{data_folder}/ra_network.shp')\n"
   ],
   "metadata": {
    "collapsed": false,
    "pycharm": {
     "name": "#%%\n"
    }
   }
  },
  {
   "cell_type": "code",
   "execution_count": 78,
   "outputs": [],
   "source": [
    "extend_lines_f= extend_lines(new_network2,100)\n",
    "extend_lines_f['length'] = extend_lines_f.length\n",
    "extend_lines_f.to_file(f'{data_folder}/extend_network.shp')\n",
    "\n",
    "obj_intersection_1 = Intersection(extend_lines_f.copy(),1)\n",
    "obj_intersection_1.delete_false_intersection('str_name')\n",
    "obj_intersection_1.my_network.to_file(f'{data_folder}/delete_2_nodes/top_20.shp')"
   ],
   "metadata": {
    "collapsed": false,
    "pycharm": {
     "name": "#%%\n"
    }
   }
  },
  {
   "cell_type": "code",
   "execution_count": 79,
   "outputs": [
    {
     "name": "stderr",
     "output_type": "stream",
     "text": [
      " 91%|█████████ | 49758/54734 [00:07<00:00, 6464.56it/s]"
     ]
    },
    {
     "name": "stdout",
     "output_type": "stream",
     "text": [
      "6409,11000:GEOMETRYCOLLECTION (LINESTRING (849247.5855611513 5630512.478084865, 849222.2137190597 5630513.776590068), POINT (849247.096878846 5630514.638943701))\n",
      "11000,6409:GEOMETRYCOLLECTION (LINESTRING (849222.2137190597 5630513.776590068, 849247.5855611513 5630512.478084865), POINT (849247.096878846 5630514.638943701))\n"
     ]
    },
    {
     "name": "stderr",
     "output_type": "stream",
     "text": [
      "100%|██████████| 54734/54734 [00:08<00:00, 6186.78it/s]\n",
      "100%|██████████| 945/945 [00:04<00:00, 195.26it/s]\n"
     ]
    }
   ],
   "source": [
    "obj_intersection_1.intersection_network()"
   ],
   "metadata": {
    "collapsed": false,
    "pycharm": {
     "name": "#%%\n"
    }
   }
  },
  {
   "cell_type": "code",
   "execution_count": 80,
   "outputs": [],
   "source": [
    "# Clear short segments\n",
    "final2 = EnvEntity(obj_intersection_1.my_network.reset_index())\n",
    "final2.update_the_current_network(final2.get_deadend_gdf(delete_short=100))\n",
    "final2.network.to_file(f'{data_folder}/final2.shp')"
   ],
   "metadata": {
    "collapsed": false,
    "pycharm": {
     "name": "#%%\n"
    }
   }
  },
  {
   "cell_type": "code",
   "execution_count": null,
   "outputs": [],
   "source": [],
   "metadata": {
    "collapsed": false,
    "pycharm": {
     "name": "#%%\n"
    }
   }
  }
 ],
 "metadata": {
  "kernelspec": {
   "display_name": "Python 3 (ipykernel)",
   "language": "python",
   "name": "python3"
  },
  "language_info": {
   "codemirror_mode": {
    "name": "ipython",
    "version": 3
   },
   "file_extension": ".py",
   "mimetype": "text/x-python",
   "name": "python",
   "nbconvert_exporter": "python",
   "pygments_lexer": "ipython3",
   "version": "3.10.6"
  }
 },
 "nbformat": 4,
 "nbformat_minor": 1
}