{
 "cells": [
  {
   "metadata": {
    "ExecuteTime": {
     "end_time": "2024-12-17T07:36:28.633073Z",
     "start_time": "2024-12-17T07:36:28.612014Z"
    }
   },
   "cell_type": "code",
   "source": [
    "## Run when initialise the code\n",
    "from Code.Code_test.general_functions_test import *\n",
    "import geopandas as gpd\n",
    "import osmnx as ox\n",
    "from geopandas import GeoDataFrame, GeoSeries\n",
    "from osmnx import io\n",
    "\n",
    "from pandas import DataFrame\n",
    "\n",
    "project_crs = 'epsg:3857'\n",
    "from sklearn.cluster import DBSCAN\n",
    "from shapely.geometry import Point, LineString, MultiPolygon\n",
    "import math\n",
    "import warnings\n",
    "import pandas as pd\n",
    "\n",
    "from tqdm import tqdm\n",
    "\n",
    "warnings.filterwarnings(action='ignore')\n",
    "from momepy import extend_lines\n",
    "\n",
    "pjr_loc = os.path.dirname(os.getcwd())\n",
    "from itertools import combinations\n",
    "import numpy as np\n",
    "from math import log2"
   ],
   "id": "f588417895c1cfb8",
   "execution_count": 5,
   "outputs": []
  },
  {
   "metadata": {
    "ExecuteTime": {
     "end_time": "2024-12-17T06:39:04.616834Z",
     "start_time": "2024-12-17T06:38:25.264781Z"
    }
   },
   "cell_type": "code",
   "source": [
    "# In this example, the data is extracted from OSM by specifying a location's name The code is designed to handle multiple polygons or location names seamlessly.\n",
    "# 'San Francisco, California','Turin,Italy'\n",
    "# Download data from OpenStreetMap, project it, and convert it to a GeoDataFrame. OSMnx automatically resolves topology errors and retrieves only the street-related polylines.\n",
    "for place in ['Santa Barbara, California']:\n",
    "\n",
    "    if place == 'Tel Aviv':\n",
    "        useful_tags_path = ['name:en', 'highway', 'length', 'bearing', 'tunnel', 'junction']\n",
    "        ox.utils.config(useful_tags_way=useful_tags_path)\n",
    "    my_preprocessing = Preprocessing(place)\n",
    "    data_folder = my_preprocessing.create_folder()\n",
    "    graph = ox.graph_from_place(place, network_type='all')\n",
    "    print('finish to download data')\n",
    "    graph = ox.bearing.add_edge_bearings(graph, precision=1)\n",
    "    graph_pro = ox.projection.project_graph(graph, to_crs=project_crs)\n",
    "    io.save_graph_geopackage(graph_pro, filepath=f'{data_folder}/osm_data.gpkg', encoding='utf-8', directed=False)"
   ],
   "id": "16d5948fd3e51b66",
   "execution_count": 2,
   "outputs": []
  },
  {
   "metadata": {
    "ExecuteTime": {
     "end_time": "2024-12-17T07:36:41.060251Z",
     "start_time": "2024-12-17T07:36:36.044124Z"
    }
   },
   "cell_type": "code",
   "source": [
    "place = 'Santa Barbara, California'\n",
    "my_preprocessing = Preprocessing(place)\n",
    "data_folder = my_preprocessing.create_folder()\n",
    "my_preprocessing.first_filtering()"
   ],
   "id": "2b8995182b589d4",
   "execution_count": 6,
   "outputs": []
  },
  {
   "metadata": {
    "ExecuteTime": {
     "end_time": "2024-12-17T07:36:41.113245Z",
     "start_time": "2024-12-17T07:36:41.063008Z"
    }
   },
   "cell_type": "code",
   "source": "my_preprocessing.df_pro",
   "id": "f759b0a585dd98e6",
   "execution_count": 7,
   "outputs": []
  },
  {
   "metadata": {},
   "cell_type": "code",
   "execution_count": 10,
   "source": [
    "my_preprocessing.df_pro.to_file(f'{data_folder}/before_df.shp')\n",
    "print('calculate simplification')"
   ],
   "id": "958c7af3ca1fc7ca",
   "outputs": []
  },
  {
   "metadata": {},
   "cell_type": "code",
   "execution_count": null,
   "source": "",
   "id": "6ad3a8fb60ec7a97",
   "outputs": []
  }
 ],
 "metadata": {
  "kernelspec": {
   "display_name": "Python 3",
   "language": "python",
   "name": "python3"
  },
  "language_info": {
   "codemirror_mode": {
    "name": "ipython",
    "version": 2
   },
   "file_extension": ".py",
   "mimetype": "text/x-python",
   "name": "python",
   "nbconvert_exporter": "python",
   "pygments_lexer": "ipython2",
   "version": "2.7.6"
  }
 },
 "nbformat": 4,
 "nbformat_minor": 5
}
